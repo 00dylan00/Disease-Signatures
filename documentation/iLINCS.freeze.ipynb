{
 "cells": [
  {
   "cell_type": "markdown",
   "id": "e9482c5d-4b07-45df-a876-4194ace1c003",
   "metadata": {},
   "source": [
    "# iLINCS Freeze"
   ]
  },
  {
   "cell_type": "markdown",
   "id": "b5c5ddc0-80a8-46e8-b296-5206193f40c9",
   "metadata": {},
   "source": [
    "## iLINCS Freeze: CSV"
   ]
  },
  {
   "cell_type": "code",
   "execution_count": null,
   "id": "05b46168",
   "metadata": {},
   "outputs": [],
   "source": []
  },
  {
   "cell_type": "code",
   "execution_count": 1,
   "id": "c6a84b92-adfa-414b-9fc8-ea04e6c00aeb",
   "metadata": {
    "tags": []
   },
   "outputs": [
    {
     "name": "stderr",
     "output_type": "stream",
     "text": [
      "2023-11-24 10:58:47,295 - INFO - iLINCS Freeze: CSV\n"
     ]
    },
    {
     "name": "stdout",
     "output_type": "stream",
     "text": [
      "Failed to retrieve data\n"
     ]
    },
    {
     "ename": "TypeError",
     "evalue": "object of type 'NoneType' has no len()",
     "output_type": "error",
     "traceback": [
      "\u001b[0;31m---------------------------------------------------------------------------\u001b[0m",
      "\u001b[0;31mTypeError\u001b[0m                                 Traceback (most recent call last)",
      "Cell \u001b[0;32mIn[1], line 159\u001b[0m\n\u001b[1;32m    156\u001b[0m \u001b[38;5;66;03m# 2. Retrieve Data\u001b[39;00m\n\u001b[1;32m    157\u001b[0m \u001b[38;5;66;03m# get signatures\u001b[39;00m\n\u001b[1;32m    158\u001b[0m signatures \u001b[38;5;241m=\u001b[39m get_signatures()\n\u001b[0;32m--> 159\u001b[0m logging\u001b[38;5;241m.\u001b[39minfo(\u001b[38;5;124mf\u001b[39m\u001b[38;5;124m\"\u001b[39m\u001b[38;5;124mNº Retrieved Signatures \u001b[39m\u001b[38;5;132;01m{\u001b[39;00m\u001b[38;5;28mlen\u001b[39m(signatures)\u001b[38;5;132;01m}\u001b[39;00m\u001b[38;5;124m\"\u001b[39m)\n\u001b[1;32m    161\u001b[0m \u001b[38;5;66;03m# get datasets\u001b[39;00m\n\u001b[1;32m    162\u001b[0m datasets \u001b[38;5;241m=\u001b[39m get_datasets()\n",
      "\u001b[0;31mTypeError\u001b[0m: object of type 'NoneType' has no len()"
     ]
    }
   ],
   "source": [
    "\"\"\"\n",
    "iLINCS Freeze: CSV\n",
    "\n",
    "Here we will attempt to freeze the iLINCS database. It will be stored to CSV files!\n",
    "\n",
    "Structure:\n",
    "    1. Imports, Variables, Functions\n",
    "    2. Retrieve Data\n",
    "    3. Parse Data\n",
    "    4. Store Data\n",
    "\n",
    "\"\"\"\n",
    "\n",
    "# 1. Imports, Variables, Functions\n",
    "# imports\n",
    "import requests, os\n",
    "import pandas as pd\n",
    "import logging\n",
    "# Remove any existing handlers associated with the root logger.\n",
    "for handler in logging.root.handlers[:]:\n",
    "    logging.root.removeHandler(handler)\n",
    "\n",
    "# Reconfigure logging\n",
    "logging.basicConfig(level=logging.INFO, format=\"%(asctime)s - %(levelname)s - %(message)s\")\n",
    "logging.info(\"iLINCS Freeze: CSV\")\n",
    "\n",
    "# variabels\n",
    "OUTPUT_PATH = \"../data/iLINCS\"\n",
    "\n",
    "# functions\n",
    "def get_signatures():\n",
    "    \"\"\"\n",
    "    get_signatures\n",
    "    Retrieves a list of signatures from the iLINCS API.\n",
    "\n",
    "    Parameters:\n",
    "    - None\n",
    "\n",
    "    Returns:\n",
    "    - List[Dict]:\n",
    "        A list of dictionaries, each representing a signature. Returns None in case of failure.\n",
    "    \"\"\"\n",
    "    url = 'http://www.ilincs.org/api/SignatureMeta?' \n",
    "    url = 'http://www.ilincs.org/api/SignatureMeta?' \n",
    "    response = requests.get(url)\n",
    "    if response.status_code == 200:\n",
    "        data = response.json()\n",
    "        return data\n",
    "    else:\n",
    "        print(\"Failed to retrieve data\")\n",
    "        return None\n",
    "\n",
    "def get_datasets():\n",
    "    \"\"\"\n",
    "    get_datasets\n",
    "    Retrieves a list of datasets from the iLINCS API.\n",
    "\n",
    "    Parameters:\n",
    "    - None\n",
    "\n",
    "    Returns:\n",
    "    - List[Dict]: \n",
    "        A list of dictionaries, each representing a dataset. Returns None in case of failure.\n",
    "    \"\"\"\n",
    "    #url = 'http://www.ilincs.org/api/PublicDatasets?filter={\"limit\":1000}' \n",
    "    url = 'http://www.ilincs.org/api/PublicDatasets?' \n",
    "    response = requests.get(url)\n",
    "    if response.status_code == 200:\n",
    "        return response.json()\n",
    "    else:\n",
    "        print(\"Failed to retrieve datasets\")\n",
    "        return None\n",
    "\n",
    "\n",
    "def get_genes():\n",
    "    \"\"\"\n",
    "    get_genes\n",
    "    Retrieves gene information from the iLINCS API.\n",
    "\n",
    "    Parameters:\n",
    "    - None\n",
    "\n",
    "    Returns:\n",
    "    - List[Dict]: \n",
    "        A list of dictionaries, each representing a gene. Returns None in case of failure.\n",
    "    \"\"\"\n",
    "    url = 'http://www.ilincs.org/api/GeneInfos?' \n",
    "    response = requests.get(url)\n",
    "    if response.status_code == 200:\n",
    "        return response.json()\n",
    "    else:\n",
    "        print(\"Failed to retrieve genes\")\n",
    "        return None\n",
    "\n",
    "def get_compounds():\n",
    "    \"\"\"\n",
    "    get_compounds\n",
    "    Retrieves a list of compounds from the iLINCS API.\n",
    "\n",
    "    Parameters:\n",
    "    - None\n",
    "\n",
    "    Returns:\n",
    "    - List[Dict]: A list of dictionaries, each representing a compound. Returns None in case of failure.\n",
    "    \"\"\"\n",
    "    url = 'http://www.ilincs.org/api/Compounds?' \n",
    "    response = requests.get(url)\n",
    "    if response.status_code == 200:\n",
    "        return response.json()\n",
    "    else:\n",
    "        print(\"Failed to retrieve compounds\")\n",
    "        return None\n",
    "\n",
    "\n",
    "def save_to_csv(data, filename):\n",
    "    \"\"\"\n",
    "    save_to_csv\n",
    "    Saves given data to a CSV file.\n",
    "\n",
    "    Parameters:\n",
    "    - data: List[Dict]\n",
    "        The data to be saved into a CSV file.\n",
    "    - filename: str\n",
    "        The name of the file to save the data into.\n",
    "\n",
    "    Returns:\n",
    "    - df\n",
    "    \"\"\"\n",
    "    df = pd.DataFrame(data)\n",
    "    df.to_csv(filename, index=False)\n",
    "\n",
    "    return df\n",
    "\n",
    "\n",
    "def get_signature_data(signature_id):\n",
    "    \"\"\"\n",
    "    get_signature_data\n",
    "    Retrieves a list of compounds from the iLINCS API.\n",
    "\n",
    "    Parameters:\n",
    "    - signature_id: str()\n",
    "        Signature ID of interest\n",
    "\n",
    "    Returns:\n",
    "    - List[Dict]: A list of dictionaries, each representing a signature. Returns None in case of failure.\n",
    "    \"\"\"\n",
    "    url = f'http://www.ilincs.org/api/ilincsR/downloadSignature'\n",
    "    payload = {'sigID': signature_id}\n",
    "    response = requests.post(url, data=payload)\n",
    "    if response.status_code == 200:\n",
    "        return response.json()  # Or process the response as needed\n",
    "    else:\n",
    "        print(f\"Failed to retrieve data for signature {signature_id}\")\n",
    "        return None\n",
    "\n",
    "# 2. Retrieve Data\n",
    "# get signatures\n",
    "signatures = get_signatures()\n",
    "logging.info(f\"Nº Retrieved Signatures {len(signatures)}\")\n",
    "\n",
    "# get datasets\n",
    "datasets = get_datasets()\n",
    "logging.info(f\"Nº Retrieved Datasets {len(datasets)}\")\n",
    "\n",
    "# get genes\n",
    "genes = get_genes()\n",
    "logging.info(f\"Nº Retrieved Genes {len(genes)}\")\n",
    "\n",
    "# get compounds\n",
    "compounds = get_compounds()\n",
    "logging.info(f\"Nº Retrieved Compounds {len(compounds)}\")\n",
    "\n",
    "# get signature vectors\n",
    "\n",
    "\n",
    "# 3. Parse Data\n",
    "\n",
    "# 4. Store Data\n",
    "# parse & store signatures\n",
    "df_signatures = save_to_csv(signatures,os.path.join(OUTPUT_PATH,\"signatures.csv\"))\n",
    "\n",
    "# parse & store datasets\n",
    "df_datasets = save_to_csv(datasets,os.path.join(OUTPUT_PATH,\"datasets.csv\"))\n",
    "\n",
    "# parse & store genes\n",
    "df_genes = save_to_csv(genes,os.path.join(OUTPUT_PATH,\"genes.csv\"))\n",
    "\n",
    "# parse & store compounds\n",
    "df_compounds = save_to_csv(compounds,os.path.join(OUTPUT_PATH,\"compounds.csv\"))\n"
   ]
  },
  {
   "cell_type": "code",
   "execution_count": null,
   "id": "9d004213-b0f5-44aa-b32f-074f083b71f8",
   "metadata": {},
   "outputs": [],
   "source": [
    "df_signatures"
   ]
  },
  {
   "cell_type": "code",
   "execution_count": 11,
   "id": "d1ec8dda-f871-4ae4-8d98-cfb9d441ca63",
   "metadata": {
    "tags": []
   },
   "outputs": [],
   "source": [
    "def get_signature_data(signature_id):\n",
    "    \"\"\"\n",
    "    get_signature_data\n",
    "    Retrieves a list of compounds from the iLINCS API.\n",
    "\n",
    "    Parameters:\n",
    "    - signature_id: str()\n",
    "        Signature ID of interest\n",
    "\n",
    "    Returns:\n",
    "    - List[Dict]: A list of dictionaries, each representing a signature. Returns None in case of failure.\n",
    "    \"\"\"\n",
    "    url = f'http://www.ilincs.org/api/ilincsR/downloadSignature'\n",
    "    payload = {'sigID': signature_id}\n",
    "    response = requests.post(url, data=payload)\n",
    "    if response.status_code == 200:\n",
    "        return response.json()  # Or process the response as needed\n",
    "    else:\n",
    "        print(f\"Failed to retrieve data for signature {signature_id}\")\n",
    "        return None\n",
    "    \n"
   ]
  },
  {
   "cell_type": "code",
   "execution_count": 12,
   "id": "ac4c1a37-bcf8-48aa-b81c-fdf50c95789f",
   "metadata": {
    "tags": []
   },
   "outputs": [],
   "source": [
    "a = df_signatures[\"signatureid\"].to_list()[0]\n",
    "\n",
    "b = get_signature_data(a)"
   ]
  },
  {
   "cell_type": "code",
   "execution_count": 20,
   "id": "f4b94e80-953a-4dcc-858b-260d7b399ffa",
   "metadata": {
    "tags": []
   },
   "outputs": [
    {
     "data": {
      "text/plain": [
       "11911"
      ]
     },
     "execution_count": 20,
     "metadata": {},
     "output_type": "execute_result"
    }
   ],
   "source": [
    "len(b[\"data\"][\"signature\"])"
   ]
  }
 ],
 "metadata": {
  "kernelspec": {
   "display_name": "Python 3 (ipykernel)",
   "language": "python",
   "name": "python3"
  },
  "language_info": {
   "codemirror_mode": {
    "name": "ipython",
    "version": 3
   },
   "file_extension": ".py",
   "mimetype": "text/x-python",
   "name": "python",
   "nbconvert_exporter": "python",
   "pygments_lexer": "ipython3",
   "version": "3.10.13"
  }
 },
 "nbformat": 4,
 "nbformat_minor": 5
}
