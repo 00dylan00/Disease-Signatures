{
 "cells": [
  {
   "cell_type": "markdown",
   "metadata": {},
   "source": [
    "# DiSignAtlas"
   ]
  },
  {
   "cell_type": "code",
   "execution_count": 44,
   "metadata": {},
   "outputs": [
    {
     "data": {
      "text/plain": [
       "'DiSignAtlas\\n\\nThis Notebook is used for exploring the DiSignAtlas dataset.\\n\\nStrcuture:\\n    a. Disease Mapping\\n'"
      ]
     },
     "execution_count": 44,
     "metadata": {},
     "output_type": "execute_result"
    }
   ],
   "source": [
    "\"\"\"DiSignAtlas\n",
    "\n",
    "This Notebook is used for exploring the DiSignAtlas dataset.\n",
    "\n",
    "Strcuture:\n",
    "    a. Disease Mapping\n",
    "\"\"\""
   ]
  },
  {
   "cell_type": "markdown",
   "metadata": {},
   "source": [
    "## a. Disease Mapping"
   ]
  },
  {
   "cell_type": "code",
   "execution_count": 49,
   "metadata": {},
   "outputs": [
    {
     "name": "stdout",
     "output_type": "stream",
     "text": [
      "b'<!DOCTYPE html>\\n<html lang=\"en\">\\n\\t<head>\\n\\t\\t<meta charset=\"UTF-8\">\\n\\t\\t<title>Detail</title>\\n\\t\\t<!-- Bootstrap CSS -->\\n<link rel=\"stylesheet\" href=\"/diseasedb_static/cdn/css/bootstrap-4.3.1.min.css\">\\n<script src=\"/diseasedb_static/cdn/js/jquery-3.2.1.min.js\"></script>\\n<!-- <script type=\"text/javascript\" charset=\"utf8\" src=\"http://code.jquery.com/jquery-1.10.2.min.js\"></script> -->\\n<!--jquery1_test-->\\n<!-- <script type=\"text/javascript\" charset=\"utf8\" src=\"http://code.jquery.com/jquery-1.10.2.min.js\"></script> -->\\n<script src=\"/diseasedb_static/cdn/js/popper-1.15.0.min.js\"></script>\\n<script src=\"/diseasedb_static/cdn/js/bootstrap-4.3.1.min.js\"></script>\\n<!-- bootstrap-select -->\\n<link rel=\"stylesheet\" href=\"/diseasedb_static/cdn/css/bootstrap-select-1.13.14.min.css\">\\n<!-- <script src=\"https://cdn.jsdelivr.net/npm/bootstrap-select@1.13.14/dist/js/i18n/defaults-*.min.js\"></script> -->\\n<!-- cytoscape -->\\n<!-- <link rel=\"stylesheet\" href=\"https://maxcdn.bootstrapcdn.com/font-awesome/4.3.0/css/font-awesome.min.css\"> -->\\n<link rel=\"stylesheet\" href=\"/diseasedb_static/cdn/css/font-awesome-4.3.0.min.css\">\\n<link href=\"/diseasedb_static/cytoscape/style.css\" />\\n\\n<!-- polyfills so the demo works on old browsers, like IE -->\\n<script src=\"/diseasedb_static/cdn/js/classList-1.2.20171210.min.js\"></script>\\n<script src=\"/diseasedb_static/cdn/js/bluebird-3.5.2.js\"></script>\\n<script src=\"/diseasedb_static/cdn/js/fetch-3.0.0.umd.js\"></script>\\n<!-- libs used by demo -->\\n<script src=\"/diseasedb_static/cdn/js/lodash-3.10.0.min.js\"></script>\\n<script src=\"/diseasedb_static/cdn/js/cola-3.3.8.min.js\"></script>\\n<script src=\"/diseasedb_static/cdn/js/popper-1.14.4.js\"></script>\\n<script src=\"/diseasedb_static/cdn/js/tippy-2.6.0.all.js\"></script>\\n\\n<!-- cy libs -->\\n<script type=\"text/javascript\" src=\"/diseasedb_static/cytoscape/cytoscape.min.js\"></script>\\n<script src=\"/diseasedb_static/cdn/js/cytoscape-cola-2.2.3.js\"></script>\\n<script src=\"/diseasedb_static/cdn/js/cytoscape-popper-1.0.2.js\"></script>\\n\\n<!--\\xe7\\xac\\xac\\xe4\\xb8\\x80\\xe6\\xad\\xa5\\xef\\xbc\\x9a\\xe5\\xbc\\x95\\xe5\\x85\\xa5Javascript / CSS \\xef\\xbc\\x88CDN\\xef\\xbc\\x89-->\\n<!-- DataTables CSS -->\\n<link rel=\"stylesheet\" type=\"text/css\" href=\"/diseasedb_static/cdn/css/jquery.dataTables.css\"> \\n<!-- jQuery -->\\n<script type=\"text/javascript\" charset=\"utf8\" src=\"/diseasedb_static/cdn/js/jquery-1.10.2.min.js\"></script>\\n<!-- DataTables -->\\n<script type=\"text/javascript\" charset=\"utf8\" src=\"/diseasedb_static/cdn/js/jquery.dataTables.js\"></script>\\n<script type=\"text/javascript\" charset=\"utf8\" src=\"/diseasedb_static/cdn/js/dataTables-2.2.3.buttons.min.js\"></script>\\n<script type=\"text/javascript\" charset=\"utf8\" src=\"/diseasedb_static/cdn/js/buttons-2.2.3.html5.min.js\"></script>\\n<!-- responsive -->\\n<script type=\"text/javascript\" charset=\"utf8\" src=\"/diseasedb_static/cdn/js/dataTables-2.2.1.responsive.min.js\"></script>\\n<link rel=\"stylesheet\" type=\"text/css\" href=\"/diseasedb_static/cdn/css/responsive-2.2.1.dataTables.min.css\">\\n\\n\\t\\t<script src=\"/diseasedb_static/cdn/js/plotly-2.8.3.min.js\"></script>\\n\\t\\t<style>\\n\\t\\t\\t\\n\\t\\t\\t.dataTable {\\n\\t\\t\\t\\ttext-align: center;\\n\\t\\t\\t\\tvertical-align: middle !important;\\n\\t\\t\\t}\\n\\t\\t\\t\\n\\t\\t\\t.index {\\n\\t\\t\\t\\tfont-size: 1.9rem;\\n\\t\\t\\t}\\n\\n\\t\\t\\t.list-group a {\\n\\t\\t\\t\\tmargin-left: 5px;\\n\\t\\t\\t}\\n\\n\\t\\t\\ttable tbody tr td {\\n\\t\\t\\t\\twidth: 200px;\\n\\t\\t\\t}\\n\\n\\t\\t\\t#list-item-1,\\n\\t\\t\\t#list-item-2,\\n\\t\\t\\t#list-item-3,\\n\\t\\t\\t#list-item-4,\\n\\t\\t\\t#list-item-5,\\n\\t\\t\\t#list-item-6,\\n\\t\\t\\t#list-item-7,\\n\\t\\t\\t#list-item-8,\\n\\t\\t\\t#list-item-9{\\n\\t\\t\\t\\tpadding-top: 10px;\\n\\t\\t\\t\\tpadding-bottom: 10px;\\n\\t\\t\\t\\tpadding-left: 1rem;\\n\\t\\t\\t}\\n\\n\\t\\t\\th3 {\\n\\t\\t\\t\\t/* color: cornflowerblue; */\\n\\t\\t\\t\\tcolor: #17a2b8; margin-bottom: 20px;\\n\\t\\t\\t\\tfont-weight: bolder;\\n\\t\\t\\t}\\n\\n\\t\\t\\t/* \\xe5\\xb7\\xa6\\xe4\\xbe\\xa7\\xe5\\xaf\\xbc\\xe8\\x88\\xaa\\xe9\\xa2\\x9c\\xe8\\x89\\xb2 */\\n\\t\\t\\t.list-group-item.active {\\n\\t\\t\\t\\tbackground-color: #17a2b8;\\n\\t\\t\\t\\tborder: 1px solid rgba(0, 0, 0, .125);\\n\\t\\t\\t}\\n\\n\\t\\t\\t#list-example a {\\n\\t\\t\\t\\tpadding-left: 15px;\\n\\t\\t\\t}\\n\\n\\t\\t\\t/* \\xe5\\x9f\\xba\\xe6\\x9c\\xac\\xe4\\xbf\\xa1\\xe6\\x81\\xaf\\xe6\\xa0\\xb7\\xe5\\xbc\\x8f */\\n\\t\\t\\t#basic_info tbody tr td {\\n\\t\\t\\t\\tvertical-align: middle;\\n\\t\\t\\t}\\n\\n\\t\\t\\t/* \\t\\t.navbar.navbar-dark.text-white.bg-dark{padding-left: 30px;}\\n\\t\\t#navbar-example3{\\n\\t\\t\\tposition: fixed;\\n\\t\\t\\twidth: 300px;\\n\\t\\t\\tmargin-left: 30px;\\n\\t\\t\\tborder: 1px solid #000000;\\n\\t\\t\\tborder-radius: 10px 10px 10px 10px;\\n\\t\\t\\theight: 580px;\\n\\t\\t\\tmargin-bottom: 50px;\\n\\t\\t}\\n\\t\\t#navbar-example3 a{\\n\\t\\t\\tpadding-top: 1px;\\n\\t\\t\\tpadding-bottom: 1px;\\n\\t\\t\\t\\n\\t\\t} */\\n\\t\\t\\t.nav-link {\\n\\t\\t\\t\\tmargin-bottom: 1px;\\n\\t\\t\\t}\\n\\t\\t\\t.nav-pills .nav-link.active, .nav-pills .show>.nav-link {\\n\\t\\t\\t\\tmargin-bottom: 1px;\\n\\t\\t\\t\\tcolor: #17a2b8;\\n\\t\\t\\t\\tbackground-color: #ffffff;\\n\\t\\t\\t}\\n\\t\\t\\ta{color: #FFFFFF;}\\n\\t\\t\\ta:hover {color: #FFFFFF;}\\n\\t\\t\\t.dropdown-item.active, .dropdown-item:active {\\n\\t\\t\\t\\tcolor: #ffffff;\\n\\t\\t\\t\\tbackground-color: #17a2b8;\\n\\t\\t\\t}\\n\\t\\t\\t.p1 {border: 0px;border-top: 0px;margin: 0px;}\\n\\t\\t\\t.p2 { border: 0px;border-top: 0px;width: 100%;margin: 0px;display: none;}\\n\\t\\t\\t\\n\\t\\t\\t/* go back to top */\\n\\t\\t\\t#myBtn {\\n\\t\\t\\t    display: none; /* \\xe9\\xbb\\x98\\xe8\\xae\\xa4\\xe9\\x9a\\x90\\xe8\\x97\\x8f */\\n\\t\\t\\t    position: fixed; \\n\\t\\t\\t    bottom: 20px; \\n\\t\\t\\t    right: 30px; \\n\\t\\t\\t    z-index: 99; \\n\\t\\t\\t    border: none;\\n\\t\\t\\t    outline: none; \\n\\t\\t\\t    background-color: red; /* \\xe8\\xae\\xbe\\xe7\\xbd\\xae\\xe8\\x83\\x8c\\xe6\\x99\\xaf\\xe9\\xa2\\x9c\\xe8\\x89\\xb2\\xef\\xbc\\x8c\\xe4\\xbd\\xa0\\xe5\\x8f\\xaf\\xe4\\xbb\\xa5\\xe8\\xae\\xbe\\xe7\\xbd\\xae\\xe8\\x87\\xaa\\xe5\\xb7\\xb1\\xe6\\x83\\xb3\\xe8\\xa6\\x81\\xe7\\x9a\\x84\\xe9\\xa2\\x9c\\xe8\\x89\\xb2\\xe6\\x88\\x96\\xe5\\x9b\\xbe\\xe7\\x89\\x87 */\\n\\t\\t\\t    color: white; /* \\xe6\\x96\\x87\\xe6\\x9c\\xac\\xe9\\xa2\\x9c\\xe8\\x89\\xb2 */\\n\\t\\t\\t    cursor: pointer; \\n\\t\\t\\t    padding: 15px; \\n\\t\\t\\t    border-radius: 10px; /* \\xe5\\x9c\\x86\\xe8\\xa7\\x92 */\\n\\t\\t\\t}\\n\\t\\t\\t \\n\\t\\t\\t#myBtn:hover {\\n\\t\\t\\t    background-color: #555; \\n\\t\\t\\t}\\n\\t\\t\\t\\n\\t\\t</style>\\n\\t\\t<script>\\n\\t\\t\\t// function changeTab(id) {\\n\\t\\t\\t// \\t// \\xe5\\xa4\\x84\\xe7\\x90\\x86tab\\n\\t\\t\\t// \\t$(\\'#myTab li a\\').removeClass(\\'active\\')\\n\\t\\t\\t// \\t$(\\'#menu1_tab\\').parent().children().eq(0).children().eq(0).css(\\'background\\', \\'#ffffff\\')\\n\\t\\t\\t// \\t$(\\'#menu1_tab\\').parent().children().eq(0).children().eq(0).css(\\'color\\', \\'#17a2b8\\')\\n\\t\\t\\t\\n\\t\\t\\t// \\t// \\xe5\\xa4\\x84\\xe7\\x90\\x86tabContent\\n\\t\\t\\t// \\t$(\\'#myTabContent div\\').removeClass(\\'active\\')\\n\\t\\t\\t// \\t// $(\\'#myTabContent div\\').addClass(\\'fade\\')\\n\\t\\t\\t// \\t$(\\'#\\' + id).removeClass(\\'fade\\')\\n\\t\\t\\t// \\t$(\\'#\\' + id).addClass(\\'active\\')\\n\\t\\t\\t// \\t// $(\\'#myTab li a\\').preventDefault()\\n\\t\\t\\t// }\\n\\t\\t\\t// back to top\\n\\t\\t\\twindow.onscroll = function() {scrollFunction()};\\n\\t\\t\\t \\n\\t\\t\\tfunction scrollFunction() {\\n\\t\\t\\t    if (document.body.scrollTop > 20 || document.documentElement.scrollTop > 20) {\\n\\t\\t\\t        document.getElementById(\"myBtn\").style.display = \"block\";\\n\\t\\t\\t    } else {\\n\\t\\t\\t        document.getElementById(\"myBtn\").style.display = \"none\";\\n\\t\\t\\t    }\\n\\t\\t\\t}\\n\\t\\t\\t \\n\\t\\t\\t// \\xe7\\x82\\xb9\\xe5\\x87\\xbb\\xe6\\x8c\\x89\\xe9\\x92\\xae\\xef\\xbc\\x8c\\xe8\\xbf\\x94\\xe5\\x9b\\x9e\\xe9\\xa1\\xb6\\xe9\\x83\\xa8\\n\\t\\t\\tfunction topFunction() {\\n\\t\\t\\t    document.body.scrollTop = 0;\\n\\t\\t\\t    document.documentElement.scrollTop = 0;\\n\\t\\t\\t}\\n\\t\\t\\t\\n\\t\\t</script>\\n\\t</head>\\n\\n\\t<body data-spy=\"scroll\" data-target=\"#list-example\" style=\"padding-top: 0px;\">\\n\\t\\t<!-- \\xe5\\xaf\\xbc\\xe8\\x88\\xaa\\xe6\\xa0\\x8f -->\\n\\t\\t<!-- \\xe5\\xaf\\xbc\\xe8\\x88\\xaa\\xe6\\xa0\\x8f -->\\n<!--<nav class=\"navbar navbar-expand-lg navbar-dark fixed-top\" id=\"mainNav\">-->\\n<!--\\t<div class=\"container\">-->\\n<!--\\t\\t<a class=\"navbar-brand js-scroll-trigger\" href=\"#page-top\"><img src=\"assets/img/navbar-logo.svg\" alt=\"\" /></a>-->\\n<!--\\t\\t<button class=\"navbar-toggler navbar-toggler-right\" type=\"button\" data-toggle=\"collapse\" data-target=\"#navbarResponsive\" aria-controls=\"navbarResponsive\" aria-expanded=\"false\" aria-label=\"Toggle navigation\">-->\\n<!--\\t\\t\\tMenu-->\\n<!--\\t\\t\\t<i class=\"fas fa-bars ml-1\"></i>-->\\n<!--\\t\\t</button>-->\\n<!--\\t\\t<div class=\"collapse navbar-collapse\" id=\"navbarResponsive\">-->\\n<!--\\t\\t\\t<ul class=\"navbar-nav text-uppercase ml-auto\">-->\\n<!--\\t\\t\\t\\t<li class=\"nav-item\"><a class=\"nav-link js-scroll-trigger\" href=\"#services\">Services</a></li>-->\\n<!--\\t\\t\\t\\t<li class=\"nav-item\"><a class=\"nav-link js-scroll-trigger\" href=\"#portfolio\">Portfolio</a></li>-->\\n<!--\\t\\t\\t\\t<li class=\"nav-item\"><a class=\"nav-link js-scroll-trigger\" href=\"#about\">About</a></li>-->\\n<!--\\t\\t\\t\\t<li class=\"nav-item\"><a class=\"nav-link js-scroll-trigger\" href=\"#team\">Team</a></li>-->\\n<!--\\t\\t\\t\\t<li class=\"nav-item\"><a class=\"nav-link js-scroll-trigger\" href=\"#contact\">Contact</a></li>-->\\n<!--\\t\\t\\t</ul>-->\\n<!--\\t\\t</div>-->\\n<!--\\t</div>-->\\n<!--</nav>-->\\n\\n<nav id=\"quanju_nav\" class=\"navbar navbar-expand-lg bg-info navbar-dark\" style=\"padding-left: 5%;\">\\n\\n\\t<div class=\"container\">\\n\\t\\t<a class=\"navbar-brand\" href=\"http://www.inbirg.com/disignatlas/\" target=\"view_window\">\\n\\t\\t\\t<img src=\"/diseasedb_static/img/DSA_logo.png\" alt=\"logo\" style=\"width:90px;\">\\n\\t\\t</a>\\n\\t\\t<button class=\"navbar-toggler navbar-toggler-right\" type=\"button\" data-toggle=\"collapse\" data-target=\"#navbarResponsive\"\\n\\t\\t aria-controls=\"navbarResponsive\" aria-expanded=\"false\" aria-label=\"Toggle navigation\">\\n\\t\\t\\tMENU\\n\\t\\t\\t<i class=\"fas fa-bars ml-1\"></i>\\n\\t\\t</button>\\n\\t\\t<div class=\"collapse navbar-collapse\" id=\"navbarResponsive\">\\n\\n\\t\\t\\t<ul class=\"navbar-nav \">\\n\\t\\t\\t\\t<li class=\"nav-item\">\\n\\t\\t\\t\\t\\t<a id=\"nav_home\" class=\"nav-link js-scroll-trigger\" href=\"/disignatlas/home\">HOME</a>\\n\\t\\t\\t\\t</li>\\n\\t\\t\\t\\t<li class=\"nav-item\">\\n\\t\\t\\t\\t\\t<a id=\"nav_search\" class=\"nav-link js-scroll-trigger\" href=\"/disignatlas/adv_search\">SEARCH</a>\\n\\t\\t\\t\\t</li>\\n\\t\\t\\t\\t<li class=\"nav-item\">\\n\\t\\t\\t\\t\\t<a id=\"nav_browse\" class=\"nav-link js-scroll-trigger\" href=\"/disignatlas/browse\">BROWSE</a>\\n\\t\\t\\t\\t</li>\\n\\t\\t\\t\\t<li class=\"nav-item\">\\n\\t\\t\\t\\t\\t<a id=\"nav_tools\" class=\"nav-link js-scroll-trigger\" href=\"/disignatlas/analysis/dgoa\">ANALYSIS</a>\\n\\t\\t\\t\\t\\t<!-- <div class=\"bg-dark dropdown-menu\">\\n\\t\\t\\t\\t<a class=\"dropdown-item\" style=\"color: white;\" href=\"/ddpd/analysis/druglike\">One Drug Feature Test</a>\\n\\t\\t\\t\\t<a class=\"dropdown-item\" style=\"color: white;\" href=\"/ddpd/analysis/druglike_analysis\">One Class Drug Feature Test</a>\\n\\t\\t\\t</div> -->\\n\\t\\t\\t\\t</li>\\n\\t\\t\\t\\t<li class=\"nav-item\">\\n\\t\\t\\t\\t\\t<a id=\"nav_statistic\" class=\"nav-link js-scroll-trigger\" href=\"/disignatlas/statistics\">STATISTICS</a>\\n\\t\\t\\t\\t</li>\\n\\t\\t\\t\\t<!-- <li class=\"nav-item dropdown\">\\n\\t\\t\\t<a id=\"nav_statistic\" class=\"nav-link dropdown-toggle\" data-toggle=\"dropdown\" >STATISTIC</a>\\n\\t\\t\\t<div class=\"bg-dark dropdown-menu\">\\n\\t\\t\\t\\t<a class=\"dropdown-item\" style=\"color: white;\" href=\"/ddpd/statistic/static_codedis\">Code Distribution</a>\\n\\t\\t\\t\\t<a class=\"dropdown-item\" style=\"color: white;\" href=\"/ddpd/statistic\">Data Histogram</a>\\n\\t\\t\\t</div>\\n\\t\\t</li> -->\\n\\t\\t\\t\\t<li class=\"nav-item\">\\n\\t\\t\\t\\t\\t<a id=\"nav_download\" class=\"nav-link js-scroll-trigger\" href=\"/disignatlas/download\">DOWNLOAD</a>\\n\\t\\t\\t\\t</li>\\n\\t\\t\\t\\t<li class=\"nav-item\">\\n\\t\\t\\t\\t\\t<a id=\"nav_submit\" class=\"nav-link js-scroll-trigger\" href=\"/disignatlas/submit\">SUBMIT</a>\\n\\t\\t\\t\\t</li>\\n\\t\\t\\t\\t<li class=\"nav-item\">\\n\\t\\t\\t\\t\\t<a id=\"nav_help\" class=\"nav-link js-scroll-trigger\" href=\"/disignatlas/help\">HELP</a>\\n\\t\\t\\t\\t</li>\\n\\n\\t\\t\\t</ul>\\n\\t\\t</div>\\n\\t\\t<!-- <a class=\"navbar-brand\" href=\"http://www.inbirg.com/\" style=\"margin-right: 180px;\" target=\"view_window\">\\n\\t\\t\\t<img src=\"/diseasedb_static/img/InBiRG-noborder.png\" alt=\"logo\" style=\"width:100px;\">\\n\\t\\t</a> -->\\n\\t</div>\\n\\n</nav>\\n<style>\\n\\t*{font-size: 17px;}\\n \\t.navbar-dark .navbar-nav .nav-link{color: white;}\\n \\t.navbar-dark .navbar-nav .nav-link.active{color: #555555;}\\n\\t\\n\\t#quanju_nav{font-weight: bolder;}\\n\\t#quanju_nav ul li a{font-size: 20px;}\\n\\t#quanju_nav .navbar-toggler {\\n\\t  padding: 0.75rem;\\n\\t  font-family: \"Montserrat\", -apple-system, BlinkMacSystemFont, \"Segoe UI\", Roboto, \"Helvetica Neue\", Arial, sans-serif, \"Apple Color Emoji\", \"Segoe UI Emoji\", \"Segoe UI Symbol\", \"Noto Color Emoji\";\\n\\t  font-size: 1rem;\\n\\t  color: #fff;\\n\\t  text-transform: uppercase;\\n\\t  background-color: #fed136;\\n\\t  border: 0;\\n\\t}\\n\\t\\n</style>\\n<script type=\"text/javascript\">\\n\\t$(document).ready(function() {\\n\\t\\t$(\"body\").addClass(\"bg-light\");\\n\\n\\t});\\n</script>\\n\\n\\t\\t<input type=\"hidden\" name=\"csrfmiddlewaretoken\" value=\"SSJPqeEg7a0wiHUpWHH2JiYfxvTIcRJr1LgYgi4vweXSvlmaGfnj6X1X1cr0PUXI\">\\n\\t\\t<button onclick=\"topFunction()\" id=\"myBtn\" title=\"backtotop\" style=\"background: #17a2b8;\">TOP</button>\\n\\t\\t<!-- \\xe4\\xb8\\xbb\\xe4\\xbd\\x93\\xe5\\x86\\x85\\xe5\\xae\\xb9 -->\\n\\t\\t<div class=\"container-fluid col-10\">\\n\\t\\t\\t<div class=\\'row\\'>\\n\\t\\t\\t\\t<div class=\\'col-2 d-none d-xl-block\\' style=\"margin: 1rem 50px 1rem 0rem;\">\\n\\t\\t\\t\\t\\t<div id=\"list-example\" class=\"list-group \"\\n\\t\\t\\t\\t\\t\\tstyle=\"position: fixed; width:250px;height: 500px;margin-left: -50px;padding-left: 0;\">\\n\\t\\t\\t\\t\\t\\t<a class=\"list-group-item list-group-item-action\" href=\"#list-item-1\">Disease information</a>\\n\\t\\t\\t\\t\\t\\t\\n\\t\\t\\t\\t\\t\\t<a class=\"list-group-item list-group-item-action\" href=\"#list-item-3\">Differential genes</a>\\n\\t\\t\\t\\t\\t\\t<a class=\"list-group-item list-group-item-action\" href=\"#list-item-4\">Enriched regulations/functions/pathways</a>\\n\\t\\t\\t\\t\\t\\t<a class=\"list-group-item list-group-item-action\" href=\"#list-item-5\">Differential cell type markers</a>\\n\\t\\t\\t\\t\\t\\t<a class=\"list-group-item list-group-item-action\" href=\"#list-item-6\">Diseases with correlated signatures</a>\\n\\t\\t\\t\\t\\t\\t<!-- <a class=\"list-group-item list-group-item-action\" href=\"#list-item-5\">Drug Property Radar Chart</a> -->\\n\\t\\t\\t\\t\\t</div>\\n\\t\\t\\t\\t</div>\\n\\t\\t\\t\\t<div class=\\'col-xl-9 col-lg-12\\'>\\n\\t\\t\\t\\t\\t<div data-spy=\"scroll\" data-target=\"#list-example\" data-offset=\"0\" class=\"panel panel-primary\">\\n\\t\\t\\t\\t\\t\\t\\n\\t\\t\\t\\t\\t\\t<!-- \\xe7\\xac\\xac\\xe4\\xb8\\x80\\xe4\\xb8\\xaa\\xe4\\xbe\\xa7\\xe6\\xa0\\x87\\xe7\\xad\\xbe -->\\n\\t\\t\\t\\t\\t\\t<!-- basic information templates -->\\n\\t\\t\\t\\t\\t\\t<!-- bastc information -->\\n<!-- <h3 class=\"panel-heading\" id=\"list-item-1\" style=\"margin-top: -120px;border-top: 140px solid #f8f9fa;z-index: -1;border-color: rgba(248, 249, 250, 1.0);background-color: #17a2b8;color: #ffffff;\">\\n\\tDisease information\\n</h3> -->\\n\\n<!-- <style>\\n\\t.dark_anchor {    height: 120px;    margin-top: -120px;}\\n</style> -->\\n\\n<!-- <div class=\"dark_anchor\" id=\"list-item-1\"></div> -->\\n<h3 class=\"panel-heading\" id=\"list-item-1\" style=\"margin: 1rem 0 0rem 0 ;background-color: #17a2b8;color: #ffffff;\">\\n\\tDisease information\\n</h3>\\n<div class=\"container col-12\">\\n\\t<div class=\"row\">\\n\\t\\t\\n\\t\\t<div class=\"col-12\" style=\"padding: 0;\">\\n\\t\\t\\t<table id=\"basic_info\" class=\"table table-bordered\">\\n\\t\\t\\t\\t<tbody>\\n\\t\\t\\t\\t\\t<tr>\\n\\t\\t\\t\\t\\t\\t<td class=\" bg-light vertical-align: middle;\">Disease Name</td>\\n\\t\\t\\t\\t\\t\\t<td colspan=\"2\" style=\"width: 100%;\">Cardiomyopathy</td>\\n\\t\\t\\t\\t\\t</tr>\\n\\t\\t\\t\\t\\t<tr id=\\'ext_links\\'>\\n\\t\\t\\t\\t\\t\\t<td class=\" bg-light\">External Links</td>\\n\\t\\t\\t\\t\\t<tr>\\n\\t\\t\\t\\t\\t\\t<td class=\" bg-light\">Synonyms</td>\\n\\t\\t\\t\\t\\t\\t<td colspan=\"2\" style=\"width: 100%;\">cardiomyopathy|disease of the heart muscle|cardiomyopathy, unspecified|myocardiopathy|myocardial disease|cardiomyopathies, primary|myocardial diseases, secondary|cardiomyopathies|rare cardiomyopathy</td>\\n\\t\\t\\t\\t\\t</tr>\\n\\t\\t\\t\\t\\t\\n\\t\\t\\t\\t\\t<tr>\\n\\t\\t\\t\\t\\t\\t<td class=\" bg-light \">Definition</td>\\n\\t\\t\\t\\t\\t\\t<td colspan=\"2\" style=\"width: 100%;\">DO: A heart disease and a myopathy that is characterized by deterioration of the function of the heart muscle.</td>\\n\\t\\t\\t\\t\\t</tr>\\n\\t\\t\\t\\t\\t\\n\\t\\t\\t\\t\\t\\n\\t\\t\\t\\t\\t\\n\\t\\t\\t\\t\\t\\n\\t\\t\\t\\t\\t<tr>\\n\\t\\t\\t\\t\\t\\t<td class=\" bg-light\">Organism</td>\\n\\t\\t\\t\\t\\t\\t<td colspan=\"2\" style=\"width:100%\">Homo sapiens</td>\\n\\t\\t\\t\\t\\t</tr>\\n\\t\\t\\t\\t\\t\\n\\t\\t\\t\\t\\t<tr>\\n\\t\\t\\t\\t\\t\\t<td class=\" bg-light\">Tissue Type</td>\\n\\t\\t\\t\\t\\t\\t<td colspan=\"2\" style=\"width:100%\">Whole blood</td>\\n\\t\\t\\t\\t\\t</tr>\\n\\t\\t\\t\\t\\t\\n\\t\\t\\t\\t\\t\\n\\t\\t\\t\\t\\t\\n\\t\\t\\t\\t\\t<tr>\\n\\t\\t\\t\\t\\t\\t<td class=\" bg-light\">Control | Case</td>\\n\\t\\t\\t\\t\\t\\t<td style=\"word-break: break-all;\">GSM6738449;GSM6738451;GSM6738453;GSM6738455;GSM6738457;GSM6738459;GSM6738461;GSM6738463</td>\\n\\t\\t\\t\\t\\t\\t<td style=\"word-break: break-all;\">GSM6738448;GSM6738450;GSM6738452;GSM6738454;GSM6738456;GSM6738458;GSM6738460;GSM6738462</td>\\n\\t\\t\\t\\t\\t</tr>\\n\\t\\t\\t\\t\\t<tr>\\n\\t\\t\\t\\t\\t\\t<td class=\" bg-light\">Data Source</td>\\n\\t\\t\\t\\t\\t\\t<td colspan=\"2\">GEO\\n\\t\\t\\t\\t\\t\\t\\t<!--  -->\\n\\t\\t\\t\\t\\t\\t</td>\\n\\t\\t\\t\\t\\t</tr>\\n\\t\\t\\t\\t\\t<tr>\\n\\t\\t\\t\\t\\t\\t<td class=\" bg-light\">Accession</td>\\n\\t\\t\\t\\t\\t\\t<td colspan=\"2\"><a target=\"_blank\" href=\"\\n\\t\\t\\t\\t\\t\\t\\n\\t\\t\\t\\t\\t\\thttps://www.ncbi.nlm.nih.gov/geo/query/acc.cgi?acc=GSE218276\\n\\t\\t\\t\\t\\t\\t\\n\\t\\t\\t\\t\\t\\t\" style=\"color: #0000ff;\">GSE218276</a></td>\\n\\t\\t\\t\\t\\t</tr>\\n\\t\\t\\t\\t\\t<tr>\\n\\t\\t\\t\\t\\t\\t<td class=\" bg-light\">Data Type</td>\\n\\t\\t\\t\\t\\t\\t<td colspan=\"2\">RNA-Seq</td>\\n\\t\\t\\t\\t\\t</tr>\\n\\t\\t\\t\\t\\t\\n\\t\\t\\t\\t</tbody>\\n\\t\\t\\t</table>\\n\\n\\t\\t</div>\\n\\t\\t\\n\\n\\t</div>\\n</div>\\n\\n\\n<script>\\n\\tfunction build_external_links() {\\n\\t\\tdbXrefs = \"DO:0050700|EFO:0000318|HPO:HP:0001638|ICD10:I42|ICD10:I42.9|ICD10CM:I42|ICD10CM:I42.9|ICD10CM:I51.5|ICD9CM:425|MONDO:0004994|MeSH:D009202|NCI:C34830|ORDO:167848\"\\n\\t\\ttr = \"<td colspan=\\'2\\' >\";\\n\\t\\txrefs = dbXrefs.split(\\'|\\');\\n\\t\\tlinks = []\\n\\t\\txrefs.forEach(function(xref) {\\n\\t\\t\\tsplit_ind = xref.indexOf(\\':\\');\\n\\t\\t\\tx_id = xref.slice(split_ind + 1);\\n\\t\\t\\tx_link = XREF_DICT[xref.slice(0, split_ind)];\\n\\t\\t\\tif (typeof x_link != \\'undefined\\') {\\n\\t\\t\\t\\tlink = \\'<a style=\"color:blue\" href=\"\\' + x_link + x_id + \\'\" target=\"_blank\">\\' + xref + \\'</a>\\';\\n\\t\\t\\t\\t// console.log(link)\\n\\t\\t\\t} else {\\n\\t\\t\\t\\tlink = xref;\\n\\t\\t\\t}\\n\\t\\t\\tlinks.push(link);\\n\\t\\t});\\n\\t\\tlinks = links.join(\\' \\');\\n\\t\\ttr = tr + links + \"</td>\";\\n\\t\\t$(\"#ext_links\").append(tr);\\n\\t\\t// console.log(tr)\\n\\t}\\n\\t$(document).ready(function() {\\n\\t\\tbuild_external_links()\\n\\t})\\n\\t\\n\\tconst XREF_DICT = {\\n\\t\\t\\'MeSH\\': \\'https://meshb.nlm.nih.gov/record/ui?ui=\\',\\n\\t\\t\\'HPO\\': \\'https://hpo.jax.org/app/browse/term/\\',\\n\\t\\t\\'EFO\\': \\'https://www.ebi.ac.uk/ols/ontologies/efo/terms?iri=http%3A%2F%2Fwww.ebi.ac.uk%2Fefo%2FEFO_\\',\\n\\t\\t\\'NCI\\': \\'https://ncit.nci.nih.gov/ncitbrowser/ConceptReport.jsp?dictionary=NCI_Thesaurus&ns=ncit&code=\\',\\n\\t\\t\\'DO\\': \\'https://www.disease-ontology.org/?id=DOID:\\',\\n\\t\\t\\'MONDO\\': \\'https://www.ebi.ac.uk/ols/ontologies/mondo/terms?iri=http%3A%2F%2Fpurl.obolibrary.org%2Fobo%2FMONDO_\\',\\n\\t\\t\\'ORDO\\': \\'https://www.ebi.ac.uk/ols/ontologies/ordo/terms?iri=http%3A%2F%2Fwww.orpha.net%2FORDO%2FOrphanet_\\',\\n\\t\\t\\'ICD10\\': \\'https://icd.who.int/browse10/2019/en#/\\',\\n\\t\\t\\'ICD10CM\\': \\'https://www.icd10data.com/search?s=\\',\\n\\t\\t\\'OMIM\\': \\'https://www.omim.org/entry/100300?search=\\',\\n\\t}\\n</script>\\n\\n\\t\\t\\t\\t\\t\\t<style>\\n/* datatable button */\\n.dt-button.icon_:before {\\n\\tcolor: #fff;\\n\\tpadding-top: 10px;\\n\\tcontent: \"\\\\f019\";\\n\\tfont-family: FontAwesome;\\n\\tfont-size: 20px;\\n}\\n.dt-button.icon_{\\n\\tbackground-color: #17a2b8;\\n\\tborder-color: #17a2b8;\\n}\\n.dt-button {\\n\\tmargin-top: 5px;\\n}\\n/* datatable search */\\n.dataTables_filter {\\n\\tmargin-top: 5px;\\n}\\n/* datatable info */\\n.dataTables_info {\\n\\tmargin-left: -30px;\\n}\\n\\n.dataTables_length {\\n\\tmargin-top: 5px;\\n}\\n\\n</style>\\n\\n\\n<h3 class=\"panel-heading\" id=\"list-item-3\"\\n\\t\\t\\t\\t\\t\\t\\tstyle=\"margin: 1rem 0 0rem 0 ;background-color: #17a2b8;color: #ffffff;\">Differential genes\\n\\t\\t\\t\\t\\t\\t</h3>\\n\\n\\n<div class=\"container col-12\">\\n\\tNot Available\\n</div>\\n\\n\\n<script>\\nvar diff_data = null;\\n<!--\\xe7\\xac\\xac\\xe4\\xb8\\x89\\xe6\\xad\\xa5\\xef\\xbc\\x9a\\xe5\\x88\\x9d\\xe5\\xa7\\x8b\\xe5\\x8c\\x96Datatables-->\\n\\t$(document).ready(function() {\\n\\t\\t$(\\'#diffgene\\').DataTable({\\n\\t\\t\\tdata: diff_data,\\n\\t\\t\\torder: [[ 4, \"asc\" ],[ 3, \"desc\"]],\\n\\t\\t\\tdom: \"<\\'row\\'<\\'col-sm-12 col-md-1\\'B><\\'col-sm-12 col-md-8\\'i><\\'col-sm-12 col-md-3\\'f>>\" +\\n\\t\\t\\t\\t\"<\\'row\\'<\\'col-sm-12\\'tr>>\" +\\n\\t\\t\\t\\t\"<\\'row\\'<\\'col-sm-12 col-md-6\\'l><\\'col-sm-12 col-md-6\\'p>>\",\\n\\t\\t\\tbuttons: [{\\n\\t\\t\\t\\t\\t\\textend: \\'csv\\',\\n\\t\\t\\t\\t\\t\\ttext: \"\",\\n\\t\\t\\t\\t\\t\\tclassName: \"icon_\",\\n\\t\\t\\t\\t\\t\\t}],\\n\\t\\t\\tcolumns: [\\n\\t\\t\\t\\t\\t\\t{ \\n\\t\\t\\t\\t\\t\\t\\tdata: \\'symbol\\' \\n\\t\\t\\t\\t\\t\\t},\\n\\t\\t\\t\\t\\t\\t{ data: \\'aveexpr_control\\' },\\n\\t\\t\\t\\t\\t\\t{ data: \\'aveexpr_case\\' },\\n\\t\\t\\t\\t\\t\\t{ data: \\'log2fc\\' },\\n\\t\\t\\t\\t\\t\\t{ data: \\'pvalue\\' },\\n\\t\\t\\t\\t\\t\\t{ data: \\'adjpvalue\\' },\\n\\t\\t\\t\\t\\t\\t{ data: \\'regulation\\' },\\n\\t\\t\\t\\t\\t\\t{ \\n\\t\\t\\t\\t\\t\\t\\tdata: \\'geneid\\',\\n\\t\\t\\t\\t\\t\\t\\t\"render\": function(data, type, row, meta){\\n\\t\\t\\t\\t\\t\\t\\t\\tif(type === \\'display\\'){\\n\\t\\t\\t\\t\\t\\t\\t\\t\\tdata = \\'<button data-toggle=\"modal\" data-target=\"#diffModal\" onclick=\"\" style=\"background: url(/diseasedb_static/img/boxplot2.svg);width: 2.5rem;height: 2.5rem;border: none;\" value=\"\\' + data + \\'\"></button>\\'\\n\\t\\t\\t\\t\\t\\t\\t\\t}\\n\\t\\t\\t\\t\\t\\t\\t\\treturn data;\\n\\t\\t\\t\\t\\t\\t\\t},\\n\\t\\t\\t\\t\\t\\n\\t\\t\\t\\t\\t\\t}\\n\\t\\t\\t\\t\\t]\\n\\t\\t});\\n\\t});\\n</script>\\n\\n\\n\\n\\n\\n\\t\\t\\t\\t\\t\\t\\n<div class=\"modal fade\" id=\"diffModal\" tabindex=\"1\" role=\"dialog\" aria-labelledby=\"myModalLabel\" aria-hidden=\"true\">\\n\\t<div class=\"modal-dialog\">\\n\\t\\t<div class=\"modal-content\">\\n\\t\\t\\t<div class=\"modal-header\">\\n\\t\\t\\t\\t<h4 class=\"modal-title\" id=\"diffModalLabel\"></h4>\\n\\t\\t\\t\\t<svg version=\"1.1\" id=\"loader-diff\" xmlns=\"http://www.w3.org/2000/svg\" xmlns:xlink=\"http://www.w3.org/1999/xlink\" x=\"0px\" y=\"0px\"\\n\\t\\t\\t\\t width=\"40px\" height=\"40px\" viewBox=\"0 0 40 40\" enable-background=\"new 0 0 40 40\" xml:space=\"preserve\">\\n\\t\\t\\t\\t<path opacity=\"0.2\" fill=\"#000\" d=\"M20.201,5.169c-8.254,0-14.946,6.692-14.946,14.946c0,8.255,6.692,14.946,14.946,14.946\\n\\t\\t\\t\\t  s14.946-6.691,14.946-14.946C35.146,11.861,28.455,5.169,20.201,5.169z M20.201,31.749c-6.425,0-11.634-5.208-11.634-11.634\\n\\t\\t\\t\\t  c0-6.425,5.209-11.634,11.634-11.634c6.425,0,11.633,5.209,11.633,11.634C31.834,26.541,26.626,31.749,20.201,31.749z\"/>\\n\\t\\t\\t\\t<path fill=\"#000\" d=\"M26.013,10.047l1.654-2.866c-2.198-1.272-4.743-2.012-7.466-2.012h0v3.312h0\\n\\t\\t\\t\\t  C22.32,8.481,24.301,9.057,26.013,10.047z\">\\n\\t\\t\\t\\t  <animateTransform attributeType=\"xml\"\\n\\t\\t\\t\\t    attributeName=\"transform\"\\n\\t\\t\\t\\t    type=\"rotate\"\\n\\t\\t\\t\\t    from=\"0 20 20\"\\n\\t\\t\\t\\t    to=\"360 20 20\"\\n\\t\\t\\t\\t    dur=\"0.5s\"\\n\\t\\t\\t\\t    repeatCount=\"indefinite\"/>\\n\\t\\t\\t\\t  </path>\\n\\t\\t\\t\\t</svg>\\n\\t\\t\\t\\t<button type=\"button\" class=\"close\" data-dismiss=\"modal\" aria-hidden=\"true\">\\n\\t\\t\\t\\t\\t&times;\\n\\t\\t\\t\\t</button>\\n\\t\\t\\t</div>\\n\\t\\t\\t<div id=\"commonboxplotDiv\" style=\"width: 495px;\"></div>\\n\\t\\t</div><!-- /.modal-content -->\\n\\t</div><!-- /.modal -->\\n</div>\\n\\n\\n<script>\\n\\t$(document).ready(function(){\\n\\t\\t$(\\'#diffgene\\').on(\\'click\\', \\'button\\', function(){\\n\\t\\t\\t\\n\\t\\t\\tvar formData=new FormData();\\n\\t\\t\\t// formData.append(\\'gene\\',fc_table.row(this).data()[\\'symbol\\'])\\n\\t\\t\\tformData.append(\\'gene\\',$(this).val())\\n\\t\\t\\tformData.append(\\'studyid\\',$(\\'#studyid\\').val())\\n\\t\\t\\tformData.append(\\'id\\',$(this).parent().parent().parent().parent().attr(\\'id\\'))\\n\\t\\t\\t// add gene name to modal\\n\\t\\t\\t$(\\'#diffModalLabel\\').empty()\\n\\t\\t\\t$(\"#commonboxplotDiv\").empty()\\n\\t\\t\\t$(\"#loader-diff\").show()\\n\\t\\t\\t$(\\'#diffModalLabel\\').append($(this).parent().parent().children().eq(0).text())\\n\\t\\t\\t$(\\'#myModalLabel\\').empty()\\n\\t\\t\\t$(\\'#myModalLabel\\').append($(this).parent().parent().children().eq(0).text())\\n\\t\\t   // console.log(\\'API row values: \\', formData);\\n\\t\\t   $.ajax({\\n\\t\\t\\turl:\\'/disignatlas/get_boxplot\\',\\n\\t\\t\\ttype:\"POST\",\\n\\t\\t\\theaders: {\"X-CSRFToken\": csrftoken},\\n\\t\\t\\tdata:formData,\\n\\t\\t\\tprocessData:false,\\n\\t\\t\\tcontentType:false,\\n\\t\\t\\tsuccess:function(exp_data){\\n\\t\\t\\t\\texp_data_decode=JSON.parse(exp_data)\\n\\t\\t\\t\\t// console.log(exp_data_decode)\\n\\t\\t\\t\\t// $(\"#Scatter3DDiv\").hide()\\n\\t\\t\\t\\t// console.log(csrftoken)\\n\\t\\t\\t\\t// Plotly.newPlot(\\'SearchDiv\\', exp_data_decode, trace_list_layout);\\n\\t\\t\\t\\tPlotly.newPlot(\\'commonboxplotDiv\\', exp_data_decode, boxplot_trace_list_layout);\\n\\t\\t\\t\\t$(\"#loader-diff\").hide()\\n\\t\\t\\t}\\n\\t\\t   })\\n\\t\\t   // window.location.href = \\'detail/\\'+ sample_id;\\n\\t\\t  })\\n\\t\\t\\n\\t})\\n</script>\\n\\t\\t\\t\\t\\t\\t<h3 class=\"panel-heading\" id=\"list-item-2\"\\n\\t\\t\\t\\tstyle=\"margin: 1rem 0 0rem 0 ;background-color: #17a2b8;color: #ffffff;\">Volcano plot</h3>\\n<div class=\"container col-12\">\\n\\t<div class=\"row\">\\n\\t\\t<div id=\"volcano\" style=\"width: 100%;height:800px;\"></div>\\n\\t</div>\\n</div>\\n\\n\\n<script type=\"text/javascript\">\\nvar log2fc_cutoff = \\'0\\';\\nvar volcano_data = [{\"x\": [], \"y\": [], \"mode\": \"markers\", \"type\": \"scatter\", \"name\": \"Up(0)\", \"marker\": {\"color\": \"#cd6d5d\", \"size\": 5}, \"text\": [], \"hovertemplate\": \"<i>gene symbol</i>: %{text}\"}, {\"x\": [], \"y\": [], \"mode\": \"markers\", \"type\": \"scatter\", \"name\": \"Down(0)\", \"marker\": {\"color\": \"#4698c9\", \"size\": 5}, \"text\": [], \"hovertemplate\": \"<i>gene symbol</i>: %{text}\"}, {\"x\": [4.446, 4.314, 4.29, 4.138, 4.038, 3.738, 3.574, 3.538, 3.513, 3.42, 3.375, 3.199, 3.199, 3.144, 3.141, 2.992, 2.987, 2.826, 2.753, 2.747, 2.703, 2.672, 2.664, 2.658, 2.657, 2.63, 2.623, 2.58, 2.557, 2.547, 2.514, 2.509, 2.486, 2.477, 2.448, 2.447, 2.438, 2.438, 2.436, 2.415, 2.408, 2.403, 2.354, 2.347, 2.345, 2.312, 2.266, 2.258, 2.231, 2.23, 2.227, 2.205, 2.199, 2.179, 2.167, 2.161, 2.145, 2.143, 2.111, 2.109, 2.106, 2.105, 2.093, 2.085, 2.081, 2.076, 2.074, 2.074, 2.071, 2.07, 2.068, 2.066, 2.065, 2.061, 2.058, 2.039, 2.036, 2.024, 2.013, 2.011, 2.01, 2.007, 1.991, 1.987, 1.983, 1.981, 1.976, 1.973, 1.968, 1.967, 1.967, 1.966, 1.962, 1.957, 1.955, 1.954, 1.947, 1.945, 1.941, 1.94, 1.94, 1.939, 1.93, 1.92, 1.918, 1.917, 1.913, 1.902, 1.894, 1.89, 1.889, 1.887, 1.881, 1.879, 1.875, 1.864, 1.863, 1.857, 1.848, 1.839, 1.839, 1.838, 1.832, 1.831, 1.829, 1.828, 1.819, 1.817, 1.814, 1.813, 1.806, 1.805, 1.804, 1.798, 1.789, 1.786, 1.785, 1.78, 1.776, 1.774, 1.77, 1.768, 1.765, 1.76, 1.753, 1.75, 1.748, 1.741, 1.741, 1.741, 1.741, 1.736, 1.735, 1.733, 1.733, 1.733, 1.727, 1.726, 1.725, 1.722, 1.71, 1.706, 1.705, 1.704, 1.704, 1.701, 1.699, 1.699, 1.696, 1.694, 1.688, 1.684, 1.67, 1.667, 1.664, 1.659, 1.657, 1.652, 1.651, 1.65, 1.65, 1.65, 1.643, 1.638, 1.636, 1.635, 1.634, 1.631, 1.63, 1.628, 1.627, 1.627, 1.616, 1.616, 1.615, 1.613, 1.603, 1.594, 1.59, 1.589, 1.587, 1.586, 1.586, 1.583, 1.583, 1.573, 1.573, 1.57, 1.568, 1.563, 1.561, 1.561, 1.56, 1.556, 1.554, 1.552, 1.55, 1.549, 1.547, 1.542, 1.536, 1.535, 1.533, 1.533, 1.531, 1.524, 1.52, 1.518, 1.518, 1.518, 1.515, 1.511, 1.511, 1.51, 1.509, 1.506, 1.505, 1.501, 1.498, 1.497, 1.494, 1.492, 1.49, 1.489, 1.487, 1.487, 1.487, 1.486, 1.485, 1.484, 1.483, 1.48, 1.48, 1.479, 1.476, 1.474, 1.472, 1.471, 1.461, 1.455, 1.454, 1.453, 1.453, 1.45, 1.45, 1.449, 1.448, 1.448, 1.447, 1.443, 1.443, 1.441, 1.441, 1.438, 1.438, 1.435, 1.434, 1.432, 1.431, 1.429, 1.427, 1.426, 1.425, 1.423, 1.42, 1.417, 1.414, 1.413, 1.411, 1.411, 1.411, 1.41, 1.409, 1.407, 1.405, 1.404, 1.404, 1.397, 1.393, 1.393, 1.39, 1.388, 1.387, 1.387, 1.385, 1.385, 1.384, 1.381, 1.379, 1.376, 1.374, 1.373, 1.372, 1.371, 1.371, 1.369, 1.369, 1.368, 1.367, 1.367, 1.366, 1.364, 1.363, 1.363, 1.36, 1.359, 1.358, 1.357, 1.357, 1.355, 1.353, 1.349, 1.346, 1.345, 1.344, 1.344, 1.344, 1.343, 1.34, 1.338, 1.338, 1.337, 1.333, 1.332, 1.329, 1.325, 1.325, 1.323, 1.322, 1.321, 1.32, 1.319, 1.316, 1.316, 1.316, 1.316, 1.316, 1.315, 1.314, 1.312, 1.312, 1.312, 1.306, 1.303, 1.302, 1.301, 1.301, 1.301, 1.3, 1.299, 1.298, 1.297, 1.297, 1.296, 1.295, 1.292, 1.292, 1.29, 1.29, 1.285, 1.284, 1.283, 1.281, 1.28, 1.278, 1.274, 1.274, 1.269, 1.269, 1.268, 1.265, 1.265, 1.265, 1.264, 1.261, 1.259, 1.257, 1.256, 1.255, 1.254, 1.251, 1.25, 1.249, 1.248, 1.247, 1.244, 1.244, 1.237, 1.234, 1.234, 1.233, 1.233, 1.231, 1.23, 1.229, 1.229, 1.229, 1.229, 1.228, 1.228, 1.227, 1.226, 1.226, 1.225, 1.224, 1.223, 1.222, 1.221, 1.218, 1.218, 1.217, 1.216, 1.212, 1.212, 1.211, 1.209, 1.208, 1.204, 1.202, 1.202, 1.201, 1.198, 1.198, 1.198, 1.194, 1.187, 1.186, 1.186, 1.185, 1.185, 1.181, 1.181, 1.18, 1.18, 1.176, 1.172, 1.17, 1.17, 1.17, 1.167, 1.166, 1.166, 1.162, 1.162, 1.161, 1.161, 1.16, 1.159, 1.157, 1.157, 1.157, 1.157, 1.156, 1.156, 1.155, 1.154, 1.153, 1.153, 1.153, 1.152, 1.151, 1.15, 1.15, 1.148, 1.148, 1.146, 1.144, 1.144, 1.144, 1.144, 1.144, 1.142, 1.141, 1.141, 1.14, 1.139, 1.138, 1.137, 1.137, 1.137, 1.135, 1.134, 1.133, 1.133, 1.132, 1.13, 1.13, 1.127, 1.125, 1.124, 1.124, 1.123, 1.123, 1.122, 1.122, 1.121, 1.12, 1.12, 1.119, 1.118, 1.117, 1.115, 1.115, 1.113, 1.113, 1.113, 1.113, 1.113, 1.112, 1.11, 1.11, 1.11, 1.109, 1.109, 1.108, 1.106, 1.106, 1.103, 1.102, 1.1, 1.096, 1.096, 1.096, 1.095, 1.093, 1.092, 1.092, 1.091, 1.09, 1.09, 1.09, 1.089, 1.089, 1.088, 1.088, 1.088, 1.087, 1.085, 1.085, 1.084, 1.083, 1.083, 1.083, 1.083, 1.082, 1.081, 1.081, 1.081, 1.08, 1.08, 1.079, 1.079, 1.079, 1.079, 1.079, 1.079, 1.079, 1.079, 1.079, 1.079, 1.079, 1.079, 1.079, 1.079, 1.079, 1.079, 1.079, 1.078, 1.078, 1.078, 1.078, 1.076, 1.076, 1.076, 1.076, 1.075, 1.075, 1.075, 1.075, 1.075, 1.075, 1.075, 1.075, 1.074, 1.074, 1.074, 1.074, 1.073, 1.073, 1.073, 1.073, 1.073, 1.073, 1.073, 1.072, 1.072, 1.072, 1.072, 1.071, 1.071, 1.071, 1.071, 1.069, 1.068, 1.066, 1.066, 1.066, 1.065, 1.064, 1.064, 1.064, 1.063, 1.062, 1.06, 1.057, 1.057, 1.057, 1.056, 1.056, 1.054, 1.053, 1.053, 1.049, 1.049, 1.048, 1.047, 1.046, 1.046, 1.045, 1.044, 1.044, 1.043, 1.043, 1.042, 1.042, 1.042, 1.041, 1.041, 1.041, 1.04, 1.039, 1.038, 1.038, 1.037, 1.037, 1.037, 1.03, 1.03, 1.028, 1.027, 1.026, 1.025, 1.025, 1.024, 1.022, 1.022, 1.021, 1.02, 1.02, 1.018, 1.016, 1.014, 1.014, 1.013, 1.012, 1.012, 1.011, 1.011, 1.008, 1.008, 1.007, 1.007, 1.006, 1.006, 1.006, 1.006, 1.006, 1.006, 1.004, 1.004, 1.003, 1.001, 1.001, 0.999, 0.999, 0.999, 0.999, 0.999, 0.999, 0.998, 0.998, 0.998, 0.998, 0.998, 0.998, 0.998, 0.998, 0.998, 0.998, 0.997, 0.997, 0.996, 0.996, 0.995, 0.995, 0.994, 0.994, 0.991, 0.991, 0.99, 0.99, 0.989, 0.989, 0.989, 0.988, 0.988, 0.987, 0.987, 0.985, 0.984, 0.984, 0.982, 0.981, 0.981, 0.98, 0.979, 0.979, 0.978, 0.978, 0.977, 0.976, 0.976, 0.976, 0.976, 0.976, 0.975, 0.975, 0.975, 0.97, 0.97, 0.97, 0.968, 0.967, 0.967, 0.966, 0.966, 0.964, 0.964, 0.964, 0.963, 0.963, 0.963, 0.962, 0.96, 0.96, 0.958, 0.957, 0.955, 0.954, 0.953, 0.952, 0.952, 0.951, 0.95, 0.95, 0.95, 0.949, 0.948, 0.948, 0.946, 0.946, 0.946, 0.942, 0.942, 0.942, 0.942, 0.942, 0.942, 0.942, 0.942, 0.942, 0.942, 0.942, 0.942, 0.942, 0.94, 0.94, 0.94, 0.94, 0.938, 0.937, 0.937, 0.937, 0.934, 0.933, 0.931, 0.931, 0.93, 0.93, 0.928, 0.928, 0.926, 0.924, 0.924, 0.924, 0.923, 0.923, 0.921, 0.919, 0.917, 0.917, 0.917, 0.917, 0.916, 0.916, 0.916, 0.915, 0.915, 0.914, 0.914, 0.913, 0.912, 0.911, 0.911, 0.911, 0.909, 0.909, 0.908, 0.908, 0.907, 0.907, 0.906, 0.906, 0.906, 0.904, 0.904, 0.903, 0.903, 0.903, 0.903, 0.903, 0.902, 0.902, 0.901, 0.901, 0.9, 0.9, 0.9, 0.899, 0.898, 0.898, 0.898, 0.898, 0.897, 0.895, 0.894, 0.893, 0.893, 0.892, 0.892, 0.892, 0.891, 0.889, 0.889, 0.889, 0.887, 0.885, 0.883, 0.882, 0.88, 0.879, 0.879, 0.878, 0.878, 0.876, 0.876, 0.876, 0.875, 0.875, 0.874, 0.874, 0.873, 0.873, 0.872, 0.872, 0.871, 0.87, 0.87, 0.87, 0.87, 0.869, 0.867, 0.865, 0.865, 0.864, 0.864, 0.864, 0.863, 0.863, 0.863, 0.862, 0.862, 0.86, 0.86, 0.859, 0.858, 0.855, 0.855, 0.854, 0.853, 0.852, 0.852, 0.852, 0.851, 0.85, 0.85, 0.849, 0.849, 0.849, 0.849, 0.849, 0.848, 0.848, 0.848, 0.847, 0.846, 0.846, 0.846, 0.844, 0.844, 0.843, 0.842, 0.841, 0.84, 0.839, 0.839, 0.837, 0.836, 0.836, 0.835, 0.834, 0.833, 0.833, 0.832, 0.832, 0.831, 0.83, 0.83, 0.83, 0.83, 0.83, 0.829, 0.829, 0.828, 0.828, 0.827, 0.827, 0.827, 0.825, 0.824, 0.823, 0.823, 0.822, 0.822, 0.821, 0.821, 0.82, 0.82, 0.819, 0.818, 0.818, 0.815, 0.815, 0.813, 0.813, 0.812, 0.812, 0.812, 0.812, 0.812, 0.811, 0.811, 0.811, 0.81, 0.81, 0.81, 0.809, 0.809, 0.809, 0.808, 0.808, 0.807, 0.807, 0.805, 0.805, 0.804, 0.804, 0.804, 0.804, 0.801, 0.801, 0.801, 0.801, 0.8, 0.8, 0.8, 0.8, 0.799, 0.799, 0.798, 0.798, 0.798, 0.798, 0.797, 0.796, 0.795, 0.793, 0.793, 0.793, 0.793, 0.792, 0.792, 0.792, 0.791, 0.791, 0.791, 0.791, 0.79, 0.79, 0.789, 0.788, 0.788, 0.787, 0.787, 0.787, 0.786, 0.786, 0.786, 0.785, 0.784, 0.784, 0.783, 0.783, 0.783, 0.783, 0.782, 0.782, 0.782, 0.782, 0.781, 0.781, 0.781, 0.781, 0.78, 0.78, 0.779, 0.778, 0.778, 0.777, 0.777, 0.776, 0.776, 0.776, 0.775, 0.775, 0.774, 0.774, 0.774, 0.773, 0.773, 0.772, 0.771, 0.771, 0.77, 0.77, 0.768, 0.766, 0.766, 0.766, 0.765, 0.764, 0.764, 0.763, 0.761, 0.761, 0.76, 0.759, 0.759, 0.759, 0.758, 0.757, 0.757, 0.755, 0.755, 0.754, 0.754, 0.754, 0.754, 0.753, 0.753, 0.753, 0.75, 0.749, 0.749, 0.749, 0.749, 0.748, 0.747, 0.747, 0.747, 0.746, 0.746, 0.746, 0.745, 0.745, 0.744, 0.744, 0.744, 0.743, 0.743, 0.743, 0.743, 0.743, 0.743, 0.742, 0.741, 0.741, 0.74, 0.74, 0.74, 0.74, 0.739, 0.739, 0.739, 0.739, 0.739, 0.738, 0.737, 0.737, 0.736, 0.736, 0.736, 0.735, 0.735, 0.734, 0.733, 0.733, 0.733, 0.733, 0.732, 0.732, 0.731, 0.731, 0.731, 0.731, 0.73, 0.73, 0.729, 0.729, 0.729, 0.729, 0.729, 0.729, 0.728, 0.728, 0.727, 0.727, 0.727, 0.726, 0.726, 0.725, 0.724, 0.724, 0.724, 0.724, 0.724, 0.722, 0.722, 0.722, 0.722, 0.721, 0.721, 0.721, 0.721, 0.721, 0.721, 0.72, 0.72, 0.719, 0.719, 0.719, 0.718, 0.718, 0.718, 0.718, 0.718, 0.718, 0.717, 0.717, 0.717, 0.717, 0.716, 0.716, 0.715, 0.714, 0.714, 0.714, 0.714, 0.714, 0.714, 0.714, 0.714, 0.714, 0.714, 0.714, 0.714, 0.714, 0.713, 0.713, 0.713, 0.713, 0.713, 0.712, 0.712, 0.712, 0.712, 0.712, 0.712, 0.712, 0.711, 0.711, 0.711, 0.711, 0.711, 0.71, 0.71, 0.71, 0.71, 0.71, 0.71, 0.71, 0.71, 0.709, 0.709, 0.709, 0.709, 0.709, 0.709, 0.709, 0.709, 0.709, 0.709, 0.709, 0.709, 0.709, 0.708, 0.708, 0.708, 0.708, 0.708, 0.708, 0.708, 0.708, 0.708, 0.708, 0.708, 0.707, 0.707, 0.707, 0.707, 0.707, 0.707, 0.706, 0.706, 0.705, 0.704, 0.703, 0.703, 0.702, 0.701, 0.701, 0.7, 0.699, 0.699, 0.699, 0.698, 0.698, 0.698, 0.698, 0.697, 0.697, 0.696, 0.696, 0.696, 0.695, 0.694, 0.694, 0.694, 0.693, 0.693, 0.693, 0.693, 0.693, 0.692, 0.691, 0.691, 0.69, 0.69, 0.69, 0.689, 0.689, 0.689, 0.688, 0.688, 0.687, 0.686, 0.686, 0.685, 0.685, 0.685, 0.684, 0.684, 0.683, 0.683, 0.682, 0.681, 0.681, 0.68, 0.68, 0.68, 0.68, 0.679, 0.679, 0.679, 0.677, 0.677, 0.677, 0.676, 0.676, 0.675, 0.674, 0.674, 0.674, 0.674, 0.673, 0.673, 0.673, 0.673, 0.673, 0.672, 0.671, 0.671, 0.671, 0.671, 0.671, 0.671, 0.671, 0.671, 0.671, 0.671, 0.671, 0.671, 0.671, 0.671, 0.671, 0.671, 0.671, 0.671, 0.671, 0.671, 0.671, 0.671, 0.671, 0.671, 0.671, 0.671, 0.671, 0.671, 0.671, 0.671, 0.671, 0.671, 0.671, 0.671, 0.671, 0.671, 0.671, 0.671, 0.671, 0.671, 0.671, 0.671, 0.671, 0.671, 0.671, 0.671, 0.671, 0.671, 0.671, 0.671, 0.671, 0.671, 0.671, 0.671, 0.671, 0.671, 0.671, 0.671, 0.671, 0.671, 0.671, 0.671, 0.671, 0.671, 0.671, 0.671, 0.671, 0.671, 0.671, 0.671, 0.671, 0.671, 0.671, 0.671, 0.671, 0.671, 0.671, 0.671, 0.671, 0.671, 0.671, 0.671, 0.671, 0.671, 0.671, 0.671, 0.671, 0.671, 0.671, 0.671, 0.671, 0.671, 0.671, 0.671, 0.671, 0.671, 0.671, 0.671, 0.671, 0.671, 0.671, 0.671, 0.671, 0.671, 0.671, 0.671, 0.671, 0.671, 0.671, 0.671, 0.671, 0.671, 0.671, 0.671, 0.671, 0.671, 0.671, 0.671, 0.671, 0.671, 0.671, 0.671, 0.671, 0.671, 0.671, 0.671, 0.671, 0.671, 0.671, 0.671, 0.671, 0.671, 0.671, 0.671, 0.671, 0.671, 0.671, 0.671, 0.671, 0.671, 0.671, 0.671, 0.671, 0.671, 0.671, 0.671, 0.671, 0.67, 0.67, 0.669, 0.668, 0.668, 0.667, 0.666, 0.666, 0.666, 0.666, 0.666, 0.666, 0.666, 0.666, 0.666, 0.666, 0.666, 0.666, 0.666, 0.666, 0.666, 0.666, 0.666, 0.666, 0.666, 0.666, 0.666, 0.666, 0.666, 0.666, 0.666, 0.666, 0.666, 0.666, 0.666, 0.665, 0.664, 0.664, 0.664, 0.664, 0.664, 0.664, 0.664, 0.664, 0.664, 0.663, 0.663, 0.663, 0.663, 0.661, 0.661, 0.661, 0.66, 0.66, 0.66, 0.66, 0.659, 0.659, 0.658, 0.658, 0.657, 0.657, 0.657, 0.656, 0.656, 0.656, 0.656, 0.654, 0.654, 0.654, 0.654, 0.654, 0.653, 0.653, 0.653, 0.653, 0.652, 0.652, 0.652, 0.651, 0.651, 0.651, 0.651, 0.65, 0.65, 0.65, 0.65, 0.65, 0.649, 0.649, 0.649, 0.649, 0.648, 0.648, 0.648, 0.648, 0.648, 0.648, 0.647, 0.647, 0.646, 0.646, 0.645, 0.645, 0.645, 0.645, 0.643, 0.643, 0.643, 0.643, 0.642, 0.642, 0.642, 0.642, 0.642, 0.642, 0.641, 0.641, 0.641, 0.641, 0.641, 0.641, 0.64, 0.64, 0.64, 0.64, 0.64, 0.64, 0.64, 0.64, 0.64, 0.64, 0.64, 0.64, 0.64, 0.64, 0.64, 0.64, 0.64, 0.64, 0.64, 0.64, 0.64, 0.639, 0.639, 0.639, 0.639, 0.638, 0.638, 0.638, 0.638, 0.637, 0.637, 0.637, 0.637, 0.637, 0.636, 0.636, 0.636, 0.636, 0.635, 0.635, 0.634, 0.634, 0.634, 0.634, 0.633, 0.632, 0.632, 0.631, 0.631, 0.631, 0.631, 0.63, 0.63, 0.63, 0.63, 0.629, 0.629, 0.629, 0.629, 0.629, 0.628, 0.627, 0.627, 0.627, 0.627, 0.626, 0.626, 0.625, 0.625, 0.625, 0.625, 0.625, 0.625, 0.625, 0.625, 0.624, 0.624, 0.624, 0.624, 0.624, 0.624, 0.623, 0.623, 0.622, 0.621, 0.621, 0.621, 0.621, 0.62, 0.62, 0.62, 0.619, 0.618, 0.618, 0.617, 0.617, 0.616, 0.616, 0.616, 0.616, 0.616, 0.615, 0.614, 0.614, 0.614, 0.614, 0.614, 0.614, 0.613, 0.613, 0.613, 0.612, 0.612, 0.612, 0.612, 0.611, 0.611, 0.611, 0.61, 0.61, 0.61, 0.609, 0.609, 0.609, 0.609, 0.608, 0.608, 0.607, 0.607, 0.607, 0.607, 0.607, 0.607, 0.606, 0.605, 0.605, 0.605, 0.605, 0.605, 0.604, 0.604, 0.604, 0.603, 0.603, 0.603, 0.603, 0.603, 0.603, 0.603, 0.603, 0.603, 0.602, 0.602, 0.601, 0.601, 0.601, 0.601, 0.601, 0.6, 0.6, 0.6, 0.6, 0.599, 0.599, 0.599, 0.598, 0.598, 0.598, 0.598, 0.597, 0.597, 0.597, 0.597, 0.596, 0.596, 0.596, 0.596, 0.595, 0.595, 0.594, 0.594, 0.593, 0.592, 0.592, 0.59, 0.59, 0.589, 0.589, 0.588, 0.588, 0.588, 0.587, 0.587, 0.587, 0.587, 0.586, 0.586, 0.586, 0.585, 0.585, 0.585, 0.585, 0.584, 0.584, 0.584, 0.584, 0.584, 0.584, 0.583, 0.583, 0.582, 0.582, 0.582, 0.581, 0.581, 0.58, 0.58, 0.58, 0.58, 0.58, 0.578, 0.578, 0.577, 0.577, 0.576, 0.576, 0.576, 0.576, 0.576, 0.576, 0.575, 0.575, 0.575, 0.574, 0.574, 0.574, 0.574, 0.574, 0.573, 0.573, 0.572, 0.572, 0.572, 0.572, 0.572, 0.572, 0.572, 0.572, 0.571, 0.571, 0.571, 0.571, 0.571, 0.571, 0.571, 0.571, 0.571, 0.571, 0.57, 0.57, 0.57, 0.57, 0.57, 0.57, 0.569, 0.569, 0.569, 0.568, 0.568, 0.568, 0.566, 0.566, 0.566, 0.566, 0.566, 0.566, 0.566, 0.566, 0.566, 0.565, 0.565, 0.565, 0.565, 0.565, 0.564, 0.564, 0.564, 0.564, 0.564, 0.563, 0.562, 0.562, 0.562, 0.562, 0.562, 0.562, 0.561, 0.561, 0.561, 0.56, 0.56, 0.56, 0.559, 0.559, 0.559, 0.558, 0.557, 0.557, 0.557, 0.557, 0.557, 0.556, 0.556, 0.556, 0.556, 0.556, 0.555, 0.554, 0.554, 0.554, 0.553, 0.553, 0.552, 0.552, 0.552, 0.552, 0.552, 0.551, 0.55, 0.55, 0.55, 0.549, 0.549, 0.549, 0.548, 0.548, 0.548, 0.548, 0.547, 0.547, 0.546, 0.546, 0.546, 0.546, 0.545, 0.545, 0.545, 0.545, 0.545, 0.545, 0.545, 0.544, 0.544, 0.544, 0.543, 0.543, 0.543, 0.543, 0.543, 0.543, 0.543, 0.542, 0.542, 0.542, 0.541, 0.541, 0.541, 0.541, 0.54, 0.54, 0.54, 0.54, 0.54, 0.54, 0.54, 0.54, 0.539, 0.539, 0.539, 0.539, 0.538, 0.538, 0.538, 0.538, 0.538, 0.538, 0.537, 0.537, 0.536, 0.536, 0.536, 0.535, 0.535, 0.535, 0.534, 0.533, 0.533, 0.533, 0.532, 0.532, 0.532, 0.532, 0.532, 0.532, 0.531, 0.531, 0.531, 0.531, 0.531, 0.531, 0.53, 0.53, 0.53, 0.53, 0.53, 0.53, 0.53, 0.53, 0.529, 0.529, 0.529, 0.529, 0.529, 0.528, 0.528, 0.528, 0.528, 0.528, 0.528, 0.527, 0.527, 0.527, 0.527, 0.527, 0.525, 0.525, 0.525, 0.524, 0.524, 0.524, 0.524, 0.523, 0.523, 0.522, 0.522, 0.522, 0.521, 0.521, 0.521, 0.521, 0.521, 0.521, 0.521, 0.52, 0.52, 0.52, 0.52, 0.52, 0.519, 0.519, 0.519, 0.519, 0.518, 0.518, 0.518, 0.518, 0.517, 0.517, 0.517, 0.517, 0.517, 0.516, 0.516, 0.516, 0.516, 0.516, 0.516, 0.516, 0.515, 0.515, 0.515, 0.514, 0.514, 0.514, 0.514, 0.513, 0.513, 0.513, 0.513, 0.512, 0.512, 0.512, 0.511, 0.511, 0.511, 0.511, 0.511, 0.511, 0.51, 0.51, 0.51, 0.51, 0.51, 0.509, 0.509, 0.509, 0.508, 0.508, 0.508, 0.507, 0.507, 0.506, 0.506, 0.506, 0.506, 0.506, 0.506, 0.505, 0.505, 0.505, 0.505, 0.505, 0.504, 0.504, 0.504, 0.504, 0.504, 0.504, 0.503, 0.503, 0.503, 0.503, 0.502, 0.502, 0.502, 0.501, 0.5, 0.5, 0.5, 0.499, 0.499, 0.499, 0.499, 0.498, 0.498, 0.498, 0.498, 0.498, 0.498, 0.498, 0.497, 0.497, 0.497, 0.497, 0.496, 0.496, 0.496, 0.496, 0.496, 0.495, 0.495, 0.495, 0.494, 0.494, 0.494, 0.494, 0.493, 0.492, 0.492, 0.492, 0.492, 0.491, 0.491, 0.491, 0.491, 0.491, 0.491, 0.49, 0.49, 0.49, 0.49, 0.49, 0.49, 0.49, 0.489, 0.489, 0.489, 0.489, 0.488, 0.487, 0.487, 0.487, 0.487, 0.487, 0.487, 0.487, 0.487, 0.487, 0.487, 0.486, 0.486, 0.486, 0.486, 0.486, 0.485, 0.485, 0.485, 0.484, 0.484, 0.484, 0.484, 0.484, 0.484, 0.483, 0.483, 0.483, 0.483, 0.483, 0.483, 0.483, 0.482, 0.482, 0.481, 0.481, 0.481, 0.481, 0.481, 0.481, 0.481, 0.48, 0.48, 0.479, 0.479, 0.479, 0.478, 0.478, 0.478, 0.478, 0.478, 0.478, 0.477, 0.477, 0.477, 0.477, 0.477, 0.476, 0.476, 0.476, 0.476, 0.476, 0.476, 0.475, 0.475, 0.474, 0.474, 0.474, 0.474, 0.473, 0.473, 0.473, 0.473, 0.473, 0.473, 0.473, 0.472, 0.472, 0.472, 0.471, 0.471, 0.471, 0.471, 0.471, 0.47, 0.47, 0.47, 0.47, 0.47, 0.47, 0.47, 0.469, 0.469, 0.469, 0.469, 0.468, 0.468, 0.468, 0.468, 0.468, 0.468, 0.467, 0.467, 0.466, 0.466, 0.466, 0.466, 0.466, 0.466, 0.465, 0.465, 0.464, 0.464, 0.463, 0.463, 0.463, 0.463, 0.463, 0.463, 0.463, 0.462, 0.462, 0.462, 0.462, 0.461, 0.461, 0.461, 0.461, 0.461, 0.461, 0.461, 0.46, 0.46, 0.46, 0.46, 0.46, 0.459, 0.459, 0.459, 0.459, 0.459, 0.459, 0.459, 0.459, 0.458, 0.458, 0.458, 0.458, 0.458, 0.457, 0.457, 0.457, 0.457, 0.457, 0.457, 0.457, 0.457, 0.456, 0.456, 0.455, 0.455, 0.455, 0.453, 0.453, 0.453, 0.452, 0.452, 0.452, 0.452, 0.451, 0.451, 0.451, 0.45, 0.45, 0.45, 0.45, 0.45, 0.45, 0.45, 0.449, 0.448, 0.448, 0.448, 0.448, 0.448, 0.447, 0.447, 0.447, 0.447, 0.446, 0.446, 0.446, 0.446, 0.446, 0.446, 0.446, 0.445, 0.445, 0.445, 0.444, 0.444, 0.444, 0.443, 0.443, 0.443, 0.443, 0.443, 0.443, 0.443, 0.443, 0.443, 0.442, 0.442, 0.442, 0.442, 0.442, 0.441, 0.441, 0.441, 0.441, 0.44, 0.44, 0.44, 0.44, 0.44, 0.439, 0.438, 0.438, 0.438, 0.438, 0.437, 0.437, 0.437, 0.437, 0.437, 0.437, 0.437, 0.436, 0.436, 0.436, 0.435, 0.435, 0.435, 0.435, 0.434, 0.434, 0.434, 0.434, 0.434, 0.434, 0.433, 0.433, 0.433, 0.433, 0.432, 0.432, 0.432, 0.432, 0.432, 0.431, 0.431, 0.431, 0.431, 0.431, 0.43, 0.43, 0.43, 0.43, 0.429, 0.429, 0.429, 0.429, 0.429, 0.428, 0.428, 0.428, 0.428, 0.427, 0.427, 0.426, 0.426, 0.425, 0.425, 0.425, 0.425, 0.425, 0.425, 0.425, 0.425, 0.424, 0.424, 0.424, 0.424, 0.424, 0.424, 0.424, 0.424, 0.424, 0.424, 0.424, 0.424, 0.423, 0.423, 0.423, 0.423, 0.422, 0.422, 0.422, 0.422, 0.422, 0.422, 0.422, 0.422, 0.421, 0.421, 0.421, 0.421, 0.421, 0.421, 0.42, 0.42, 0.42, 0.42, 0.42, 0.42, 0.419, 0.419, 0.419, 0.419, 0.419, 0.418, 0.418, 0.418, 0.418, 0.418, 0.418, 0.418, 0.417, 0.417, 0.417, 0.416, 0.416, 0.416, 0.416, 0.416, 0.416, 0.416, 0.416, 0.415, 0.415, 0.414, 0.414, 0.414, 0.414, 0.413, 0.413, 0.413, 0.413, 0.412, 0.412, 0.412, 0.412, 0.412, 0.411, 0.411, 0.411, 0.411, 0.411, 0.41, 0.41, 0.41, 0.409, 0.409, 0.409, 0.409, 0.408, 0.408, 0.407, 0.407, 0.406, 0.406, 0.406, 0.406, 0.406, 0.406, 0.406, 0.405, 0.405, 0.405, 0.405, 0.405, 0.405, 0.405, 0.405, 0.405, 0.405, 0.405, 0.405, 0.405, 0.404, 0.404, 0.404, 0.404, 0.403, 0.403, 0.402, 0.402, 0.402, 0.402, 0.402, 0.402, 0.402, 0.401, 0.401, 0.401, 0.401, 0.401, 0.401, 0.4, 0.4, 0.4, 0.4, 0.399, 0.399, 0.399, 0.399, 0.399, 0.399, 0.399, 0.398, 0.398, 0.398, 0.398, 0.398, 0.398, 0.398, 0.397, 0.397, 0.397, 0.397, 0.397, 0.397, 0.396, 0.396, 0.396, 0.396, 0.396, 0.395, 0.394, 0.394, 0.394, 0.394, 0.394, 0.393, 0.393, 0.393, 0.393, 0.393, 0.393, 0.393, 0.393, 0.393, 0.393, 0.393, 0.392, 0.392, 0.392, 0.392, 0.392, 0.392, 0.391, 0.391, 0.391, 0.39, 0.39, 0.389, 0.389, 0.389, 0.389, 0.388, 0.388, 0.388, 0.388, 0.388, 0.388, 0.388, 0.387, 0.387, 0.387, 0.387, 0.387, 0.387, 0.386, 0.386, 0.386, 0.386, 0.386, 0.386, 0.386, 0.386, 0.386, 0.386, 0.385, 0.385, 0.385, 0.385, 0.385, 0.385, 0.385, 0.384, 0.384, 0.384, 0.384, 0.384, 0.384, 0.384, 0.383, 0.383, 0.383, 0.383, 0.383, 0.383, 0.382, 0.382, 0.382, 0.382, 0.382, 0.382, 0.381, 0.381, 0.38, 0.38, 0.38, 0.38, 0.38, 0.379, 0.379, 0.379, 0.379, 0.379, 0.379, 0.378, 0.378, 0.378, 0.378, 0.377, 0.377, 0.377, 0.377, 0.377, 0.377, 0.377, 0.377, 0.377, 0.376, 0.376, 0.376, 0.376, 0.376, 0.376, 0.376, 0.375, 0.375, 0.375, 0.375, 0.375, 0.375, 0.375, 0.375, 0.375, 0.374, 0.374, 0.374, 0.374, 0.374, 0.374, 0.374, 0.374, 0.374, 0.373, 0.373, 0.373, 0.373, 0.373, 0.373, 0.372, 0.372, 0.371, 0.371, 0.371, 0.371, 0.371, 0.371, 0.371, 0.371, 0.371, 0.37, 0.37, 0.37, 0.37, 0.37, 0.369, 0.369, 0.369, 0.369, 0.369, 0.369, 0.368, 0.368, 0.368, 0.368, 0.368, 0.368, 0.368, 0.367, 0.367, 0.367, 0.367, 0.367, 0.366, 0.366, 0.366, 0.366, 0.366, 0.366, 0.366, 0.366, 0.366, 0.365, 0.365, 0.365, 0.365, 0.365, 0.365, 0.365, 0.365, 0.365, 0.365, 0.364, 0.364, 0.364, 0.364, 0.364, 0.364, 0.364, 0.364, 0.364, 0.363, 0.363, 0.363, 0.363, 0.363, 0.362, 0.362, 0.362, 0.362, 0.362, 0.362, 0.362, 0.362, 0.362, 0.361, 0.361, 0.361, 0.361, 0.361, 0.361, 0.361, 0.361, 0.361, 0.361, 0.36, 0.36, 0.36, 0.36, 0.36, 0.36, 0.359, 0.359, 0.359, 0.359, 0.359, 0.359, 0.359, 0.359, 0.359, 0.359, 0.359, 0.359, 0.358, 0.358, 0.358, 0.358, 0.358, 0.358, 0.358, 0.358, 0.357, 0.357, 0.357, 0.357, 0.357, 0.357, 0.357, 0.357, 0.357, 0.357, 0.356, 0.356, 0.356, 0.356, 0.355, 0.355, 0.355, 0.355, 0.355, 0.355, 0.355, 0.355, 0.355, 0.354, 0.354, 0.354, 0.354, 0.354, 0.354, 0.354, 0.354, 0.354, 0.354, 0.354, 0.353, 0.353, 0.353, 0.353, 0.353, 0.353, 0.353, 0.353, 0.353, 0.353, 0.353, 0.353, 0.353, 0.353, 0.353, 0.353, 0.353, 0.352, 0.352, 0.352, 0.352, 0.352, 0.352, 0.352, 0.352, 0.352, 0.352, 0.351, 0.351, 0.351, 0.351, 0.351, 0.351, 0.351, 0.351, 0.351, 0.351, 0.35, 0.35, 0.35, 0.35, 0.35, 0.35, 0.35, 0.35, 0.35, 0.35, 0.35, 0.349, 0.349, 0.349, 0.349, 0.349, 0.349, 0.349, 0.349, 0.349, 0.348, 0.348, 0.348, 0.348, 0.348, 0.348, 0.348, 0.348, 0.348, 0.348, 0.347, 0.347, 0.347, 0.347, 0.347, 0.347, 0.347, 0.347, 0.347, 0.347, 0.347, 0.347, 0.347, 0.347, 0.347, 0.347, 0.347, 0.347, 0.347, 0.346, 0.346, 0.346, 0.346, 0.346, 0.346, 0.346, 0.346, 0.346, 0.346, 0.346, 0.346, 0.346, 0.346, 0.346, 0.346, 0.346, 0.346, 0.346, 0.346, 0.346, 0.345, 0.345, 0.345, 0.345, 0.345, 0.345, 0.345, 0.345, 0.345, 0.344, 0.344, 0.344, 0.343, 0.343, 0.343, 0.343, 0.343, 0.343, 0.343, 0.343, 0.342, 0.342, 0.342, 0.342, 0.342, 0.342, 0.342, 0.342, 0.342, 0.342, 0.342, 0.342, 0.342, 0.342, 0.342, 0.342, 0.342, 0.341, 0.341, 0.341, 0.341, 0.341, 0.341, 0.341, 0.341, 0.341, 0.341, 0.341, 0.341, 0.341, 0.341, 0.341, 0.341, 0.341, 0.341, 0.341, 0.34, 0.34, 0.34, 0.34, 0.34, 0.34, 0.34, 0.34, 0.34, 0.34, 0.339, 0.339, 0.339, 0.339, 0.339, 0.339, 0.339, 0.339, 0.339, 0.338, 0.338, 0.338, 0.338, 0.338, 0.337, 0.337, 0.337, 0.337, 0.337, 0.337, 0.336, 0.336, 0.336, 0.336, 0.336, 0.336, 0.335, 0.335, 0.335, 0.335, 0.335, 0.335, 0.334, 0.334, 0.334, 0.334, 0.334, 0.334, 0.334, 0.334, 0.334, 0.334, 0.333, 0.333, 0.333, 0.333, 0.333, 0.333, 0.333, 0.333, 0.332, 0.332, 0.332, 0.332, 0.332, 0.332, 0.331, 0.331, 0.331, 0.331, 0.331, 0.331, 0.331, 0.33, 0.33, 0.33, 0.33, 0.33, 0.33, 0.33, 0.33, 0.329, 0.329, 0.329, 0.329, 0.329, 0.329, 0.329, 0.329, 0.329, 0.328, 0.328, 0.328, 0.328, 0.328, 0.328, 0.328, 0.328, 0.327, 0.327, 0.326, 0.326, 0.326, 0.325, 0.325, 0.325, 0.325, 0.325, 0.325, 0.325, 0.325, 0.325, 0.325, 0.325, 0.324, 0.324, 0.324, 0.324, 0.324, 0.324, 0.324, 0.324, 0.324, 0.324, 0.324, 0.324, 0.324, 0.323, 0.323, 0.323, 0.323, 0.323, 0.323, 0.322, 0.322, 0.322, 0.322, 0.322, 0.322, 0.322, 0.322, 0.322, 0.321, 0.321, 0.321, 0.321, 0.321, 0.321, 0.321, 0.321, 0.321, 0.321, 0.321, 0.321, 0.321, 0.32, 0.32, 0.32, 0.32, 0.32, 0.32, 0.32, 0.32, 0.319, 0.319, 0.319, 0.319, 0.319, 0.319, 0.319, 0.318, 0.318, 0.318, 0.318, 0.318, 0.318, 0.318, 0.317, 0.317, 0.317, 0.317, 0.316, 0.316, 0.316, 0.316, 0.316, 0.316, 0.316, 0.316, 0.316, 0.316, 0.316, 0.315, 0.315, 0.315, 0.315, 0.315, 0.315, 0.314, 0.314, 0.314, 0.314, 0.314, 0.313, 0.313, 0.313, 0.313, 0.313, 0.313, 0.313, 0.313, 0.312, 0.312, 0.312, 0.311, 0.311, 0.311, 0.311, 0.311, 0.311, 0.311, 0.311, 0.311, 0.311, 0.31, 0.31, 0.31, 0.31, 0.31, 0.31, 0.31, 0.31, 0.31, 0.31, 0.31, 0.31, 0.31, 0.31, 0.31, 0.31, 0.31, 0.31, 0.31, 0.31, 0.31, 0.31, 0.31, 0.31, 0.31, 0.31, 0.31, 0.31, 0.31, 0.31, 0.31, 0.31, 0.31, 0.31, 0.31, 0.31, 0.31, 0.31, 0.31, 0.31, 0.31, 0.31, 0.31, 0.31, 0.31, 0.31, 0.31, 0.31, 0.31, 0.31, 0.31, 0.31, 0.31, 0.31, 0.31, 0.31, 0.31, 0.31, 0.31, 0.31, 0.31, 0.31, 0.31, 0.31, 0.31, 0.31, 0.31, 0.31, 0.31, 0.31, 0.31, 0.31, 0.31, 0.31, 0.31, 0.31, 0.31, 0.31, 0.31, 0.31, 0.31, 0.31, 0.31, 0.31, 0.31, 0.31, 0.31, 0.31, 0.31, 0.31, 0.31, 0.31, 0.31, 0.31, 0.31, 0.31, 0.31, 0.31, 0.31, 0.31, 0.31, 0.31, 0.31, 0.31, 0.31, 0.31, 0.31, 0.31, 0.31, 0.31, 0.31, 0.31, 0.31, 0.31, 0.31, 0.31, 0.31, 0.31, 0.31, 0.31, 0.31, 0.31, 0.31, 0.31, 0.31, 0.31, 0.31, 0.31, 0.31, 0.31, 0.31, 0.31, 0.31, 0.31, 0.31, 0.31, 0.31, 0.31, 0.31, 0.309, 0.309, 0.309, 0.309, 0.309, 0.309, 0.309, 0.309, 0.308, 0.308, 0.308, 0.308, 0.308, 0.308, 0.308, 0.308, 0.308, 0.308, 0.308, 0.308, 0.308, 0.308, 0.308, 0.308, 0.308, 0.308, 0.308, 0.308, 0.308, 0.308, 0.308, 0.308, 0.308, 0.308, 0.308, 0.308, 0.308, 0.308, 0.308, 0.308, 0.308, 0.308, 0.308, 0.308, 0.308, 0.308, 0.308, 0.308, 0.308, 0.308, 0.308, 0.308, 0.308, 0.308, 0.308, 0.308, 0.308, 0.308, 0.308, 0.308, 0.308, 0.308, 0.308, 0.308, 0.308, 0.308, 0.308, 0.308, 0.308, 0.308, 0.308, 0.308, 0.308, 0.308, 0.308, 0.308, 0.308, 0.308, 0.308, 0.308, 0.308, 0.308, 0.308, 0.308, 0.308, 0.308, 0.308, 0.308, 0.308, 0.308, 0.308, 0.308, 0.308, 0.308, 0.308, 0.308, 0.308, 0.308, 0.308, 0.308, 0.308, 0.308, 0.308, 0.308, 0.308, 0.308, 0.308, 0.308, 0.308, 0.308, 0.308, 0.308, 0.308, 0.308, 0.308, 0.308, 0.308, 0.308, 0.308, 0.308, 0.308, 0.308, 0.308, 0.308, 0.308, 0.308, 0.308, 0.308, 0.308, 0.308, 0.308, 0.308, 0.308, 0.308, 0.308, 0.308, 0.308, 0.308, 0.308, 0.308, 0.308, 0.308, 0.308, 0.308, 0.308, 0.308, 0.308, 0.308, 0.308, 0.308, 0.308, 0.308, 0.308, 0.308, 0.308, 0.308, 0.308, 0.308, 0.308, 0.308, 0.308, 0.308, 0.308, 0.308, 0.308, 0.308, 0.308, 0.308, 0.308, 0.308, 0.308, 0.308, 0.308, 0.308, 0.308, 0.308, 0.308, 0.308, 0.308, 0.308, 0.308, 0.308, 0.308, 0.308, 0.308, 0.308, 0.308, 0.308, 0.308, 0.308, 0.308, 0.308, 0.308, 0.308, 0.308, 0.308, 0.308, 0.308, 0.308, 0.308, 0.308, 0.308, 0.308, 0.308, 0.308, 0.308, 0.308, 0.308, 0.308, 0.308, 0.308, 0.308, 0.308, 0.308, 0.308, 0.308, 0.308, 0.308, 0.308, 0.308, 0.308, 0.308, 0.308, 0.308, 0.308, 0.308, 0.308, 0.308, 0.308, 0.308, 0.308, 0.308, 0.308, 0.308, 0.308, 0.308, 0.308, 0.308, 0.308, 0.308, 0.308, 0.308, 0.308, 0.308, 0.308, 0.308, 0.308, 0.308, 0.308, 0.308, 0.308, 0.308, 0.308, 0.308, 0.308, 0.308, 0.308, 0.308, 0.308, 0.308, 0.308, 0.308, 0.308, 0.308, 0.308, 0.308, 0.308, 0.308, 0.308, 0.308, 0.308, 0.308, 0.308, 0.308, 0.308, 0.308, 0.308, 0.308, 0.308, 0.308, 0.308, 0.308, 0.308, 0.308, 0.308, 0.308, 0.308, 0.308, 0.308, 0.308, 0.308, 0.308, 0.308, 0.308, 0.308, 0.308, 0.308, 0.308, 0.308, 0.308, 0.308, 0.308, 0.308, 0.308, 0.308, 0.308, 0.308, 0.308, 0.308, 0.308, 0.308, 0.308, 0.308, 0.308, 0.308, 0.308, 0.308, 0.308, 0.308, 0.308, 0.308, 0.308, 0.308, 0.308, 0.308, 0.308, 0.308, 0.308, 0.308, 0.308, 0.308, 0.308, 0.308, 0.308, 0.308, 0.308, 0.308, 0.308, 0.308, 0.308, 0.308, 0.308, 0.308, 0.308, 0.308, 0.308, 0.308, 0.308, 0.308, 0.308, 0.308, 0.308, 0.308, 0.308, 0.308, 0.308, 0.308, 0.308, 0.308, 0.308, 0.308, 0.308, 0.308, 0.308, 0.308, 0.308, 0.308, 0.308, 0.308, 0.308, 0.308, 0.308, 0.308, 0.308, 0.308, 0.308, 0.308, 0.308, 0.308, 0.308, 0.308, 0.308, 0.308, 0.308, 0.308, 0.308, 0.308, 0.308, 0.308, 0.308, 0.308, 0.308, 0.308, 0.308, 0.308, 0.308, 0.308, 0.308, 0.308, 0.308, 0.308, 0.308, 0.308, 0.308, 0.308, 0.308, 0.308, 0.308, 0.308, 0.308, 0.308, 0.308, 0.308, 0.308, 0.308, 0.308, 0.308, 0.308, 0.308, 0.308, 0.308, 0.308, 0.308, 0.308, 0.308, 0.308, 0.308, 0.308, 0.308, 0.308, 0.308, 0.308, 0.308, 0.308, 0.308, 0.308, 0.308, 0.308, 0.308, 0.308, 0.308, 0.308, 0.308, 0.308, 0.308, 0.308, 0.308, 0.308, 0.308, 0.308, 0.308, 0.308, 0.308, 0.308, 0.308, 0.308, 0.308, 0.308, 0.308, 0.308, 0.308, 0.308, 0.308, 0.308, 0.308, 0.308, 0.308, 0.308, 0.308, 0.308, 0.308, 0.308, 0.308, 0.308, 0.308, 0.308, 0.308, 0.308, 0.308, 0.308, 0.308, 0.308, 0.308, 0.308, 0.308, 0.308, 0.308, 0.308, 0.308, 0.308, 0.308, 0.308, 0.308, 0.308, 0.308, 0.308, 0.308, 0.308, 0.308, 0.308, 0.308, 0.308, 0.308, 0.308, 0.308, 0.308, 0.308, 0.308, 0.308, 0.308, 0.308, 0.308, 0.308, 0.308, 0.308, 0.308, 0.308, 0.308, 0.308, 0.308, 0.308, 0.308, 0.308, 0.308, 0.308, 0.308, 0.308, 0.308, 0.308, 0.308, 0.308, 0.308, 0.308, 0.308, 0.308, 0.308, 0.308, 0.308, 0.308, 0.308, 0.308, 0.308, 0.308, 0.308, 0.308, 0.308, 0.308, 0.308, 0.308, 0.308, 0.308, 0.308, 0.308, 0.308, 0.308, 0.308, 0.308, 0.308, 0.308, 0.308, 0.308, 0.308, 0.308, 0.308, 0.308, 0.308, 0.308, 0.308, 0.308, 0.308, 0.308, 0.308, 0.308, 0.308, 0.308, 0.308, 0.308, 0.308, 0.308, 0.308, 0.308, 0.308, 0.308, 0.308, 0.308, 0.308, 0.308, 0.308, 0.308, 0.308, 0.308, 0.308, 0.308, 0.308, 0.308, 0.308, 0.308, 0.308, 0.308, 0.308, 0.308, 0.308, 0.308, 0.308, 0.308, 0.308, 0.308, 0.308, 0.308, 0.308, 0.308, 0.308, 0.308, 0.307, 0.307, 0.307, 0.307, 0.307, 0.307, 0.307, 0.307, 0.307, 0.307, 0.307, 0.307, 0.307, 0.306, 0.306, 0.306, 0.306, 0.306, 0.306, 0.306, 0.306, 0.306, 0.306, 0.306, 0.306, 0.306, 0.306, 0.306, 0.306, 0.306, 0.306, 0.306, 0.306, 0.306, 0.306, 0.306, 0.306, 0.306, 0.306, 0.306, 0.306, 0.306, 0.306, 0.306, 0.306, 0.306, 0.306, 0.306, 0.306, 0.306, 0.306, 0.306, 0.305, 0.305, 0.305, 0.305, 0.304, 0.304, 0.304, 0.304, 0.304, 0.304, 0.304, 0.304, 0.304, 0.304, 0.304, 0.303, 0.303, 0.303, 0.303, 0.303, 0.303, 0.303, 0.303, 0.303, 0.303, 0.303, 0.303, 0.302, 0.302, 0.302, 0.302, 0.302, 0.302, 0.302, 0.302, 0.302, 0.302, 0.302, 0.301, 0.301, 0.301, 0.301, 0.301, 0.301, 0.301, 0.301, 0.301, 0.3, 0.3, 0.3, 0.3, 0.3, 0.3, 0.3, 0.3, 0.3, 0.3, 0.3, 0.299, 0.299, 0.299, 0.299, 0.299, 0.299, 0.298, 0.298, 0.298, 0.298, 0.298, 0.298, 0.298, 0.298, 0.298, 0.298, 0.298, 0.298, 0.298, 0.297, 0.297, 0.297, 0.297, 0.297, 0.297, 0.297, 0.297, 0.296, 0.296, 0.296, 0.296, 0.296, 0.296, 0.296, 0.296, 0.296, 0.296, 0.295, 0.295, 0.295, 0.295, 0.295, 0.295, 0.295, 0.295, 0.295, 0.295, 0.295, 0.295, 0.295, 0.295, 0.294, 0.294, 0.294, 0.294, 0.294, 0.294, 0.294, 0.294, 0.294, 0.294, 0.294, 0.294, 0.293, 0.293, 0.293, 0.293, 0.293, 0.293, 0.293, 0.292, 0.292, 0.292, 0.292, 0.292, 0.292, 0.291, 0.291, 0.291, 0.291, 0.291, 0.291, 0.291, 0.291, 0.29, 0.29, 0.29, 0.29, 0.29, 0.29, 0.29, 0.29, 0.29, 0.29, 0.289, 0.289, 0.289, 0.289, 0.289, 0.289, 0.289, 0.289, 0.289, 0.289, 0.288, 0.288, 0.288, 0.288, 0.288, 0.288, 0.288, 0.288, 0.288, 0.287, 0.287, 0.287, 0.287, 0.287, 0.287, 0.287, 0.287, 0.287, 0.286, 0.286, 0.286, 0.286, 0.286, 0.286, 0.286, 0.286, 0.286, 0.286, 0.286, 0.286, 0.285, 0.285, 0.285, 0.285, 0.285, 0.285, 0.285, 0.285, 0.285, 0.285, 0.285, 0.285, 0.284, 0.284, 0.284, 0.284, 0.284, 0.284, 0.284, 0.284, 0.284, 0.284, 0.283, 0.283, 0.283, 0.283, 0.283, 0.283, 0.283, 0.283, 0.283, 0.283, 0.283, 0.283, 0.283, 0.283, 0.282, 0.282, 0.282, 0.282, 0.282, 0.282, 0.282, 0.282, 0.282, 0.282, 0.282, 0.282, 0.282, 0.282, 0.282, 0.282, 0.282, 0.282, 0.282, 0.282, 0.282, 0.282, 0.282, 0.281, 0.281, 0.281, 0.281, 0.281, 0.281, 0.281, 0.281, 0.281, 0.281, 0.281, 0.281, 0.28, 0.28, 0.28, 0.28, 0.28, 0.28, 0.28, 0.28, 0.28, 0.28, 0.28, 0.28, 0.28, 0.28, 0.279, 0.279, 0.279, 0.279, 0.279, 0.279, 0.279, 0.279, 0.279, 0.279, 0.279, 0.279, 0.279, 0.278, 0.278, 0.278, 0.278, 0.278, 0.278, 0.278, 0.278, 0.278, 0.278, 0.278, 0.278, 0.277, 0.277, 0.277, 0.277, 0.277, 0.277, 0.277, 0.277, 0.277, 0.277, 0.277, 0.277, 0.276, 0.276, 0.276, 0.276, 0.276, 0.276, 0.276, 0.276, 0.276, 0.276, 0.276, 0.275, 0.275, 0.275, 0.275, 0.275, 0.275, 0.275, 0.275, 0.274, 0.274, 0.274, 0.274, 0.274, 0.274, 0.274, 0.274, 0.274, 0.274, 0.273, 0.273, 0.273, 0.273, 0.273, 0.273, 0.273, 0.273, 0.273, 0.273, 0.273, 0.273, 0.273, 0.273, 0.273, 0.273, 0.273, 0.272, 0.272, 0.272, 0.272, 0.271, 0.271, 0.271, 0.271, 0.271, 0.271, 0.271, 0.271, 0.271, 0.271, 0.271, 0.271, 0.271, 0.27, 0.27, 0.27, 0.27, 0.27, 0.27, 0.27, 0.27, 0.27, 0.27, 0.27, 0.27, 0.27, 0.27, 0.27, 0.269, 0.269, 0.269, 0.269, 0.269, 0.269, 0.269, 0.269, 0.269, 0.269, 0.269, 0.269, 0.269, 0.269, 0.269, 0.268, 0.268, 0.268, 0.268, 0.268, 0.268, 0.268, 0.268, 0.268, 0.268, 0.268, 0.268, 0.267, 0.267, 0.267, 0.267, 0.267, 0.267, 0.267, 0.267, 0.267, 0.267, 0.267, 0.267, 0.267, 0.267, 0.267, 0.266, 0.266, 0.266, 0.266, 0.266, 0.266, 0.266, 0.266, 0.266, 0.266, 0.266, 0.266, 0.266, 0.266, 0.266, 0.266, 0.266, 0.265, 0.265, 0.265, 0.265, 0.265, 0.265, 0.265, 0.265, 0.265, 0.265, 0.265, 0.265, 0.264, 0.264, 0.264, 0.264, 0.264, 0.264, 0.264, 0.264, 0.263, 0.263, 0.263, 0.263, 0.263, 0.263, 0.263, 0.263, 0.263, 0.263, 0.263, 0.262, 0.262, 0.262, 0.262, 0.262, 0.262, 0.262, 0.262, 0.262, 0.261, 0.261, 0.261, 0.261, 0.261, 0.261, 0.261, 0.261, 0.26, 0.26, 0.26, 0.26, 0.26, 0.26, 0.26, 0.259, 0.259, 0.259, 0.259, 0.259, 0.259, 0.259, 0.259, 0.259, 0.259, 0.259, 0.259, 0.258, 0.258, 0.258, 0.258, 0.258, 0.258, 0.258, 0.258, 0.258, 0.258, 0.258, 0.258, 0.258, 0.258, 0.257, 0.257, 0.257, 0.257, 0.257, 0.257, 0.257, 0.257, 0.257, 0.257, 0.257, 0.257, 0.257, 0.256, 0.256, 0.256, 0.256, 0.256, 0.256, 0.256, 0.255, 0.255, 0.255, 0.255, 0.255, 0.255, 0.254, 0.254, 0.254, 0.254, 0.254, 0.254, 0.254, 0.254, 0.254, 0.254, 0.254, 0.254, 0.254, 0.254, 0.254, 0.254, 0.253, 0.253, 0.253, 0.253, 0.253, 0.253, 0.253, 0.253, 0.253, 0.253, 0.252, 0.252, 0.252, 0.252, 0.252, 0.252, 0.252, 0.251, 0.251, 0.251, 0.251, 0.251, 0.251, 0.251, 0.251, 0.251, 0.251, 0.251, 0.251, 0.251, 0.251, 0.25, 0.25, 0.25, 0.25, 0.25, 0.25, 0.25, 0.25, 0.25, 0.25, 0.25, 0.25, 0.249, 0.249, 0.249, 0.249, 0.249, 0.249, 0.249, 0.249, 0.249, 0.249, 0.248, 0.248, 0.248, 0.248, 0.248, 0.248, 0.248, 0.248, 0.248, 0.248, 0.248, 0.248, 0.248, 0.248, 0.247, 0.247, 0.247, 0.247, 0.247, 0.247, 0.247, 0.247, 0.247, 0.247, 0.247, 0.246, 0.246, 0.246, 0.246, 0.246, 0.246, 0.246, 0.246, 0.246, 0.245, 0.245, 0.245, 0.245, 0.245, 0.245, 0.245, 0.245, 0.245, 0.245, 0.245, 0.245, 0.244, 0.244, 0.244, 0.244, 0.244, 0.244, 0.244, 0.244, 0.244, 0.244, 0.244, 0.244, 0.244, 0.243, 0.243, 0.243, 0.243, 0.243, 0.243, 0.243, 0.243, 0.243, 0.242, 0.242, 0.242, 0.242, 0.242, 0.242, 0.242, 0.242, 0.242, 0.242, 0.242, 0.242, 0.242, 0.242, 0.242, 0.241, 0.241, 0.241, 0.241, 0.241, 0.241, 0.241, 0.241, 0.241, 0.241, 0.241, 0.241, 0.241, 0.241, 0.24, 0.24, 0.24, 0.24, 0.24, 0.239, 0.239, 0.239, 0.239, 0.239, 0.239, 0.239, 0.239, 0.239, 0.239, 0.239, 0.238, 0.238, 0.238, 0.238, 0.238, 0.238, 0.238, 0.238, 0.238, 0.238, 0.238, 0.238, 0.238, 0.238, 0.238, 0.238, 0.237, 0.237, 0.237, 0.237, 0.237, 0.237, 0.236, 0.236, 0.236, 0.236, 0.236, 0.236, 0.236, 0.236, 0.236, 0.236, 0.236, 0.236, 0.236, 0.236, 0.236, 0.236, 0.235, 0.235, 0.235, 0.235, 0.235, 0.235, 0.235, 0.235, 0.235, 0.235, 0.235, 0.234, 0.234, 0.234, 0.234, 0.234, 0.234, 0.234, 0.234, 0.234, 0.234, 0.234, 0.234, 0.234, 0.233, 0.233, 0.233, 0.233, 0.233, 0.233, 0.233, 0.233, 0.233, 0.233, 0.233, 0.232, 0.232, 0.232, 0.232, 0.232, 0.232, 0.232, 0.232, 0.232, 0.232, 0.232, 0.232, 0.232, 0.232, 0.231, 0.231, 0.231, 0.231, 0.231, 0.231, 0.231, 0.231, 0.231, 0.231, 0.231, 0.231, 0.23, 0.23, 0.23, 0.23, 0.23, 0.23, 0.23, 0.23, 0.23, 0.23, 0.23, 0.23, 0.23, 0.23, 0.229, 0.229, 0.229, 0.229, 0.229, 0.229, 0.229, 0.229, 0.229, 0.229, 0.229, 0.229, 0.229, 0.228, 0.228, 0.228, 0.228, 0.228, 0.228, 0.228, 0.228, 0.228, 0.228, 0.228, 0.227, 0.227, 0.227, 0.227, 0.227, 0.227, 0.227, 0.227, 0.227, 0.227, 0.227, 0.227, 0.227, 0.227, 0.227, 0.227, 0.227, 0.227, 0.227, 0.227, 0.227, 0.227, 0.227, 0.227, 0.227, 0.226, 0.226, 0.226, 0.226, 0.226, 0.226, 0.226, 0.226, 0.226, 0.225, 0.225, 0.225, 0.225, 0.225, 0.225, 0.225, 0.225, 0.225, 0.225, 0.225, 0.225, 0.225, 0.225, 0.225, 0.224, 0.224, 0.224, 0.224, 0.224, 0.224, 0.224, 0.224, 0.224, 0.224, 0.224, 0.224, 0.224, 0.224, 0.224, 0.223, 0.223, 0.223, 0.223, 0.223, 0.223, 0.223, 0.223, 0.223, 0.223, 0.223, 0.223, 0.223, 0.222, 0.222, 0.222, 0.222, 0.222, 0.222, 0.222, 0.222, 0.222, 0.222, 0.222, 0.222, 0.222, 0.222, 0.222, 0.222, 0.222, 0.221, 0.221, 0.221, 0.221, 0.221, 0.221, 0.221, 0.221, 0.221, 0.221, 0.221, 0.221, 0.221, 0.221, 0.221, 0.221, 0.221, 0.22, 0.22, 0.22, 0.22, 0.22, 0.22, 0.22, 0.22, 0.22, 0.22, 0.22, 0.22, 0.22, 0.22, 0.22, 0.22, 0.22, 0.22, 0.22, 0.22, 0.22, 0.22, 0.22, 0.219, 0.219, 0.219, 0.219, 0.219, 0.219, 0.219, 0.219, 0.219, 0.218, 0.218, 0.218, 0.218, 0.218, 0.218, 0.218, 0.218, 0.218, 0.218, 0.218, 0.218, 0.218, 0.218, 0.218, 0.218, 0.218, 0.217, 0.217, 0.217, 0.217, 0.217, 0.217, 0.217, 0.217, 0.217, 0.217, 0.217, 0.217, 0.217, 0.217, 0.216, 0.216, 0.216, 0.216, 0.216, 0.216, 0.216, 0.216, 0.216, 0.216, 0.216, 0.216, 0.216, 0.216, 0.216, 0.216, 0.216, 0.216, 0.216, 0.216, 0.216, 0.216, 0.215, 0.215, 0.215, 0.215, 0.215, 0.215, 0.215, 0.215, 0.215, 0.215, 0.215, 0.215, 0.215, 0.215, 0.215, 0.215, 0.215, 0.214, 0.214, 0.214, 0.214, 0.214, 0.214, 0.214, 0.214, 0.214, 0.214, 0.214, 0.214, 0.214, 0.214, 0.214, 0.214, 0.214, 0.214, 0.214, 0.214, 0.214, 0.213, 0.213, 0.213, 0.213, 0.213, 0.213, 0.213, 0.213, 0.213, 0.213, 0.213, 0.213, 0.213, 0.213, 0.213, 0.213, 0.213, 0.213, 0.213, 0.213, 0.212, 0.212, 0.212, 0.212, 0.212, 0.212, 0.212, 0.212, 0.212, 0.212, 0.212, 0.212, 0.212, 0.212, 0.212, 0.212, 0.212, 0.212, 0.212, 0.211, 0.211, 0.211, 0.211, 0.211, 0.211, 0.211, 0.211, 0.211, 0.211, 0.211, 0.211, 0.21, 0.21, 0.21, 0.21, 0.21, 0.21, 0.21, 0.21, 0.21, 0.209, 0.209, 0.209, 0.209, 0.209, 0.209, 0.209, 0.209, 0.209, 0.209, 0.209, 0.209, 0.209, 0.209, 0.208, 0.208, 0.208, 0.208, 0.208, 0.208, 0.208, 0.208, 0.207, 0.207, 0.207, 0.207, 0.207, 0.207, 0.207, 0.207, 0.207, 0.207, 0.207, 0.207, 0.207, 0.207, 0.207, 0.207, 0.207, 0.206, 0.206, 0.206, 0.206, 0.206, 0.206, 0.206, 0.206, 0.206, 0.206, 0.206, 0.206, 0.206, 0.206, 0.206, 0.206, 0.206, 0.206, 0.206, 0.206, 0.206, 0.206, 0.206, 0.206, 0.206, 0.206, 0.206, 0.205, 0.205, 0.205, 0.205, 0.205, 0.205, 0.205, 0.205, 0.205, 0.205, 0.205, 0.205, 0.205, 0.205, 0.205, 0.205, 0.205, 0.204, 0.204, 0.204, 0.204, 0.204, 0.204, 0.204, 0.204, 0.204, 0.204, 0.204, 0.204, 0.204, 0.204, 0.204, 0.204, 0.204, 0.204, 0.204, 0.204, 0.204, 0.204, 0.203, 0.203, 0.203, 0.203, 0.203, 0.203, 0.203, 0.203, 0.203, 0.203, 0.203, 0.203, 0.203, 0.203, 0.203, 0.203, 0.203, 0.202, 0.202, 0.202, 0.202, 0.202, 0.202, 0.202, 0.202, 0.202, 0.202, 0.202, 0.202, 0.202, 0.202, 0.202, 0.202, 0.202, 0.201, 0.201, 0.201, 0.201, 0.201, 0.201, 0.201, 0.201, 0.201, 0.201, 0.201, 0.201, 0.201, 0.201, 0.201, 0.201, 0.201, 0.201, 0.201, 0.201, 0.2, 0.2, 0.2, 0.2, 0.2, 0.2, 0.2, 0.2, 0.2, 0.2, 0.199, 0.199, 0.199, 0.199, 0.199, 0.199, 0.199, 0.199, 0.199, 0.199, 0.199, 0.199, 0.199, 0.199, 0.199, 0.199, 0.199, 0.199, 0.199, 0.199, 0.199, 0.199, 0.199, 0.198, 0.198, 0.198, 0.198, 0.198, 0.198, 0.198, 0.198, 0.198, 0.198, 0.198, 0.198, 0.198, 0.198, 0.198, 0.198, 0.198, 0.197, 0.197, 0.197, 0.197, 0.197, 0.197, 0.197, 0.197, 0.197, 0.197, 0.197, 0.197, 0.197, 0.197, 0.197, 0.197, 0.197, 0.196, 0.196, 0.196, 0.196, 0.196, 0.196, 0.196, 0.196, 0.196, 0.196, 0.196, 0.196, 0.196, 0.196, 0.195, 0.195, 0.195, 0.195, 0.195, 0.195, 0.195, 0.195, 0.195, 0.195, 0.195, 0.195, 0.195, 0.195, 0.195, 0.195, 0.195, 0.195, 0.194, 0.194, 0.194, 0.194, 0.194, 0.194, 0.194, 0.194, 0.194, 0.194, 0.194, 0.194, 0.194, 0.194, 0.194, 0.194, 0.194, 0.193, 0.193, 0.193, 0.193, 0.193, 0.193, 0.193, 0.193, 0.193, 0.193, 0.193, 0.193, 0.193, 0.193, 0.193, 0.193, 0.193, 0.193, 0.193, 0.192, 0.192, 0.192, 0.192, 0.192, 0.192, 0.192, 0.192, 0.192, 0.192, 0.192, 0.191, 0.191, 0.191, 0.191, 0.191, 0.191, 0.191, 0.191, 0.191, 0.191, 0.191, 0.191, 0.191, 0.191, 0.191, 0.191, 0.19, 0.19, 0.19, 0.19, 0.19, 0.19, 0.19, 0.19, 0.19, 0.19, 0.19, 0.19, 0.189, 0.189, 0.189, 0.189, 0.189, 0.189, 0.189, 0.189, 0.189, 0.189, 0.189, 0.189, 0.189, 0.189, 0.188, 0.188, 0.188, 0.188, 0.188, 0.188, 0.188, 0.188, 0.188, 0.188, 0.188, 0.188, 0.188, 0.188, 0.188, 0.188, 0.188, 0.188, 0.187, 0.187, 0.187, 0.187, 0.187, 0.187, 0.187, 0.187, 0.187, 0.187, 0.187, 0.187, 0.187, 0.187, 0.187, 0.187, 0.186, 0.186, 0.186, 0.186, 0.186, 0.186, 0.186, 0.186, 0.186, 0.186, 0.186, 0.186, 0.186, 0.186, 0.186, 0.185, 0.185, 0.185, 0.185, 0.185, 0.185, 0.185, 0.185, 0.185, 0.185, 0.185, 0.185, 0.185, 0.185, 0.185, 0.185, 0.185, 0.185, 0.185, 0.185, 0.185, 0.185, 0.185, 0.184, 0.184, 0.184, 0.184, 0.184, 0.184, 0.184, 0.184, 0.184, 0.184, 0.184, 0.184, 0.184, 0.183, 0.183, 0.183, 0.183, 0.183, 0.183, 0.183, 0.183, 0.183, 0.183, 0.183, 0.183, 0.183, 0.182, 0.182, 0.182, 0.182, 0.182, 0.182, 0.182, 0.182, 0.182, 0.182, 0.182, 0.182, 0.182, 0.182, 0.182, 0.181, 0.181, 0.181, 0.181, 0.181, 0.181, 0.181, 0.181, 0.181, 0.181, 0.181, 0.181, 0.181, 0.181, 0.181, 0.181, 0.181, 0.181, 0.181, 0.18, 0.18, 0.18, 0.18, 0.18, 0.18, 0.18, 0.18, 0.18, 0.18, 0.18, 0.18, 0.18, 0.18, 0.18, 0.18, 0.18, 0.179, 0.179, 0.179, 0.179, 0.179, 0.179, 0.179, 0.179, 0.179, 0.179, 0.179, 0.179, 0.178, 0.178, 0.178, 0.178, 0.178, 0.178, 0.178, 0.178, 0.178, 0.178, 0.178, 0.178, 0.178, 0.177, 0.177, 0.177, 0.177, 0.177, 0.177, 0.177, 0.177, 0.177, 0.177, 0.177, 0.177, 0.177, 0.177, 0.177, 0.176, 0.176, 0.176, 0.176, 0.176, 0.176, 0.176, 0.176, 0.176, 0.176, 0.176, 0.176, 0.176, 0.176, 0.176, 0.176, 0.176, 0.176, 0.176, 0.176, 0.176, 0.175, 0.175, 0.175, 0.175, 0.175, 0.175, 0.175, 0.175, 0.175, 0.175, 0.175, 0.175, 0.174, 0.174, 0.174, 0.174, 0.174, 0.174, 0.174, 0.174, 0.174, 0.174, 0.174, 0.174, 0.174, 0.174, 0.174, 0.174, 0.174, 0.174, 0.173, 0.173, 0.173, 0.173, 0.173, 0.173, 0.173, 0.173, 0.173, 0.173, 0.173, 0.173, 0.173, 0.173, 0.173, 0.172, 0.172, 0.172, 0.172, 0.172, 0.172, 0.172, 0.172, 0.172, 0.172, 0.172, 0.172, 0.172, 0.172, 0.172, 0.172, 0.172, 0.172, 0.172, 0.172, 0.171, 0.171, 0.171, 0.171, 0.171, 0.171, 0.171, 0.171, 0.171, 0.171, 0.171, 0.171, 0.171, 0.171, 0.17, 0.17, 0.17, 0.17, 0.17, 0.17, 0.17, 0.17, 0.17, 0.17, 0.17, 0.17, 0.17, 0.17, 0.17, 0.17, 0.169, 0.169, 0.169, 0.169, 0.169, 0.169, 0.169, 0.169, 0.169, 0.169, 0.169, 0.169, 0.169, 0.169, 0.169, 0.169, 0.169, 0.169, 0.169, 0.169, 0.169, 0.169, 0.168, 0.168, 0.168, 0.168, 0.168, 0.168, 0.168, 0.168, 0.168, 0.168, 0.168, 0.168, 0.168, 0.168, 0.168, 0.168, 0.168, 0.168, 0.168, 0.168, 0.168, 0.168, 0.168, 0.168, 0.168, 0.168, 0.168, 0.168, 0.167, 0.167, 0.167, 0.167, 0.167, 0.167, 0.167, 0.167, 0.167, 0.167, 0.167, 0.167, 0.167, 0.167, 0.167, 0.167, 0.167, 0.167, 0.167, 0.167, 0.167, 0.167, 0.166, 0.166, 0.166, 0.166, 0.166, 0.166, 0.166, 0.166, 0.166, 0.166, 0.166, 0.166, 0.166, 0.166, 0.166, 0.166, 0.166, 0.166, 0.166, 0.166, 0.166, 0.166, 0.166, 0.166, 0.166, 0.166, 0.165, 0.165, 0.165, 0.165, 0.165, 0.165, 0.165, 0.165, 0.165, 0.165, 0.165, 0.165, 0.165, 0.165, 0.165, 0.164, 0.164, 0.164, 0.164, 0.164, 0.164, 0.164, 0.164, 0.164, 0.164, 0.164, 0.164, 0.164, 0.164, 0.164, 0.164, 0.164, 0.164, 0.164, 0.163, 0.163, 0.163, 0.163, 0.163, 0.163, 0.163, 0.163, 0.163, 0.163, 0.163, 0.163, 0.163, 0.163, 0.163, 0.163, 0.163, 0.163, 0.163, 0.163, 0.163, 0.162, 0.162, 0.162, 0.162, 0.162, 0.162, 0.162, 0.162, 0.162, 0.162, 0.162, 0.162, 0.162, 0.162, 0.162, 0.162, 0.162, 0.162, 0.162, 0.162, 0.162, 0.162, 0.162, 0.162, 0.161, 0.161, 0.161, 0.161, 0.161, 0.161, 0.161, 0.161, 0.161, 0.161, 0.161, 0.161, 0.161, 0.161, 0.161, 0.161, 0.161, 0.161, 0.161, 0.161, 0.16, 0.16, 0.16, 0.16, 0.16, 0.16, 0.16, 0.16, 0.16, 0.16, 0.16, 0.16, 0.16, 0.16, 0.16, 0.16, 0.16, 0.16, 0.16, 0.16, 0.16, 0.16, 0.16, 0.159, 0.159, 0.159, 0.159, 0.159, 0.159, 0.159, 0.159, 0.159, 0.158, 0.158, 0.158, 0.158, 0.158, 0.158, 0.158, 0.158, 0.158, 0.158, 0.158, 0.158, 0.158, 0.158, 0.158, 0.158, 0.158, 0.158, 0.157, 0.157, 0.157, 0.157, 0.157, 0.157, 0.157, 0.157, 0.157, 0.157, 0.157, 0.157, 0.157, 0.157, 0.157, 0.156, 0.156, 0.156, 0.156, 0.156, 0.156, 0.156, 0.156, 0.156, 0.156, 0.156, 0.156, 0.156, 0.156, 0.156, 0.156, 0.156, 0.156, 0.156, 0.156, 0.155, 0.155, 0.155, 0.155, 0.155, 0.155, 0.155, 0.155, 0.155, 0.155, 0.155, 0.155, 0.155, 0.155, 0.155, 0.154, 0.154, 0.154, 0.154, 0.154, 0.154, 0.154, 0.154, 0.154, 0.154, 0.154, 0.154, 0.154, 0.154, 0.154, 0.154, 0.154, 0.154, 0.154, 0.154, 0.153, 0.153, 0.153, 0.153, 0.153, 0.153, 0.153, 0.153, 0.153, 0.153, 0.153, 0.153, 0.153, 0.153, 0.153, 0.153, 0.153, 0.152, 0.152, 0.152, 0.152, 0.152, 0.152, 0.152, 0.152, 0.152, 0.152, 0.152, 0.152, 0.152, 0.152, 0.152, 0.152, 0.152, 0.152, 0.152, 0.152, 0.152, 0.152, 0.152, 0.152, 0.152, 0.152, 0.152, 0.151, 0.151, 0.151, 0.151, 0.151, 0.151, 0.151, 0.151, 0.151, 0.151, 0.151, 0.151, 0.151, 0.151, 0.151, 0.151, 0.151, 0.151, 0.15, 0.15, 0.15, 0.15, 0.15, 0.15, 0.15, 0.15, 0.15, 0.15, 0.15, 0.15, 0.15, 0.15, 0.15, 0.15, 0.15, 0.149, 0.149, 0.149, 0.149, 0.149, 0.149, 0.149, 0.149, 0.149, 0.149, 0.149, 0.149, 0.149, 0.149, 0.149, 0.149, 0.149, 0.149, 0.148, 0.148, 0.148, 0.148, 0.148, 0.148, 0.148, 0.148, 0.148, 0.148, 0.148, 0.148, 0.148, 0.148, 0.148, 0.148, 0.148, 0.148, 0.148, 0.148, 0.148, 0.148, 0.148, 0.148, 0.147, 0.147, 0.147, 0.147, 0.147, 0.147, 0.147, 0.147, 0.147, 0.147, 0.147, 0.147, 0.147, 0.147, 0.147, 0.147, 0.147, 0.147, 0.147, 0.147, 0.146, 0.146, 0.146, 0.146, 0.146, 0.146, 0.146, 0.146, 0.146, 0.146, 0.146, 0.146, 0.146, 0.146, 0.146, 0.146, 0.145, 0.145, 0.145, 0.145, 0.145, 0.145, 0.145, 0.145, 0.145, 0.145, 0.145, 0.145, 0.145, 0.145, 0.145, 0.145, 0.145, 0.145, 0.145, 0.145, 0.145, 0.145, 0.145, 0.145, 0.145, 0.144, 0.144, 0.144, 0.144, 0.144, 0.144, 0.144, 0.144, 0.144, 0.144, 0.144, 0.144, 0.144, 0.144, 0.144, 0.144, 0.144, 0.144, 0.144, 0.144, 0.144, 0.144, 0.143, 0.143, 0.143, 0.143, 0.143, 0.143, 0.143, 0.143, 0.143, 0.143, 0.143, 0.143, 0.143, 0.143, 0.143, 0.143, 0.143, 0.143, 0.143, 0.143, 0.142, 0.142, 0.142, 0.142, 0.142, 0.142, 0.142, 0.142, 0.142, 0.142, 0.142, 0.142, 0.142, 0.142, 0.142, 0.142, 0.142, 0.142, 0.142, 0.142, 0.142, 0.142, 0.142, 0.142, 0.141, 0.141, 0.141, 0.141, 0.141, 0.141, 0.141, 0.141, 0.141, 0.141, 0.141, 0.141, 0.141, 0.141, 0.141, 0.141, 0.141, 0.141, 0.141, 0.141, 0.141, 0.141, 0.141, 0.14, 0.14, 0.14, 0.14, 0.14, 0.14, 0.14, 0.14, 0.14, 0.14, 0.14, 0.14, 0.14, 0.14, 0.14, 0.14, 0.14, 0.14, 0.14, 0.139, 0.139, 0.139, 0.139, 0.139, 0.139, 0.139, 0.139, 0.139, 0.139, 0.139, 0.139, 0.139, 0.139, 0.139, 0.139, 0.139, 0.139, 0.139, 0.139, 0.138, 0.138, 0.138, 0.138, 0.138, 0.138, 0.138, 0.138, 0.138, 0.138, 0.138, 0.138, 0.138, 0.137, 0.137, 0.137, 0.137, 0.137, 0.137, 0.137, 0.137, 0.137, 0.137, 0.137, 0.137, 0.137, 0.137, 0.137, 0.137, 0.136, 0.136, 0.136, 0.136, 0.136, 0.136, 0.136, 0.136, 0.136, 0.136, 0.136, 0.136, 0.136, 0.136, 0.136, 0.136, 0.136, 0.136, 0.136, 0.136, 0.136, 0.136, 0.136, 0.136, 0.136, 0.136, 0.136, 0.136, 0.135, 0.135, 0.135, 0.135, 0.135, 0.135, 0.135, 0.135, 0.135, 0.135, 0.135, 0.135, 0.135, 0.135, 0.135, 0.135, 0.135, 0.135, 0.135, 0.135, 0.135, 0.135, 0.135, 0.135, 0.135, 0.135, 0.134, 0.134, 0.134, 0.134, 0.134, 0.134, 0.134, 0.134, 0.134, 0.134, 0.134, 0.134, 0.134, 0.134, 0.134, 0.134, 0.134, 0.134, 0.133, 0.133, 0.133, 0.133, 0.133, 0.133, 0.133, 0.133, 0.133, 0.133, 0.133, 0.133, 0.133, 0.133, 0.133, 0.133, 0.133, 0.133, 0.133, 0.133, 0.133, 0.133, 0.133, 0.133, 0.133, 0.133, 0.133, 0.133, 0.133, 0.133, 0.133, 0.132, 0.132, 0.132, 0.132, 0.132, 0.132, 0.132, 0.132, 0.132, 0.132, 0.132, 0.132, 0.132, 0.132, 0.132, 0.132, 0.132, 0.132, 0.132, 0.132, 0.132, 0.132, 0.132, 0.132, 0.131, 0.131, 0.131, 0.131, 0.131, 0.131, 0.131, 0.131, 0.131, 0.131, 0.131, 0.131, 0.131, 0.131, 0.131, 0.131, 0.131, 0.131, 0.131, 0.131, 0.131, 0.131, 0.131, 0.131, 0.131, 0.131, 0.131, 0.131, 0.131, 0.131, 0.131, 0.131, 0.131, 0.131, 0.131, 0.131, 0.131, 0.13, 0.13, 0.13, 0.13, 0.13, 0.13, 0.13, 0.13, 0.13, 0.13, 0.13, 0.13, 0.13, 0.13, 0.13, 0.13, 0.13, 0.13, 0.13, 0.13, 0.13, 0.13, 0.13, 0.13, 0.13, 0.13, 0.13, 0.13, 0.129, 0.129, 0.129, 0.129, 0.129, 0.129, 0.129, 0.129, 0.129, 0.129, 0.129, 0.129, 0.129, 0.129, 0.129, 0.129, 0.129, 0.129, 0.128, 0.128, 0.128, 0.128, 0.128, 0.128, 0.128, 0.128, 0.128, 0.128, 0.128, 0.128, 0.128, 0.128, 0.128, 0.128, 0.128, 0.128, 0.128, 0.128, 0.128, 0.128, 0.128, 0.128, 0.128, 0.128, 0.128, 0.128, 0.128, 0.128, 0.127, 0.127, 0.127, 0.127, 0.127, 0.127, 0.127, 0.127, 0.127, 0.127, 0.127, 0.127, 0.127, 0.127, 0.127, 0.127, 0.127, 0.127, 0.127, 0.127, 0.127, 0.127, 0.127, 0.127, 0.127, 0.127, 0.127, 0.127, 0.126, 0.126, 0.126, 0.126, 0.126, 0.126, 0.126, 0.126, 0.126, 0.126, 0.126, 0.126, 0.126, 0.126, 0.126, 0.126, 0.126, 0.126, 0.126, 0.126, 0.126, 0.126, 0.126, 0.126, 0.126, 0.126, 0.126, 0.126, 0.125, 0.125, 0.125, 0.125, 0.125, 0.125, 0.125, 0.125, 0.125, 0.125, 0.125, 0.125, 0.125, 0.125, 0.125, 0.125, 0.125, 0.125, 0.125, 0.125, 0.125, 0.125, 0.125, 0.125, 0.124, 0.124, 0.124, 0.124, 0.124, 0.124, 0.124, 0.124, 0.124, 0.124, 0.124, 0.124, 0.124, 0.124, 0.124, 0.124, 0.124, 0.124, 0.124, 0.124, 0.124, 0.124, 0.124, 0.124, 0.124, 0.124, 0.124, 0.124, 0.124, 0.124, 0.124, 0.124, 0.123, 0.123, 0.123, 0.123, 0.123, 0.123, 0.123, 0.123, 0.123, 0.123, 0.123, 0.123, 0.123, 0.123, 0.123, 0.123, 0.123, 0.123, 0.123, 0.123, 0.123, 0.123, 0.123, 0.123, 0.123, 0.123, 0.123, 0.123, 0.123, 0.123, 0.123, 0.123, 0.123, 0.123, 0.122, 0.122, 0.122, 0.122, 0.122, 0.122, 0.122, 0.122, 0.122, 0.122, 0.122, 0.122, 0.122, 0.122, 0.122, 0.122, 0.122, 0.122, 0.122, 0.122, 0.122, 0.122, 0.122, 0.122, 0.122, 0.122, 0.122, 0.121, 0.121, 0.121, 0.121, 0.121, 0.121, 0.121, 0.121, 0.121, 0.121, 0.121, 0.121, 0.121, 0.121, 0.121, 0.121, 0.121, 0.121, 0.121, 0.121, 0.121, 0.121, 0.121, 0.121, 0.121, 0.121, 0.121, 0.121, 0.12, 0.12, 0.12, 0.12, 0.12, 0.12, 0.12, 0.12, 0.12, 0.12, 0.12, 0.12, 0.12, 0.12, 0.12, 0.12, 0.12, 0.119, 0.119, 0.119, 0.119, 0.119, 0.119, 0.119, 0.119, 0.119, 0.119, 0.119, 0.119, 0.119, 0.119, 0.119, 0.119, 0.119, 0.119, 0.119, 0.119, 0.119, 0.119, 0.119, 0.119, 0.119, 0.119, 0.119, 0.119, 0.119, 0.119, 0.119, 0.119, 0.119, 0.118, 0.118, 0.118, 0.118, 0.118, 0.118, 0.118, 0.118, 0.118, 0.118, 0.118, 0.118, 0.118, 0.118, 0.118, 0.118, 0.118, 0.118, 0.118, 0.118, 0.117, 0.117, 0.117, 0.117, 0.117, 0.117, 0.117, 0.117, 0.117, 0.117, 0.117, 0.117, 0.117, 0.117, 0.117, 0.117, 0.116, 0.116, 0.116, 0.116, 0.116, 0.116, 0.116, 0.116, 0.116, 0.116, 0.116, 0.116, 0.116, 0.116, 0.116, 0.116, 0.116, 0.116, 0.116, 0.115, 0.115, 0.115, 0.115, 0.115, 0.115, 0.115, 0.115, 0.115, 0.115, 0.115, 0.115, 0.115, 0.115, 0.115, 0.115, 0.115, 0.115, 0.115, 0.115, 0.115, 0.115, 0.115, 0.115, 0.115, 0.115, 0.115, 0.115, 0.115, 0.115, 0.115, 0.115, 0.115, 0.115, 0.115, 0.115, 0.115, 0.114, 0.114, 0.114, 0.114, 0.114, 0.114, 0.114, 0.114, 0.114, 0.114, 0.114, 0.114, 0.114, 0.114, 0.114, 0.114, 0.114, 0.114, 0.114, 0.114, 0.113, 0.113, 0.113, 0.113, 0.113, 0.113, 0.113, 0.113, 0.113, 0.113, 0.113, 0.113, 0.113, 0.113, 0.113, 0.113, 0.113, 0.113, 0.113, 0.113, 0.113, 0.113, 0.113, 0.113, 0.113, 0.113, 0.113, 0.113, 0.113, 0.113, 0.113, 0.112, 0.112, 0.112, 0.112, 0.112, 0.112, 0.112, 0.112, 0.112, 0.112, 0.112, 0.112, 0.112, 0.112, 0.112, 0.112, 0.112, 0.112, 0.112, 0.112, 0.112, 0.112, 0.112, 0.112, 0.112, 0.112, 0.111, 0.111, 0.111, 0.111, 0.111, 0.111, 0.111, 0.111, 0.111, 0.111, 0.111, 0.111, 0.111, 0.111, 0.111, 0.111, 0.111, 0.111, 0.111, 0.111, 0.111, 0.111, 0.111, 0.111, 0.111, 0.111, 0.111, 0.111, 0.111, 0.111, 0.111, 0.11, 0.11, 0.11, 0.11, 0.11, 0.11, 0.11, 0.11, 0.11, 0.11, 0.11, 0.11, 0.11, 0.11, 0.11, 0.11, 0.11, 0.11, 0.11, 0.11, 0.11, 0.11, 0.11, 0.11, 0.11, 0.11, 0.11, 0.11, 0.11, 0.11, 0.11, 0.11, 0.11, 0.11, 0.109, 0.109, 0.109, 0.109, 0.109, 0.109, 0.109, 0.109, 0.109, 0.109, 0.109, 0.109, 0.109, 0.109, 0.109, 0.109, 0.109, 0.109, 0.109, 0.109, 0.109, 0.109, 0.109, 0.109, 0.109, 0.109, 0.109, 0.108, 0.108, 0.108, 0.108, 0.108, 0.108, 0.108, 0.108, 0.108, 0.108, 0.108, 0.108, 0.108, 0.108, 0.108, 0.108, 0.108, 0.108, 0.108, 0.108, 0.108, 0.108, 0.108, 0.108, 0.108, 0.108, 0.108, 0.108, 0.108, 0.108, 0.108, 0.108, 0.107, 0.107, 0.107, 0.107, 0.107, 0.107, 0.107, 0.107, 0.107, 0.107, 0.107, 0.107, 0.107, 0.107, 0.107, 0.107, 0.107, 0.107, 0.107, 0.107, 0.107, 0.107, 0.107, 0.106, 0.106, 0.106, 0.106, 0.106, 0.106, 0.106, 0.106, 0.106, 0.106, 0.106, 0.106, 0.106, 0.106, 0.106, 0.106, 0.106, 0.106, 0.106, 0.106, 0.106, 0.106, 0.105, 0.105, 0.105, 0.105, 0.105, 0.105, 0.105, 0.105, 0.105, 0.105, 0.105, 0.105, 0.105, 0.105, 0.105, 0.105, 0.105, 0.105, 0.105, 0.105, 0.105, 0.105, 0.104, 0.104, 0.104, 0.104, 0.104, 0.104, 0.104, 0.104, 0.104, 0.104, 0.104, 0.104, 0.104, 0.104, 0.104, 0.104, 0.104, 0.104, 0.104, 0.104, 0.104, 0.104, 0.104, 0.104, 0.104, 0.104, 0.104, 0.104, 0.104, 0.104, 0.104, 0.104, 0.104, 0.104, 0.103, 0.103, 0.103, 0.103, 0.103, 0.103, 0.103, 0.103, 0.103, 0.103, 0.103, 0.103, 0.103, 0.103, 0.103, 0.103, 0.103, 0.103, 0.103, 0.103, 0.103, 0.103, 0.103, 0.103, 0.103, 0.103, 0.103, 0.103, 0.103, 0.103, 0.103, 0.103, 0.103, 0.103, 0.103, 0.103, 0.102, 0.102, 0.102, 0.102, 0.102, 0.102, 0.102, 0.102, 0.102, 0.102, 0.102, 0.102, 0.102, 0.102, 0.102, 0.102, 0.102, 0.102, 0.102, 0.102, 0.102, 0.102, 0.102, 0.102, 0.102, 0.102, 0.102, 0.102, 0.102, 0.102, 0.102, 0.102, 0.102, 0.101, 0.101, 0.101, 0.101, 0.101, 0.101, 0.101, 0.101, 0.101, 0.101, 0.101, 0.101, 0.101, 0.101, 0.101, 0.101, 0.101, 0.101, 0.101, 0.101, 0.101, 0.101, 0.101, 0.101, 0.101, 0.101, 0.101, 0.101, 0.101, 0.101, 0.101, 0.101, 0.101, 0.101, 0.101, 0.101, 0.101, 0.101, 0.101, 0.101, 0.101, 0.1, 0.1, 0.1, 0.1, 0.1, 0.1, 0.1, 0.1, 0.1, 0.1, 0.1, 0.1, 0.1, 0.1, 0.1, 0.1, 0.1, 0.1, 0.1, 0.1, 0.099, 0.099, 0.099, 0.099, 0.099, 0.099, 0.099, 0.099, 0.099, 0.099, 0.099, 0.099, 0.099, 0.099, 0.099, 0.099, 0.099, 0.099, 0.099, 0.099, 0.099, 0.099, 0.099, 0.099, 0.099, 0.099, 0.099, 0.099, 0.099, 0.099, 0.099, 0.099, 0.099, 0.099, 0.098, 0.098, 0.098, 0.098, 0.098, 0.098, 0.098, 0.098, 0.098, 0.098, 0.098, 0.098, 0.098, 0.098, 0.098, 0.098, 0.098, 0.098, 0.098, 0.098, 0.098, 0.098, 0.098, 0.098, 0.098, 0.098, 0.097, 0.097, 0.097, 0.097, 0.097, 0.097, 0.097, 0.097, 0.097, 0.097, 0.097, 0.097, 0.097, 0.097, 0.097, 0.097, 0.097, 0.097, 0.097, 0.097, 0.097, 0.097, 0.097, 0.097, 0.097, 0.096, 0.096, 0.096, 0.096, 0.096, 0.096, 0.096, 0.096, 0.096, 0.096, 0.096, 0.096, 0.096, 0.096, 0.096, 0.096, 0.096, 0.096, 0.096, 0.096, 0.096, 0.096, 0.096, 0.096, 0.096, 0.096, 0.096, 0.096, 0.096, 0.096, 0.096, 0.096, 0.096, 0.096, 0.096, 0.096, 0.096, 0.096, 0.096, 0.095, 0.095, 0.095, 0.095, 0.095, 0.095, 0.095, 0.095, 0.095, 0.095, 0.095, 0.095, 0.095, 0.095, 0.095, 0.095, 0.095, 0.095, 0.095, 0.095, 0.095, 0.095, 0.095, 0.095, 0.095, 0.095, 0.095, 0.095, 0.095, 0.094, 0.094, 0.094, 0.094, 0.094, 0.094, 0.094, 0.094, 0.094, 0.094, 0.094, 0.094, 0.094, 0.094, 0.094, 0.094, 0.094, 0.094, 0.094, 0.094, 0.094, 0.094, 0.094, 0.094, 0.094, 0.094, 0.094, 0.094, 0.094, 0.094, 0.093, 0.093, 0.093, 0.093, 0.093, 0.093, 0.093, 0.093, 0.093, 0.093, 0.093, 0.093, 0.093, 0.093, 0.093, 0.093, 0.093, 0.093, 0.093, 0.093, 0.093, 0.093, 0.093, 0.093, 0.093, 0.093, 0.093, 0.093, 0.093, 0.093, 0.093, 0.093, 0.092, 0.092, 0.092, 0.092, 0.092, 0.092, 0.092, 0.092, 0.092, 0.092, 0.092, 0.092, 0.092, 0.092, 0.092, 0.092, 0.092, 0.092, 0.092, 0.092, 0.092, 0.092, 0.092, 0.092, 0.092, 0.092, 0.092, 0.092, 0.092, 0.092, 0.092, 0.092, 0.092, 0.091, 0.091, 0.091, 0.091, 0.091, 0.091, 0.091, 0.091, 0.091, 0.091, 0.091, 0.091, 0.091, 0.091, 0.091, 0.091, 0.091, 0.091, 0.091, 0.091, 0.091, 0.091, 0.091, 0.091, 0.091, 0.09, 0.09, 0.09, 0.09, 0.09, 0.09, 0.09, 0.09, 0.09, 0.09, 0.09, 0.09, 0.09, 0.09, 0.09, 0.09, 0.09, 0.09, 0.09, 0.09, 0.09, 0.09, 0.09, 0.09, 0.09, 0.09, 0.09, 0.09, 0.09, 0.09, 0.09, 0.09, 0.09, 0.089, 0.089, 0.089, 0.089, 0.089, 0.089, 0.089, 0.089, 0.089, 0.089, 0.089, 0.089, 0.089, 0.089, 0.089, 0.089, 0.089, 0.089, 0.089, 0.089, 0.089, 0.089, 0.089, 0.089, 0.089, 0.089, 0.089, 0.089, 0.089, 0.089, 0.089, 0.089, 0.089, 0.089, 0.088, 0.088, 0.088, 0.088, 0.088, 0.088, 0.088, 0.088, 0.088, 0.088, 0.088, 0.088, 0.088, 0.088, 0.088, 0.088, 0.088, 0.088, 0.088, 0.088, 0.088, 0.088, 0.088, 0.088, 0.088, 0.088, 0.088, 0.088, 0.088, 0.088, 0.087, 0.087, 0.087, 0.087, 0.087, 0.087, 0.087, 0.087, 0.087, 0.087, 0.087, 0.087, 0.087, 0.087, 0.087, 0.087, 0.087, 0.087, 0.087, 0.087, 0.087, 0.087, 0.087, 0.087, 0.087, 0.087, 0.087, 0.087, 0.087, 0.087, 0.086, 0.086, 0.086, 0.086, 0.086, 0.086, 0.086, 0.086, 0.086, 0.086, 0.086, 0.086, 0.086, 0.086, 0.086, 0.086, 0.086, 0.086, 0.086, 0.086, 0.086, 0.086, 0.086, 0.086, 0.086, 0.086, 0.086, 0.086, 0.086, 0.086, 0.085, 0.085, 0.085, 0.085, 0.085, 0.085, 0.085, 0.085, 0.085, 0.085, 0.085, 0.085, 0.085, 0.085, 0.085, 0.085, 0.085, 0.085, 0.085, 0.085, 0.085, 0.085, 0.085, 0.085, 0.085, 0.085, 0.085, 0.085, 0.085, 0.085, 0.085, 0.085, 0.084, 0.084, 0.084, 0.084, 0.084, 0.084, 0.084, 0.084, 0.084, 0.084, 0.084, 0.084, 0.084, 0.084, 0.084, 0.084, 0.084, 0.084, 0.084, 0.084, 0.084, 0.084, 0.084, 0.084, 0.084, 0.084, 0.084, 0.084, 0.084, 0.084, 0.084, 0.084, 0.084, 0.084, 0.084, 0.084, 0.084, 0.084, 0.084, 0.084, 0.083, 0.083, 0.083, 0.083, 0.083, 0.083, 0.083, 0.083, 0.083, 0.083, 0.083, 0.083, 0.083, 0.083, 0.083, 0.083, 0.083, 0.083, 0.083, 0.083, 0.083, 0.083, 0.083, 0.083, 0.083, 0.083, 0.082, 0.082, 0.082, 0.082, 0.082, 0.082, 0.082, 0.082, 0.082, 0.082, 0.082, 0.082, 0.082, 0.082, 0.082, 0.082, 0.082, 0.082, 0.082, 0.082, 0.082, 0.082, 0.082, 0.082, 0.082, 0.082, 0.082, 0.082, 0.082, 0.082, 0.082, 0.081, 0.081, 0.081, 0.081, 0.081, 0.081, 0.081, 0.081, 0.081, 0.081, 0.081, 0.081, 0.081, 0.081, 0.081, 0.081, 0.081, 0.081, 0.081, 0.081, 0.081, 0.081, 0.081, 0.081, 0.081, 0.081, 0.081, 0.081, 0.081, 0.081, 0.081, 0.081, 0.081, 0.08, 0.08, 0.08, 0.08, 0.08, 0.08, 0.08, 0.08, 0.08, 0.08, 0.08, 0.08, 0.08, 0.08, 0.08, 0.08, 0.08, 0.08, 0.08, 0.08, 0.08, 0.08, 0.08, 0.08, 0.08, 0.08, 0.08, 0.08, 0.08, 0.08, 0.08, 0.08, 0.079, 0.079, 0.079, 0.079, 0.079, 0.079, 0.079, 0.079, 0.079, 0.079, 0.079, 0.079, 0.079, 0.079, 0.079, 0.079, 0.079, 0.079, 0.079, 0.079, 0.079, 0.079, 0.079, 0.079, 0.079, 0.079, 0.079, 0.079, 0.079, 0.079, 0.079, 0.079, 0.079, 0.079, 0.079, 0.079, 0.079, 0.079, 0.079, 0.079, 0.079, 0.079, 0.079, 0.079, 0.079, 0.079, 0.078, 0.078, 0.078, 0.078, 0.078, 0.078, 0.078, 0.078, 0.078, 0.078, 0.078, 0.078, 0.078, 0.078, 0.078, 0.078, 0.078, 0.078, 0.078, 0.078, 0.078, 0.078, 0.078, 0.078, 0.078, 0.078, 0.078, 0.078, 0.078, 0.078, 0.078, 0.078, 0.078, 0.078, 0.077, 0.077, 0.077, 0.077, 0.077, 0.077, 0.077, 0.077, 0.077, 0.077, 0.077, 0.077, 0.077, 0.077, 0.077, 0.077, 0.077, 0.077, 0.077, 0.077, 0.077, 0.077, 0.077, 0.076, 0.076, 0.076, 0.076, 0.076, 0.076, 0.076, 0.076, 0.076, 0.076, 0.076, 0.076, 0.076, 0.076, 0.076, 0.076, 0.076, 0.076, 0.076, 0.076, 0.076, 0.076, 0.076, 0.076, 0.076, 0.076, 0.076, 0.076, 0.076, 0.076, 0.076, 0.076, 0.076, 0.076, 0.076, 0.076, 0.076, 0.076, 0.076, 0.076, 0.075, 0.075, 0.075, 0.075, 0.075, 0.075, 0.075, 0.075, 0.075, 0.075, 0.075, 0.075, 0.075, 0.075, 0.075, 0.075, 0.075, 0.075, 0.075, 0.075, 0.075, 0.075, 0.075, 0.075, 0.075, 0.075, 0.075, 0.075, 0.075, 0.075, 0.075, 0.074, 0.074, 0.074, 0.074, 0.074, 0.074, 0.074, 0.074, 0.074, 0.074, 0.074, 0.074, 0.074, 0.074, 0.074, 0.074, 0.074, 0.074, 0.074, 0.074, 0.074, 0.074, 0.074, 0.074, 0.074, 0.074, 0.074, 0.074, 0.074, 0.074, 0.074, 0.074, 0.074, 0.074, 0.074, 0.074, 0.074, 0.074, 0.073, 0.073, 0.073, 0.073, 0.073, 0.073, 0.073, 0.073, 0.073, 0.073, 0.073, 0.073, 0.073, 0.073, 0.073, 0.073, 0.073, 0.073, 0.073, 0.073, 0.073, 0.073, 0.073, 0.073, 0.073, 0.073, 0.073, 0.073, 0.073, 0.073, 0.073, 0.073, 0.073, 0.073, 0.073, 0.072, 0.072, 0.072, 0.072, 0.072, 0.072, 0.072, 0.072, 0.072, 0.072, 0.072, 0.072, 0.072, 0.072, 0.072, 0.072, 0.072, 0.072, 0.072, 0.072, 0.072, 0.072, 0.072, 0.072, 0.072, 0.072, 0.072, 0.072, 0.072, 0.072, 0.071, 0.071, 0.071, 0.071, 0.071, 0.071, 0.071, 0.071, 0.071, 0.071, 0.071, 0.071, 0.071, 0.071, 0.071, 0.071, 0.071, 0.071, 0.071, 0.071, 0.071, 0.071, 0.071, 0.071, 0.071, 0.071, 0.071, 0.071, 0.071, 0.071, 0.071, 0.071, 0.071, 0.071, 0.071, 0.071, 0.071, 0.071, 0.071, 0.071, 0.071, 0.071, 0.071, 0.07, 0.07, 0.07, 0.07, 0.07, 0.07, 0.07, 0.07, 0.07, 0.07, 0.07, 0.07, 0.07, 0.07, 0.07, 0.07, 0.07, 0.07, 0.07, 0.07, 0.07, 0.07, 0.07, 0.07, 0.07, 0.07, 0.07, 0.07, 0.07, 0.07, 0.07, 0.07, 0.07, 0.07, 0.07, 0.07, 0.07, 0.07, 0.07, 0.069, 0.069, 0.069, 0.069, 0.069, 0.069, 0.069, 0.069, 0.069, 0.069, 0.069, 0.069, 0.069, 0.069, 0.069, 0.069, 0.069, 0.069, 0.069, 0.069, 0.069, 0.069, 0.069, 0.069, 0.069, 0.069, 0.069, 0.069, 0.068, 0.068, 0.068, 0.068, 0.068, 0.068, 0.068, 0.068, 0.068, 0.068, 0.068, 0.068, 0.068, 0.068, 0.068, 0.068, 0.068, 0.068, 0.068, 0.068, 0.068, 0.068, 0.068, 0.068, 0.068, 0.068, 0.068, 0.068, 0.068, 0.068, 0.068, 0.068, 0.068, 0.068, 0.068, 0.068, 0.067, 0.067, 0.067, 0.067, 0.067, 0.067, 0.067, 0.067, 0.067, 0.067, 0.067, 0.067, 0.067, 0.067, 0.067, 0.067, 0.067, 0.067, 0.067, 0.067, 0.067, 0.067, 0.067, 0.066, 0.066, 0.066, 0.066, 0.066, 0.066, 0.066, 0.066, 0.066, 0.066, 0.066, 0.066, 0.066, 0.066, 0.066, 0.066, 0.066, 0.066, 0.066, 0.066, 0.066, 0.066, 0.066, 0.066, 0.066, 0.066, 0.066, 0.066, 0.066, 0.065, 0.065, 0.065, 0.065, 0.065, 0.065, 0.065, 0.065, 0.065, 0.065, 0.065, 0.065, 0.065, 0.065, 0.065, 0.065, 0.065, 0.065, 0.065, 0.065, 0.065, 0.065, 0.065, 0.065, 0.065, 0.065, 0.065, 0.065, 0.065, 0.065, 0.065, 0.064, 0.064, 0.064, 0.064, 0.064, 0.064, 0.064, 0.064, 0.064, 0.064, 0.064, 0.064, 0.064, 0.064, 0.064, 0.064, 0.064, 0.064, 0.064, 0.064, 0.064, 0.064, 0.064, 0.064, 0.064, 0.064, 0.064, 0.064, 0.063, 0.063, 0.063, 0.063, 0.063, 0.063, 0.063, 0.063, 0.063, 0.063, 0.063, 0.063, 0.063, 0.063, 0.063, 0.063, 0.063, 0.063, 0.063, 0.063, 0.063, 0.063, 0.063, 0.063, 0.063, 0.063, 0.063, 0.063, 0.063, 0.063, 0.063, 0.063, 0.063, 0.063, 0.063, 0.063, 0.063, 0.063, 0.063, 0.063, 0.063, 0.063, 0.063, 0.062, 0.062, 0.062, 0.062, 0.062, 0.062, 0.062, 0.062, 0.062, 0.062, 0.062, 0.062, 0.062, 0.062, 0.062, 0.062, 0.062, 0.062, 0.062, 0.062, 0.062, 0.062, 0.062, 0.062, 0.061, 0.061, 0.061, 0.061, 0.061, 0.061, 0.061, 0.061, 0.061, 0.061, 0.061, 0.061, 0.061, 0.061, 0.061, 0.061, 0.061, 0.061, 0.061, 0.061, 0.061, 0.061, 0.061, 0.061, 0.061, 0.061, 0.061, 0.061, 0.061, 0.061, 0.061, 0.061, 0.061, 0.061, 0.061, 0.061, 0.061, 0.061, 0.061, 0.061, 0.061, 0.061, 0.061, 0.06, 0.06, 0.06, 0.06, 0.06, 0.06, 0.06, 0.06, 0.06, 0.06, 0.06, 0.06, 0.06, 0.06, 0.06, 0.06, 0.06, 0.06, 0.06, 0.06, 0.06, 0.06, 0.06, 0.06, 0.06, 0.06, 0.06, 0.06, 0.06, 0.06, 0.06, 0.06, 0.06, 0.06, 0.06, 0.059, 0.059, 0.059, 0.059, 0.059, 0.059, 0.059, 0.059, 0.059, 0.059, 0.059, 0.059, 0.059, 0.059, 0.059, 0.059, 0.059, 0.059, 0.059, 0.059, 0.059, 0.059, 0.059, 0.059, 0.059, 0.059, 0.059, 0.059, 0.059, 0.059, 0.059, 0.059, 0.059, 0.059, 0.059, 0.059, 0.059, 0.059, 0.059, 0.058, 0.058, 0.058, 0.058, 0.058, 0.058, 0.058, 0.058, 0.058, 0.058, 0.058, 0.058, 0.058, 0.058, 0.058, 0.058, 0.058, 0.058, 0.058, 0.058, 0.058, 0.058, 0.058, 0.058, 0.058, 0.058, 0.058, 0.058, 0.058, 0.058, 0.058, 0.058, 0.058, 0.058, 0.058, 0.057, 0.057, 0.057, 0.057, 0.057, 0.057, 0.057, 0.057, 0.057, 0.057, 0.057, 0.057, 0.057, 0.057, 0.057, 0.057, 0.057, 0.057, 0.057, 0.057, 0.057, 0.057, 0.057, 0.057, 0.057, 0.057, 0.057, 0.057, 0.057, 0.057, 0.057, 0.057, 0.057, 0.057, 0.057, 0.056, 0.056, 0.056, 0.056, 0.056, 0.056, 0.056, 0.056, 0.056, 0.056, 0.056, 0.056, 0.056, 0.056, 0.056, 0.056, 0.056, 0.056, 0.056, 0.056, 0.056, 0.056, 0.056, 0.056, 0.056, 0.056, 0.056, 0.056, 0.056, 0.056, 0.056, 0.056, 0.056, 0.056, 0.056, 0.056, 0.056, 0.056, 0.056, 0.056, 0.056, 0.056, 0.056, 0.055, 0.055, 0.055, 0.055, 0.055, 0.055, 0.055, 0.055, 0.055, 0.055, 0.055, 0.055, 0.055, 0.055, 0.055, 0.055, 0.055, 0.055, 0.055, 0.055, 0.055, 0.055, 0.055, 0.055, 0.055, 0.055, 0.054, 0.054, 0.054, 0.054, 0.054, 0.054, 0.054, 0.054, 0.054, 0.054, 0.054, 0.054, 0.054, 0.054, 0.054, 0.054, 0.054, 0.054, 0.054, 0.054, 0.054, 0.054, 0.053, 0.053, 0.053, 0.053, 0.053, 0.053, 0.053, 0.053, 0.053, 0.053, 0.053, 0.053, 0.053, 0.053, 0.053, 0.053, 0.053, 0.053, 0.053, 0.053, 0.053, 0.053, 0.053, 0.053, 0.053, 0.053, 0.053, 0.053, 0.053, 0.053, 0.053, 0.053, 0.053, 0.053, 0.053, 0.053, 0.053, 0.053, 0.053, 0.053, 0.053, 0.053, 0.053, 0.052, 0.052, 0.052, 0.052, 0.052, 0.052, 0.052, 0.052, 0.052, 0.052, 0.052, 0.052, 0.052, 0.052, 0.052, 0.052, 0.052, 0.052, 0.052, 0.052, 0.052, 0.052, 0.052, 0.052, 0.052, 0.052, 0.052, 0.052, 0.052, 0.052, 0.052, 0.051, 0.051, 0.051, 0.051, 0.051, 0.051, 0.051, 0.051, 0.051, 0.051, 0.051, 0.051, 0.051, 0.051, 0.051, 0.051, 0.051, 0.051, 0.051, 0.051, 0.051, 0.051, 0.051, 0.051, 0.051, 0.051, 0.051, 0.051, 0.051, 0.051, 0.051, 0.051, 0.051, 0.051, 0.051, 0.051, 0.05, 0.05, 0.05, 0.05, 0.05, 0.05, 0.05, 0.05, 0.05, 0.05, 0.05, 0.05, 0.05, 0.05, 0.05, 0.05, 0.05, 0.05, 0.05, 0.05, 0.05, 0.05, 0.05, 0.05, 0.05, 0.05, 0.05, 0.05, 0.05, 0.05, 0.05, 0.05, 0.05, 0.05, 0.05, 0.05, 0.05, 0.049, 0.049, 0.049, 0.049, 0.049, 0.049, 0.049, 0.049, 0.049, 0.049, 0.049, 0.049, 0.049, 0.049, 0.049, 0.049, 0.049, 0.049, 0.049, 0.049, 0.049, 0.049, 0.049, 0.049, 0.049, 0.049, 0.049, 0.049, 0.049, 0.049, 0.049, 0.049, 0.049, 0.049, 0.049, 0.049, 0.049, 0.048, 0.048, 0.048, 0.048, 0.048, 0.048, 0.048, 0.048, 0.048, 0.048, 0.048, 0.048, 0.048, 0.048, 0.048, 0.048, 0.048, 0.048, 0.048, 0.048, 0.048, 0.048, 0.048, 0.048, 0.047, 0.047, 0.047, 0.047, 0.047, 0.047, 0.047, 0.047, 0.047, 0.047, 0.047, 0.047, 0.047, 0.047, 0.047, 0.047, 0.047, 0.047, 0.047, 0.047, 0.047, 0.047, 0.047, 0.047, 0.047, 0.047, 0.047, 0.047, 0.047, 0.047, 0.047, 0.047, 0.047, 0.047, 0.047, 0.047, 0.047, 0.047, 0.047, 0.047, 0.047, 0.047, 0.047, 0.047, 0.046, 0.046, 0.046, 0.046, 0.046, 0.046, 0.046, 0.046, 0.046, 0.046, 0.046, 0.046, 0.046, 0.046, 0.046, 0.046, 0.046, 0.046, 0.046, 0.046, 0.046, 0.046, 0.046, 0.046, 0.046, 0.046, 0.046, 0.046, 0.046, 0.046, 0.046, 0.046, 0.046, 0.046, 0.045, 0.045, 0.045, 0.045, 0.045, 0.045, 0.045, 0.045, 0.045, 0.045, 0.045, 0.045, 0.045, 0.045, 0.045, 0.045, 0.045, 0.045, 0.045, 0.045, 0.045, 0.045, 0.045, 0.045, 0.045, 0.045, 0.045, 0.045, 0.045, 0.045, 0.045, 0.045, 0.045, 0.044, 0.044, 0.044, 0.044, 0.044, 0.044, 0.044, 0.044, 0.044, 0.044, 0.044, 0.044, 0.044, 0.044, 0.044, 0.044, 0.044, 0.044, 0.044, 0.044, 0.044, 0.044, 0.044, 0.044, 0.043, 0.043, 0.043, 0.043, 0.043, 0.043, 0.043, 0.043, 0.043, 0.043, 0.043, 0.043, 0.043, 0.043, 0.043, 0.043, 0.043, 0.043, 0.043, 0.043, 0.043, 0.043, 0.043, 0.043, 0.043, 0.043, 0.043, 0.042, 0.042, 0.042, 0.042, 0.042, 0.042, 0.042, 0.042, 0.042, 0.042, 0.042, 0.042, 0.042, 0.042, 0.042, 0.042, 0.042, 0.042, 0.042, 0.042, 0.042, 0.042, 0.042, 0.042, 0.042, 0.042, 0.042, 0.042, 0.042, 0.042, 0.042, 0.042, 0.042, 0.042, 0.042, 0.041, 0.041, 0.041, 0.041, 0.041, 0.041, 0.041, 0.041, 0.041, 0.041, 0.041, 0.041, 0.041, 0.041, 0.041, 0.041, 0.041, 0.041, 0.041, 0.041, 0.041, 0.041, 0.041, 0.041, 0.041, 0.041, 0.041, 0.041, 0.041, 0.041, 0.041, 0.041, 0.041, 0.041, 0.041, 0.041, 0.041, 0.041, 0.041, 0.041, 0.04, 0.04, 0.04, 0.04, 0.04, 0.04, 0.04, 0.04, 0.04, 0.04, 0.04, 0.04, 0.04, 0.04, 0.04, 0.04, 0.04, 0.04, 0.04, 0.04, 0.04, 0.04, 0.04, 0.04, 0.04, 0.04, 0.04, 0.04, 0.04, 0.04, 0.04, 0.04, 0.04, 0.04, 0.039, 0.039, 0.039, 0.039, 0.039, 0.039, 0.039, 0.039, 0.039, 0.039, 0.039, 0.039, 0.039, 0.039, 0.039, 0.039, 0.039, 0.039, 0.039, 0.039, 0.039, 0.039, 0.039, 0.039, 0.039, 0.039, 0.039, 0.039, 0.039, 0.039, 0.039, 0.039, 0.039, 0.039, 0.039, 0.039, 0.038, 0.038, 0.038, 0.038, 0.038, 0.038, 0.038, 0.038, 0.038, 0.038, 0.038, 0.038, 0.038, 0.038, 0.038, 0.038, 0.038, 0.038, 0.038, 0.038, 0.038, 0.038, 0.038, 0.038, 0.038, 0.038, 0.038, 0.038, 0.037, 0.037, 0.037, 0.037, 0.037, 0.037, 0.037, 0.037, 0.037, 0.037, 0.037, 0.037, 0.037, 0.037, 0.037, 0.037, 0.037, 0.037, 0.037, 0.037, 0.037, 0.037, 0.037, 0.037, 0.037, 0.037, 0.037, 0.037, 0.037, 0.037, 0.037, 0.037, 0.037, 0.037, 0.037, 0.037, 0.037, 0.036, 0.036, 0.036, 0.036, 0.036, 0.036, 0.036, 0.036, 0.036, 0.036, 0.036, 0.036, 0.036, 0.036, 0.036, 0.036, 0.036, 0.036, 0.036, 0.036, 0.036, 0.036, 0.036, 0.036, 0.036, 0.036, 0.036, 0.036, 0.036, 0.035, 0.035, 0.035, 0.035, 0.035, 0.035, 0.035, 0.035, 0.035, 0.035, 0.035, 0.035, 0.035, 0.035, 0.035, 0.035, 0.035, 0.035, 0.035, 0.035, 0.035, 0.035, 0.035, 0.035, 0.035, 0.034, 0.034, 0.034, 0.034, 0.034, 0.034, 0.034, 0.034, 0.034, 0.034, 0.034, 0.034, 0.034, 0.034, 0.034, 0.034, 0.034, 0.034, 0.034, 0.034, 0.034, 0.034, 0.034, 0.034, 0.034, 0.034, 0.034, 0.034, 0.034, 0.034, 0.034, 0.034, 0.034, 0.034, 0.034, 0.034, 0.034, 0.034, 0.034, 0.034, 0.034, 0.034, 0.034, 0.033, 0.033, 0.033, 0.033, 0.033, 0.033, 0.033, 0.033, 0.033, 0.033, 0.033, 0.033, 0.033, 0.033, 0.033, 0.033, 0.033, 0.033, 0.033, 0.033, 0.033, 0.033, 0.033, 0.033, 0.033, 0.033, 0.033, 0.032, 0.032, 0.032, 0.032, 0.032, 0.032, 0.032, 0.032, 0.032, 0.032, 0.032, 0.032, 0.032, 0.032, 0.032, 0.032, 0.032, 0.032, 0.032, 0.032, 0.032, 0.032, 0.032, 0.032, 0.032, 0.032, 0.032, 0.032, 0.032, 0.032, 0.032, 0.032, 0.032, 0.032, 0.032, 0.032, 0.031, 0.031, 0.031, 0.031, 0.031, 0.031, 0.031, 0.031, 0.031, 0.031, 0.031, 0.031, 0.031, 0.031, 0.031, 0.031, 0.031, 0.031, 0.031, 0.031, 0.031, 0.031, 0.031, 0.03, 0.03, 0.03, 0.03, 0.03, 0.03, 0.03, 0.03, 0.03, 0.03, 0.03, 0.03, 0.03, 0.03, 0.03, 0.03, 0.03, 0.03, 0.03, 0.03, 0.03, 0.03, 0.03, 0.03, 0.03, 0.03, 0.03, 0.03, 0.03, 0.03, 0.03, 0.03, 0.03, 0.03, 0.03, 0.03, 0.03, 0.03, 0.03, 0.03, 0.03, 0.03, 0.03, 0.03, 0.03, 0.03, 0.029, 0.029, 0.029, 0.029, 0.029, 0.029, 0.029, 0.029, 0.029, 0.029, 0.029, 0.029, 0.029, 0.029, 0.029, 0.029, 0.029, 0.029, 0.029, 0.029, 0.029, 0.029, 0.029, 0.029, 0.029, 0.029, 0.029, 0.029, 0.029, 0.029, 0.029, 0.029, 0.029, 0.029, 0.029, 0.029, 0.029, 0.029, 0.029, 0.028, 0.028, 0.028, 0.028, 0.028, 0.028, 0.028, 0.028, 0.028, 0.028, 0.028, 0.028, 0.028, 0.028, 0.028, 0.028, 0.028, 0.028, 0.028, 0.028, 0.028, 0.028, 0.028, 0.028, 0.028, 0.028, 0.028, 0.028, 0.028, 0.028, 0.028, 0.028, 0.028, 0.028, 0.028, 0.028, 0.028, 0.028, 0.028, 0.028, 0.027, 0.027, 0.027, 0.027, 0.027, 0.027, 0.027, 0.027, 0.027, 0.027, 0.027, 0.027, 0.027, 0.027, 0.027, 0.027, 0.027, 0.027, 0.027, 0.027, 0.027, 0.027, 0.027, 0.027, 0.027, 0.027, 0.027, 0.027, 0.027, 0.027, 0.027, 0.027, 0.027, 0.027, 0.027, 0.027, 0.027, 0.027, 0.027, 0.027, 0.027, 0.027, 0.027, 0.027, 0.027, 0.027, 0.027, 0.027, 0.027, 0.027, 0.027, 0.027, 0.027, 0.027, 0.027, 0.026, 0.026, 0.026, 0.026, 0.026, 0.026, 0.026, 0.026, 0.026, 0.026, 0.026, 0.026, 0.026, 0.026, 0.026, 0.026, 0.026, 0.026, 0.026, 0.026, 0.026, 0.026, 0.026, 0.026, 0.026, 0.026, 0.026, 0.026, 0.026, 0.026, 0.026, 0.026, 0.026, 0.026, 0.026, 0.026, 0.025, 0.025, 0.025, 0.025, 0.025, 0.025, 0.025, 0.025, 0.025, 0.025, 0.025, 0.025, 0.025, 0.025, 0.025, 0.025, 0.025, 0.025, 0.025, 0.025, 0.025, 0.025, 0.025, 0.025, 0.025, 0.025, 0.024, 0.024, 0.024, 0.024, 0.024, 0.024, 0.024, 0.024, 0.024, 0.024, 0.024, 0.024, 0.024, 0.024, 0.024, 0.024, 0.024, 0.024, 0.024, 0.024, 0.024, 0.024, 0.024, 0.024, 0.024, 0.024, 0.024, 0.024, 0.024, 0.024, 0.023, 0.023, 0.023, 0.023, 0.023, 0.023, 0.023, 0.023, 0.023, 0.023, 0.023, 0.023, 0.023, 0.023, 0.023, 0.023, 0.023, 0.023, 0.023, 0.023, 0.023, 0.023, 0.023, 0.023, 0.023, 0.023, 0.023, 0.023, 0.023, 0.023, 0.023, 0.023, 0.023, 0.023, 0.023, 0.023, 0.023, 0.023, 0.023, 0.023, 0.023, 0.023, 0.023, 0.023, 0.023, 0.023, 0.023, 0.023, 0.022, 0.022, 0.022, 0.022, 0.022, 0.022, 0.022, 0.022, 0.022, 0.022, 0.022, 0.022, 0.022, 0.022, 0.022, 0.022, 0.022, 0.022, 0.022, 0.022, 0.022, 0.022, 0.022, 0.022, 0.022, 0.022, 0.022, 0.022, 0.022, 0.022, 0.022, 0.022, 0.022, 0.021, 0.021, 0.021, 0.021, 0.021, 0.021, 0.021, 0.021, 0.021, 0.021, 0.021, 0.021, 0.021, 0.021, 0.021, 0.021, 0.021, 0.021, 0.021, 0.021, 0.021, 0.021, 0.021, 0.021, 0.021, 0.021, 0.021, 0.02, 0.02, 0.02, 0.02, 0.02, 0.02, 0.02, 0.02, 0.02, 0.02, 0.02, 0.02, 0.02, 0.02, 0.02, 0.02, 0.02, 0.02, 0.02, 0.02, 0.02, 0.02, 0.02, 0.02, 0.02, 0.02, 0.02, 0.02, 0.02, 0.02, 0.02, 0.02, 0.02, 0.02, 0.02, 0.02, 0.02, 0.02, 0.02, 0.02, 0.02, 0.02, 0.02, 0.02, 0.02, 0.02, 0.02, 0.02, 0.02, 0.019, 0.019, 0.019, 0.019, 0.019, 0.019, 0.019, 0.019, 0.019, 0.019, 0.019, 0.019, 0.019, 0.019, 0.019, 0.019, 0.019, 0.019, 0.019, 0.019, 0.019, 0.019, 0.019, 0.019, 0.019, 0.018, 0.018, 0.018, 0.018, 0.018, 0.018, 0.018, 0.018, 0.018, 0.018, 0.018, 0.018, 0.018, 0.018, 0.018, 0.018, 0.018, 0.018, 0.018, 0.018, 0.018, 0.018, 0.018, 0.018, 0.018, 0.018, 0.018, 0.018, 0.018, 0.018, 0.018, 0.018, 0.018, 0.018, 0.018, 0.018, 0.018, 0.018, 0.018, 0.017, 0.017, 0.017, 0.017, 0.017, 0.017, 0.017, 0.017, 0.017, 0.017, 0.017, 0.017, 0.017, 0.017, 0.017, 0.017, 0.017, 0.017, 0.017, 0.017, 0.017, 0.017, 0.017, 0.017, 0.017, 0.017, 0.017, 0.017, 0.016, 0.016, 0.016, 0.016, 0.016, 0.016, 0.016, 0.016, 0.016, 0.016, 0.016, 0.016, 0.016, 0.016, 0.016, 0.016, 0.016, 0.016, 0.016, 0.016, 0.016, 0.016, 0.016, 0.016, 0.016, 0.016, 0.016, 0.016, 0.016, 0.016, 0.016, 0.016, 0.016, 0.015, 0.015, 0.015, 0.015, 0.015, 0.015, 0.015, 0.015, 0.015, 0.015, 0.015, 0.015, 0.015, 0.015, 0.015, 0.015, 0.015, 0.015, 0.015, 0.015, 0.015, 0.015, 0.015, 0.015, 0.015, 0.015, 0.014, 0.014, 0.014, 0.014, 0.014, 0.014, 0.014, 0.014, 0.014, 0.014, 0.014, 0.014, 0.014, 0.014, 0.014, 0.014, 0.014, 0.014, 0.014, 0.014, 0.014, 0.014, 0.014, 0.014, 0.014, 0.014, 0.014, 0.014, 0.014, 0.014, 0.014, 0.014, 0.014, 0.013, 0.013, 0.013, 0.013, 0.013, 0.013, 0.013, 0.013, 0.013, 0.013, 0.013, 0.013, 0.013, 0.013, 0.013, 0.013, 0.013, 0.013, 0.013, 0.013, 0.013, 0.013, 0.013, 0.013, 0.013, 0.013, 0.013, 0.013, 0.013, 0.012, 0.012, 0.012, 0.012, 0.012, 0.012, 0.012, 0.012, 0.012, 0.012, 0.012, 0.012, 0.012, 0.012, 0.012, 0.012, 0.012, 0.012, 0.012, 0.012, 0.012, 0.012, 0.012, 0.012, 0.012, 0.012, 0.012, 0.012, 0.012, 0.012, 0.012, 0.012, 0.012, 0.011, 0.011, 0.011, 0.011, 0.011, 0.011, 0.011, 0.011, 0.011, 0.011, 0.011, 0.011, 0.011, 0.011, 0.011, 0.011, 0.011, 0.011, 0.011, 0.011, 0.011, 0.011, 0.011, 0.011, 0.011, 0.011, 0.011, 0.011, 0.011, 0.011, 0.01, 0.01, 0.01, 0.01, 0.01, 0.01, 0.01, 0.01, 0.01, 0.01, 0.01, 0.01, 0.01, 0.01, 0.01, 0.01, 0.01, 0.01, 0.01, 0.01, 0.01, 0.01, 0.01, 0.01, 0.01, 0.01, 0.01, 0.01, 0.01, 0.01, 0.01, 0.01, 0.01, 0.01, 0.01, 0.01, 0.01, 0.01, 0.009, 0.009, 0.009, 0.009, 0.009, 0.009, 0.009, 0.009, 0.009, 0.009, 0.009, 0.009, 0.009, 0.009, 0.009, 0.009, 0.009, 0.009, 0.009, 0.009, 0.009, 0.009, 0.009, 0.009, 0.009, 0.009, 0.009, 0.009, 0.009, 0.008, 0.008, 0.008, 0.008, 0.008, 0.008, 0.008, 0.008, 0.008, 0.008, 0.008, 0.008, 0.008, 0.008, 0.008, 0.008, 0.008, 0.008, 0.008, 0.008, 0.008, 0.008, 0.008, 0.008, 0.008, 0.008, 0.008, 0.008, 0.008, 0.008, 0.008, 0.008, 0.008, 0.008, 0.008, 0.008, 0.007, 0.007, 0.007, 0.007, 0.007, 0.007, 0.007, 0.007, 0.007, 0.007, 0.007, 0.007, 0.007, 0.007, 0.007, 0.007, 0.007, 0.007, 0.007, 0.007, 0.007, 0.007, 0.007, 0.007, 0.007, 0.007, 0.007, 0.007, 0.007, 0.007, 0.007, 0.007, 0.007, 0.007, 0.007, 0.007, 0.007, 0.007, 0.006, 0.006, 0.006, 0.006, 0.006, 0.006, 0.006, 0.006, 0.006, 0.006, 0.006, 0.006, 0.006, 0.006, 0.006, 0.006, 0.006, 0.006, 0.006, 0.006, 0.006, 0.006, 0.006, 0.006, 0.006, 0.006, 0.006, 0.006, 0.006, 0.006, 0.006, 0.006, 0.005, 0.005, 0.005, 0.005, 0.005, 0.005, 0.005, 0.005, 0.005, 0.005, 0.005, 0.005, 0.005, 0.005, 0.005, 0.005, 0.005, 0.005, 0.005, 0.005, 0.005, 0.005, 0.005, 0.005, 0.005, 0.005, 0.005, 0.005, 0.005, 0.005, 0.005, 0.005, 0.005, 0.005, 0.005, 0.005, 0.005, 0.005, 0.005, 0.005, 0.004, 0.004, 0.004, 0.004, 0.004, 0.004, 0.004, 0.004, 0.004, 0.004, 0.004, 0.004, 0.004, 0.004, 0.004, 0.004, 0.004, 0.004, 0.004, 0.004, 0.004, 0.004, 0.004, 0.004, 0.004, 0.004, 0.004, 0.004, 0.004, 0.004, 0.004, 0.004, 0.004, 0.004, 0.004, 0.004, 0.004, 0.004, 0.004, 0.004, 0.004, 0.004, 0.003, 0.003, 0.003, 0.003, 0.003, 0.003, 0.003, 0.003, 0.003, 0.003, 0.003, 0.003, 0.003, 0.003, 0.003, 0.003, 0.003, 0.003, 0.003, 0.003, 0.003, 0.003, 0.003, 0.003, 0.003, 0.003, 0.003, 0.003, 0.003, 0.003, 0.003, 0.003, 0.003, 0.003, 0.003, 0.003, 0.003, 0.003, 0.003, 0.003, 0.002, 0.002, 0.002, 0.002, 0.002, 0.002, 0.002, 0.002, 0.002, 0.002, 0.002, 0.002, 0.002, 0.002, 0.002, 0.002, 0.002, 0.002, 0.002, 0.002, 0.002, 0.002, 0.002, 0.002, 0.002, 0.002, 0.002, 0.002, 0.001, 0.001, 0.001, 0.001, 0.001, 0.001, 0.001, 0.001, 0.001, 0.001, 0.001, 0.001, 0.001, 0.001, 0.001, 0.001, 0.001, 0.001, 0.001, 0.001, 0.001, 0.001, 0.001, 0.001, 0.001, 0.001, 0.001, 0.001, 0.001, 0.0, 0.0, 0.0, 0.0, 0.0, 0.0, 0.0, 0.0, 0.0, 0.0, 0.0, 0.0, 0.0, 0.0, 0.0, 0.0, -0.0, -0.0, -0.0, -0.0, -0.0, -0.0, -0.0, -0.0, -0.0, -0.0, -0.0, -0.0, -0.0, -0.0, -0.0, -0.0, -0.0, -0.0, -0.0, -0.0, -0.0, -0.0, -0.0, -0.0, -0.001, -0.001, -0.001, -0.001, -0.001, -0.001, -0.001, -0.001, -0.001, -0.001, -0.001, -0.001, -0.001, -0.001, -0.001, -0.001, -0.001, -0.001, -0.001, -0.001, -0.001, -0.001, -0.001, -0.001, -0.001, -0.001, -0.001, -0.001, -0.001, -0.002, -0.002, -0.002, -0.002, -0.002, -0.002, -0.002, -0.002, -0.002, -0.002, -0.002, -0.002, -0.002, -0.002, -0.002, -0.002, -0.002, -0.002, -0.002, -0.002, -0.002, -0.002, -0.002, -0.002, -0.002, -0.002, -0.002, -0.002, -0.002, -0.003, -0.003, -0.003, -0.003, -0.003, -0.003, -0.003, -0.003, -0.003, -0.003, -0.003, -0.003, -0.003, -0.003, -0.003, -0.003, -0.003, -0.003, -0.003, -0.003, -0.003, -0.003, -0.003, -0.003, -0.003, -0.003, -0.003, -0.003, -0.003, -0.003, -0.003, -0.003, -0.004, -0.004, -0.004, -0.004, -0.004, -0.004, -0.004, -0.004, -0.004, -0.004, -0.004, -0.004, -0.004, -0.004, -0.004, -0.004, -0.004, -0.004, -0.004, -0.004, -0.004, -0.004, -0.004, -0.004, -0.004, -0.004, -0.004, -0.004, -0.004, -0.004, -0.004, -0.004, -0.004, -0.004, -0.004, -0.004, -0.004, -0.004, -0.004, -0.004, -0.004, -0.004, -0.005, -0.005, -0.005, -0.005, -0.005, -0.005, -0.005, -0.005, -0.005, -0.005, -0.005, -0.005, -0.005, -0.005, -0.005, -0.005, -0.005, -0.005, -0.005, -0.005, -0.005, -0.005, -0.005, -0.005, -0.005, -0.005, -0.005, -0.005, -0.005, -0.005, -0.005, -0.005, -0.005, -0.005, -0.006, -0.006, -0.006, -0.006, -0.006, -0.006, -0.006, -0.006, -0.006, -0.006, -0.006, -0.006, -0.006, -0.006, -0.006, -0.006, -0.006, -0.006, -0.006, -0.006, -0.006, -0.006, -0.006, -0.006, -0.006, -0.006, -0.006, -0.006, -0.006, -0.006, -0.006, -0.006, -0.006, -0.006, -0.006, -0.007, -0.007, -0.007, -0.007, -0.007, -0.007, -0.007, -0.007, -0.007, -0.007, -0.007, -0.007, -0.007, -0.007, -0.007, -0.007, -0.007, -0.007, -0.007, -0.007, -0.007, -0.007, -0.007, -0.007, -0.007, -0.007, -0.007, -0.007, -0.007, -0.007, -0.007, -0.007, -0.007, -0.007, -0.007, -0.007, -0.007, -0.007, -0.007, -0.008, -0.008, -0.008, -0.008, -0.008, -0.008, -0.008, -0.008, -0.008, -0.008, -0.008, -0.008, -0.008, -0.008, -0.008, -0.008, -0.008, -0.008, -0.008, -0.008, -0.008, -0.008, -0.008, -0.008, -0.008, -0.008, -0.008, -0.008, -0.008, -0.008, -0.008, -0.008, -0.008, -0.008, -0.008, -0.009, -0.009, -0.009, -0.009, -0.009, -0.009, -0.009, -0.009, -0.009, -0.009, -0.009, -0.009, -0.009, -0.009, -0.009, -0.009, -0.009, -0.009, -0.009, -0.009, -0.009, -0.009, -0.009, -0.009, -0.009, -0.009, -0.009, -0.009, -0.009, -0.009, -0.009, -0.009, -0.009, -0.009, -0.009, -0.009, -0.009, -0.009, -0.009, -0.009, -0.01, -0.01, -0.01, -0.01, -0.01, -0.01, -0.01, -0.01, -0.01, -0.01, -0.01, -0.01, -0.01, -0.01, -0.01, -0.01, -0.01, -0.01, -0.01, -0.01, -0.01, -0.01, -0.01, -0.01, -0.01, -0.01, -0.01, -0.01, -0.01, -0.01, -0.01, -0.01, -0.01, -0.01, -0.01, -0.01, -0.01, -0.01, -0.01, -0.011, -0.011, -0.011, -0.011, -0.011, -0.011, -0.011, -0.011, -0.011, -0.011, -0.011, -0.011, -0.011, -0.011, -0.011, -0.011, -0.011, -0.011, -0.011, -0.011, -0.011, -0.011, -0.011, -0.011, -0.011, -0.011, -0.011, -0.011, -0.011, -0.011, -0.011, -0.011, -0.011, -0.011, -0.011, -0.011, -0.011, -0.011, -0.011, -0.011, -0.012, -0.012, -0.012, -0.012, -0.012, -0.012, -0.012, -0.012, -0.012, -0.012, -0.012, -0.012, -0.012, -0.012, -0.012, -0.012, -0.012, -0.012, -0.012, -0.012, -0.012, -0.012, -0.012, -0.012, -0.012, -0.012, -0.012, -0.012, -0.012, -0.012, -0.012, -0.012, -0.012, -0.012, -0.013, -0.013, -0.013, -0.013, -0.013, -0.013, -0.013, -0.013, -0.013, -0.013, -0.013, -0.013, -0.013, -0.013, -0.013, -0.013, -0.013, -0.013, -0.013, -0.013, -0.013, -0.013, -0.013, -0.013, -0.013, -0.013, -0.013, -0.013, -0.013, -0.013, -0.013, -0.013, -0.013, -0.014, -0.014, -0.014, -0.014, -0.014, -0.014, -0.014, -0.014, -0.014, -0.014, -0.014, -0.014, -0.014, -0.014, -0.014, -0.014, -0.014, -0.014, -0.014, -0.014, -0.014, -0.014, -0.014, -0.014, -0.014, -0.014, -0.014, -0.014, -0.014, -0.014, -0.014, -0.014, -0.014, -0.014, -0.014, -0.014, -0.014, -0.014, -0.014, -0.014, -0.014, -0.014, -0.015, -0.015, -0.015, -0.015, -0.015, -0.015, -0.015, -0.015, -0.015, -0.015, -0.015, -0.015, -0.015, -0.015, -0.015, -0.015, -0.015, -0.015, -0.015, -0.015, -0.015, -0.015, -0.015, -0.015, -0.015, -0.015, -0.015, -0.015, -0.015, -0.015, -0.015, -0.015, -0.015, -0.015, -0.015, -0.015, -0.015, -0.015, -0.015, -0.016, -0.016, -0.016, -0.016, -0.016, -0.016, -0.016, -0.016, -0.016, -0.016, -0.016, -0.016, -0.016, -0.016, -0.016, -0.016, -0.016, -0.016, -0.016, -0.016, -0.016, -0.016, -0.016, -0.016, -0.016, -0.016, -0.016, -0.016, -0.016, -0.016, -0.016, -0.016, -0.016, -0.016, -0.016, -0.016, -0.016, -0.016, -0.017, -0.017, -0.017, -0.017, -0.017, -0.017, -0.017, -0.017, -0.017, -0.017, -0.017, -0.017, -0.017, -0.017, -0.017, -0.017, -0.017, -0.017, -0.017, -0.017, -0.017, -0.017, -0.017, -0.017, -0.017, -0.017, -0.017, -0.017, -0.017, -0.017, -0.017, -0.017, -0.017, -0.017, -0.017, -0.017, -0.017, -0.017, -0.018, -0.018, -0.018, -0.018, -0.018, -0.018, -0.018, -0.018, -0.018, -0.018, -0.018, -0.018, -0.018, -0.018, -0.018, -0.018, -0.018, -0.018, -0.018, -0.018, -0.018, -0.018, -0.018, -0.018, -0.018, -0.018, -0.018, -0.018, -0.018, -0.018, -0.018, -0.018, -0.018, -0.018, -0.018, -0.018, -0.018, -0.019, -0.019, -0.019, -0.019, -0.019, -0.019, -0.019, -0.019, -0.019, -0.019, -0.019, -0.019, -0.019, -0.019, -0.019, -0.019, -0.019, -0.019, -0.019, -0.019, -0.019, -0.019, -0.019, -0.019, -0.019, -0.019, -0.019, -0.019, -0.019, -0.019, -0.019, -0.02, -0.02, -0.02, -0.02, -0.02, -0.02, -0.02, -0.02, -0.02, -0.02, -0.02, -0.02, -0.02, -0.02, -0.02, -0.02, -0.02, -0.02, -0.02, -0.02, -0.02, -0.02, -0.02, -0.02, -0.02, -0.02, -0.021, -0.021, -0.021, -0.021, -0.021, -0.021, -0.021, -0.021, -0.021, -0.021, -0.021, -0.021, -0.021, -0.021, -0.021, -0.021, -0.021, -0.021, -0.021, -0.021, -0.021, -0.021, -0.021, -0.021, -0.021, -0.021, -0.021, -0.021, -0.021, -0.021, -0.021, -0.021, -0.021, -0.021, -0.021, -0.021, -0.021, -0.021, -0.021, -0.022, -0.022, -0.022, -0.022, -0.022, -0.022, -0.022, -0.022, -0.022, -0.022, -0.022, -0.022, -0.022, -0.022, -0.022, -0.022, -0.022, -0.022, -0.022, -0.022, -0.022, -0.022, -0.022, -0.022, -0.022, -0.022, -0.022, -0.022, -0.022, -0.022, -0.022, -0.022, -0.022, -0.022, -0.022, -0.022, -0.022, -0.022, -0.022, -0.022, -0.022, -0.022, -0.022, -0.022, -0.022, -0.022, -0.022, -0.022, -0.023, -0.023, -0.023, -0.023, -0.023, -0.023, -0.023, -0.023, -0.023, -0.023, -0.023, -0.023, -0.023, -0.023, -0.023, -0.023, -0.023, -0.023, -0.023, -0.023, -0.023, -0.023, -0.023, -0.023, -0.023, -0.023, -0.023, -0.023, -0.023, -0.023, -0.023, -0.023, -0.023, -0.023, -0.023, -0.023, -0.023, -0.023, -0.023, -0.023, -0.023, -0.023, -0.023, -0.023, -0.024, -0.024, -0.024, -0.024, -0.024, -0.024, -0.024, -0.024, -0.024, -0.024, -0.024, -0.024, -0.024, -0.024, -0.024, -0.024, -0.024, -0.024, -0.024, -0.024, -0.024, -0.024, -0.024, -0.024, -0.024, -0.024, -0.024, -0.024, -0.025, -0.025, -0.025, -0.025, -0.025, -0.025, -0.025, -0.025, -0.025, -0.025, -0.025, -0.025, -0.025, -0.025, -0.025, -0.025, -0.025, -0.025, -0.025, -0.025, -0.025, -0.025, -0.025, -0.025, -0.025, -0.025, -0.026, -0.026, -0.026, -0.026, -0.026, -0.026, -0.026, -0.026, -0.026, -0.026, -0.026, -0.026, -0.026, -0.026, -0.026, -0.026, -0.026, -0.026, -0.026, -0.026, -0.026, -0.026, -0.026, -0.026, -0.026, -0.026, -0.026, -0.026, -0.026, -0.026, -0.026, -0.026, -0.026, -0.026, -0.026, -0.026, -0.026, -0.026, -0.026, -0.026, -0.026, -0.026, -0.027, -0.027, -0.027, -0.027, -0.027, -0.027, -0.027, -0.027, -0.027, -0.027, -0.027, -0.027, -0.027, -0.027, -0.027, -0.027, -0.027, -0.027, -0.027, -0.027, -0.027, -0.027, -0.027, -0.027, -0.027, -0.027, -0.027, -0.027, -0.027, -0.027, -0.027, -0.027, -0.028, -0.028, -0.028, -0.028, -0.028, -0.028, -0.028, -0.028, -0.028, -0.028, -0.028, -0.028, -0.028, -0.028, -0.028, -0.028, -0.028, -0.028, -0.028, -0.028, -0.028, -0.028, -0.028, -0.028, -0.029, -0.029, -0.029, -0.029, -0.029, -0.029, -0.029, -0.029, -0.029, -0.029, -0.029, -0.029, -0.029, -0.029, -0.029, -0.029, -0.029, -0.029, -0.029, -0.029, -0.029, -0.029, -0.029, -0.029, -0.029, -0.029, -0.029, -0.029, -0.029, -0.029, -0.029, -0.03, -0.03, -0.03, -0.03, -0.03, -0.03, -0.03, -0.03, -0.03, -0.03, -0.03, -0.03, -0.03, -0.03, -0.03, -0.03, -0.03, -0.03, -0.03, -0.03, -0.03, -0.03, -0.03, -0.03, -0.03, -0.03, -0.03, -0.03, -0.03, -0.03, -0.03, -0.03, -0.03, -0.03, -0.03, -0.03, -0.03, -0.03, -0.03, -0.03, -0.03, -0.031, -0.031, -0.031, -0.031, -0.031, -0.031, -0.031, -0.031, -0.031, -0.031, -0.031, -0.031, -0.031, -0.031, -0.031, -0.031, -0.031, -0.031, -0.031, -0.031, -0.031, -0.031, -0.031, -0.031, -0.031, -0.031, -0.031, -0.031, -0.031, -0.031, -0.031, -0.031, -0.031, -0.031, -0.031, -0.031, -0.031, -0.031, -0.032, -0.032, -0.032, -0.032, -0.032, -0.032, -0.032, -0.032, -0.032, -0.032, -0.032, -0.032, -0.032, -0.032, -0.032, -0.032, -0.032, -0.032, -0.032, -0.032, -0.032, -0.032, -0.032, -0.032, -0.032, -0.032, -0.032, -0.032, -0.032, -0.032, -0.032, -0.032, -0.032, -0.032, -0.032, -0.032, -0.032, -0.032, -0.032, -0.032, -0.032, -0.032, -0.032, -0.032, -0.032, -0.032, -0.032, -0.033, -0.033, -0.033, -0.033, -0.033, -0.033, -0.033, -0.033, -0.033, -0.033, -0.033, -0.033, -0.033, -0.033, -0.033, -0.033, -0.033, -0.033, -0.033, -0.033, -0.033, -0.033, -0.033, -0.033, -0.033, -0.033, -0.033, -0.033, -0.033, -0.034, -0.034, -0.034, -0.034, -0.034, -0.034, -0.034, -0.034, -0.034, -0.034, -0.034, -0.034, -0.034, -0.034, -0.034, -0.034, -0.034, -0.034, -0.034, -0.034, -0.034, -0.034, -0.034, -0.034, -0.034, -0.034, -0.034, -0.034, -0.034, -0.034, -0.034, -0.035, -0.035, -0.035, -0.035, -0.035, -0.035, -0.035, -0.035, -0.035, -0.035, -0.035, -0.035, -0.035, -0.035, -0.035, -0.035, -0.035, -0.035, -0.035, -0.035, -0.035, -0.035, -0.035, -0.035, -0.035, -0.035, -0.035, -0.035, -0.035, -0.035, -0.035, -0.035, -0.036, -0.036, -0.036, -0.036, -0.036, -0.036, -0.036, -0.036, -0.036, -0.036, -0.036, -0.036, -0.036, -0.036, -0.036, -0.036, -0.036, -0.036, -0.036, -0.036, -0.036, -0.036, -0.036, -0.036, -0.036, -0.036, -0.036, -0.036, -0.036, -0.036, -0.036, -0.036, -0.036, -0.036, -0.036, -0.036, -0.036, -0.036, -0.036, -0.037, -0.037, -0.037, -0.037, -0.037, -0.037, -0.037, -0.037, -0.037, -0.037, -0.037, -0.037, -0.037, -0.037, -0.037, -0.037, -0.037, -0.037, -0.037, -0.037, -0.037, -0.037, -0.037, -0.037, -0.037, -0.037, -0.037, -0.037, -0.037, -0.037, -0.038, -0.038, -0.038, -0.038, -0.038, -0.038, -0.038, -0.038, -0.038, -0.038, -0.038, -0.038, -0.038, -0.038, -0.038, -0.038, -0.038, -0.038, -0.038, -0.038, -0.038, -0.038, -0.038, -0.038, -0.038, -0.038, -0.038, -0.038, -0.038, -0.038, -0.038, -0.038, -0.038, -0.038, -0.038, -0.038, -0.038, -0.038, -0.038, -0.039, -0.039, -0.039, -0.039, -0.039, -0.039, -0.039, -0.039, -0.039, -0.039, -0.039, -0.039, -0.039, -0.039, -0.039, -0.039, -0.039, -0.039, -0.039, -0.039, -0.039, -0.039, -0.039, -0.039, -0.039, -0.039, -0.039, -0.039, -0.039, -0.039, -0.039, -0.039, -0.039, -0.039, -0.039, -0.039, -0.039, -0.039, -0.039, -0.04, -0.04, -0.04, -0.04, -0.04, -0.04, -0.04, -0.04, -0.04, -0.04, -0.04, -0.04, -0.04, -0.04, -0.04, -0.04, -0.04, -0.04, -0.04, -0.04, -0.04, -0.04, -0.04, -0.04, -0.04, -0.04, -0.04, -0.04, -0.04, -0.04, -0.04, -0.04, -0.04, -0.041, -0.041, -0.041, -0.041, -0.041, -0.041, -0.041, -0.041, -0.041, -0.041, -0.041, -0.041, -0.041, -0.041, -0.041, -0.041, -0.041, -0.041, -0.041, -0.041, -0.041, -0.041, -0.041, -0.042, -0.042, -0.042, -0.042, -0.042, -0.042, -0.042, -0.042, -0.042, -0.042, -0.042, -0.042, -0.042, -0.042, -0.042, -0.042, -0.042, -0.042, -0.042, -0.042, -0.042, -0.042, -0.043, -0.043, -0.043, -0.043, -0.043, -0.043, -0.043, -0.043, -0.043, -0.043, -0.043, -0.043, -0.043, -0.043, -0.043, -0.043, -0.043, -0.043, -0.043, -0.043, -0.043, -0.043, -0.043, -0.043, -0.043, -0.043, -0.043, -0.043, -0.043, -0.043, -0.043, -0.043, -0.043, -0.044, -0.044, -0.044, -0.044, -0.044, -0.044, -0.044, -0.044, -0.044, -0.044, -0.044, -0.044, -0.044, -0.044, -0.044, -0.044, -0.044, -0.044, -0.044, -0.044, -0.044, -0.044, -0.044, -0.044, -0.044, -0.044, -0.044, -0.044, -0.044, -0.044, -0.045, -0.045, -0.045, -0.045, -0.045, -0.045, -0.045, -0.045, -0.045, -0.045, -0.045, -0.045, -0.045, -0.045, -0.045, -0.045, -0.045, -0.045, -0.045, -0.045, -0.045, -0.045, -0.045, -0.045, -0.045, -0.045, -0.045, -0.045, -0.045, -0.045, -0.045, -0.045, -0.045, -0.045, -0.045, -0.045, -0.045, -0.045, -0.045, -0.045, -0.045, -0.046, -0.046, -0.046, -0.046, -0.046, -0.046, -0.046, -0.046, -0.046, -0.046, -0.046, -0.046, -0.046, -0.046, -0.046, -0.046, -0.046, -0.046, -0.046, -0.046, -0.046, -0.046, -0.046, -0.046, -0.046, -0.046, -0.046, -0.046, -0.046, -0.046, -0.047, -0.047, -0.047, -0.047, -0.047, -0.047, -0.047, -0.047, -0.047, -0.047, -0.047, -0.047, -0.047, -0.047, -0.047, -0.047, -0.047, -0.047, -0.047, -0.047, -0.047, -0.047, -0.047, -0.047, -0.047, -0.047, -0.047, -0.047, -0.047, -0.047, -0.047, -0.047, -0.047, -0.047, -0.047, -0.047, -0.048, -0.048, -0.048, -0.048, -0.048, -0.048, -0.048, -0.048, -0.048, -0.048, -0.048, -0.048, -0.048, -0.048, -0.048, -0.048, -0.048, -0.048, -0.048, -0.048, -0.048, -0.048, -0.048, -0.048, -0.048, -0.048, -0.048, -0.048, -0.048, -0.049, -0.049, -0.049, -0.049, -0.049, -0.049, -0.049, -0.049, -0.049, -0.049, -0.049, -0.049, -0.049, -0.049, -0.049, -0.049, -0.049, -0.049, -0.049, -0.049, -0.049, -0.049, -0.049, -0.049, -0.049, -0.049, -0.049, -0.049, -0.049, -0.049, -0.049, -0.049, -0.049, -0.049, -0.049, -0.049, -0.05, -0.05, -0.05, -0.05, -0.05, -0.05, -0.05, -0.05, -0.05, -0.05, -0.05, -0.05, -0.05, -0.05, -0.05, -0.05, -0.05, -0.05, -0.05, -0.05, -0.05, -0.05, -0.05, -0.05, -0.05, -0.05, -0.05, -0.05, -0.05, -0.05, -0.05, -0.05, -0.05, -0.05, -0.05, -0.05, -0.05, -0.051, -0.051, -0.051, -0.051, -0.051, -0.051, -0.051, -0.051, -0.051, -0.051, -0.051, -0.051, -0.051, -0.051, -0.051, -0.051, -0.051, -0.051, -0.051, -0.051, -0.051, -0.051, -0.051, -0.051, -0.051, -0.051, -0.051, -0.051, -0.051, -0.051, -0.051, -0.051, -0.051, -0.051, -0.051, -0.051, -0.051, -0.051, -0.051, -0.051, -0.051, -0.051, -0.051, -0.051, -0.051, -0.051, -0.051, -0.051, -0.051, -0.051, -0.051, -0.051, -0.051, -0.051, -0.051, -0.051, -0.051, -0.051, -0.051, -0.051, -0.051, -0.051, -0.051, -0.051, -0.051, -0.051, -0.051, -0.051, -0.051, -0.051, -0.051, -0.051, -0.051, -0.051, -0.051, -0.051, -0.051, -0.051, -0.051, -0.051, -0.051, -0.051, -0.051, -0.051, -0.051, -0.051, -0.051, -0.051, -0.051, -0.051, -0.051, -0.051, -0.051, -0.051, -0.051, -0.051, -0.051, -0.051, -0.051, -0.051, -0.051, -0.051, -0.051, -0.051, -0.051, -0.051, -0.051, -0.052, -0.052, -0.052, -0.052, -0.052, -0.052, -0.052, -0.052, -0.052, -0.052, -0.052, -0.052, -0.052, -0.052, -0.052, -0.052, -0.052, -0.052, -0.052, -0.052, -0.052, -0.052, -0.052, -0.052, -0.052, -0.052, -0.053, -0.053, -0.053, -0.053, -0.053, -0.053, -0.053, -0.053, -0.053, -0.053, -0.053, -0.053, -0.053, -0.053, -0.053, -0.053, -0.053, -0.053, -0.053, -0.053, -0.053, -0.053, -0.053, -0.053, -0.053, -0.053, -0.053, -0.053, -0.053, -0.053, -0.053, -0.053, -0.053, -0.053, -0.053, -0.053, -0.053, -0.053, -0.053, -0.053, -0.053, -0.053, -0.053, -0.053, -0.053, -0.053, -0.053, -0.053, -0.053, -0.053, -0.053, -0.053, -0.053, -0.053, -0.053, -0.053, -0.053, -0.053, -0.053, -0.053, -0.053, -0.053, -0.053, -0.053, -0.053, -0.053, -0.053, -0.053, -0.053, -0.053, -0.053, -0.053, -0.053, -0.053, -0.053, -0.053, -0.053, -0.053, -0.053, -0.053, -0.053, -0.053, -0.053, -0.053, -0.053, -0.053, -0.053, -0.053, -0.053, -0.053, -0.053, -0.053, -0.053, -0.053, -0.053, -0.053, -0.053, -0.053, -0.053, -0.053, -0.053, -0.053, -0.053, -0.053, -0.053, -0.053, -0.053, -0.053, -0.053, -0.053, -0.053, -0.053, -0.053, -0.053, -0.053, -0.053, -0.053, -0.053, -0.053, -0.053, -0.053, -0.053, -0.053, -0.053, -0.053, -0.053, -0.053, -0.053, -0.053, -0.053, -0.053, -0.053, -0.053, -0.053, -0.053, -0.053, -0.053, -0.053, -0.053, -0.053, -0.053, -0.053, -0.053, -0.053, -0.053, -0.053, -0.053, -0.053, -0.053, -0.053, -0.053, -0.053, -0.053, -0.053, -0.053, -0.053, -0.053, -0.053, -0.053, -0.053, -0.053, -0.053, -0.053, -0.053, -0.053, -0.053, -0.053, -0.053, -0.053, -0.053, -0.053, -0.053, -0.053, -0.053, -0.053, -0.053, -0.053, -0.053, -0.053, -0.053, -0.053, -0.053, -0.053, -0.053, -0.053, -0.053, -0.053, -0.053, -0.053, -0.053, -0.053, -0.053, -0.053, -0.053, -0.053, -0.053, -0.053, -0.053, -0.053, -0.053, -0.053, -0.053, -0.053, -0.053, -0.053, -0.053, -0.053, -0.053, -0.053, -0.053, -0.053, -0.053, -0.053, -0.053, -0.053, -0.053, -0.053, -0.053, -0.053, -0.053, -0.053, -0.053, -0.053, -0.053, -0.053, -0.053, -0.053, -0.053, -0.053, -0.053, -0.053, -0.053, -0.053, -0.053, -0.053, -0.053, -0.053, -0.053, -0.053, -0.053, -0.053, -0.053, -0.053, -0.053, -0.053, -0.053, -0.053, -0.053, -0.053, -0.053, -0.053, -0.053, -0.053, -0.053, -0.053, -0.053, -0.053, -0.053, -0.053, -0.053, -0.053, -0.053, -0.053, -0.053, -0.053, -0.053, -0.053, -0.053, -0.053, -0.053, -0.053, -0.053, -0.053, -0.053, -0.053, -0.053, -0.053, -0.053, -0.053, -0.053, -0.053, -0.053, -0.053, -0.053, -0.053, -0.053, -0.053, -0.053, -0.053, -0.053, -0.053, -0.053, -0.053, -0.053, -0.053, -0.053, -0.053, -0.053, -0.053, -0.053, -0.053, -0.053, -0.053, -0.053, -0.053, -0.053, -0.053, -0.053, -0.053, -0.053, -0.053, -0.053, -0.053, -0.053, -0.053, -0.053, -0.053, -0.053, -0.053, -0.053, -0.053, -0.053, -0.053, -0.053, -0.053, -0.053, -0.053, -0.053, -0.053, -0.053, -0.053, -0.053, -0.053, -0.053, -0.053, -0.053, -0.053, -0.053, -0.053, -0.053, -0.053, -0.053, -0.053, -0.053, -0.053, -0.053, -0.053, -0.053, -0.053, -0.053, -0.053, -0.053, -0.053, -0.053, -0.053, -0.053, -0.053, -0.053, -0.053, -0.053, -0.053, -0.053, -0.053, -0.053, -0.053, -0.053, -0.053, -0.053, -0.054, -0.054, -0.054, -0.054, -0.054, -0.054, -0.054, -0.054, -0.054, -0.054, -0.054, -0.054, -0.054, -0.054, -0.054, -0.054, -0.054, -0.054, -0.054, -0.054, -0.054, -0.054, -0.054, -0.054, -0.054, -0.054, -0.054, -0.054, -0.054, -0.054, -0.054, -0.054, -0.054, -0.055, -0.055, -0.055, -0.055, -0.055, -0.055, -0.055, -0.055, -0.055, -0.055, -0.055, -0.055, -0.055, -0.055, -0.055, -0.055, -0.055, -0.055, -0.055, -0.055, -0.055, -0.055, -0.055, -0.055, -0.055, -0.055, -0.055, -0.055, -0.055, -0.055, -0.055, -0.055, -0.055, -0.055, -0.055, -0.055, -0.055, -0.055, -0.055, -0.055, -0.055, -0.055, -0.055, -0.055, -0.055, -0.055, -0.055, -0.055, -0.055, -0.055, -0.055, -0.055, -0.055, -0.055, -0.056, -0.056, -0.056, -0.056, -0.056, -0.056, -0.056, -0.056, -0.056, -0.056, -0.056, -0.056, -0.056, -0.056, -0.056, -0.056, -0.056, -0.056, -0.056, -0.056, -0.056, -0.056, -0.056, -0.056, -0.056, -0.056, -0.056, -0.056, -0.056, -0.056, -0.056, -0.056, -0.056, -0.056, -0.056, -0.056, -0.057, -0.057, -0.057, -0.057, -0.057, -0.057, -0.057, -0.057, -0.057, -0.057, -0.057, -0.057, -0.057, -0.057, -0.057, -0.057, -0.057, -0.057, -0.057, -0.057, -0.057, -0.057, -0.057, -0.057, -0.057, -0.057, -0.057, -0.057, -0.057, -0.057, -0.057, -0.058, -0.058, -0.058, -0.058, -0.058, -0.058, -0.058, -0.058, -0.058, -0.058, -0.058, -0.058, -0.058, -0.058, -0.058, -0.058, -0.058, -0.058, -0.058, -0.058, -0.058, -0.058, -0.058, -0.058, -0.058, -0.058, -0.058, -0.058, -0.058, -0.058, -0.058, -0.059, -0.059, -0.059, -0.059, -0.059, -0.059, -0.059, -0.059, -0.059, -0.059, -0.059, -0.059, -0.059, -0.059, -0.059, -0.059, -0.059, -0.059, -0.059, -0.059, -0.059, -0.059, -0.059, -0.059, -0.059, -0.059, -0.059, -0.059, -0.059, -0.059, -0.059, -0.059, -0.059, -0.059, -0.059, -0.059, -0.059, -0.059, -0.06, -0.06, -0.06, -0.06, -0.06, -0.06, -0.06, -0.06, -0.06, -0.06, -0.06, -0.06, -0.06, -0.06, -0.06, -0.06, -0.06, -0.06, -0.06, -0.06, -0.06, -0.06, -0.06, -0.06, -0.06, -0.06, -0.06, -0.06, -0.06, -0.06, -0.061, -0.061, -0.061, -0.061, -0.061, -0.061, -0.061, -0.061, -0.061, -0.061, -0.061, -0.061, -0.061, -0.061, -0.061, -0.061, -0.061, -0.061, -0.061, -0.061, -0.061, -0.061, -0.061, -0.062, -0.062, -0.062, -0.062, -0.062, -0.062, -0.062, -0.062, -0.062, -0.062, -0.062, -0.062, -0.062, -0.062, -0.062, -0.062, -0.062, -0.062, -0.062, -0.062, -0.062, -0.062, -0.062, -0.062, -0.062, -0.062, -0.062, -0.062, -0.062, -0.062, -0.063, -0.063, -0.063, -0.063, -0.063, -0.063, -0.063, -0.063, -0.063, -0.063, -0.063, -0.063, -0.063, -0.063, -0.063, -0.063, -0.063, -0.063, -0.063, -0.063, -0.063, -0.063, -0.063, -0.063, -0.063, -0.063, -0.063, -0.063, -0.063, -0.063, -0.063, -0.063, -0.063, -0.063, -0.063, -0.064, -0.064, -0.064, -0.064, -0.064, -0.064, -0.064, -0.064, -0.064, -0.064, -0.064, -0.064, -0.064, -0.064, -0.064, -0.064, -0.064, -0.064, -0.064, -0.064, -0.064, -0.064, -0.064, -0.064, -0.064, -0.064, -0.064, -0.064, -0.064, -0.064, -0.064, -0.064, -0.065, -0.065, -0.065, -0.065, -0.065, -0.065, -0.065, -0.065, -0.065, -0.065, -0.065, -0.065, -0.065, -0.065, -0.065, -0.065, -0.065, -0.065, -0.065, -0.065, -0.065, -0.065, -0.065, -0.065, -0.065, -0.065, -0.065, -0.066, -0.066, -0.066, -0.066, -0.066, -0.066, -0.066, -0.066, -0.066, -0.066, -0.066, -0.066, -0.066, -0.066, -0.066, -0.066, -0.066, -0.066, -0.066, -0.066, -0.066, -0.066, -0.066, -0.066, -0.066, -0.066, -0.066, -0.066, -0.066, -0.066, -0.066, -0.066, -0.066, -0.066, -0.066, -0.066, -0.066, -0.066, -0.066, -0.067, -0.067, -0.067, -0.067, -0.067, -0.067, -0.067, -0.067, -0.067, -0.067, -0.067, -0.067, -0.067, -0.067, -0.067, -0.067, -0.067, -0.067, -0.067, -0.067, -0.067, -0.067, -0.067, -0.067, -0.067, -0.067, -0.067, -0.067, -0.067, -0.067, -0.068, -0.068, -0.068, -0.068, -0.068, -0.068, -0.068, -0.068, -0.068, -0.068, -0.068, -0.068, -0.068, -0.068, -0.068, -0.068, -0.068, -0.068, -0.068, -0.068, -0.068, -0.068, -0.068, -0.068, -0.068, -0.068, -0.069, -0.069, -0.069, -0.069, -0.069, -0.069, -0.069, -0.069, -0.069, -0.069, -0.069, -0.069, -0.069, -0.069, -0.069, -0.069, -0.069, -0.069, -0.069, -0.069, -0.069, -0.069, -0.069, -0.069, -0.069, -0.069, -0.069, -0.069, -0.069, -0.069, -0.069, -0.069, -0.069, -0.069, -0.07, -0.07, -0.07, -0.07, -0.07, -0.07, -0.07, -0.07, -0.07, -0.07, -0.07, -0.07, -0.07, -0.07, -0.07, -0.07, -0.07, -0.07, -0.07, -0.071, -0.071, -0.071, -0.071, -0.071, -0.071, -0.071, -0.071, -0.071, -0.071, -0.071, -0.071, -0.071, -0.071, -0.071, -0.071, -0.071, -0.071, -0.071, -0.071, -0.071, -0.071, -0.071, -0.071, -0.071, -0.071, -0.071, -0.072, -0.072, -0.072, -0.072, -0.072, -0.072, -0.072, -0.072, -0.072, -0.072, -0.072, -0.072, -0.072, -0.072, -0.072, -0.072, -0.072, -0.072, -0.072, -0.072, -0.072, -0.072, -0.072, -0.072, -0.072, -0.072, -0.072, -0.072, -0.072, -0.072, -0.073, -0.073, -0.073, -0.073, -0.073, -0.073, -0.073, -0.073, -0.073, -0.073, -0.073, -0.073, -0.073, -0.073, -0.073, -0.073, -0.073, -0.073, -0.073, -0.073, -0.073, -0.073, -0.073, -0.073, -0.073, -0.073, -0.073, -0.073, -0.073, -0.074, -0.074, -0.074, -0.074, -0.074, -0.074, -0.074, -0.074, -0.074, -0.074, -0.074, -0.074, -0.074, -0.074, -0.074, -0.074, -0.074, -0.074, -0.074, -0.074, -0.074, -0.074, -0.074, -0.074, -0.074, -0.074, -0.074, -0.074, -0.074, -0.074, -0.074, -0.074, -0.074, -0.074, -0.074, -0.074, -0.074, -0.074, -0.074, -0.075, -0.075, -0.075, -0.075, -0.075, -0.075, -0.075, -0.075, -0.075, -0.075, -0.075, -0.075, -0.075, -0.075, -0.075, -0.075, -0.075, -0.075, -0.075, -0.075, -0.075, -0.075, -0.075, -0.075, -0.075, -0.075, -0.075, -0.075, -0.075, -0.075, -0.075, -0.076, -0.076, -0.076, -0.076, -0.076, -0.076, -0.076, -0.076, -0.076, -0.076, -0.076, -0.076, -0.076, -0.076, -0.076, -0.076, -0.076, -0.076, -0.076, -0.076, -0.076, -0.076, -0.076, -0.076, -0.076, -0.076, -0.076, -0.076, -0.076, -0.076, -0.076, -0.076, -0.076, -0.076, -0.077, -0.077, -0.077, -0.077, -0.077, -0.077, -0.077, -0.077, -0.077, -0.077, -0.077, -0.077, -0.077, -0.077, -0.077, -0.077, -0.077, -0.077, -0.077, -0.077, -0.077, -0.077, -0.077, -0.077, -0.077, -0.077, -0.077, -0.077, -0.077, -0.077, -0.077, -0.077, -0.077, -0.077, -0.078, -0.078, -0.078, -0.078, -0.078, -0.078, -0.078, -0.078, -0.078, -0.078, -0.078, -0.078, -0.078, -0.078, -0.078, -0.078, -0.078, -0.078, -0.078, -0.078, -0.078, -0.078, -0.078, -0.078, -0.078, -0.078, -0.078, -0.078, -0.078, -0.078, -0.078, -0.078, -0.078, -0.078, -0.078, -0.078, -0.079, -0.079, -0.079, -0.079, -0.079, -0.079, -0.079, -0.079, -0.079, -0.079, -0.079, -0.079, -0.079, -0.079, -0.079, -0.079, -0.079, -0.079, -0.079, -0.079, -0.079, -0.079, -0.079, -0.079, -0.079, -0.079, -0.08, -0.08, -0.08, -0.08, -0.08, -0.08, -0.08, -0.08, -0.08, -0.08, -0.08, -0.08, -0.08, -0.08, -0.08, -0.08, -0.08, -0.08, -0.08, -0.08, -0.08, -0.08, -0.08, -0.08, -0.08, -0.08, -0.08, -0.08, -0.081, -0.081, -0.081, -0.081, -0.081, -0.081, -0.081, -0.081, -0.081, -0.081, -0.081, -0.081, -0.081, -0.081, -0.081, -0.081, -0.081, -0.081, -0.081, -0.081, -0.081, -0.081, -0.081, -0.081, -0.081, -0.081, -0.081, -0.081, -0.081, -0.081, -0.081, -0.081, -0.081, -0.081, -0.082, -0.082, -0.082, -0.082, -0.082, -0.082, -0.082, -0.082, -0.082, -0.082, -0.082, -0.082, -0.082, -0.082, -0.082, -0.082, -0.082, -0.082, -0.082, -0.082, -0.082, -0.082, -0.083, -0.083, -0.083, -0.083, -0.083, -0.083, -0.083, -0.083, -0.083, -0.083, -0.083, -0.083, -0.083, -0.083, -0.083, -0.083, -0.083, -0.083, -0.083, -0.083, -0.083, -0.083, -0.083, -0.084, -0.084, -0.084, -0.084, -0.084, -0.084, -0.084, -0.084, -0.084, -0.084, -0.084, -0.084, -0.084, -0.084, -0.084, -0.084, -0.084, -0.084, -0.084, -0.085, -0.085, -0.085, -0.085, -0.085, -0.085, -0.085, -0.085, -0.085, -0.085, -0.085, -0.085, -0.085, -0.085, -0.085, -0.085, -0.085, -0.085, -0.085, -0.085, -0.085, -0.085, -0.085, -0.085, -0.085, -0.085, -0.085, -0.085, -0.085, -0.085, -0.085, -0.086, -0.086, -0.086, -0.086, -0.086, -0.086, -0.086, -0.086, -0.086, -0.086, -0.086, -0.086, -0.086, -0.086, -0.086, -0.086, -0.086, -0.086, -0.086, -0.086, -0.086, -0.086, -0.086, -0.086, -0.086, -0.086, -0.087, -0.087, -0.087, -0.087, -0.087, -0.087, -0.087, -0.087, -0.087, -0.087, -0.087, -0.087, -0.087, -0.087, -0.087, -0.087, -0.087, -0.087, -0.087, -0.087, -0.087, -0.087, -0.087, -0.087, -0.087, -0.087, -0.087, -0.087, -0.087, -0.087, -0.088, -0.088, -0.088, -0.088, -0.088, -0.088, -0.088, -0.088, -0.088, -0.088, -0.088, -0.088, -0.088, -0.088, -0.088, -0.088, -0.088, -0.088, -0.088, -0.088, -0.088, -0.088, -0.088, -0.088, -0.088, -0.088, -0.088, -0.088, -0.089, -0.089, -0.089, -0.089, -0.089, -0.089, -0.089, -0.089, -0.089, -0.089, -0.089, -0.089, -0.089, -0.089, -0.089, -0.089, -0.089, -0.089, -0.089, -0.089, -0.089, -0.089, -0.089, -0.089, -0.089, -0.089, -0.09, -0.09, -0.09, -0.09, -0.09, -0.09, -0.09, -0.09, -0.09, -0.09, -0.09, -0.09, -0.09, -0.09, -0.09, -0.09, -0.09, -0.09, -0.09, -0.09, -0.09, -0.09, -0.09, -0.09, -0.09, -0.09, -0.09, -0.09, -0.09, -0.09, -0.09, -0.09, -0.091, -0.091, -0.091, -0.091, -0.091, -0.091, -0.091, -0.091, -0.091, -0.091, -0.091, -0.091, -0.091, -0.091, -0.091, -0.091, -0.091, -0.091, -0.091, -0.091, -0.091, -0.091, -0.091, -0.091, -0.091, -0.091, -0.091, -0.091, -0.092, -0.092, -0.092, -0.092, -0.092, -0.092, -0.092, -0.092, -0.092, -0.092, -0.092, -0.092, -0.092, -0.092, -0.092, -0.092, -0.092, -0.092, -0.092, -0.092, -0.092, -0.092, -0.092, -0.092, -0.092, -0.093, -0.093, -0.093, -0.093, -0.093, -0.093, -0.093, -0.093, -0.093, -0.093, -0.093, -0.093, -0.093, -0.093, -0.093, -0.093, -0.093, -0.093, -0.093, -0.093, -0.093, -0.093, -0.093, -0.093, -0.093, -0.093, -0.093, -0.093, -0.093, -0.093, -0.093, -0.093, -0.093, -0.094, -0.094, -0.094, -0.094, -0.094, -0.094, -0.094, -0.094, -0.094, -0.094, -0.094, -0.094, -0.094, -0.094, -0.094, -0.094, -0.094, -0.094, -0.094, -0.094, -0.094, -0.094, -0.094, -0.094, -0.094, -0.094, -0.094, -0.094, -0.094, -0.095, -0.095, -0.095, -0.095, -0.095, -0.095, -0.095, -0.095, -0.095, -0.095, -0.095, -0.095, -0.095, -0.095, -0.095, -0.095, -0.095, -0.095, -0.095, -0.096, -0.096, -0.096, -0.096, -0.096, -0.096, -0.096, -0.096, -0.096, -0.096, -0.096, -0.096, -0.096, -0.096, -0.096, -0.096, -0.096, -0.096, -0.096, -0.096, -0.096, -0.096, -0.096, -0.096, -0.096, -0.096, -0.096, -0.096, -0.096, -0.096, -0.096, -0.096, -0.096, -0.096, -0.096, -0.096, -0.096, -0.096, -0.096, -0.096, -0.096, -0.097, -0.097, -0.097, -0.097, -0.097, -0.097, -0.097, -0.097, -0.097, -0.097, -0.097, -0.097, -0.097, -0.097, -0.097, -0.097, -0.097, -0.097, -0.097, -0.097, -0.097, -0.097, -0.097, -0.097, -0.097, -0.097, -0.097, -0.097, -0.097, -0.097, -0.097, -0.097, -0.097, -0.097, -0.097, -0.097, -0.098, -0.098, -0.098, -0.098, -0.098, -0.098, -0.098, -0.098, -0.098, -0.098, -0.098, -0.098, -0.098, -0.098, -0.098, -0.098, -0.098, -0.098, -0.098, -0.098, -0.098, -0.098, -0.098, -0.098, -0.098, -0.098, -0.098, -0.098, -0.098, -0.098, -0.099, -0.099, -0.099, -0.099, -0.099, -0.099, -0.099, -0.099, -0.099, -0.099, -0.099, -0.099, -0.099, -0.099, -0.099, -0.099, -0.099, -0.099, -0.099, -0.099, -0.099, -0.099, -0.099, -0.099, -0.099, -0.099, -0.099, -0.099, -0.1, -0.1, -0.1, -0.1, -0.1, -0.1, -0.1, -0.1, -0.1, -0.1, -0.1, -0.1, -0.1, -0.1, -0.1, -0.1, -0.1, -0.101, -0.101, -0.101, -0.101, -0.101, -0.101, -0.101, -0.101, -0.101, -0.101, -0.101, -0.101, -0.101, -0.101, -0.101, -0.101, -0.101, -0.101, -0.101, -0.101, -0.101, -0.101, -0.101, -0.101, -0.101, -0.101, -0.101, -0.101, -0.101, -0.101, -0.101, -0.101, -0.101, -0.101, -0.101, -0.101, -0.101, -0.102, -0.102, -0.102, -0.102, -0.102, -0.102, -0.102, -0.102, -0.102, -0.102, -0.102, -0.102, -0.102, -0.102, -0.102, -0.102, -0.102, -0.102, -0.102, -0.102, -0.102, -0.102, -0.102, -0.102, -0.103, -0.103, -0.103, -0.103, -0.103, -0.103, -0.103, -0.103, -0.103, -0.103, -0.103, -0.103, -0.103, -0.103, -0.103, -0.103, -0.103, -0.103, -0.103, -0.103, -0.103, -0.103, -0.103, -0.103, -0.104, -0.104, -0.104, -0.104, -0.104, -0.104, -0.104, -0.104, -0.104, -0.104, -0.104, -0.104, -0.104, -0.104, -0.104, -0.104, -0.104, -0.104, -0.104, -0.104, -0.104, -0.104, -0.104, -0.104, -0.104, -0.104, -0.105, -0.105, -0.105, -0.105, -0.105, -0.105, -0.105, -0.105, -0.105, -0.105, -0.105, -0.105, -0.105, -0.105, -0.105, -0.105, -0.105, -0.105, -0.105, -0.105, -0.105, -0.105, -0.105, -0.105, -0.105, -0.105, -0.105, -0.105, -0.105, -0.106, -0.106, -0.106, -0.106, -0.106, -0.106, -0.106, -0.106, -0.106, -0.106, -0.106, -0.106, -0.106, -0.106, -0.106, -0.106, -0.106, -0.106, -0.106, -0.106, -0.107, -0.107, -0.107, -0.107, -0.107, -0.107, -0.107, -0.107, -0.107, -0.107, -0.107, -0.107, -0.107, -0.107, -0.107, -0.107, -0.107, -0.107, -0.107, -0.107, -0.107, -0.107, -0.107, -0.107, -0.107, -0.107, -0.107, -0.107, -0.107, -0.108, -0.108, -0.108, -0.108, -0.108, -0.108, -0.108, -0.108, -0.108, -0.108, -0.108, -0.108, -0.108, -0.108, -0.108, -0.108, -0.108, -0.108, -0.108, -0.108, -0.108, -0.108, -0.108, -0.108, -0.108, -0.108, -0.108, -0.108, -0.108, -0.108, -0.108, -0.108, -0.108, -0.108, -0.108, -0.108, -0.108, -0.109, -0.109, -0.109, -0.109, -0.109, -0.109, -0.109, -0.109, -0.109, -0.109, -0.109, -0.109, -0.109, -0.109, -0.109, -0.109, -0.109, -0.109, -0.109, -0.109, -0.109, -0.109, -0.109, -0.109, -0.109, -0.109, -0.109, -0.109, -0.109, -0.11, -0.11, -0.11, -0.11, -0.11, -0.11, -0.11, -0.11, -0.11, -0.11, -0.11, -0.11, -0.11, -0.11, -0.11, -0.11, -0.11, -0.11, -0.11, -0.11, -0.11, -0.11, -0.11, -0.11, -0.111, -0.111, -0.111, -0.111, -0.111, -0.111, -0.111, -0.111, -0.111, -0.111, -0.111, -0.111, -0.111, -0.111, -0.111, -0.111, -0.111, -0.111, -0.111, -0.111, -0.111, -0.111, -0.111, -0.111, -0.111, -0.111, -0.111, -0.111, -0.111, -0.112, -0.112, -0.112, -0.112, -0.112, -0.112, -0.112, -0.112, -0.112, -0.112, -0.112, -0.112, -0.112, -0.112, -0.112, -0.112, -0.112, -0.112, -0.112, -0.113, -0.113, -0.113, -0.113, -0.113, -0.113, -0.113, -0.113, -0.113, -0.113, -0.113, -0.113, -0.113, -0.113, -0.113, -0.113, -0.113, -0.113, -0.113, -0.113, -0.113, -0.113, -0.113, -0.113, -0.113, -0.113, -0.113, -0.114, -0.114, -0.114, -0.114, -0.114, -0.114, -0.114, -0.114, -0.114, -0.114, -0.114, -0.114, -0.114, -0.114, -0.114, -0.114, -0.114, -0.114, -0.114, -0.114, -0.114, -0.114, -0.114, -0.114, -0.114, -0.115, -0.115, -0.115, -0.115, -0.115, -0.115, -0.115, -0.115, -0.115, -0.115, -0.115, -0.115, -0.115, -0.115, -0.115, -0.115, -0.115, -0.115, -0.115, -0.115, -0.115, -0.115, -0.115, -0.115, -0.115, -0.115, -0.115, -0.115, -0.115, -0.115, -0.115, -0.115, -0.115, -0.115, -0.115, -0.116, -0.116, -0.116, -0.116, -0.116, -0.116, -0.116, -0.116, -0.116, -0.116, -0.116, -0.116, -0.116, -0.116, -0.116, -0.116, -0.116, -0.116, -0.116, -0.116, -0.116, -0.116, -0.117, -0.117, -0.117, -0.117, -0.117, -0.117, -0.117, -0.117, -0.117, -0.117, -0.117, -0.117, -0.117, -0.117, -0.117, -0.117, -0.117, -0.117, -0.117, -0.117, -0.117, -0.117, -0.117, -0.117, -0.118, -0.118, -0.118, -0.118, -0.118, -0.118, -0.118, -0.118, -0.118, -0.118, -0.118, -0.118, -0.118, -0.118, -0.118, -0.118, -0.118, -0.118, -0.118, -0.118, -0.118, -0.119, -0.119, -0.119, -0.119, -0.119, -0.119, -0.119, -0.119, -0.119, -0.119, -0.119, -0.119, -0.119, -0.119, -0.119, -0.119, -0.119, -0.119, -0.119, -0.119, -0.12, -0.12, -0.12, -0.12, -0.12, -0.12, -0.12, -0.12, -0.12, -0.12, -0.12, -0.12, -0.12, -0.12, -0.12, -0.12, -0.12, -0.12, -0.12, -0.12, -0.12, -0.121, -0.121, -0.121, -0.121, -0.121, -0.121, -0.121, -0.121, -0.121, -0.121, -0.121, -0.121, -0.121, -0.121, -0.121, -0.121, -0.121, -0.121, -0.121, -0.121, -0.121, -0.121, -0.121, -0.121, -0.121, -0.121, -0.121, -0.121, -0.122, -0.122, -0.122, -0.122, -0.122, -0.122, -0.122, -0.122, -0.122, -0.122, -0.122, -0.122, -0.122, -0.122, -0.122, -0.122, -0.122, -0.122, -0.122, -0.122, -0.123, -0.123, -0.123, -0.123, -0.123, -0.123, -0.123, -0.123, -0.123, -0.123, -0.123, -0.123, -0.123, -0.123, -0.123, -0.123, -0.123, -0.123, -0.123, -0.123, -0.123, -0.123, -0.123, -0.123, -0.123, -0.123, -0.123, -0.123, -0.123, -0.123, -0.123, -0.124, -0.124, -0.124, -0.124, -0.124, -0.124, -0.124, -0.124, -0.124, -0.124, -0.124, -0.124, -0.124, -0.124, -0.124, -0.124, -0.124, -0.125, -0.125, -0.125, -0.125, -0.125, -0.125, -0.125, -0.125, -0.125, -0.125, -0.125, -0.125, -0.125, -0.125, -0.125, -0.125, -0.125, -0.125, -0.125, -0.125, -0.125, -0.125, -0.125, -0.126, -0.126, -0.126, -0.126, -0.126, -0.126, -0.126, -0.126, -0.126, -0.126, -0.126, -0.126, -0.126, -0.126, -0.126, -0.126, -0.126, -0.126, -0.126, -0.126, -0.126, -0.126, -0.126, -0.126, -0.126, -0.127, -0.127, -0.127, -0.127, -0.127, -0.127, -0.127, -0.127, -0.127, -0.127, -0.127, -0.127, -0.127, -0.127, -0.127, -0.127, -0.127, -0.127, -0.127, -0.127, -0.127, -0.127, -0.127, -0.127, -0.127, -0.127, -0.127, -0.127, -0.127, -0.127, -0.127, -0.127, -0.127, -0.127, -0.127, -0.128, -0.128, -0.128, -0.128, -0.128, -0.128, -0.128, -0.128, -0.128, -0.128, -0.128, -0.128, -0.129, -0.129, -0.129, -0.129, -0.129, -0.129, -0.129, -0.129, -0.129, -0.129, -0.129, -0.129, -0.129, -0.129, -0.129, -0.129, -0.129, -0.129, -0.129, -0.129, -0.129, -0.13, -0.13, -0.13, -0.13, -0.13, -0.13, -0.13, -0.13, -0.13, -0.13, -0.13, -0.13, -0.13, -0.13, -0.13, -0.13, -0.13, -0.13, -0.13, -0.131, -0.131, -0.131, -0.131, -0.131, -0.131, -0.131, -0.131, -0.131, -0.131, -0.131, -0.131, -0.131, -0.131, -0.131, -0.131, -0.131, -0.131, -0.131, -0.131, -0.131, -0.131, -0.131, -0.131, -0.131, -0.131, -0.131, -0.131, -0.131, -0.131, -0.132, -0.132, -0.132, -0.132, -0.132, -0.132, -0.132, -0.132, -0.132, -0.132, -0.132, -0.132, -0.132, -0.132, -0.132, -0.132, -0.132, -0.132, -0.132, -0.132, -0.132, -0.132, -0.132, -0.132, -0.132, -0.132, -0.132, -0.133, -0.133, -0.133, -0.133, -0.133, -0.133, -0.133, -0.133, -0.133, -0.133, -0.133, -0.133, -0.133, -0.133, -0.133, -0.133, -0.133, -0.133, -0.133, -0.133, -0.133, -0.133, -0.133, -0.133, -0.133, -0.133, -0.134, -0.134, -0.134, -0.134, -0.134, -0.134, -0.134, -0.134, -0.134, -0.134, -0.134, -0.134, -0.134, -0.134, -0.134, -0.134, -0.134, -0.134, -0.134, -0.134, -0.134, -0.134, -0.134, -0.134, -0.134, -0.134, -0.134, -0.134, -0.134, -0.134, -0.135, -0.135, -0.135, -0.135, -0.135, -0.135, -0.135, -0.135, -0.135, -0.135, -0.135, -0.136, -0.136, -0.136, -0.136, -0.136, -0.136, -0.136, -0.136, -0.136, -0.136, -0.136, -0.136, -0.136, -0.136, -0.136, -0.136, -0.136, -0.137, -0.137, -0.137, -0.137, -0.137, -0.137, -0.137, -0.137, -0.137, -0.137, -0.137, -0.137, -0.137, -0.137, -0.137, -0.137, -0.137, -0.137, -0.137, -0.137, -0.138, -0.138, -0.138, -0.138, -0.138, -0.138, -0.138, -0.138, -0.138, -0.138, -0.138, -0.138, -0.138, -0.138, -0.138, -0.138, -0.138, -0.138, -0.138, -0.138, -0.138, -0.138, -0.139, -0.139, -0.139, -0.139, -0.139, -0.139, -0.139, -0.139, -0.139, -0.139, -0.139, -0.139, -0.139, -0.139, -0.139, -0.139, -0.139, -0.139, -0.139, -0.139, -0.139, -0.14, -0.14, -0.14, -0.14, -0.14, -0.14, -0.14, -0.14, -0.14, -0.14, -0.14, -0.14, -0.14, -0.14, -0.14, -0.14, -0.14, -0.14, -0.14, -0.14, -0.14, -0.14, -0.14, -0.14, -0.14, -0.14, -0.14, -0.14, -0.14, -0.14, -0.14, -0.14, -0.14, -0.141, -0.141, -0.141, -0.141, -0.141, -0.141, -0.141, -0.141, -0.141, -0.141, -0.141, -0.141, -0.141, -0.141, -0.141, -0.141, -0.141, -0.141, -0.142, -0.142, -0.142, -0.142, -0.142, -0.142, -0.142, -0.142, -0.142, -0.142, -0.142, -0.142, -0.142, -0.142, -0.142, -0.142, -0.142, -0.142, -0.142, -0.142, -0.143, -0.143, -0.143, -0.143, -0.143, -0.143, -0.143, -0.143, -0.143, -0.143, -0.143, -0.143, -0.143, -0.143, -0.143, -0.143, -0.143, -0.143, -0.143, -0.143, -0.143, -0.143, -0.143, -0.143, -0.144, -0.144, -0.144, -0.144, -0.144, -0.144, -0.144, -0.144, -0.144, -0.144, -0.144, -0.144, -0.144, -0.144, -0.144, -0.144, -0.144, -0.144, -0.145, -0.145, -0.145, -0.145, -0.145, -0.145, -0.145, -0.145, -0.145, -0.145, -0.145, -0.145, -0.145, -0.145, -0.145, -0.145, -0.145, -0.145, -0.145, -0.146, -0.146, -0.146, -0.146, -0.146, -0.146, -0.146, -0.146, -0.146, -0.146, -0.146, -0.146, -0.146, -0.146, -0.147, -0.147, -0.147, -0.147, -0.147, -0.147, -0.147, -0.147, -0.147, -0.147, -0.147, -0.147, -0.147, -0.147, -0.147, -0.147, -0.147, -0.147, -0.147, -0.147, -0.147, -0.147, -0.147, -0.147, -0.148, -0.148, -0.148, -0.148, -0.148, -0.148, -0.148, -0.148, -0.148, -0.148, -0.148, -0.148, -0.148, -0.148, -0.148, -0.148, -0.148, -0.148, -0.148, -0.148, -0.148, -0.148, -0.148, -0.148, -0.149, -0.149, -0.149, -0.149, -0.149, -0.149, -0.149, -0.149, -0.149, -0.149, -0.149, -0.149, -0.149, -0.149, -0.149, -0.149, -0.149, -0.149, -0.149, -0.149, -0.149, -0.149, -0.149, -0.149, -0.149, -0.15, -0.15, -0.15, -0.15, -0.15, -0.15, -0.15, -0.15, -0.15, -0.15, -0.15, -0.15, -0.15, -0.15, -0.15, -0.15, -0.15, -0.151, -0.151, -0.151, -0.151, -0.151, -0.151, -0.151, -0.151, -0.151, -0.151, -0.151, -0.151, -0.151, -0.151, -0.151, -0.151, -0.151, -0.151, -0.151, -0.152, -0.152, -0.152, -0.152, -0.152, -0.152, -0.152, -0.152, -0.152, -0.152, -0.152, -0.152, -0.152, -0.152, -0.152, -0.152, -0.152, -0.152, -0.152, -0.152, -0.152, -0.152, -0.152, -0.153, -0.153, -0.153, -0.153, -0.153, -0.153, -0.153, -0.153, -0.153, -0.153, -0.153, -0.153, -0.153, -0.153, -0.153, -0.153, -0.153, -0.153, -0.153, -0.153, -0.153, -0.153, -0.154, -0.154, -0.154, -0.154, -0.154, -0.154, -0.154, -0.154, -0.154, -0.154, -0.154, -0.154, -0.154, -0.154, -0.154, -0.154, -0.154, -0.154, -0.154, -0.155, -0.155, -0.155, -0.155, -0.155, -0.155, -0.155, -0.155, -0.155, -0.155, -0.155, -0.155, -0.155, -0.155, -0.155, -0.155, -0.155, -0.155, -0.155, -0.155, -0.155, -0.155, -0.155, -0.155, -0.155, -0.155, -0.155, -0.156, -0.156, -0.156, -0.156, -0.156, -0.156, -0.156, -0.156, -0.156, -0.156, -0.156, -0.156, -0.156, -0.156, -0.156, -0.156, -0.156, -0.156, -0.156, -0.156, -0.156, -0.156, -0.157, -0.157, -0.157, -0.157, -0.157, -0.157, -0.157, -0.157, -0.157, -0.157, -0.157, -0.157, -0.157, -0.157, -0.157, -0.157, -0.157, -0.157, -0.158, -0.158, -0.158, -0.158, -0.158, -0.158, -0.158, -0.158, -0.158, -0.158, -0.158, -0.158, -0.158, -0.158, -0.158, -0.158, -0.158, -0.158, -0.158, -0.158, -0.158, -0.159, -0.159, -0.159, -0.159, -0.159, -0.159, -0.159, -0.159, -0.159, -0.159, -0.159, -0.159, -0.159, -0.159, -0.159, -0.159, -0.159, -0.159, -0.159, -0.159, -0.159, -0.159, -0.159, -0.16, -0.16, -0.16, -0.16, -0.16, -0.16, -0.16, -0.16, -0.16, -0.16, -0.16, -0.16, -0.16, -0.16, -0.16, -0.16, -0.16, -0.16, -0.16, -0.16, -0.16, -0.16, -0.161, -0.161, -0.161, -0.161, -0.161, -0.161, -0.161, -0.161, -0.161, -0.161, -0.161, -0.161, -0.161, -0.161, -0.161, -0.161, -0.161, -0.161, -0.161, -0.161, -0.161, -0.161, -0.161, -0.161, -0.162, -0.162, -0.162, -0.162, -0.162, -0.162, -0.162, -0.162, -0.162, -0.162, -0.162, -0.162, -0.162, -0.162, -0.162, -0.162, -0.162, -0.163, -0.163, -0.163, -0.163, -0.163, -0.163, -0.163, -0.163, -0.163, -0.163, -0.163, -0.163, -0.163, -0.163, -0.163, -0.163, -0.163, -0.163, -0.163, -0.163, -0.163, -0.164, -0.164, -0.164, -0.164, -0.164, -0.164, -0.164, -0.164, -0.164, -0.164, -0.164, -0.164, -0.164, -0.164, -0.164, -0.164, -0.164, -0.164, -0.165, -0.165, -0.165, -0.165, -0.165, -0.165, -0.165, -0.165, -0.165, -0.165, -0.165, -0.165, -0.165, -0.165, -0.165, -0.165, -0.165, -0.165, -0.165, -0.165, -0.165, -0.165, -0.165, -0.166, -0.166, -0.166, -0.166, -0.166, -0.166, -0.166, -0.166, -0.166, -0.166, -0.166, -0.166, -0.166, -0.166, -0.166, -0.166, -0.166, -0.166, -0.166, -0.167, -0.167, -0.167, -0.167, -0.167, -0.167, -0.167, -0.167, -0.167, -0.167, -0.167, -0.167, -0.167, -0.167, -0.167, -0.167, -0.167, -0.167, -0.167, -0.167, -0.167, -0.167, -0.167, -0.167, -0.168, -0.168, -0.168, -0.168, -0.168, -0.168, -0.168, -0.168, -0.168, -0.168, -0.168, -0.168, -0.168, -0.168, -0.168, -0.168, -0.168, -0.168, -0.168, -0.168, -0.168, -0.168, -0.168, -0.168, -0.169, -0.169, -0.169, -0.169, -0.169, -0.169, -0.169, -0.169, -0.169, -0.169, -0.169, -0.169, -0.169, -0.169, -0.169, -0.169, -0.169, -0.169, -0.169, -0.17, -0.17, -0.17, -0.17, -0.17, -0.17, -0.17, -0.17, -0.17, -0.17, -0.17, -0.17, -0.17, -0.17, -0.17, -0.17, -0.171, -0.171, -0.171, -0.171, -0.171, -0.171, -0.171, -0.171, -0.171, -0.171, -0.171, -0.171, -0.171, -0.171, -0.171, -0.171, -0.171, -0.171, -0.171, -0.171, -0.171, -0.171, -0.172, -0.172, -0.172, -0.172, -0.172, -0.172, -0.172, -0.172, -0.172, -0.172, -0.172, -0.172, -0.172, -0.172, -0.172, -0.172, -0.173, -0.173, -0.173, -0.173, -0.173, -0.173, -0.173, -0.173, -0.173, -0.173, -0.173, -0.173, -0.173, -0.173, -0.173, -0.173, -0.173, -0.173, -0.173, -0.173, -0.173, -0.173, -0.173, -0.173, -0.173, -0.174, -0.174, -0.174, -0.174, -0.174, -0.174, -0.174, -0.174, -0.174, -0.174, -0.174, -0.174, -0.174, -0.174, -0.174, -0.174, -0.175, -0.175, -0.175, -0.175, -0.175, -0.175, -0.175, -0.175, -0.175, -0.175, -0.175, -0.175, -0.175, -0.175, -0.175, -0.175, -0.175, -0.175, -0.175, -0.175, -0.176, -0.176, -0.176, -0.176, -0.176, -0.176, -0.176, -0.176, -0.176, -0.176, -0.176, -0.176, -0.176, -0.176, -0.176, -0.176, -0.176, -0.176, -0.176, -0.176, -0.176, -0.177, -0.177, -0.177, -0.177, -0.177, -0.177, -0.177, -0.177, -0.177, -0.177, -0.177, -0.177, -0.177, -0.177, -0.177, -0.177, -0.177, -0.177, -0.177, -0.178, -0.178, -0.178, -0.178, -0.178, -0.178, -0.178, -0.178, -0.178, -0.178, -0.178, -0.178, -0.178, -0.178, -0.178, -0.178, -0.178, -0.178, -0.178, -0.178, -0.178, -0.178, -0.178, -0.178, -0.178, -0.178, -0.179, -0.179, -0.179, -0.179, -0.179, -0.179, -0.179, -0.179, -0.179, -0.179, -0.179, -0.179, -0.179, -0.179, -0.179, -0.179, -0.179, -0.179, -0.179, -0.179, -0.179, -0.179, -0.179, -0.179, -0.18, -0.18, -0.18, -0.18, -0.18, -0.18, -0.18, -0.18, -0.18, -0.18, -0.18, -0.18, -0.18, -0.18, -0.18, -0.181, -0.181, -0.181, -0.181, -0.181, -0.181, -0.181, -0.181, -0.181, -0.181, -0.181, -0.181, -0.181, -0.181, -0.181, -0.182, -0.182, -0.182, -0.182, -0.182, -0.182, -0.182, -0.182, -0.182, -0.182, -0.182, -0.182, -0.182, -0.182, -0.182, -0.182, -0.182, -0.182, -0.182, -0.182, -0.183, -0.183, -0.183, -0.183, -0.183, -0.183, -0.183, -0.183, -0.183, -0.183, -0.183, -0.183, -0.183, -0.184, -0.184, -0.184, -0.184, -0.184, -0.184, -0.184, -0.184, -0.184, -0.184, -0.184, -0.184, -0.184, -0.184, -0.184, -0.184, -0.184, -0.184, -0.184, -0.184, -0.184, -0.184, -0.184, -0.184, -0.184, -0.185, -0.185, -0.185, -0.185, -0.185, -0.185, -0.185, -0.185, -0.185, -0.185, -0.185, -0.185, -0.185, -0.185, -0.185, -0.186, -0.186, -0.186, -0.186, -0.186, -0.186, -0.186, -0.186, -0.186, -0.186, -0.186, -0.186, -0.186, -0.186, -0.186, -0.186, -0.186, -0.186, -0.186, -0.186, -0.186, -0.186, -0.186, -0.186, -0.187, -0.187, -0.187, -0.187, -0.187, -0.187, -0.187, -0.187, -0.187, -0.187, -0.187, -0.187, -0.187, -0.187, -0.187, -0.187, -0.187, -0.187, -0.188, -0.188, -0.188, -0.188, -0.188, -0.188, -0.188, -0.188, -0.188, -0.188, -0.188, -0.188, -0.188, -0.188, -0.188, -0.188, -0.188, -0.188, -0.188, -0.188, -0.188, -0.188, -0.188, -0.188, -0.188, -0.188, -0.188, -0.188, -0.188, -0.189, -0.189, -0.189, -0.189, -0.189, -0.189, -0.189, -0.189, -0.189, -0.189, -0.189, -0.189, -0.189, -0.189, -0.189, -0.189, -0.189, -0.19, -0.19, -0.19, -0.19, -0.19, -0.19, -0.19, -0.19, -0.19, -0.19, -0.19, -0.19, -0.191, -0.191, -0.191, -0.191, -0.191, -0.191, -0.191, -0.191, -0.191, -0.191, -0.191, -0.191, -0.191, -0.191, -0.191, -0.191, -0.191, -0.191, -0.191, -0.192, -0.192, -0.192, -0.192, -0.192, -0.192, -0.192, -0.192, -0.192, -0.192, -0.192, -0.192, -0.192, -0.192, -0.192, -0.192, -0.192, -0.192, -0.192, -0.193, -0.193, -0.193, -0.193, -0.193, -0.193, -0.193, -0.193, -0.193, -0.193, -0.193, -0.193, -0.193, -0.193, -0.193, -0.193, -0.193, -0.193, -0.193, -0.193, -0.193, -0.193, -0.193, -0.193, -0.193, -0.193, -0.193, -0.193, -0.193, -0.193, -0.193, -0.193, -0.194, -0.194, -0.194, -0.194, -0.194, -0.194, -0.194, -0.194, -0.194, -0.194, -0.194, -0.194, -0.194, -0.195, -0.195, -0.195, -0.195, -0.195, -0.195, -0.195, -0.195, -0.195, -0.195, -0.195, -0.195, -0.195, -0.195, -0.195, -0.195, -0.196, -0.196, -0.196, -0.196, -0.196, -0.196, -0.196, -0.196, -0.196, -0.196, -0.196, -0.196, -0.196, -0.196, -0.196, -0.196, -0.196, -0.196, -0.196, -0.196, -0.196, -0.196, -0.196, -0.197, -0.197, -0.197, -0.197, -0.197, -0.197, -0.197, -0.197, -0.197, -0.197, -0.197, -0.197, -0.198, -0.198, -0.198, -0.198, -0.198, -0.198, -0.198, -0.198, -0.198, -0.198, -0.198, -0.199, -0.199, -0.199, -0.199, -0.199, -0.199, -0.199, -0.199, -0.199, -0.199, -0.199, -0.199, -0.199, -0.199, -0.199, -0.199, -0.199, -0.199, -0.199, -0.199, -0.199, -0.199, -0.199, -0.199, -0.199, -0.2, -0.2, -0.2, -0.2, -0.2, -0.2, -0.2, -0.2, -0.2, -0.2, -0.2, -0.2, -0.2, -0.2, -0.201, -0.201, -0.201, -0.201, -0.201, -0.201, -0.201, -0.201, -0.201, -0.201, -0.201, -0.201, -0.201, -0.201, -0.201, -0.201, -0.202, -0.202, -0.202, -0.202, -0.202, -0.202, -0.202, -0.202, -0.202, -0.202, -0.202, -0.202, -0.202, -0.202, -0.202, -0.202, -0.202, -0.202, -0.203, -0.203, -0.203, -0.203, -0.203, -0.203, -0.203, -0.203, -0.203, -0.203, -0.203, -0.203, -0.203, -0.203, -0.203, -0.203, -0.203, -0.203, -0.203, -0.204, -0.204, -0.204, -0.204, -0.204, -0.204, -0.204, -0.204, -0.205, -0.205, -0.205, -0.205, -0.205, -0.205, -0.205, -0.205, -0.205, -0.205, -0.205, -0.205, -0.205, -0.205, -0.205, -0.205, -0.205, -0.205, -0.205, -0.206, -0.206, -0.206, -0.206, -0.206, -0.206, -0.206, -0.206, -0.206, -0.206, -0.206, -0.206, -0.206, -0.206, -0.206, -0.206, -0.207, -0.207, -0.207, -0.207, -0.207, -0.207, -0.207, -0.207, -0.207, -0.207, -0.207, -0.207, -0.207, -0.207, -0.207, -0.207, -0.207, -0.207, -0.207, -0.208, -0.208, -0.208, -0.208, -0.208, -0.208, -0.208, -0.208, -0.208, -0.208, -0.208, -0.208, -0.208, -0.209, -0.209, -0.209, -0.209, -0.209, -0.209, -0.209, -0.209, -0.209, -0.209, -0.209, -0.209, -0.209, -0.209, -0.209, -0.21, -0.21, -0.21, -0.21, -0.21, -0.21, -0.21, -0.21, -0.21, -0.21, -0.21, -0.21, -0.21, -0.21, -0.21, -0.21, -0.21, -0.21, -0.21, -0.211, -0.211, -0.211, -0.211, -0.211, -0.211, -0.211, -0.211, -0.211, -0.211, -0.211, -0.211, -0.211, -0.211, -0.211, -0.212, -0.212, -0.212, -0.212, -0.212, -0.212, -0.212, -0.212, -0.212, -0.212, -0.212, -0.212, -0.212, -0.212, -0.212, -0.212, -0.213, -0.213, -0.213, -0.213, -0.213, -0.213, -0.213, -0.213, -0.213, -0.213, -0.213, -0.213, -0.213, -0.213, -0.213, -0.213, -0.213, -0.213, -0.213, -0.213, -0.214, -0.214, -0.214, -0.214, -0.214, -0.214, -0.214, -0.214, -0.214, -0.214, -0.214, -0.214, -0.214, -0.214, -0.214, -0.215, -0.215, -0.215, -0.215, -0.215, -0.215, -0.215, -0.215, -0.215, -0.215, -0.215, -0.215, -0.215, -0.215, -0.215, -0.215, -0.215, -0.215, -0.216, -0.216, -0.216, -0.216, -0.216, -0.216, -0.216, -0.216, -0.216, -0.216, -0.216, -0.216, -0.216, -0.216, -0.217, -0.217, -0.217, -0.217, -0.217, -0.217, -0.217, -0.217, -0.217, -0.217, -0.217, -0.217, -0.217, -0.217, -0.217, -0.217, -0.217, -0.217, -0.218, -0.218, -0.218, -0.218, -0.218, -0.218, -0.218, -0.218, -0.218, -0.218, -0.218, -0.218, -0.218, -0.218, -0.218, -0.218, -0.218, -0.218, -0.218, -0.218, -0.218, -0.218, -0.218, -0.219, -0.219, -0.219, -0.219, -0.219, -0.219, -0.219, -0.219, -0.219, -0.219, -0.219, -0.219, -0.219, -0.219, -0.219, -0.219, -0.219, -0.219, -0.219, -0.22, -0.22, -0.22, -0.22, -0.22, -0.22, -0.22, -0.22, -0.22, -0.22, -0.22, -0.22, -0.22, -0.22, -0.22, -0.22, -0.22, -0.221, -0.221, -0.221, -0.221, -0.221, -0.221, -0.221, -0.221, -0.221, -0.221, -0.221, -0.221, -0.221, -0.221, -0.221, -0.221, -0.221, -0.221, -0.221, -0.221, -0.222, -0.222, -0.222, -0.222, -0.222, -0.222, -0.222, -0.222, -0.222, -0.222, -0.222, -0.222, -0.222, -0.222, -0.223, -0.223, -0.223, -0.223, -0.224, -0.224, -0.224, -0.224, -0.224, -0.224, -0.224, -0.224, -0.224, -0.224, -0.224, -0.224, -0.224, -0.224, -0.224, -0.225, -0.225, -0.225, -0.225, -0.225, -0.225, -0.225, -0.225, -0.225, -0.225, -0.225, -0.225, -0.225, -0.225, -0.225, -0.225, -0.226, -0.226, -0.226, -0.226, -0.226, -0.226, -0.226, -0.227, -0.227, -0.227, -0.227, -0.227, -0.227, -0.227, -0.227, -0.227, -0.227, -0.227, -0.227, -0.227, -0.227, -0.228, -0.228, -0.228, -0.228, -0.228, -0.228, -0.228, -0.228, -0.228, -0.228, -0.228, -0.228, -0.228, -0.228, -0.228, -0.228, -0.228, -0.228, -0.229, -0.229, -0.229, -0.229, -0.229, -0.229, -0.229, -0.229, -0.229, -0.229, -0.23, -0.23, -0.23, -0.23, -0.23, -0.23, -0.23, -0.23, -0.23, -0.23, -0.23, -0.23, -0.23, -0.23, -0.23, -0.23, -0.231, -0.231, -0.231, -0.231, -0.231, -0.231, -0.231, -0.231, -0.231, -0.231, -0.231, -0.231, -0.231, -0.231, -0.231, -0.231, -0.231, -0.231, -0.231, -0.232, -0.232, -0.232, -0.232, -0.232, -0.232, -0.232, -0.232, -0.232, -0.232, -0.232, -0.233, -0.233, -0.233, -0.233, -0.233, -0.233, -0.233, -0.233, -0.234, -0.234, -0.234, -0.234, -0.234, -0.234, -0.234, -0.234, -0.234, -0.234, -0.234, -0.234, -0.234, -0.234, -0.235, -0.235, -0.235, -0.235, -0.235, -0.235, -0.235, -0.235, -0.235, -0.235, -0.236, -0.236, -0.236, -0.236, -0.236, -0.236, -0.236, -0.236, -0.236, -0.236, -0.236, -0.236, -0.237, -0.237, -0.237, -0.237, -0.237, -0.237, -0.237, -0.237, -0.237, -0.237, -0.237, -0.237, -0.237, -0.237, -0.237, -0.237, -0.237, -0.237, -0.238, -0.238, -0.238, -0.238, -0.238, -0.238, -0.238, -0.238, -0.238, -0.238, -0.238, -0.238, -0.238, -0.238, -0.238, -0.238, -0.238, -0.238, -0.239, -0.239, -0.239, -0.239, -0.239, -0.239, -0.239, -0.239, -0.239, -0.239, -0.239, -0.24, -0.24, -0.24, -0.24, -0.24, -0.24, -0.24, -0.24, -0.24, -0.24, -0.24, -0.24, -0.24, -0.24, -0.24, -0.24, -0.24, -0.241, -0.241, -0.241, -0.241, -0.241, -0.241, -0.241, -0.241, -0.241, -0.241, -0.241, -0.241, -0.241, -0.241, -0.241, -0.241, -0.241, -0.242, -0.242, -0.242, -0.242, -0.242, -0.242, -0.242, -0.242, -0.242, -0.242, -0.242, -0.243, -0.243, -0.243, -0.243, -0.243, -0.243, -0.243, -0.243, -0.243, -0.243, -0.243, -0.243, -0.243, -0.244, -0.244, -0.244, -0.244, -0.244, -0.244, -0.244, -0.244, -0.245, -0.245, -0.245, -0.245, -0.245, -0.245, -0.245, -0.245, -0.245, -0.245, -0.245, -0.245, -0.245, -0.245, -0.245, -0.245, -0.245, -0.245, -0.246, -0.246, -0.246, -0.246, -0.246, -0.246, -0.246, -0.246, -0.246, -0.246, -0.246, -0.247, -0.247, -0.247, -0.247, -0.247, -0.247, -0.247, -0.247, -0.247, -0.247, -0.247, -0.247, -0.247, -0.247, -0.247, -0.248, -0.248, -0.248, -0.248, -0.248, -0.248, -0.248, -0.248, -0.248, -0.248, -0.248, -0.249, -0.249, -0.249, -0.249, -0.249, -0.249, -0.249, -0.249, -0.249, -0.249, -0.249, -0.249, -0.249, -0.25, -0.25, -0.25, -0.25, -0.25, -0.25, -0.25, -0.25, -0.25, -0.25, -0.25, -0.25, -0.25, -0.25, -0.25, -0.25, -0.25, -0.25, -0.251, -0.251, -0.251, -0.251, -0.251, -0.251, -0.251, -0.251, -0.251, -0.251, -0.252, -0.252, -0.252, -0.252, -0.252, -0.252, -0.252, -0.252, -0.252, -0.252, -0.252, -0.252, -0.252, -0.253, -0.253, -0.253, -0.253, -0.253, -0.253, -0.253, -0.253, -0.253, -0.253, -0.253, -0.253, -0.253, -0.253, -0.253, -0.253, -0.253, -0.253, -0.253, -0.253, -0.254, -0.254, -0.254, -0.254, -0.254, -0.254, -0.254, -0.254, -0.254, -0.254, -0.254, -0.254, -0.255, -0.255, -0.255, -0.255, -0.255, -0.255, -0.255, -0.255, -0.256, -0.256, -0.256, -0.256, -0.256, -0.256, -0.256, -0.256, -0.256, -0.256, -0.256, -0.256, -0.256, -0.256, -0.256, -0.256, -0.256, -0.257, -0.257, -0.257, -0.257, -0.257, -0.257, -0.257, -0.257, -0.257, -0.257, -0.257, -0.257, -0.257, -0.257, -0.257, -0.257, -0.258, -0.258, -0.258, -0.258, -0.258, -0.258, -0.258, -0.258, -0.258, -0.259, -0.259, -0.259, -0.259, -0.259, -0.259, -0.259, -0.259, -0.26, -0.26, -0.26, -0.26, -0.26, -0.26, -0.26, -0.26, -0.26, -0.26, -0.26, -0.26, -0.261, -0.261, -0.261, -0.261, -0.261, -0.261, -0.261, -0.261, -0.261, -0.261, -0.261, -0.261, -0.261, -0.261, -0.262, -0.262, -0.262, -0.262, -0.262, -0.262, -0.263, -0.263, -0.263, -0.263, -0.263, -0.263, -0.263, -0.263, -0.263, -0.263, -0.263, -0.263, -0.264, -0.264, -0.264, -0.264, -0.264, -0.264, -0.264, -0.264, -0.264, -0.264, -0.264, -0.264, -0.264, -0.265, -0.265, -0.265, -0.265, -0.265, -0.265, -0.265, -0.265, -0.265, -0.266, -0.266, -0.266, -0.266, -0.266, -0.266, -0.266, -0.266, -0.266, -0.266, -0.266, -0.266, -0.267, -0.267, -0.267, -0.267, -0.267, -0.267, -0.267, -0.267, -0.267, -0.267, -0.267, -0.267, -0.267, -0.268, -0.268, -0.268, -0.268, -0.268, -0.268, -0.268, -0.268, -0.268, -0.268, -0.268, -0.268, -0.268, -0.268, -0.269, -0.269, -0.269, -0.269, -0.269, -0.269, -0.269, -0.269, -0.269, -0.269, -0.27, -0.27, -0.27, -0.27, -0.27, -0.27, -0.27, -0.27, -0.27, -0.27, -0.27, -0.27, -0.27, -0.27, -0.27, -0.27, -0.27, -0.27, -0.271, -0.271, -0.271, -0.271, -0.271, -0.271, -0.271, -0.271, -0.271, -0.271, -0.271, -0.271, -0.272, -0.272, -0.272, -0.272, -0.272, -0.272, -0.272, -0.272, -0.272, -0.272, -0.272, -0.272, -0.273, -0.273, -0.273, -0.273, -0.273, -0.273, -0.273, -0.273, -0.274, -0.274, -0.274, -0.274, -0.274, -0.274, -0.274, -0.274, -0.274, -0.274, -0.274, -0.275, -0.275, -0.275, -0.275, -0.275, -0.275, -0.275, -0.275, -0.275, -0.275, -0.275, -0.276, -0.276, -0.276, -0.276, -0.276, -0.276, -0.276, -0.276, -0.276, -0.276, -0.277, -0.277, -0.277, -0.277, -0.278, -0.278, -0.278, -0.278, -0.278, -0.278, -0.278, -0.278, -0.278, -0.278, -0.279, -0.279, -0.279, -0.279, -0.279, -0.279, -0.279, -0.279, -0.279, -0.279, -0.279, -0.279, -0.279, -0.279, -0.28, -0.28, -0.28, -0.28, -0.28, -0.28, -0.28, -0.28, -0.28, -0.28, -0.28, -0.28, -0.28, -0.28, -0.28, -0.28, -0.28, -0.28, -0.28, -0.28, -0.28, -0.28, -0.281, -0.281, -0.281, -0.281, -0.281, -0.281, -0.281, -0.281, -0.281, -0.281, -0.281, -0.281, -0.282, -0.282, -0.282, -0.282, -0.282, -0.282, -0.282, -0.282, -0.282, -0.282, -0.282, -0.282, -0.282, -0.282, -0.282, -0.282, -0.282, -0.283, -0.283, -0.283, -0.283, -0.283, -0.283, -0.283, -0.284, -0.284, -0.284, -0.284, -0.284, -0.284, -0.284, -0.284, -0.284, -0.284, -0.284, -0.284, -0.284, -0.285, -0.285, -0.285, -0.285, -0.285, -0.285, -0.285, -0.285, -0.285, -0.285, -0.285, -0.285, -0.285, -0.285, -0.285, -0.285, -0.286, -0.286, -0.286, -0.286, -0.286, -0.286, -0.287, -0.287, -0.287, -0.287, -0.287, -0.287, -0.287, -0.287, -0.287, -0.287, -0.288, -0.288, -0.288, -0.288, -0.288, -0.288, -0.288, -0.288, -0.289, -0.289, -0.289, -0.289, -0.289, -0.289, -0.289, -0.289, -0.289, -0.289, -0.289, -0.289, -0.289, -0.289, -0.289, -0.289, -0.289, -0.289, -0.29, -0.29, -0.29, -0.29, -0.29, -0.29, -0.29, -0.29, -0.29, -0.29, -0.291, -0.291, -0.291, -0.291, -0.291, -0.291, -0.291, -0.291, -0.292, -0.292, -0.292, -0.292, -0.292, -0.292, -0.292, -0.292, -0.292, -0.292, -0.292, -0.292, -0.292, -0.292, -0.292, -0.292, -0.293, -0.293, -0.293, -0.293, -0.293, -0.293, -0.293, -0.293, -0.293, -0.294, -0.294, -0.294, -0.294, -0.294, -0.294, -0.294, -0.294, -0.294, -0.294, -0.294, -0.294, -0.294, -0.294, -0.294, -0.294, -0.294, -0.295, -0.295, -0.295, -0.295, -0.295, -0.295, -0.295, -0.295, -0.295, -0.295, -0.296, -0.296, -0.296, -0.296, -0.296, -0.296, -0.296, -0.296, -0.296, -0.296, -0.296, -0.296, -0.297, -0.297, -0.297, -0.297, -0.297, -0.297, -0.297, -0.297, -0.298, -0.298, -0.298, -0.298, -0.298, -0.298, -0.298, -0.298, -0.298, -0.298, -0.298, -0.298, -0.299, -0.299, -0.299, -0.299, -0.299, -0.299, -0.299, -0.299, -0.299, -0.299, -0.299, -0.299, -0.299, -0.3, -0.3, -0.3, -0.3, -0.3, -0.3, -0.3, -0.3, -0.3, -0.3, -0.301, -0.301, -0.301, -0.301, -0.301, -0.301, -0.301, -0.301, -0.301, -0.301, -0.302, -0.302, -0.302, -0.302, -0.302, -0.302, -0.302, -0.302, -0.302, -0.302, -0.302, -0.302, -0.302, -0.302, -0.303, -0.303, -0.303, -0.303, -0.303, -0.303, -0.303, -0.303, -0.303, -0.303, -0.303, -0.303, -0.303, -0.304, -0.304, -0.304, -0.304, -0.304, -0.304, -0.304, -0.304, -0.305, -0.305, -0.305, -0.305, -0.305, -0.305, -0.305, -0.305, -0.305, -0.305, -0.305, -0.306, -0.306, -0.306, -0.306, -0.306, -0.306, -0.306, -0.306, -0.306, -0.306, -0.306, -0.307, -0.307, -0.307, -0.307, -0.307, -0.307, -0.307, -0.307, -0.307, -0.307, -0.307, -0.307, -0.308, -0.308, -0.308, -0.308, -0.308, -0.308, -0.308, -0.308, -0.309, -0.309, -0.309, -0.309, -0.309, -0.309, -0.309, -0.309, -0.31, -0.31, -0.31, -0.31, -0.31, -0.31, -0.311, -0.311, -0.311, -0.311, -0.311, -0.311, -0.311, -0.311, -0.311, -0.311, -0.311, -0.312, -0.312, -0.312, -0.312, -0.312, -0.312, -0.312, -0.312, -0.312, -0.312, -0.312, -0.312, -0.313, -0.313, -0.313, -0.313, -0.314, -0.314, -0.314, -0.314, -0.314, -0.314, -0.314, -0.314, -0.314, -0.314, -0.314, -0.314, -0.315, -0.315, -0.315, -0.315, -0.315, -0.315, -0.315, -0.315, -0.315, -0.316, -0.316, -0.316, -0.316, -0.316, -0.316, -0.316, -0.316, -0.316, -0.317, -0.317, -0.317, -0.317, -0.317, -0.317, -0.317, -0.317, -0.317, -0.318, -0.318, -0.318, -0.318, -0.318, -0.318, -0.318, -0.318, -0.318, -0.319, -0.319, -0.319, -0.319, -0.319, -0.319, -0.319, -0.319, -0.319, -0.319, -0.319, -0.319, -0.319, -0.319, -0.319, -0.32, -0.32, -0.32, -0.32, -0.32, -0.32, -0.32, -0.32, -0.32, -0.32, -0.321, -0.321, -0.321, -0.321, -0.321, -0.321, -0.321, -0.321, -0.321, -0.321, -0.321, -0.321, -0.321, -0.321, -0.322, -0.322, -0.322, -0.322, -0.322, -0.322, -0.322, -0.322, -0.322, -0.322, -0.322, -0.322, -0.323, -0.323, -0.323, -0.323, -0.323, -0.323, -0.323, -0.323, -0.323, -0.323, -0.323, -0.323, -0.323, -0.323, -0.323, -0.324, -0.324, -0.324, -0.324, -0.324, -0.324, -0.324, -0.324, -0.324, -0.324, -0.324, -0.325, -0.325, -0.325, -0.325, -0.325, -0.325, -0.325, -0.325, -0.325, -0.326, -0.326, -0.326, -0.326, -0.326, -0.326, -0.326, -0.326, -0.326, -0.326, -0.326, -0.326, -0.326, -0.327, -0.327, -0.327, -0.327, -0.327, -0.327, -0.327, -0.328, -0.328, -0.328, -0.328, -0.328, -0.328, -0.328, -0.328, -0.328, -0.328, -0.329, -0.329, -0.329, -0.329, -0.329, -0.329, -0.329, -0.329, -0.329, -0.329, -0.329, -0.329, -0.329, -0.33, -0.33, -0.33, -0.33, -0.33, -0.33, -0.33, -0.33, -0.331, -0.331, -0.331, -0.331, -0.331, -0.331, -0.331, -0.331, -0.331, -0.332, -0.332, -0.332, -0.332, -0.332, -0.332, -0.332, -0.332, -0.332, -0.332, -0.333, -0.333, -0.333, -0.333, -0.333, -0.333, -0.333, -0.333, -0.333, -0.333, -0.333, -0.334, -0.334, -0.334, -0.334, -0.334, -0.334, -0.334, -0.334, -0.334, -0.334, -0.335, -0.335, -0.335, -0.335, -0.335, -0.335, -0.335, -0.335, -0.335, -0.335, -0.336, -0.336, -0.336, -0.336, -0.336, -0.336, -0.336, -0.337, -0.337, -0.337, -0.337, -0.337, -0.337, -0.337, -0.337, -0.338, -0.338, -0.338, -0.339, -0.339, -0.339, -0.339, -0.339, -0.339, -0.339, -0.34, -0.34, -0.34, -0.34, -0.34, -0.34, -0.34, -0.34, -0.34, -0.341, -0.341, -0.341, -0.341, -0.341, -0.341, -0.341, -0.341, -0.341, -0.341, -0.341, -0.341, -0.342, -0.342, -0.342, -0.342, -0.342, -0.343, -0.343, -0.343, -0.343, -0.343, -0.343, -0.343, -0.343, -0.343, -0.344, -0.344, -0.344, -0.344, -0.344, -0.344, -0.344, -0.344, -0.344, -0.344, -0.344, -0.345, -0.345, -0.345, -0.345, -0.345, -0.345, -0.346, -0.346, -0.346, -0.346, -0.346, -0.346, -0.346, -0.346, -0.346, -0.347, -0.347, -0.347, -0.347, -0.347, -0.347, -0.347, -0.347, -0.348, -0.348, -0.348, -0.348, -0.348, -0.348, -0.348, -0.348, -0.348, -0.348, -0.349, -0.349, -0.349, -0.349, -0.349, -0.349, -0.349, -0.349, -0.349, -0.349, -0.349, -0.349, -0.349, -0.349, -0.35, -0.35, -0.35, -0.35, -0.35, -0.35, -0.35, -0.35, -0.35, -0.35, -0.351, -0.351, -0.351, -0.351, -0.351, -0.351, -0.351, -0.352, -0.352, -0.352, -0.352, -0.352, -0.352, -0.353, -0.353, -0.353, -0.353, -0.353, -0.353, -0.353, -0.354, -0.354, -0.354, -0.354, -0.354, -0.354, -0.354, -0.354, -0.354, -0.354, -0.354, -0.354, -0.354, -0.354, -0.355, -0.355, -0.355, -0.355, -0.356, -0.356, -0.356, -0.356, -0.357, -0.357, -0.357, -0.357, -0.358, -0.358, -0.358, -0.358, -0.358, -0.358, -0.359, -0.359, -0.359, -0.359, -0.359, -0.359, -0.359, -0.359, -0.359, -0.359, -0.36, -0.36, -0.36, -0.36, -0.36, -0.36, -0.36, -0.361, -0.361, -0.361, -0.361, -0.361, -0.361, -0.361, -0.362, -0.362, -0.362, -0.362, -0.362, -0.362, -0.362, -0.362, -0.362, -0.362, -0.363, -0.363, -0.363, -0.363, -0.363, -0.364, -0.364, -0.364, -0.364, -0.364, -0.364, -0.364, -0.365, -0.365, -0.365, -0.365, -0.366, -0.366, -0.366, -0.366, -0.366, -0.366, -0.366, -0.366, -0.367, -0.367, -0.367, -0.367, -0.367, -0.367, -0.367, -0.367, -0.367, -0.367, -0.367, -0.367, -0.368, -0.368, -0.368, -0.368, -0.368, -0.368, -0.368, -0.368, -0.368, -0.368, -0.368, -0.368, -0.368, -0.369, -0.369, -0.369, -0.369, -0.369, -0.369, -0.37, -0.37, -0.37, -0.37, -0.37, -0.37, -0.371, -0.371, -0.371, -0.371, -0.371, -0.371, -0.371, -0.371, -0.372, -0.372, -0.372, -0.372, -0.372, -0.372, -0.372, -0.372, -0.372, -0.372, -0.373, -0.373, -0.373, -0.373, -0.374, -0.374, -0.374, -0.374, -0.374, -0.375, -0.375, -0.375, -0.375, -0.375, -0.375, -0.375, -0.375, -0.375, -0.375, -0.375, -0.375, -0.376, -0.376, -0.376, -0.376, -0.376, -0.376, -0.376, -0.376, -0.376, -0.376, -0.377, -0.377, -0.377, -0.377, -0.377, -0.377, -0.377, -0.377, -0.377, -0.377, -0.377, -0.377, -0.377, -0.378, -0.378, -0.378, -0.378, -0.378, -0.378, -0.378, -0.378, -0.378, -0.379, -0.379, -0.379, -0.379, -0.379, -0.379, -0.379, -0.379, -0.379, -0.379, -0.379, -0.38, -0.38, -0.38, -0.38, -0.38, -0.38, -0.38, -0.38, -0.381, -0.381, -0.381, -0.381, -0.381, -0.381, -0.381, -0.382, -0.382, -0.382, -0.382, -0.382, -0.383, -0.383, -0.383, -0.383, -0.383, -0.383, -0.383, -0.384, -0.384, -0.384, -0.384, -0.385, -0.385, -0.385, -0.385, -0.385, -0.385, -0.385, -0.386, -0.386, -0.386, -0.386, -0.386, -0.386, -0.387, -0.387, -0.387, -0.387, -0.388, -0.388, -0.388, -0.388, -0.388, -0.388, -0.388, -0.389, -0.389, -0.389, -0.389, -0.389, -0.389, -0.389, -0.389, -0.39, -0.39, -0.39, -0.39, -0.39, -0.39, -0.39, -0.391, -0.391, -0.391, -0.391, -0.391, -0.391, -0.391, -0.392, -0.392, -0.392, -0.392, -0.392, -0.392, -0.392, -0.392, -0.392, -0.392, -0.393, -0.393, -0.393, -0.393, -0.393, -0.393, -0.393, -0.393, -0.393, -0.393, -0.393, -0.394, -0.394, -0.394, -0.394, -0.394, -0.394, -0.394, -0.394, -0.394, -0.394, -0.394, -0.394, -0.395, -0.395, -0.395, -0.395, -0.395, -0.395, -0.395, -0.395, -0.395, -0.395, -0.395, -0.395, -0.395, -0.396, -0.396, -0.396, -0.396, -0.396, -0.396, -0.396, -0.396, -0.396, -0.396, -0.396, -0.396, -0.396, -0.396, -0.397, -0.397, -0.397, -0.397, -0.397, -0.397, -0.397, -0.397, -0.397, -0.398, -0.398, -0.398, -0.398, -0.398, -0.398, -0.399, -0.399, -0.399, -0.399, -0.399, -0.399, -0.4, -0.4, -0.4, -0.4, -0.4, -0.4, -0.4, -0.4, -0.4, -0.4, -0.4, -0.401, -0.401, -0.401, -0.401, -0.401, -0.401, -0.401, -0.401, -0.401, -0.402, -0.402, -0.402, -0.402, -0.402, -0.402, -0.402, -0.402, -0.402, -0.402, -0.402, -0.403, -0.403, -0.403, -0.403, -0.403, -0.403, -0.404, -0.404, -0.404, -0.404, -0.404, -0.404, -0.404, -0.404, -0.405, -0.405, -0.405, -0.405, -0.405, -0.405, -0.405, -0.405, -0.405, -0.406, -0.406, -0.406, -0.406, -0.406, -0.406, -0.406, -0.406, -0.406, -0.406, -0.406, -0.406, -0.406, -0.407, -0.407, -0.407, -0.407, -0.407, -0.407, -0.407, -0.407, -0.408, -0.408, -0.408, -0.408, -0.408, -0.408, -0.408, -0.408, -0.408, -0.408, -0.408, -0.408, -0.409, -0.409, -0.409, -0.409, -0.409, -0.409, -0.409, -0.409, -0.409, -0.409, -0.409, -0.409, -0.409, -0.409, -0.409, -0.409, -0.41, -0.41, -0.41, -0.41, -0.41, -0.41, -0.411, -0.411, -0.411, -0.411, -0.411, -0.411, -0.411, -0.411, -0.412, -0.412, -0.412, -0.412, -0.412, -0.412, -0.412, -0.412, -0.412, -0.412, -0.412, -0.412, -0.412, -0.412, -0.412, -0.413, -0.413, -0.413, -0.413, -0.413, -0.413, -0.413, -0.413, -0.413, -0.414, -0.414, -0.414, -0.414, -0.414, -0.414, -0.414, -0.414, -0.414, -0.414, -0.414, -0.414, -0.414, -0.414, -0.414, -0.414, -0.414, -0.414, -0.414, -0.414, -0.414, -0.414, -0.414, -0.414, -0.414, -0.414, -0.414, -0.414, -0.414, -0.414, -0.414, -0.414, -0.414, -0.414, -0.414, -0.414, -0.414, -0.414, -0.414, -0.414, -0.414, -0.414, -0.414, -0.414, -0.414, -0.414, -0.414, -0.414, -0.414, -0.414, -0.414, -0.414, -0.414, -0.414, -0.414, -0.414, -0.414, -0.414, -0.414, -0.414, -0.414, -0.414, -0.414, -0.414, -0.414, -0.414, -0.414, -0.414, -0.414, -0.414, -0.414, -0.414, -0.414, -0.414, -0.414, -0.414, -0.414, -0.414, -0.414, -0.414, -0.414, -0.414, -0.414, -0.414, -0.414, -0.414, -0.414, -0.414, -0.414, -0.414, -0.414, -0.414, -0.414, -0.414, -0.414, -0.414, -0.414, -0.414, -0.414, -0.414, -0.414, -0.414, -0.414, -0.414, -0.414, -0.414, -0.414, -0.414, -0.414, -0.414, -0.414, -0.414, -0.414, -0.414, -0.414, -0.414, -0.414, -0.414, -0.414, -0.414, -0.414, -0.414, -0.414, -0.414, -0.414, -0.414, -0.414, -0.414, -0.414, -0.414, -0.414, -0.414, -0.414, -0.414, -0.414, -0.414, -0.414, -0.414, -0.414, -0.414, -0.414, -0.414, -0.414, -0.414, -0.414, -0.414, -0.414, -0.414, -0.414, -0.414, -0.414, -0.414, -0.414, -0.414, -0.414, -0.414, -0.414, -0.414, -0.414, -0.414, -0.414, -0.414, -0.414, -0.414, -0.414, -0.414, -0.414, -0.414, -0.414, -0.414, -0.414, -0.414, -0.414, -0.414, -0.414, -0.414, -0.414, -0.414, -0.414, -0.414, -0.414, -0.414, -0.414, -0.414, -0.414, -0.414, -0.414, -0.414, -0.414, -0.414, -0.414, -0.414, -0.414, -0.414, -0.414, -0.414, -0.414, -0.414, -0.414, -0.414, -0.414, -0.414, -0.414, -0.414, -0.414, -0.414, -0.414, -0.414, -0.414, -0.414, -0.414, -0.414, -0.414, -0.414, -0.414, -0.414, -0.414, -0.414, -0.414, -0.414, -0.414, -0.414, -0.414, -0.414, -0.414, -0.414, -0.414, -0.414, -0.414, -0.414, -0.414, -0.414, -0.414, -0.414, -0.414, -0.414, -0.414, -0.414, -0.414, -0.414, -0.414, -0.414, -0.414, -0.414, -0.414, -0.414, -0.414, -0.414, -0.414, -0.414, -0.414, -0.414, -0.414, -0.414, -0.414, -0.414, -0.414, -0.414, -0.414, -0.414, -0.414, -0.414, -0.414, -0.414, -0.414, -0.414, -0.414, -0.414, -0.414, -0.414, -0.414, -0.414, -0.414, -0.414, -0.414, -0.414, -0.414, -0.414, -0.414, -0.414, -0.414, -0.414, -0.414, -0.414, -0.414, -0.414, -0.414, -0.414, -0.414, -0.414, -0.414, -0.414, -0.414, -0.414, -0.414, -0.414, -0.414, -0.414, -0.414, -0.414, -0.414, -0.414, -0.414, -0.414, -0.414, -0.414, -0.414, -0.414, -0.414, -0.414, -0.414, -0.414, -0.414, -0.414, -0.414, -0.414, -0.414, -0.414, -0.414, -0.414, -0.414, -0.414, -0.414, -0.414, -0.414, -0.414, -0.414, -0.414, -0.414, -0.414, -0.414, -0.414, -0.414, -0.414, -0.414, -0.414, -0.414, -0.414, -0.414, -0.414, -0.414, -0.414, -0.414, -0.414, -0.414, -0.414, -0.414, -0.414, -0.414, -0.414, -0.414, -0.414, -0.414, -0.414, -0.414, -0.414, -0.414, -0.414, -0.414, -0.414, -0.414, -0.414, -0.414, -0.414, -0.414, -0.414, -0.414, -0.414, -0.414, -0.414, -0.414, -0.414, -0.414, -0.414, -0.414, -0.414, -0.414, -0.414, -0.414, -0.414, -0.414, -0.414, -0.414, -0.414, -0.414, -0.414, -0.414, -0.414, -0.414, -0.414, -0.414, -0.414, -0.414, -0.414, -0.414, -0.414, -0.414, -0.414, -0.414, -0.414, -0.414, -0.414, -0.414, -0.414, -0.414, -0.414, -0.414, -0.414, -0.414, -0.414, -0.414, -0.414, -0.414, -0.414, -0.414, -0.414, -0.414, -0.414, -0.414, -0.414, -0.414, -0.414, -0.414, -0.414, -0.414, -0.414, -0.414, -0.414, -0.414, -0.414, -0.414, -0.414, -0.414, -0.414, -0.414, -0.414, -0.414, -0.414, -0.414, -0.414, -0.414, -0.414, -0.414, -0.414, -0.414, -0.414, -0.414, -0.414, -0.414, -0.414, -0.414, -0.414, -0.414, -0.414, -0.414, -0.414, -0.414, -0.414, -0.414, -0.414, -0.414, -0.414, -0.414, -0.414, -0.414, -0.414, -0.414, -0.414, -0.414, -0.414, -0.414, -0.414, -0.414, -0.414, -0.414, -0.414, -0.414, -0.414, -0.414, -0.414, -0.414, -0.414, -0.414, -0.414, -0.414, -0.414, -0.414, -0.414, -0.414, -0.414, -0.414, -0.414, -0.414, -0.414, -0.414, -0.414, -0.414, -0.414, -0.414, -0.414, -0.414, -0.414, -0.414, -0.414, -0.414, -0.414, -0.414, -0.414, -0.414, -0.414, -0.414, -0.414, -0.414, -0.414, -0.414, -0.414, -0.414, -0.414, -0.414, -0.414, -0.414, -0.414, -0.414, -0.414, -0.414, -0.414, -0.414, -0.414, -0.414, -0.414, -0.414, -0.414, -0.414, -0.414, -0.414, -0.414, -0.414, -0.414, -0.414, -0.414, -0.414, -0.414, -0.414, -0.414, -0.414, -0.414, -0.414, -0.414, -0.414, -0.414, -0.414, -0.414, -0.414, -0.414, -0.414, -0.414, -0.414, -0.414, -0.414, -0.414, -0.414, -0.414, -0.414, -0.414, -0.414, -0.414, -0.414, -0.414, -0.414, -0.414, -0.414, -0.414, -0.414, -0.414, -0.414, -0.414, -0.414, -0.414, -0.414, -0.414, -0.414, -0.414, -0.414, -0.414, -0.414, -0.414, -0.414, -0.414, -0.414, -0.414, -0.414, -0.414, -0.414, -0.414, -0.414, -0.414, -0.414, -0.414, -0.414, -0.414, -0.414, -0.414, -0.414, -0.414, -0.414, -0.414, -0.414, -0.414, -0.414, -0.414, -0.414, -0.414, -0.414, -0.414, -0.414, -0.414, -0.414, -0.414, -0.414, -0.414, -0.414, -0.414, -0.414, -0.414, -0.414, -0.414, -0.414, -0.414, -0.414, -0.414, -0.414, -0.414, -0.414, -0.414, -0.414, -0.414, -0.414, -0.414, -0.414, -0.414, -0.414, -0.414, -0.414, -0.414, -0.414, -0.414, -0.414, -0.414, -0.414, -0.414, -0.414, -0.414, -0.414, -0.414, -0.414, -0.414, -0.414, -0.414, -0.414, -0.414, -0.414, -0.414, -0.414, -0.414, -0.414, -0.414, -0.414, -0.414, -0.414, -0.414, -0.414, -0.414, -0.414, -0.414, -0.414, -0.414, -0.414, -0.414, -0.414, -0.414, -0.414, -0.414, -0.414, -0.414, -0.414, -0.414, -0.414, -0.414, -0.414, -0.414, -0.414, -0.414, -0.414, -0.414, -0.414, -0.414, -0.414, -0.414, -0.414, -0.414, -0.414, -0.414, -0.414, -0.414, -0.414, -0.414, -0.414, -0.414, -0.414, -0.414, -0.414, -0.414, -0.414, -0.414, -0.414, -0.414, -0.414, -0.414, -0.414, -0.414, -0.414, -0.414, -0.414, -0.414, -0.414, -0.414, -0.414, -0.414, -0.414, -0.414, -0.414, -0.414, -0.414, -0.414, -0.414, -0.414, -0.414, -0.414, -0.414, -0.414, -0.414, -0.414, -0.414, -0.414, -0.414, -0.414, -0.414, -0.414, -0.414, -0.414, -0.414, -0.414, -0.414, -0.414, -0.414, -0.414, -0.414, -0.414, -0.414, -0.414, -0.414, -0.414, -0.414, -0.414, -0.414, -0.414, -0.414, -0.414, -0.414, -0.414, -0.414, -0.414, -0.414, -0.414, -0.414, -0.414, -0.414, -0.414, -0.414, -0.414, -0.414, -0.414, -0.414, -0.414, -0.414, -0.414, -0.414, -0.414, -0.414, -0.414, -0.414, -0.414, -0.414, -0.414, -0.414, -0.414, -0.414, -0.414, -0.414, -0.414, -0.414, -0.414, -0.414, -0.414, -0.414, -0.414, -0.414, -0.414, -0.414, -0.414, -0.414, -0.414, -0.414, -0.414, -0.414, -0.414, -0.414, -0.414, -0.415, -0.415, -0.415, -0.415, -0.416, -0.416, -0.416, -0.416, -0.416, -0.416, -0.416, -0.416, -0.416, -0.416, -0.416, -0.416, -0.416, -0.416, -0.416, -0.417, -0.418, -0.418, -0.418, -0.418, -0.418, -0.418, -0.419, -0.419, -0.419, -0.419, -0.419, -0.419, -0.42, -0.42, -0.42, -0.42, -0.42, -0.42, -0.421, -0.421, -0.421, -0.421, -0.421, -0.422, -0.422, -0.422, -0.422, -0.422, -0.422, -0.423, -0.423, -0.423, -0.423, -0.423, -0.424, -0.424, -0.424, -0.424, -0.424, -0.424, -0.424, -0.424, -0.425, -0.425, -0.425, -0.425, -0.425, -0.425, -0.425, -0.425, -0.425, -0.425, -0.426, -0.426, -0.426, -0.426, -0.426, -0.427, -0.427, -0.427, -0.427, -0.427, -0.427, -0.427, -0.427, -0.427, -0.427, -0.427, -0.427, -0.427, -0.427, -0.427, -0.427, -0.428, -0.428, -0.429, -0.429, -0.429, -0.429, -0.429, -0.429, -0.429, -0.429, -0.429, -0.429, -0.429, -0.429, -0.429, -0.429, -0.429, -0.43, -0.43, -0.43, -0.43, -0.43, -0.43, -0.43, -0.43, -0.43, -0.43, -0.43, -0.43, -0.43, -0.431, -0.431, -0.431, -0.431, -0.431, -0.431, -0.431, -0.431, -0.431, -0.431, -0.432, -0.432, -0.432, -0.432, -0.432, -0.432, -0.432, -0.433, -0.433, -0.433, -0.433, -0.433, -0.434, -0.434, -0.434, -0.434, -0.434, -0.434, -0.434, -0.434, -0.434, -0.435, -0.435, -0.435, -0.435, -0.435, -0.435, -0.435, -0.435, -0.436, -0.436, -0.436, -0.436, -0.436, -0.436, -0.436, -0.436, -0.436, -0.436, -0.436, -0.437, -0.437, -0.437, -0.437, -0.437, -0.437, -0.437, -0.437, -0.437, -0.438, -0.438, -0.438, -0.438, -0.439, -0.439, -0.439, -0.439, -0.439, -0.44, -0.44, -0.44, -0.44, -0.44, -0.441, -0.441, -0.441, -0.441, -0.441, -0.441, -0.441, -0.442, -0.442, -0.442, -0.442, -0.442, -0.442, -0.443, -0.443, -0.443, -0.444, -0.444, -0.444, -0.445, -0.445, -0.445, -0.445, -0.445, -0.445, -0.445, -0.446, -0.446, -0.446, -0.446, -0.446, -0.447, -0.447, -0.447, -0.447, -0.447, -0.447, -0.447, -0.447, -0.447, -0.447, -0.447, -0.447, -0.448, -0.448, -0.448, -0.448, -0.448, -0.449, -0.449, -0.449, -0.449, -0.449, -0.449, -0.45, -0.45, -0.45, -0.45, -0.45, -0.45, -0.45, -0.45, -0.45, -0.45, -0.451, -0.451, -0.451, -0.451, -0.451, -0.451, -0.452, -0.452, -0.452, -0.453, -0.453, -0.453, -0.453, -0.454, -0.454, -0.454, -0.454, -0.455, -0.455, -0.455, -0.456, -0.456, -0.456, -0.457, -0.458, -0.458, -0.458, -0.458, -0.458, -0.458, -0.458, -0.458, -0.459, -0.459, -0.459, -0.46, -0.46, -0.46, -0.46, -0.46, -0.46, -0.461, -0.461, -0.461, -0.461, -0.462, -0.462, -0.463, -0.463, -0.463, -0.463, -0.463, -0.463, -0.464, -0.464, -0.464, -0.464, -0.464, -0.464, -0.465, -0.465, -0.465, -0.465, -0.465, -0.466, -0.466, -0.466, -0.466, -0.466, -0.466, -0.467, -0.468, -0.468, -0.468, -0.468, -0.468, -0.469, -0.469, -0.469, -0.47, -0.47, -0.471, -0.471, -0.471, -0.471, -0.471, -0.472, -0.472, -0.472, -0.472, -0.472, -0.472, -0.472, -0.472, -0.472, -0.472, -0.472, -0.473, -0.473, -0.473, -0.473, -0.473, -0.473, -0.473, -0.474, -0.474, -0.474, -0.474, -0.474, -0.474, -0.474, -0.475, -0.475, -0.475, -0.475, -0.475, -0.475, -0.475, -0.475, -0.475, -0.476, -0.476, -0.476, -0.476, -0.476, -0.476, -0.477, -0.477, -0.477, -0.477, -0.478, -0.478, -0.478, -0.478, -0.478, -0.478, -0.478, -0.478, -0.478, -0.478, -0.479, -0.479, -0.479, -0.479, -0.48, -0.48, -0.48, -0.48, -0.48, -0.481, -0.481, -0.481, -0.481, -0.481, -0.481, -0.482, -0.482, -0.482, -0.482, -0.482, -0.482, -0.482, -0.483, -0.483, -0.483, -0.483, -0.483, -0.484, -0.484, -0.484, -0.484, -0.484, -0.484, -0.484, -0.485, -0.485, -0.485, -0.485, -0.485, -0.486, -0.486, -0.486, -0.486, -0.486, -0.486, -0.487, -0.487, -0.487, -0.487, -0.488, -0.488, -0.488, -0.488, -0.488, -0.489, -0.489, -0.489, -0.489, -0.489, -0.489, -0.49, -0.49, -0.49, -0.49, -0.49, -0.491, -0.491, -0.491, -0.491, -0.491, -0.491, -0.491, -0.491, -0.491, -0.491, -0.492, -0.492, -0.492, -0.492, -0.492, -0.492, -0.492, -0.492, -0.493, -0.493, -0.493, -0.494, -0.494, -0.494, -0.494, -0.494, -0.494, -0.495, -0.495, -0.495, -0.495, -0.496, -0.496, -0.496, -0.496, -0.496, -0.497, -0.497, -0.497, -0.497, -0.497, -0.498, -0.498, -0.498, -0.499, -0.499, -0.5, -0.5, -0.5, -0.5, -0.501, -0.501, -0.501, -0.501, -0.501, -0.502, -0.502, -0.502, -0.502, -0.503, -0.503, -0.503, -0.503, -0.503, -0.504, -0.504, -0.504, -0.505, -0.505, -0.505, -0.505, -0.505, -0.505, -0.505, -0.505, -0.506, -0.506, -0.506, -0.507, -0.507, -0.507, -0.507, -0.507, -0.507, -0.508, -0.509, -0.509, -0.509, -0.509, -0.509, -0.509, -0.51, -0.51, -0.51, -0.51, -0.511, -0.511, -0.512, -0.512, -0.512, -0.512, -0.512, -0.513, -0.513, -0.513, -0.513, -0.513, -0.513, -0.514, -0.514, -0.514, -0.514, -0.514, -0.514, -0.515, -0.515, -0.515, -0.516, -0.516, -0.516, -0.517, -0.517, -0.517, -0.518, -0.518, -0.518, -0.518, -0.519, -0.519, -0.519, -0.519, -0.52, -0.52, -0.52, -0.521, -0.521, -0.521, -0.521, -0.522, -0.522, -0.522, -0.523, -0.523, -0.524, -0.524, -0.524, -0.524, -0.525, -0.525, -0.526, -0.526, -0.528, -0.528, -0.528, -0.528, -0.529, -0.529, -0.529, -0.529, -0.529, -0.53, -0.53, -0.53, -0.53, -0.531, -0.531, -0.531, -0.531, -0.531, -0.532, -0.532, -0.532, -0.532, -0.532, -0.532, -0.533, -0.534, -0.534, -0.535, -0.535, -0.535, -0.535, -0.536, -0.536, -0.536, -0.536, -0.537, -0.537, -0.537, -0.537, -0.538, -0.538, -0.538, -0.538, -0.538, -0.539, -0.539, -0.539, -0.539, -0.539, -0.539, -0.539, -0.54, -0.54, -0.54, -0.541, -0.541, -0.541, -0.541, -0.541, -0.541, -0.542, -0.542, -0.542, -0.542, -0.542, -0.542, -0.543, -0.543, -0.543, -0.543, -0.544, -0.544, -0.544, -0.545, -0.545, -0.545, -0.546, -0.546, -0.546, -0.546, -0.546, -0.547, -0.547, -0.547, -0.548, -0.548, -0.548, -0.548, -0.548, -0.548, -0.549, -0.549, -0.549, -0.55, -0.55, -0.55, -0.551, -0.551, -0.551, -0.551, -0.551, -0.551, -0.551, -0.552, -0.552, -0.552, -0.552, -0.552, -0.552, -0.552, -0.552, -0.552, -0.552, -0.552, -0.553, -0.553, -0.553, -0.553, -0.553, -0.553, -0.553, -0.554, -0.554, -0.554, -0.555, -0.555, -0.555, -0.556, -0.556, -0.556, -0.556, -0.556, -0.556, -0.556, -0.557, -0.557, -0.557, -0.557, -0.558, -0.558, -0.558, -0.558, -0.56, -0.56, -0.561, -0.561, -0.561, -0.561, -0.562, -0.562, -0.564, -0.564, -0.564, -0.564, -0.564, -0.565, -0.565, -0.565, -0.566, -0.566, -0.566, -0.567, -0.567, -0.567, -0.567, -0.567, -0.567, -0.568, -0.569, -0.569, -0.569, -0.569, -0.569, -0.569, -0.569, -0.57, -0.57, -0.57, -0.57, -0.57, -0.571, -0.571, -0.572, -0.572, -0.572, -0.572, -0.573, -0.573, -0.573, -0.573, -0.573, -0.574, -0.574, -0.574, -0.574, -0.574, -0.575, -0.575, -0.575, -0.576, -0.576, -0.576, -0.576, -0.576, -0.576, -0.576, -0.577, -0.577, -0.577, -0.577, -0.577, -0.577, -0.578, -0.578, -0.578, -0.578, -0.578, -0.578, -0.578, -0.578, -0.579, -0.579, -0.579, -0.579, -0.58, -0.58, -0.58, -0.58, -0.58, -0.581, -0.581, -0.581, -0.581, -0.581, -0.582, -0.582, -0.582, -0.582, -0.583, -0.583, -0.583, -0.585, -0.585, -0.585, -0.585, -0.586, -0.586, -0.586, -0.586, -0.586, -0.587, -0.587, -0.587, -0.587, -0.587, -0.587, -0.588, -0.588, -0.588, -0.588, -0.588, -0.589, -0.589, -0.589, -0.589, -0.59, -0.59, -0.59, -0.591, -0.591, -0.591, -0.591, -0.591, -0.592, -0.592, -0.592, -0.593, -0.594, -0.594, -0.594, -0.595, -0.595, -0.596, -0.596, -0.597, -0.597, -0.597, -0.597, -0.597, -0.598, -0.598, -0.598, -0.598, -0.598, -0.598, -0.599, -0.599, -0.599, -0.6, -0.6, -0.6, -0.601, -0.601, -0.601, -0.601, -0.601, -0.601, -0.601, -0.601, -0.602, -0.602, -0.602, -0.602, -0.602, -0.602, -0.602, -0.602, -0.603, -0.603, -0.603, -0.603, -0.603, -0.603, -0.603, -0.604, -0.604, -0.604, -0.605, -0.605, -0.605, -0.605, -0.606, -0.606, -0.606, -0.607, -0.608, -0.608, -0.609, -0.609, -0.61, -0.61, -0.611, -0.611, -0.611, -0.612, -0.612, -0.612, -0.612, -0.612, -0.612, -0.612, -0.613, -0.613, -0.613, -0.613, -0.614, -0.614, -0.614, -0.614, -0.615, -0.615, -0.615, -0.616, -0.616, -0.616, -0.617, -0.617, -0.617, -0.618, -0.618, -0.618, -0.618, -0.618, -0.618, -0.618, -0.618, -0.618, -0.619, -0.619, -0.62, -0.62, -0.62, -0.62, -0.62, -0.62, -0.62, -0.621, -0.621, -0.621, -0.621, -0.621, -0.622, -0.622, -0.623, -0.623, -0.623, -0.624, -0.624, -0.624, -0.624, -0.625, -0.625, -0.626, -0.626, -0.626, -0.627, -0.627, -0.628, -0.628, -0.628, -0.629, -0.63, -0.63, -0.63, -0.63, -0.63, -0.63, -0.631, -0.631, -0.632, -0.632, -0.632, -0.633, -0.633, -0.633, -0.633, -0.633, -0.633, -0.634, -0.634, -0.634, -0.634, -0.634, -0.634, -0.634, -0.635, -0.635, -0.635, -0.635, -0.635, -0.635, -0.635, -0.636, -0.636, -0.636, -0.636, -0.637, -0.637, -0.637, -0.638, -0.639, -0.639, -0.639, -0.64, -0.64, -0.64, -0.642, -0.643, -0.643, -0.643, -0.643, -0.643, -0.644, -0.644, -0.644, -0.644, -0.644, -0.645, -0.645, -0.645, -0.646, -0.646, -0.647, -0.647, -0.647, -0.647, -0.647, -0.647, -0.647, -0.648, -0.648, -0.648, -0.648, -0.648, -0.648, -0.649, -0.649, -0.649, -0.649, -0.65, -0.65, -0.65, -0.65, -0.65, -0.65, -0.651, -0.652, -0.652, -0.652, -0.653, -0.653, -0.654, -0.654, -0.655, -0.656, -0.656, -0.656, -0.657, -0.657, -0.657, -0.658, -0.658, -0.658, -0.659, -0.659, -0.659, -0.659, -0.66, -0.66, -0.66, -0.66, -0.66, -0.66, -0.661, -0.661, -0.661, -0.661, -0.662, -0.662, -0.662, -0.662, -0.663, -0.663, -0.663, -0.663, -0.664, -0.664, -0.664, -0.664, -0.665, -0.665, -0.666, -0.666, -0.667, -0.667, -0.667, -0.667, -0.667, -0.668, -0.668, -0.669, -0.669, -0.669, -0.669, -0.669, -0.67, -0.67, -0.67, -0.671, -0.671, -0.671, -0.672, -0.672, -0.672, -0.672, -0.672, -0.673, -0.673, -0.673, -0.673, -0.673, -0.674, -0.674, -0.674, -0.675, -0.675, -0.675, -0.675, -0.676, -0.676, -0.676, -0.676, -0.676, -0.677, -0.677, -0.677, -0.678, -0.678, -0.678, -0.678, -0.679, -0.68, -0.68, -0.68, -0.681, -0.682, -0.682, -0.682, -0.682, -0.683, -0.683, -0.683, -0.684, -0.684, -0.685, -0.685, -0.685, -0.685, -0.686, -0.686, -0.686, -0.686, -0.687, -0.687, -0.687, -0.688, -0.688, -0.688, -0.688, -0.689, -0.689, -0.689, -0.689, -0.689, -0.689, -0.689, -0.69, -0.69, -0.69, -0.69, -0.69, -0.691, -0.691, -0.691, -0.692, -0.692, -0.692, -0.693, -0.693, -0.693, -0.693, -0.694, -0.694, -0.695, -0.696, -0.697, -0.697, -0.697, -0.697, -0.697, -0.697, -0.697, -0.697, -0.698, -0.698, -0.698, -0.699, -0.699, -0.699, -0.699, -0.699, -0.699, -0.7, -0.701, -0.701, -0.702, -0.702, -0.702, -0.703, -0.703, -0.703, -0.703, -0.703, -0.703, -0.704, -0.704, -0.705, -0.705, -0.705, -0.706, -0.708, -0.708, -0.709, -0.709, -0.709, -0.71, -0.71, -0.71, -0.71, -0.711, -0.711, -0.712, -0.712, -0.712, -0.714, -0.714, -0.714, -0.715, -0.716, -0.717, -0.717, -0.717, -0.718, -0.719, -0.719, -0.719, -0.719, -0.72, -0.72, -0.72, -0.721, -0.721, -0.721, -0.722, -0.722, -0.723, -0.723, -0.723, -0.724, -0.724, -0.724, -0.724, -0.724, -0.724, -0.725, -0.725, -0.725, -0.726, -0.726, -0.727, -0.728, -0.728, -0.728, -0.729, -0.729, -0.729, -0.729, -0.729, -0.729, -0.73, -0.73, -0.731, -0.732, -0.732, -0.733, -0.735, -0.735, -0.735, -0.735, -0.736, -0.736, -0.736, -0.736, -0.737, -0.737, -0.737, -0.738, -0.738, -0.738, -0.738, -0.738, -0.739, -0.739, -0.739, -0.74, -0.741, -0.741, -0.741, -0.741, -0.741, -0.742, -0.742, -0.742, -0.742, -0.743, -0.743, -0.744, -0.744, -0.744, -0.744, -0.744, -0.745, -0.745, -0.745, -0.746, -0.746, -0.746, -0.748, -0.748, -0.748, -0.748, -0.749, -0.749, -0.75, -0.75, -0.75, -0.75, -0.751, -0.751, -0.751, -0.751, -0.753, -0.754, -0.754, -0.754, -0.754, -0.754, -0.754, -0.754, -0.754, -0.755, -0.755, -0.755, -0.755, -0.755, -0.755, -0.755, -0.756, -0.756, -0.756, -0.756, -0.756, -0.757, -0.757, -0.758, -0.758, -0.758, -0.758, -0.759, -0.759, -0.759, -0.76, -0.76, -0.761, -0.761, -0.761, -0.761, -0.761, -0.761, -0.761, -0.761, -0.761, -0.761, -0.761, -0.761, -0.762, -0.762, -0.762, -0.762, -0.762, -0.762, -0.762, -0.762, -0.762, -0.762, -0.764, -0.766, -0.766, -0.766, -0.766, -0.768, -0.768, -0.768, -0.769, -0.769, -0.769, -0.769, -0.769, -0.769, -0.769, -0.769, -0.769, -0.769, -0.769, -0.769, -0.77, -0.77, -0.77, -0.77, -0.771, -0.771, -0.771, -0.771, -0.771, -0.771, -0.771, -0.771, -0.771, -0.771, -0.771, -0.771, -0.771, -0.771, -0.771, -0.771, -0.771, -0.771, -0.771, -0.771, -0.771, -0.771, -0.771, -0.771, -0.771, -0.771, -0.771, -0.771, -0.771, -0.771, -0.771, -0.772, -0.773, -0.774, -0.774, -0.774, -0.774, -0.774, -0.774, -0.774, -0.774, -0.774, -0.774, -0.774, -0.774, -0.774, -0.774, -0.774, -0.774, -0.774, -0.774, -0.774, -0.774, -0.774, -0.774, -0.774, -0.774, -0.774, -0.774, -0.774, -0.774, -0.774, -0.774, -0.774, -0.774, -0.774, -0.774, -0.774, -0.774, -0.774, -0.774, -0.774, -0.774, -0.774, -0.774, -0.774, -0.774, -0.774, -0.774, -0.774, -0.774, -0.774, -0.774, -0.774, -0.774, -0.774, -0.774, -0.774, -0.774, -0.774, -0.774, -0.774, -0.774, -0.774, -0.774, -0.774, -0.774, -0.774, -0.774, -0.774, -0.774, -0.774, -0.774, -0.774, -0.774, -0.774, -0.774, -0.774, -0.774, -0.774, -0.774, -0.774, -0.774, -0.774, -0.774, -0.774, -0.774, -0.774, -0.774, -0.774, -0.774, -0.774, -0.774, -0.774, -0.774, -0.774, -0.774, -0.774, -0.774, -0.774, -0.774, -0.774, -0.774, -0.774, -0.774, -0.774, -0.774, -0.774, -0.774, -0.774, -0.774, -0.774, -0.774, -0.774, -0.774, -0.774, -0.774, -0.774, -0.774, -0.774, -0.774, -0.774, -0.774, -0.774, -0.774, -0.774, -0.774, -0.774, -0.774, -0.774, -0.774, -0.774, -0.774, -0.774, -0.774, -0.774, -0.774, -0.774, -0.774, -0.774, -0.774, -0.774, -0.774, -0.774, -0.774, -0.774, -0.774, -0.774, -0.774, -0.774, -0.774, -0.774, -0.774, -0.774, -0.774, -0.774, -0.774, -0.774, -0.774, -0.774, -0.774, -0.774, -0.774, -0.774, -0.774, -0.774, -0.774, -0.774, -0.774, -0.774, -0.774, -0.774, -0.774, -0.774, -0.774, -0.774, -0.774, -0.774, -0.774, -0.774, -0.774, -0.774, -0.774, -0.774, -0.774, -0.774, -0.774, -0.774, -0.774, -0.774, -0.774, -0.774, -0.774, -0.774, -0.774, -0.774, -0.774, -0.774, -0.774, -0.774, -0.774, -0.774, -0.774, -0.774, -0.774, -0.774, -0.774, -0.774, -0.774, -0.774, -0.774, -0.774, -0.774, -0.774, -0.774, -0.774, -0.774, -0.774, -0.774, -0.774, -0.774, -0.774, -0.775, -0.775, -0.777, -0.777, -0.777, -0.777, -0.777, -0.778, -0.778, -0.778, -0.779, -0.779, -0.779, -0.779, -0.779, -0.779, -0.779, -0.779, -0.779, -0.779, -0.779, -0.779, -0.779, -0.779, -0.779, -0.779, -0.779, -0.779, -0.779, -0.78, -0.78, -0.781, -0.781, -0.781, -0.781, -0.782, -0.783, -0.783, -0.783, -0.784, -0.784, -0.785, -0.785, -0.785, -0.785, -0.785, -0.785, -0.786, -0.787, -0.787, -0.787, -0.788, -0.788, -0.789, -0.789, -0.789, -0.789, -0.79, -0.79, -0.791, -0.791, -0.792, -0.792, -0.792, -0.792, -0.793, -0.793, -0.793, -0.793, -0.793, -0.793, -0.793, -0.793, -0.793, -0.794, -0.794, -0.794, -0.794, -0.794, -0.794, -0.794, -0.794, -0.794, -0.794, -0.794, -0.795, -0.795, -0.795, -0.795, -0.795, -0.795, -0.795, -0.795, -0.795, -0.795, -0.795, -0.795, -0.795, -0.796, -0.796, -0.797, -0.797, -0.797, -0.798, -0.798, -0.798, -0.799, -0.8, -0.8, -0.8, -0.801, -0.802, -0.802, -0.803, -0.803, -0.804, -0.804, -0.805, -0.806, -0.807, -0.807, -0.807, -0.808, -0.808, -0.808, -0.809, -0.809, -0.809, -0.81, -0.811, -0.812, -0.813, -0.813, -0.814, -0.815, -0.815, -0.816, -0.816, -0.816, -0.817, -0.817, -0.817, -0.817, -0.819, -0.819, -0.819, -0.819, -0.821, -0.822, -0.822, -0.822, -0.822, -0.824, -0.825, -0.825, -0.825, -0.825, -0.825, -0.828, -0.828, -0.828, -0.831, -0.832, -0.833, -0.834, -0.834, -0.835, -0.835, -0.835, -0.836, -0.836, -0.836, -0.837, -0.837, -0.837, -0.838, -0.838, -0.838, -0.839, -0.839, -0.839, -0.839, -0.839, -0.84, -0.84, -0.841, -0.842, -0.842, -0.844, -0.845, -0.846, -0.846, -0.846, -0.847, -0.848, -0.849, -0.849, -0.85, -0.85, -0.851, -0.851, -0.852, -0.853, -0.853, -0.853, -0.854, -0.854, -0.854, -0.854, -0.855, -0.857, -0.857, -0.857, -0.857, -0.857, -0.857, -0.858, -0.858, -0.858, -0.858, -0.859, -0.859, -0.859, -0.861, -0.862, -0.864, -0.864, -0.864, -0.864, -0.865, -0.866, -0.866, -0.866, -0.867, -0.867, -0.867, -0.867, -0.868, -0.869, -0.869, -0.87, -0.87, -0.87, -0.87, -0.871, -0.872, -0.872, -0.873, -0.874, -0.874, -0.875, -0.875, -0.876, -0.876, -0.876, -0.877, -0.878, -0.878, -0.879, -0.881, -0.882, -0.882, -0.882, -0.883, -0.884, -0.884, -0.884, -0.884, -0.885, -0.886, -0.886, -0.886, -0.887, -0.888, -0.889, -0.89, -0.891, -0.891, -0.891, -0.891, -0.892, -0.893, -0.893, -0.893, -0.894, -0.895, -0.897, -0.898, -0.899, -0.901, -0.902, -0.903, -0.903, -0.903, -0.903, -0.903, -0.903, -0.906, -0.906, -0.906, -0.906, -0.907, -0.907, -0.908, -0.909, -0.909, -0.91, -0.911, -0.911, -0.911, -0.912, -0.912, -0.912, -0.913, -0.914, -0.915, -0.916, -0.917, -0.918, -0.919, -0.926, -0.927, -0.927, -0.927, -0.927, -0.928, -0.928, -0.929, -0.93, -0.93, -0.931, -0.931, -0.933, -0.933, -0.934, -0.934, -0.934, -0.934, -0.935, -0.935, -0.938, -0.938, -0.939, -0.939, -0.94, -0.94, -0.941, -0.941, -0.942, -0.944, -0.945, -0.945, -0.945, -0.945, -0.947, -0.947, -0.947, -0.948, -0.949, -0.949, -0.95, -0.95, -0.951, -0.952, -0.952, -0.953, -0.954, -0.954, -0.958, -0.959, -0.959, -0.959, -0.961, -0.961, -0.963, -0.964, -0.964, -0.965, -0.965, -0.966, -0.966, -0.966, -0.966, -0.969, -0.969, -0.969, -0.97, -0.97, -0.97, -0.97, -0.971, -0.971, -0.972, -0.976, -0.976, -0.976, -0.977, -0.977, -0.977, -0.978, -0.978, -0.979, -0.98, -0.98, -0.982, -0.982, -0.982, -0.982, -0.983, -0.984, -0.985, -0.985, -0.986, -0.986, -0.986, -0.988, -0.988, -0.989, -0.99, -0.99, -0.991, -0.993, -0.994, -0.995, -0.995, -0.995, -0.997, -0.997, -0.999, -0.999, -0.999, -0.999, -0.999, -1.0, -1.0, -1.001, -1.002, -1.002, -1.003, -1.003, -1.003, -1.004, -1.004, -1.005, -1.005, -1.007, -1.007, -1.007, -1.008, -1.008, -1.009, -1.009, -1.01, -1.01, -1.01, -1.012, -1.013, -1.013, -1.013, -1.014, -1.016, -1.017, -1.017, -1.017, -1.018, -1.018, -1.018, -1.02, -1.021, -1.022, -1.023, -1.023, -1.023, -1.025, -1.025, -1.026, -1.029, -1.029, -1.029, -1.03, -1.031, -1.031, -1.033, -1.033, -1.034, -1.034, -1.034, -1.035, -1.036, -1.037, -1.038, -1.04, -1.04, -1.04, -1.041, -1.041, -1.042, -1.043, -1.045, -1.045, -1.046, -1.046, -1.046, -1.047, -1.047, -1.047, -1.048, -1.049, -1.05, -1.051, -1.052, -1.053, -1.053, -1.053, -1.053, -1.054, -1.055, -1.055, -1.055, -1.055, -1.055, -1.057, -1.058, -1.059, -1.06, -1.062, -1.063, -1.063, -1.064, -1.065, -1.066, -1.066, -1.066, -1.068, -1.068, -1.068, -1.07, -1.071, -1.071, -1.071, -1.072, -1.072, -1.073, -1.076, -1.076, -1.076, -1.076, -1.076, -1.077, -1.077, -1.077, -1.078, -1.078, -1.082, -1.084, -1.085, -1.086, -1.086, -1.086, -1.087, -1.088, -1.088, -1.088, -1.088, -1.088, -1.089, -1.089, -1.09, -1.092, -1.092, -1.093, -1.094, -1.094, -1.094, -1.095, -1.096, -1.096, -1.096, -1.097, -1.098, -1.098, -1.098, -1.098, -1.098, -1.098, -1.1, -1.1, -1.1, -1.1, -1.101, -1.101, -1.101, -1.101, -1.101, -1.101, -1.101, -1.101, -1.101, -1.102, -1.103, -1.104, -1.104, -1.105, -1.106, -1.108, -1.11, -1.111, -1.111, -1.111, -1.113, -1.113, -1.113, -1.113, -1.113, -1.113, -1.113, -1.113, -1.113, -1.114, -1.117, -1.118, -1.118, -1.118, -1.118, -1.118, -1.119, -1.119, -1.119, -1.122, -1.122, -1.122, -1.122, -1.122, -1.122, -1.122, -1.122, -1.122, -1.122, -1.122, -1.122, -1.122, -1.123, -1.123, -1.124, -1.124, -1.125, -1.125, -1.125, -1.126, -1.126, -1.127, -1.127, -1.128, -1.128, -1.129, -1.129, -1.129, -1.129, -1.129, -1.129, -1.129, -1.129, -1.129, -1.129, -1.13, -1.131, -1.131, -1.131, -1.131, -1.131, -1.131, -1.131, -1.131, -1.131, -1.131, -1.131, -1.131, -1.131, -1.131, -1.131, -1.131, -1.131, -1.131, -1.134, -1.135, -1.137, -1.139, -1.139, -1.139, -1.14, -1.14, -1.14, -1.14, -1.14, -1.14, -1.14, -1.14, -1.14, -1.14, -1.14, -1.14, -1.14, -1.14, -1.14, -1.141, -1.141, -1.141, -1.142, -1.143, -1.145, -1.145, -1.145, -1.146, -1.146, -1.146, -1.148, -1.148, -1.149, -1.15, -1.15, -1.15, -1.151, -1.151, -1.151, -1.153, -1.154, -1.154, -1.156, -1.156, -1.156, -1.156, -1.156, -1.156, -1.156, -1.156, -1.156, -1.157, -1.157, -1.157, -1.157, -1.157, -1.157, -1.157, -1.158, -1.158, -1.158, -1.158, -1.158, -1.158, -1.158, -1.158, -1.158, -1.158, -1.158, -1.158, -1.159, -1.159, -1.161, -1.162, -1.163, -1.163, -1.163, -1.164, -1.164, -1.164, -1.165, -1.165, -1.165, -1.165, -1.167, -1.17, -1.17, -1.17, -1.17, -1.17, -1.172, -1.173, -1.173, -1.173, -1.174, -1.174, -1.174, -1.175, -1.178, -1.179, -1.179, -1.179, -1.179, -1.18, -1.182, -1.183, -1.183, -1.184, -1.186, -1.187, -1.187, -1.188, -1.188, -1.19, -1.191, -1.193, -1.194, -1.196, -1.197, -1.198, -1.199, -1.199, -1.2, -1.201, -1.203, -1.204, -1.207, -1.208, -1.208, -1.208, -1.209, -1.216, -1.216, -1.218, -1.218, -1.218, -1.22, -1.22, -1.222, -1.223, -1.226, -1.227, -1.228, -1.229, -1.231, -1.231, -1.234, -1.235, -1.236, -1.238, -1.238, -1.238, -1.238, -1.239, -1.242, -1.242, -1.243, -1.244, -1.246, -1.247, -1.248, -1.249, -1.25, -1.25, -1.251, -1.251, -1.255, -1.257, -1.257, -1.257, -1.26, -1.261, -1.262, -1.262, -1.263, -1.264, -1.264, -1.265, -1.266, -1.266, -1.27, -1.27, -1.271, -1.272, -1.273, -1.274, -1.277, -1.277, -1.279, -1.282, -1.283, -1.283, -1.284, -1.286, -1.286, -1.288, -1.289, -1.291, -1.292, -1.293, -1.298, -1.299, -1.3, -1.3, -1.3, -1.3, -1.3, -1.302, -1.302, -1.303, -1.303, -1.305, -1.306, -1.307, -1.308, -1.308, -1.309, -1.309, -1.309, -1.311, -1.314, -1.316, -1.32, -1.321, -1.321, -1.322, -1.323, -1.324, -1.325, -1.327, -1.327, -1.328, -1.331, -1.332, -1.333, -1.333, -1.337, -1.341, -1.342, -1.344, -1.344, -1.35, -1.352, -1.353, -1.353, -1.354, -1.355, -1.355, -1.356, -1.356, -1.357, -1.36, -1.366, -1.366, -1.369, -1.374, -1.377, -1.377, -1.381, -1.383, -1.383, -1.384, -1.384, -1.385, -1.385, -1.387, -1.387, -1.388, -1.388, -1.388, -1.389, -1.391, -1.395, -1.395, -1.395, -1.396, -1.397, -1.398, -1.405, -1.406, -1.408, -1.41, -1.41, -1.41, -1.414, -1.415, -1.416, -1.419, -1.419, -1.42, -1.421, -1.423, -1.423, -1.423, -1.425, -1.426, -1.428, -1.428, -1.43, -1.431, -1.433, -1.433, -1.435, -1.438, -1.439, -1.439, -1.446, -1.446, -1.448, -1.45, -1.45, -1.453, -1.453, -1.454, -1.455, -1.455, -1.455, -1.456, -1.457, -1.459, -1.46, -1.46, -1.461, -1.461, -1.464, -1.464, -1.465, -1.466, -1.466, -1.469, -1.472, -1.473, -1.473, -1.476, -1.477, -1.477, -1.477, -1.479, -1.48, -1.483, -1.486, -1.491, -1.492, -1.495, -1.496, -1.497, -1.499, -1.499, -1.506, -1.511, -1.513, -1.514, -1.515, -1.518, -1.523, -1.523, -1.529, -1.531, -1.532, -1.533, -1.536, -1.537, -1.539, -1.54, -1.54, -1.542, -1.542, -1.542, -1.544, -1.545, -1.545, -1.547, -1.547, -1.548, -1.549, -1.549, -1.55, -1.554, -1.554, -1.556, -1.556, -1.56, -1.56, -1.561, -1.562, -1.563, -1.563, -1.565, -1.568, -1.57, -1.574, -1.575, -1.577, -1.579, -1.581, -1.581, -1.583, -1.583, -1.586, -1.587, -1.587, -1.591, -1.591, -1.591, -1.592, -1.592, -1.594, -1.594, -1.595, -1.596, -1.603, -1.605, -1.606, -1.608, -1.608, -1.61, -1.619, -1.622, -1.623, -1.627, -1.635, -1.636, -1.637, -1.638, -1.641, -1.643, -1.652, -1.652, -1.654, -1.654, -1.655, -1.657, -1.663, -1.665, -1.667, -1.672, -1.675, -1.676, -1.677, -1.684, -1.69, -1.69, -1.697, -1.698, -1.7, -1.702, -1.705, -1.708, -1.708, -1.709, -1.714, -1.714, -1.716, -1.718, -1.725, -1.728, -1.729, -1.737, -1.742, -1.742, -1.743, -1.743, -1.743, -1.746, -1.749, -1.752, -1.753, -1.758, -1.759, -1.762, -1.769, -1.775, -1.78, -1.793, -1.802, -1.804, -1.804, -1.807, -1.807, -1.811, -1.812, -1.814, -1.816, -1.817, -1.82, -1.821, -1.825, -1.831, -1.835, -1.837, -1.837, -1.837, -1.841, -1.841, -1.847, -1.857, -1.86, -1.861, -1.864, -1.867, -1.874, -1.874, -1.876, -1.878, -1.881, -1.895, -1.898, -1.9, -1.919, -1.926, -1.942, -1.951, -1.951, -1.954, -1.957, -1.957, -1.961, -1.967, -1.967, -1.969, -1.97, -1.974, -1.976, -1.981, -1.983, -1.992, -1.995, -2.005, -2.007, -2.01, -2.023, -2.029, -2.03, -2.033, -2.039, -2.066, -2.073, -2.083, -2.087, -2.128, -2.133, -2.139, -2.146, -2.151, -2.162, -2.179, -2.197, -2.199, -2.227, -2.243, -2.259, -2.263, -2.264, -2.284, -2.286, -2.292, -2.294, -2.308, -2.328, -2.335, -2.343, -2.384, -2.391, -2.445, -2.455, -2.463, -2.485, -2.525, -2.54, -2.567, -2.601, -2.601, -2.601, -2.64, -2.675, -2.684, -2.696, -2.697, -2.7, -2.836, -2.882, -2.897, -3.109, -3.118, -4.029], \"y\": [0.001, 0.001, 0.001, 0.001, 0.001, 0.001, 0.001, 0.547, 0.001, 0.001, 0.001, 0.001, 0.001, 0.001, 0.001, 0.001, 0.001, 0.001, 0.001, 0.001, 0.001, 0.001, 0.001, 0.001, 0.001, 0.001, 0.001, 0.001, 0.001, 0.001, 0.001, 0.001, 0.001, 0.23, 0.001, 0.001, 0.001, 0.001, 0.001, 0.001, 0.001, 0.001, 0.036, 0.001, 0.001, 0.001, 0.001, 0.001, 0.001, 0.001, 0.001, 0.001, 0.001, 0.001, 0.001, 0.001, 0.001, 0.001, 0.001, 0.001, 0.001, 0.001, 0.001, 0.001, 0.001, 0.23, 0.001, 0.001, 0.001, 0.001, 0.001, 0.001, 0.001, 0.001, 0.001, 0.001, 0.001, 0.001, 0.001, 0.001, 0.001, 0.001, 0.001, 0.001, 0.001, 0.001, 0.001, 0.001, 0.036, 0.001, 0.001, 0.001, 0.001, 0.001, 0.001, 0.001, 0.001, 0.445, 0.001, 0.001, 0.001, 0.001, 0.001, 0.001, 0.001, 0.001, 0.001, 0.47, 0.001, 0.001, 0.001, 0.001, 0.001, 0.001, 0.001, 0.001, 0.001, 0.001, 0.001, 0.001, 0.001, 0.001, 0.001, 0.001, 0.001, 0.001, 0.001, 0.001, 0.001, 0.001, 0.001, 0.001, 0.001, 0.001, 0.001, 0.001, 0.001, 0.001, 0.001, 0.001, 0.001, 0.001, 0.001, 0.001, 0.001, 0.001, 0.001, 0.001, 0.001, 0.001, 0.001, 0.001, 0.001, 0.001, 0.001, 0.001, 0.001, 0.001, 0.001, 0.001, 0.001, 0.001, 0.001, 0.001, 0.001, 0.001, 0.001, 0.001, 0.001, 0.001, 0.001, 0.001, 0.001, 0.001, 0.001, 0.001, 0.001, 0.001, 0.001, 0.001, 0.001, 0.001, 0.001, 0.001, 0.001, 0.001, 0.001, 0.001, 0.001, 0.001, 0.001, 0.001, 0.001, 0.001, 0.001, 0.001, 0.001, 0.001, 0.001, 0.001, 0.001, 0.001, 0.001, 0.001, 0.001, 0.001, 0.001, 0.001, 0.001, 0.001, 0.001, 0.001, 0.001, 0.001, 0.001, 0.001, 0.001, 0.001, 0.001, 0.001, 0.001, 0.001, 0.001, 0.001, 0.001, 0.001, 0.001, 0.001, 0.001, 0.001, 0.001, 0.001, 0.001, 0.001, 0.001, 0.036, 0.001, 0.001, 0.001, 0.001, 0.001, 0.001, 0.001, 0.001, 0.001, 0.001, 0.001, 0.001, 0.001, 0.001, 0.001, 0.001, 0.001, 0.001, 0.001, 0.001, 0.001, 0.001, 0.001, 0.001, 0.001, 0.001, 0.001, 0.001, 0.001, 0.001, 0.001, 0.001, 0.001, 0.001, 0.001, 0.001, 0.001, 0.001, 0.001, 0.001, 0.001, 0.001, 0.001, 0.001, 0.001, 0.001, 0.001, 0.001, 0.001, 0.001, 0.001, 0.001, 0.001, 0.001, 0.001, 0.001, 0.001, 0.001, 0.001, 0.001, 0.001, 0.001, 0.001, 0.001, 0.001, 0.001, 0.001, 0.001, 0.001, 0.001, 0.001, 0.001, 0.001, 0.001, 0.001, 0.001, 0.001, 0.001, 0.001, 0.001, 0.001, 0.001, 0.001, 0.036, 0.001, 0.001, 0.001, 0.001, 0.001, 0.001, 0.001, 0.001, 0.001, 0.001, 0.001, 0.001, 0.001, 0.001, 0.001, 0.001, 0.001, 0.001, 0.001, 0.001, 0.001, 0.001, 0.001, 0.001, 0.001, 0.001, 0.001, 0.001, 0.001, 0.001, 0.001, 0.001, 0.001, 0.001, 0.001, 0.001, 0.001, 0.001, 0.001, 0.001, 0.001, 0.001, 0.001, 0.001, 0.001, 0.001, 0.001, 0.001, 0.001, 0.001, 0.001, 0.001, 0.001, 0.001, 0.001, 0.001, 0.001, 0.001, 0.001, 0.001, 0.001, 0.001, 0.001, 0.001, 0.001, 0.001, 0.001, 0.001, 0.001, 0.001, 0.001, 0.001, 0.001, 0.001, 0.001, 0.001, 0.001, 0.001, 0.001, 0.001, 0.001, 0.001, 0.001, 0.001, 0.001, 0.001, 0.001, 0.001, 0.001, 0.001, 0.001, 0.001, 0.001, 0.001, 0.001, 0.001, 0.001, 0.001, 0.001, 0.001, 0.001, 0.001, 0.001, 0.001, 0.001, 0.001, 0.001, 0.001, 0.001, 0.001, 0.001, 0.001, 0.001, 0.001, 0.001, 0.001, 0.001, 0.001, 0.001, 0.001, 0.001, 0.001, 0.001, 0.001, 0.001, 0.001, 0.001, 0.001, 0.001, 0.001, 0.001, 0.001, 0.001, 0.001, 0.001, 0.001, 0.001, 0.001, 0.001, 0.001, 0.001, 0.001, 0.001, 0.001, 0.001, 0.001, 0.001, 0.001, 0.001, 0.001, 0.001, 0.001, 0.001, 0.001, 0.001, 0.001, 0.001, 0.001, 0.001, 0.001, 0.001, 0.001, 0.001, 0.001, 0.001, 0.001, 0.001, 0.001, 0.001, 0.001, 0.001, 0.001, 0.001, 0.001, 0.001, 0.001, 0.001, 0.001, 0.001, 0.001, 0.001, 0.001, 0.001, 0.001, 0.001, 0.001, 0.001, 0.001, 0.001, 0.001, 0.001, 0.001, 0.001, 0.001, 0.001, 0.001, 0.001, 0.001, 0.001, 0.001, 0.001, 0.001, 0.001, 0.001, 0.001, 0.001, 0.001, 0.001, 0.001, 0.001, 0.001, 0.001, 0.001, 0.001, 0.001, 0.001, 0.001, 0.001, 0.001, 0.001, 0.001, 0.001, 0.001, 0.001, 0.001, 0.001, 0.001, 0.001, 0.001, 0.001, 0.001, 0.001, 0.001, 0.001, 0.001, 0.001, 0.001, 0.001, 0.001, 0.001, 0.001, 0.001, 0.001, 0.001, 0.001, 0.001, 0.001, 0.001, 0.001, 0.001, 0.001, 0.001, 0.001, 0.001, 0.001, 0.001, 0.001, 0.001, 0.001, 0.001, 0.001, 0.001, 0.001, 0.001, 0.001, 0.001, 0.001, 0.001, 0.001, 0.001, 0.001, 0.001, 0.001, 0.001, 0.001, 0.001, 0.001, 0.001, 0.001, 0.001, 0.001, 0.001, 0.001, 0.001, 0.001, 0.001, 0.001, 0.001, 0.001, 0.001, 0.001, 0.001, 0.001, 0.001, 0.001, 0.001, 0.001, 0.001, 0.001, 0.001, 0.001, 0.001, 0.001, 0.001, 0.001, 0.001, 0.001, 0.001, 0.001, 0.001, 0.001, 0.001, 0.001, 0.001, 0.001, 0.001, 0.001, 0.001, 0.001, 0.001, 0.001, 0.001, 0.001, 0.001, 0.001, 0.001, 0.001, 0.001, 0.001, 0.001, 0.001, 0.001, 0.001, 0.001, 0.001, 0.001, 0.001, 0.001, 0.001, 0.001, 0.001, 0.001, 0.001, 0.001, 0.001, 0.001, 0.001, 0.001, 0.001, 0.001, 0.001, 0.001, 0.001, 0.001, 0.001, 0.001, 0.001, 0.001, 0.001, 0.001, 0.001, 0.001, 0.001, 0.001, 0.001, 0.001, 0.001, 0.001, 0.001, 0.001, 0.001, 0.001, 0.001, 0.001, 0.001, 0.001, 0.001, 0.001, 0.001, 0.001, 0.001, 0.001, 0.001, 0.001, 0.001, 0.001, 0.001, 0.001, 0.001, 0.001, 0.001, 0.001, 0.001, 0.001, 0.001, 0.001, 0.001, 0.001, 0.001, 0.001, 0.001, 0.001, 0.001, 0.001, 0.001, 0.001, 0.001, 0.001, 0.001, 0.001, 0.001, 0.001, 0.001, 0.001, 0.001, 0.001, 0.001, 0.001, 0.001, 0.001, 0.001, 0.001, 0.001, 0.001, 0.001, 0.001, 0.001, 0.001, 0.001, 0.001, 0.001, 0.001, 0.001, 0.001, 0.001, 0.001, 0.001, 0.001, 0.001, 0.001, 0.001, 0.001, 0.001, 0.001, 0.001, 0.001, 0.001, 0.001, 0.001, 0.001, 0.001, 0.001, 0.001, 0.001, 0.001, 0.001, 0.001, 0.001, 0.001, 0.001, 0.001, 0.001, 0.001, 0.001, 0.001, 0.001, 0.001, 0.001, 0.001, 0.001, 0.001, 0.001, 0.001, 0.001, 0.001, 0.001, 0.001, 0.001, 0.001, 0.001, 0.001, 0.001, 0.001, 0.001, 0.001, 0.001, 0.001, 0.001, 0.001, 0.001, 0.001, 0.001, 0.001, 0.001, 0.001, 0.001, 0.001, 0.001, 0.001, 0.001, 0.001, 0.001, 0.001, 0.001, 0.001, 0.001, 0.001, 0.001, 0.001, 0.001, 0.001, 0.001, 0.001, 0.001, 0.001, 0.001, 0.001, 0.001, 0.001, 0.001, 0.001, 0.001, 0.001, 0.001, 0.001, 0.001, 0.001, 0.001, 0.001, 0.001, 0.001, 0.001, 0.001, 0.001, 0.001, 0.001, 0.001, 0.001, 0.001, 0.001, 0.001, 0.001, 0.001, 0.001, 0.001, 0.001, 0.001, 0.001, 0.001, 0.001, 0.001, 0.001, 0.001, 0.001, 0.001, 0.001, 0.001, 0.001, 0.001, 0.001, 0.001, 0.001, 0.001, 0.001, 0.001, 0.001, 0.001, 0.001, 0.001, 0.001, 0.001, 0.001, 0.001, 0.001, 0.001, 0.001, 0.001, 0.001, 0.001, 0.001, 0.001, 0.001, 0.001, 0.001, 0.001, 0.001, 0.001, 0.001, 0.001, 0.001, 0.001, 0.001, 0.001, 0.001, 0.001, 0.001, 0.001, 0.001, 0.001, 0.001, 0.001, 0.001, 0.001, 0.001, 0.001, 0.001, 0.001, 0.001, 0.001, 0.001, 0.001, 0.001, 0.001, 0.001, 0.001, 0.001, 0.001, 0.001, 0.001, 0.001, 0.001, 0.001, 0.001, 0.001, 0.001, 0.001, 0.001, 0.001, 0.001, 0.001, 0.001, 0.001, 0.001, 0.001, 0.001, 0.001, 0.001, 0.001, 0.001, 0.001, 0.001, 0.001, 0.001, 0.001, 0.001, 0.001, 0.001, 0.001, 0.001, 0.001, 0.001, 0.001, 0.001, 0.001, 0.001, 0.001, 0.001, 0.001, 0.001, 0.001, 0.001, 0.001, 0.001, 0.001, 0.001, 0.001, 0.001, 0.001, 0.001, 0.001, 0.001, 0.001, 0.001, 0.001, 0.001, 0.001, 0.001, 0.001, 0.001, 0.001, 0.001, 0.001, 0.001, 0.001, 0.001, 0.001, 0.001, 0.001, 0.001, 0.001, 0.001, 0.001, 0.001, 0.001, 0.001, 0.001, 0.001, 0.001, 0.001, 0.001, 0.001, 0.001, 0.001, 0.001, 0.001, 0.001, 0.001, 0.001, 0.001, 0.001, 0.001, 0.001, 0.001, 0.001, 0.001, 0.001, 0.001, 0.001, 0.001, 0.001, 0.001, 0.001, 0.001, 0.001, 0.001, 0.001, 0.001, 0.001, 0.001, 0.001, 0.001, 0.001, 0.001, 0.001, 0.001, 0.001, 0.001, 0.001, 0.001, 0.001, 0.001, 0.001, 0.001, 0.001, 0.001, 0.001, 0.001, 0.001, 0.001, 0.001, 0.001, 0.001, 0.001, 0.001, 0.001, 0.001, 0.001, 0.001, 0.001, 0.001, 0.001, 0.001, 0.001, 0.001, 0.001, 0.001, 0.001, 0.001, 0.001, 0.001, 0.001, 0.001, 0.001, 0.001, 0.001, 0.001, 0.001, 0.001, 0.001, 0.001, 0.001, 0.001, 0.001, 0.001, 0.001, 0.001, 0.001, 0.001, 0.001, 0.001, 0.001, 0.001, 0.001, 0.001, 0.001, 0.001, 0.001, 0.001, 0.001, 0.001, 0.001, 0.001, 0.001, 0.001, 0.001, 0.001, 0.001, 0.001, 0.001, 0.001, 0.001, 0.001, 0.001, 0.001, 0.001, 0.001, 0.001, 0.001, 0.001, 0.001, 0.001, 0.001, 0.001, 0.001, 0.001, 0.001, 0.001, 0.001, 0.001, 0.001, 0.001, 0.001, 0.001, 0.001, 0.001, 0.001, 0.001, 0.001, 0.001, 0.001, 0.001, 0.001, 0.001, 0.001, 0.001, 0.001, 0.001, 0.001, 0.001, 0.001, 0.001, 0.001, 0.001, 0.001, 0.001, 0.001, 0.001, 0.001, 0.001, 0.001, 0.001, 0.001, 0.001, 0.001, 0.001, 0.001, 0.001, 0.001, 0.001, 0.001, 0.001, 0.001, 0.001, 0.001, 0.001, 0.001, 0.001, 0.001, 0.001, 0.001, 0.001, 0.001, 0.001, 0.001, 0.001, 0.001, 0.001, 0.001, 0.001, 0.001, 0.001, 0.001, 0.001, 0.001, 0.001, 0.001, 0.001, 0.001, 0.001, 0.001, 0.001, 0.001, 0.001, 0.001, 0.001, 0.001, 0.001, 0.001, 0.001, 0.001, 0.001, 0.001, 0.001, 0.001, 0.001, 0.001, 0.001, 0.001, 0.001, 0.001, 0.001, 0.001, 0.001, 0.001, 0.001, 0.001, 0.001, 0.001, 0.001, 0.001, 0.001, 0.001, 0.001, 0.001, 0.001, 0.001, 0.001, 0.001, 0.001, 0.001, 0.001, 0.001, 0.001, 0.001, 0.001, 0.001, 0.001, 0.001, 0.001, 0.001, 0.001, 0.001, 0.001, 0.001, 0.001, 0.001, 0.001, 0.001, 0.001, 0.001, 0.001, 0.001, 0.001, 0.001, 0.001, 0.001, 0.001, 0.001, 0.001, 0.001, 0.001, 0.001, 0.001, 0.001, 0.001, 0.001, 0.001, 0.001, 0.001, 0.001, 0.001, 0.001, 0.001, 0.001, 0.001, 0.001, 0.001, 0.001, 0.001, 0.001, 0.001, 0.001, 0.001, 0.001, 0.001, 0.001, 0.001, 0.001, 0.001, 0.001, 0.001, 0.001, 0.001, 0.001, 0.001, 0.001, 0.001, 0.001, 0.001, 0.001, 0.001, 0.001, 0.001, 0.001, 0.001, 0.001, 0.001, 0.001, 0.001, 0.001, 0.001, 0.001, 0.001, 0.001, 0.001, 0.001, 0.001, 0.001, 0.001, 0.001, 0.001, 0.001, 0.001, 0.001, 0.001, 0.001, 0.001, 0.001, 0.001, 0.001, 0.001, 0.001, 0.001, 0.001, 0.001, 0.001, 0.001, 0.001, 0.001, 0.001, 0.001, 0.001, 0.001, 0.001, 0.001, 0.001, 0.001, 0.001, 0.001, 0.001, 0.001, 0.001, 0.001, 0.001, 0.001, 0.001, 0.001, 0.001, 0.001, 0.001, 0.001, 0.001, 0.001, 0.001, 0.001, 0.001, 0.001, 0.001, 0.001, 0.001, 0.001, 0.001, 0.001, 0.001, 0.001, 0.001, 0.001, 0.001, 0.001, 0.001, 0.001, 0.001, 0.001, 0.001, 0.001, 0.001, 0.001, 0.001, 0.001, 0.001, 0.001, 0.001, 0.001, 0.001, 0.001, 0.001, 0.001, 0.001, 0.001, 0.001, 0.001, 0.001, 0.001, 0.001, 0.001, 0.001, 0.001, 0.001, 0.001, 0.001, 0.001, 0.001, 0.001, 0.001, 0.001, 0.001, 0.001, 0.001, 0.001, 0.001, 0.001, 0.001, 0.001, 0.001, 0.001, 0.001, 0.001, 0.001, 0.001, 0.001, 0.001, 0.001, 0.001, 0.001, 0.001, 0.001, 0.001, 0.001, 0.001, 0.001, 0.001, 0.001, 0.001, 0.001, 0.001, 0.001, 0.001, 0.001, 0.001, 0.001, 0.001, 0.001, 0.001, 0.001, 0.001, 0.001, 0.001, 0.001, 0.001, 0.001, 0.001, 0.001, 0.001, 0.001, 0.001, 0.001, 0.001, 0.001, 0.001, 0.001, 0.001, 0.001, 0.001, 0.001, 0.001, 0.001, 0.001, 0.001, 0.001, 0.001, 0.001, 0.001, 0.001, 0.001, 0.001, 0.001, 0.001, 0.001, 0.001, 0.001, 0.001, 0.001, 0.001, 0.001, 0.001, 0.001, 0.001, 0.001, 0.001, 0.001, 0.001, 0.001, 0.001, 0.001, 0.001, 0.001, 0.001, 0.001, 0.001, 0.001, 0.001, 0.001, 0.001, 0.001, 0.001, 0.001, 0.001, 0.001, 0.001, 0.001, 0.001, 0.001, 0.001, 0.001, 0.001, 0.001, 0.001, 0.001, 0.001, 0.001, 0.001, 0.001, 0.001, 0.001, 0.001, 0.001, 0.001, 0.001, 0.001, 0.001, 0.001, 0.001, 0.001, 0.001, 0.001, 0.001, 0.001, 0.001, 0.001, 0.001, 0.001, 0.001, 0.001, 0.001, 0.001, 0.001, 0.001, 0.001, 0.001, 0.001, 0.001, 0.001, 0.001, 0.001, 0.001, 0.001, 0.001, 0.001, 0.001, 0.001, 0.001, 0.001, 0.001, 0.001, 0.001, 0.001, 0.001, 0.001, 0.001, 0.001, 0.001, 0.001, 0.001, 0.001, 0.001, 0.001, 0.001, 0.001, 0.001, 0.001, 0.001, 0.001, 0.001, 0.001, 0.001, 0.001, 0.001, 0.001, 0.001, 0.001, 0.001, 0.001, 0.001, 0.001, 0.001, 0.001, 0.001, 0.001, 0.001, 0.001, 0.001, 0.001, 0.001, 0.001, 0.001, 0.001, 0.001, 0.001, 0.001, 0.001, 0.001, 0.001, 0.001, 0.001, 0.001, 0.001, 0.001, 0.001, 0.001, 0.001, 0.001, 0.001, 0.001, 0.001, 0.001, 0.001, 0.001, 0.001, 0.001, 0.001, 0.001, 0.001, 0.001, 0.001, 0.001, 0.001, 0.001, 0.001, 0.001, 0.001, 0.001, 0.001, 0.001, 0.001, 0.001, 0.001, 0.001, 0.001, 0.001, 0.001, 0.001, 0.001, 0.001, 0.001, 0.001, 0.001, 0.001, 0.001, 0.001, 0.001, 0.001, 0.001, 0.001, 0.001, 0.001, 0.001, 0.001, 0.001, 0.001, 0.001, 0.001, 0.001, 0.001, 0.001, 0.001, 0.001, 0.001, 0.001, 0.001, 0.001, 0.001, 0.001, 0.001, 0.001, 0.001, 0.001, 0.001, 0.001, 0.001, 0.001, 0.001, 0.001, 0.001, 0.001, 0.001, 0.001, 0.001, 0.001, 0.001, 0.001, 0.001, 0.001, 0.001, 0.001, 0.001, 0.001, 0.001, 0.001, 0.001, 0.001, 0.001, 0.001, 0.001, 0.001, 0.001, 0.001, 0.001, 0.001, 0.001, 0.001, 0.001, 0.001, 0.001, 0.001, 0.001, 0.001, 0.001, 0.001, 0.001, 0.001, 0.001, 0.001, 0.001, 0.001, 0.001, 0.001, 0.001, 0.001, 0.001, 0.001, 0.001, 0.001, 0.001, 0.001, 0.001, 0.001, 0.001, 0.001, 0.001, 0.001, 0.001, 0.001, 0.001, 0.001, 0.001, 0.001, 0.001, 0.001, 0.001, 0.001, 0.001, 0.001, 0.001, 0.001, 0.001, 0.001, 0.001, 0.001, 0.001, 0.001, 0.001, 0.001, 0.001, 0.001, 0.001, 0.001, 0.001, 0.001, 0.001, 0.001, 0.001, 0.001, 0.001, 0.001, 0.001, 0.001, 0.001, 0.001, 0.001, 0.001, 0.001, 0.001, 0.001, 0.001, 0.001, 0.001, 0.001, 0.001, 0.001, 0.001, 0.001, 0.001, 0.001, 0.001, 0.001, 0.001, 0.001, 0.001, 0.001, 0.001, 0.001, 0.001, 0.001, 0.001, 0.001, 0.001, 0.001, 0.001, 0.001, 0.001, 0.001, 0.001, 0.001, 0.001, 0.001, 0.001, 0.001, 0.001, 0.001, 0.001, 0.001, 0.001, 0.001, 0.001, 0.001, 0.001, 0.001, 0.001, 0.001, 0.001, 0.001, 0.001, 0.001, 0.001, 0.001, 0.001, 0.001, 0.001, 0.001, 0.001, 0.001, 0.001, 0.001, 0.001, 0.001, 0.001, 0.001, 0.001, 0.001, 0.001, 0.001, 0.001, 0.001, 0.001, 0.001, 0.001, 0.001, 0.001, 0.001, 0.001, 0.001, 0.001, 0.001, 0.001, 0.001, 0.001, 0.001, 0.001, 0.001, 0.001, 0.001, 0.001, 0.001, 0.001, 0.001, 0.001, 0.001, 0.001, 0.001, 0.001, 0.001, 0.001, 0.001, 0.001, 0.001, 0.001, 0.001, 0.001, 0.001, 0.001, 0.001, 0.001, 0.001, 0.001, 0.001, 0.001, 0.001, 0.001, 0.001, 0.001, 0.001, 0.001, 0.001, 0.001, 0.001, 0.001, 0.001, 0.001, 0.001, 0.001, 0.001, 0.001, 0.001, 0.001, 0.001, 0.001, 0.001, 0.001, 0.001, 0.001, 0.001, 0.001, 0.001, 0.001, 0.001, 0.001, 0.001, 0.001, 0.001, 0.001, 0.001, 0.001, 0.001, 0.001, 0.001, 0.001, 0.001, 0.001, 0.001, 0.001, 0.001, 0.001, 0.001, 0.001, 0.001, 0.001, 0.001, 0.001, 0.001, 0.001, 0.001, 0.001, 0.001, 0.001, 0.001, 0.001, 0.001, 0.001, 0.001, 0.001, 0.001, 0.001, 0.001, 0.001, 0.001, 0.001, 0.001, 0.001, 0.001, 0.001, 0.001, 0.001, 0.001, 0.001, 0.001, 0.001, 0.001, 0.001, 0.001, 0.001, 0.001, 0.001, 0.001, 0.001, 0.001, 0.001, 0.001, 0.001, 0.001, 0.001, 0.001, 0.001, 0.001, 0.001, 0.001, 0.001, 0.001, 0.001, 0.001, 0.001, 0.001, 0.001, 0.001, 0.001, 0.001, 0.001, 0.001, 0.001, 0.001, 0.001, 0.001, 0.001, 0.001, 0.001, 0.001, 0.001, 0.001, 0.001, 0.001, 0.001, 0.001, 0.001, 0.001, 0.001, 0.001, 0.001, 0.001, 0.001, 0.001, 0.001, 0.001, 0.001, 0.001, 0.001, 0.001, 0.001, 0.001, 0.001, 0.001, 0.001, 0.001, 0.001, 0.001, 0.001, 0.001, 0.001, 0.001, 0.001, 0.001, 0.001, 0.001, 0.001, 0.001, 0.001, 0.001, 0.001, 0.001, 0.001, 0.001, 0.001, 0.001, 0.001, 0.001, 0.001, 0.001, 0.001, 0.001, 0.001, 0.001, 0.001, 0.001, 0.001, 0.001, 0.001, 0.001, 0.001, 0.001, 0.001, 0.001, 0.001, 0.001, 0.001, 0.001, 0.001, 0.001, 0.001, 0.001, 0.001, 0.001, 0.001, 0.001, 0.001, 0.001, 0.001, 0.001, 0.001, 0.001, 0.001, 0.001, 0.001, 0.001, 0.001, 0.001, 0.001, 0.001, 0.001, 0.001, 0.001, 0.001, 0.001, 0.001, 0.001, 0.001, 0.001, 0.001, 0.001, 0.001, 0.001, 0.001, 0.001, 0.001, 0.001, 0.001, 0.001, 0.001, 0.001, 0.001, 0.001, 0.001, 0.001, 0.001, 0.001, 0.001, 0.001, 0.001, 0.001, 0.001, 0.001, 0.001, 0.001, 0.001, 0.001, 0.001, 0.001, 0.001, 0.001, 0.001, 0.001, 0.001, 0.001, 0.001, 0.001, 0.001, 0.001, 0.001, 0.001, 0.001, 0.001, 0.001, 0.001, 0.001, 0.001, 0.001, 0.001, 0.001, 0.001, 0.001, 0.001, 0.001, 0.001, 0.001, 0.001, 0.001, 0.001, 0.001, 0.001, 0.001, 0.001, 0.001, 0.001, 0.001, 0.001, 0.001, 0.001, 0.001, 0.001, 0.001, 0.001, 0.001, 0.001, 0.001, 0.001, 0.001, 0.001, 0.001, 0.001, 0.001, 0.001, 0.001, 0.001, 0.001, 0.001, 0.001, 0.001, 0.001, 0.001, 0.001, 0.001, 0.001, 0.001, 0.001, 0.001, 0.001, 0.001, 0.001, 0.001, 0.001, 0.001, 0.001, 0.001, 0.001, 0.001, 0.001, 0.001, 0.001, 0.001, 0.001, 0.001, 0.001, 0.001, 0.001, 0.001, 0.001, 0.001, 0.001, 0.001, 0.001, 0.001, 0.001, 0.001, 0.001, 0.001, 0.001, 0.001, 0.001, 0.001, 0.001, 0.001, 0.001, 0.001, 0.001, 0.001, 0.001, 0.001, 0.001, 0.001, 0.001, 0.001, 0.001, 0.001, 0.001, 0.001, 0.001, 0.001, 0.001, 0.001, 0.001, 0.001, 0.001, 0.001, 0.001, 0.001, 0.001, 0.001, 0.001, 0.001, 0.001, 0.001, 0.001, 0.001, 0.001, 0.001, 0.001, 0.001, 0.001, 0.001, 0.001, 0.001, 0.001, 0.001, 0.001, 0.001, 0.001, 0.001, 0.001, 0.001, 0.001, 0.001, 0.001, 0.001, 0.001, 0.001, 0.001, 0.001, 0.001, 0.001, 0.001, 0.001, 0.001, 0.001, 0.001, 0.001, 0.001, 0.001, 0.001, 0.001, 0.001, 0.001, 0.001, 0.001, 0.001, 0.001, 0.001, 0.001, 0.001, 0.001, 0.001, 0.001, 0.001, 0.001, 0.001, 0.001, 0.001, 0.001, 0.001, 0.001, 0.001, 0.001, 0.001, 0.001, 0.001, 0.001, 0.001, 0.001, 0.001, 0.001, 0.001, 0.001, 0.001, 0.001, 0.001, 0.001, 0.001, 0.001, 0.001, 0.001, 0.001, 0.001, 0.001, 0.001, 0.001, 0.001, 0.001, 0.001, 0.001, 0.001, 0.001, 0.001, 0.001, 0.001, 0.001, 0.001, 0.001, 0.001, 0.001, 0.001, 0.001, 0.001, 0.001, 0.001, 0.001, 0.001, 0.001, 0.001, 0.001, 0.001, 0.001, 0.001, 0.001, 0.001, 0.001, 0.001, 0.001, 0.001, 0.001, 0.001, 0.001, 0.001, 0.001, 0.001, 0.001, 0.001, 0.001, 0.001, 0.001, 0.001, 0.001, 0.001, 0.001, 0.001, 0.001, 0.001, 0.001, 0.001, 0.001, 0.001, 0.001, 0.001, 0.001, 0.001, 0.001, 0.001, 0.001, 0.001, 0.001, 0.001, 0.001, 0.001, 0.001, 0.001, 0.001, 0.001, 0.001, 0.001, 0.001, 0.001, 0.001, 0.001, 0.001, 0.001, 0.001, 0.001, 0.001, 0.001, 0.001, 0.001, 0.001, 0.001, 0.001, 0.001, 0.001, 0.001, 0.001, 0.001, 0.001, 0.001, 0.001, 0.001, 0.001, 0.001, 0.001, 0.001, 0.001, 0.001, 0.001, 0.001, 0.001, 0.001, 0.001, 0.001, 0.001, 0.001, 0.001, 0.001, 0.001, 0.001, 0.001, 0.001, 0.001, 0.001, 0.001, 0.001, 0.001, 0.001, 0.001, 0.001, 0.001, 0.001, 0.001, 0.001, 0.001, 0.001, 0.001, 0.001, 0.001, 0.001, 0.001, 0.001, 0.001, 0.001, 0.001, 0.001, 0.001, 0.001, 0.001, 0.001, 0.001, 0.001, 0.001, 0.001, 0.001, 0.001, 0.001, 0.001, 0.001, 0.001, 0.001, 0.001, 0.001, 0.001, 0.001, 0.001, 0.001, 0.001, 0.001, 0.001, 0.001, 0.001, 0.001, 0.001, 0.001, 0.001, 0.001, 0.001, 0.001, 0.001, 0.001, 0.001, 0.001, 0.001, 0.001, 0.001, 0.001, 0.001, 0.001, 0.001, 0.001, 0.001, 0.001, 0.001, 0.001, 0.001, 0.001, 0.001, 0.001, 0.001, 0.001, 0.001, 0.001, 0.001, 0.001, 0.001, 0.001, 0.001, 0.001, 0.001, 0.001, 0.001, 0.001, 0.001, 0.001, 0.001, 0.001, 0.001, 0.001, 0.001, 0.001, 0.001, 0.001, 0.001, 0.001, 0.001, 0.001, 0.001, 0.001, 0.001, 0.001, 0.001, 0.001, 0.001, 0.001, 0.001, 0.001, 0.001, 0.001, 0.001, 0.001, 0.001, 0.001, 0.001, 0.001, 0.001, 0.001, 0.001, 0.001, 0.001, 0.001, 0.001, 0.001, 0.001, 0.001, 0.001, 0.001, 0.001, 0.001, 0.001, 0.001, 0.001, 0.001, 0.001, 0.001, 0.001, 0.001, 0.001, 0.001, 0.001, 0.001, 0.001, 0.001, 0.001, 0.001, 0.001, 0.001, 0.001, 0.001, 0.001, 0.001, 0.001, 0.001, 0.001, 0.001, 0.001, 0.001, 0.001, 0.001, 0.001, 0.001, 0.001, 0.001, 0.001, 0.001, 0.001, 0.001, 0.001, 0.001, 0.001, 0.001, 0.001, 0.001, 0.001, 0.001, 0.001, 0.001, 0.001, 0.001, 0.001, 0.001, 0.001, 0.001, 0.001, 0.001, 0.001, 0.001, 0.001, 0.001, 0.001, 0.001, 0.001, 0.001, 0.001, 0.001, 0.001, 0.001, 0.001, 0.001, 0.001, 0.001, 0.001, 0.001, 0.001, 0.001, 0.001, 0.001, 0.001, 0.001, 0.001, 0.001, 0.001, 0.001, 0.001, 0.001, 0.001, 0.001, 0.001, 0.001, 0.001, 0.001, 0.001, 0.001, 0.001, 0.001, 0.001, 0.001, 0.001, 0.001, 0.001, 0.001, 0.001, 0.001, 0.001, 0.001, 0.001, 0.001, 0.001, 0.001, 0.001, 0.001, 0.001, 0.001, 0.001, 0.001, 0.001, 0.001, 0.001, 0.001, 0.001, 0.001, 0.001, 0.001, 0.001, 0.001, 0.001, 0.001, 0.001, 0.001, 0.001, 0.001, 0.001, 0.001, 0.001, 0.001, 0.001, 0.001, 0.001, 0.001, 0.001, 0.001, 0.001, 0.001, 0.001, 0.001, 0.001, 0.001, 0.001, 0.001, 0.001, 0.001, 0.001, 0.001, 0.001, 0.001, 0.001, 0.001, 0.001, 0.001, 0.001, 0.001, 0.001, 0.001, 0.001, 0.001, 0.001, 0.001, 0.001, 0.001, 0.001, 0.001, 0.001, 0.001, 0.001, 0.001, 0.001, 0.001, 0.001, 0.001, 0.001, 0.001, 0.001, 0.001, 0.001, 0.001, 0.001, 0.001, 0.001, 0.001, 0.001, 0.001, 0.001, 0.001, 0.001, 0.001, 0.001, 0.001, 0.001, 0.001, 0.001, 0.001, 0.001, 0.001, 0.001, 0.001, 0.001, 0.001, 0.001, 0.001, 0.001, 0.001, 0.001, 0.001, 0.001, 0.001, 0.001, 0.001, 0.001, 0.001, 0.001, 0.001, 0.001, 0.001, 0.001, 0.001, 0.001, 0.001, 0.001, 0.001, 0.001, 0.001, 0.001, 0.001, 0.001, 0.001, 0.001, 0.001, 0.001, 0.001, 0.001, 0.001, 0.001, 0.001, 0.001, 0.001, 0.001, 0.001, 0.001, 0.001, 0.001, 0.001, 0.001, 0.001, 0.001, 0.001, 0.001, 0.001, 0.001, 0.001, 0.001, 0.001, 0.001, 0.001, 0.001, 0.001, 0.001, 0.001, 0.001, 0.001, 0.001, 0.001, 0.001, 0.001, 0.001, 0.001, 0.001, 0.001, 0.001, 0.001, 0.001, 0.001, 0.001, 0.001, 0.001, 0.001, 0.001, 0.001, 0.001, 0.001, 0.001, 0.001, 0.001, 0.001, 0.001, 0.001, 0.001, 0.001, 0.001, 0.001, 0.001, 0.001, 0.001, 0.001, 0.001, 0.001, 0.001, 0.001, 0.001, 0.001, 0.001, 0.001, 0.001, 0.001, 0.001, 0.001, 0.001, 0.001, 0.001, 0.001, 0.001, 0.001, 0.001, 0.001, 0.001, 0.001, 0.001, 0.001, 0.001, 0.001, 0.001, 0.001, 0.001, 0.001, 0.001, 0.001, 0.001, 0.001, 0.001, 0.001, 0.001, 0.001, 0.001, 0.001, 0.001, 0.001, 0.001, 0.001, 0.001, 0.001, 0.001, 0.001, 0.001, 0.001, 0.001, 0.001, 0.001, 0.001, 0.001, 0.001, 0.001, 0.001, 0.001, 0.001, 0.001, 0.001, 0.001, 0.001, 0.001, 0.001, 0.001, 0.001, 0.001, 0.001, 0.001, 0.001, 0.001, 0.001, 0.001, 0.001, 0.001, 0.001, 0.001, 0.001, 0.001, 0.001, 0.001, 0.001, 0.001, 0.001, 0.001, 0.001, 0.001, 0.001, 0.001, 0.001, 0.001, 0.001, 0.001, 0.001, 0.001, 0.001, 0.001, 0.001, 0.001, 0.001, 0.001, 0.001, 0.001, 0.001, 0.001, 0.001, 0.001, 0.001, 0.001, 0.001, 0.001, 0.001, 0.001, 0.001, 0.001, 0.001, 0.001, 0.001, 0.001, 0.001, 0.001, 0.001, 0.001, 0.001, 0.001, 0.001, 0.001, 0.001, 0.001, 0.001, 0.001, 0.001, 0.001, 0.001, 0.001, 0.001, 0.001, 0.001, 0.001, 0.001, 0.001, 0.001, 0.001, 0.001, 0.001, 0.001, 0.001, 0.001, 0.001, 0.001, 0.001, 0.001, 0.001, 0.001, 0.001, 0.001, 0.001, 0.001, 0.001, 0.001, 0.001, 0.001, 0.001, 0.001, 0.001, 0.001, 0.001, 0.001, 0.001, 0.001, 0.001, 0.001, 0.001, 0.001, 0.001, 0.001, 0.001, 0.001, 0.001, 0.001, 0.001, 0.001, 0.001, 0.001, 0.001, 0.001, 0.001, 0.001, 0.001, 0.001, 0.001, 0.001, 0.001, 0.001, 0.001, 0.001, 0.001, 0.001, 0.001, 0.001, 0.001, 0.001, 0.001, 0.001, 0.001, 0.001, 0.001, 0.001, 0.001, 0.001, 0.001, 0.001, 0.001, 0.001, 0.001, 0.001, 0.001, 0.001, 0.001, 0.001, 0.001, 0.001, 0.001, 0.001, 0.001, 0.001, 0.001, 0.001, 0.001, 0.001, 0.001, 0.001, 0.001, 0.001, 0.001, 0.001, 0.001, 0.001, 0.001, 0.001, 0.001, 0.001, 0.001, 0.001, 0.001, 0.001, 0.001, 0.001, 0.001, 0.001, 0.001, 0.001, 0.001, 0.001, 0.001, 0.001, 0.001, 0.001, 0.001, 0.001, 0.001, 0.001, 0.001, 0.001, 0.001, 0.001, 0.001, 0.001, 0.001, 0.001, 0.001, 0.001, 0.001, 0.001, 0.001, 0.001, 0.001, 0.001, 0.001, 0.001, 0.001, 0.001, 0.001, 0.001, 0.001, 0.001, 0.001, 0.001, 0.001, 0.001, 0.001, 0.001, 0.001, 0.001, 0.001, 0.001, 0.001, 0.001, 0.001, 0.001, 0.001, 0.001, 0.001, 0.001, 0.001, 0.001, 0.001, 0.001, 0.001, 0.001, 0.001, 0.001, 0.001, 0.001, 0.001, 0.001, 0.001, 0.001, 0.001, 0.001, 0.001, 0.001, 0.001, 0.001, 0.001, 0.001, 0.001, 0.001, 0.001, 0.001, 0.001, 0.001, 0.001, 0.001, 0.001, 0.001, 0.001, 0.001, 0.001, 0.001, 0.001, 0.001, 0.001, 0.001, 0.001, 0.001, 0.001, 0.001, 0.001, 0.001, 0.001, 0.001, 0.001, 0.001, 0.001, 0.001, 0.001, 0.001, 0.001, 0.001, 0.001, 0.001, 0.001, 0.001, 0.001, 0.001, 0.001, 0.001, 0.001, 0.001, 0.001, 0.001, 0.001, 0.001, 0.001, 0.001, 0.001, 0.001, 0.001, 0.001, 0.001, 0.001, 0.001, 0.001, 0.001, 0.001, 0.001, 0.001, 0.001, 0.001, 0.001, 0.001, 0.001, 0.001, 0.001, 0.001, 0.001, 0.001, 0.001, 0.001, 0.001, 0.001, 0.001, 0.001, 0.001, 0.001, 0.001, 0.001, 0.001, 0.001, 0.001, 0.001, 0.001, 0.001, 0.001, 0.001, 0.001, 0.001, 0.001, 0.001, 0.001, 0.001, 0.001, 0.001, 0.001, 0.001, 0.001, 0.001, 0.001, 0.001, 0.001, 0.001, 0.001, 0.001, 0.001, 0.001, 0.001, 0.001, 0.001, 0.001, 0.001, 0.001, 0.001, 0.001, 0.001, 0.001, 0.001, 0.001, 0.001, 0.001, 0.001, 0.001, 0.001, 0.001, 0.001, 0.001, 0.001, 0.001, 0.001, 0.001, 0.001, 0.001, 0.001, 0.001, 0.001, 0.001, 0.001, 0.001, 0.001, 0.001, 0.001, 0.001, 0.001, 0.001, 0.001, 0.001, 0.001, 0.001, 0.001, 0.001, 0.001, 0.001, 0.001, 0.001, 0.001, 0.001, 0.001, 0.001, 0.001, 0.001, 0.001, 0.001, 0.001, 0.001, 0.001, 0.001, 0.001, 0.001, 0.001, 0.001, 0.001, 0.001, 0.001, 0.001, 0.001, 0.001, 0.001, 0.001, 0.001, 0.001, 0.001, 0.001, 0.001, 0.001, 0.001, 0.001, 0.001, 0.001, 0.001, 0.001, 0.001, 0.001, 0.001, 0.001, 0.001, 0.001, 0.001, 0.001, 0.001, 0.001, 0.001, 0.001, 0.001, 0.001, 0.001, 0.001, 0.001, 0.001, 0.001, 0.001, 0.001, 0.001, 0.001, 0.001, 0.001, 0.001, 0.001, 0.001, 0.001, 0.001, 0.001, 0.001, 0.001, 0.001, 0.001, 0.001, 0.001, 0.001, 0.001, 0.001, 0.001, 0.001, 0.001, 0.001, 0.001, 0.001, 0.001, 0.001, 0.001, 0.001, 0.001, 0.001, 0.001, 0.001, 0.001, 0.001, 0.001, 0.001, 0.001, 0.001, 0.001, 0.001, 0.001, 0.001, 0.001, 0.001, 0.001, 0.001, 0.001, 0.001, 0.001, 0.001, 0.001, 0.001, 0.001, 0.001, 0.001, 0.001, 0.001, 0.001, 0.001, 0.001, 0.001, 0.001, 0.001, 0.001, 0.001, 0.001, 0.001, 0.001, 0.001, 0.001, 0.001, 0.001, 0.001, 0.001, 0.001, 0.001, 0.001, 0.001, 0.001, 0.001, 0.001, 0.001, 0.001, 0.001, 0.001, 0.001, 0.001, 0.001, 0.001, 0.001, 0.001, 0.001, 0.001, 0.001, 0.001, 0.001, 0.001, 0.001, 0.001, 0.001, 0.001, 0.001, 0.001, 0.001, 0.001, 0.001, 0.001, 0.001, 0.001, 0.001, 0.001, 0.001, 0.001, 0.001, 0.001, 0.001, 0.001, 0.001, 0.001, 0.001, 0.001, 0.001, 0.001, 0.001, 0.001, 0.001, 0.001, 0.001, 0.001, 0.001, 0.001, 0.001, 0.001, 0.001, 0.001, 0.001, 0.001, 0.001, 0.001, 0.001, 0.001, 0.001, 0.001, 0.001, 0.001, 0.001, 0.001, 0.001, 0.001, 0.001, 0.001, 0.001, 0.001, 0.001, 0.001, 0.001, 0.001, 0.001, 0.001, 0.001, 0.001, 0.001, 0.001, 0.001, 0.001, 0.001, 0.001, 0.001, 0.001, 0.001, 0.001, 0.001, 0.001, 0.001, 0.001, 0.001, 0.001, 0.001, 0.001, 0.001, 0.001, 0.001, 0.001, 0.001, 0.001, 0.001, 0.001, 0.001, 0.001, 0.001, 0.001, 0.001, 0.001, 0.001, 0.001, 0.001, 0.001, 0.001, 0.001, 0.001, 0.001, 0.001, 0.001, 0.001, 0.001, 0.001, 0.001, 0.001, 0.001, 0.001, 0.001, 0.001, 0.001, 0.001, 0.001, 0.001, 0.001, 0.001, 0.001, 0.001, 0.001, 0.001, 0.001, 0.001, 0.001, 0.001, 0.001, 0.001, 0.001, 0.001, 0.001, 0.001, 0.001, 0.001, 0.001, 0.001, 0.001, 0.001, 0.001, 0.001, 0.001, 0.001, 0.001, 0.001, 0.001, 0.001, 0.001, 0.001, 0.001, 0.001, 0.001, 0.001, 0.001, 0.001, 0.001, 0.001, 0.001, 0.001, 0.001, 0.001, 0.001, 0.001, 0.001, 0.001, 0.001, 0.001, 0.001, 0.001, 0.001, 0.001, 0.001, 0.001, 0.001, 0.001, 0.001, 0.001, 0.001, 0.001, 0.001, 0.001, 0.001, 0.001, 0.001, 0.001, 0.001, 0.001, 0.001, 0.001, 0.001, 0.001, 0.001, 0.001, 0.001, 0.001, 0.001, 0.001, 0.001, 0.001, 0.001, 0.001, 0.001, 0.001, 0.001, 0.001, 0.001, 0.001, 0.001, 0.001, 0.001, 0.001, 0.001, 0.001, 0.001, 0.001, 0.001, 0.001, 0.001, 0.001, 0.001, 0.001, 0.001, 0.001, 0.001, 0.001, 0.001, 0.001, 0.001, 0.001, 0.001, 0.001, 0.001, 0.001, 0.001, 0.001, 0.001, 0.001, 0.001, 0.001, 0.001, 0.001, 0.001, 0.001, 0.001, 0.001, 0.001, 0.001, 0.001, 0.001, 0.001, 0.001, 0.001, 0.001, 0.001, 0.001, 0.001, 0.001, 0.001, 0.001, 0.001, 0.001, 0.001, 0.001, 0.001, 0.001, 0.001, 0.001, 0.001, 0.001, 0.001, 0.001, 0.001, 0.001, 0.001, 0.001, 0.001, 0.001, 0.001, 0.001, 0.001, 0.001, 0.001, 0.001, 0.001, 0.001, 0.001, 0.001, 0.001, 0.001, 0.001, 0.001, 0.001, 0.001, 0.001, 0.001, 0.001, 0.001, 0.001, 0.001, 0.001, 0.001, 0.001, 0.001, 0.001, 0.001, 0.001, 0.001, 0.001, 0.001, 0.001, 0.001, 0.001, 0.001, 0.001, 0.001, 0.001, 0.001, 0.001, 0.001, 0.001, 0.001, 0.001, 0.001, 0.001, 0.001, 0.001, 0.001, 0.001, 0.001, 0.001, 0.001, 0.001, 0.001, 0.001, 0.001, 0.001, 0.001, 0.001, 0.001, 0.001, 0.001, 0.001, 0.001, 0.001, 0.001, 0.001, 0.001, 0.001, 0.001, 0.001, 0.001, 0.001, 0.001, 0.001, 0.001, 0.001, 0.001, 0.001, 0.001, 0.001, 0.001, 0.001, 0.001, 0.001, 0.001, 0.001, 0.001, 0.001, 0.001, 0.001, 0.001, 0.001, 0.001, 0.001, 0.001, 0.001, 0.001, 0.001, 0.001, 0.001, 0.001, 0.001, 0.001, 0.001, 0.001, 0.001, 0.001, 0.001, 0.001, 0.001, 0.001, 0.001, 0.001, 0.001, 0.001, 0.001, 0.001, 0.001, 0.001, 0.001, 0.001, 0.001, 0.001, 0.001, 0.001, 0.001, 0.001, 0.001, 0.001, 0.001, 0.001, 0.001, 0.001, 0.001, 0.001, 0.001, 0.001, 0.001, 0.001, 0.001, 0.001, 0.001, 0.001, 0.001, 0.001, 0.001, 0.001, 0.001, 0.001, 0.001, 0.001, 0.001, 0.001, 0.001, 0.001, 0.001, 0.001, 0.001, 0.001, 0.001, 0.001, 0.001, 0.001, 0.001, 0.001, 0.001, 0.001, 0.001, 0.001, 0.001, 0.001, 0.001, 0.001, 0.001, 0.001, 0.001, 0.001, 0.001, 0.001, 0.001, 0.001, 0.001, 0.001, 0.001, 0.001, 0.001, 0.001, 0.001, 0.001, 0.001, 0.001, 0.001, 0.001, 0.001, 0.001, 0.001, 0.001, 0.001, 0.001, 0.001, 0.001, 0.001, 0.001, 0.001, 0.001, 0.001, 0.001, 0.001, 0.001, 0.001, 0.001, 0.001, 0.001, 0.001, 0.001, 0.001, 0.001, 0.001, 0.001, 0.001, 0.001, 0.001, 0.001, 0.001, 0.001, 0.001, 0.001, 0.001, 0.001, 0.001, 0.001, 0.001, 0.001, 0.001, 0.001, 0.001, 0.001, 0.001, 0.001, 0.001, 0.001, 0.001, 0.001, 0.001, 0.001, 0.001, 0.001, 0.001, 0.001, 0.001, 0.001, 0.001, 0.001, 0.001, 0.001, 0.001, 0.001, 0.001, 0.001, 0.001, 0.001, 0.001, 0.001, 0.001, 0.001, 0.001, 0.001, 0.001, 0.001, 0.001, 0.001, 0.001, 0.001, 0.001, 0.001, 0.001, 0.001, 0.001, 0.001, 0.001, 0.001, 0.001, 0.001, 0.001, 0.001, 0.001, 0.001, 0.001, 0.001, 0.001, 0.001, 0.001, 0.001, 0.001, 0.001, 0.001, 0.001, 0.001, 0.001, 0.001, 0.001, 0.001, 0.001, 0.001, 0.001, 0.001, 0.001, 0.001, 0.001, 0.001, 0.001, 0.001, 0.001, 0.001, 0.001, 0.001, 0.001, 0.001, 0.001, 0.001, 0.001, 0.001, 0.001, 0.001, 0.001, 0.001, 0.001, 0.001, 0.001, 0.001, 0.001, 0.001, 0.001, 0.001, 0.001, 0.001, 0.001, 0.001, 0.001, 0.001, 0.001, 0.001, 0.001, 0.001, 0.001, 0.001, 0.001, 0.001, 0.001, 0.001, 0.001, 0.001, 0.001, 0.001, 0.001, 0.001, 0.001, 0.001, 0.001, 0.001, 0.001, 0.001, 0.001, 0.001, 0.001, 0.001, 0.001, 0.001, 0.001, 0.001, 0.001, 0.001, 0.001, 0.001, 0.001, 0.001, 0.001, 0.001, 0.001, 0.001, 0.001, 0.001, 0.001, 0.001, 0.001, 0.001, 0.001, 0.001, 0.001, 0.001, 0.001, 0.001, 0.001, 0.001, 0.001, 0.001, 0.001, 0.001, 0.001, 0.001, 0.001, 0.001, 0.001, 0.001, 0.001, 0.001, 0.001, 0.001, 0.001, 0.001, 0.001, 0.001, 0.001, 0.001, 0.001, 0.001, 0.001, 0.001, 0.001, 0.001, 0.001, 0.001, 0.001, 0.001, 0.001, 0.001, 0.001, 0.001, 0.001, 0.001, 0.001, 0.001, 0.001, 0.001, 0.001, 0.001, 0.001, 0.001, 0.001, 0.001, 0.001, 0.001, 0.001, 0.001, 0.001, 0.001, 0.001, 0.001, 0.001, 0.001, 0.001, 0.001, 0.001, 0.001, 0.001, 0.001, 0.001, 0.001, 0.001, 0.001, 0.001, 0.001, 0.001, 0.001, 0.001, 0.001, 0.001, 0.001, 0.001, 0.001, 0.001, 0.001, 0.001, 0.001, 0.001, 0.001, 0.001, 0.001, 0.001, 0.001, 0.001, 0.001, 0.001, 0.001, 0.001, 0.001, 0.001, 0.001, 0.001, 0.001, 0.001, 0.001, 0.001, 0.001, 0.001, 0.001, 0.001, 0.001, 0.001, 0.001, 0.001, 0.001, 0.001, 0.001, 0.001, 0.001, 0.001, 0.001, 0.001, 0.001, 0.001, 0.001, 0.001, 0.001, 0.001, 0.001, 0.001, 0.001, 0.001, 0.001, 0.001, 0.001, 0.001, 0.001, 0.001, 0.001, 0.001, 0.001, 0.001, 0.001, 0.001, 0.001, 0.001, 0.001, 0.001, 0.001, 0.001, 0.001, 0.001, 0.001, 0.001, 0.001, 0.001, 0.001, 0.001, 0.001, 0.001, 0.001, 0.001, 0.001, 0.001, 0.001, 0.001, 0.001, 0.001, 0.001, 0.001, 0.001, 0.001, 0.001, 0.001, 0.001, 0.001, 0.001, 0.001, 0.001, 0.001, 0.001, 0.001, 0.001, 0.001, 0.001, 0.001, 0.001, 0.001, 0.001, 0.001, 0.001, 0.001, 0.001, 0.001, 0.001, 0.001, 0.001, 0.001, 0.001, 0.001, 0.001, 0.001, 0.001, 0.001, 0.001, 0.001, 0.001, 0.001, 0.001, 0.001, 0.001, 0.001, 0.001, 0.001, 0.001, 0.001, 0.001, 0.001, 0.001, 0.001, 0.001, 0.001, 0.001, 0.001, 0.001, 0.001, 0.001, 0.001, 0.001, 0.001, 0.001, 0.001, 0.001, 0.001, 0.001, 0.001, 0.001, 0.001, 0.001, 0.001, 0.001, 0.001, 0.001, 0.001, 0.001, 0.001, 0.001, 0.001, 0.001, 0.001, 0.001, 0.001, 0.001, 0.001, 0.001, 0.001, 0.001, 0.001, 0.001, 0.001, 0.001, 0.001, 0.001, 0.001, 0.001, 0.001, 0.001, 0.001, 0.001, 0.001, 0.001, 0.001, 0.001, 0.001, 0.001, 0.001, 0.001, 0.001, 0.001, 0.001, 0.001, 0.001, 0.001, 0.001, 0.001, 0.001, 0.001, 0.001, 0.001, 0.001, 0.001, 0.001, 0.001, 0.001, 0.001, 0.001, 0.001, 0.001, 0.001, 0.001, 0.001, 0.001, 0.001, 0.001, 0.001, 0.001, 0.001, 0.001, 0.001, 0.001, 0.001, 0.001, 0.001, 0.001, 0.001, 0.001, 0.001, 0.001, 0.001, 0.001, 0.001, 0.001, 0.001, 0.001, 0.001, 0.001, 0.001, 0.001, 0.001, 0.001, 0.001, 0.001, 0.001, 0.001, 0.001, 0.001, 0.001, 0.001, 0.001, 0.001, 0.001, 0.001, 0.001, 0.001, 0.001, 0.001, 0.001, 0.001, 0.001, 0.001, 0.001, 0.001, 0.001, 0.001, 0.001, 0.001, 0.001, 0.001, 0.001, 0.001, 0.001, 0.001, 0.001, 0.001, 0.001, 0.001, 0.001, 0.001, 0.001, 0.001, 0.001, 0.001, 0.001, 0.001, 0.001, 0.001, 0.001, 0.001, 0.001, 0.001, 0.001, 0.001, 0.001, 0.001, 0.001, 0.001, 0.001, 0.001, 0.001, 0.001, 0.001, 0.001, 0.001, 0.001, 0.001, 0.001, 0.001, 0.001, 0.001, 0.001, 0.001, 0.001, 0.001, 0.001, 0.001, 0.001, 0.001, 0.001, 0.001, 0.001, 0.001, 0.001, 0.001, 0.001, 0.001, 0.001, 0.001, 0.001, 0.001, 0.001, 0.001, 0.001, 0.001, 0.001, 0.001, 0.001, 0.001, 0.001, 0.001, 0.001, 0.001, 0.001, 0.001, 0.001, 0.001, 0.001, 0.001, 0.001, 0.001, 0.001, 0.001, 0.001, 0.001, 0.001, 0.001, 0.001, 0.001, 0.001, 0.001, 0.001, 0.001, 0.001, 0.001, 0.001, 0.001, 0.001, 0.001, 0.001, 0.001, 0.001, 0.001, 0.001, 0.001, 0.001, 0.001, 0.001, 0.001, 0.001, 0.001, 0.001, 0.001, 0.001, 0.001, 0.001, 0.001, 0.001, 0.001, 0.001, 0.001, 0.001, 0.001, 0.001, 0.001, 0.001, 0.001, 0.001, 0.001, 0.001, 0.001, 0.001, 0.001, 0.001, 0.001, 0.001, 0.001, 0.001, 0.001, 0.001, 0.001, 0.001, 0.001, 0.001, 0.001, 0.001, 0.001, 0.001, 0.001, 0.001, 0.001, 0.001, 0.001, 0.001, 0.001, 0.001, 0.001, 0.001, 0.001, 0.001, 0.001, 0.001, 0.001, 0.001, 0.001, 0.001, 0.001, 0.001, 0.001, 0.001, 0.001, 0.001, 0.001, 0.001, 0.001, 0.001, 0.001, 0.001, 0.001, 0.001, 0.001, 0.001, 0.001, 0.001, 0.001, 0.001, 0.001, 0.001, 0.001, 0.001, 0.001, 0.001, 0.001, 0.001, 0.001, 0.001, 0.001, 0.001, 0.001, 0.001, 0.001, 0.001, 0.001, 0.001, 0.001, 0.001, 0.001, 0.001, 0.001, 0.001, 0.001, 0.001, 0.001, 0.001, 0.001, 0.001, 0.001, 0.001, 0.001, 0.001, 0.001, 0.001, 0.001, 0.001, 0.001, 0.001, 0.001, 0.001, 0.001, 0.001, 0.001, 0.001, 0.001, 0.001, 0.001, 0.001, 0.001, 0.001, 0.001, 0.001, 0.001, 0.001, 0.001, 0.001, 0.001, 0.001, 0.001, 0.001, 0.001, 0.001, 0.001, 0.001, 0.001, 0.001, 0.001, 0.001, 0.001, 0.001, 0.001, 0.001, 0.001, 0.001, 0.001, 0.001, 0.001, 0.001, 0.001, 0.001, 0.001, 0.001, 0.001, 0.001, 0.001, 0.001, 0.001, 0.001, 0.001, 0.001, 0.001, 0.001, 0.001, 0.001, 0.001, 0.001, 0.001, 0.001, 0.001, 0.001, 0.001, 0.001, 0.001, 0.001, 0.001, 0.001, 0.001, 0.001, 0.001, 0.001, 0.001, 0.001, 0.001, 0.001, 0.001, 0.001, 0.001, 0.001, 0.001, 0.001, 0.001, 0.001, 0.001, 0.001, 0.001, 0.001, 0.001, 0.001, 0.001, 0.001, 0.001, 0.001, 0.001, 0.001, 0.001, 0.001, 0.001, 0.001, 0.001, 0.001, 0.001, 0.001, 0.001, 0.001, 0.001, 0.001, 0.001, 0.001, 0.001, 0.001, 0.001, 0.001, 0.001, 0.001, 0.001, 0.001, 0.001, 0.001, 0.001, 0.001, 0.001, 0.001, 0.001, 0.001, 0.001, 0.001, 0.001, 0.001, 0.001, 0.001, 0.001, 0.001, 0.001, 0.001, 0.001, 0.001, 0.001, 0.001, 0.001, 0.001, 0.001, 0.001, 0.001, 0.001, 0.001, 0.001, 0.001, 0.001, 0.001, 0.001, 0.001, 0.001, 0.001, 0.001, 0.001, 0.001, 0.001, 0.001, 0.001, 0.001, 0.001, 0.001, 0.001, 0.001, 0.001, 0.001, 0.001, 0.001, 0.001, 0.001, 0.001, 0.001, 0.001, 0.001, 0.001, 0.001, 0.001, 0.001, 0.001, 0.001, 0.001, 0.001, 0.001, 0.001, 0.001, 0.001, 0.001, 0.001, 0.001, 0.001, 0.001, 0.001, 0.001, 0.001, 0.001, 0.001, 0.001, 0.001, 0.001, 0.001, 0.001, 0.001, 0.001, 0.001, 0.001, 0.001, 0.001, 0.001, 0.001, 0.001, 0.001, 0.001, 0.001, 0.001, 0.001, 0.001, 0.001, 0.001, 0.001, 0.001, 0.001, 0.001, 0.001, 0.001, 0.001, 0.001, 0.001, 0.001, 0.001, 0.001, 0.001, 0.001, 0.001, 0.001, 0.001, 0.001, 0.001, 0.001, 0.001, 0.001, 0.001, 0.001, 0.001, 0.001, 0.001, 0.001, 0.001, 0.001, 0.001, 0.001, 0.001, 0.001, 0.001, 0.001, 0.001, 0.001, 0.001, 0.001, 0.001, 0.001, 0.001, 0.001, 0.001, 0.001, 0.001, 0.001, 0.001, 0.001, 0.001, 0.001, 0.001, 0.001, 0.001, 0.001, 0.001, 0.001, 0.001, 0.001, 0.001, 0.001, 0.001, 0.001, 0.001, 0.001, 0.001, 0.001, 0.001, 0.001, 0.001, 0.001, 0.001, 0.001, 0.001, 0.001, 0.001, 0.001, 0.001, 0.001, 0.001, 0.001, 0.001, 0.001, 0.001, 0.001, 0.001, 0.001, 0.001, 0.001, 0.001, 0.001, 0.001, 0.001, 0.001, 0.001, 0.001, 0.001, 0.001, 0.001, 0.001, 0.001, 0.001, 0.001, 0.001, 0.001, 0.001, 0.001, 0.001, 0.001, 0.001, 0.001, 0.001, 0.001, 0.001, 0.001, 0.001, 0.001, 0.001, 0.001, 0.001, 0.001, 0.001, 0.001, 0.001, 0.001, 0.001, 0.001, 0.001, 0.001, 0.001, 0.001, 0.001, 0.001, 0.001, 0.001, 0.001, 0.001, 0.001, 0.001, 0.001, 0.001, 0.001, 0.001, 0.001, 0.001, 0.001, 0.001, 0.001, 0.001, 0.001, 0.001, 0.001, 0.001, 0.001, 0.001, 0.001, 0.001, 0.001, 0.001, 0.001, 0.001, 0.001, 0.001, 0.001, 0.001, 0.001, 0.001, 0.001, 0.001, 0.001, 0.001, 0.001, 0.001, 0.001, 0.001, 0.001, 0.001, 0.001, 0.001, 0.001, 0.001, 0.001, 0.001, 0.001, 0.001, 0.001, 0.001, 0.001, 0.001, 0.001, 0.001, 0.001, 0.001, 0.001, 0.001, 0.001, 0.001, 0.001, 0.001, 0.001, 0.001, 0.001, 0.001, 0.001, 0.001, 0.001, 0.001, 0.001, 0.001, 0.001, 0.001, 0.001, 0.001, 0.001, 0.001, 0.001, 0.001, 0.001, 0.001, 0.001, 0.001, 0.001, 0.001, 0.001, 0.001, 0.001, 0.001, 0.001, 0.001, 0.001, 0.001, 0.001, 0.001, 0.001, 0.001, 0.001, 0.001, 0.001, 0.001, 0.001, 0.001, 0.001, 0.001, 0.001, 0.001, 0.001, 0.001, 0.001, 0.001, 0.001, 0.001, 0.001, 0.001, 0.001, 0.001, 0.001, 0.001, 0.001, 0.001, 0.001, 0.001, 0.001, 0.001, 0.001, 0.001, 0.001, 0.001, 0.001, 0.001, 0.001, 0.001, 0.001, 0.001, 0.001, 0.001, 0.001, 0.001, 0.001, 0.001, 0.001, 0.001, 0.001, 0.001, 0.001, 0.001, 0.001, 0.001, 0.001, 0.001, 0.001, 0.001, 0.001, 0.001, 0.001, 0.001, 0.001, 0.001, 0.001, 0.001, 0.001, 0.001, 0.001, 0.001, 0.001, 0.001, 0.001, 0.001, 0.001, 0.001, 0.001, 0.001, 0.001, 0.001, 0.001, 0.001, 0.001, 0.001, 0.001, 0.001, 0.001, 0.001, 0.001, 0.001, 0.001, 0.001, 0.001, 0.001, 0.001, 0.001, 0.001, 0.001, 0.001, 0.001, 0.001, 0.001, 0.001, 0.001, 0.001, 0.001, 0.001, 0.001, 0.001, 0.001, 0.001, 0.001, 0.001, 0.001, 0.001, 0.001, 0.001, 0.001, 0.001, 0.001, 0.001, 0.001, 0.001, 0.001, 0.001, 0.001, 0.001, 0.001, 0.001, 0.001, 0.001, 0.001, 0.001, 0.001, 0.001, 0.001, 0.001, 0.001, 0.001, 0.001, 0.001, 0.001, 0.001, 0.001, 0.001, 0.001, 0.001, 0.001, 0.001, 0.001, 0.001, 0.001, 0.001, 0.001, 0.001, 0.001, 0.001, 0.001, 0.001, 0.001, 0.001, 0.001, 0.001, 0.001, 0.001, 0.001, 0.001, 0.001, 0.001, 0.001, 0.001, 0.001, 0.001, 0.001, 0.001, 0.001, 0.001, 0.001, 0.001, 0.001, 0.001, 0.001, 0.001, 0.001, 0.001, 0.001, 0.001, 0.001, 0.001, 0.001, 0.001, 0.001, 0.001, 0.001, 0.001, 0.001, 0.001, 0.001, 0.001, 0.001, 0.001, 0.001, 0.001, 0.001, 0.001, 0.001, 0.001, 0.001, 0.001, 0.001, 0.001, 0.001, 0.001, 0.001, 0.001, 0.001, 0.001, 0.001, 0.001, 0.001, 0.001, 0.001, 0.001, 0.001, 0.001, 0.001, 0.001, 0.001, 0.001, 0.001, 0.001, 0.001, 0.001, 0.001, 0.001, 0.001, 0.001, 0.001, 0.001, 0.001, 0.001, 0.001, 0.001, 0.001, 0.001, 0.001, 0.001, 0.001, 0.001, 0.001, 0.001, 0.001, 0.001, 0.001, 0.001, 0.001, 0.001, 0.001, 0.001, 0.001, 0.001, 0.001, 0.001, 0.001, 0.001, 0.001, 0.001, 0.001, 0.001, 0.001, 0.001, 0.001, 0.001, 0.001, 0.001, 0.001, 0.001, 0.001, 0.001, 0.001, 0.001, 0.001, 0.001, 0.001, 0.001, 0.001, 0.001, 0.001, 0.001, 0.001, 0.001, 0.001, 0.001, 0.001, 0.001, 0.001, 0.001, 0.001, 0.001, 0.001, 0.001, 0.001, 0.001, 0.001, 0.001, 0.001, 0.001, 0.001, 0.001, 0.001, 0.001, 0.001, 0.001, 0.001, 0.001, 0.001, 0.001, 0.001, 0.001, 0.001, 0.001, 0.001, 0.001, 0.001, 0.001, 0.001, 0.001, 0.001, 0.001, 0.001, 0.001, 0.001, 0.001, 0.001, 0.001, 0.001, 0.001, 0.001, 0.001, 0.001, 0.001, 0.001, 0.001, 0.001, 0.001, 0.001, 0.001, 0.001, 0.001, 0.001, 0.001, 0.001, 0.001, 0.001, 0.001, 0.001, 0.001, 0.001, 0.001, 0.001, 0.001, 0.001, 0.001, 0.001, 0.001, 0.001, 0.001, 0.001, 0.001, 0.001, 0.001, 0.001, 0.001, 0.001, 0.001, 0.001, 0.001, 0.001, 0.001, 0.001, 0.001, 0.001, 0.001, 0.001, 0.001, 0.001, 0.001, 0.001, 0.001, 0.001, 0.001, 0.001, 0.001, 0.001, 0.001, 0.001, 0.001, 0.001, 0.001, 0.001, 0.001, 0.001, 0.001, 0.001, 0.001, 0.001, 0.001, 0.001, 0.001, 0.001, 0.001, 0.001, 0.001, 0.001, 0.001, 0.001, 0.001, 0.001, 0.001, 0.001, 0.001, 0.001, 0.001, 0.001, 0.001, 0.001, 0.001, 0.001, 0.001, 0.001, 0.001, 0.001, 0.001, 0.001, 0.001, 0.001, 0.001, 0.001, 0.001, 0.001, 0.001, 0.001, 0.001, 0.001, 0.001, 0.001, 0.001, 0.001, 0.001, 0.001, 0.001, 0.001, 0.001, 0.001, 0.001, 0.001, 0.001, 0.001, 0.001, 0.001, 0.001, 0.001, 0.001, 0.001, 0.001, 0.001, 0.001, 0.001, 0.001, 0.001, 0.001, 0.001, 0.001, 0.001, 0.001, 0.001, 0.001, 0.001, 0.001, 0.001, 0.001, 0.001, 0.001, 0.001, 0.001, 0.001, 0.001, 0.001, 0.001, 0.001, 0.001, 0.001, 0.001, 0.001, 0.001, 0.001, 0.001, 0.001, 0.001, 0.001, 0.001, 0.001, 0.001, 0.001, 0.001, 0.001, 0.001, 0.001, 0.001, 0.001, 0.001, 0.001, 0.001, 0.001, 0.001, 0.001, 0.001, 0.001, 0.001, 0.001, 0.001, 0.001, 0.001, 0.001, 0.001, 0.001, 0.001, 0.001, 0.001, 0.001, 0.001, 0.001, 0.001, 0.001, 0.001, 0.001, 0.001, 0.001, 0.001, 0.001, 0.001, 0.001, 0.001, 0.001, 0.001, 0.001, 0.001, 0.001, 0.001, 0.001, 0.001, 0.001, 0.001, 0.001, 0.001, 0.001, 0.001, 0.001, 0.001, 0.001, 0.001, 0.001, 0.001, 0.001, 0.001, 0.001, 0.001, 0.001, 0.001, 0.001, 0.001, 0.001, 0.001, 0.001, 0.001, 0.001, 0.001, 0.001, 0.001, 0.001, 0.001, 0.001, 0.001, 0.001, 0.001, 0.001, 0.001, 0.001, 0.001, 0.001, 0.001, 0.001, 0.001, 0.001, 0.001, 0.001, 0.001, 0.001, 0.001, 0.001, 0.001, 0.001, 0.001, 0.001, 0.001, 0.001, 0.001, 0.001, 0.001, 0.001, 0.001, 0.001, 0.001, 0.001, 0.001, 0.001, 0.001, 0.001, 0.001, 0.001, 0.001, 0.001, 0.001, 0.001, 0.001, 0.001, 0.001, 0.001, 0.001, 0.001, 0.001, 0.001, 0.001, 0.001, 0.001, 0.001, 0.001, 0.001, 0.001, 0.001, 0.001, 0.001, 0.001, 0.001, 0.001, 0.001, 0.001, 0.001, 0.001, 0.001, 0.001, 0.001, 0.001, 0.001, 0.001, 0.001, 0.001, 0.001, 0.001, 0.001, 0.001, 0.001, 0.001, 0.001, 0.001, 0.001, 0.001, 0.001, 0.001, 0.001, 0.001, 0.001, 0.001, 0.001, 0.001, 0.001, 0.001, 0.001, 0.001, 0.001, 0.001, 0.001, 0.001, 0.001, 0.001, 0.001, 0.001, 0.001, 0.001, 0.001, 0.001, 0.001, 0.001, 0.001, 0.001, 0.001, 0.001, 0.001, 0.001, 0.001, 0.001, 0.001, 0.001, 0.001, 0.001, 0.001, 0.001, 0.001, 0.001, 0.001, 0.001, 0.001, 0.001, 0.001, 0.001, 0.001, 0.001, 0.001, 0.001, 0.001, 0.001, 0.001, 0.001, 0.001, 0.001, 0.001, 0.001, 0.001, 0.001, 0.001, 0.001, 0.001, 0.001, 0.001, 0.001, 0.001, 0.001, 0.001, 0.001, 0.001, 0.001, 0.001, 0.001, 0.001, 0.001, 0.001, 0.001, 0.001, 0.001, 0.001, 0.001, 0.001, 0.001, 0.001, 0.001, 0.001, 0.001, 0.001, 0.001, 0.001, 0.001, 0.001, 0.001, 0.001, 0.001, 0.001, 0.001, 0.001, 0.001, 0.001, 0.001, 0.001, 0.001, 0.001, 0.001, 0.001, 0.001, 0.001, 0.001, 0.001, 0.001, 0.001, 0.001, 0.001, 0.001, 0.001, 0.001, 0.001, 0.001, 0.001, 0.001, 0.001, 0.001, 0.001, 0.001, 0.001, 0.001, 0.001, 0.001, 0.001, 0.001, 0.001, 0.001, 0.001, 0.001, 0.001, 0.001, 0.001, 0.001, 0.001, 0.001, 0.001, 0.001, 0.001, 0.001, 0.001, 0.001, 0.001, 0.001, 0.001, 0.001, 0.001, 0.001, 0.001, 0.001, 0.001, 0.001, 0.001, 0.001, 0.001, 0.001, 0.001, 0.001, 0.001, 0.001, 0.001, 0.001, 0.001, 0.001, 0.001, 0.001, 0.001, 0.001, 0.001, 0.001, 0.001, 0.001, 0.001, 0.001, 0.001, 0.001, 0.001, 0.001, 0.001, 0.001, 0.001, 0.001, 0.001, 0.001, 0.001, 0.001, 0.001, 0.001, 0.001, 0.001, 0.001, 0.001, 0.001, 0.001, 0.001, 0.001, 0.001, 0.001, 0.001, 0.001, 0.001, 0.001, 0.001, 0.001, 0.001, 0.001, 0.001, 0.001, 0.001, 0.001, 0.001, 0.001, 0.001, 0.001, 0.001, 0.001, 0.001, 0.001, 0.001, 0.001, 0.001, 0.001, 0.001, 0.001, 0.001, 0.001, 0.001, 0.001, 0.001, 0.001, 0.001, 0.001, 0.001, 0.001, 0.001, 0.001, 0.001, 0.001, 0.001, 0.001, 0.001, 0.001, 0.001, 0.001, 0.001, 0.001, 0.001, 0.001, 0.001, 0.001, 0.001, 0.001, 0.001, 0.001, 0.001, 0.001, 0.001, 0.001, 0.001, 0.001, 0.001, 0.001, 0.001, 0.001, 0.001, 0.001, 0.001, 0.001, 0.001, 0.001, 0.001, 0.001, 0.001, 0.001, 0.001, 0.001, 0.001, 0.001, 0.001, 0.001, 0.001, 0.001, 0.001, 0.001, 0.001, 0.001, 0.001, 0.001, 0.001, 0.001, 0.001, 0.001, 0.001, 0.001, 0.001, 0.001, 0.001, 0.001, 0.001, 0.001, 0.001, 0.001, 0.001, 0.001, 0.001, 0.001, 0.001, 0.001, 0.001, 0.001, 0.001, 0.001, 0.001, 0.001, 0.001, 0.001, 0.001, 0.001, 0.001, 0.001, 0.001, 0.001, 0.001, 0.001, 0.001, 0.001, 0.001, 0.001, 0.001, 0.001, 0.001, 0.001, 0.001, 0.001, 0.001, 0.001, 0.001, 0.001, 0.001, 0.001, 0.001, 0.001, 0.001, 0.001, 0.001, 0.001, 0.001, 0.001, 0.001, 0.001, 0.001, 0.001, 0.001, 0.001, 0.001, 0.001, 0.001, 0.001, 0.001, 0.001, 0.001, 0.001, 0.001, 0.001, 0.001, 0.001, 0.001, 0.001, 0.001, 0.001, 0.001, 0.001, 0.001, 0.001, 0.001, 0.001, 0.001, 0.001, 0.001, 0.001, 0.001, 0.001, 0.001, 0.001, 0.001, 0.001, 0.001, 0.001, 0.001, 0.001, 0.001, 0.001, 0.001, 0.001, 0.001, 0.001, 0.001, 0.001, 0.001, 0.001, 0.001, 0.001, 0.001, 0.001, 0.001, 0.001, 0.001, 0.001, 0.001, 0.001, 0.001, 0.001, 0.001, 0.001, 0.001, 0.001, 0.001, 0.001, 0.001, 0.001, 0.001, 0.001, 0.001, 0.001, 0.001, 0.001, 0.001, 0.001, 0.001, 0.001, 0.001, 0.001, 0.001, 0.001, 0.001, 0.001, 0.001, 0.001, 0.001, 0.001, 0.001, 0.001, 0.001, 0.001, 0.001, 0.001, 0.001, 0.001, 0.001, 0.001, 0.001, 0.001, 0.001, 0.001, 0.001, 0.001, 0.001, 0.001, 0.001, 0.001, 0.001, 0.001, 0.001, 0.001, 0.001, 0.001, 0.001, 0.001, 0.001, 0.001, 0.001, 0.001, 0.001, 0.001, 0.001, 0.001, 0.001, 0.001, 0.001, 0.001, 0.001, 0.001, 0.001, 0.001, 0.001, 0.001, 0.001, 0.001, 0.001, 0.001, 0.001, 0.001, 0.001, 0.001, 0.001, 0.001, 0.001, 0.001, 0.001, 0.001, 0.001, 0.001, 0.001, 0.001, 0.001, 0.001, 0.001, 0.001, 0.001, 0.001, 0.001, 0.001, 0.001, 0.001, 0.001, 0.001, 0.001, 0.001, 0.001, 0.001, 0.001, 0.001, 0.001, 0.001, 0.001, 0.001, 0.001, 0.001, 0.001, 0.001, 0.001, 0.001, 0.001, 0.001, 0.001, 0.001, 0.001, 0.001, 0.001, 0.001, 0.001, 0.001, 0.001, 0.001, 0.001, 0.001, 0.001, 0.001, 0.001, 0.001, 0.001, 0.001, 0.001, 0.001, 0.001, 0.001, 0.001, 0.001, 0.001, 0.001, 0.001, 0.001, 0.001, 0.001, 0.001, 0.001, 0.001, 0.001, 0.001, 0.001, 0.001, 0.001, 0.001, 0.001, 0.001, 0.001, 0.001, 0.001, 0.001, 0.001, 0.001, 0.001, 0.001, 0.001, 0.001, 0.001, 0.001, 0.001, 0.001, 0.001, 0.001, 0.001, 0.001, 0.001, 0.001, 0.001, 0.001, 0.001, 0.001, 0.001, 0.001, 0.001, 0.001, 0.001, 0.001, 0.001, 0.001, 0.001, 0.001, 0.001, 0.001, 0.001, 0.001, 0.001, 0.001, 0.001, 0.001, 0.001, 0.001, 0.001, 0.001, 0.001, 0.001, 0.001, 0.001, 0.001, 0.001, 0.001, 0.001, 0.001, 0.001, 0.001, 0.001, 0.001, 0.001, 0.001, 0.001, 0.001, 0.001, 0.001, 0.001, 0.001, 0.001, 0.001, 0.001, 0.001, 0.001, 0.001, 0.001, 0.001, 0.001, 0.001, 0.001, 0.001, 0.001, 0.001, 0.001, 0.001, 0.001, 0.001, 0.001, 0.001, 0.001, 0.001, 0.001, 0.001, 0.001, 0.001, 0.001, 0.001, 0.001, 0.001, 0.001, 0.001, 0.001, 0.001, 0.001, 0.001, 0.001, 0.001, 0.001, 0.001, 0.001, 0.001, 0.001, 0.001, 0.001, 0.001, 0.001, 0.001, 0.001, 0.001, 0.001, 0.001, 0.001, 0.001, 0.001, 0.001, 0.001, 0.001, 0.001, 0.001, 0.001, 0.001, 0.001, 0.001, 0.001, 0.001, 0.001, 0.001, 0.001, 0.001, 0.001, 0.001, 0.001, 0.001, 0.001, 0.001, 0.001, 0.001, 0.001, 0.001, 0.001, 0.001, 0.001, 0.001, 0.001, 0.001, 0.001, 0.001, 0.001, 0.001, 0.001, 0.001, 0.001, 0.001, 0.001, 0.001, 0.001, 0.001, 0.001, 0.001, 0.001, 0.001, 0.001, 0.001, 0.001, 0.001, 0.001, 0.001, 0.001, 0.001, 0.001, 0.001, 0.001, 0.001, 0.001, 0.001, 0.001, 0.001, 0.001, 0.001, 0.001, 0.001, 0.001, 0.001, 0.001, 0.001, 0.001, 0.001, 0.001, 0.001, 0.001, 0.001, 0.001, 0.001, 0.001, 0.001, 0.001, 0.001, 0.001, 0.001, 0.001, 0.001, 0.001, 0.001, 0.001, 0.001, 0.001, 0.001, 0.001, 0.001, 0.001, 0.001, 0.001, 0.001, 0.001, 0.001, 0.001, 0.001, 0.001, 0.001, 0.001, 0.001, 0.001, 0.001, 0.001, 0.001, 0.001, 0.001, 0.001, 0.001, 0.001, 0.001, 0.001, 0.001, 0.001, 0.001, 0.001, 0.001, 0.001, 0.001, 0.001, 0.001, 0.001, 0.001, 0.001, 0.001, 0.001, 0.001, 0.001, 0.001, 0.001, 0.001, 0.001, 0.001, 0.001, 0.001, 0.001, 0.001, 0.001, 0.001, 0.001, 0.001, 0.001, 0.001, 0.001, 0.001, 0.001, 0.001, 0.001, 0.001, 0.001, 0.001, 0.001, 0.001, 0.001, 0.001, 0.001, 0.001, 0.001, 0.001, 0.001, 0.001, 0.001, 0.001, 0.001, 0.001, 0.001, 0.001, 0.001, 0.001, 0.001, 0.001, 0.001, 0.001, 0.001, 0.001, 0.001, 0.001, 0.001, 0.001, 0.001, 0.001, 0.001, 0.001, 0.001, 0.001, 0.001, 0.001, 0.001, 0.001, 0.001, 0.001, 0.001, 0.001, 0.001, 0.001, 0.001, 0.001, 0.001, 0.001, 0.001, 0.001, 0.001, 0.001, 0.001, 0.001, 0.001, 0.001, 0.001, 0.001, 0.001, 0.001, 0.001, 0.001, 0.001, 0.001, 0.001, 0.001, 0.001, 0.001, 0.001, 0.001, 0.001, 0.001, 0.001, 0.001, 0.001, 0.001, 0.001, 0.001, 0.001, 0.001, 0.001, 0.001, 0.001, 0.001, 0.001, 0.001, 0.001, 0.001, 0.001, 0.001, 0.001, 0.001, 0.001, 0.001, 0.001, 0.001, 0.001, 0.001, 0.001, 0.001, 0.001, 0.001, 0.001, 0.001, 0.001, 0.001, 0.001, 0.001, 0.001, 0.001, 0.001, 0.001, 0.001, 0.001, 0.001, 0.001, 0.001, 0.001, 0.001, 0.001, 0.001, 0.001, 0.001, 0.001, 0.001, 0.001, 0.001, 0.001, 0.001, 0.001, 0.001, 0.001, 0.001, 0.001, 0.001, 0.001, 0.001, 0.001, 0.001, 0.001, 0.001, 0.001, 0.001, 0.001, 0.001, 0.001, 0.001, 0.001, 0.001, 0.001, 0.001, 0.001, 0.001, 0.001, 0.001, 0.001, 0.001, 0.001, 0.001, 0.001, 0.001, 0.001, 0.001, 0.001, 0.001, 0.001, 0.001, 0.001, 0.001, 0.001, 0.001, 0.001, 0.001, 0.001, 0.001, 0.001, 0.001, 0.001, 0.001, 0.001, 0.001, 0.001, 0.001, 0.001, 0.001, 0.001, 0.001, 0.001, 0.001, 0.001, 0.001, 0.001, 0.001, 0.001, 0.001, 0.001, 0.001, 0.001, 0.001, 0.001, 0.001, 0.001, 0.001, 0.001, 0.001, 0.001, 0.001, 0.001, 0.001, 0.001, 0.001, 0.001, 0.001, 0.001, 0.001, 0.001, 0.001, 0.001, 0.001, 0.001, 0.001, 0.001, 0.001, 0.001, 0.001, 0.001, 0.001, 0.001, 0.001, 0.001, 0.001, 0.001, 0.001, 0.001, 0.001, 0.001, 0.001, 0.001, 0.001, 0.001, 0.001, 0.001, 0.001, 0.001, 0.001, 0.001, 0.001, 0.001, 0.001, 0.001, 0.001, 0.001, 0.001, 0.001, 0.001, 0.001, 0.001, 0.001, 0.001, 0.001, 0.001, 0.001, 0.001, 0.001, 0.001, 0.001, 0.001, 0.001, 0.001, 0.001, 0.001, 0.001, 0.001, 0.001, 0.001, 0.001, 0.001, 0.001, 0.001, 0.001, 0.001, 0.001, 0.001, 0.001, 0.001, 0.001, 0.001, 0.001, 0.001, 0.001, 0.001, 0.001, 0.001, 0.001, 0.001, 0.001, 0.001, 0.001, 0.001, 0.001, 0.001, 0.001, 0.001, 0.001, 0.001, 0.001, 0.001, 0.001, 0.001, 0.001, 0.001, 0.001, 0.001, 0.001, 0.001, 0.001, 0.001, 0.001, 0.001, 0.001, 0.001, 0.001, 0.001, 0.001, 0.001, 0.001, 0.001, 0.001, 0.001, 0.001, 0.001, 0.001, 0.001, 0.001, 0.001, 0.001, 0.001, 0.001, 0.001, 0.001, 0.001, 0.001, 0.001, 0.001, 0.001, 0.001, 0.001, 0.001, 0.001, 0.001, 0.001, 0.001, 0.001, 0.001, 0.001, 0.001, 0.001, 0.001, 0.001, 0.001, 0.001, 0.001, 0.001, 0.001, 0.001, 0.001, 0.001, 0.001, 0.001, 0.001, 0.001, 0.001, 0.001, 0.001, 0.001, 0.001, 0.001, 0.001, 0.001, 0.001, 0.001, 0.001, 0.001, 0.001, 0.001, 0.001, 0.001, 0.001, 0.001, 0.001, 0.001, 0.001, 0.001, 0.001, 0.001, 0.001, 0.001, 0.001, 0.001, 0.001, 0.001, 0.001, 0.001, 0.001, 0.001, 0.001, 0.001, 0.001, 0.001, 0.001, 0.001, 0.001, 0.001, 0.001, 0.001, 0.001, 0.001, 0.001, 0.001, 0.001, 0.001, 0.001, 0.001, 0.001, 0.001, 0.001, 0.001, 0.001, 0.001, 0.001, 0.001, 0.001, 0.001, 0.001, 0.001, 0.001, 0.001, 0.001, 0.001, 0.001, 0.001, 0.001, 0.001, 0.001, 0.001, 0.001, 0.001, 0.001, 0.001, 0.001, 0.001, 0.001, 0.001, 0.001, 0.001, 0.001, 0.001, 0.001, 0.001, 0.001, 0.001, 0.001, 0.001, 0.001, 0.001, 0.001, 0.001, 0.001, 0.001, 0.001, 0.001, 0.001, 0.001, 0.001, 0.001, 0.001, 0.001, 0.001, 0.001, 0.001, 0.001, 0.001, 0.001, 0.001, 0.001, 0.001, 0.001, 0.001, 0.001, 0.001, 0.001, 0.001, 0.001, 0.001, 0.001, 0.001, 0.001, 0.001, 0.001, 0.001, 0.001, 0.001, 0.001, 0.001, 0.001, 0.001, 0.001, 0.001, 0.001, 0.001, 0.001, 0.001, 0.001, 0.001, 0.001, 0.001, 0.001, 0.001, 0.001, 0.001, 0.001, 0.001, 0.001, 0.001, 0.001, 0.001, 0.001, 0.001, 0.001, 0.001, 0.001, 0.001, 0.001, 0.001, 0.001, 0.001, 0.001, 0.001, 0.001, 0.001, 0.001, 0.001, 0.001, 0.001, 0.001, 0.001, 0.001, 0.001, 0.001, 0.001, 0.001, 0.001, 0.001, 0.001, 0.001, 0.001, 0.001, 0.001, 0.001, 0.001, 0.001, 0.001, 0.001, 0.001, 0.001, 0.001, 0.001, 0.001, 0.001, 0.001, 0.001, 0.001, 0.001, 0.001, 0.001, 0.001, 0.001, 0.001, 0.001, 0.001, 0.001, 0.001, 0.001, 0.001, 0.001, 0.001, 0.001, 0.001, 0.001, 0.001, 0.001, 0.001, 0.001, 0.001, 0.001, 0.001, 0.001, 0.001, 0.001, 0.001, 0.001, 0.001, 0.001, 0.001, 0.001, 0.001, 0.001, 0.001, 0.001, 0.001, 0.001, 0.001, 0.001, 0.001, 0.001, 0.001, 0.001, 0.001, 0.001, 0.001, 0.001, 0.001, 0.001, 0.001, 0.001, 0.001, 0.001, 0.001, 0.001, 0.001, 0.001, 0.001, 0.001, 0.001, 0.001, 0.001, 0.001, 0.001, 0.001, 0.001, 0.001, 0.001, 0.001, 0.001, 0.001, 0.001, 0.001, 0.001, 0.001, 0.001, 0.001, 0.001, 0.001, 0.001, 0.001, 0.001, 0.001, 0.001, 0.001, 0.001, 0.001, 0.001, 0.001, 0.001, 0.001, 0.001, 0.001, 0.001, 0.001, 0.001, 0.001, 0.001, 0.001, 0.001, 0.001, 0.001, 0.001, 0.001, 0.001, 0.001, 0.001, 0.001, 0.001, 0.001, 0.001, 0.001, 0.001, 0.001, 0.001, 0.001, 0.001, 0.001, 0.001, 0.001, 0.001, 0.001, 0.001, 0.001, 0.001, 0.001, 0.001, 0.001, 0.001, 0.001, 0.001, 0.001, 0.001, 0.001, 0.001, 0.001, 0.001, 0.001, 0.001, 0.001, 0.001, 0.001, 0.001, 0.001, 0.001, 0.001, 0.001, 0.001, 0.001, 0.001, 0.001, 0.001, 0.001, 0.001, 0.001, 0.001, 0.001, 0.001, 0.001, 0.001, 0.001, 0.001, 0.001, 0.001, 0.001, 0.001, 0.001, 0.001, 0.001, 0.001, 0.001, 0.001, 0.001, 0.001, 0.001, 0.001, 0.001, 0.001, 0.001, 0.001, 0.001, 0.001, 0.001, 0.001, 0.001, 0.001, 0.001, 0.001, 0.001, 0.001, 0.001, 0.001, 0.001, 0.001, 0.001, 0.001, 0.001, 0.001, 0.001, 0.001, 0.001, 0.001, 0.001, 0.001, 0.001, 0.001, 0.001, 0.001, 0.001, 0.001, 0.001, 0.001, 0.001, 0.001, 0.001, 0.001, 0.001, 0.001, 0.001, 0.001, 0.001, 0.001, 0.001, 0.001, 0.001, 0.001, 0.001, 0.001, 0.001, 0.001, 0.001, 0.001, 0.001, 0.001, 0.001, 0.001, 0.001, 0.001, 0.001, 0.001, 0.001, 0.001, 0.001, 0.001, 0.001, 0.001, 0.001, 0.001, 0.001, 0.001, 0.001, 0.001, 0.001, 0.001, 0.001, 0.001, 0.001, 0.001, 0.001, 0.001, 0.001, 0.001, 0.001, 0.001, 0.001, 0.001, 0.001, 0.001, 0.001, 0.001, 0.001, 0.001, 0.001, 0.001, 0.001, 0.001, 0.001, 0.001, 0.001, 0.001, 0.001, 0.001, 0.001, 0.001, 0.001, 0.001, 0.001, 0.001, 0.001, 0.001, 0.001, 0.001, 0.001, 0.001, 0.001, 0.001, 0.001, 0.001, 0.001, 0.001, 0.001, 0.001, 0.001, 0.001, 0.001, 0.001, 0.001, 0.001, 0.001, 0.001, 0.001, 0.001, 0.001, 0.001, 0.001, 0.001, 0.001, 0.001, 0.001, 0.001, 0.001, 0.001, 0.001, 0.001, 0.001, 0.001, 0.001, 0.001, 0.001, 0.001, 0.001, 0.001, 0.001, 0.001, 0.001, 0.001, 0.001, 0.001, 0.001, 0.001, 0.001, 0.001, 0.001, 0.001, 0.001, 0.001, 0.001, 0.001, 0.001, 0.001, 0.001, 0.001, 0.001, 0.001, 0.001, 0.001, 0.001, 0.001, 0.001, 0.001, 0.001, 0.001, 0.001, 0.001, 0.001, 0.001, 0.001, 0.001, 0.001, 0.001, 0.001, 0.001, 0.001, 0.001, 0.001, 0.001, 0.001, 0.001, 0.001, 0.001, 0.001, 0.001, 0.001, 0.001, 0.001, 0.001, 0.001, 0.001, 0.001, 0.001, 0.001, 0.001, 0.001, 0.001, 0.001, 0.001, 0.001, 0.001, 0.001, 0.001, 0.001, 0.001, 0.001, 0.001, 0.001, 0.001, 0.001, 0.001, 0.001, 0.001, 0.001, 0.001, 0.001, 0.001, 0.001, 0.001, 0.001, 0.001, 0.001, 0.001, 0.001, 0.001, 0.001, 0.001, 0.001, 0.001, 0.001, 0.001, 0.001, 0.001, 0.001, 0.001, 0.001, 0.001, 0.001, 0.001, 0.001, 0.001, 0.001, 0.001, 0.001, 0.001, 0.001, 0.001, 0.001, 0.001, 0.001, 0.001, 0.001, 0.001, 0.001, 0.001, 0.001, 0.001, 0.001, 0.001, 0.001, 0.001, 0.001, 0.001, 0.001, 0.001, 0.001, 0.001, 0.001, 0.001, 0.001, 0.001, 0.001, 0.001, 0.001, 0.001, 0.001, 0.001, 0.001, 0.001, 0.001, 0.001, 0.001, 0.001, 0.001, 0.001, 0.001, 0.001, 0.001, 0.001, 0.001, 0.001, 0.001, 0.001, 0.001, 0.001, 0.001, 0.001, 0.001, 0.001, 0.001, 0.001, 0.001, 0.001, 0.001, 0.001, 0.001, 0.001, 0.001, 0.001, 0.001, 0.001, 0.001, 0.001, 0.001, 0.001, 0.001, 0.001, 0.001, 0.001, 0.001, 0.001, 0.001, 0.001, 0.001, 0.001, 0.001, 0.001, 0.001, 0.001, 0.001, 0.001, 0.001, 0.001, 0.001, 0.001, 0.001, 0.001, 0.001, 0.001, 0.001, 0.001, 0.001, 0.001, 0.001, 0.001, 0.001, 0.001, 0.001, 0.001, 0.001, 0.001, 0.001, 0.001, 0.001, 0.001, 0.001, 0.001, 0.001, 0.001, 0.001, 0.001, 0.001, 0.001, 0.001, 0.001, 0.001, 0.001, 0.001, 0.001, 0.001, 0.001, 0.001, 0.001, 0.001, 0.001, 0.001, 0.001, 0.001, 0.001, 0.001, 0.001, 0.001, 0.001, 0.001, 0.001, 0.001, 0.001, 0.001, 0.001, 0.001, 0.001, 0.001, 0.001, 0.001, 0.001, 0.001, 0.001, 0.001, 0.001, 0.001, 0.001, 0.001, 0.001, 0.001, 0.001, 0.001, 0.001, 0.001, 0.001, 0.001, 0.001, 0.001, 0.001, 0.001, 0.001, 0.001, 0.001, 0.001, 0.001, 0.001, 0.001, 0.001, 0.001, 0.001, 0.001, 0.001, 0.001, 0.001, 0.001, 0.001, 0.001, 0.001, 0.001, 0.001, 0.001, 0.001, 0.001, 0.001, 0.001, 0.001, 0.001, 0.001, 0.001, 0.001, 0.001, 0.001, 0.001, 0.001, 0.001, 0.001, 0.001, 0.001, 0.001, 0.001, 0.001, 0.001, 0.001, 0.001, 0.001, 0.001, 0.001, 0.001, 0.001, 0.001, 0.001, 0.001, 0.001, 0.001, 0.001, 0.001, 0.001, 0.001, 0.001, 0.001, 0.001, 0.001, 0.001, 0.001, 0.001, 0.001, 0.001, 0.001, 0.001, 0.001, 0.001, 0.001, 0.001, 0.001, 0.001, 0.001, 0.001, 0.001, 0.001, 0.001, 0.001, 0.001, 0.001, 0.001, 0.001, 0.001, 0.001, 0.001, 0.001, 0.001, 0.001, 0.001, 0.001, 0.001, 0.001, 0.001, 0.001, 0.001, 0.001, 0.001, 0.001, 0.001, 0.001, 0.001, 0.001, 0.001, 0.001, 0.001, 0.001, 0.001, 0.001, 0.001, 0.001, 0.001, 0.001, 0.001, 0.001, 0.001, 0.001, 0.001, 0.001, 0.001, 0.001, 0.001, 0.001, 0.001, 0.001, 0.001, 0.001, 0.001, 0.001, 0.001, 0.001, 0.001, 0.001, 0.001, 0.001, 0.001, 0.001, 0.001, 0.001, 0.001, 0.001, 0.001, 0.001, 0.001, 0.001, 0.001, 0.001, 0.001, 0.001, 0.001, 0.001, 0.001, 0.001, 0.001, 0.001, 0.001, 0.001, 0.001, 0.001, 0.001, 0.001, 0.001, 0.001, 0.001, 0.001, 0.001, 0.001, 0.001, 0.001, 0.001, 0.001, 0.001, 0.001, 0.001, 0.001, 0.001, 0.001, 0.001, 0.001, 0.001, 0.001, 0.001, 0.001, 0.001, 0.001, 0.001, 0.001, 0.001, 0.001, 0.001, 0.001, 0.001, 0.001, 0.001, 0.001, 0.001, 0.001, 0.001, 0.001, 0.001, 0.001, 0.001, 0.001, 0.001, 0.001, 0.001, 0.001, 0.001, 0.001, 0.001, 0.001, 0.001, 0.001, 0.001, 0.001, 0.001, 0.001, 0.001, 0.001, 0.001, 0.001, 0.001, 0.001, 0.001, 0.001, 0.001, 0.001, 0.001, 0.001, 0.001, 0.001, 0.001, 0.001, 0.001, 0.001, 0.001, 0.001, 0.001, 0.001, 0.001, 0.001, 0.001, 0.001, 0.001, 0.001, 0.001, 0.001, 0.001, 0.001, 0.001, 0.001, 0.001, 0.001, 0.001, 0.001, 0.001, 0.001, 0.001, 0.001, 0.001, 0.001, 0.001, 0.001, 0.001, 0.001, 0.001, 0.001, 0.001, 0.001, 0.001, 0.001, 0.001, 0.001, 0.001, 0.001, 0.001, 0.001, 0.001, 0.001, 0.001, 0.001, 0.001, 0.001, 0.001, 0.001, 0.001, 0.001, 0.001, 0.001, 0.001, 0.001, 0.001, 0.001, 0.001, 0.001, 0.001, 0.001, 0.001, 0.001, 0.001, 0.001, 0.001, 0.001, 0.001, 0.001, 0.001, 0.001, 0.001, 0.001, 0.001, 0.001, 0.001, 0.001, 0.001, 0.001, 0.001, 0.001, 0.001, 0.001, 0.001, 0.001, 0.001, 0.001, 0.001, 0.001, 0.001, 0.001, 0.001, 0.001, 0.001, 0.001, 0.001, 0.001, 0.001, 0.001, 0.001, 0.001, 0.001, 0.001, 0.001, 0.001, 0.001, 0.001, 0.001, 0.001, 0.001, 0.001, 0.001, 0.001, 0.001, 0.001, 0.001, 0.001, 0.001, 0.001, 0.001, 0.001, 0.001, 0.001, 0.001, 0.001, 0.001, 0.001, 0.001, 0.001, 0.001, 0.001, 0.001, 0.001, 0.001, 0.001, 0.001, 0.001, 0.001, 0.001, 0.001, 0.001, 0.001, 0.001, 0.001, 0.001, 0.001, 0.001, 0.001, 0.001, 0.001, 0.001, 0.001, 0.001, 0.001, 0.001, 0.001, 0.001, 0.001, 0.001, 0.001, 0.001, 0.001, 0.001, 0.001, 0.001, 0.001, 0.001, 0.001, 0.001, 0.001, 0.001, 0.001, 0.001, 0.001, 0.001, 0.001, 0.001, 0.001, 0.001, 0.001, 0.001, 0.001, 0.001, 0.001, 0.001, 0.001, 0.001, 0.001, 0.001, 0.001, 0.001, 0.001, 0.001, 0.001, 0.001, 0.001, 0.001, 0.001, 0.001, 0.001, 0.001, 0.001, 0.001, 0.001, 0.001, 0.001, 0.001, 0.001, 0.001, 0.001, 0.001, 0.001, 0.001, 0.001, 0.001, 0.001, 0.001, 0.001, 0.001, 0.001, 0.001, 0.001, 0.001, 0.001, 0.001, 0.001, 0.001, 0.001, 0.001, 0.001, 0.001, 0.001, 0.001, 0.001, 0.001, 0.001, 0.001, 0.001, 0.001, 0.001, 0.001, 0.001, 0.001, 0.001, 0.001, 0.001, 0.001, 0.001, 0.001, 0.001, 0.001, 0.001, 0.001, 0.001, 0.001, 0.001, 0.001, 0.001, 0.001, 0.001, 0.001, 0.001, 0.001, 0.001, 0.001, 0.001, 0.001, 0.001, 0.001, 0.001, 0.001, 0.001, 0.001, 0.001, 0.001, 0.001, 0.001, 0.001, 0.001, 0.001, 0.001, 0.001, 0.001, 0.001, 0.001, 0.001, 0.001, 0.001, 0.001, 0.001, 0.001, 0.001, 0.001, 0.001, 0.001, 0.001, 0.001, 0.001, 0.001, 0.001, 0.001, 0.001, 0.001, 0.001, 0.001, 0.001, 0.001, 0.001, 0.001, 0.001, 0.001, 0.001, 0.001, 0.001, 0.001, 0.001, 0.001, 0.001, 0.001, 0.001, 0.001, 0.001, 0.001, 0.001, 0.001, 0.001, 0.001, 0.001, 0.001, 0.001, 0.001, 0.001, 0.001, 0.001, 0.001, 0.001, 0.001, 0.001, 0.001, 0.001, 0.001, 0.001, 0.001, 0.001, 0.001, 0.001, 0.001, 0.001, 0.001, 0.001, 0.001, 0.001, 0.001, 0.001, 0.001, 0.001, 0.001, 0.001, 0.001, 0.001, 0.001, 0.001, 0.001, 0.001, 0.001, 0.001, 0.001, 0.001, 0.001, 0.001, 0.001, 0.001, 0.001, 0.001, 0.001, 0.001, 0.001, 0.001, 0.001, 0.001, 0.001, 0.001, 0.001, 0.001, 0.001, 0.001, 0.001, 0.001, 0.001, 0.001, 0.001, 0.001, 0.001, 0.001, 0.001, 0.001, 0.001, 0.001, 0.001, 0.001, 0.001, 0.001, 0.001, 0.001, 0.001, 0.001, 0.001, 0.001, 0.001, 0.001, 0.001, 0.001, 0.001, 0.001, 0.001, 0.001, 0.001, 0.001, 0.001, 0.001, 0.001, 0.001, 0.001, 0.001, 0.001, 0.001, 0.001, 0.001, 0.001, 0.001, 0.001, 0.001, 0.001, 0.001, 0.001, 0.001, 0.001, 0.001, 0.001, 0.001, 0.001, 0.001, 0.001, 0.001, 0.001, 0.001, 0.001, 0.001, 0.001, 0.001, 0.001, 0.001, 0.001, 0.001, 0.001, 0.001, 0.001, 0.001, 0.001, 0.001, 0.001, 0.001, 0.001, 0.001, 0.001, 0.001, 0.001, 0.001, 0.001, 0.001, 0.001, 0.001, 0.001, 0.001, 0.001, 0.001, 0.001, 0.001, 0.001, 0.001, 0.001, 0.001, 0.001, 0.001, 0.001, 0.001, 0.001, 0.001, 0.001, 0.001, 0.001, 0.001, 0.001, 0.001, 0.001, 0.001, 0.001, 0.001, 0.001, 0.001, 0.001, 0.001, 0.001, 0.001, 0.001, 0.001, 0.001, 0.001, 0.001, 0.001, 0.001, 0.001, 0.001, 0.001, 0.001, 0.001, 0.001, 0.001, 0.001, 0.001, 0.001, 0.001, 0.001, 0.001, 0.001, 0.001, 0.001, 0.001, 0.001, 0.001, 0.001, 0.001, 0.001, 0.001, 0.001, 0.001, 0.001, 0.001, 0.001, 0.001, 0.001, 0.001, 0.001, 0.001, 0.001, 0.001, 0.001, 0.001, 0.001, 0.001, 0.001, 0.001, 0.001, 0.001, 0.001, 0.001, 0.001, 0.001, 0.001, 0.001, 0.001, 0.001, 0.001, 0.001, 0.001, 0.001, 0.001, 0.001, 0.001, 0.001, 0.001, 0.001, 0.001, 0.001, 0.001, 0.001, 0.001, 0.001, 0.001, 0.001, 0.001, 0.001, 0.001, 0.001, 0.001, 0.001, 0.001, 0.001, 0.001, 0.001, 0.001, 0.001, 0.001, 0.001, 0.001, 0.001, 0.001, 0.001, 0.001, 0.001, 0.001, 0.001, 0.001, 0.001, 0.001, 0.001, 0.001, 0.001, 0.001, 0.001, 0.001, 0.001, 0.001, 0.001, 0.001, 0.001, 0.001, 0.001, 0.001, 0.001, 0.001, 0.001, 0.001, 0.001, 0.001, 0.001, 0.001, 0.001, 0.001, 0.001, 0.001, 0.001, 0.001, 0.001, 0.001, 0.001, 0.001, 0.001, 0.001, 0.001, 0.001, 0.001, 0.001, 0.001, 0.001, 0.001, 0.001, 0.001, 0.001, 0.001, 0.001, 0.001, 0.001, 0.001, 0.001, 0.001, 0.001, 0.001, 0.001, 0.001, 0.001, 0.001, 0.001, 0.001, 0.001, 0.001, 0.001, 0.001, 0.001, 0.001, 0.001, 0.001, 0.001, 0.001, 0.001, 0.001, 0.001, 0.001, 0.001, 0.001, 0.001, 0.001, 0.001, 0.001, 0.001, 0.001, 0.001, 0.001, 0.001, 0.001, 0.001, 0.001, 0.001, 0.001, 0.001, 0.001, 0.001, 0.001, 0.001, 0.001, 0.001, 0.001, 0.001, 0.001, 0.001, 0.001, 0.001, 0.001, 0.001, 0.001, 0.001, 0.001, 0.001, 0.001, 0.001, 0.001, 0.001, 0.001, 0.001, 0.001, 0.001, 0.001, 0.001, 0.001, 0.001, 0.001, 0.001, 0.001, 0.001, 0.001, 0.001, 0.001, 0.001, 0.001, 0.001, 0.001, 0.001, 0.001, 0.001, 0.001, 0.001, 0.001, 0.001, 0.001, 0.001, 0.001, 0.001, 0.001, 0.001, 0.001, 0.001, 0.001, 0.001, 0.001, 0.001, 0.001, 0.001, 0.001, 0.001, 0.001, 0.001, 0.001, 0.001, 0.001, 0.001, 0.001, 0.001, 0.001, 0.001, 0.001, 0.001, 0.001, 0.001, 0.001, 0.001, 0.001, 0.001, 0.001, 0.001, 0.001, 0.001, 0.001, 0.001, 0.001, 0.001, 0.001, 0.001, 0.001, 0.001, 0.001, 0.001, 0.001, 0.001, 0.001, 0.001, 0.001, 0.001, 0.001, 0.001, 0.001, 0.001, 0.001, 0.001, 0.001, 0.001, 0.001, 0.001, 0.001, 0.001, 0.001, 0.001, 0.001, 0.001, 0.001, 0.001, 0.001, 0.001, 0.001, 0.001, 0.001, 0.001, 0.001, 0.001, 0.001, 0.001, 0.001, 0.001, 0.001, 0.001, 0.001, 0.001, 0.001, 0.001, 0.001, 0.001, 0.001, 0.001, 0.001, 0.001, 0.001, 0.001, 0.001, 0.001, 0.001, 0.001, 0.001, 0.001, 0.001, 0.001, 0.001, 0.001, 0.001, 0.001, 0.001, 0.001, 0.001, 0.001, 0.001, 0.001, 0.001, 0.001, 0.001, 0.001, 0.001, 0.001, 0.001, 0.001, 0.001, 0.001, 0.001, 0.001, 0.001, 0.001, 0.001, 0.001, 0.001, 0.001, 0.001, 0.001, 0.001, 0.001, 0.001, 0.001, 0.001, 0.001, 0.001, 0.001, 0.001, 0.001, 0.001, 0.001, 0.001, 0.001, 0.001, 0.001, 0.001, 0.001, 0.001, 0.001, 0.001, 0.001, 0.001, 0.001, 0.001, 0.001, 0.001, 0.001, 0.001, 0.001, 0.001, 0.001, 0.001, 0.001, 0.001, 0.001, 0.001, 0.001, 0.001, 0.001, 0.001, 0.001, 0.001, 0.001, 0.001, 0.001, 0.001, 0.001, 0.001, 0.001, 0.001, 0.001, 0.001, 0.001, 0.001, 0.001, 0.001, 0.001, 0.001, 0.001, 0.001, 0.001, 0.001, 0.001, 0.001, 0.001, 0.001, 0.001, 0.001, 0.001, 0.001, 0.001, 0.001, 0.001, 0.001, 0.001, 0.001, 0.001, 0.001, 0.001, 0.001, 0.001, 0.001, 0.001, 0.001, 0.001, 0.001, 0.001, 0.001, 0.001, 0.001, 0.001, 0.001, 0.001, 0.001, 0.001, 0.001, 0.001, 0.001, 0.001, 0.001, 0.001, 0.001, 0.001, 0.001, 0.001, 0.001, 0.001, 0.001, 0.001, 0.001, 0.001, 0.001, 0.001, 0.001, 0.001, 0.001, 0.001, 0.001, 0.001, 0.001, 0.001, 0.001, 0.001, 0.001, 0.001, 0.001, 0.001, 0.001, 0.001, 0.001, 0.001, 0.001, 0.001, 0.001, 0.001, 0.001, 0.001, 0.001, 0.001, 0.001, 0.001, 0.001, 0.001, 0.001, 0.001, 0.001, 0.001, 0.001, 0.001, 0.001, 0.001, 0.001, 0.001, 0.001, 0.001, 0.001, 0.001, 0.001, 0.001, 0.001, 0.001, 0.001, 0.001, 0.001, 0.001, 0.001, 0.001, 0.001, 0.001, 0.001, 0.001, 0.001, 0.001, 0.001, 0.001, 0.001, 0.001, 0.001, 0.001, 0.001, 0.001, 0.001, 0.001, 0.001, 0.001, 0.001, 0.001, 0.001, 0.001, 0.001, 0.001, 0.001, 0.001, 0.001, 0.001, 0.001, 0.001, 0.001, 0.001, 0.001, 0.001, 0.001, 0.001, 0.001, 0.001, 0.001, 0.001, 0.001, 0.001, 0.001, 0.001, 0.001, 0.001, 0.001, 0.001, 0.001, 0.001, 0.001, 0.001, 0.001, 0.001, 0.001, 0.001, 0.001, 0.001, 0.001, 0.001, 0.001, 0.001, 0.001, 0.001, 0.001, 0.001, 0.001, 0.001, 0.001, 0.001, 0.001, 0.001, 0.001, 0.001, 0.001, 0.001, 0.001, 0.001, 0.001, 0.001, 0.001, 0.001, 0.001, 0.001, 0.001, 0.001, 0.001, 0.001, 0.001, 0.001, 0.001, 0.001, 0.001, 0.001, 0.001, 0.001, 0.001, 0.001, 0.001, 0.001, 0.001, 0.001, 0.001, 0.001, 0.001, 0.001, 0.001, 0.001, 0.001, 0.001, 0.001, 0.001, 0.001, 0.001, 0.001, 0.001, 0.001, 0.001, 0.001, 0.001, 0.001, 0.001, 0.001, 0.001, 0.001, 0.001, 0.001, 0.001, 0.001, 0.001, 0.001, 0.001, 0.001, 0.001, 0.001, 0.001, 0.001, 0.001, 0.001, 0.001, 0.001, 0.001, 0.001, 0.001, 0.001, 0.001, 0.001, 0.001, 0.001, 0.001, 0.001, 0.001, 0.001, 0.001, 0.001, 0.001, 0.001, 0.001, 0.001, 0.001, 0.001, 0.001, 0.001, 0.001, 0.001, 0.001, 0.001, 0.001, 0.001, 0.001, 0.001, 0.001, 0.001, 0.001, 0.001, 0.001, 0.001, 0.001, 0.001, 0.001, 0.001, 0.001, 0.001, 0.001, 0.001, 0.001, 0.001, 0.001, 0.001, 0.001, 0.001, 0.001, 0.001, 0.001, 0.001, 0.001, 0.001, 0.001, 0.001, 0.001, 0.001, 0.001, 0.001, 0.001, 0.001, 0.001, 0.001, 0.001, 0.001, 0.001, 0.001, 0.001, 0.001, 0.001, 0.001, 0.001, 0.001, 0.001, 0.001, 0.001, 0.001, 0.001, 0.001, 0.001, 0.001, 0.001, 0.001, 0.001, 0.001, 0.001, 0.001, 0.001, 0.001, 0.001, 0.001, 0.001, 0.001, 0.001, 0.001, 0.001, 0.001, 0.001, 0.001, 0.001, 0.001, 0.001, 0.001, 0.001, 0.001, 0.001, 0.001, 0.001, 0.001, 0.001, 0.001, 0.001, 0.001, 0.001, 0.001, 0.001, 0.001, 0.001, 0.001, 0.001, 0.001, 0.001, 0.001, 0.001, 0.001, 0.001, 0.001, 0.001, 0.001, 0.001, 0.001, 0.001, 0.001, 0.001, 0.001, 0.001, 0.001, 0.001, 0.001, 0.001, 0.001, 0.001, 0.001, 0.001, 0.001, 0.001, 0.001, 0.001, 0.001, 0.001, 0.001, 0.001, 0.001, 0.001, 0.001, 0.001, 0.001, 0.001, 0.001, 0.001, 0.001, 0.001, 0.001, 0.001, 0.001, 0.001, 0.001, 0.001, 0.001, 0.001, 0.001, 0.001, 0.001, 0.001, 0.001, 0.001, 0.001, 0.001, 0.001, 0.001, 0.001, 0.001, 0.001, 0.001, 0.001, 0.001, 0.001, 0.001, 0.001, 0.001, 0.001, 0.001, 0.001, 0.001, 0.001, 0.001, 0.001, 0.001, 0.001, 0.001, 0.001, 0.001, 0.001, 0.001, 0.001, 0.001, 0.001, 0.001, 0.001, 0.001, 0.001, 0.001, 0.001, 0.001, 0.001, 0.001, 0.001, 0.001, 0.001, 0.001, 0.001, 0.001, 0.001, 0.001, 0.001, 0.001, 0.001, 0.001, 0.001, 0.001, 0.001, 0.001, 0.001, 0.001, 0.001, 0.001, 0.001, 0.001, 0.001, 0.001, 0.001, 0.001, 0.001, 0.001, 0.001, 0.001, 0.001, 0.001, 0.001, 0.001, 0.001, 0.001, 0.001, 0.001, 0.001, 0.001, 0.001, 0.001, 0.001, 0.001, 0.001, 0.001, 0.001, 0.001, 0.001, 0.001, 0.001, 0.001, 0.001, 0.001, 0.001, 0.001, 0.001, 0.001, 0.001, 0.001, 0.001, 0.001, 0.001, 0.001, 0.001, 0.001, 0.001, 0.001, 0.001, 0.001, 0.001, 0.001, 0.001, 0.001, 0.001, 0.001, 0.001, 0.001, 0.001, 0.001, 0.001, 0.001, 0.001, 0.001, 0.001, 0.001, 0.001, 0.001, 0.001, 0.001, 0.001, 0.001, 0.001, 0.001, 0.001, 0.001, 0.001, 0.001, 0.001, 0.001, 0.001, 0.001, 0.001, 0.001, 0.001, 0.001, 0.001, 0.001, 0.001, 0.001, 0.001, 0.001, 0.001, 0.001, 0.001, 0.001, 0.001, 0.001, 0.001, 0.001, 0.001, 0.001, 0.001, 0.001, 0.001, 0.001, 0.001, 0.001, 0.001, 0.001, 0.001, 0.001, 0.001, 0.001, 0.001, 0.001, 0.001, 0.001, 0.001, 0.001, 0.001, 0.001, 0.001, 0.001, 0.001, 0.001, 0.001, 0.001, 0.001, 0.001, 0.001, 0.001, 0.001, 0.001, 0.001, 0.001, 0.001, 0.001, 0.001, 0.001, 0.001, 0.001, 0.001, 0.001, 0.001, 0.001, 0.001, 0.001, 0.001, 0.001, 0.001, 0.001, 0.001, 0.001, 0.001, 0.001, 0.001, 0.001, 0.001, 0.001, 0.001, 0.001, 0.001, 0.001, 0.001, 0.001, 0.001, 0.001, 0.001, 0.001, 0.001, 0.001, 0.001, 0.001, 0.001, 0.001, 0.001, 0.001, 0.001, 0.001, 0.001, 0.001, 0.001, 0.001, 0.001, 0.001, 0.001, 0.001, 0.001, 0.001, 0.001, 0.001, 0.001, 0.001, 0.001, 0.001, 0.001, 0.001, 0.001, 0.001, 0.001, 0.001, 0.001, 0.001, 0.001, 0.001, 0.001, 0.001, 0.001, 0.001, 0.001, 0.001, 0.001, 0.001, 0.001, 0.001, 0.001, 0.001, 0.001, 0.001, 0.001, 0.001, 0.001, 0.001, 0.001, 0.001, 0.001, 0.001, 0.001, 0.001, 0.001, 0.001, 0.001, 0.001, 0.001, 0.001, 0.001, 0.001, 0.001, 0.001, 0.001, 0.001, 0.001, 0.001, 0.001, 0.001, 0.001, 0.001, 0.001, 0.001, 0.001, 0.001, 0.001, 0.001, 0.001, 0.001, 0.001, 0.001, 0.001, 0.001, 0.001, 0.001, 0.001, 0.001, 0.001, 0.001, 0.001, 0.001, 0.001, 0.001, 0.001, 0.001, 0.001, 0.001, 0.001, 0.001, 0.001, 0.0, 0.001, 0.001, 0.001, 0.0, 0.001, 0.001, 0.001, 0.001, 0.001, 0.001, 0.001, 0.001, 0.001, 0.001, 0.001, 0.001, 0.001, 0.001, 0.001, 0.001, 0.001, 0.001, 0.001, 0.001, 0.001, 0.001, 0.001, 0.001, 0.001, 0.001, 0.001, 0.001, 0.001, 0.001, 0.001, 0.001, 0.001, 0.001, 0.001, 0.001, 0.001, 0.001, 0.001, 0.001, 0.001, 0.001, 0.001, 0.001, 0.001, 0.001, 0.001, 0.001, 0.001, 0.001, 0.001, 0.001, 0.001, 0.001, 0.001, 0.001, 0.001, 0.001, 0.001, 0.001, 0.001, 0.001, 0.001, 0.001, 0.001, 0.001, 0.001, 0.001, 0.001, 0.001, 0.001, 0.001, 0.001, 0.001, 0.001, 0.001, 0.001, 0.001, 0.001, 0.001, 0.001, 0.001, 0.001, 0.001, 0.001, 0.001, 0.001, 0.001, 0.001, 0.001, 0.001, 0.001, 0.001, 0.001, 0.001, 0.001, 0.001, 0.001, 0.001, 0.001, 0.001, 0.001, 0.001, 0.001, 0.001, 0.001, 0.001, 0.001, 0.001, 0.001, 0.001, 0.001, 0.001, 0.001, 0.001, 0.001, 0.001, 0.001, 0.001, 0.001, 0.001, 0.001, 0.001, 0.001, 0.001, 0.001, 0.001, 0.001, 0.001, 0.001, 0.001, 0.001, 0.001, 0.001, 0.001, 0.001, 0.001, 0.001, 0.001, 0.001, 0.001, 0.001, 0.001, 0.001, 0.001, 0.001, 0.001, 0.001, 0.001, 0.001, 0.001, 0.001, 0.001, 0.001, 0.001, 0.001, 0.001, 0.001, 0.001, 0.001, 0.001, 0.001, 0.001, 0.001, 0.001, 0.001, 0.001, 0.001, 0.001, 0.001, 0.001, 0.001, 0.001, 0.001, 0.001, 0.001, 0.001, 0.001, 0.001, 0.001, 0.001, 0.001, 0.001, 0.001, 0.001, 0.001, 0.001, 0.001, 0.001, 0.001, 0.001, 0.001, 0.001, 0.001, 0.001, 0.001, 0.001, 0.001, 0.001, 0.001, 0.001, 0.001, 0.001, 0.001, 0.001, 0.001, 0.001, 0.001, 0.001, 0.001, 0.001, 0.001, 0.001, 0.001, 0.001, 0.001, 0.001, 0.001, 0.001, 0.001, 0.001, 0.001, 0.001, 0.001, 0.001, 0.001, 0.001, 0.001, 0.001, 0.001, 0.001, 0.001, 0.001, 0.001, 0.001, 0.001, 0.001, 0.001, 0.001, 0.001, 0.001, 0.001, 0.001, 0.001, 0.001, 0.001, 0.001, 0.001, 0.001, 0.001, 0.001, 0.001, 0.001, 0.001, 0.001, 0.001, 0.001, 0.001, 0.001, 0.001, 0.001, 0.001, 0.001, 0.001, 0.001, 0.001, 0.001, 0.001, 0.001, 0.001, 0.001, 0.001, 0.001, 0.001, 0.001, 0.001, 0.001, 0.001, 0.001, 0.001, 0.001, 0.001, 0.001, 0.001, 0.001, 0.001, 0.001, 0.001, 0.001, 0.001, 0.001, 0.001, 0.001, 0.001, 0.001, 0.001, 0.001, 0.001, 0.001, 0.001, 0.001, 0.001, 0.001, 0.001, 0.001, 0.001, 0.001, 0.001, 0.001, 0.001, 0.001, 0.001, 0.001, 0.001, 0.001, 0.001, 0.001, 0.001, 0.001, 0.001, 0.001, 0.001, 0.001, 0.001, 0.001, 0.001, 0.001, 0.001, 0.001, 0.001, 0.001, 0.001, 0.001, 0.001, 0.001, 0.001, 0.001, 0.001, 0.001, 0.001, 0.001, 0.001, 0.001, 0.001, 0.001, 0.001, 0.001, 0.001, 0.001, 0.001, 0.001, 0.001, 0.001, 0.001, 0.001, 0.001, 0.001, 0.001, 0.001, 0.001, 0.001, 0.001, 0.001, 0.001, 0.001, 0.001, 0.001, 0.001, 0.001, 0.001, 0.001, 0.001, 0.001, 0.001, 0.001, 0.001, 0.001, 0.001, 0.001, 0.001, 0.001, 0.001, 0.001, 0.001, 0.0, 0.001, 0.001, 0.001, 0.0, 0.001, 0.001, 0.001, 0.001, 0.001, 0.001, 0.001, 0.001, 0.001, 0.001, 0.001, 0.001, 0.001, 0.001, 0.001, 0.001, 0.001, 0.001, 0.001, 0.001, 0.001, 0.001, 0.001, 0.001, 0.001, 0.001, 0.001, 0.001, 0.001, 0.001, 0.001, 0.001, 0.001, 0.001, 0.001, 0.001, 0.001, 0.001, 0.001, 0.001, 0.001, 0.001, 0.001, 0.001, 0.001, 0.001, 0.001, 0.0, 0.001, 0.001, 0.001, 0.001, 0.001, 0.001, 0.001, 0.001, 0.001, 0.001, 0.001, 0.001, 0.001, 0.001, 0.001, 0.001, 0.001, 0.001, 0.001, 0.001, 0.001, 0.001, 0.001, 0.001, 0.001, 0.001, 0.001, 0.001, 0.001, 0.0, 0.001, 0.001, 0.001, 0.001, 0.001, 0.001, 0.001, 0.001, 0.001, 0.001, 0.001, 0.001, 0.001, 0.001, 0.001, 0.001, 0.001, 0.001, 0.001, 0.001, 0.001, 0.001, 0.001, 0.001, 0.001, 0.001, 0.001, 0.001, 0.001, 0.001, 0.001, 0.001, 0.001, 0.001, 0.001, 0.001, 0.001, 0.001, 0.001, 0.001, 0.001, 0.001, 0.001, 0.001, 0.001, 0.001, 0.001, 0.001, 0.001, 0.001, 0.001, 0.001, 0.001, 0.001, 0.001, 0.001, 0.001, 0.001, 0.001, 0.001, 0.001, 0.001, 0.001, 0.001, 0.001, 0.001, 0.001, 0.001, 0.001, 0.001, 0.001, 0.001, 0.001, 0.001, 0.001, 0.001, 0.001, 0.001, 0.001, 0.001, 0.001, 0.001, 0.001, 0.001, 0.001, 0.001, 0.001, 0.001, 0.001, 0.001, 0.001, 0.001, 0.001, 0.001, 0.001, 0.001, 0.001, 0.001, 0.001, 0.001, 0.001, 0.001, 0.001, 0.001, 0.001, 0.001, 0.001, 0.001, 0.001, 0.001, 0.001, 0.001, 0.001, 0.001, 0.001, 0.001, 0.001, 0.001, 0.001, 0.0, 0.001, 0.001, 0.001, 0.001, 0.001, 0.001, 0.001, 0.001, 0.001, 0.001, 0.001, 0.001, 0.001, 0.001, 0.001, 0.001, 0.001, 0.001, 0.001, 0.001, 0.001, 0.001, 0.001, 0.001, 0.001, 0.001, 0.001, 0.001, 0.001, 0.001, 0.001, 0.0, 0.001, 0.001, 0.001, 0.001, 0.001, 0.001, 0.001, 0.001, 0.001, 0.001, 0.001, 0.001, 0.001, 0.001, 0.001, 0.001, 0.001, 0.001, 0.001, 0.001, 0.001, 0.001, 0.001, 0.001, 0.001, 0.0, 0.001, 0.001, 0.001, 0.001, 0.001, 0.001, 0.001, 0.0, 0.001, 0.001, 0.0, 0.001, 0.0, 0.001, 0.001, 0.001, 0.001, 0.001, 0.001, 0.001, 0.001, 0.001, 0.001, 0.001, 0.001, 0.001, 0.001, 0.001, 0.001, 0.001, 0.0, 0.001, 0.001, 0.001, 0.001, 0.001, 0.001, 0.001, 0.001, 0.001, 0.001, 0.0, 0.001, 0.001, 0.001, 0.001, 0.001, 0.001, 0.001, 0.001, 0.001, 0.001, 0.001, 0.001, 0.001, 0.001, 0.001, 0.001, 0.001, 0.001, 0.001, 0.001, 0.001, 0.001, 0.001, 0.001, 0.001, 0.001, 0.001, 0.001, 0.001, 0.001, 0.001, 0.001, 0.001, 0.001, 0.001, 0.001, 0.001, 0.001, 0.001, 0.001, 0.0, 0.001, 0.001, 0.001, 0.001, 0.001, 0.001, 0.001, 0.001, 0.001, 0.001, 0.001, 0.001, 0.001, 0.001, 0.001, 0.001, 0.001, 0.001, 0.001, 0.001, 0.001, 0.001, 0.001, 0.001, 0.001, 0.001, 0.001, 0.001, 0.001, 0.0, 0.001, 0.001, 0.001, 0.001, 0.001, 0.001, 0.001, 0.001, 0.001, 0.001, 0.001, 0.001, 0.001, 0.001, 0.0, 0.001, 0.001, 0.001, 0.001, 0.001, 0.0, 0.0, 0.001, 0.001, 0.001, 0.001, 0.0, 0.0, 0.001, 0.001, 0.001, 0.001, 0.001, 0.001, 0.001, 0.001, 0.001, 0.001, 0.001, 0.001, 0.0, 0.001, 0.001, 0.0, 0.001, 0.001, 0.0, 0.001, 0.001, 0.0, 0.001, 0.001, 0.001, 0.001, 0.0, 0.001, 0.001, 0.001, 0.001, 0.001, 0.001, 0.001, 0.001, 0.001, 0.001, 0.001, 0.001, 0.0, 0.001, 0.001, 0.001, 0.001, 0.0, 0.001, 0.0, 0.001, 0.001, 0.001, 0.001, 0.001, 0.001, 0.001, 0.001, 0.001, 0.001, 0.0, 0.001, 0.001, 0.001, 0.001, 0.0, 0.001, 0.001, 0.0, 0.001, 0.0, 0.0, 0.001, 0.001, 0.001, 0.0, 0.001, 0.001, 0.001, 0.001, 0.0, 0.0, 0.0, 0.001, 0.001, 0.001, 0.0, 0.0, 0.001, 0.001, 0.0, 0.001, 0.0, 0.001, 0.001, 0.001, 0.001, 0.001, 0.001, 0.001, 0.001, 0.001, 0.001, 0.0, 0.0, 0.0, 0.0, 0.0, 0.001, 0.001, 0.001, 0.001, 0.001, 0.001, 0.001, 0.001, 0.001, 0.001, 0.0, 0.0, 0.001, 0.0, 0.0, 0.001, 0.001, 0.001, 0.001, 0.0, 0.001, 0.001, 0.001, 0.001, 0.001, 0.001, 0.001, 0.0, 0.001, 0.001, 0.0, 0.001, 0.001, 0.0, 0.001, 0.0, 0.0, 0.001, 0.0, 0.001, 0.0, 0.0, 0.001, 0.001, 0.0, 0.0, 0.001, 0.0, 0.001, 0.0, 0.0, 0.0, 0.0, 0.0, 0.0, 0.0, 0.0, 0.001, 0.0, 0.001, 0.0, 0.0, 0.0, 0.001, 0.0, 0.0, 0.001, 0.0, 0.0, 0.0, 0.0, 0.0, 0.0, 0.0, 0.0, 0.0, 0.0, 0.0, 0.0, 0.0, 0.0, 0.0, 0.0, 0.0, 0.0, 0.0, 0.0, 0.0, 0.0, 0.0, 0.0, 0.0, 0.0, 0.0, 0.0, 0.0, 0.0, 0.0, 0.0, 0.0, 0.0, 0.0, 0.0, 0.0, 0.0, 0.0, 0.0, 0.0, 0.0, 0.0, 0.0, 0.0, 0.0, 0.0, 0.0, 0.0, 0.0, 0.0, 0.0, 0.0, 0.0, 0.0, 0.0, 0.0, 0.0, 0.0, 0.0, 0.0, 0.0, 0.0, 0.0, 0.0, 0.0, 0.0, 0.0, 0.0, 0.0, 0.0, 0.0, 0.0, 0.0, 0.0, 0.0, 0.0, 0.0, 0.0, 0.0, 0.0, 0.0, 0.0, 0.0, 0.0, 0.0, 0.0, 0.0, 0.0, 0.0, 0.0, 0.0, 0.0, 0.0, 0.0, 0.0, 0.0, 0.0, 0.0, 0.0, 0.0, 0.0, 0.0, 0.0, 0.0, 0.0, 0.0, 0.0, 0.0, 0.001, 0.001, 0.0, 0.0, 0.001, 0.0, 0.001, 0.0, 0.0, 0.0, 0.0, 0.0, 0.0, 0.001, 0.0, 0.001, 0.001, 0.001, 0.0, 0.001, 0.001, 0.001, 0.001, 0.0, 0.001, 0.001, 0.0, 0.0, 0.001, 0.001, 0.0, 0.0, 0.0, 0.0, 0.001, 0.001, 0.001, 0.0, 0.001, 0.001, 0.0, 0.0, 0.001, 0.001, 0.0, 0.001, 0.0, 0.001, 0.001, 0.001, 0.0, 0.001, 0.001, 0.0, 0.001, 0.001, 0.001, 0.0, 0.001, 0.001, 0.001, 0.001, 0.001, 0.001, 0.001, 0.001, 0.0, 0.001, 0.001, 0.001, 0.001, 0.001, 0.0, 0.001, 0.001, 0.001, 0.001, 0.001, 0.0, 0.001, 0.001, 0.001, 0.0, 0.0, 0.001, 0.001, 0.001, 0.001, 0.0, 0.001, 0.0, 0.001, 0.001, 0.001, 0.0, 0.0, 0.0, 0.001, 0.001, 0.001, 0.001, 0.001, 0.001, 0.001, 0.001, 0.001, 0.001, 0.001, 0.001, 0.0, 0.0, 0.001, 0.001, 0.001, 0.001, 0.001, 0.0, 0.001, 0.001, 0.001, 0.0, 0.001, 0.001, 0.001, 0.001, 0.001, 0.001, 0.001, 0.001, 0.001, 0.001, 0.001, 0.0, 0.001, 0.0, 0.001, 0.001, 0.001, 0.001, 0.001, 0.001, 0.0, 0.001, 0.0, 0.001, 0.001, 0.0, 0.001, 0.0, 0.001, 0.0, 0.0, 0.001, 0.001, 0.001, 0.001, 0.001, 0.001, 0.001, 0.001, 0.001, 0.001, 0.001, 0.001, 0.001, 0.001, 0.001, 0.0, 0.001, 0.001, 0.0, 0.001, 0.001, 0.001, 0.001, 0.001, 0.001, 0.001, 0.001, 0.001, 0.001, 0.001, 0.001, 0.001, 0.001, 0.001, 0.001, 0.0, 0.001, 0.001, 0.001, 0.001, 0.001, 0.001, 0.001, 0.001, 0.001, 0.001, 0.001, 0.001, 0.001, 0.001, 0.0, 0.001, 0.001, 0.001, 0.001, 0.001, 0.001, 0.001, 0.0, 0.001, 0.001, 0.001, 0.001, 0.0, 0.001, 0.001, 0.001, 0.001, 0.001, 0.001, 0.001, 0.001, 0.001, 0.001, 0.0, 0.001, 0.001, 0.001, 0.001, 0.001, 0.0, 0.001, 0.001, 0.001, 0.001, 0.001, 0.001, 0.001, 0.001, 0.001, 0.001, 0.0, 0.001, 0.001, 0.001, 0.001, 0.001, 0.001, 0.001, 0.001, 0.001, 0.001, 0.001, 0.001, 0.001, 0.001, 0.001, 0.001, 0.001, 0.001, 0.001, 0.001, 0.001, 0.001, 0.001, 0.001, 0.001, 0.001, 0.001, 0.001, 0.001, 0.001, 0.001, 0.001, 0.0, 0.001, 0.001, 0.001, 0.001, 0.001, 0.001, 0.001, 0.001, 0.001, 0.001, 0.001, 0.001, 0.001, 0.001, 0.001, 0.001, 0.001, 0.001, 0.001, 0.001, 0.001, 0.001, 0.001, 0.001, 0.001, 0.001, 0.001, 0.001, 0.001, 0.001, 0.001, 0.001, 0.001, 0.001, 0.001, 0.001, 0.001, 0.001, 0.001, 0.001, 0.001, 0.001, 0.001, 0.001, 0.001, 0.001, 0.001, 0.001, 0.001, 0.001, 0.001, 0.001, 0.001, 0.001, 0.001, 0.001, 0.001, 0.001, 0.001, 0.001, 0.001, 0.001, 0.001, 0.001, 0.001, 0.001, 0.001, 0.001, 0.001, 0.001, 0.001, 0.001, 0.001, 0.001, 0.0, 0.001, 0.001, 0.001, 0.001, 0.001, 0.001, 0.001, 0.001, 0.001, 0.001, 0.0, 0.001, 0.001, 0.001, 0.001, 0.001, 0.0, 0.001, 0.001, 0.001, 0.001, 0.001, 0.001, 0.001, 0.001, 0.001, 0.001, 0.001, 0.001, 0.001, 0.001, 0.001, 0.001, 0.001, 0.001, 0.001, 0.001, 0.001, 0.001, 0.001, 0.001, 0.001, 0.001, 0.001, 0.001, 0.001, 0.001, 0.001, 0.001, 0.001, 0.001, 0.001, 0.001, 0.001, 0.0, 0.001, 0.001, 0.001, 0.001, 0.0, 0.001, 0.001, 0.001, 0.001, 0.001, 0.001, 0.001, 0.001, 0.001, 0.001, 0.001, 0.001, 0.001, 0.001, 0.001, 0.001, 0.001, 0.001, 0.001, 0.001, 0.001, 0.001, 0.001, 0.001, 0.001, 0.001, 0.001, 0.001, 0.001, 0.001, 0.001, 0.001, 0.001, 0.001, 0.0, 0.001, 0.0, 0.001, 0.001, 0.001, 0.001, 0.001, 0.0, 0.001, 0.001, 0.001, 0.001, 0.001, 0.001, 0.001, 0.001, 0.0, 0.001, 0.001, 0.001, 0.001, 0.001, 0.001, 0.001, 0.001, 0.001, 0.001, 0.001, 0.001, 0.001, 0.001, 0.001, 0.001, 0.001, 0.001, 0.001, 0.001, 0.0, 0.001, 0.001, 0.001, 0.001, 0.001, 0.001, 0.0, 0.001, 0.001, 0.001, 0.001, 0.001, 0.001, 0.001, 0.001, 0.001, 0.001, 0.001, 0.001, 0.001, 0.0, 0.001, 0.001, 0.001, 0.001, 0.001, 0.001, 0.001, 0.001, 0.001, 0.001, 0.001, 0.001, 0.001, 0.001, 0.001, 0.001, 0.001, 0.001, 0.001, 0.001, 0.001, 0.001, 0.001, 0.001, 0.001, 0.001, 0.001, 0.001, 0.001, 0.001, 0.001, 0.001, 0.001, 0.001, 0.001, 0.001, 0.001, 0.001, 0.001, 0.001, 0.001, 0.001, 0.001, 0.001, 0.0, 0.001, 0.001, 0.001, 0.001, 0.001, 0.001, 0.001, 0.001, 0.001, 0.001, 0.001, 0.001, 0.001, 0.001, 0.001, 0.001, 0.001, 0.001, 0.001, 0.001, 0.001, 0.001, 0.001, 0.001, 0.001, 0.001, 0.001, 0.001, 0.001, 0.001, 0.001, 0.001, 0.001, 0.001, 0.001, 0.001, 0.001, 0.001, 0.001, 0.001, 0.001, 0.0, 0.001, 0.001, 0.001, 0.001, 0.001, 0.001, 0.001, 0.001, 0.001, 0.001, 0.001, 0.001, 0.001, 0.001, 0.001, 0.001, 0.001, 0.001, 0.001, 0.001, 0.001, 0.001, 0.001, 0.001, 0.001, 0.001, 0.001, 0.001, 0.001, 0.001, 0.001, 0.001, 0.001, 0.001, 0.001, 0.001, 0.001, 0.001, 0.001, 0.001, 0.001, 0.001, 0.001, 0.001, 0.001, 0.001, 0.001, 0.001, 0.001, 0.001, 0.001, 0.001, 0.001, 0.001, 0.001, 0.001, 0.001, 0.001, 0.001, 0.001, 0.001, 0.001, 0.001, 0.001, 0.001, 0.001, 0.001, 0.001, 0.001, 0.001, 0.001, 0.001, 0.001, 0.001, 0.001, 0.001, 0.001, 0.001, 0.001, 0.001, 0.001, 0.001, 0.001, 0.001, 0.001, 0.001, 0.001, 0.001, 0.001, 0.001, 0.001, 0.001, 0.001, 0.001, 0.001, 0.001, 0.001, 0.001, 0.001, 0.001, 0.001, 0.001, 0.001, 0.001, 0.001, 0.001, 0.001, 0.001, 0.001, 0.001, 0.001, 0.001, 0.001, 0.001, 0.001, 0.001, 0.001, 0.001, 0.001, 0.001, 0.001, 0.001, 0.001, 0.001, 0.001, 0.001, 0.001, 0.001, 0.001, 0.001, 0.001, 0.001, 0.001, 0.001, 0.0, 0.001, 0.001, 0.001, 0.001, 0.001, 0.001, 0.001, 0.001, 0.001, 0.001, 0.0, 0.001, 0.001, 0.001, 0.001, 0.001, 0.001, 0.001, 0.001, 0.001, 0.001, 0.001, 0.001, 0.001, 0.001, 0.001, 0.001, 0.001, 0.001, 0.001, 0.001, 0.001, 0.001, 0.001, 0.001, 0.001, 0.001, 0.001, 0.001, 0.0, 0.001, 0.001, 0.001, 0.001, 0.001, 0.001, 0.001, 0.001, 0.001, 0.001, 0.001, 0.001, 0.001, 0.001, 0.0, 0.001, 0.001, 0.001, 0.001, 0.001, 0.001, 0.001, 0.001, 0.001, 0.001, 0.001, 0.001, 0.001, 0.001, 0.001, 0.001, 0.001, 0.001, 0.001, 0.001, 0.001, 0.001, 0.001, 0.001, 0.001, 0.001, 0.001, 0.001, 0.001, 0.001, 0.0, 0.001, 0.001, 0.001, 0.001, 0.001, 0.001, 0.001, 0.001, 0.001, 0.001, 0.001, 0.001, 0.001, 0.001, 0.001, 0.001, 0.001, 0.001, 0.001, 0.001, 0.001, 0.001, 0.001, 0.001, 0.001, 0.001, 0.001, 0.001, 0.001, 0.001, 0.001, 0.001, 0.001, 0.001, 0.001, 0.001, 0.001, 0.001, 0.001, 0.001, 0.001, 0.001, 0.001, 0.001, 0.001, 0.001, 0.001, 0.001, 0.001, 0.001, 0.001, 0.001, 0.001, 0.001, 0.001, 0.001, 0.001, 0.001, 0.001, 0.001, 0.001, 0.001, 0.001, 0.001, 0.001, 0.001, 0.001, 0.001, 0.001, 0.001, 0.001, 0.001, 0.001, 0.001, 0.001, 0.001, 0.001, 0.001, 0.001, 0.001, 0.001, 0.001, 0.001, 0.001, 0.001, 0.001, 0.001, 0.001, 0.001, 0.001, 0.001, 0.001, 0.001, 0.001, 0.001, 0.001, 0.001, 0.001, 0.001, 0.001, 0.001, 0.001, 0.001, 0.001, 0.001, 0.001, 0.001, 0.001, 0.001, 0.001, 0.001, 0.001, 0.001, 0.001, 0.001, 0.001, 0.001, 0.001, 0.001, 0.001, 0.001, 0.001, 0.001, 0.001, 0.001, 0.001, 0.001, 0.001, 0.001, 0.001, 0.001, 0.001, 0.001, 0.001, 0.001, 0.001, 0.001, 0.001, 0.001, 0.001, 0.001, 0.001, 0.001, 0.001, 0.001, 0.001, 0.001, 0.001, 0.001, 0.001, 0.001, 0.001, 0.001, 0.001, 0.001, 0.001, 0.001, 0.001, 0.001, 0.0, 0.001, 0.001, 0.001, 0.001, 0.001, 0.001, 0.001, 0.001, 0.001, 0.001, 0.001, 0.001, 0.001, 0.001, 0.001, 0.001, 0.001, 0.001, 0.001, 0.001, 0.001, 0.001, 0.001, 0.001, 0.001, 0.001, 0.001, 0.001, 0.001, 0.001, 0.001, 0.001, 0.001, 0.001, 0.001, 0.001, 0.001, 0.001, 0.001, 0.001, 0.001, 0.001, 0.001, 0.001, 0.001, 0.001, 0.001, 0.001, 0.001, 0.001, 0.001, 0.001, 0.001, 0.001, 0.001, 0.001, 0.001, 0.001, 0.001, 0.001, 0.001, 0.001, 0.001, 0.001, 0.001, 0.001, 0.001, 0.001, 0.001, 0.001, 0.001, 0.001, 0.001, 0.001, 0.001, 0.001, 0.001, 0.001, 0.001, 0.001, 0.001, 0.001, 0.001, 0.001, 0.001, 0.001, 0.001, 0.001, 0.001, 0.001, 0.001, 0.001, 0.001, 0.001, 0.001, 0.001, 0.001, 0.001, 0.001, 0.001, 0.001, 0.001, 0.001, 0.001, 0.001, 0.001, 0.001, 0.001, 0.001, 0.001, 0.001, 0.001, 0.001, 0.001, 0.001, 0.001, 0.001, 0.001, 0.001, 0.001, 0.001, 0.001, 0.001, 0.001, 0.001, 0.001, 0.001, 0.001, 0.001, 0.001, 0.001, 0.001, 0.001, 0.001, 0.001, 0.001, 0.001, 0.001, 0.001, 0.001, 0.001, 0.001, 0.001, 0.001, 0.001, 0.001, 0.001, 0.001, 0.001, 0.001, 0.001, 0.001, 0.001, 0.001, 0.001, 0.001, 0.001, 0.001, 0.001, 0.001, 0.001, 0.001, 0.001, 0.001, 0.001, 0.001, 0.001, 0.001, 0.001, 0.001, 0.001, 0.001, 0.001, 0.001, 0.001, 0.001, 0.001, 0.001, 0.001, 0.001, 0.001, 0.001, 0.001, 0.001, 0.001, 0.001, 0.001, 0.001, 0.001, 0.001, 0.001, 0.001, 0.001, 0.001, 0.001, 0.001, 0.001, 0.001, 0.001, 0.001, 0.001, 0.001, 0.001, 0.001, 0.001, 0.001, 0.001, 0.001, 0.001, 0.001, 0.001, 0.001, 0.001, 0.001, 0.001, 0.001, 0.001, 0.001, 0.001, 0.001, 0.001, 0.001, 0.001, 0.001, 0.001, 0.001, 0.001, 0.001, 0.001, 0.001, 0.001, 0.001, 0.001, 0.001, 0.001, 0.001, 0.001, 0.001, 0.001, 0.001, 0.001, 0.001, 0.001, 0.001, 0.001, 0.001, 0.001, 0.001, 0.001, 0.001, 0.001, 0.001, 0.001, 0.001, 0.001, 0.001, 0.001, 0.001, 0.001, 0.001, 0.001, 0.001, 0.001, 0.001, 0.001, 0.001, 0.001, 0.001, 0.001, 0.001, 0.001, 0.001, 0.001, 0.001, 0.001, 0.001, 0.001, 0.001, 0.001, 0.001, 0.001, 0.001, 0.001, 0.001, 0.001, 0.001, 0.001, 0.001, 0.001, 0.001, 0.001, 0.001, 0.001, 0.001, 0.001, 0.001, 0.001, 0.001, 0.001, 0.001, 0.001, 0.001, 0.001, 0.001, 0.001, 0.001, 0.001, 0.001, 0.001, 0.001, 0.001, 0.001, 0.001, 0.001, 0.001, 0.001, 0.001, 0.001, 0.001, 0.001, 0.001, 0.001, 0.001, 0.001, 0.001, 0.001, 0.001, 0.001, 0.001, 0.001, 0.001, 0.001, 0.001, 0.001, 0.001, 0.001, 0.001, 0.001, 0.001, 0.001, 0.001, 0.001, 0.001, 0.001, 0.001, 0.001, 0.001, 0.001, 0.001, 0.001, 0.001, 0.001, 0.001, 0.001, 0.001, 0.001, 0.001, 0.001, 0.001, 0.001, 0.001, 0.001, 0.001, 0.001, 0.001, 0.001, 0.001, 0.001, 0.001, 0.001, 0.001, 0.001, 0.001, 0.001, 0.001, 0.001, 0.001, 0.001, 0.001, 0.001, 0.001, 0.001, 0.001, 0.001, 0.001, 0.001, 0.001, 0.001, 0.001, 0.001, 0.001, 0.001, 0.001, 0.001, 0.001, 0.001, 0.001, 0.001, 0.001, 0.001, 0.001, 0.001, 0.001, 0.001, 0.001, 0.001, 0.001, 0.001, 0.001, 0.001, 0.001, 0.001, 0.001, 0.001, 0.001, 0.001, 0.001, 0.001, 0.001, 0.001, 0.001, 0.001, 0.001, 0.001, 0.001, 0.001, 0.001, 0.001, 0.001, 0.001, 0.001, 0.001, 0.001, 0.001, 0.001, 0.001, 0.001, 0.001, 0.001, 0.001, 0.001, 0.001, 0.001, 0.001, 0.001, 0.001, 0.001, 0.001, 0.001, 0.001, 0.001, 0.001, 0.001, 0.001, 0.001, 0.001, 0.001, 0.001, 0.001, 0.001, 0.001, 0.001, 0.001, 0.001, 0.001, 0.001, 0.001, 0.001, 0.001, 0.001, 0.001, 0.001, 0.001, 0.001, 0.001, 0.001, 0.001, 0.001, 0.001, 0.001, 0.001, 0.001, 0.001, 0.001, 0.001, 0.001, 0.001, 0.001, 0.001, 0.001, 0.001, 0.001, 0.001, 0.001, 0.001, 0.001, 0.001, 0.001, 0.001, 0.001, 0.001, 0.001, 0.001, 0.001, 0.001, 0.001, 0.001, 0.001, 0.001, 0.001, 0.001, 0.001, 0.001, 0.001, 0.001, 0.001, 0.001, 0.001, 0.001, 0.001, 0.001, 0.001, 0.001, 0.001, 0.001, 0.001, 0.001, 0.001, 0.001, 0.001, 0.001, 0.001, 0.001, 0.001, 0.001, 0.001, 0.001, 0.001, 0.001, 0.001, 0.001, 0.001, 0.001, 0.001, 0.001, 0.001, 0.001, 0.001, 0.001, 0.001, 0.001, 0.001, 0.001, 0.001, 0.001, 0.001, 0.001, 0.001, 0.001, 0.001, 0.001, 0.001, 0.001, 0.001, 0.001, 0.001, 0.001, 0.001, 0.001, 0.001, 0.001, 0.001, 0.001, 0.001, 0.001, 0.001, 0.001, 0.001, 0.001, 0.001, 0.001, 0.001, 0.001, 0.001, 0.001, 0.001, 0.001, 0.001, 0.001, 0.001, 0.001, 0.001, 0.001, 0.001, 0.001, 0.001, 0.001, 0.001, 0.001, 0.001, 0.001, 0.001, 0.001, 0.001, 0.001, 0.001, 0.001, 0.001, 0.001, 0.001, 0.001, 0.001, 0.001, 0.001, 0.001, 0.001, 0.001, 0.001, 0.001, 0.001, 0.001, 0.001, 0.001, 0.001, 0.001, 0.001, 0.001, 0.001, 0.001, 0.001, 0.001, 0.001, 0.001, 0.001, 0.001, 0.001, 0.001, 0.001, 0.001, 0.001, 0.001, 0.001, 0.001, 0.001, 0.001, 0.001, 0.001, 0.001, 0.001, 0.001, 0.001, 0.001, 0.001, 0.001, 0.001, 0.001, 0.001, 0.001, 0.001, 0.001, 0.001, 0.001, 0.001, 0.001, 0.001, 0.001, 0.001, 0.001, 0.001, 0.001, 0.001, 0.001, 0.001, 0.001, 0.001, 0.001, 0.001, 0.001, 0.001, 0.001, 0.001, 0.001, 0.001, 0.001, 0.001, 0.001, 0.001, 0.001, 0.001, 0.001, 0.001, 0.001, 0.001, 0.001, 0.001, 0.001, 0.001, 0.001, 0.001, 0.001, 0.001, 0.001, 0.001, 0.001, 0.001, 0.001, 0.001, 0.001, 0.001, 0.001, 0.001, 0.001, 0.001, 0.001, 0.001, 0.001, 0.001, 0.001, 0.001, 0.001, 0.001, 0.001, 0.001, 0.001, 0.001, 0.001, 0.001, 0.001, 0.001, 0.001, 0.001, 0.001, 0.001, 0.001, 0.001, 0.001, 0.001, 0.001, 0.001, 0.001, 0.001, 0.001, 0.001, 0.001, 0.001, 0.001, 0.001, 0.001, 0.001, 0.001, 0.001, 0.001, 0.001, 0.001, 0.001, 0.001, 0.001, 0.001, 0.001, 0.001, 0.001, 0.001, 0.001, 0.001, 0.001, 0.001, 0.001, 0.001, 0.001, 0.001, 0.001, 0.001, 0.001, 0.001, 0.001, 0.001, 0.001, 0.001, 0.001, 0.001, 0.001, 0.001, 0.001, 0.001, 0.001, 0.001, 0.001, 0.001, 0.001, 0.001, 0.001, 0.001, 0.001, 0.001, 0.001, 0.001, 0.001, 0.001, 0.001, 0.001, 0.001, 0.001, 0.001, 0.001, 0.001, 0.001, 0.001, 0.001, 0.001, 0.001, 0.001, 0.001, 0.001, 0.001, 0.001, 0.001, 0.001, 0.001, 0.001, 0.001, 0.001, 0.001, 0.001, 0.001, 0.001, 0.001, 0.001, 0.001, 0.001, 0.001, 0.001, 0.001, 0.001, 0.001, 0.001, 0.001, 0.001, 0.001, 0.001, 0.001, 0.001, 0.001, 0.001, 0.001, 0.001, 0.001, 0.001, 0.001, 0.001, 0.001, 0.001, 0.001, 0.001, 0.001, 0.001, 0.001, 0.001, 0.001, 0.001, 0.001, 0.001, 0.001, 0.001, 0.001, 0.001, 0.001, 0.001, 0.001, 0.001, 0.001, 0.001, 0.001, 0.001, 0.001, 0.001, 0.001, 0.001, 0.001, 0.001, 0.001, 0.001, 0.001, 0.001, 0.001, 0.001, 0.001, 0.001, 0.001, 0.001, 0.001, 0.001, 0.001, 0.001, 0.001, 0.001, 0.001, 0.001, 0.001, 0.001, 0.001, 0.001, 0.001, 0.001, 0.001, 0.001, 0.001, 0.001, 0.001, 0.001, 0.001, 0.001, 0.001, 0.001, 0.001, 0.001, 0.001, 0.001, 0.001, 0.001, 0.001, 0.001, 0.001, 0.001, 0.001, 0.001, 0.001, 0.001, 0.001, 0.001, 0.001, 0.001, 0.001, 0.001, 0.001, 0.001, 0.001, 0.001, 0.001, 0.001, 0.001, 0.001, 0.001, 0.001, 0.001, 0.001, 0.001, 0.001, 0.001, 0.001, 0.001, 0.001, 0.001, 0.001, 0.001, 0.001, 0.001, 0.001, 0.001, 0.001, 0.001, 0.001, 0.001, 0.001, 0.001, 0.001, 0.001, 0.001, 0.001, 0.001, 0.001, 0.001, 0.001, 0.001, 0.001, 0.001, 0.001, 0.001, 0.001, 0.001, 0.001, 0.001, 0.001, 0.001, 0.001, 0.001, 0.001, 0.001, 0.001, 0.001, 0.001, 0.001, 0.001, 0.001, 0.001, 0.001, 0.001, 0.001, 0.001, 0.001, 0.001, 0.001, 0.001, 0.001, 0.001, 0.001, 0.001, 0.001, 0.001, 0.001, 0.001, 0.001, 0.001, 0.001, 0.001, 0.001, 0.001, 0.001, 0.001, 0.001, 0.001, 0.001, 0.001, 0.001, 0.001, 0.001, 0.001, 0.001, 0.001, 0.001, 0.001, 0.001, 0.001, 0.001, 0.001, 0.001, 0.001, 0.001, 0.001, 0.001, 0.001, 0.001, 0.001, 0.001, 0.001, 0.001, 0.001, 0.001, 0.001, 0.001, 0.001, 0.001, 0.001, 0.001, 0.001, 0.001, 0.001, 0.001, 0.001, 0.001, 0.001, 0.001, 0.001, 0.001, 0.001, 0.001, 0.001, 0.001, 0.001, 0.001, 0.001, 0.001, 0.001, 0.001, 0.001, 0.001, 0.001, 0.001, 0.001, 0.001, 0.001, 0.001, 0.001, 0.001, 0.001, 0.001, 0.001, 0.001, 0.001, 0.001, 0.001, 0.001, 0.001, 0.001, 0.001, 0.001, 0.001, 0.001, 0.001, 0.001, 0.001, 0.001, 0.001, 0.001, 0.001, 0.001, 0.001, 0.001, 0.001, 0.001, 0.001, 0.001, 0.001, 0.001, 0.001, 0.001, 0.001, 0.001, 0.001, 0.001, 0.001, 0.001, 0.001, 0.001, 0.001, 0.001, 0.001, 0.001, 0.001, 0.001, 0.001, 0.001, 0.001, 0.001, 0.001, 0.001, 0.001, 0.001, 0.001, 0.001, 0.001, 0.001, 0.001, 0.001, 0.001, 0.001, 0.001, 0.001, 0.001, 0.001, 0.001, 0.001, 0.001, 0.001, 0.001, 0.001, 0.001, 0.001, 0.001, 0.001, 0.001, 0.001, 0.001, 0.001, 0.001, 0.001, 0.001, 0.001, 0.001, 0.001, 0.001, 0.001, 0.001, 0.001, 0.001, 0.001, 0.001, 0.001, 0.001, 0.001, 0.001, 0.001, 0.001, 0.001, 0.001, 0.001, 0.001, 0.001, 0.001, 0.001, 0.001, 0.001, 0.001, 0.001, 0.001, 0.001, 0.001, 0.001, 0.001, 0.001, 0.001, 0.001, 0.001, 0.001, 0.001, 0.001, 0.001, 0.001, 0.001, 0.001, 0.001, 0.001, 0.001, 0.001, 0.001, 0.001, 0.001, 0.001, 0.001, 0.001, 0.001, 0.001, 0.001, 0.001, 0.001, 0.001, 0.001, 0.001, 0.001, 0.001, 0.001, 0.001, 0.001, 0.001, 0.001, 0.001, 0.001, 0.001, 0.001, 0.001, 0.001, 0.001, 0.001, 0.001, 0.001, 0.001, 0.001, 0.001, 0.001, 0.001, 0.001, 0.001, 0.001, 0.001, 0.001, 0.001, 0.001, 0.001, 0.001, 0.001, 0.001, 0.001, 0.001, 0.001, 0.001, 0.001, 0.001, 0.001, 0.001, 0.001, 0.001, 0.001, 0.001, 0.001, 0.001, 0.001, 0.001, 0.001, 0.001, 0.001, 0.001, 0.001, 0.001, 0.001, 0.001, 0.001, 0.001, 0.001, 0.001, 0.001, 0.001, 0.001, 0.001, 0.001, 0.001, 0.001, 0.001, 0.001, 0.001, 0.001, 0.001, 0.001, 0.001, 0.001, 0.001, 0.001, 0.001, 0.001, 0.001, 0.001, 0.001, 0.001, 0.001, 0.001, 0.001, 0.001, 0.001, 0.001, 0.001, 0.001, 0.001, 0.001, 0.001, 0.001, 0.001, 0.001, 0.001, 0.001, 0.001, 0.001, 0.001, 0.001, 0.001, 0.001, 0.001, 0.001, 0.001, 0.001, 0.001, 0.001, 0.001, 0.001, 0.001, 0.001, 0.001, 0.001, 0.001, 0.001, 0.001, 0.001, 0.001, 0.001, 0.001, 0.001, 0.001, 0.001, 0.001, 0.001, 0.001, 0.001, 0.001, 0.001, 0.001, 0.001, 0.001, 0.001, 0.001, 0.001, 0.001, 0.001, 0.001, 0.001, 0.001, 0.001, 0.001, 0.001, 0.001, 0.001, 0.001, 0.001, 0.001, 0.001, 0.001, 0.001, 0.001, 0.001, 0.001, 0.001, 0.001, 0.001, 0.001, 0.001, 0.001, 0.001, 0.001, 0.001, 0.001, 0.001, 0.001, 0.001, 0.001, 0.001, 0.001, 0.001, 0.001, 0.001, 0.001, 0.001, 0.001, 0.001, 0.001, 0.001, 0.001, 0.001, 0.001, 0.001, 0.001, 0.001, 0.001, 0.001, 0.001, 0.001, 0.001, 0.001, 0.001, 0.001, 0.001, 0.001, 0.001, 0.001, 0.001, 0.001, 0.001, 0.001, 0.001, 0.001, 0.001, 0.001, 0.001, 0.001, 0.001, 0.001, 0.001, 0.001, 0.001, 0.001, 0.001, 0.001, 0.001, 0.001, 0.001, 0.001, 0.001, 0.001, 0.001, 0.001, 0.001, 0.001, 0.001, 0.001, 0.001, 0.001, 0.001, 0.001, 0.001, 0.001, 0.001, 0.001, 0.001, 0.001, 0.001, 0.001, 0.001, 0.001, 0.001, 0.001, 0.001, 0.001, 0.001, 0.001, 0.001, 0.001, 0.001, 0.001, 0.001, 0.001, 0.001, 0.001, 0.001, 0.001, 0.001, 0.001, 0.001, 0.001, 0.001, 0.001, 0.001, 0.001, 0.001, 0.001, 0.001, 0.001, 0.001, 0.001, 0.001, 0.001, 0.001, 0.001, 0.001, 0.001, 0.001, 0.001, 0.001, 0.001, 0.001, 0.001, 0.001, 0.001, 0.001, 0.001, 0.001, 0.001, 0.001, 0.001, 0.001, 0.001, 0.001, 0.001, 0.001, 0.001, 0.001, 0.001, 0.001, 0.001, 0.001, 0.001, 0.001, 0.001, 0.001, 0.001, 0.001, 0.001, 0.001, 0.001, 0.001, 0.001, 0.001, 0.001, 0.001, 0.001, 0.001, 0.001, 0.001, 0.001, 0.001, 0.001, 0.001, 0.001, 0.001, 0.001, 0.001, 0.001, 0.001, 0.001, 0.001, 0.001, 0.001, 0.001, 0.001, 0.001, 0.001, 0.001, 0.001, 0.001, 0.001, 0.001, 0.001, 0.001, 0.001, 0.001, 0.001, 0.001, 0.001, 0.001, 0.001, 0.001, 0.001, 0.001, 0.001, 0.001, 0.001, 0.001, 0.001, 0.001, 0.001, 0.001, 0.001, 0.001, 0.001, 0.001, 0.001, 0.001, 0.001, 0.001, 0.001, 0.001, 0.001, 0.001, 0.001, 0.001, 0.001, 0.001, 0.001, 0.001, 0.001, 0.001, 0.001, 0.001, 0.001, 0.001, 0.001, 0.001, 0.001, 0.001, 0.001, 0.001, 0.001, 0.001, 0.001, 0.001, 0.001, 0.001, 0.001, 0.001, 0.001, 0.001, 0.001, 0.001, 0.001, 0.001, 0.001, 0.001, 0.001, 0.001, 0.001, 0.001, 0.001, 0.001, 0.001, 0.001, 0.001, 0.001, 0.001, 0.001, 0.001, 0.001, 0.001, 0.001, 0.001, 0.001, 0.001, 0.001, 0.001, 0.001, 0.001, 0.001, 0.001, 0.001, 0.001, 0.001, 0.001, 0.001, 0.001, 0.001, 0.001, 0.001, 0.001, 0.001, 0.001, 0.001, 0.001, 0.001, 0.001, 0.001, 0.001, 0.001, 0.001, 0.001, 0.001, 0.001, 0.001, 0.001, 0.001, 0.001, 0.001, 0.001, 0.001, 0.001, 0.001, 0.001, 0.001, 0.001, 0.001, 0.001, 0.001, 0.001, 0.001, 0.001, 0.001, 0.001, 0.001, 0.001, 0.001, 0.001, 0.001, 0.001, 0.001, 0.001, 0.001, 0.001, 0.001, 0.001, 0.001, 0.001, 0.001, 0.001, 0.001, 0.001, 0.001, 0.001, 0.001, 0.001, 0.001, 0.001, 0.001, 0.001, 0.001, 0.001, 0.001, 0.001, 0.001, 0.001, 0.001, 0.001, 0.001, 0.001, 0.001, 0.001, 0.001, 0.001, 0.001, 0.001, 0.001, 0.001, 0.001, 0.001, 0.001, 0.001, 0.001, 0.001, 0.001, 0.001, 0.001, 0.001, 0.001, 0.001, 0.001, 0.001, 0.001, 0.001, 0.001, 0.001, 0.001, 0.001, 0.001, 0.001, 0.001, 0.001, 0.001, 0.001, 0.001, 0.001, 0.001, 0.001, 0.001, 0.001, 0.001, 0.001, 0.001, 0.001, 0.001, 0.001, 0.001, 0.001, 0.001, 0.001, 0.001, 0.001, 0.001, 0.001, 0.001, 0.001, 0.001, 0.001, 0.001, 0.001, 0.001, 0.001, 0.001, 0.001, 0.001, 0.001, 0.001, 0.001, 0.001, 0.001, 0.001, 0.001, 0.001, 0.001, 0.001, 0.001, 0.001, 0.001, 0.001, 0.001, 0.001, 0.001, 0.001, 0.001, 0.001, 0.001, 0.001, 0.001, 0.001, 0.001, 0.001, 0.001, 0.001, 0.001, 0.001, 0.001, 0.001, 0.001, 0.001, 0.001, 0.001, 0.001, 0.001, 0.001, 0.001, 0.001, 0.001, 0.001, 0.001, 0.001, 0.001, 0.001, 0.001, 0.001, 0.001, 0.001, 0.001, 0.001, 0.001, 0.001, 0.001, 0.001, 0.001, 0.001, 0.001, 0.001, 0.001, 0.001, 0.001, 0.001, 0.001, 0.001, 0.001, 0.001, 0.001, 0.001, 0.001, 0.001, 0.001, 0.001, 0.001, 0.001, 0.001, 0.001, 0.001, 0.001, 0.001, 0.001, 0.001, 0.001, 0.001, 0.001, 0.001, 0.001, 0.001, 0.001, 0.001, 0.001, 0.001, 0.001, 0.001, 0.001, 0.001, 0.001, 0.001, 0.001, 0.001, 0.001, 0.001, 0.001, 0.001, 0.001, 0.001, 0.001, 0.001, 0.001, 0.001, 0.001, 0.001, 0.001, 0.001, 0.001, 0.001, 0.001, 0.001, 0.001, 0.001, 0.001, 0.001, 0.001, 0.001, 0.001, 0.001, 0.001, 0.001, 0.001, 0.001, 0.001, 0.001, 0.001, 0.001, 0.001, 0.001, 0.001, 0.001, 0.001, 0.001, 0.001, 0.001, 0.001, 0.001, 0.001, 0.001, 0.001, 0.001, 0.001, 0.001, 0.001, 0.001, 0.001, 0.001, 0.001, 0.001, 0.001, 0.001, 0.001, 0.001, 0.001, 0.001, 0.001, 0.001, 0.001, 0.001, 0.001, 0.001, 0.001, 0.001, 0.001, 0.001, 0.001, 0.001, 0.001, 0.001, 0.001, 0.001, 0.001, 0.001, 0.001, 0.001, 0.001, 0.001, 0.001, 0.001, 0.001, 0.001, 0.001, 0.001, 0.001, 0.001, 0.001, 0.001, 0.001, 0.001, 0.001, 0.001, 0.001, 0.001, 0.001, 0.001, 0.001, 0.001, 0.001, 0.001, 0.001, 0.001, 0.001, 0.001, 0.001, 0.001, 0.001, 0.001, 0.001, 0.001, 0.001, 0.001, 0.001, 0.001, 0.001, 0.001, 0.001, 0.001, 0.001, 0.001, 0.001, 0.001, 0.001, 0.001, 0.001, 0.001, 0.001, 0.001, 0.001, 0.001, 0.001, 0.001, 0.001, 0.001, 0.001, 0.001, 0.001, 0.001, 0.001, 0.001, 0.001, 0.001, 0.001, 0.001, 0.001, 0.001, 0.001, 0.001, 0.001, 0.001, 0.001, 0.001, 0.001, 0.001, 0.001, 0.001, 0.001, 0.001, 0.001, 0.001, 0.001, 0.001, 0.001, 0.001, 0.001, 0.001, 0.001, 0.001, 0.001, 0.001, 0.001, 0.001, 0.001, 0.001, 0.001, 0.001, 0.001, 0.001, 0.001, 0.001, 0.001, 0.001, 0.001, 0.001, 0.001, 0.001, 0.001, 0.001, 0.001, 0.001, 0.001, 0.001, 0.001, 0.001, 0.001, 0.001, 0.001, 0.001, 0.001, 0.001, 0.001, 0.001, 0.001, 0.001, 0.001, 0.001, 0.001, 0.001, 0.001, 0.001, 0.001, 0.001, 0.001, 0.001, 0.001, 0.001, 0.001, 0.001, 0.001, 0.001, 0.001, 0.001, 0.001, 0.001, 0.001, 0.001, 0.001, 0.001, 0.001, 0.001, 0.001, 0.001, 0.001, 0.001, 0.001, 0.001, 0.001, 0.001, 0.001, 0.001, 0.001, 0.001, 0.001, 0.001, 0.001, 0.001, 0.001, 0.001, 0.001, 0.001, 0.001, 0.001, 0.001, 0.001, 0.001, 0.001, 0.001, 0.001, 0.001, 0.001, 0.001, 0.001, 0.001, 0.001, 0.001, 0.001, 0.001, 0.001, 0.001, 0.001, 0.001, 0.001, 0.001, 0.001, 0.001, 0.001, 0.001, 0.001, 0.001, 0.001, 0.001, 0.001, 0.001, 0.001, 0.001, 0.001, 0.001, 0.001, 0.001, 0.001, 0.001, 0.001, 0.001, 0.001, 0.001, 0.001, 0.001, 0.001, 0.001, 0.001, 0.001, 0.001, 0.001, 0.001, 0.001, 0.001, 0.001, 0.001, 0.001, 0.001, 0.001, 0.001, 0.001, 0.001, 0.001, 0.001, 0.001, 0.001, 0.001, 0.001, 0.001, 0.001, 0.001, 0.001, 0.001, 0.001, 0.001, 0.001, 0.001, 0.001, 0.001, 0.001, 0.001, 0.001, 0.001, 0.001, 0.001, 0.001, 0.001, 0.001, 0.001, 0.001, 0.001, 0.001, 0.001, 0.001, 0.001, 0.001, 0.001, 0.001, 0.001, 0.001, 0.001, 0.001, 0.001, 0.001, 0.001, 0.001, 0.001, 0.001, 0.001, 0.001, 0.001, 0.001, 0.001, 0.001, 0.001, 0.001, 0.001, 0.001, 0.001, 0.001, 0.001, 0.001, 0.001, 0.001, 0.001, 0.001, 0.001, 0.001, 0.001, 0.001, 0.001, 0.001, 0.001, 0.001, 0.001, 0.001, 0.001, 0.001, 0.001, 0.001, 0.001, 0.001, 0.001, 0.001, 0.001, 0.001, 0.001, 0.001, 0.001, 0.001, 0.001, 0.001, 0.001, 0.001, 0.001, 0.001, 0.001, 0.001, 0.001, 0.001, 0.001, 0.001, 0.001, 0.001, 0.001, 0.001, 0.001, 0.001, 0.001, 0.001, 0.001, 0.001, 0.001, 0.001, 0.001, 0.001, 0.001, 0.001, 0.001, 0.001, 0.001, 0.001, 0.001, 0.001, 0.001, 0.001, 0.001, 0.001, 0.001, 0.001, 0.001, 0.001, 0.001, 0.001, 0.001, 0.001, 0.001, 0.001, 0.001, 0.001, 0.001, 0.001, 0.001, 0.001, 0.001, 0.001, 0.001, 0.001, 0.001, 0.001, 0.001, 0.001, 0.001, 0.001, 0.001, 0.001, 0.001, 0.001, 0.001, 0.001, 0.001, 0.001, 0.001, 0.001, 0.001, 0.001, 0.001, 0.001, 0.001, 0.001, 0.001, 0.001, 0.001, 0.001, 0.001, 0.001, 0.001, 0.001, 0.001, 0.001, 0.001, 0.001, 0.001, 0.001, 0.001, 0.001, 0.001, 0.001, 0.001, 0.001, 0.001, 0.001, 0.001, 0.001, 0.001, 0.001, 0.001, 0.001, 0.001, 0.001, 0.001, 0.001, 0.001, 0.001, 0.001, 0.001, 0.001, 0.001, 0.001, 0.001, 0.001, 0.001, 0.001, 0.001, 0.001, 0.001, 0.001, 0.001, 0.001, 0.001, 0.001, 0.001, 0.001, 0.001, 0.001, 0.001, 0.001, 0.001, 0.001, 0.001, 0.001, 0.001, 0.001, 0.001, 0.001, 0.001, 0.001, 0.001, 0.001, 0.001, 0.001, 0.001, 0.001, 0.001, 0.001, 0.001, 0.001, 0.001, 0.001, 0.001, 0.001, 0.001, 0.001, 0.001, 0.001, 0.001, 0.001, 0.001, 0.001, 0.001, 0.001, 0.001, 0.001, 0.001, 0.001, 0.001, 0.001, 0.001, 0.001, 0.001, 0.001, 0.001, 0.001, 0.001, 0.001, 0.001, 0.001, 0.001, 0.001, 0.001, 0.001, 0.001, 0.001, 0.001, 0.001, 0.001, 0.001, 0.001, 0.001, 0.001, 0.001, 0.001, 0.001, 0.001, 0.001, 0.001, 0.001, 0.001, 0.001, 0.001, 0.001, 0.001, 0.001, 0.001, 0.001, 0.001, 0.001, 0.001, 0.001, 0.001, 0.001, 0.001, 0.001, 0.001, 0.001, 0.001, 0.001, 0.001, 0.001, 0.001, 0.001, 0.001, 0.001, 0.001, 0.001, 0.001, 0.001, 0.001, 0.001, 0.001, 0.001, 0.001, 0.001, 0.001, 0.001, 0.001, 0.001, 0.001, 0.001, 0.001, 0.001, 0.001, 0.001, 0.001, 0.001, 0.001, 0.001, 0.001, 0.001, 0.001, 0.001, 0.001, 0.001, 0.001, 0.001, 0.001, 0.001, 0.001, 0.001, 0.001, 0.001, 0.001, 0.001, 0.001, 0.001, 0.001, 0.001, 0.001, 0.001, 0.001, 0.001, 0.001, 0.001, 0.001, 0.001, 0.001, 0.001, 0.001, 0.001, 0.001, 0.001, 0.001, 0.001, 0.001, 0.001, 0.001, 0.001, 0.001, 0.001, 0.001, 0.001, 0.001, 0.001, 0.001, 0.001, 0.001, 0.001, 0.001, 0.001, 0.001, 0.001, 0.001, 0.001, 0.001, 0.001, 0.001, 0.001, 0.001, 0.001, 0.001, 0.001, 0.001, 0.001, 0.001, 0.001, 0.001, 0.001, 0.001, 0.001, 0.001, 0.001, 0.001, 0.001, 0.001, 0.001, 0.001, 0.001, 0.001, 0.001, 0.001, 0.001, 0.001, 0.001, 0.001, 0.001, 0.001, 0.001, 0.001, 0.001, 0.001, 0.001, 0.001, 0.001, 0.001, 0.001, 0.001, 0.001, 0.001, 0.001, 0.001, 0.001, 0.001, 0.001, 0.001, 0.001, 0.001, 0.001, 0.001, 0.001, 0.001, 0.001, 0.001, 0.001, 0.001, 0.001, 0.001, 0.001, 0.001, 0.001, 0.001, 0.001, 0.001, 0.001, 0.001, 0.001, 0.001, 0.001, 0.001, 0.001, 0.001, 0.001, 0.001, 0.001, 0.001, 0.001, 0.001, 0.001, 0.001, 0.001, 0.001, 0.001, 0.001, 0.001, 0.001, 0.001, 0.001, 0.001, 0.001, 0.001, 0.001, 0.001, 0.001, 0.001, 0.001, 0.001, 0.001, 0.001, 0.001, 0.001, 0.001, 0.001, 0.001, 0.001, 0.001, 0.001, 0.001, 0.001, 0.001, 0.001, 0.001, 0.001, 0.001, 0.001, 0.001, 0.001, 0.001, 0.001, 0.001, 0.001, 0.001, 0.001, 0.001, 0.001, 0.001, 0.001, 0.001, 0.001, 0.001, 0.001, 0.001, 0.001, 0.001, 0.001, 0.001, 0.001, 0.001, 0.001, 0.001, 0.001, 0.001, 0.001, 0.001, 0.001, 0.001, 0.001, 0.001, 0.001, 0.001, 0.001, 0.001, 0.001, 0.001, 0.001, 0.001, 0.001, 0.001, 0.001, 0.001, 0.001, 0.001, 0.001, 0.001, 0.001, 0.001, 0.001, 0.001, 0.001, 0.001, 0.001, 0.001, 0.001, 0.001, 0.001, 0.001, 0.001, 0.001, 0.001, 0.001, 0.001, 0.001, 0.001, 0.001, 0.001, 0.001, 0.001, 0.001, 0.001, 0.001, 0.001, 0.001, 0.001, 0.001, 0.001, 0.001, 0.001, 0.001, 0.001, 0.001, 0.001, 0.001, 0.001, 0.001, 0.001, 0.001, 0.001, 0.001, 0.001, 0.001, 0.001, 0.001, 0.001, 0.001, 0.001, 0.001, 0.001, 0.001, 0.001, 0.001, 0.001, 0.001, 0.001, 0.001, 0.001, 0.001, 0.001, 0.001, 0.001, 0.001, 0.001, 0.001, 0.001, 0.001, 0.001, 0.001, 0.001, 0.001, 0.001, 0.001, 0.001, 0.001, 0.001, 0.001, 0.001, 0.001, 0.001, 0.001, 0.001, 0.001, 0.001, 0.001, 0.001, 0.001, 0.001, 0.001, 0.001, 0.001, 0.001, 0.001, 0.001, 0.001, 0.001, 0.001, 0.001, 0.001, 0.001, 0.001, 0.001, 0.001, 0.001, 0.001, 0.001, 0.001, 0.001, 0.001, 0.001, 0.001, 0.001, 0.001, 0.001, 0.001, 0.001, 0.001, 0.001, 0.001, 0.001, 0.001, 0.001, 0.001, 0.001, 0.001, 0.001, 0.001, 0.001, 0.001, 0.001, 0.001, 0.001, 0.001, 0.001, 0.001, 0.001, 0.001, 0.001, 0.001, 0.001, 0.001, 0.001, 0.001, 0.001, 0.001, 0.001, 0.001, 0.001, 0.001, 0.001, 0.001, 0.001, 0.001, 0.001, 0.001, 0.001, 0.001, 0.001, 0.001, 0.001, 0.001, 0.001, 0.001, 0.001, 0.001, 0.001, 0.001, 0.001, 0.001, 0.001, 0.001, 0.001, 0.001, 0.001, 0.001, 0.001, 0.001, 0.001, 0.001, 0.001, 0.001, 0.001, 0.001, 0.001, 0.001, 0.001, 0.001, 0.001, 0.001, 0.001, 0.001, 0.001, 0.001, 0.001, 0.001, 0.001, 0.001, 0.001, 0.001, 0.001, 0.001, 0.001, 0.001, 0.001, 0.001, 0.001, 0.001, 0.001, 0.001, 0.001, 0.001, 0.001, 0.001, 0.001, 0.001, 0.001, 0.001, 0.001, 0.001, 0.001, 0.001, 0.001, 0.001, 0.001, 0.001, 0.001, 0.001, 0.001, 0.001, 0.001, 0.001, 0.001, 0.001, 0.001, 0.001, 0.001, 0.001, 0.001, 0.001, 0.001, 0.001, 0.001, 0.001, 0.001, 0.001, 0.001, 0.001, 0.001, 0.001, 0.001, 0.001, 0.001, 0.001, 0.001, 0.001, 0.001, 0.001, 0.001, 0.001, 0.001, 0.001, 0.001, 0.001, 0.001, 0.001, 0.001, 0.001, 0.001, 0.001, 0.001, 0.001, 0.001, 0.001, 0.001, 0.001, 0.001, 0.001, 0.001, 0.001, 0.001, 0.001, 0.001, 0.001, 0.001, 0.001, 0.001, 0.001, 0.001, 0.001, 0.001, 0.001, 0.001, 0.001, 0.001, 0.001, 0.001, 0.001, 0.001, 0.001, 0.001, 0.001, 0.001, 0.001, 0.001, 0.001, 0.001, 0.001, 0.001, 0.001, 0.001, 0.001, 0.001, 0.001, 0.001, 0.001, 0.001, 0.001, 0.001, 0.001, 0.001, 0.001, 0.001, 0.001, 0.001, 0.001, 0.001, 0.001, 0.001, 0.001, 0.001, 0.001, 0.001, 0.001, 0.001, 0.001, 0.001, 0.001, 0.001, 0.001, 0.001, 0.001, 0.001, 0.001, 0.001, 0.001, 0.001, 0.001, 0.001, 0.001, 0.001, 0.001, 0.001, 0.001, 0.001, 0.001, 0.001, 0.001, 0.001, 0.001, 0.001, 0.001, 0.001, 0.001, 0.001, 0.001, 0.001, 0.001, 0.001, 0.001, 0.001, 0.001, 0.001, 0.001, 0.001, 0.001, 0.001, 0.001, 0.001, 0.001, 0.001, 0.001, 0.001, 0.001, 0.001, 0.001, 0.001, 0.001, 0.001, 0.001, 0.001, 0.001, 0.001, 0.001, 0.001, 0.001, 0.001, 0.001, 0.001, 0.001, 0.001, 0.001, 0.001, 0.001, 0.001, 0.001, 0.001, 0.001, 0.001, 0.001, 0.001, 0.001, 0.001, 0.001, 0.001, 0.001, 0.001, 0.001, 0.001, 0.001, 0.001, 0.001, 0.001, 0.001, 0.001, 0.001, 0.001, 0.001, 0.001, 0.001, 0.001, 0.001, 0.001, 0.001, 0.001, 0.001, 0.001, 0.001, 0.001, 0.001, 0.001, 0.001, 0.001, 0.001, 0.001, 0.001, 0.001, 0.001, 0.001, 0.001, 0.001, 0.001, 0.001, 0.001, 0.001, 0.001, 0.001, 0.001, 0.001, 0.001, 0.001, 0.001, 0.001, 0.001, 0.001, 0.001, 0.001, 0.001, 0.001, 0.001, 0.001, 0.001, 0.001, 0.001, 0.001, 0.001, 0.001, 0.001, 0.001, 0.001, 0.001, 0.001, 0.001, 0.001, 0.001, 0.001, 0.001, 0.001, 0.001, 0.001, 0.001, 0.001, 0.001, 0.001, 0.001, 0.001, 0.001, 0.001, 0.001, 0.001, 0.001, 0.001, 0.001, 0.001, 0.001, 0.001, 0.001, 0.001, 0.001, 0.001, 0.001, 0.001, 0.001, 0.001, 0.001, 0.001, 0.001, 0.001, 0.001, 0.001, 0.001, 0.001, 0.001, 0.001, 0.001, 0.001, 0.001, 0.001, 0.001, 0.001, 0.001, 0.001, 0.001, 0.001, 0.001, 0.001, 0.001, 0.001, 0.001, 0.001, 0.001, 0.001, 0.001, 0.001, 0.001, 0.001, 0.001, 0.001, 0.001, 0.001, 0.001, 0.001, 0.001, 0.001, 0.001, 0.001, 0.001, 0.001, 0.001, 0.001, 0.001, 0.001, 0.001, 0.001, 0.001, 0.001, 0.001, 0.001, 0.001, 0.001, 0.001, 0.001, 0.001, 0.001, 0.001, 0.001, 0.001, 0.001, 0.001, 0.001, 0.001, 0.001, 0.001, 0.001, 0.001, 0.001, 0.001, 0.001, 0.001, 0.001, 0.001, 0.001, 0.001, 0.001, 0.001, 0.001, 0.001, 0.001, 0.001, 0.001, 0.001, 0.001, 0.001, 0.001, 0.001, 0.001, 0.001, 0.001, 0.001, 0.001, 0.001, 0.001, 0.001, 0.001, 0.001, 0.001, 0.001, 0.001, 0.001, 0.001, 0.001, 0.001, 0.001, 0.001, 0.001, 0.001, 0.001, 0.001, 0.001, 0.001, 0.001, 0.001, 0.001, 0.001, 0.001, 0.001, 0.001, 0.001, 0.001, 0.001, 0.001, 0.001, 0.001, 0.001, 0.001, 0.001, 0.001, 0.001, 0.001, 0.001, 0.001, 0.001, 0.001, 0.001, 0.001, 0.001, 0.001, 0.001, 0.001, 0.001, 0.001, 0.001, 0.001, 0.001, 0.001, 0.001, 0.001, 0.001, 0.001, 0.001, 0.001, 0.001, 0.001, 0.001, 0.001, 0.001, 0.001, 0.001, 0.001, 0.001, 0.001, 0.001, 0.001, 0.001, 0.001, 0.001, 0.001, 0.001, 0.001, 0.001, 0.001, 0.001, 0.001, 0.001, 0.001, 0.001, 0.001, 0.001, 0.001, 0.001, 0.001, 0.001, 0.001, 0.001, 0.001, 0.001, 0.001, 0.001, 0.001, 0.001, 0.001, 0.001, 0.001, 0.001, 0.001, 0.001, 0.001, 0.001, 0.001, 0.001, 0.001, 0.001, 0.001, 0.001, 0.001, 0.001, 0.001, 0.001, 0.001, 0.001, 0.001, 0.001, 0.001, 0.001, 0.001, 0.001, 0.001, 0.001, 0.001, 0.001, 0.001, 0.001, 0.001, 0.001, 0.001, 0.001, 0.001, 0.001, 0.001, 0.001, 0.001, 0.001, 0.001, 0.001, 0.001, 0.001, 0.001, 0.001, 0.001, 0.001, 0.001, 0.001, 0.001, 0.001, 0.001, 0.001, 0.001, 0.001, 0.001, 0.001, 0.001, 0.001, 0.001, 0.001, 0.001, 0.001, 0.001, 0.001, 0.001, 0.001, 0.001, 0.001, 0.001, 0.001, 0.001, 0.001, 0.001, 0.001, 0.001, 0.001, 0.001, 0.001, 0.001, 0.001, 0.001, 0.001, 0.001, 0.001, 0.001, 0.001, 0.001, 0.001, 0.001, 0.001, 0.001, 0.001, 0.001, 0.001, 0.001, 0.001, 0.001, 0.001, 0.001, 0.001, 0.001, 0.001, 0.001, 0.001, 0.001, 0.001, 0.001, 0.001, 0.001, 0.001, 0.001, 0.001, 0.001, 0.001, 0.001, 0.001, 0.001, 0.001, 0.001, 0.001, 0.001, 0.001, 0.001, 0.001, 0.001, 0.001, 0.001, 0.001, 0.001, 0.001, 0.001, 0.001, 0.001, 0.001, 0.001, 0.001, 0.001, 0.001, 0.001, 0.001, 0.001, 0.001, 0.001, 0.001, 0.001, 0.001, 0.001, 0.001, 0.001, 0.001, 0.001, 0.001, 0.001, 0.001, 0.001, 0.001, 0.001, 0.001, 0.001, 0.001, 0.001, 0.001, 0.001, 0.001, 0.001, 0.001, 0.001, 0.001, 0.001, 0.001, 0.001, 0.001, 0.001, 0.001, 0.001, 0.001, 0.001, 0.001, 0.001, 0.001, 0.001, 0.001, 0.001, 0.001, 0.001, 0.001, 0.001, 0.001, 0.001, 0.001, 0.001, 0.001, 0.001, 0.001, 0.001, 0.001, 0.001, 0.001, 0.001, 0.001, 0.001, 0.001, 0.001, 0.001, 0.001, 0.001, 0.001, 0.001, 0.001, 0.001, 0.001, 0.001, 0.001, 0.001, 0.001, 0.001, 0.001, 0.001, 0.001, 0.001, 0.001, 0.001, 0.001, 0.001, 0.001, 0.001, 0.001, 0.001, 0.001, 0.001, 0.001, 0.001, 0.001, 0.001, 0.001, 0.001, 0.001, 0.001, 0.001, 0.001, 0.001, 0.001, 0.001, 0.001, 0.001, 0.001, 0.001, 0.001, 0.001, 0.001, 0.001, 0.001, 0.001, 0.001, 0.001, 0.001, 0.001, 0.001, 0.001, 0.001, 0.001, 0.001, 0.001, 0.001, 0.001, 0.001, 0.001, 0.001, 0.001, 0.001, 0.001, 0.001, 0.001, 0.001, 0.001, 0.001, 0.001, 0.001, 0.001, 0.001, 0.001, 0.001, 0.001, 0.001, 0.001, 0.001, 0.001, 0.001, 0.001, 0.001, 0.001, 0.001, 0.001, 0.001, 0.001, 0.001, 0.001, 0.001, 0.001, 0.001, 0.001, 0.001, 0.001, 0.001, 0.001, 0.001, 0.001, 0.001, 0.001, 0.001, 0.001, 0.001, 0.001, 0.001, 0.001, 0.001, 0.001, 0.001, 0.001, 0.001, 0.001, 0.001, 0.001, 0.001, 0.001, 0.001, 0.001, 0.001, 0.001, 0.001, 0.001, 0.001, 0.001, 0.001, 0.001, 0.001, 0.001, 0.001, 0.001, 0.001, 0.001, 0.001, 0.001, 0.001, 0.001, 0.001, 0.001, 0.001, 0.001, 0.001, 0.001, 0.001, 0.001, 0.001, 0.001, 0.001, 0.001, 0.001, 0.001, 0.001, 0.001, 0.001, 0.001, 0.001, 0.001, 0.001, 0.001, 0.001, 0.001, 0.001, 0.001, 0.001, 0.001, 0.001, 0.001, 0.001, 0.001, 0.001, 0.001, 0.001, 0.001, 0.001, 0.001, 0.001, 0.001, 0.001, 0.001, 0.001, 0.001, 0.001, 0.001, 0.001, 0.001, 0.001, 0.001, 0.001, 0.001, 0.001, 0.001, 0.001, 0.001, 0.001, 0.001, 0.001, 0.001, 0.001, 0.001, 0.001, 0.001, 0.001, 0.001, 0.001, 0.001, 0.001, 0.001, 0.001, 0.001, 0.001, 0.001, 0.001, 0.001, 0.001, 0.001, 0.001, 0.001, 0.001, 0.001, 0.001, 0.001, 0.001, 0.001, 0.001, 0.001, 0.001, 0.001, 0.001, 0.001, 0.001, 0.001, 0.001, 0.001, 0.001, 0.001, 0.001, 0.001, 0.001, 0.001, 0.001, 0.001, 0.001, 0.001, 0.001, 0.001, 0.001, 0.001, 0.001, 0.001, 0.001, 0.001, 0.001, 0.001, 0.001, 0.001, 0.001, 0.001, 0.001, 0.001, 0.001, 0.001, 0.001, 0.001, 0.001, 0.001, 0.001, 0.001, 0.001, 0.001, 0.001, 0.001, 0.001, 0.001, 0.001, 0.001, 0.001, 0.001, 0.001, 0.001, 0.001, 0.001, 0.001, 0.001, 0.001, 0.001, 0.001, 0.001, 0.001, 0.001, 0.001, 0.001, 0.001, 0.001, 0.001, 0.001, 0.001, 0.001, 0.001, 0.001, 0.001, 0.001, 0.001, 0.001, 0.001, 0.001, 0.001, 0.001, 0.001, 0.001, 0.001, 0.001, 0.001, 0.001, 0.001, 0.001, 0.001, 0.001, 0.001, 0.001, 0.001, 0.001, 0.001, 0.001, 0.001, 0.001, 0.001, 0.001, 0.001, 0.001, 0.001, 0.001, 0.001, 0.001, 0.001, 0.001, 0.001, 0.001, 0.001, 0.001, 0.001, 0.001, 0.001, 0.001, 0.001, 0.001, 0.001, 0.001, 0.001, 0.001, 0.001, 0.001, 0.001, 0.001, 0.001, 0.001, 0.001, 0.001, 0.001, 0.001, 0.001, 0.001, 0.001, 0.001, 0.001, 0.001, 0.001, 0.001, 0.001, 0.001, 0.001, 0.001, 0.001, 0.001, 0.001, 0.001, 0.001, 0.001, 0.001, 0.001, 0.001, 0.001, 0.001, 0.001, 0.001, 0.001, 0.001, 0.001, 0.001, 0.001, 0.001, 0.001, 0.001, 0.001, 0.001, 0.001, 0.001, 0.001, 0.001, 0.001, 0.001, 0.001, 0.001, 0.001, 0.001, 0.001, 0.001, 0.001, 0.001, 0.001, 0.001, 0.001, 0.001, 0.001, 0.001, 0.001, 0.001, 0.001, 0.001, 0.001, 0.001, 0.001, 0.001, 0.001, 0.001, 0.001, 0.001, 0.001, 0.001, 0.001, 0.001, 0.001, 0.001, 0.001, 0.001, 0.001, 0.001, 0.001, 0.001, 0.001, 0.001, 0.001, 0.001, 0.001, 0.001, 0.001, 0.001, 0.001, 0.001, 0.001, 0.001, 0.001, 0.001, 0.001, 0.001, 0.001, 0.001, 0.001, 0.001, 0.001, 0.001, 0.001, 0.001, 0.001, 0.001, 0.001, 0.001, 0.001, 0.001, 0.001, 0.001, 0.001, 0.001, 0.001, 0.001, 0.001, 0.001, 0.001, 0.001, 0.001, 0.001, 0.001, 0.001, 0.001, 0.001, 0.001, 0.001, 0.001, 0.001, 0.001, 0.001, 0.001, 0.001, 0.001, 0.001, 0.001, 0.001, 0.001, 0.001, 0.001, 0.001, 0.001, 0.001, 0.001, 0.001, 0.001, 0.001, 0.001, 0.001, 0.001, 0.001, 0.001, 0.001, 0.001, 0.001, 0.001, 0.001, 0.001, 0.001, 0.001, 0.001, 0.001, 0.001, 0.001, 0.001, 0.001, 0.001, 0.001, 0.001, 0.001, 0.001, 0.001, 0.001, 0.001, 0.001, 0.001, 0.001, 0.001, 0.001, 0.001, 0.001, 0.001, 0.001, 0.001, 0.001, 0.001, 0.001, 0.001, 0.001, 0.001, 0.001, 0.001, 0.001, 0.001, 0.001, 0.001, 0.001, 0.001, 0.001, 0.001, 0.001, 0.001, 0.001, 0.001, 0.001, 0.001, 0.001, 0.001, 0.001, 0.001, 0.001, 0.001, 0.001, 0.001, 0.001, 0.001, 0.001, 0.001, 0.001, 0.001, 0.001, 0.001, 0.001, 0.001, 0.001, 0.001, 0.001, 0.001, 0.001, 0.001, 0.001, 0.001, 0.001, 0.001, 0.001, 0.001, 0.001, 0.001, 0.001, 0.001, 0.001, 0.001, 0.001, 0.001, 0.001, 0.001, 0.001, 0.001, 0.001, 0.001, 0.001, 0.001, 0.001, 0.001, 0.001, 0.001, 0.001, 0.001, 0.001, 0.001, 0.001, 0.001, 0.001, 0.001, 0.001, 0.001, 0.001, 0.001, 0.001, 0.001, 0.001, 0.001, 0.001, 0.001, 0.001, 0.001, 0.001, 0.001, 0.001, 0.001, 0.001, 0.001, 0.001, 0.001, 0.001, 0.001, 0.001, 0.001, 0.001, 0.001, 0.001, 0.001, 0.001, 0.001, 0.001, 0.001, 0.001, 0.001, 0.001, 0.001, 0.001, 0.001, 0.001, 0.001, 0.001, 0.001, 0.001, 0.001, 0.001, 0.001, 0.001, 0.001, 0.001, 0.001, 0.001, 0.001, 0.001, 0.001, 0.001, 0.001, 0.001, 0.001, 0.001, 0.001, 0.001, 0.001, 0.001, 0.001, 0.001, 0.001, 0.001, 0.001, 0.001, 0.001, 0.001, 0.001, 0.001, 0.001, 0.001, 0.001, 0.001, 0.001, 0.001, 0.001, 0.001, 0.001, 0.001, 0.001, 0.001, 0.001, 0.001, 0.001, 0.001, 0.001, 0.001, 0.001, 0.001, 0.001, 0.001, 0.001, 0.001, 0.001, 0.001, 0.001, 0.001, 0.001, 0.001, 0.001, 0.001, 0.001, 0.001, 0.001, 0.001, 0.001, 0.001, 0.001, 0.001, 0.001, 0.001, 0.001, 0.001, 0.001, 0.001, 0.001, 0.001, 0.001, 0.001, 0.001, 0.001, 0.001, 0.001, 0.001, 0.001, 0.001, 0.001, 0.001, 0.001, 0.001, 0.001, 0.001, 0.001, 0.001, 0.001, 0.001, 0.001, 0.001, 0.001, 0.001, 0.001, 0.001, 0.001, 0.001, 0.001, 0.001, 0.001, 0.001, 0.001, 0.001, 0.001, 0.001, 0.001, 0.001, 0.001, 0.001, 0.001, 0.001, 0.001, 0.001, 0.001, 0.001, 0.001, 0.001, 0.001, 0.001, 0.001, 0.001, 0.001, 0.001, 0.001, 0.001, 0.001, 0.001, 0.001, 0.001, 0.001, 0.001, 0.001, 0.001, 0.001, 0.001, 0.001, 0.001, 0.001, 0.001, 0.001, 0.001, 0.001, 0.001, 0.001, 0.001, 0.001, 0.001, 0.001, 0.001, 0.001, 0.001, 0.001, 0.001, 0.001, 0.001, 0.001, 0.001, 0.001, 0.001, 0.001, 0.001, 0.001, 0.001, 0.001, 0.001, 0.001, 0.001, 0.001, 0.001, 0.001, 0.001, 0.001, 0.001, 0.001, 0.001, 0.001, 0.001, 0.001, 0.001, 0.001, 0.001, 0.001, 0.001, 0.001, 0.001, 0.001, 0.001, 0.001, 0.001, 0.001, 0.001, 0.001, 0.001, 0.001, 0.001, 0.001, 0.001, 0.001, 0.001, 0.001, 0.001, 0.001, 0.001, 0.001, 0.001, 0.001, 0.001, 0.001, 0.001, 0.001, 0.001, 0.001, 0.001, 0.001, 0.001, 0.001, 0.001, 0.001, 0.001, 0.001, 0.001, 0.001, 0.001, 0.001, 0.001, 0.001, 0.001, 0.001, 0.001, 0.001, 0.001, 0.001, 0.001, 0.001, 0.001, 0.001, 0.001, 0.001, 0.001, 0.001, 0.001, 0.001, 0.001, 0.001, 0.001, 0.001, 0.001, 0.001, 0.001, 0.001, 0.001, 0.001, 0.001, 0.001, 0.001, 0.001, 0.001, 0.001, 0.001, 0.001, 0.001, 0.001, 0.001, 0.001, 0.001, 0.001, 0.001, 0.001, 0.001, 0.001, 0.001, 0.001, 0.001, 0.001, 0.001, 0.001, 0.001, 0.001, 0.001, 0.001, 0.001, 0.001, 0.001, 0.001, 0.001, 0.001, 0.001, 0.001, 0.001, 0.001, 0.001, 0.001, 0.001, 0.001, 0.001, 0.001, 0.001, 0.001, 0.001, 0.001, 0.001, 0.001, 0.001, 0.001, 0.001, 0.001, 0.001, 0.001, 0.001, 0.001, 0.001, 0.001, 0.001, 0.001, 0.001, 0.001, 0.001, 0.001, 0.001, 0.001, 0.001, 0.001, 0.001, 0.001, 0.001, 0.001, 0.001, 0.001, 0.001, 0.001, 0.001, 0.001, 0.001, 0.001, 0.001, 0.001, 0.001, 0.001, 0.001, 0.001, 0.001, 0.001, 0.001, 0.001, 0.001, 0.001, 0.001, 0.001, 0.001, 0.001, 0.001, 0.001, 0.001, 0.001, 0.001, 0.001, 0.001, 0.001, 0.001, 0.001, 0.001, 0.001, 0.001, 0.001, 0.001, 0.001, 0.001, 0.001, 0.001, 0.001, 0.001, 0.001, 0.001, 0.001, 0.001, 0.001, 0.001, 0.001, 0.001, 0.001, 0.001, 0.001, 0.001, 0.001, 0.001, 0.001, 0.001, 0.001, 0.001, 0.001, 0.001, 0.001, 0.001, 0.001, 0.001, 0.001, 0.001, 0.001, 0.001, 0.001, 0.001, 0.001, 0.001, 0.001, 0.001, 0.001, 0.001, 0.001, 0.001, 0.001, 0.001, 0.001, 0.001, 0.001, 0.001, 0.001, 0.001, 0.001, 0.001, 0.001, 0.001, 0.001, 0.001, 0.001, 0.001, 0.001, 0.001, 0.001, 0.001, 0.001, 0.001, 0.001, 0.001, 0.001, 0.001, 0.001, 0.001, 0.001, 0.001, 0.001, 0.001, 0.001, 0.001, 0.001, 0.001, 0.001, 0.001, 0.001, 0.001, 0.001, 0.001, 0.001, 0.001, 0.001, 0.001, 0.001, 0.001, 0.001, 0.001, 0.001, 0.001, 0.001, 0.001, 0.001, 0.001, 0.001, 0.001, 0.001, 0.001, 0.001, 0.001, 0.001, 0.001, 0.001, 0.001, 0.001, 0.001, 0.001, 0.001, 0.001, 0.001, 0.001, 0.001, 0.001, 0.001, 0.001, 0.001, 0.001, 0.001, 0.001, 0.001, 0.001, 0.001, 0.001, 0.001, 0.001, 0.001, 0.001, 0.001, 0.001, 0.001, 0.001, 0.001, 0.001, 0.001, 0.001, 0.001, 0.001, 0.001, 0.001, 0.001, 0.001, 0.001, 0.001, 0.001, 0.001, 0.001, 0.001, 0.001, 0.001, 0.001, 0.001, 0.001, 0.001, 0.001, 0.001, 0.001, 0.001, 0.001, 0.001, 0.001, 0.001, 0.001, 0.001, 0.001, 0.001, 0.001, 0.001, 0.001, 0.001, 0.001, 0.001, 0.001, 0.001, 0.001, 0.001, 0.001, 0.001, 0.001, 0.001, 0.001, 0.001, 0.001, 0.001, 0.001, 0.001, 0.001, 0.001, 0.001, 0.001, 0.001, 0.001, 0.001, 0.001, 0.001, 0.001, 0.001, 0.001, 0.001, 0.001, 0.001, 0.001, 0.001, 0.001, 0.001, 0.001, 0.001, 0.001, 0.001, 0.001, 0.001, 0.001, 0.001, 0.001, 0.001, 0.001, 0.001, 0.001, 0.001, 0.001, 0.001, 0.001, 0.001, 0.001, 0.001, 0.001, 0.001, 0.001, 0.001, 0.001, 0.001, 0.001, 0.001, 0.001, 0.001, 0.001, 0.001, 0.001, 0.001, 0.001, 0.001, 0.001, 0.001, 0.001, 0.001, 0.001, 0.001, 0.001, 0.001, 0.001, 0.001, 0.001, 0.001, 0.001, 0.001, 0.001, 0.001, 0.001, 0.001, 0.001, 0.001, 0.001, 0.001, 0.001, 0.001, 0.001, 0.001, 0.001, 0.001, 0.001, 0.001, 0.001, 0.001, 0.001, 0.001, 0.001, 0.001, 0.001, 0.001, 0.001, 0.001, 0.001, 0.001, 0.001, 0.001, 0.001, 0.001, 0.001, 0.001, 0.001, 0.001, 0.001, 0.001, 0.001, 0.001, 0.001, 0.001, 0.001, 0.001, 0.001, 0.001, 0.001, 0.001, 0.001, 0.001, 0.001, 0.001, 0.001, 0.001, 0.001, 0.001, 0.001, 0.001, 0.001, 0.001, 0.001, 0.001, 0.001, 0.001, 0.001, 0.001, 0.001, 0.001, 0.001, 0.001, 0.001, 0.001, 0.001, 0.001, 0.001, 0.001, 0.001, 0.001, 0.001, 0.001, 0.001, 0.001, 0.001, 0.001, 0.001, 0.001, 0.001, 0.001, 0.001, 0.001, 0.001, 0.001, 0.001, 0.001, 0.001, 0.001, 0.001, 0.001, 0.001, 0.001, 0.001, 0.001, 0.001, 0.001, 0.001, 0.001, 0.001, 0.001, 0.001, 0.001, 0.001, 0.001, 0.001, 0.001, 0.001, 0.001, 0.001, 0.001, 0.001, 0.001, 0.001, 0.001, 0.001, 0.001, 0.001, 0.001, 0.001, 0.001, 0.001, 0.001, 0.001, 0.001, 0.001, 0.001, 0.001, 0.001, 0.001, 0.001, 0.001, 0.001, 0.001, 0.001, 0.001, 0.001, 0.001, 0.001, 0.001, 0.001, 0.001, 0.001, 0.001, 0.001, 0.001, 0.001, 0.001, 0.001, 0.001, 0.001, 0.001, 0.001, 0.001, 0.001, 0.001, 0.001, 0.001, 0.001, 0.001, 0.001, 0.001, 0.001, 0.001, 0.001, 0.001, 0.001, 0.001, 0.001, 0.001, 0.001, 0.001, 0.001, 0.001, 0.001, 0.001, 0.001, 0.001, 0.001, 0.001, 0.001, 0.001, 0.001, 0.001, 0.001, 0.001, 0.001, 0.001, 0.001, 0.001, 0.001, 0.001, 0.001, 0.001, 0.001, 0.001, 0.001, 0.001, 0.001, 0.001, 0.001, 0.001, 0.001, 0.001, 0.001, 0.001, 0.001, 0.001, 0.001, 0.001, 0.001, 0.001, 0.001, 0.001, 0.001, 0.001, 0.001, 0.001, 0.001, 0.001, 0.001, 0.001, 0.001, 0.001, 0.001, 0.001, 0.001, 0.001, 0.001, 0.001, 0.001, 0.001, 0.001, 0.001, 0.001, 0.001, 0.001, 0.001, 0.001, 0.001, 0.001, 0.001, 0.001, 0.001, 0.001, 0.001, 0.001, 0.001, 0.001, 0.001, 0.001, 0.001, 0.001, 0.001, 0.001, 0.001, 0.001, 0.001, 0.001, 0.001, 0.001, 0.001, 0.001, 0.001, 0.001, 0.001, 0.001, 0.001, 0.001, 0.001, 0.001, 0.001, 0.001, 0.001, 0.001, 0.001, 0.001, 0.001, 0.001, 0.001, 0.001, 0.001, 0.001, 0.001, 0.001, 0.001, 0.001, 0.001, 0.001, 0.001, 0.001, 0.001, 0.001, 0.001, 0.001, 0.001, 0.001, 0.001, 0.001, 0.001, 0.001, 0.001, 0.001, 0.001, 0.001, 0.001, 0.001, 0.001, 0.001, 0.001, 0.001, 0.001, 0.001, 0.001, 0.001, 0.001, 0.001, 0.001, 0.001, 0.001, 0.001, 0.001, 0.001, 0.001, 0.001, 0.001, 0.001, 0.001, 0.001, 0.001, 0.001, 0.001, 0.001, 0.001, 0.001, 0.001, 0.001, 0.001, 0.001, 0.001, 0.001, 0.001, 0.001, 0.001, 0.001, 0.001, 0.001, 0.001, 0.001, 0.001, 0.001, 0.001, 0.001, 0.001, 0.001, 0.001, 0.001, 0.001, 0.001, 0.001, 0.001, 0.001, 0.001, 0.001, 0.001, 0.001, 0.001, 0.001, 0.001, 0.001, 0.001, 0.001, 0.001, 0.001, 0.001, 0.001, 0.001, 0.001, 0.001, 0.001, 0.001, 0.001, 0.001, 0.001, 0.001, 0.001, 0.001, 0.001, 0.001, 0.001, 0.001, 0.001, 0.001, 0.001, 0.001, 0.001, 0.001, 0.001, 0.001, 0.001, 0.001, 0.001, 0.001, 0.001, 0.001, 0.001, 0.001, 0.001, 0.001, 0.001, 0.001, 0.001, 0.001, 0.001, 0.001, 0.001, 0.001, 0.001, 0.001, 0.001, 0.001, 0.001, 0.001, 0.001, 0.001, 0.001, 0.001, 0.001, 0.001, 0.001, 0.001, 0.001, 0.001, 0.001, 0.001, 0.001, 0.001, 0.001, 0.001, 0.001, 0.001, 0.001, 0.001, 0.001, 0.001, 0.001, 0.001, 0.001, 0.001, 0.001, 0.001, 0.001, 0.001, 0.001, 0.001, 0.001, 0.001, 0.001, 0.001, 0.001, 0.001, 0.001, 0.001, 0.001, 0.001, 0.001, 0.001, 0.001, 0.001, 0.001, 0.001, 0.001, 0.001, 0.001, 0.001, 0.001, 0.001, 0.001, 0.001, 0.001, 0.001, 0.001, 0.001, 0.001, 0.001, 0.001, 0.001, 0.001, 0.001, 0.001, 0.001, 0.001, 0.001, 0.001, 0.001, 0.001, 0.001, 0.001, 0.001, 0.001, 0.001, 0.001, 0.001, 0.001, 0.001, 0.001, 0.001, 0.001, 0.001, 0.001, 0.001, 0.001, 0.001, 0.001, 0.001, 0.001, 0.001, 0.001, 0.001, 0.001, 0.001, 0.001, 0.001, 0.001, 0.001, 0.001, 0.001, 0.001, 0.001, 0.001, 0.001, 0.001, 0.001, 0.001, 0.001, 0.001, 0.001, 0.001, 0.001, 0.001, 0.001, 0.001, 0.001, 0.001, 0.001, 0.001, 0.001, 0.001, 0.001, 0.001, 0.001, 0.001, 0.001, 0.001, 0.001, 0.001, 0.001, 0.001, 0.001, 0.001, 0.001, 0.001, 0.001, 0.001, 0.001, 0.001, 0.001, 0.001, 0.001, 0.001, 0.001, 0.001, 0.001, 0.001, 0.001, 0.001, 0.001, 0.001, 0.001, 0.001, 0.001, 0.001, 0.001, 0.001, 0.001, 0.001, 0.001, 0.001, 0.001, 0.001, 0.001, 0.001, 0.001, 0.001, 0.001, 0.001, 0.001, 0.001, 0.001, 0.001, 0.001, 0.001, 0.001, 0.001, 0.001, 0.001, 0.001, 0.001, 0.001, 0.001, 0.001, 0.001, 0.001, 0.001, 0.001, 0.001, 0.001, 0.001, 0.001, 0.001, 0.001, 0.001, 0.001, 0.001, 0.001, 0.001, 0.001, 0.001, 0.001, 0.001, 0.001, 0.001, 0.001, 0.001, 0.001, 0.001, 0.001, 0.001, 0.001, 0.001, 0.001, 0.001, 0.001, 0.001, 0.001, 0.001, 0.001, 0.001, 0.001, 0.001, 0.001, 0.001, 0.001, 0.001, 0.001, 0.001, 0.001, 0.001, 0.001, 0.001, 0.001, 0.001, 0.001, 0.001, 0.001, 0.001, 0.001, 0.001, 0.001, 0.001, 0.001, 0.001, 0.001, 0.001, 0.001, 0.001, 0.001, 0.001, 0.001, 0.001, 0.001, 0.001, 0.001, 0.001, 0.001, 0.001, 0.001, 0.001, 0.001, 0.001, 0.001, 0.001, 0.001, 0.001, 0.001, 0.001, 0.001, 0.001, 0.001, 0.001, 0.001, 0.001, 0.001, 0.001, 0.001, 0.001, 0.001, 0.001, 0.001, 0.001, 0.001, 0.001, 0.001, 0.001, 0.001, 0.001, 0.001, 0.001, 0.001, 0.001, 0.001, 0.001, 0.001, 0.001, 0.001, 0.001, 0.001, 0.001, 0.001, 0.001, 0.001, 0.001, 0.001, 0.001, 0.001, 0.001, 0.001, 0.001, 0.001, 0.001, 0.001, 0.001, 0.001, 0.001, 0.001, 0.001, 0.001, 0.001, 0.001, 0.001, 0.001, 0.001, 0.001, 0.001, 0.001, 0.001, 0.001, 0.001, 0.001, 0.001, 0.001, 0.001, 0.001, 0.001, 0.001, 0.001, 0.001, 0.001, 0.001, 0.001, 0.001, 0.001, 0.001, 0.001, 0.001, 0.001, 0.001, 0.001, 0.001, 0.001, 0.001, 0.001, 0.001, 0.001, 0.001, 0.001, 0.001, 0.001, 0.001, 0.001, 0.001, 0.001, 0.001, 0.001, 0.001, 0.001, 0.001, 0.001, 0.001, 0.001, 0.001, 0.001, 0.001, 0.001, 0.001, 0.001, 0.001, 0.001, 0.001, 0.001, 0.001, 0.001, 0.001, 0.001, 0.001, 0.001, 0.001, 0.001, 0.001, 0.001, 0.001, 0.001, 0.001, 0.001, 0.001, 0.001, 0.001, 0.001, 0.001, 0.001, 0.001, 0.001, 0.001, 0.001, 0.001, 0.001, 0.001, 0.001, 0.001, 0.001, 0.001, 0.001, 0.001, 0.001, 0.001, 0.001, 0.001, 0.001, 0.001, 0.001, 0.001, 0.001, 0.001, 0.001, 0.001, 0.001, 0.001, 0.001, 0.001, 0.001, 0.001, 0.001, 0.001, 0.001, 0.001, 0.001, 0.001, 0.001, 0.001, 0.001, 0.001, 0.001, 0.001, 0.001, 0.001, 0.001, 0.001, 0.001, 0.001, 0.001, 0.001, 0.001, 0.001, 0.001, 0.001, 0.001, 0.001, 0.001, 0.001, 0.001, 0.001, 0.001, 0.001, 0.001, 0.001, 0.001, 0.001, 0.001, 0.001, 0.001, 0.001, 0.001, 0.001, 0.001, 0.001, 0.001, 0.001, 0.001, 0.001, 0.001, 0.001, 0.001, 0.001, 0.001, 0.001, 0.001, 0.001, 0.001, 0.001, 0.001, 0.001, 0.001, 0.001, 0.001, 0.001, 0.001, 0.001, 0.001, 0.001, 0.001, 0.001, 0.001, 0.001, 0.001, 0.001, 0.001, 0.001, 0.001, 0.001, 0.001, 0.001, 0.001, 0.001, 0.001, 0.001, 0.001, 0.001, 0.001, 0.001, 0.001, 0.001, 0.001, 0.001, 0.001, 0.001, 0.001, 0.001, 0.001, 0.001, 0.001, 0.001, 0.001, 0.001, 0.001, 0.001, 0.001, 0.001, 0.001, 0.001, 0.001, 0.001, 0.001, 0.001, 0.001, 0.001, 0.001, 0.001, 0.001, 0.001, 0.001, 0.001, 0.001, 0.001, 0.001, 0.001, 0.001, 0.001, 0.001, 0.001, 0.001, 0.001, 0.001, 0.001, 0.001, 0.001, 0.001, 0.001, 0.001, 0.001, 0.001, 0.001, 0.001, 0.001, 0.001, 0.001, 0.001, 0.001, 0.001, 0.001, 0.001, 0.001, 0.001, 0.001, 0.001, 0.001, 0.001, 0.001, 0.001, 0.001, 0.001, 0.001, 0.001, 0.001, 0.001, 0.001, 0.001, 0.001, 0.001, 0.001, 0.001, 0.001, 0.001, 0.001, 0.001, 0.001, 0.001, 0.001, 0.001, 0.001, 0.001, 0.001, 0.001, 0.001, 0.001, 0.001, 0.001, 0.001, 0.001, 0.001, 0.001, 0.001, 0.001, 0.001, 0.001, 0.001, 0.001, 0.001, 0.001, 0.001, 0.001, 0.001, 0.001, 0.001, 0.001, 0.001, 0.001, 0.001, 0.001, 0.001, 0.001, 0.001, 0.001, 0.001, 0.001, 0.001, 0.001, 0.001, 0.001, 0.001, 0.001, 0.001, 0.001, 0.001, 0.001, 0.001, 0.001, 0.001, 0.001, 0.001, 0.001, 0.001, 0.001, 0.001, 0.001, 0.001, 0.001, 0.001, 0.001, 0.001, 0.001, 0.001, 0.001, 0.001, 0.001, 0.001, 0.001, 0.001, 0.001, 0.001, 0.001, 0.001, 0.001, 0.001, 0.001, 0.001, 0.001, 0.001, 0.001, 0.001, 0.001, 0.001, 0.001, 0.001, 0.001, 0.001, 0.001, 0.001, 0.001, 0.001, 0.001, 0.001, 0.001, 0.001, 0.001, 0.001, 0.001, 0.001, 0.001, 0.001, 0.001, 0.001, 0.001, 0.001, 0.001, 0.001, 0.001, 0.001, 0.001, 0.001, 0.001, 0.001, 0.001, 0.001, 0.001, 0.001, 0.001, 0.001, 0.001, 0.001, 0.001, 0.001, 0.001, 0.001, 0.001, 0.001, 0.001, 0.001, 0.001, 0.001, 0.001, 0.001, 0.001, 0.001, 0.001, 0.001, 0.001, 0.001, 0.001, 0.001, 0.001, 0.001, 0.001, 0.001, 0.001, 0.001, 0.001, 0.001, 0.001, 0.001, 0.001, 0.001, 0.001, 0.001, 0.001, 0.001, 0.001, 0.001, 0.001, 0.001, 0.001, 0.001, 0.001, 0.001, 0.001, 0.001, 0.001, 0.001, 0.001, 0.001, 0.001, 0.001, 0.001, 0.001, 0.001, 0.001, 0.001, 0.001, 0.001, 0.001, 0.001, 0.001, 0.001, 0.001, 0.001, 0.001, 0.001, 0.001, 0.001, 0.001, 0.001, 0.001, 0.001, 0.001, 0.001, 0.001, 0.001, 0.001, 0.001, 0.001, 0.001, 0.001, 0.001, 0.001, 0.001, 0.001, 0.001, 0.001, 0.001, 0.001, 0.001, 0.001, 0.001, 0.001, 0.001, 0.001, 0.001, 0.001, 0.001, 0.001, 0.001, 0.001, 0.001, 0.001, 0.001, 0.001, 0.001, 0.001, 0.001, 0.001, 0.001, 0.001, 0.001, 0.001, 0.001, 0.001, 0.001, 0.001, 0.001, 0.001, 0.001, 0.001, 0.001, 0.001, 0.001, 0.001, 0.001, 0.001, 0.001, 0.001, 0.001, 0.001, 0.001, 0.001, 0.001, 0.001, 0.001, 0.001, 0.001, 0.001, 0.001, 0.001, 0.001, 0.001, 0.001, 0.001, 0.001, 0.001, 0.001, 0.001, 0.001, 0.001, 0.001, 0.001, 0.001, 0.001, 0.001, 0.001, 0.001, 0.001, 0.001, 0.001, 0.001, 0.001, 0.001, 0.001, 0.001, 0.001, 0.001, 0.001, 0.001, 0.001, 0.001, 0.001, 0.001, 0.001, 0.001, 0.001, 0.001, 0.001, 0.001, 0.001, 0.001, 0.001, 0.001, 0.001, 0.001, 0.001, 0.001, 0.001, 0.001, 0.001, 0.001, 0.001, 0.001, 0.001, 0.001, 0.001, 0.001, 0.001, 0.001, 0.001, 0.001, 0.001, 0.001, 0.001, 0.001, 0.001, 0.001, 0.001, 0.001, 0.001, 0.001, 0.001, 0.001, 0.001, 0.001, 0.001, 0.001, 0.001, 0.001, 0.001, 0.001, 0.001, 0.001, 0.001, 0.001, 0.001, 0.001, 0.001, 0.001, 0.001, 0.001, 0.001, 0.001, 0.001, 0.001, 0.001, 0.001, 0.001, 0.001, 0.001, 0.001, 0.001, 0.001, 0.001, 0.001, 0.001, 0.001, 0.001, 0.001, 0.001, 0.001, 0.001, 0.001, 0.001, 0.001, 0.001, 0.001, 0.001, 0.001, 0.001, 0.001, 0.001, 0.001, 0.001, 0.001, 0.001, 0.001, 0.001, 0.001, 0.001, 0.001, 0.001, 0.001, 0.001, 0.001, 0.001, 0.001, 0.001, 0.001, 0.001, 0.001, 0.001, 0.001, 0.001, 0.001, 0.001, 0.001, 0.001, 0.001, 0.001, 0.001, 0.001, 0.001, 0.001, 0.001, 0.001, 0.001, 0.001, 0.001, 0.001, 0.001, 0.001, 0.001, 0.001, 0.001, 0.001, 0.001, 0.001, 0.001, 0.001, 0.001, 0.001, 0.001, 0.001, 0.001, 0.001, 0.001, 0.001, 0.001, 0.001, 0.001, 0.001, 0.001, 0.001, 0.001, 0.001, 0.001, 0.001, 0.001, 0.001, 0.001, 0.001, 0.001, 0.001, 0.001, 0.001, 0.001, 0.001, 0.001, 0.001, 0.001, 0.001, 0.001, 0.001, 0.001, 0.001, 0.001, 0.001, 0.001, 0.001, 0.001, 0.001, 0.001, 0.001, 0.001, 0.001, 0.001, 0.001, 0.001, 0.001, 0.001, 0.001, 0.001, 0.001, 0.001, 0.001, 0.001, 0.001, 0.001, 0.001, 0.001, 0.001, 0.001, 0.001, 0.001, 0.001, 0.001, 0.001, 0.001, 0.001, 0.001, 0.001, 0.001, 0.001, 0.001, 0.001, 0.001, 0.001, 0.001, 0.001, 0.001, 0.001, 0.001, 0.001, 0.001, 0.001, 0.001, 0.001, 0.001, 0.001, 0.001, 0.001, 0.001, 0.001, 0.001, 0.001, 0.001, 0.001, 0.001, 0.001, 0.001, 0.001, 0.001, 0.001, 0.001, 0.001, 0.001, 0.001, 0.001, 0.001, 0.001, 0.001, 0.001, 0.001, 0.001, 0.001, 0.001, 0.001, 0.001, 0.001, 0.001, 0.001, 0.001, 0.001, 0.001, 0.001, 0.001, 0.001, 0.001, 0.001, 0.001, 0.001, 0.001, 0.001, 0.001, 0.001, 0.001, 0.001, 0.001, 0.001, 0.001, 0.001, 0.001, 0.001, 0.001, 0.001, 0.001, 0.001, 0.001, 0.001, 0.001, 0.001, 0.001, 0.001, 0.001, 0.001, 0.001, 0.001, 0.001, 0.001, 0.001, 0.001, 0.001, 0.001, 0.001, 0.001, 0.001, 0.001, 0.001, 0.001, 0.001, 0.001, 0.001, 0.001, 0.001, 0.001, 0.001, 0.001, 0.001, 0.001, 0.001, 0.001, 0.001, 0.001, 0.001, 0.001, 0.001, 0.001, 0.001, 0.001, 0.001, 0.001, 0.001, 0.001, 0.001, 0.001, 0.001, 0.001, 0.001, 0.001, 0.001, 0.001, 0.001, 0.001, 0.001, 0.001, 0.001, 0.001, 0.001, 0.001, 0.001, 0.001, 0.001, 0.001, 0.001, 0.001, 0.001, 0.001, 0.001, 0.001, 0.001, 0.001, 0.001, 0.001, 0.001, 0.001, 0.001, 0.001, 0.001, 0.001, 0.001, 0.001, 0.001, 0.001, 0.001, 0.001, 0.001, 0.001, 0.001, 0.001, 0.001, 0.001, 0.001, 0.001, 0.001, 0.001, 0.001, 0.001, 0.001, 0.001, 0.001, 0.001, 0.001, 0.001, 0.001, 0.001, 0.001, 0.001, 0.001, 0.001, 0.001, 0.001, 0.001, 0.001, 0.001, 0.001, 0.001, 0.001, 0.001, 0.001, 0.001, 0.001, 0.001, 0.001, 0.001, 0.001, 0.001, 0.001, 0.001, 0.001, 0.001, 0.001, 0.001, 0.001, 0.001, 0.001, 0.001, 0.001, 0.001, 0.001, 0.001, 0.001, 0.001, 0.001, 0.001, 0.001, 0.001, 0.001, 0.001, 0.001, 0.001, 0.001, 0.001, 0.001, 0.001, 0.001, 0.001, 0.001, 0.001, 0.001, 0.001, 0.001, 0.001, 0.001, 0.001, 0.001, 0.001, 0.001, 0.001, 0.001, 0.001, 0.001, 0.001, 0.001, 0.001, 0.001, 0.001, 0.001, 0.001, 0.001, 0.001, 0.001, 0.001, 0.001, 0.001, 0.001, 0.001, 0.001, 0.001, 0.001, 0.001, 0.001, 0.001, 0.001, 0.001, 0.001, 0.001, 0.001, 0.001, 0.001, 0.001, 0.001, 0.001, 0.001, 0.001, 0.001, 0.001, 0.001, 0.001, 0.001, 0.001, 0.001, 0.001, 0.001, 0.001, 0.001, 0.001, 0.001, 0.001, 0.001, 0.001, 0.001, 0.001, 0.001, 0.001, 0.001, 0.001, 0.001, 0.001, 0.001, 0.001, 0.001, 0.001, 0.001, 0.001, 0.001, 0.001, 0.001, 0.001, 0.001, 0.001, 0.001, 0.001, 0.001, 0.001, 0.001, 0.001, 0.001, 0.001, 0.001, 0.001, 0.001, 0.001, 0.001, 0.001, 0.001, 0.001, 0.001, 0.001, 0.001, 0.001, 0.001, 0.001, 0.001, 0.001, 0.001, 0.001, 0.001, 0.001, 0.001, 0.001, 0.001, 0.001, 0.001, 0.001, 0.001, 0.001, 0.001, 0.001, 0.001, 0.001, 0.001, 0.001, 0.001, 0.001, 0.001, 0.001, 0.001, 0.001, 0.001, 0.001, 0.001, 0.001, 0.001, 0.001, 0.001, 0.001, 0.001, 0.001, 0.001, 0.001, 0.001, 0.001, 0.001, 0.001, 0.001, 0.001, 0.001, 0.001, 0.001, 0.001, 0.001, 0.001, 0.001, 0.001, 0.001, 0.001, 0.001, 0.001, 0.001, 0.001, 0.001, 0.001, 0.001, 0.001, 0.001, 0.001, 0.001, 0.001, 0.001, 0.001, 0.001, 0.001, 0.001, 0.001, 0.001, 0.001, 0.001, 0.001, 0.001, 0.001, 0.001, 0.001, 0.001, 0.001, 0.001, 0.001, 0.001, 0.001, 0.001, 0.001, 0.001, 0.001, 0.001, 0.001, 0.001, 0.001, 0.001, 0.001, 0.001, 0.001, 0.001, 0.001, 0.001, 0.001, 0.001, 0.001, 0.001, 0.001, 0.001, 0.001, 0.001, 0.001, 0.001, 0.001, 0.001, 0.001, 0.001, 0.001, 0.001, 0.001, 0.001, 0.001, 0.001, 0.001, 0.001, 0.001, 0.001, 0.001, 0.001, 0.001, 0.001, 0.001, 0.001, 0.001, 0.001, 0.001, 0.001, 0.001, 0.001, 0.001, 0.001, 0.001, 0.001, 0.001, 0.001, 0.001, 0.001, 0.001, 0.001, 0.001, 0.001, 0.001, 0.001, 0.001, 0.001, 0.001, 0.001, 0.001, 0.001, 0.001, 0.001, 0.001, 0.001, 0.001, 0.001, 0.001, 0.001, 0.001, 0.001, 0.001, 0.001, 0.001, 0.001, 0.001, 0.001, 0.001, 0.001, 0.001, 0.001, 0.001, 0.001, 0.001, 0.001, 0.001, 0.001, 0.001, 0.001, 0.001, 0.001, 0.001, 0.001, 0.001, 0.001, 0.001, 0.001, 0.001, 0.001, 0.001, 0.001, 0.001, 0.001, 0.001, 0.001, 0.001, 0.001, 0.001, 0.001, 0.001, 0.001, 0.001, 0.001, 0.001, 0.001, 0.001, 0.001, 0.001, 0.001, 0.001, 0.001, 0.001, 0.001, 0.001, 0.001, 0.001, 0.001, 0.001, 0.001, 0.001, 0.001, 0.001, 0.001, 0.001, 0.001, 0.001, 0.001, 0.001, 0.001, 0.001, 0.001, 0.048, 0.001, 0.001, 0.001, 0.001, 0.001, 0.001, 0.001, 0.001, 0.001, 0.001, 0.001, 0.001, 0.001, 0.001, 0.001, 0.001, 0.001, 0.001, 0.001, 0.001, 0.001, 0.001, 0.001, 0.001, 0.001, 0.001, 0.001, 0.001, 0.001, 0.001, 0.001, 0.001, 0.001, 0.001, 0.001, 0.001, 0.001, 0.001, 0.001, 0.001, 0.001, 0.001, 0.001, 0.001, 0.001, 0.001, 0.001, 0.001, 0.001, 0.001, 0.001, 0.001, 0.001, 0.001, 0.001, 0.001, 0.001, 0.001, 0.001, 0.001, 0.001, 0.001, 0.001, 0.001, 0.001, 0.001, 0.001, 0.001, 0.001, 0.001, 0.001, 0.001, 0.001, 0.001, 0.001, 0.001, 0.001, 0.001, 0.001, 0.001, 0.001, 0.001, 0.001, 0.001, 0.001, 0.001, 0.001, 0.001, 0.001, 0.001, 0.001, 0.001, 0.001, 0.001, 0.001, 0.001, 0.001, 0.001, 0.001, 0.001, 0.001, 0.001, 0.001, 0.001, 0.001, 0.001, 0.001, 0.001, 0.001, 0.001, 0.001, 0.001, 0.001, 0.001, 0.001, 0.001, 0.001, 0.001, 0.001, 0.001, 0.001, 0.001, 0.001, 0.001, 0.001, 0.001, 0.001, 0.001, 0.001, 0.001, 0.001, 0.001, 0.001, 0.001, 0.001, 0.001, 0.001, 0.001, 0.001, 0.001, 0.001, 0.001, 0.001, 0.001, 0.001, 0.001, 0.001, 0.001, 0.001, 0.001, 0.001, 0.001, 0.001, 0.001, 0.001, 0.001, 0.001, 0.001, 0.001, 0.001, 0.001, 0.001, 0.001, 0.001, 0.001, 0.001, 0.001, 0.001, 0.001, 0.001, 0.001, 0.001, 0.001, 0.001, 0.001, 0.001, 0.001, 0.001, 0.001, 0.001, 0.001, 0.001, 0.001, 0.001, 0.001, 0.001, 0.001, 0.001, 0.001, 0.001, 0.001, 0.001, 0.001, 0.001, 0.001, 0.001, 0.001, 0.001, 0.001, 0.001, 0.001, 0.001, 0.001, 0.001, 0.001, 0.001, 0.001, 0.001, 0.001, 0.001, 0.001, 0.001, 0.001, 0.001, 0.001, 0.001, 0.001, 0.001, 0.001, 0.001, 0.001, 0.001, 0.001, 0.001, 0.001, 0.001, 0.001, 0.001, 0.001, 0.001, 0.001, 0.001, 0.001, 0.001, 0.001, 0.001, 0.001, 0.001, 0.001, 0.001, 0.001, 0.001, 0.001, 0.001, 0.001, 0.001, 0.001, 0.001, 0.001, 0.001, 0.001, 0.001, 0.001, 0.001, 0.001, 0.001, 0.001, 0.001, 0.001, 0.001, 0.001, 0.001, 0.001, 0.001, 0.001, 0.001, 0.001, 0.001, 0.001, 0.001, 0.001, 0.001, 0.001, 0.001, 0.001, 0.001, 0.001, 0.001, 0.001, 0.001, 0.001, 0.001, 0.001, 0.001, 0.001, 0.001, 0.001, 0.001, 0.001, 0.001, 0.001, 0.001, 0.001, 0.001, 0.001, 0.001, 0.001, 0.001, 0.001, 0.001, 0.001, 0.001, 0.001, 0.001, 0.001, 0.001, 0.001, 0.001, 0.001, 0.001, 0.001, 0.001, 0.001, 0.001, 0.001, 0.001, 0.001, 0.001, 0.001, 0.001, 0.001, 0.001, 0.001, 0.001, 0.001, 0.001, 0.001, 0.001, 0.001, 0.001, 0.001, 0.001, 0.001, 0.001, 0.001, 0.001, 0.001, 0.001, 0.001, 0.001, 0.001, 0.001, 0.001, 0.001, 0.001, 0.001, 0.001, 0.001, 0.001, 0.001, 0.001, 0.001, 0.001, 0.001, 0.001, 0.001, 0.001, 0.001, 0.001, 0.001, 0.001, 0.001, 0.001, 0.001, 0.001, 0.001, 0.001, 0.001, 0.001, 0.001, 0.001, 0.001, 0.001, 0.001, 0.001, 0.001, 0.001, 0.001, 0.001, 0.001, 0.001, 0.001, 0.001, 0.001, 0.001, 0.001, 0.001, 0.001, 0.001, 0.001, 0.001, 0.001, 0.001, 0.001, 0.001, 0.001, 0.001, 0.001, 0.001, 0.001, 0.001, 0.001, 0.001, 0.001, 0.001, 0.001, 0.001, 0.001, 0.001, 0.001, 0.001, 0.001, 0.001, 0.001, 0.001, 0.001, 0.001, 0.001, 0.001, 0.001, 0.001, 0.001, 0.001, 0.001, 0.001, 0.001, 0.001, 0.001, 0.001, 0.001, 0.001, 0.001, 0.001, 0.001, 0.001, 0.001, 0.001, 0.001, 0.001, 0.001, 0.001, 0.001, 0.001, 0.001, 0.001, 0.001, 0.001, 0.001, 0.001, 0.001, 0.001, 0.001, 0.001, 0.001, 0.001, 0.001, 0.001, 0.001, 0.001, 0.001, 0.001, 0.001, 0.001, 0.001, 0.001, 0.001, 0.001, 0.001, 0.001, 0.001, 0.001, 0.001, 0.001, 0.001, 0.001, 0.001, 0.001, 0.001, 0.001, 0.001, 0.001, 0.001, 0.001, 0.001, 0.001, 0.001, 0.001, 0.001, 0.001, 0.001, 0.001, 0.001, 0.001, 0.001, 0.001, 0.001, 0.001, 0.001, 0.001, 0.001, 0.001, 0.001, 0.001, 0.001, 0.001, 0.001, 0.001, 0.001, 0.001, 0.001, 0.001, 0.001, 0.001, 0.001, 0.001, 0.001, 0.001, 0.001, 0.001, 0.001, 0.001, 0.001, 0.001, 0.001, 0.001, 0.001, 0.001, 0.001, 0.001, 0.001, 0.001, 0.001, 0.001, 0.001, 0.001, 0.001, 0.001, 0.001, 0.001, 0.001, 0.001, 0.001, 0.001, 0.001, 0.001, 0.001, 0.001, 0.001, 0.001, 0.001, 0.001, 0.001, 0.001, 0.001, 0.001, 0.001, 0.001, 0.001, 0.001, 0.001, 0.001, 0.001, 0.001, 0.001, 0.001, 0.001, 0.001, 0.001, 0.001, 0.001, 0.001, 0.001, 0.001, 0.001, 0.001, 0.001, 0.001, 0.001, 0.001, 0.001, 0.001, 0.001, 0.001, 0.001, 0.001, 0.001, 0.001, 0.001, 0.001, 0.001, 0.001, 0.001, 0.001, 0.001, 0.001, 0.001, 0.001, 0.001, 0.001, 0.001, 0.001, 0.001, 0.001, 0.001, 0.001, 0.001, 0.001, 0.001, 0.001, 0.001, 0.001, 0.001, 0.001, 0.001, 0.001, 0.001, 0.001, 0.001, 0.001, 0.001, 0.001, 0.001, 0.001, 0.001, 0.001, 0.001, 0.001, 0.001, 0.001, 0.001, 0.001, 0.001, 0.001, 0.001, 0.001, 0.001, 0.001, 0.001, 0.001, 0.001, 0.001, 0.001, 0.001, 0.001, 0.001, 0.001, 0.001, 0.001, 0.001, 0.001, 0.001, 0.001, 0.001, 0.001, 0.001, 0.001, 0.001, 0.001, 0.001, 0.001, 0.001, 0.001, 0.001, 0.001, 0.001, 0.001, 0.001, 0.001, 0.001, 0.001, 0.001, 0.001, 0.001, 0.001, 0.001, 0.001, 0.001, 0.001, 0.001, 0.001, 0.001, 0.001, 0.001, 0.001, 0.001, 0.001, 0.001, 0.001, 0.001, 0.001, 0.001, 0.001, 0.001, 0.001, 0.001, 0.001, 0.001, 0.001, 0.001, 0.001, 0.001, 0.001, 0.001, 0.001, 0.001, 0.001, 0.001, 0.001, 0.001, 0.001, 0.001, 0.001, 0.001, 0.001, 0.001, 0.001, 0.001, 0.001, 0.001, 0.001, 0.001, 0.001, 0.001, 0.001, 0.001, 0.001, 0.001, 0.001, 0.001, 0.001, 0.001, 0.001, 0.001, 0.001, 0.001, 0.001, 0.001, 0.001, 0.001, 0.001, 0.001, 0.001, 0.001, 0.001, 0.001, 0.001, 0.001, 0.001, 0.001, 0.001, 0.001, 0.001, 0.001, 0.001, 0.001, 0.001, 0.001, 0.001, 0.001, 0.001, 0.001, 0.001, 0.001, 0.001, 0.001, 0.001, 0.001, 0.001, 0.001, 0.001, 0.001, 0.001, 0.001, 0.001, 0.001, 0.001, 0.001, 0.001, 0.001, 0.001, 0.001, 0.001, 0.001, 0.001, 0.001, 0.001, 0.001, 0.001, 0.001, 0.001, 0.001, 0.001, 0.001, 0.001, 0.001, 0.001, 0.001, 0.001, 0.001, 0.001, 0.001, 0.001, 0.001, 0.001, 0.001, 0.001, 0.001, 0.001, 0.001, 0.001, 0.001, 0.001, 0.001, 0.001, 0.001, 0.001, 0.001, 0.001, 0.001, 0.001, 0.001, 0.001, 0.001, 0.001, 0.001, 0.001, 0.001, 0.001, 0.001, 0.001, 0.001, 0.001, 0.001, 0.001, 0.001, 0.001, 0.001, 0.001, 0.001, 0.001, 0.001, 0.001, 0.001, 0.001, 0.001, 0.001, 0.001, 0.001, 0.001, 0.001, 0.001, 0.001, 0.001, 0.001, 0.001, 0.001, 0.001, 0.001, 0.001, 0.001, 0.001, 0.001, 0.001, 0.001, 0.001, 0.001, 0.001, 0.001, 0.001, 0.001, 0.001, 0.001, 0.001, 0.001, 0.001, 0.001, 0.001, 0.001, 0.001, 0.001, 0.001, 0.001, 0.001, 0.001, 0.001, 0.001, 0.001, 0.001, 0.001, 0.001, 0.001, 0.001, 0.001, 0.001, 0.001, 0.001, 0.001, 0.001, 0.001, 0.001, 0.001, 0.001, 0.001, 0.001, 0.001, 0.001, 0.001, 0.001, 0.001, 0.001, 0.001, 0.001, 0.001, 0.001, 0.001, 0.001, 0.001, 0.001, 0.001, 0.001, 0.001, 0.001, 0.001, 0.001, 0.001, 0.001, 0.001, 0.001, 0.001, 0.001, 0.001, 0.001, 0.001, 0.001, 0.001, 0.001, 0.001, 0.001, 0.001, 0.001, 0.001, 0.001, 0.001, 0.001, 0.001, 0.001, 0.001, 0.001, 0.001, 0.001, 0.001, 0.001, 0.001, 0.001, 0.001, 0.001, 0.001, 0.001, 0.001, 0.001, 0.001, 0.001, 0.001, 0.001, 0.001, 0.001, 0.001, 0.001, 0.001, 0.001, 0.001, 0.001, 0.001, 0.001, 0.001, 0.001, 0.001, 0.001, 0.001, 0.001, 0.001, 0.001, 0.001, 0.001, 0.001, 0.001, 0.001, 0.001, 0.001, 0.001, 0.001, 0.001, 0.001, 0.001, 0.001, 0.001, 0.001, 0.001, 0.001, 0.001, 0.001, 0.001, 0.001, 0.001, 0.001, 0.001, 0.001, 0.001, 0.001, 0.001, 0.001, 0.001, 0.001, 0.001, 0.001, 0.001, 0.001, 0.001, 0.001, 0.001, 0.001, 0.001, 0.001, 0.001, 0.001, 0.001, 0.001, 0.001, 0.001, 0.001, 0.001, 0.001, 0.001, 0.001, 0.001, 0.001, 0.001, 0.001, 0.001, 0.001, 0.001, 0.001, 0.001, 0.001, 0.001, 0.001, 0.001, 0.001, 0.001, 0.001, 0.001, 0.001, 0.001, 0.001, 0.001, 0.001, 0.001, 0.001, 0.001, 0.001, 0.001, 0.001, 0.001, 0.001, 0.001, 0.001, 0.001, 0.001, 0.001, 0.001, 0.001, 0.001, 0.001, 0.001, 0.001, 0.001, 0.001, 0.001, 0.001, 0.001, 0.001, 0.001, 0.001, 0.001, 0.001, 0.001, 0.001, 0.001, 0.001, 0.001, 0.001, 0.001, 0.001, 0.001, 0.001, 0.001, 0.001, 0.001, 0.001, 0.001, 0.001, 0.001, 0.001, 0.001, 0.001, 0.001, 0.001, 0.001, 0.001, 0.001, 0.001, 0.001, 0.001, 0.001, 0.001, 0.001, 0.001, 0.001, 0.001, 0.001, 0.001, 0.001, 0.001, 0.001, 0.001, 0.001, 0.001, 0.001, 0.001, 0.001, 0.001, 0.001, 0.001, 0.001, 0.001, 0.001, 0.001, 0.001, 0.001, 0.001, 0.001, 0.001, 0.001, 0.001, 0.001, 0.001, 0.001, 0.001, 0.001, 0.001, 0.001, 0.001, 0.001, 0.001, 0.001, 0.001, 0.001, 0.001, 0.001, 0.001, 0.001, 0.001, 0.001, 0.001, 0.001, 0.001, 0.001, 0.001, 0.001, 0.001, 0.001, 0.001, 0.001, 0.001, 0.001, 0.001, 0.001, 0.001, 0.001, 0.001, 0.001, 0.001, 0.001, 0.001, 0.001, 0.001, 0.001, 0.001, 0.001, 0.001, 0.001, 0.001, 0.001, 0.001, 0.001, 0.001, 0.001, 0.001, 0.001, 0.001, 0.001, 0.001, 0.001, 0.001, 0.001, 0.001, 0.001, 0.001, 0.001, 0.001, 0.001, 0.001, 0.001, 0.001, 0.001, 0.001, 0.001, 0.001, 0.001, 0.001, 0.001, 0.001, 0.001, 0.001, 0.001, 0.001, 0.001, 0.001, 0.001, 0.001, 0.001, 0.001, 0.001, 0.001, 0.001, 0.001, 0.001, 0.001, 0.001, 0.001, 0.001, 0.001, 0.001, 0.001, 0.001, 0.001, 0.001, 0.001, 0.001, 0.001, 0.001, 0.001, 0.001, 0.001, 0.001, 0.001, 0.001, 0.001, 0.001, 0.001, 0.001, 0.001, 0.001, 0.001, 0.001, 0.001, 0.001, 0.001, 0.001, 0.001, 0.001, 0.001, 0.001, 0.001, 0.001, 0.001, 0.001, 0.001, 0.001, 0.001, 0.001, 0.001, 0.001, 0.001, 0.001, 0.001, 0.001, 0.001, 0.001, 0.001, 0.001, 0.001, 0.001, 0.001, 0.001, 0.001, 0.001, 0.001, 0.001, 0.001, 0.001, 0.001, 0.001, 0.001, 0.001, 0.001, 0.001, 0.001, 0.001, 0.001, 0.001, 0.001, 0.001, 0.001, 0.001, 0.001, 0.001, 0.001, 0.001, 0.001, 0.001, 0.001, 0.001, 0.001, 0.001, 0.001, 0.001, 0.001, 0.001, 0.001, 0.001, 0.001, 0.001, 0.001, 0.001, 0.001, 0.001, 0.001, 0.001, 0.001, 0.001, 0.001, 0.001, 0.001, 0.001, 0.001, 0.001, 0.001, 0.001, 0.001, 0.001, 0.001, 0.001, 0.001, 0.001, 0.001, 0.001, 0.001, 0.001, 0.001, 0.001, 0.001, 0.001, 0.001, 0.001, 0.001, 0.001, 0.001, 0.001, 0.001, 0.001, 0.001, 0.001, 0.001, 0.001, 0.001, 0.001, 0.001, 0.001, 0.001, 0.001, 0.001, 0.001, 0.001, 0.001, 0.001, 0.001, 0.001, 0.001, 0.001, 0.001, 0.001, 0.001, 0.001, 0.001, 0.001, 0.001, 0.001, 0.001, 0.001, 0.001, 0.001, 0.001, 0.001, 0.001, 0.001, 0.001, 0.001, 0.001, 0.001, 0.001, 0.001, 0.001, 0.001, 0.001, 0.001, 0.001, 0.001, 0.001, 0.001, 0.001, 0.001, 0.001, 0.001, 0.001, 0.001, 0.001, 0.001, 0.001, 0.001, 0.001, 0.001, 0.001, 0.001, 0.001, 0.001, 0.001, 0.001, 0.001, 0.001, 0.001, 0.001, 0.001, 0.001, 0.001, 0.001, 0.001, 0.001, 0.001, 0.001, 0.001, 0.001, 0.001, 0.001, 0.001, 0.001, 0.001, 0.001, 0.001, 0.001, 0.001, 0.001, 0.001, 0.001, 0.001, 0.001, 0.001, 0.001, 0.001, 0.001, 0.001, 0.001, 0.001, 0.001, 0.001, 0.001, 0.001, 0.001, 0.001, 0.001, 0.001, 0.001, 0.001, 0.001, 0.001, 0.001, 0.001, 0.001, 0.001, 0.001, 0.001, 0.001, 0.001, 0.001, 0.001, 0.001, 0.001, 0.001, 0.001, 0.001, 0.001, 0.001, 0.001, 0.001, 0.001, 0.001, 0.001, 0.001, 0.001, 0.001, 0.001, 0.001, 0.001, 0.001, 0.001, 0.001, 0.001, 0.001, 0.001, 0.001, 0.001, 0.001, 0.001, 0.001, 0.001, 0.001, 0.001, 0.001, 0.001, 0.001, 0.001, 0.001, 0.001, 0.001, 0.001, 0.001, 0.001, 0.001, 0.001, 0.001, 0.001, 0.001, 0.001, 0.001, 0.001, 0.001, 0.001, 0.001, 0.001, 0.001, 0.001, 0.001, 0.001, 0.001, 0.001, 0.001, 0.001, 0.001, 0.001, 0.001, 0.001, 0.001, 0.001, 0.001, 0.001, 0.001, 0.001, 0.001, 0.001, 0.001, 0.001, 0.001, 0.001, 0.001, 0.001, 0.001, 0.001, 0.001, 0.001, 0.001, 0.001, 0.001, 0.001, 0.001, 0.001, 0.001, 0.001, 0.001, 0.001, 0.001, 0.001, 0.001, 0.001, 0.001, 0.001, 0.001, 0.001, 0.001, 0.001, 0.001, 0.001, 0.001, 0.001, 0.001, 0.001, 0.001, 0.001, 0.001, 0.001, 0.001, 0.001, 0.001, 0.001, 0.001, 0.001, 0.001, 0.001, 0.001, 0.001, 0.001, 0.001, 0.001, 0.001, 0.001, 0.001, 0.001, 0.001, 0.001, 0.001, 0.001, 0.001, 0.001, 0.001, 0.001, 0.001, 0.001, 0.001, 0.001, 0.001, 0.001, 0.001, 0.001, 0.001, 0.001, 0.001, 0.001, 0.001, 0.001, 0.001, 0.001, 0.001, 0.001, 0.001, 0.001, 0.001, 0.001, 0.001, 0.001, 0.001, 0.001, 0.001, 0.001, 0.001, 0.001, 0.001, 0.001, 0.001, 0.001, 0.001, 0.001, 0.001, 0.001, 0.001, 0.001, 0.001, 0.001, 0.001, 0.001, 0.001, 0.001, 0.001, 0.001, 0.001, 0.001, 0.001, 0.001, 0.001, 0.001, 0.001, 0.001, 0.001, 0.001, 0.001, 0.001, 0.001, 0.001, 0.001, 0.001, 0.001, 0.001, 0.001, 0.001, 0.001, 0.001, 0.001, 0.001, 0.001, 0.001, 0.001, 0.001, 0.001, 0.001, 0.001, 0.001, 0.001, 0.001, 0.001, 0.001, 0.001, 0.001, 0.001, 0.001, 0.001, 0.001, 0.001, 0.001, 0.001, 0.001, 0.001, 0.001, 0.001, 0.001, 0.001, 0.001, 0.001, 0.001, 0.001, 0.001, 0.001, 0.001, 0.001, 0.001, 0.001, 0.001, 0.001, 0.001, 0.001, 0.001, 0.001, 0.001, 0.001, 0.001, 0.001, 0.001, 0.001, 0.001, 0.001, 0.001, 0.001, 0.001, 0.001, 0.001, 0.001, 0.001, 0.001, 0.001, 0.001, 0.001, 0.001, 0.001, 0.001, 0.001, 0.001, 0.001, 0.001, 0.001, 0.001, 0.001, 0.001, 0.001, 0.001, 0.001, 0.001, 0.001, 0.001, 0.001, 0.001, 0.001, 0.001, 0.001, 0.001, 0.001, 0.001, 0.001, 0.001, 0.001, 0.001, 0.001, 0.001, 0.001, 0.001, 0.001, 0.001, 0.001, 0.001, 0.001, 0.001, 0.001, 0.001, 0.001, 0.001, 0.001, 0.001, 0.001, 0.001, 0.001, 0.001, 0.001, 0.001, 0.001, 0.001, 0.001, 0.001, 0.001, 0.001, 0.001, 0.001, 0.001, 0.001, 0.001, 0.001, 0.001, 0.001, 0.001, 0.001, 0.001, 0.001, 0.001, 0.001, 0.001, 0.001, 0.001, 0.001, 0.001, 0.001, 0.001, 0.001, 0.001, 0.001, 0.001, 0.001, 0.001, 0.001, 0.001, 0.001, 0.001, 0.001, 0.001, 0.001, 0.001, 0.001, 0.001, 0.001, 0.001, 0.001, 0.001, 0.001, 0.001, 0.001, 0.001, 0.001, 0.001, 0.001, 0.001, 0.001, 0.001, 0.001, 0.001, 0.001, 0.001, 0.001, 0.001, 0.001, 0.001, 0.001, 0.001, 0.001, 0.001, 0.001, 0.001, 0.001, 0.001, 0.001, 0.001, 0.001, 0.001, 0.001, 0.001, 0.001, 0.001, 0.001, 0.001, 0.001, 0.001, 0.001, 0.001, 0.001, 0.001, 0.001, 0.001, 0.001, 0.001, 0.001, 0.001, 0.001, 0.001, 0.001, 0.001, 0.001, 0.001, 0.001, 0.001, 0.001, 0.001, 0.001, 0.001, 0.001, 0.001, 0.001, 0.001, 0.001, 0.001, 0.001, 0.001, 0.001, 0.001, 0.001, 0.001, 0.001, 0.001, 0.001, 0.001, 0.001, 0.001, 0.001, 0.001, 0.001, 0.001, 0.001, 0.001, 0.001, 0.001, 0.001, 0.001, 0.001, 0.001, 0.001, 0.001, 0.001, 0.001, 0.001, 0.001, 0.001, 0.001, 0.001, 0.001, 0.001, 0.001, 0.001, 0.001, 0.001, 0.001, 0.001, 0.001, 0.001, 0.001, 0.001, 0.001, 0.001, 0.001, 0.001, 0.001, 0.001, 0.001, 0.001, 0.001, 0.001, 0.001, 0.001, 0.001, 0.001, 0.001, 0.001, 0.001, 0.001, 0.001, 0.001, 0.001, 0.001, 0.001, 0.001, 0.001, 0.001, 0.001, 0.001, 0.001, 0.001, 0.001, 0.001, 0.001, 0.001, 0.001, 0.001, 0.001, 0.001, 0.001, 0.001, 0.001, 0.001, 0.001, 0.001, 0.001, 0.001, 0.001, 0.001, 0.001, 0.001, 0.001, 0.001, 0.001, 0.001, 0.001, 0.001, 0.001, 0.001, 0.001, 0.001, 0.001, 0.001, 0.001, 0.001, 0.001, 0.001, 0.001, 0.001, 0.001, 0.001, 0.001, 0.001, 0.001, 0.001, 0.001, 0.001, 0.001, 0.001, 0.001, 0.001, 0.001, 0.001, 0.001, 0.001, 0.001, 0.001, 0.001, 0.001, 0.001, 0.001, 0.001, 0.001, 0.001, 0.001, 0.001, 0.001, 0.001, 0.001, 0.001, 0.001, 0.001, 0.001, 0.001, 0.001, 0.001, 0.001, 0.001, 0.001, 0.001, 0.001, 0.001, 0.001, 0.001, 0.001, 0.001, 0.001, 0.001, 0.001, 0.001, 0.001, 0.001, 0.001, 0.001, 0.001, 0.001, 0.001, 0.001, 0.001, 0.001, 0.001, 0.001, 0.001, 0.001, 0.001, 0.001, 0.001, 0.001, 0.001, 0.001, 0.001, 0.001, 0.001, 0.001, 0.001, 0.001, 0.001, 0.001, 0.001, 0.001, 0.001, 0.001, 0.001, 0.001, 0.001, 0.001, 0.001, 0.001, 0.001, 0.001, 0.001, 0.001, 0.001, 0.001, 0.001, 0.001, 0.001, 0.001, 0.001, 0.001, 0.001, 0.001, 0.001, 0.001, 0.001, 0.001, 0.001, 0.001, 0.001, 0.001, 0.001, 0.001, 0.001, 0.001, 0.001, 0.001, 0.001, 0.001, 0.001, 0.001, 0.001, 0.001, 0.001, 0.001, 0.001, 0.001, 0.001, 0.001, 0.001, 0.001, 0.001, 0.001, 0.001, 0.001, 0.001, 0.001, 0.001, 0.001, 0.001, 0.001, 0.001, 0.001, 0.001, 0.001, 0.001, 0.001, 0.001, 0.001, 0.001, 0.001, 0.001, 0.001, 0.001, 0.001, 0.001, 0.001, 0.001, 0.001, 0.001, 0.001, 0.001, 0.001, 0.001, 0.001, 0.001, 0.001, 0.001, 0.001, 0.001, 0.001, 0.001, 0.001, 0.001, 0.001, 0.001, 0.001, 0.001, 0.001, 0.001, 0.001, 0.001, 0.001, 0.001, 0.001, 0.001, 0.001, 0.001, 0.001, 0.001, 0.001, 0.001, 0.001, 0.001, 0.001, 0.001, 0.001, 0.001, 0.001, 0.001, 0.001, 0.001, 0.001, 0.001, 0.001, 0.001, 0.001, 0.001, 0.001, 0.001, 0.001, 0.001, 0.001, 0.001, 0.001, 0.001, 0.001, 0.001, 0.001, 0.001, 0.001, 0.001, 0.001, 0.001, 0.001, 0.001, 0.001, 0.001, 0.001, 0.001, 0.001, 0.001, 0.001, 0.001, 0.001, 0.001, 0.001, 0.001, 0.001, 0.001, 0.001, 0.001, 0.001, 0.001, 0.001, 0.001, 0.001, 0.001, 0.001, 0.001, 0.001, 0.001, 0.001, 0.001, 0.001, 0.001, 0.001, 0.001, 0.001, 0.001, 0.001, 0.001, 0.001, 0.001, 0.001, 0.001, 0.001, 0.001, 0.001, 0.001, 0.001, 0.001, 0.001, 0.001, 0.001, 0.001, 0.001, 0.001, 0.001, 0.001, 0.001, 0.001, 0.001, 0.001, 0.001, 0.001, 0.001, 0.001, 0.001, 0.001, 0.001, 0.001, 0.001, 0.001, 0.001, 0.001, 0.001, 0.001, 0.001, 0.001, 0.001, 0.001, 0.001, 0.001, 0.001, 0.001, 0.001, 0.001, 0.001, 0.001, 0.001, 0.001, 0.001, 0.001, 0.001, 0.001, 0.001, 0.001, 0.001, 0.001, 0.001, 0.001, 0.001, 0.001, 0.001, 0.001, 0.001, 0.001, 0.001, 0.001, 0.001, 0.001, 0.001, 0.001, 0.001, 0.001, 0.001, 0.001, 0.001, 0.001, 0.001, 0.001, 0.001, 0.001, 0.001, 0.001, 0.001, 0.001, 0.001, 0.001, 0.001, 0.001, 0.001, 0.001, 0.001, 0.001, 0.001, 0.001, 0.001, 0.001, 0.001, 0.001, 0.001, 0.001, 0.001, 0.001, 0.001, 0.001, 0.001, 0.001, 0.001, 0.001, 0.001, 0.001, 0.001, 0.001, 0.001, 0.001, 0.001, 0.001, 0.001, 0.001, 0.001, 0.001, 0.001, 0.001, 0.001, 0.001, 0.001, 0.001, 0.001, 0.001, 0.001, 0.001, 0.001, 0.001, 0.001, 0.001, 0.001, 0.001, 0.001, 0.001, 0.001, 0.001, 0.001, 0.001, 0.001, 0.001, 0.001, 0.001, 0.001, 0.001, 0.001, 0.001, 0.001, 0.001, 0.001, 0.001, 0.001, 0.001, 0.001, 0.001, 0.001, 0.001, 0.001, 0.001, 0.001, 0.001, 0.001, 0.001, 0.001, 0.001, 0.001, 0.001, 0.001, 0.001, 0.001, 0.001, 0.001, 0.001, 0.001, 0.001, 0.001, 0.001, 0.001, 0.001, 0.001, 0.001, 0.001, 0.001, 0.001, 0.001, 0.001, 0.001, 0.001, 0.001, 0.001, 0.001, 0.001, 0.001, 0.001, 0.001, 0.001, 0.001, 0.001, 0.001, 0.001, 0.001, 0.001, 0.001, 0.001, 0.001, 0.001, 0.001, 0.001, 0.001, 0.001, 0.001, 0.001, 0.001, 0.001, 0.001, 0.001, 0.001, 0.001, 0.001, 0.001, 0.001, 0.001, 0.001, 0.001, 0.001, 0.001, 0.001, 0.001, 0.001, 0.001, 0.001, 0.001, 0.001, 0.001, 0.001, 0.001, 0.001, 0.001, 0.001, 0.001, 0.001, 0.001, 0.001, 0.001, 0.001, 0.001, 0.001, 0.001, 0.001, 0.001, 0.001, 0.001, 0.001, 0.001, 0.001, 0.001, 0.001, 0.001, 0.001, 0.001, 0.001, 0.001, 0.001, 0.001, 0.001, 0.001, 0.001, 0.001, 0.001, 0.001, 0.001, 0.001, 0.001, 0.001, 0.001, 0.001, 0.001, 0.001, 0.001, 0.001, 0.001, 0.001, 0.001, 0.001, 0.001, 0.001, 0.001, 0.001, 0.001, 0.001, 0.001, 0.001, 0.001, 0.001, 0.001, 0.001, 0.001, 0.001, 0.001, 0.001, 0.001, 0.001, 0.001, 0.001, 0.001, 0.001, 0.001, 0.001, 0.001, 0.001, 0.001, 0.001, 0.001, 0.001, 0.001, 0.001, 0.001, 0.001, 0.001, 0.001, 0.001, 0.001, 0.001, 0.001, 0.001, 0.001, 0.001, 0.001, 0.001, 0.001, 0.001, 0.001, 0.001, 0.001, 0.001, 0.001, 0.001, 0.001, 0.001, 0.001, 0.001, 0.001, 0.001, 0.001, 0.001, 0.001, 0.001, 0.001, 0.001, 0.001, 0.001, 0.001, 0.001, 0.001, 0.001, 0.001, 0.001, 0.001, 0.001, 0.001, 0.001, 0.001, 0.001, 0.001, 0.001, 0.001, 0.001, 0.001, 0.001, 0.001, 0.001, 0.001, 0.001, 0.001, 0.001, 0.001, 0.001, 0.001, 0.001, 0.001, 0.001, 0.001, 0.001, 0.001, 0.001, 0.001, 0.001, 0.001, 0.001, 0.001, 0.001, 0.001, 0.001, 0.001, 0.001, 0.001, 0.001, 0.001, 0.001, 0.001, 0.001, 0.001, 0.001, 0.001, 0.001, 0.001, 0.001, 0.001, 0.001, 0.001, 0.001, 0.001, 0.001, 0.001, 0.001, 0.001, 0.001, 0.001, 0.001, 0.001, 0.001, 0.001, 0.001, 0.001, 0.001, 0.001, 0.001, 0.001, 0.001, 0.001, 0.001, 0.001, 0.001, 0.001, 0.001, 0.001, 0.001, 0.001, 0.001, 0.001, 0.001, 0.001, 0.001, 0.001, 0.001, 0.001, 0.001, 0.001, 0.001, 0.001, 0.022, 0.001, 0.001, 0.001, 0.001, 0.001, 0.001, 0.001, 0.001, 0.001, 0.001, 0.001, 0.001, 0.001, 0.001, 0.001, 0.001, 0.001, 0.001, 0.001, 0.001, 0.001, 0.001, 0.001, 0.001, 0.001, 0.001, 0.001, 0.001, 0.001, 0.001, 0.001, 0.001, 0.001, 0.001, 0.001, 0.001, 0.001, 0.001, 0.001, 0.001, 0.001, 0.001, 0.001, 0.001, 0.001, 0.001, 0.001, 0.001, 0.001, 0.001, 0.001, 0.001, 0.001, 0.001, 0.001, 0.001, 0.001, 0.001, 0.001, 0.001, 0.001, 0.001, 0.001, 0.001, 0.001, 0.001, 0.001, 0.001, 0.001, 0.001, 0.001, 0.001, 0.001, 0.001, 0.001, 0.001, 0.001, 0.001, 0.001, 0.001, 0.001, 0.001, 0.001, 0.001, 0.001, 0.001, 0.001, 0.001, 0.001, 0.001, 0.001, 0.001, 0.001, 0.001, 0.001, 0.001, 0.001, 0.001, 0.001, 0.001, 0.001, 0.001, 0.001, 0.001, 0.001, 0.001, 0.001, 0.001, 0.001, 0.001, 0.001, 0.001, 0.001, 0.001, 0.001, 0.001, 0.001, 0.001, 0.001, 0.001, 0.001, 0.001, 0.001, 0.001, 0.001, 0.001, 0.001, 0.001, 0.001, 0.001, 0.001, 0.001, 0.001, 0.001, 0.001, 0.001, 0.001, 0.001, 0.001, 0.001, 0.001, 0.001, 0.001, 0.001, 0.001, 0.001, 0.001, 0.001, 0.001, 0.001, 0.001, 0.001, 0.001, 0.001, 0.001, 0.001, 0.001, 0.001, 0.001, 0.001, 0.001, 0.001, 0.001, 0.001, 0.001, 0.001, 0.001, 0.001, 0.001, 0.001, 0.001, 0.001, 0.001, 0.001, 0.001, 0.001, 0.001, 0.001, 0.001, 0.001, 0.001, 0.001, 0.001, 0.001, 0.001, 0.001, 0.001, 0.001, 0.001, 0.001, 0.001, 0.001, 0.001, 0.001, 0.001, 0.001, 0.001, 0.001, 0.001, 0.001, 0.001, 0.001, 0.001, 0.001, 0.001, 0.001, 0.001, 0.001, 0.001, 0.001, 0.001, 0.001, 0.001, 0.001, 0.001, 0.001, 0.001, 0.001, 0.001, 0.001, 0.001, 0.001, 0.001, 0.001, 0.001, 0.001, 0.001, 0.001, 0.001, 0.001, 0.001, 0.001, 0.001, 0.001, 0.001, 0.001, 0.001, 0.001, 0.001, 0.001, 0.001, 0.001, 0.001, 0.001, 0.001, 0.001, 0.001, 0.001, 0.001, 0.001, 0.001, 0.001, 0.001, 0.001, 0.001, 0.001, 0.001, 0.001, 0.001, 0.001, 0.001, 0.001, 0.001, 0.001, 0.001, 0.001, 0.001, 0.001, 0.001, 0.001, 0.001, 0.001, 0.001, 0.001, 0.001, 0.001, 0.001, 0.001, 0.001, 0.001, 0.001, 0.001, 0.001, 0.001, 0.001, 0.001, 0.001, 0.001, 0.001, 0.001, 0.001, 0.001, 0.001, 0.001, 0.001, 0.001, 0.001, 0.001, 0.001, 0.001, 0.001, 0.001, 0.001, 0.001, 0.001, 0.001, 0.001, 0.001, 0.001, 0.001, 0.001, 0.001, 0.001, 0.001, 0.001, 0.001, 0.001, 0.001, 0.001, 0.001, 0.001, 0.001, 0.001, 0.001, 0.001, 0.001, 0.001, 0.001, 0.001, 0.001, 0.001, 0.001, 0.001, 0.001, 0.001, 0.001, 0.001, 0.001, 0.001, 0.001, 0.001, 0.001, 0.001, 0.001, 0.001, 0.001, 0.001, 0.001, 0.001, 0.001, 0.001, 0.001, 0.001, 0.001, 0.001, 0.001, 0.001, 0.001, 0.001, 0.001, 0.001, 0.001, 0.001, 0.001, 0.001, 0.001, 0.001, 0.001, 0.001, 0.001, 0.001, 0.001, 0.001, 0.001, 0.001, 0.001, 0.001, 0.001, 0.001, 0.001, 0.001, 0.001, 0.001, 0.001, 0.001, 0.001, 0.001, 0.001, 0.001, 0.001, 0.001, 0.001, 0.001, 0.001, 0.001, 0.001, 0.001, 0.001, 0.001, 0.001, 0.001, 0.001, 0.001, 0.001, 0.001, 0.001, 0.001, 0.001, 0.001, 0.001, 0.001, 0.001, 0.001, 0.001, 0.001, 0.001, 0.001, 0.001, 0.001, 0.001, 0.001, 0.001, 0.001, 0.001, 0.001, 0.001, 0.001, 0.001, 0.001, 0.001, 0.001, 0.001, 0.001, 0.001, 0.001, 0.001, 0.001, 0.001, 0.001, 0.001, 0.001, 0.001, 0.001, 0.001, 0.001, 0.001, 0.001, 0.001, 0.001, 0.001, 0.001, 0.001, 0.001, 0.001, 0.001, 0.001, 0.001, 0.001, 0.001, 0.001, 0.001, 0.001, 0.001, 0.001, 0.001, 0.001, 0.001, 0.001, 0.001, 0.001, 0.001, 0.001, 0.001, 0.001, 0.001, 0.001, 0.001, 0.001, 0.001, 0.001, 0.001, 0.001, 0.001, 0.001, 0.001, 0.001, 0.001, 0.001, 0.001, 0.001, 0.001, 0.036, 0.001, 0.001, 0.001, 0.001, 0.001, 0.001, 0.001, 0.001, 0.001, 0.001, 0.001, 0.001, 0.001, 0.001, 0.001, 0.001, 0.001, 0.001, 0.001, 0.001, 0.001, 0.001, 0.001, 0.001, 0.001, 0.001, 0.001, 0.001, 0.001, 0.001, 0.001, 0.001, 0.001, 0.001, 0.001, 0.001, 0.001, 0.001, 0.001, 0.001, 0.001, 0.001, 0.001, 0.001, 0.001, 0.001, 0.001, 0.001, 0.001, 0.001, 0.001, 0.001, 0.001, 0.001, 0.001, 0.001, 0.001, 0.001, 0.001, 0.001, 0.001, 0.001, 0.001, 0.001, 0.001, 0.001, 0.001, 0.001, 0.001, 0.001, 0.001, 0.001, 0.001, 0.001, 0.001, 0.001, 0.001, 0.001, 0.001, 0.001, 0.001, 0.001, 0.001, 0.001, 0.001, 0.001, 0.001, 0.001, 0.001, 0.001, 0.001, 0.001, 0.001, 0.001, 0.001, 0.001, 0.001, 0.001, 0.001, 0.001, 0.001, 0.001, 0.001, 0.001, 0.001, 0.001, 0.001, 0.001, 0.001, 0.001, 0.001, 0.001, 0.001, 0.001, 0.001, 0.001, 0.001, 0.001, 0.001, 0.001, 0.001, 0.001, 0.001, 0.001, 0.001, 0.001, 0.001, 0.001, 0.001, 0.001, 0.001, 0.001, 0.001, 0.001, 0.001, 0.001, 0.001, 0.001, 0.001, 0.001, 0.001, 0.001, 0.001, 0.001, 0.001, 0.001, 0.001, 0.001, 0.001, 0.001, 0.001, 0.001, 0.001, 0.001, 0.001, 0.001, 0.001, 0.001, 0.001, 0.001, 0.001, 0.001, 0.001, 0.001, 0.001, 0.001, 0.001, 0.001, 0.001, 0.001, 0.001, 0.001, 0.001, 0.001, 0.001, 0.001, 0.001, 0.001, 0.001, 0.001, 0.001, 0.001, 0.001, 0.001, 0.001, 0.001, 0.001, 0.001, 0.001, 0.001, 0.001, 0.001, 0.001, 0.001, 0.001, 0.001, 0.001, 0.001, 0.001, 0.001, 0.001, 0.001, 0.001, 0.001, 0.001, 0.001, 0.001, 0.001, 0.001, 0.001, 0.001, 0.001, 0.001, 0.001, 0.001, 0.001, 0.001, 0.001, 0.001, 0.001, 0.001, 0.001, 0.001, 0.001, 0.001, 0.001, 0.001, 0.001, 0.001, 0.001, 0.001, 0.001, 0.001, 0.001, 0.001, 0.001, 0.001, 0.001, 0.001, 0.001, 0.001, 0.001, 0.001, 0.001, 0.001, 0.001, 0.001, 0.001, 0.001, 0.001, 0.001, 0.001, 0.001, 0.001, 0.001, 0.001, 0.001, 0.001, 0.001, 0.001, 0.001, 0.001, 0.001, 0.001, 0.001, 0.001, 0.001, 0.001, 0.001, 0.001, 0.001, 0.001, 0.001, 0.001, 0.001, 0.001, 0.001, 0.001, 0.001, 0.001, 0.001, 0.001, 0.001, 0.001, 0.001, 0.001, 0.001, 0.001, 0.001, 0.001, 0.001, 0.001, 0.001, 0.001, 0.001, 0.001, 0.001, 0.001, 0.001, 0.001, 0.001, 0.001, 0.001, 0.001, 0.001, 0.001, 0.001, 0.001, 0.001, 0.001, 0.001, 0.001, 0.001, 0.001, 0.001, 0.001, 0.001, 0.001, 0.001, 0.001, 0.001, 0.001, 0.001, 0.001, 0.001, 0.001, 0.001, 0.001, 0.001, 0.001, 0.001, 0.001, 0.001, 0.001, 0.001, 0.001, 0.001, 0.001, 0.001, 0.001, 0.001, 0.001, 0.001, 0.001, 0.001, 0.001, 0.001, 0.001, 0.001, 0.001, 0.001, 0.001, 0.001, 0.001, 0.001, 0.001, 0.001, 0.001, 0.001, 0.001, 0.001, 0.001, 0.001, 0.001, 0.001, 0.001, 0.001, 0.001, 0.001, 0.001, 0.001, 0.001, 0.001, 0.001, 0.001, 0.001, 0.001, 0.001, 0.001, 0.001, 0.001, 0.001, 0.001, 0.001, 0.001, 0.001, 0.001, 0.001, 0.001, 0.001, 0.001, 0.001, 0.001, 0.001, 0.001, 0.001, 0.001, 0.001, 0.001, 0.001, 0.001, 0.001, 0.001, 0.001, 0.001, 0.001, 0.001, 0.001, 0.001, 0.001, 0.001, 0.001, 0.001, 0.001, 0.001, 0.001, 0.001, 0.001, 0.001, 0.001, 0.001, 0.001, 0.001, 0.001, 0.001, 0.001, 0.001, 0.001, 0.001, 0.001, 0.001, 0.001, 0.001, 0.001, 0.001, 0.001, 0.001, 0.001, 0.001, 0.001, 0.001, 0.001, 0.001, 0.001, 0.001, 0.001, 0.001, 0.001, 0.001, 0.001, 0.001, 0.001, 0.001, 0.001, 0.001, 0.001, 0.001, 0.001, 0.001, 0.001, 0.001, 0.001, 0.001, 0.001, 0.001, 0.001, 0.001, 0.001, 0.001, 0.001, 0.001, 0.001, 0.001, 0.001, 0.001, 0.001, 0.001, 0.001, 0.001, 0.001, 0.001, 0.001, 0.001, 0.001, 0.001, 0.001, 0.001, 0.001, 0.001, 0.001, 0.001, 0.001, 0.001, 0.001, 0.001, 0.001, 0.001, 0.001, 0.001, 0.001, 0.001, 0.001, 0.001, 0.001, 0.001, 0.001, 0.001, 0.001, 0.001, 0.001, 0.001, 0.001, 0.322, 0.001, 0.001, 0.001, 0.001, 0.001, 0.001, 0.001, 0.001, 0.001, 0.001, 0.001, 0.001, 0.001, 0.001, 0.001, 0.001, 0.001, 0.001, 0.001, 0.001, 0.001, 0.001, 0.001, 0.001, 0.001, 0.001, 0.001, 0.001, 0.001, 0.001, 0.001, 0.001, 0.001, 0.001, 0.001, 0.001, 0.001, 0.001, 0.001, 0.001, 0.001, 0.001, 0.001, 0.001, 0.001, 0.001, 0.001, 0.001, 0.001, 0.001, 0.001, 0.001, 0.001, 0.001, 0.001, 0.001, 0.001, 0.001, 0.001, 0.001, 0.001, 0.001, 0.001, 0.001, 0.001, 0.001, 0.001, 0.001, 0.001, 0.001, 0.001, 0.001, 0.001, 0.001, 0.001, 0.001, 0.001, 0.001, 0.001, 0.001, 0.001, 0.001, 0.001, 0.036, 0.001, 0.001, 0.001, 0.001, 0.001, 0.001, 0.001, 0.001, 0.001, 0.001, 0.001, 0.001, 0.001, 0.001, 0.001, 0.001, 0.001, 0.001, 0.001, 0.001, 0.001, 0.001], \"mode\": \"markers\", \"type\": \"scatter\", \"name\": \"Not Sig(23047)\", \"marker\": {\"color\": \"#bebebe\", \"size\": 5}, \"text\": [\"TRNH\", \"FOXQ1\", \"TRNS2\", \"TRNW\", \"LINC01709\", \"LINC00431\", \"SAP25\", \"CD177\", \"SLX1A-SULT1A3\", \"SCARNA12\", \"SMILR\", \"TRNQ\", \"MS4A6E\", \"MIR6752\", \"POTEJ\", \"BEST3\", \"CYP19A1\", \"MIR6729\", \"TRAJ52\", \"MIR324\", \"SCN2B\", \"DDT\", \"MYO3A\", \"LOC105371734\", \"SNORD48\", \"IGKV1-37\", \"MRPS35-DT\", \"SNORD38A\", \"IGKV2-40\", \"MIR6777\", \"MIR1225\", \"HBG2\", \"IL20RA\", \"H2BP2\", \"TRAJ57\", \"TBATA\", \"MIR6821\", \"MIR6892\", \"RNF150\", \"LINC01864\", \"MIR6825\", \"LINC01348\", \"FAM20A\", \"MDP1\", \"IGHV3-6\", \"TUBB8B\", \"MIR202HG\", \"PARD3B\", \"SNORA20\", \"ANOS1\", \"CYP7A1\", \"IGHV3-52\", \"ARNT2\", \"KLHL4\", \"CPE\", \"HCG4\", \"MIR6771\", \"CCL8\", \"LINC01423\", \"MIR6894\", \"WFDC1\", \"VCAM1\", \"SCARNA9\", \"LINC01093\", \"MIR6807\", \"AP3B2\", \"MT1G\", \"RGPD1\", \"CNGB1\", \"MIR6797\", \"TMEM72\", \"S100G\", \"PAGE2\", \"DMRT2\", \"PDC-AS1\", \"PRLHR\", \"LINC01275\", \"COX6A2\", \"ANXA8L1\", \"PADI1\", \"TRAJ49\", \"CTXN2\", \"MOGAT1\", \"DLX2\", \"HYDIN\", \"MIR6772\", \"OR52W1\", \"SNORA63C\", \"SIGLEC11\", \"PDE9A-AS1\", \"MIR1227\", \"MIR3922\", \"HOXA4\", \"HP\", \"HSD17B1-AS1\", \"PITX1\", \"CYP1A2\", \"NECTIN2\", \"C1QC\", \"IGLJ3\", \"APLN\", \"FBXO17\", \"RAB17\", \"SERPINA2\", \"IGHV7-27\", \"PPP4R3B-DT\", \"S100A2\", \"LILRB5\", \"LOC105375130\", \"SNORA30\", \"TRGJ1\", \"C5orf60\", \"A4GNT\", \"TRGJP\", \"CDH16\", \"GNG10\", \"DPEP1\", \"MIR6766\", \"ABCA12\", \"WFDC12\", \"MIR3907\", \"GRM7-AS1\", \"S100A7\", \"TRAJ47\", \"LOC105378231\", \"TRAJ13\", \"LINC02156\", \"VSTM5\", \"IER3-AS1\", \"TRAJ20\", \"OR52I1\", \"EGR4\", \"HOXC5\", \"TRGV11\", \"TRAJ23\", \"CTXN2-AS1\", \"TUBB8\", \"ESRG\", \"SLC25A47\", \"PDE4DIPP7\", \"SLC1A6\", \"BFSP1\", \"IRGC\", \"LINC02640\", \"IGHJ1\", \"TBC1D3\", \"GNG13\", \"ACOT12\", \"CLCA3P\", \"CLCA3P\", \"NXPH3\", \"FHOD3\", \"IGLV1-51\", \"ZNF812P\", \"MIR6802\", \"SATB2-AS1\", \"DKK1\", \"MIR4737\", \"MIR3189\", \"ZFAND3-DT\", \"EZR-AS1\", \"SNORA54\", \"PDE4C\", \"NCOA7-AS1\", \"RN7SL3\", \"TNNT2\", \"IGHEP1\", \"PTH1R\", \"AMY2A\", \"TMEM89\", \"MIR378E\", \"FDPSP2\", \"GUSBP4\", \"MIR4484\", \"FAM124A\", \"OVOL1\", \"LINC00858\", \"TRAJ30\", \"LINC01482\", \"LINC01729\", \"MAFA-AS1\", \"UPP2\", \"LOC105374344\", \"POM121L15P\", \"ALPK2\", \"MIR6826\", \"NTRK3\", \"FLVCR2-AS1\", \"ANKRD40CL\", \"TPI1P3\", \"TCERG1L\", \"TRAJ50\", \"LINC02751\", \"MIR302C\", \"HECW1\", \"HMX2\", \"CLRN1-AS1\", \"LOC105374769\", \"IMPG1\", \"POTEE\", \"TMEM253\", \"MIR6749\", \"DAPK1-IT1\", \"HSPB6\", \"RFPL4AL1\", \"SEMA3F\", \"COL22A1\", \"C3orf70\", \"NRIP3-DT\", \"CCDC70\", \"RNY3\", \"OR2T8\", \"MDN1-AS1\", \"TNFAIP8L3\", \"CCDC196\", \"SHOX2\", \"SPINK13\", \"RASSF1-AS1\", \"SNORD30\", \"HPN\", \"SUGT1P4-STRA6LP-CCDC180\", \"H2AZ2-DT\", \"TAF7L\", \"EPB41L4A-DT\", \"LOC389199\", \"OR2T33\", \"UMODL1-AS1\", \"LINC00479\", \"ATF6-DT\", \"MIR769\", \"H2AC21\", \"OR7E47P\", \"OR7E47P\", \"ADRA1D\", \"RNVU1-7\", \"LINC01270\", \"DLX1\", \"LINC02506\", \"PRDM13\", \"LINC01596\", \"CTNND2\", \"SERPING1\", \"RBPMS2\", \"FCGR1CP\", \"GSTT2B\", \"LINC00484\", \"LINC00484\", \"TRAJ40\", \"HBA1\", \"EMSLR\", \"LOC105376314\", \"IGKV6D-41\", \"LINC01343\", \"ACTG1P20\", \"TRAJ28\", \"RPH3A\", \"IGKV1D-27\", \"PCDH8\", \"DELEC1\", \"FAM74A4\", \"SPIN4-AS1\", \"LOC105375743\", \"UST-AS1\", \"HOMER3-AS1\", \"KRT7\", \"PENK\", \"FERMT1\", \"HEPACAM\", \"ELANE\", \"MIR215\", \"MIR103A2\", \"TAS2R39\", \"HBD\", \"COX6B2\", \"TP53TG3D\", \"ALAS2\", \"RD3\", \"NAIP\", \"OR7D2\", \"SLC30A8\", \"CIBAR2\", \"MIR548AT\", \"MIR4505\", \"PDE4DIPP1\", \"LOC105373335\", \"CLRN1\", \"MIR1255A\", \"ZG16\", \"PROX1\", \"GABRR2\", \"FUNDC2P2\", \"LINC02255\", \"MAP1LC3C\", \"TRNT\", \"GNAO1-DT\", \"LOC101929237\", \"FER1L6\", \"PCDHGA3\", \"LINC02322\", \"MIR1206\", \"CAPN13\", \"ACCSL\", \"IL21\", \"LMO3\", \"KISS1\", \"IL19\", \"CHST4\", \"LINC00951\", \"H1-6\", \"C1QB\", \"KIAA1210\", \"OR56B1\", \"BMPR1B\", \"SPSB3\", \"HSFX2\", \"IL20\", \"BARX1\", \"NPHP3-ACAD11\", \"OR6N1\", \"GPR84\", \"CITED1\", \"IGHJ4\", \"DNAH9\", \"IGHV3-25\", \"RNY1\", \"HYAL4\", \"MIR6801\", \"PLA2G2F\", \"THRSP\", \"LINC02141\", \"SCGB1A1\", \"LINC02137\", \"LINC01224\", \"GABRR1\", \"COL4A6\", \"MIR4323\", \"ERAS\", \"TAX1BP3\", \"RPS26P11\", \"RGS5-AS1\", \"APOBEC3B\", \"FCGR1A\", \"PKD1L3\", \"GPR85\", \"HBG1\", \"RHO\", \"IFITM3\", \"SEPTIN9-DT\", \"CCL3-AS1\", \"DNER\", \"MIR6867\", \"TRBV10-1\", \"ULBP3\", \"PGA5\", \"LOC729558\", \"OR6K3\", \"TRDJ2\", \"SYN2\", \"GUCY2EP\", \"SEPTIN7P11\", \"SEPTIN7P11\", \"IGKV2D-28\", \"MIR3139\", \"CRPPA-AS1\", \"TFAP2A-AS1\", \"NRN1\", \"MIR3662\", \"OVCH1-AS1\", \"LINC02591\", \"LINC02414\", \"MCEMP1\", \"MAGEA8\", \"FFAR3\", \"TRAJ44\", \"GUCY2F\", \"TRAJ11\", \"IGLVI-63\", \"ITGB6\", \"BPIFB3\", \"LRP4\", \"GTF2H4\", \"IGHD5-24\", \"SLC4A1\", \"LINC00412\", \"INHBA-AS1\", \"LINC00272\", \"H1-9P\", \"ADRB1\", \"TCAM1P\", \"FAM107A\", \"H1-3\", \"PPP1R1A\", \"SIGLEC1\", \"SLC12A1\", \"RBM24\", \"TRAJ46\", \"ZNF807P\", \"LOC101929457\", \"LINC01271\", \"SCGN\", \"ACTL7B\", \"C5orf47\", \"MIR6776\", \"DSC2\", \"PITX2\", \"F7\", \"CHRDL1\", \"SAXO2\", \"GPR22\", \"IGLJ2\", \"MIR4682\", \"JAKMIP2-AS1\", \"MIR1976\", \"PKD1P1\", \"LINC02148\", \"SNORA2A\", \"AGAP12P\", \"AGAP12P\", \"MYO10\", \"CTNNA2\", \"COMMD4P1\", \"ZDHHC19\", \"ADGB\", \"LINC02177\", \"LINC02323\", \"TEX26-AS1\", \"KPNA7\", \"POU4F3\", \"ANKRD26P1\", \"LOC100996318\", \"ACHE\", \"ETV3L\", \"MIR3164\", \"CHKB-CPT1B\", \"ZNF114-AS1\", \"MIR499A\", \"MIR7-3HG\", \"PWP2\", \"CBS\", \"TRAV9-1\", \"SNORA40C\", \"OR51B4\", \"PYURF\", \"NSFP1\", \"SLC6A19\", \"UBE2QL1\", \"LINC01305\", \"TSPAN7\", \"PLGLB2\", \"SPTB\", \"TRBJ2-2\", \"SCHIP1\", \"DEFA8P\", \"MIR3680-2\", \"IFI44L\", \"ECI2-DT\", \"RGMA\", \"SLC5A11\", \"CHN2-AS1\", \"IGKJ1\", \"TRAJ12\", \"NPHS1\", \"RNU6-9\", \"PRNCR1\", \"TTBK1\", \"ZNF730\", \"CYB5D1\", \"STAC\", \"FCGR1BP\", \"FCGR1BP\", \"TICRR\", \"C1QA\", \"LOC100507403\", \"CTRL\", \"EXOC3L2\", \"CMKLR2-AS\", \"CDK6-AS1\", \"PGA3\", \"CRYZL2P-SEC16B\", \"TUBBP5\", \"LURAP1\", \"SIGLEC12\", \"PRTN3\", \"FOXI1\", \"TMC7\", \"MIR553\", \"OLAH\", \"PRSS37\", \"KCNMA1\", \"F2\", \"RPS10\", \"INSC\", \"ANKRD9\", \"MIR1915HG\", \"LINC01664\", \"CRYGD\", \"LINC02139\", \"KCNA7\", \"FXYD1\", \"MIR6784\", \"GATD3\", \"MIR6780B\", \"TRAJ9\", \"MIR5009\", \"LINC02749\", \"LINC01094\", \"IGHD5-5\", \"LINC01791\", \"MIR6859-2\", \"LINC02763\", \"NECTIN1-DT\", \"SLC6A11\", \"RGPD4\", \"ZIM2-AS1\", \"ZIM2-AS1\", \"H3-4\", \"SEC16B\", \"ASIC4-AS1\", \"LILRP2\", \"TMEM109-DT\", \"HTRA1\", \"PLSCR3\", \"CREB3L1\", \"MIR6889\", \"LINC02312\", \"LERFS\", \"PDE2A-AS1\", \"FGF13\", \"PPARG\", \"MIR4446\", \"LINC01770\", \"CCNA1\", \"PCSK9\", \"IGKV6-21\", \"B3GALT1\", \"CYP4F8\", \"AOX1\", \"TMEM45A\", \"LINC02901\", \"LINC02527\", \"PIP5K1P1\", \"PDE4DIPP4\", \"PDE4DIPP4\", \"TRIM6\", \"MIR6858\", \"CYP1B1-AS1\", \"CPSF4L\", \"CASP5\", \"SOCS3\", \"ANKRD22\", \"GLRA1\", \"NAT8\", \"LINC01151\", \"LIPM\", \"IGLV5-48\", \"LINC01842\", \"CTSG\", \"ASCL3\", \"TLR5\", \"MARCO\", \"SNCA\", \"EGFL6\", \"EHD4-AS1\", \"OR52N2\", \"LINC01204\", \"DPPA3\", \"GKN2\", \"DEFA4\", \"KRTAP5-7\", \"GLOD5\", \"CPXM2\", \"DSCAM\", \"LINC01141\", \"LINC01099\", \"RNVU1-6\", \"IZUMO2\", \"MIR6769B\", \"PSMD7-DT\", \"HSPC324\", \"KLK10\", \"HOXA6\", \"SLC10A6\", \"KRT14\", \"ADGRD1-AS1\", \"ZNF99\", \"LINC01033\", \"MIR602\", \"MAGEL2\", \"SEPTIN12\", \"KRTAP10-6\", \"KCNJ5\", \"LINC02204\", \"TBC1D28\", \"FAM245A\", \"KRTAP9-1\", \"H2AC4\", \"TFAMP1\", \"ISM2\", \"MIR3186\", \"MIPOL1\", \"KRT71\", \"AGK-DT\", \"LINC01182\", \"LOC101929532\", \"IGHJ3\", \"LINC01750\", \"LINC02734\", \"SEPTIN4-AS1\", \"ZNF84-DT\", \"MIR3197\", \"LMOD2\", \"SNORD3B-1\", \"H3C7\", \"VCX\", \"LINC02736\", \"LRRC3-DT\", \"GDF3\", \"LOC101928317\", \"DLX2-DT\", \"SLC44A3-AS1\", \"COL4A2-AS1\", \"SERPINA9\", \"PDCD1LG2\", \"LOC105370027\", \"FAM238B\", \"NYNRIN\", \"PTGR1\", \"CATIP-AS1\", \"LINC02605\", \"PTPMT1\", \"TRAJ58\", \"SNORD88A\", \"TRAJ8\", \"DLL4\", \"HTT-AS\", \"MIR4434\", \"EFCAB2\", \"HNF1A\", \"SMIM22\", \"ABHD11-AS1\", \"TGFB2\", \"TNFSF15\", \"LDHAL6B\", \"TRBJ1-1\", \"SEMA6B\", \"BCKDHA\", \"EXD1\", \"RNASE13\", \"NFIB\", \"MIR548K\", \"LINC00942\", \"TULP1\", \"ANGPTL8\", \"GPRC5A\", \"SELENBP1\", \"BICDL2\", \"IGKV1D-12\", \"HYMAI\", \"RNF152\", \"CD274\", \"EIF4E1B\", \"GALNT14\", \"PIP\", \"IRX6\", \"CTNNA1-AS1\", \"LOC338963\", \"FNDC7\", \"LOC101928894\", \"ACTN3\", \"NUPR1\", \"CACNA1E\", \"MRGPRF\", \"SOD1-DT\", \"TRAJ53\", \"PCSK1\", \"CBARP\", \"ZG16B\", \"CDK11A\", \"AHSP\", \"USP2-AS1\", \"GSEC\", \"CDH9\", \"GPR179\", \"HORMAD2\", \"TRAJ43\", \"NPFFR1\", \"MIR1302-3\", \"EPB41L4B\", \"LINC02354\", \"NBPF13P\", \"NUAK1\", \"PROKR1\", \"TPM1-AS\", \"GJB7\", \"CD300LD-AS1\", \"SRGAP3-AS3\", \"LINC01222\", \"LNCOC1\", \"INO80-AS1\", \"MIR3942\", \"LINC02887\", \"MT1X\", \"OR13D1\", \"OLR1\", \"ABCG8\", \"LOC101929269\", \"MIR6856\", \"EPHA3\", \"NPAS4\", \"MIR6736\", \"IGKV3-31\", \"FBXO47\", \"MT1E\", \"SEPTIN4\", \"ULK4P1\", \"ULK4P1\", \"AMY1B\", \"MIR6088\", \"SPNS2-AS1\", \"SLC2A14\", \"LOC285804\", \"MIR4666A\", \"MIR4715\", \"TERB1\", \"MIR3945HG\", \"LINC02227\", \"MIR4479\", \"LINC01133\", \"OLFM1\", \"MPP3\", \"HCG24\", \"KNG1\", \"MAPK15\", \"IGHD2-2\", \"CD164L2\", \"SOCAR\", \"IGKV3-7\", \"CA1\", \"PRKG1\", \"LHFPL3-AS2\", \"HLA-DRB5\", \"KREMEN1\", \"HHATL-AS1\", \"C19orf33\", \"NEUROD2\", \"ANXA3\", \"ARHGAP31-AS1\", \"CEP55\", \"SLC26A8\", \"SEC14L6\", \"HBZ\", \"HHATL\", \"OAS3\", \"ITGAD\", \"LINC02009\", \"PLSCR1\", \"DTL\", \"LINC02371\", \"NOSTRIN\", \"FRZB\", \"RUNDC3A\", \"TRAJ51\", \"MIR6775\", \"TRIM58\", \"LINC01545\", \"LINC02321\", \"FAM89B\", \"STAU2-AS1\", \"ARHGEF37\", \"SNORA31\", \"GALNT5\", \"IGKV2-18\", \"KIAA0408\", \"LINC02937\", \"LOC102724587\", \"LINC02676\", \"UPK1A-AS1\", \"CDC42P3\", \"SHLD2P1\", \"LINC01531\", \"COMP\", \"TDRD10\", \"TRMT9B\", \"LOC105370969\", \"TAGLN3\", \"PSENEN\", \"GAPLINC\", \"FAM157B\", \"GAL3ST2\", \"ITGA8\", \"DDX11L1\", \"DDX11L1\", \"HBM\", \"XK\", \"FAR2P1\", \"FAR2P1\", \"IGLVI-20\", \"IGKV2-4\", \"TPH2\", \"KRTAP10-11\", \"LINC02395\", \"LINC02542\", \"S100A14\", \"SYNJ2BP-COX16\", \"MIR6503\", \"IGLV3-22\", \"CST7\", \"TBC1D3D\", \"NSG2\", \"HS1BP3-IT1\", \"USP12-AS1\", \"HTR2B\", \"CD300LG\", \"IPO9-AS1\", \"MIR6731\", \"LOC122455340\", \"GRIA4\", \"RNVU1-15\", \"CELA2A\", \"SRI-AS1\", \"ASPG\", \"RMDN2-AS1\", \"HLA-G\", \"GBP6\", \"TRAV6\", \"CEACAM6\", \"MIXL1\", \"FCRL5\", \"RASAL2-AS1\", \"TEAD3\", \"GRIP2\", \"VCAN-AS1\", \"CFAP61\", \"ANG\", \"LINC00482\", \"PDE6B-AS1\", \"MIOX\", \"LINC00487\", \"NR2E3\", \"PGM5\", \"TMEM121B\", \"SNHG18\", \"SPC25\", \"TRBJ2-2P\", \"WDFY3-AS2\", \"PPIC\", \"ABCB5\", \"KLHDC8A\", \"TRAJ4\", \"LOC101928372\", \"TACSTD2\", \"TRIM10\", \"IFIT1B\", \"LOC440742\", \"MIR1537\", \"LINC01516\", \"PCDHGB8P\", \"CCN5\", \"PRRX2\", \"RSPO1\", \"CDC25C\", \"IGHV3-42\", \"SMIM43\", \"RPL26L1-AS1\", \"NUP133-DT\", \"CCM2L\", \"NT5DC4\", \"PRDM12\", \"LRRC74B\", \"ST7-AS1\", \"ORM1\", \"RAD21-AS1\", \"RTL8B\", \"CDO1\", \"BTG2-DT\", \"AXDND1\", \"ESYT3\", \"SAMD7\", \"LOC101929227\", \"IGHV4-61\", \"CFD\", \"KIF20A\", \"SMTNL1\", \"OR2A1\", \"GNG4\", \"RCAN2\", \"PI3\", \"CRLF1\", \"TRHDE\", \"LOC102724560\", \"SLC6A9\", \"PCOLCE2\", \"IGLV2-23\", \"SCG3\", \"QKILA\", \"ANKRD35\", \"TM4SF19-DYNLT2B\", \"ZSCAN5A-AS1\", \"CECR3\", \"APOC1\", \"IGLV5-45\", \"UNC5A\", \"PADI2\", \"LINC01736\", \"PIMREG\", \"CAPN11\", \"SRXN1\", \"ALPL\", \"HEPACAM2\", \"MSH4\", \"IGHG2\", \"TEX14\", \"GMPR\", \"CBR1-AS1\", \"NUTM2F\", \"LINC00676\", \"REC114\", \"DLGAP1-AS3\", \"TSPO2\", \"TDRKH-AS1\", \"TRAJ32\", \"RNVU1-1\", \"SIPA1L1-AS1\", \"LMAN1L\", \"LRRC37A\", \"PTPRD\", \"SLC28A1\", \"YBX2\", \"GOLGA8T\", \"NXF3\", \"TREM2\", \"MARK2P9\", \"MIR6762\", \"LOC105370792\", \"CFAP99\", \"LINC01300\", \"TH\", \"MIR6864\", \"SLC12A5-AS1\", \"FAM210B\", \"IGHGP\", \"LINC01686\", \"OLFM5P\", \"CLEC18C\", \"PYDC1\", \"SLC6A8\", \"SERPINA11\", \"SAMD14\", \"LOC100289361\", \"TARM1\", \"TRDJ4\", \"TMEM139\", \"LNCTAM34A\", \"BOLA2\", \"CADM2\", \"STAG3L5P-PVRIG2P-PILRB\", \"REXO5\", \"IL12B\", \"ZNF385D\", \"TRAJ39\", \"SCARNA8\", \"ODF2-AS1\", \"LINC02244\", \"PAQR5\", \"MX1\", \"APOD\", \"IFI6\", \"ENTPD3\", \"CYP4F29P\", \"CYP4F29P\", \"LOC101928847\", \"NUCB1-AS1\", \"IGHD3-22\", \"LINC01168\", \"MMP19\", \"TAX1BP1-AS1\", \"ERLNC1\", \"CNTNAP3P2\", \"ALOX15\", \"AQP1\", \"TAL1\", \"PLEK2\", \"BASP1-AS1\", \"NPIPB2\", \"ZNF474\", \"TMOD1\", \"AZU1\", \"NODAL\", \"CTSE\", \"USP32P1\", \"USP32P1\", \"MSC\", \"FABP6\", \"MXI1\", \"ALPP\", \"CA12\", \"ESCO2\", \"RAMACL\", \"ARG1\", \"TMEM51-AS2\", \"IFNL4\", \"FSTL4\", \"SIAH2\", \"DPYD-AS1\", \"LOC105369306\", \"DNAH2\", \"MYL9\", \"RNFT1-DT\", \"MSLN\", \"RANBP17\", \"LINC00960\", \"CHMP1B2P\", \"TYRO3P\", \"PRSS3\", \"GPS2\", \"LINC02848\", \"MIR548AR\", \"CENPA\", \"SPATA22\", \"FBXO40\", \"GFUS\", \"LINC02363\", \"CT70\", \"TNS1\", \"C3AR1\", \"TGM2\", \"SERPINB2\", \"TMBIM7P\", \"TSHZ3-AS1\", \"SLC5A4\", \"METTL21C\", \"SPDYE2B\", \"POLR2I\", \"DNAH17\", \"CLEC12B\", \"MIR4444-2\", \"FANCD2OS\", \"KLF14\", \"C11orf98\", \"IGHV2-5\", \"BATF2\", \"NOS1AP\", \"CMPK2\", \"LINC02555\", \"MS4A4A\", \"NTSR1\", \"OVCH1\", \"GLRX5\", \"LINC01001\", \"ELOVL3\", \"CDC20\", \"TMEM252-DT\", \"MMP8\", \"SLC44A3\", \"MIR3161\", \"SHLD2P3\", \"XAF1\", \"LYVE1\", \"ABALON\", \"TRAJ22\", \"TRIM9\", \"RAB3IL1\", \"CD151\", \"MIR641\", \"CLEC5A\", \"LOC101927131\", \"MAGOH-DT\", \"EPB42\", \"MIR4730\", \"IGHD3-16\", \"SFN\", \"IGLV2-28\", \"SNORA14B\", \"IL18RAP\", \"GPR42\", \"BCL2L1\", \"AOAH-IT1\", \"PLSCR2\", \"MIR1250\", \"CLEC6A\", \"DMTN\", \"TERB2\", \"TAS2R40\", \"POU5F1\", \"LINC01887\", \"TRAJ26\", \"MIR5094\", \"IL34\", \"OLFM4\", \"ST3GAL4\", \"WNT11\", \"POM121L4P\", \"JAKMIP1-DT\", \"MIR4772\", \"JMJD1C-AS1\", \"DCSTAMP\", \"FJX1\", \"ANO5\", \"LOC102723370\", \"PLIN4\", \"KIF19\", \"CARS1-AS1\", \"TMEM158\", \"ZNF683\", \"RELN\", \"MRGPRX3\", \"NKAIN2\", \"LINC00377\", \"CES3\", \"CLCNKA\", \"GPC4\", \"SLC2A4\", \"TRBJ2-4\", \"CTNNAL1\", \"SFRP2\", \"IGHJ2\", \"NRIR\", \"SYT1\", \"TRBV17\", \"KCNN1\", \"IFIT3\", \"HCG4B\", \"CPA1\", \"CYP11B1\", \"TRPV4\", \"STIMATE\", \"LENEP\", \"HERC5\", \"JCAD\", \"ATF7-NPFF\", \"SMIM10\", \"KRT12\", \"MADCAM1-AS1\", \"MIR33A\", \"MIR646\", \"LILRA6\", \"CCL16\", \"IL1B\", \"MFSD2B\", \"ADM\", \"ARHGEF26\", \"MIR3149\", \"ANK1\", \"TMEM130\", \"TRHDE-AS1\", \"C4orf50\", \"SLC5A4-AS1\", \"DRC7\", \"ART4\", \"MTHFS\", \"TRGV8\", \"FAM170B-AS1\", \"KLC3\", \"SMIM33\", \"LINC01191\", \"KCNMA1-AS1\", \"MTFP1\", \"CECR2\", \"SYT8\", \"CARMAL\", \"HBQ1\", \"MIR3174\", \"GPR141\", \"CHRND\", \"CKAP2L\", \"ACP7\", \"RYR2\", \"IL27\", \"LINC01907\", \"DUOX2\", \"KIF18B\", \"DEPP1\", \"LAMP5-AS1\", \"TENT5C\", \"CORIN\", \"BMP10\", \"SRL\", \"TRAJ42\", \"AJUBA-DT\", \"CLDN14-AS1\", \"MIR6774\", \"TBC1D3P2\", \"TBC1D3P2\", \"SLC36A3\", \"NDST2\", \"MMP25\", \"ACKR1\", \"COL27A1\", \"ANGPTL2\", \"MYOZ2\", \"CA7\", \"TSPEAR\", \"PET117\", \"SPATA46\", \"ITGA2B\", \"RN7SL2\", \"GUSBP3\", \"GUSBP3\", \"DCAF12\", \"CHIT1\", \"PLA2G2C\", \"LINC02948\", \"TMEM92-AS1\", \"EXOSC10-AS1\", \"H3C11\", \"IGLV3-13\", \"CCR1\", \"SFRP1\", \"NDN\", \"UNC5B\", \"LILRA5\", \"SLC25A37\", \"LGALSL-DT\", \"FXYD6\", \"ITIH4\", \"VSNL1\", \"B3GAT1\", \"ACTN2\", \"CLDN14\", \"MADD-AS1\", \"SNORA71C\", \"CHKB\", \"SNORD96B\", \"DHRS13\", \"FCAR\", \"SNORD41\", \"MYLK2\", \"MIR1284\", \"CDH12\", \"LOC388282\", \"OSR2\", \"MIR4440\", \"NPIPA5\", \"LINC02579\", \"PCDHA9\", \"KCNK3\", \"LINC01581\", \"MYPN\", \"PDZRN4\", \"KIRREL1\", \"LOC101928565\", \"PLPPR5\", \"SLC9A4\", \"GJB2\", \"SNORA46\", \"CHL1-AS1\", \"SIX4\", \"PRSS59P\", \"LOC105375781\", \"GJD4\", \"LOXL1\", \"ABCC13\", \"ABCC13\", \"SULT1A4\", \"MT2A\", \"GIPC2\", \"DBIL5P\", \"OAS1\", \"HCAR3\", \"SLC1A3\", \"APOC2\", \"SPRY3\", \"EFCAB9\", \"MIR4305\", \"TDO2\", \"ARHGDIG\", \"SPATA3\", \"C10orf71\", \"LRRC32\", \"PRR18\", \"LINC02704\", \"NFYCP2\", \"PALMD\", \"GDF5\", \"MYRF-AS1\", \"CLDN34\", \"SLC38A5\", \"CLUL1\", \"RIMS2\", \"MIR8066\", \"PAPPA\", \"ODAD2P1\", \"LRRC2-AS1\", \"ARHGAP28\", \"LINC02437\", \"CTAGE6\", \"TNS1-AS1\", \"SNORA71D\", \"MIR320A\", \"SP8\", \"DEFB109A\", \"SCN1B\", \"MIR4714\", \"TRAV7\", \"MYO7A\", \"PAX2\", \"LHFPL5\", \"CEACAM8\", \"OASL\", \"TIAM1-AS1\", \"PLBD1-AS1\", \"PFN4\", \"TPX2\", \"LOC375196\", \"CACNG6\", \"BTNL2\", \"ACSL1\", \"OBI1-AS1\", \"MCM10\", \"MYO18B\", \"DNAH3\", \"TRBJ2-5\", \"TFF3\", \"KCNQ1-AS1\", \"GRPEL2-AS1\", \"C1QL3\", \"IGDCC4\", \"CYSTM1\", \"HOXA9\", \"LINC02833\", \"CDH5\", \"LOC105371789\", \"IFITM1\", \"GPR151\", \"SMTNL2\", \"LOC107984548\", \"DDIT4L\", \"RNF138P1\", \"PILRB\", \"ZBTB20-AS5\", \"LHX4\", \"ATP2A1-AS1\", \"C5orf67\", \"MIR5697\", \"LOC400499\", \"IGKV3-15\", \"PTGFR\", \"PALM\", \"DRP2\", \"OSBP2\", \"TSPEAR-AS2\", \"UBQLNL\", \"FAM157C\", \"RNASE8\", \"GBX1\", \"GBGT1\", \"BSND\", \"CPEB1-AS1\", \"PFKFB3\", \"PDYN-AS1\", \"EMC6\", \"G0S2\", \"CYP1B1\", \"IGKV1-13\", \"GATA1\", \"NUTM2E\", \"CENPS-CORT\", \"TCN2\", \"RHCE\", \"CYP8B1\", \"MMP2-AS1\", \"ZNF438\", \"AOC1\", \"MUC3A\", \"LINC02073\", \"LINC02072\", \"LCT\", \"TMPRSS3\", \"ISG15\", \"CCDC144A\", \"SNORA47\", \"LINC02133\", \"OR10V1\", \"MINDY4B\", \"MIR640\", \"TENT5C-DT\", \"CSRP3-AS1\", \"LINC01961\", \"OR56A4\", \"LINC01833\", \"FOXL2\", \"LCN1\", \"CEACAM20\", \"IGKV2-10\", \"GALNT17\", \"IGHV3-63\", \"PCDH11X\", \"FBXL21P\", \"MISP\", \"OTC\", \"NHLH2\", \"LINC02634\", \"MIR6814\", \"ACOT6\", \"LRRC10B\", \"MAGEB2\", \"LOC102723544\", \"PKP1\", \"SOX9-AS1\", \"PRR15-DT\", \"SQLE-DT\", \"LOC105371956\", \"LINC02136\", \"PCNX4-DT\", \"LINC02827\", \"SAMMSON\", \"MIR5684\", \"MIR1272\", \"DUOXA2\", \"C2orf80\", \"H2BC14\", \"TMEM95\", \"SSMEM1\", \"WNT3A\", \"CACNG7\", \"VCX3A\", \"SRPX2\", \"OR2K2\", \"CBLC\", \"ADAM18\", \"OR1G1\", \"TAFA3\", \"OR13G1\", \"CADPS2\", \"GLRA2\", \"LINC01010\", \"OR9A4\", \"BHLHE23\", \"MYL10\", \"OR6W1P\", \"PPP1R2C\", \"SMIM2\", \"TM6SF2\", \"SLC27A6\", \"SAA4\", \"G6PC1\", \"TCEAL5\", \"EDN2\", \"MRPS9-AS2\", \"TMEM78\", \"SDC4P\", \"PPP1R42\", \"GLP2R\", \"TMPRSS2\", \"NCKAP5-AS2\", \"KLK15\", \"ADGRG7\", \"LINC02800\", \"UBQLN3\", \"FLJ42969\", \"TMEM246-AS1\", \"PRR5-ARHGAP8\", \"LOC105375750\", \"LINC02211\", \"LINC02934\", \"GABRA1\", \"LINC01396\", \"DPY19L1P2\", \"LOC102723713\", \"LINC01340\", \"RSPH1-DT\", \"LINC02820\", \"RYR3-DT\", \"FAM66E\", \"LOC101928087\", \"CIBAR1-DT\", \"VN2R19P\", \"AKAIN1\", \"RNU6ATAC\", \"MIR1322\", \"MIR3684\", \"DLG1-AS1\", \"PGM5-AS1\", \"PRPS1L1\", \"MIR1302-8\", \"GOLGA6A\", \"ADGRD2\", \"OR1L6\", \"LINC00619\", \"EVPLL\", \"SNORD116-18\", \"FAM90A26\", \"HDAC11-AS1\", \"MIR548H1\", \"LINC00840\", \"MIR4506\", \"RIC3-DT\", \"LINC01450\", \"LINC02636\", \"LINC01322\", \"LINC00244\", \"FNDC4\", \"DNAJA4-DT\", \"VAT1L\", \"PCDH19\", \"DNAAF6\", \"DGAT2-DT\", \"SNORA14A\", \"SNORA51\", \"MIR638\", \"TROAP-AS1\", \"COSMOC\", \"MIR941-5\", \"FMOD\", \"GPR12\", \"ECEL1\", \"IGHV3-30-2\", \"TRAV15\", \"TRAV8-7\", \"LINC00112\", \"SLC30A10\", \"DUXA\", \"RIPOR3-AS1\", \"SNORA70E\", \"JPH2\", \"LINC02111\", \"ANKRD33\", \"RBP4\", \"TMEM92\", \"TRAV26-2\", \"BCAM\", \"ATP1A4\", \"ZFX-AS1\", \"APOBEC3H\", \"MIR4641\", \"CCDC197\", \"STEAP2\", \"VSTM2B-DT\", \"GOLGA6L17P\", \"TMEM30CP\", \"LINC01971\", \"PAQR9-AS1\", \"MYO3B-AS1\", \"MIR6803\", \"PRNT\", \"ZNF133-AS1\", \"IL20RB-AS1\", \"ATP6V0D2\", \"KLF17\", \"OR52I2\", \"PCDHB1\", \"C8B\", \"LHX3\", \"IGHVIII-13-1\", \"LINC00661\", \"POM121L8P\", \"IGKV1D-37\", \"KCNK4\", \"KCNQ1DN\", \"TEX11\", \"IL22RA2\", \"NXPE1\", \"IGFL2\", \"GPAT2\", \"GINS2\", \"FKBP1B\", \"PAQR6\", \"ACVRL1\", \"SIX2\", \"TRBV25-1\", \"IGLV3-31\", \"MIR1229\", \"FAM83A-AS1\", \"SNORD111\", \"ACTG1P25\", \"PFKP-DT\", \"BPI\", \"ATP2B3\", \"SLIT2\", \"ST3GAL3-AS1\", \"GGT3P\", \"LINC02930\", \"TRBV16\", \"TYMS\", \"KIF2C\", \"FBXW7-AS1\", \"PLA1A\", \"TRIM31\", \"CERS3\", \"DGKI\", \"IFIT1\", \"HERC2P4\", \"RNASE2\", \"LINC02086\", \"CHRNA3\", \"TNFAIP6\", \"SIGLEC16\", \"TMEM98\", \"MIR425\", \"GDPD2\", \"TRAV26-1\", \"PADI6\", \"GRID1\", \"RTEL1\", \"ZBTB47-AS1\", \"F3\", \"MGAM2\", \"NHLH1\", \"RGS20\", \"KCNQ2\", \"EPSTI1\", \"TRAJ35\", \"PCDHGC4\", \"FAM87A\", \"WASH5P\", \"C1QTNF2\", \"C1orf87\", \"PLBD1\", \"M1AP\", \"IGKV1D-42\", \"LOC107984450\", \"EFR3B\", \"MIF-AS1\", \"XKR3\", \"VSTM2B\", \"LINC02940\", \"C1R\", \"HSD3B7\", \"C20orf202\", \"FAXC\", \"MIR1244-3\", \"H1-5\", \"CDKL2\", \"ICAM5\", \"PDXP-DT\", \"UBB\", \"TLCD4\", \"MIR1205\", \"ADAMTS7\", \"PLPP2\", \"LINC02669\", \"SERPINE3\", \"NACAD\", \"LOC93429\", \"MIR378A\", \"SRRM3\", \"MIR3679\", \"LY6E\", \"MASP1\", \"LSP1P3\", \"TMEM238L\", \"LINC02572\", \"CCKBR\", \"LOC390877\", \"MIR6829\", \"LINC01447\", \"PRKD3-DT\", \"MILR1\", \"LINC01548\", \"LRP4-AS1\", \"RASD2\", \"SYT7\", \"TBX2-AS1\", \"IGLVIV-64\", \"SPDYE10\", \"CERS3-AS1\", \"LOC101927822\", \"H2BW2\", \"IGHV7-81\", \"NOVA2\", \"BACH1-IT3\", \"RBM38\", \"NCF4-AS1\", \"LINC02028\", \"FAM215B\", \"KANK2\", \"LINC02384\", \"TXNDC5\", \"CLEC2L\", \"NDST3\", \"SMIM5\", \"MIR3176\", \"GDF15\", \"LINC01077\", \"FAM27C\", \"RGS11\", \"C10orf105\", \"TNNT3\", \"SHC2\", \"TPRG1-AS1\", \"OR2L1P\", \"IGF2BP2\", \"TRAV34\", \"RSPH9\", \"KCNJ15\", \"SRD5A3\", \"TNNT1\", \"LOC105369911\", \"RETN\", \"GTF2IP7\", \"IFITM5\", \"LINC02217\", \"IGKV1-27\", \"INSL3\", \"GOLGA8M\", \"PXT1\", \"MRPS24\", \"ATP8\", \"LRRC18\", \"MKX\", \"OR10V2P\", \"VPS13C-DT\", \"OSM\", \"PELATON\", \"DNALI1\", \"ERN2\", \"LINC02535\", \"NDUFS7\", \"LOC105376731\", \"CRIM1-DT\", \"LINC02213\", \"MRC2\", \"LRG1\", \"LOC105369373\", \"HBB\", \"MIRLET7F1\", \"LINC00189\", \"CHPT1\", \"TSNAX-DISC1\", \"BIRC5\", \"RNU5E-1\", \"EMID1\", \"GABARAP\", \"MIR4673\", \"SLAMF9\", \"CCL17\", \"SPATC1\", \"MIR3909\", \"APOA2\", \"CDCA5\", \"GOLGA8Q\", \"RAB5IF\", \"LINC01933\", \"GRINA\", \"PDE2A\", \"RNF126P1\", \"MEIS3\", \"IL10\", \"CNTN4\", \"LINC00310\", \"IGHD2-8\", \"SPATA13-AS1\", \"STAB1\", \"LINC00469\", \"MPDZ\", \"GOLGA8O\", \"IL10RB-DT\", \"LINC02291\", \"CGREF1\", \"HMGB3\", \"PCDHGB7\", \"TDRD12\", \"CD9\", \"RNVU1-3\", \"SNORD71\", \"TTC39A-AS1\", \"TWIST2\", \"MIR345\", \"ID2-AS1\", \"LRRC37A6P\", \"KRTAP10-10\", \"SLC2A10\", \"HAUS4\", \"ITGA7\", \"PRSS12\", \"PDE3A\", \"LOC101929107\", \"CLEC11A\", \"IGLV1-41\", \"STEAP3-AS1\", \"LINC01118\", \"PRMT5\", \"WASF1\", \"IGHE\", \"GFAP\", \"AP1G2-AS1\", \"BCDIN3D-AS1\", \"TMCC2\", \"FAM111B\", \"CDHR4\", \"ICAM1\", \"TRDV1\", \"RUFY4\", \"RILP\", \"CFAP58\", \"TRAJ18\", \"TFCP2L1\", \"HAR1B\", \"SMIM1\", \"VSTM4\", \"MIR4802\", \"YBX3\", \"JPH4\", \"HOXA5\", \"S100A12\", \"LANCL1-AS1\", \"LIPH\", \"PROK2\", \"SIGLEC10-AS1\", \"PP12613\", \"ACOXL\", \"NMNAT2\", \"TRAJ29\", \"LOC105375589\", \"MIR4718\", \"TCN1\", \"ZFPM2\", \"PBK\", \"CADPS\", \"SLC7A10\", \"TDRD6\", \"KEL\", \"LITAFD\", \"DDIAS\", \"ANK3-DT\", \"FZD5\", \"EXOC3L4\", \"RARRES2\", \"FKBP8\", \"SLC25A30-AS1\", \"LCT-AS1\", \"IGHG1\", \"TRIM7\", \"LOC101928834\", \"MIR34AHG\", \"FLVCR2\", \"INHBB\", \"ILK\", \"HK3\", \"SHISA4\", \"SMARCD3\", \"IGLV4-69\", \"OR2W3\", \"ALDH1A2\", \"FAT2\", \"TMEM132D\", \"LINC02913\", \"LMF1-AS1\", \"ADH1A\", \"SLC11A1\", \"MIR7976\", \"NLRC4\", \"MIR1226\", \"LRRC9\", \"LOC105371046\", \"MEG8\", \"SIRPD\", \"PHACTR3\", \"NKX2-3\", \"SLC51A\", \"LINC02798\", \"SLC14A1\", \"LINC01503\", \"HOXB-AS4\", \"ABHD17C\", \"LINC02896\", \"UBXN6\", \"GHRL\", \"PLIN5\", \"IRAG1\", \"FTH1\", \"ZNF687-AS1\", \"DYNLT5\", \"CXCL5\", \"DYSF\", \"DOK4\", \"TRBV6-7\", \"GLB1L2\", \"NOL3\", \"TMEM105\", \"MT1L\", \"MT1L\", \"DNAH17-AS1\", \"GPRIN1\", \"FPGT-TNNI3K\", \"KRTAP10-3\", \"MROCKI\", \"MKI67\", \"MIR373\", \"FECH\", \"HOXA10-AS\", \"ELK2AP\", \"ZSWIM8-AS1\", \"SIGLEC15\", \"HJURP\", \"HOXA10\", \"LINC02373\", \"CMTM1\", \"CYP2B7P\", \"CYP2B7P\", \"HOXB-AS2\", \"ZFHX4\", \"ANKRD20A11P\", \"ANKRD20A11P\", \"VPS9D1\", \"HERC2P2\", \"HERC2P2\", \"SHROOM2\", \"COL8A2\", \"PKMYT1\", \"LINC01127\", \"LINC02168\", \"TMEM151B\", \"OR4D1\", \"ARHGEF28\", \"GNA15\", \"SNORA38B\", \"CCDC3\", \"PRKD1\", \"USB1\", \"PELP1-DT\", \"C10orf55\", \"E2F5-DT\", \"CDC45\", \"CCDC13\", \"STRADB\", \"CES1\", \"CSNK2B\", \"RND1\", \"RNF10\", \"TLR9\", \"SMPDL3B\", \"MIR6075\", \"SMCO1\", \"GK-AS1\", \"HRH1\", \"RPS16P5\", \"GYG1\", \"ARPIN\", \"CC2D2A\", \"DNAJC22\", \"HTR6\", \"TEDDM1\", \"IKBKB-DT\", \"DISC1-IT1\", \"AQP10\", \"SCARNA5\", \"MTUS2\", \"CDH17\", \"GALNT15\", \"TEN1\", \"SLC52A3\", \"LYPLA2P2\", \"GNA14\", \"EPS8L1\", \"LINC01353\", \"CLTCL1\", \"C3\", \"MIR604\", \"DLGAP1-AS2\", \"HBA2\", \"NMRK2\", \"HCAR2\", \"FFAR2\", \"MIR4477B\", \"ALDH3A1\", \"LINC02324\", \"TMEM171\", \"ACP3\", \"RUNX1T1\", \"FHIP1A\", \"CHRD\", \"COL5A3\", \"C5orf46\", \"ULK4P3\", \"ULK4P3\", \"HDAC10\", \"DM1-AS\", \"IGKJ4\", \"SLC25A39\", \"LCN2\", \"LINC02471\", \"FAM151B\", \"LINC01147\", \"GLDN\", \"SLC38A2-AS1\", \"BTNL8\", \"TRAV25\", \"EPHB3\", \"FMN1\", \"IDH1-AS1\", \"MYH9-DT\", \"TRBV7-6\", \"LINC02705\", \"CTRC\", \"RARA-AS1\", \"CLSPN\", \"FAM170B\", \"ROCK1P1\", \"ROCK1P1\", \"IL1RN\", \"CAMK1\", \"SNORA11\", \"TLCD3B\", \"NAPRT\", \"BSG-AS1\", \"SLCO1A2\", \"TMEM63C\", \"LINC00316\", \"CRX\", \"SEMA3B\", \"IQGAP3\", \"ANAPC1P4\", \"CA4\", \"NR2E1\", \"ABCB6\", \"SERPINA10\", \"MYOG\", \"MAP3K6\", \"SMPDL3A\", \"XKR4\", \"GNAT1\", \"KLF1\", \"PIGR\", \"LINC02571\", \"LILRB4\", \"SLC22A4\", \"PRSS2\", \"LINC00519\", \"SYN1\", \"JAK3\", \"LIME1\", \"LINC01281\", \"MAP4K1-AS1\", \"ANKK1\", \"HRH2\", \"MAP3K20\", \"ANKRD18CP\", \"BUB1B\", \"LINC02265\", \"LINC02772\", \"COLCA1\", \"LINC01030\", \"PGS1\", \"LINC01996\", \"MIR570\", \"SEZ6\", \"ACOT4\", \"MIR6804\", \"MIR8086\", \"BEND7\", \"PINK1\", \"ORC1\", \"IGHD2-15\", \"VNN1\", \"PTPRN2-AS1\", \"S100A9\", \"MKNK1\", \"BCL2L14\", \"GJB6\", \"IGHV3-20\", \"SNORA15B-1\", \"LINC01620\", \"LINC01430\", \"ADIPOR1\", \"OGFOD2\", \"CYP7B1\", \"GPNMB\", \"IGLV3-25\", \"DNLZ\", \"IGFL4\", \"F5\", \"POU2F3\", \"TK1\", \"MAPRE3-AS1\", \"B3GAT1-DT\", \"SLC8A2\", \"FBXO6\", \"NFIX\", \"IGLJ5\", \"LTB4R2\", \"PDLIM3\", \"SOX7\", \"MYT1L\", \"RIMBP3C\", \"A3GALT2\", \"LOC102723996\", \"DENND3-AS1\", \"CENPM\", \"ROGDI\", \"CDT1\", \"IGHD3-10\", \"SCARF1\", \"OSGIN1\", \"APCDD1\", \"BMX\", \"NKD1\", \"LINC01347\", \"LINC01347\", \"NOTUM\", \"PRMT5-DT\", \"SMCO3\", \"CEACAM4\", \"LINC02596\", \"MBOAT2\", \"RSPH10B2\", \"GYPA\", \"KCNJ2\", \"SKA1\", \"TDRD9\", \"SCG5\", \"CLEC12A\", \"MST1L\", \"KRT1\", \"UBE2E4P\", \"RPRML\", \"LINC01303\", \"SERPINA1\", \"PDLIM4\", \"LMNB1\", \"LOC105370525\", \"SRD5A3-AS1\", \"RUNDC3A-AS1\", \"GJC1\", \"MBNL3\", \"MIR6813\", \"ACVR2B-AS1\", \"LINC00853\", \"ELMO1-AS1\", \"MIR6876\", \"TNFSF13\", \"C10orf67\", \"TRGC1\", \"XRRA1\", \"KCNB1\", \"GTF2IP12\", \"GTF2IP12\", \"EDRF1-DT\", \"CABP7\", \"PCP4L1\", \"CEBPA\", \"TTC4\", \"FDX2\", \"LINC01888\", \"LOC101929657\", \"IGLV8-61\", \"OPLAH\", \"EPO\", \"C1orf226\", \"RASSF3-DT\", \"CIT\", \"MIR6812\", \"LYPD8\", \"RHD\", \"CDC34\", \"RGS3\", \"HOMER3\", \"MESP1\", \"MUSTN1\", \"RNU6ATAC35P\", \"NBEAP1\", \"RRM2\", \"FGF11\", \"MAPK14\", \"CD163\", \"TRAJ34\", \"IGHD5-18\", \"IFI44\", \"CYCSP52\", \"GYPC\", \"PITRM1-AS1\", \"LTF\", \"USP7-AS1\", \"TEKT5\", \"SH2D5\", \"BAD\", \"PLAU\", \"LHFPL4\", \"RAMP3\", \"LINC02574\", \"OR7A5\", \"SLC35G2\", \"SLPI\", \"SLED1\", \"PDE1B\", \"SH3RF2\", \"PIF1\", \"TMPRSS4\", \"MIR4513\", \"CRACD\", \"PPARGC1A\", \"VWCE\", \"KSR2\", \"FHAD1\", \"SLAMF8\", \"SNORA71A\", \"DUT-AS1\", \"DUSP3\", \"TUBB3\", \"FLOT2\", \"C1QTNF4\", \"CLEC4C\", \"NFXL1\", \"RBM25-AS1\", \"TMEM252\", \"GSN\", \"CEACAM3\", \"BMP8A\", \"PEX5L\", \"KLHL30\", \"CHST8\", \"SARS2\", \"MPO\", \"LOXHD1\", \"PYGL\", \"EFCAB12\", \"TRAV38-2DV8\", \"GSDMC\", \"TTC16\", \"LINC00612\", \"DNAJB7\", \"OR2B11\", \"ARHGEF17\", \"TRIP13\", \"VKORC1\", \"MMP1\", \"LINC00216\", \"KIAA1522\", \"SAMD15\", \"TROAP\", \"CD68\", \"TDRD1\", \"CHMP4C\", \"KRTAP5-1\", \"MIR126\", \"MIR4999\", \"CYP2F1\", \"LRRC73\", \"IPO4\", \"KCNK5\", \"LINC01410\", \"CLRN3\", \"GUSBP2\", \"GUSBP2\", \"SNORD14E\", \"POU5F1P3\", \"CMYA5\", \"NCBP2L\", \"PDZK1P1\", \"BBOF1\", \"LYPD4\", \"HEXIM2-AS1\", \"C2-AS1\", \"ASB9P1\", \"FRMD8P1\", \"GRK5-IT1\", \"GNA15-DT\", \"CLEC4D\", \"RAI2\", \"BEST1\", \"STAC2\", \"AIM2\", \"ACY1\", \"LINC02021\", \"LINC01163\", \"LRRC3C\", \"MPP4\", \"LOC107984948\", \"F13A1\", \"GPER1\", \"COL4A2\", \"C1RL\", \"CSRNP1\", \"ABHD11\", \"LINC01267\", \"MIR193A\", \"TUBA1B\", \"JSRP1\", \"PAQR4\", \"RNF213-AS1\", \"RTN2\", \"PPT1\", \"BCL6\", \"NFE2\", \"MCTP2\", \"EIF3CL\", \"SLC16A14\", \"SPTBN5\", \"LINC00671\", \"PLB1\", \"GSPT1\", \"LINC02641\", \"LINC02641\", \"RANGRF\", \"PITPNM3\", \"ATP6AP1L\", \"CX3CR1\", \"TBKBP1\", \"MPP1\", \"SRGAP2D\", \"MLNR\", \"PIM3\", \"HM13-AS1\", \"PIK3R2\", \"LOC100128770\", \"LINC00570\", \"LINC02656\", \"ZSCAN32\", \"LOC105370489\", \"MROH3P\", \"SLC5A9\", \"TAFA5\", \"SLC2A3\", \"PROS1\", \"HDC\", \"NLRP6\", \"ASPRV1\", \"MYL4\", \"H3C6\", \"FUT8-AS1\", \"MIR7111\", \"CCR2\", \"IGLV3-19\", \"TOMM5\", \"MGC16275\", \"C11orf91\", \"UPP1\", \"ATE1-AS1\", \"KCNH7\", \"MROH6\", \"SPATA9\", \"BLVRB\", \"SLC24A3\", \"TFPI2\", \"CAPG\", \"PDZK1IP1\", \"IL4\", \"CDCA7\", \"PITX1-AS1\", \"GAS5-AS1\", \"SDC4\", \"OTUB2\", \"SEC14L5\", \"LINC02714\", \"DCAF8-DT\", \"GALR2\", \"GUK1\", \"TRBV5-7\", \"MIR6753\", \"TNFRSF14-AS1\", \"SPATA41\", \"AANAT\", \"ITGB4\", \"SHOC1\", \"PGLYRP1\", \"FBXO24\", \"GRB10\", \"GNA11\", \"ABCA13\", \"HCG14\", \"SOX6\", \"CNTN2\", \"CARM1\", \"CYTH4\", \"PCARE\", \"LINC01002\", \"UBBP4\", \"UBBP4\", \"ZNF385D-AS1\", \"BLOC1S1\", \"MEIS2\", \"CYP2T1P\", \"GADD45G\", \"STX18-IT1\", \"TRAJ27\", \"SMPD5\", \"E2F2\", \"CPT1B\", \"ADAP2\", \"LAG3\", \"ITLN2\", \"AQP9\", \"CRHBP\", \"APOBEC3A\", \"CYP4F12\", \"PLOD2\", \"APOL4\", \"TRIM25\", \"GATA2-AS1\", \"FZD9\", \"NBL1\", \"MICOS10-NBL1\", \"MICOS10-NBL1\", \"TRBJ2-7\", \"RGL1\", \"KIF6\", \"ANKRD13B\", \"ADAP1\", \"TRDV3\", \"HS3ST5\", \"LILRB1\", \"IGFLR1\", \"MIR4451\", \"TRAJ56\", \"LINC00852\", \"DOCK8-AS1\", \"RAD51\", \"MELK\", \"JAKMIP1\", \"ENPP7\", \"CD59\", \"SDC1\", \"LOC101928525\", \"ZC3HAV1L\", \"COX8A\", \"MIR6779\", \"SEC14L4\", \"GRIN2D\", \"LOC122526782\", \"TRBV6-1\", \"GBP5\", \"ATP5MF-PTCD1\", \"HUNK\", \"MKRN9P\", \"WDR83OS\", \"PDCD1\", \"FSD2\", \"PARP9\", \"IGHD1-26\", \"RPS26\", \"LOC105372435\", \"SAMD9L\", \"ARHGAP22\", \"SECTM1\", \"ATL1\", \"SNORD42B\", \"WFDC2\", \"VPS9D1-AS1\", \"EXO1\", \"HNRNPCL2\", \"PLAAT5\", \"MCCD1\", \"KAZALD1\", \"MT1F\", \"AGTRAP\", \"ARL17A\", \"PRUNE2\", \"MIR6835\", \"RAB11FIP5\", \"ZFPL1\", \"PRSS33\", \"EDRF1-AS1\", \"SRPK1\", \"LINC02604\", \"RPS6KL1\", \"IRF7\", \"MIR744\", \"PAK6-AS1\", \"H1-4\", \"IRAG1-AS1\", \"NPIPB3\", \"ALPK1\", \"ERG\", \"ACP4\", \"TSPO\", \"FBXO38-DT\", \"AK7\", \"RAB24\", \"UPK1B\", \"SPTA1\", \"HMGA2-AS1\", \"SHE\", \"PTOV1-AS2\", \"MIR657\", \"GAPDH\", \"LMOD1\", \"IGHG4\", \"STIMATE-MUSTN1\", \"UMODL1\", \"LINC01424\", \"LHFPL6\", \"IGLVI-70\", \"PLA2G7\", \"LOC102724323\", \"MYRFL\", \"TBC1D3B\", \"MYCL-AS1\", \"CR1\", \"FES\", \"POC1A\", \"LOC105372273\", \"CMKLR2\", \"PAPLN\", \"TMEM262\", \"KIFC1\", \"LMNTD2-AS1\", \"VTI1B\", \"GCAWKR\", \"SNRPN\", \"SOCS3-DT\", \"LRRC71\", \"PEX6\", \"TRAJ14\", \"ZYX\", \"PLP2\", \"ASAP1-IT2\", \"TRGC2\", \"FAAHP1\", \"NPPA\", \"LIMK2\", \"ANXA2P1\", \"SLC35D3\", \"CD300E\", \"GPR82\", \"PPFIA4\", \"HRH4\", \"IRF9\", \"CD302\", \"BASP1\", \"TRBJ1-4\", \"NAP1L6P\", \"ADGRE1\", \"IGHV3-13\", \"ACOXL-AS1\", \"CRHR2\", \"MKNK1-AS1\", \"DNASE1L1\", \"SERPIND1\", \"CXCR6\", \"TUBA4B\", \"PLA2G4B\", \"LOC101927543\", \"HLA-DQA2\", \"ASGR1\", \"IGKV1D-39\", \"HSD11B2\", \"DSE\", \"RAB42\", \"SEMA5B\", \"PLXNA2\", \"NHEJ1\", \"ASCC2\", \"SCAANT1\", \"ADGRG3\", \"MAST4-AS1\", \"FUT7\", \"SLC18A1\", \"MIR328\", \"C3orf22\", \"GCHFR\", \"GK\", \"LINC00643\", \"C7orf25\", \"TWSG1-DT\", \"EIF2AK2\", \"CD14\", \"VEGFC\", \"MIR548A1HG\", \"MOBP\", \"RAPGEFL1\", \"CFAP74\", \"BCAR3-AS1\", \"KCNS2\", \"MLXIPL\", \"SMIM17\", \"ST3GAL2\", \"OLIG2\", \"CCNA2\", \"ST7-AS2\", \"SENP3-EIF4A1\", \"CTSL\", \"MMP2\", \"PLK1\", \"FCGR2A\", \"CABP5\", \"BCL3\", \"C19orf38\", \"OR2A20P\", \"CFAP58-DT\", \"REM2\", \"CNTD1\", \"ZNF775-AS1\", \"ZMAT5\", \"POLQ\", \"ZSCAN5B\", \"TRBV3-1\", \"IFI35\", \"TMEM86B\", \"FCER1G\", \"CD101-AS1\", \"GLYATL1\", \"TSPAN5\", \"CCR5\", \"MIR3150BHG\", \"CCDC71L\", \"CATIP\", \"CDC6\", \"ELL3\", \"MIR302CHG\", \"IL1R1\", \"LOC105375924\", \"CLU\", \"PGBD5\", \"NALF2\", \"ACOX2\", \"MIR106B\", \"BIRC7\", \"CCN2\", \"TRAJ37\", \"HCAR1\", \"RPP21\", \"PRR11\", \"SLCO4A1\", \"KRTAP5-AS1\", \"CCL23\", \"ENO1-AS1\", \"TAC3\", \"BTBD17\", \"NUGGC\", \"PAPPA2\", \"TMEM144\", \"FMNL1-AS1\", \"ART3\", \"AK1\", \"PKDREJ\", \"VSTM2L\", \"PLD2\", \"ADAM9\", \"LINC00265\", \"S100A11\", \"SLC1A5\", \"TMEM51\", \"XPNPEP2\", \"YPEL4\", \"SNORA70G\", \"GLMP\", \"LOC112267871\", \"HSPA6\", \"AHRR\", \"FLJ46284\", \"GAS6\", \"TNS4\", \"ADCY4\", \"GALK1\", \"TICAM2\", \"TRBJ1-2\", \"TSSC2\", \"TSSC2\", \"SH3PXD2B\", \"WDFY3\", \"POTEG\", \"SORT1\", \"ALOX5\", \"MIR548AY\", \"HGFAC\", \"LINC00173\", \"RAB44\", \"TMTC1\", \"DOK3\", \"TRPM2\", \"EFCAB13-DT\", \"CEACAM1\", \"LINC01160\", \"ODAD3\", \"CD36\", \"SLC17A1\", \"RNF212B\", \"PIM1\", \"CTSD\", \"GSN-AS1\", \"FAM174B\", \"ITGB3\", \"TOM1\", \"AGAP5\", \"DPM2\", \"IRAK3\", \"RAB13\", \"PRRG2\", \"CEBPE\", \"SBNO2\", \"PRRG1\", \"CETP\", \"LOC102723313\", \"GCAT\", \"RTP5\", \"L3MBTL2-AS1\", \"ARL6IP4\", \"GADD45B\", \"TMEM269\", \"CAMTA2-AS1\", \"AGMO\", \"TMEM235\", \"HSD11B1-AS1\", \"LRRC37A2\", \"LOC105369595\", \"TOP2A\", \"LINC02076\", \"LINC02908\", \"SEMA4A\", \"TAS2R3\", \"LOC101928932\", \"METTL9\", \"TMEM88\", \"UCKL1-AS1\", \"PIK3R6\", \"ABHD16A\", \"RELB\", \"AMHR2\", \"SNORA5A\", \"YWHAH-AS1\", \"NRN1L\", \"BMP2K\", \"PTMAP11\", \"PATL2\", \"TRAV27\", \"GATA6-AS1\", \"NOXRED1\", \"CCDC113\", \"ANO7L1\", \"EHBP1L1\", \"PCDHGC5\", \"GALM\", \"TMEM205\", \"CEP295NL\", \"SLC29A1\", \"EGR2\", \"ACOT1\", \"ZBTB47\", \"MAMDC4\", \"C16orf46\", \"LILRB2\", \"SLC35F4\", \"LOC101927692\", \"SIRPA\", \"ARHGEF17-AS1\", \"C9orf131\", \"ADGRE2\", \"LSMEM2\", \"SERINC2\", \"KCNJ2-AS1\", \"BHLHE40-AS1\", \"MIR4518\", \"NCKAP5L\", \"BSG\", \"KLKB1\", \"TECPR2\", \"LINC02284\", \"CXCL1\", \"TRAJ48\", \"NAPA\", \"SNX10-AS1\", \"GLT1D1\", \"TRBV5-4\", \"TMEM273\", \"PHF21A\", \"SP7\", \"MIR4312\", \"SAPCD1\", \"SDC3\", \"GASK1B\", \"GUCY2GP\", \"SPR\", \"ARL11\", \"ABCG2\", \"LOC100289473\", \"DRICH1\", \"WDR64\", \"VWA8-AS1\", \"ADM2\", \"CRABP2\", \"LINC01150\", \"TANGO2\", \"CPNE9\", \"C4BPB\", \"CHST1\", \"LINC00240\", \"GLIPR1L2\", \"LINC01415\", \"ASGR2\", \"DGCR5\", \"TNFSF12\", \"CRACR2B\", \"CLMN\", \"IQCN\", \"FAM24B\", \"PYCARD\", \"MMP9\", \"PPP4R1-AS1\", \"GADD45A\", \"GHRLOS\", \"MUCL3\", \"TRBV12-2\", \"MIR4294\", \"RASGRP4\", \"GPR142\", \"FAM104A\", \"UFD1-AS1\", \"PPP2R5B\", \"PGLYRP2\", \"JAML\", \"IDI2-AS1\", \"CALML4\", \"ARHGAP8\", \"CD81-AS1\", \"PHC2-AS1\", \"LIMK1\", \"TACC2\", \"DDHD1-DT\", \"SPATA3-AS1\", \"HAP1\", \"SYP-AS1\", \"HCK\", \"CTSW\", \"EMG1\", \"RNF123\", \"ANKHD1-EIF4EBP3\", \"CASQ1\", \"MIR4698\", \"KPNB1-DT\", \"B4GALT1-AS1\", \"NIBAN1\", \"SVBP\", \"SMPD3\", \"RHOQ-AS1\", \"SNORA16B\", \"RNF213\", \"MANEAL\", \"POU5F2\", \"PNP\", \"U2AF1L4\", \"PTGIS\", \"FDPS\", \"DDX60L\", \"LINC02541\", \"SLCO2B1\", \"PLEK\", \"IGKV1-12\", \"ASB2\", \"CYP1A1\", \"CDCP1\", \"HMGA2\", \"CENPF\", \"TP73\", \"CCDC163\", \"SNORD69\", \"CYP17A1\", \"LINC02601\", \"ODAD4\", \"TOMM40L\", \"LY6G6E\", \"MIR4258\", \"NBEAL2\", \"CMTM5\", \"MIR645\", \"P2RY6\", \"IFI16\", \"RIPOR1\", \"EGFL7\", \"CD63\", \"HPD\", \"MIRLET7A1HG\", \"RDH5\", \"SNORD89\", \"PCSK1N\", \"LINC02212\", \"PGD\", \"CRYBA1\", \"SULT1A1\", \"GZMH\", \"IGKJ5\", \"STPG2\", \"SERF2\", \"LINC02878\", \"CASTOR1\", \"OLIG1\", \"PLIN3\", \"IGF2BP3\", \"MIR5194\", \"IDO2\", \"KDM7A-DT\", \"LPAR4\", \"FBXO36\", \"DGUOK-AS1\", \"TRAV40\", \"ACBD3-AS1\", \"NT5M\", \"ETFB\", \"MIA\", \"LOC101927531\", \"PLEKHD1\", \"STIM1-AS1\", \"AP1M2\", \"CHRNB2\", \"DPCD\", \"ARG2\", \"MFSD13A\", \"CXCL2\", \"ARPC1B\", \"DLX4\", \"PREX2\", \"SNX7\", \"PHETA2\", \"APMAP\", \"ABHD12B\", \"MIR571\", \"CFAP92\", \"ZBP1\", \"ORMDL2\", \"LTB4R\", \"PAX8\", \"MIF\", \"MIR644A\", \"FAM81B\", \"MXD3\", \"TMPRSS9\", \"KCND1\", \"LINC00596\", \"MICB\", \"TYMP\", \"IQCK\", \"FAM217A\", \"BSCL2\", \"VCAN\", \"C11orf16\", \"SLC9A7P1\", \"RNF11\", \"DGAT2\", \"LINC01107\", \"DTNB-AS1\", \"MIR4489\", \"CCDC92B\", \"B3GNT8\", \"LDLRAD3\", \"PRSS35\", \"STRIP2\", \"NR1I3\", \"TBC1D3L\", \"LPP-AS2\", \"GGT8P\", \"RALBP1\", \"PLA2G15\", \"SLC25A35\", \"COL17A1\", \"FSCN3\", \"IL10RB\", \"PCAT18\", \"PLVAP\", \"KCNJ11\", \"OPTN\", \"DMC1\", \"NTNG2\", \"KLHDC7B-DT\", \"ADGRV1\", \"GPR35\", \"STAC3\", \"ABCC2\", \"DNAJC9-AS1\", \"REC8\", \"MELTF\", \"TNP2\", \"PTMS\", \"UBTD1\", \"ETHE1\", \"CD33\", \"LOC101927911\", \"AGAP2-AS1\", \"COL2A1\", \"STOM\", \"ITIH1\", \"PHOSPHO2\", \"PXMP2\", \"TSPAN9\", \"LINC02932\", \"CCNB2\", \"DPYD-AS2\", \"IGKV2D-30\", \"ARAP1-AS2\", \"SLCO4A1-AS1\", \"PRRT2\", \"CISD2\", \"EPGN\", \"ANO2\", \"LIPJ\", \"RIMBP3B\", \"UNC5C-AS1\", \"MEF2A\", \"DNAAF3\", \"TNIP1\", \"YJEFN3\", \"TMPRSS12\", \"ADAMTSL4\", \"SPATS2L\", \"ATF5\", \"SPDYE4\", \"MAP2K3\", \"CCL19\", \"S1PR3\", \"SIGLEC9\", \"SNX9-AS1\", \"S100A3\", \"LOC101927179\", \"LPCAT3\", \"MFF-DT\", \"MIR5581\", \"MSC-AS1\", \"SNORD11B\", \"PTPRR\", \"CCDC146\", \"PTGDR2\", \"AATK\", \"GPM6A-DT\", \"CASP4\", \"LRPAP1\", \"BOLA2-SMG1P6\", \"SH3BP1\", \"SYT9\", \"NEDD4L\", \"CLPB\", \"CAMKK2\", \"COL6A4P2\", \"CD300C\", \"LOC102723335\", \"NQO2\", \"APBB2\", \"MAP1B\", \"SHROOM4\", \"MGST1\", \"BMS1P20\", \"RHBDF2\", \"PSORS1C3\", \"INSM2\", \"IFI30\", \"CTSB\", \"LRRC46\", \"ACP2\", \"BACE1-AS\", \"EHD2\", \"CELA3A\", \"HEBP1\", \"LEMD1\", \"SYNM-AS1\", \"TCF7L1\", \"TYMSOS\", \"SPATA18\", \"GRM7\", \"SNORA69\", \"CARD14\", \"SPARC\", \"AMPD1\", \"MYD88\", \"MYLK4\", \"NDUFB2-AS1\", \"CDH15\", \"IHO1\", \"KCNK9\", \"CFAP61-AS1\", \"LINC02055\", \"KRT19\", \"FCN3\", \"LOC729867\", \"TRIM55\", \"TNFSF18\", \"ANGPTL3\", \"LBX2-AS1\", \"TBC1D3I\", \"LINC00571\", \"MIR181D\", \"PNPLA1\", \"YIPF1\", \"ITGA1\", \"LOC105372672\", \"CD200R1L-AS1\", \"TLR1\", \"LORICRIN\", \"KIF4A\", \"MRAS\", \"H2BC12L\", \"UBE2CP5\", \"LINC01649\", \"ANKRD20A2P\", \"ANKRD20A2P\", \"GNAO1\", \"FAM124B\", \"MARCHF2\", \"TRBV11-2\", \"CD101\", \"PRSS16\", \"TMC5\", \"XKR5\", \"NECAB2\", \"MIR6131\", \"LOC102723475\", \"SNORA40B\", \"IGKV3D-15\", \"LY6G5B\", \"LOC101928008\", \"MGAT2\", \"ANKRD62\", \"HIF1A-AS1\", \"ITGA9\", \"KIAA0513\", \"FRMD4A\", \"QPRT\", \"CPVL-AS1\", \"LOXL3\", \"LY6G5C\", \"EMX2OS\", \"KCNJ8\", \"A2M-AS1\", \"IGLJ4\", \"PDGFRL\", \"LINC00336\", \"OXCT1-AS1\", \"MIR7845\", \"NPAS2-AS1\", \"TJP2\", \"MIR2355\", \"DAO\", \"TPTE2\", \"KCNE2\", \"GUSBP19\", \"LINC01923\", \"LOC338694\", \"KRT23\", \"DAP-DT\", \"TRIM40\", \"CBLIF\", \"DCPS\", \"IL4R\", \"DIPK1C\", \"GALR3\", \"FAM151B-DT\", \"CELF6\", \"MCOLN3\", \"SDSL\", \"ANK3\", \"KIR2DL3\", \"LINC00900\", \"STEAP3\", \"VWA7\", \"COL9A2\", \"JMJD6\", \"ESPN\", \"TTYH1\", \"LTBR\", \"UGDH-AS1\", \"B3GAT2\", \"MYH15\", \"PLAUR\", \"ALDH3B1\", \"TP53I11\", \"ITSN1\", \"LOC105374328\", \"CSNK2A3\", \"CDCA2\", \"ZCCHC24\", \"FSTL3\", \"C1QL1\", \"LINC02474\", \"OR1E1\", \"TRIM66\", \"SPATA45\", \"SULT1B1\", \"CHAF1A\", \"LGALS3\", \"IL4I1\", \"LOC101927143\", \"PAX8-AS1\", \"CHRNE\", \"SNHG21\", \"IGFBP6\", \"RNF208\", \"LDLR\", \"ASS1\", \"MCOLN1\", \"ITGAM\", \"MEP1A\", \"FAM209B\", \"KRTAP5-9\", \"GSTCD-AS1\", \"FOLR2\", \"LINC00237\", \"SERPINB1\", \"MRPL38\", \"AAMDC\", \"MIR4420\", \"RAD54L\", \"IFITM10\", \"LOC285626\", \"LOC105377683\", \"AVPR1A\", \"CTSA\", \"KRT7-AS\", \"FLOT1\", \"PGAP4\", \"MICAL2\", \"ATP2C2\", \"ITGB2\", \"DPY19L2P1\", \"DPY19L2P1\", \"SLC16A6\", \"HAAO\", \"TMEM80\", \"MIR181B1\", \"BEX1\", \"RTN1\", \"DDN\", \"MERTK\", \"AK4\", \"SYS1-DBNDD2\", \"SLC12A9\", \"SORBS1\", \"SCN4B\", \"TFR2\", \"RAB25\", \"RIPK3\", \"JPT1\", \"FGFR3\", \"DISC1\", \"RTP4\", \"GPR25\", \"CKLF\", \"COX6A1\", \"MIEN1\", \"AIFM3\", \"TGFA\", \"IGKV1-5\", \"FRY-AS1\", \"CPS1\", \"OAS2\", \"CALD1\", \"QPCT\", \"CEBPA-DT\", \"SLC39A11\", \"FHIP1B\", \"ETS2\", \"R3HDM4\", \"NCAPH\", \"SEPTIN7P14\", \"SHISA7\", \"GRIFIN\", \"TEX54\", \"NIBAN2\", \"UBE2J1\", \"PTPN21\", \"SIRPB2\", \"GABRB1\", \"NAGK\", \"SGIP1\", \"FAM83F\", \"CCDC194\", \"CAV2\", \"GRAMD1B\", \"TRBV7-5\", \"TLCD2\", \"HRG-AS1\", \"RNASE2CP\", \"MIR331\", \"POLL\", \"SHKBP1\", \"MS4A3\", \"DDAH2\", \"CALHM3\", \"RAB5C\", \"ATP5MF\", \"RANBP10\", \"SNX3\", \"OR2L13\", \"CBY3\", \"ANXA5\", \"RNF24\", \"TPGS2\", \"FOXO4\", \"DCDC2B\", \"LINC01976\", \"SKP1P2\", \"THSD7A\", \"ITGA6-AS1\", \"FBP1\", \"RHOXF1\", \"LINC01402\", \"PLP1\", \"LINC01637\", \"SLC16A3\", \"OSCAR\", \"LGALS9\", \"CNKSR3\", \"H3C1\", \"CARD6\", \"RPS2P32\", \"GTF2H2B\", \"MIR6859-1\", \"ERICH5\", \"YBX3P1\", \"BTBD19\", \"NSUN7\", \"CA6\", \"LINC02175\", \"SRA1\", \"ADPRH\", \"BAHCC1\", \"NEU4\", \"PSMD9\", \"CCNJL\", \"TIFA\", \"FAM157A\", \"FAM157A\", \"HTR1F\", \"KCNK13\", \"HFE\", \"CLDN11\", \"ZRANB2-AS1\", \"NAPA-AS1\", \"ERICH6\", \"GPR15\", \"FPR1\", \"MGLL\", \"TMEM185B\", \"SLC35E2A\", \"DNAI2\", \"ESPL1\", \"DRAM1\", \"STK3\", \"TRBV27\", \"MAP2K6\", \"JUNB\", \"H3C13\", \"ARHGEF12\", \"ACAD11\", \"CDC25A\", \"HDGF\", \"CYBB\", \"METRNL\", \"AP5B1\", \"TRBV7-3\", \"HIF1A-AS3\", \"AP3S2\", \"PSMA6\", \"NABP1\", \"PEAK3\", \"TRIM22\", \"SIGLEC8\", \"FAM117A\", \"SLC25A2\", \"PPIE\", \"CDC26\", \"KIAA1614-AS1\", \"TIMM10\", \"RAB1B\", \"STUM\", \"HNRNPCL1\", \"SHCBP1\", \"STRADA\", \"PRR13\", \"GSDMA\", \"ANXA2\", \"PYGM\", \"LPAR2\", \"PLXNB3\", \"PRC1\", \"GALNT4\", \"LINC00163\", \"MIR23C\", \"RUNX2-AS1\", \"MIR4650-1\", \"LINC02888\", \"FAM170A\", \"GAL\", \"IRX5\", \"LINC02235\", \"LINC00605\", \"IGHVII-30-1\", \"OR1F1\", \"GRTP1-AS1\", \"DDX11L5\", \"TAS2R13\", \"TPPP2\", \"LINC01362\", \"IGHVIII-2-1\", \"MAB21L1\", \"LINC01600\", \"LRP2\", \"ATP10A-DT\", \"THSD7B\", \"GGTLC1\", \"UGT2B7\", \"CCDC8\", \"PRSS55\", \"SEC22B2P\", \"UBE2E3-DT\", \"LINC02171\", \"NEUROD4\", \"PLG\", \"GSC\", \"LINC01915\", \"B3GALT1-AS1\", \"MIR6746\", \"DEFA1\", \"IGHV1OR15-3\", \"OR2A4\", \"OR2H1\", \"ADGRF2\", \"LINC01543\", \"SULT2A1\", \"CCDC166\", \"MIR1270\", \"GYG2\", \"IGHVIV-44-1\", \"LINC01054\", \"MIR4424\", \"SRARP\", \"HIGD2B\", \"ADGRF1\", \"HOXB-AS3\", \"COL25A1-DT\", \"TTC14-DT\", \"DMRTA1\", \"VTRNA1-3\", \"KRT222\", \"LINC02957\", \"SH3GL3\", \"OR10P1\", \"NAT16\", \"NECTIN1-AS1\", \"C1GALT1C1L\", \"GFOD1-AS1\", \"UBD\", \"PATE4\", \"RNU105B\", \"LSAMP\", \"MT1H\", \"ZFP42\", \"MIR7856\", \"ADAMTS20\", \"MIR548AN\", \"DIP2C-AS1\", \"BCAR4\", \"LINC01419\", \"SMIM11\", \"OR2A42\", \"KCTD4\", \"PCDHB9\", \"ANKRD20A1\", \"SYNJ2-IT1\", \"LINC02652\", \"LMO1\", \"SPATA31A1\", \"NKX2-1\", \"RTBDN\", \"ARMS2\", \"SDK1-AS1\", \"OR52L1\", \"KDR\", \"CYP3A7\", \"MIR4516\", \"MIR4502\", \"ASPA\", \"CYP2C18\", \"LINC01219\", \"HES2\", \"LINC-ROR\", \"DNAH8-AS1\", \"LINC01515\", \"SSUH2\", \"CTAGE10P\", \"AGTR1\", \"GXYLT2\", \"C3orf84\", \"SLC35F3-AS1\", \"GAS6-DT\", \"SEZ6L-AS1\", \"SATL1\", \"SMYD1\", \"TRAJ6\", \"MIR3127\", \"C2CD4C\", \"LOC403312\", \"MIR5787\", \"LINC00293\", \"TBR1\", \"PIWIL3\", \"COL3A1\", \"CNTFR\", \"FAM242A\", \"TPTE2P6\", \"SNORD105B\", \"GFY\", \"IL22RA1\", \"FAM110D\", \"SERPINA12\", \"MIR6780A\", \"SPDYE20P\", \"MIR200CHG\", \"LRIG3\", \"FRMD5\", \"UQCR11\", \"LIN28A\", \"LAMP3\", \"PRKCD\", \"SLC10A1\", \"CENPO\", \"BATF\", \"AFDN-DT\", \"HES1\", \"ZNF503-AS2\", \"C15orf48\", \"EHD1\", \"TWF2\", \"OLFML2B\", \"LOC157273\", \"LOC101929128\", \"CTSH\", \"TMEM234\", \"IGLV8OR8-1\", \"LINC00392\", \"CACNA2D3-AS1\", \"STARD13-AS\", \"PRICKLE2-AS3\", \"AGBL4-IT1\", \"HOXC-AS2\", \"HERC2P11\", \"LINC01981\", \"LINC01533\", \"LINC01563\", \"LINC01804\", \"LOC101927023\", \"LINC00682\", \"LINC00454\", \"MIR4774\", \"LINC00379\", \"RBMS3-AS3\", \"NHS-AS1\", \"MIR5692A1\", \"MIR5698\", \"MIR5692B\", \"MIR5579\", \"LINC00706\", \"MIR4742\", \"MIR4725\", \"MIR548AG2\", \"MIR548AC\", \"MIR4533\", \"LINC01103\", \"ERICH3-AS1\", \"LINC01695\", \"LINC01782\", \"LOC101928196\", \"LINC00836\", \"LINC02702\", \"LINC02069\", \"MIR4300HG\", \"LOC101928850\", \"LINC01448\", \"LINC01449\", \"LINC02065\", \"LOC101928495\", \"LINC02023\", \"PTCSC2\", \"LOC101928266\", \"LOC101928201\", \"MRGPRF-AS1\", \"LINC01411\", \"SRGAP3-AS4\", \"LINC01213\", \"MIR4637\", \"LOC101927879\", \"MARCHF10-DT\", \"LINC02143\", \"HMMR-AS1\", \"BZW1-AS1\", \"LOC101927769\", \"LINC01476\", \"LINC01524\", \"ACSL6-AS1\", \"DYNLL2-DT\", \"LINC02388\", \"LINC01507\", \"MIR4491\", \"PROX1-AS1\", \"MIR4663\", \"SNORD116-1\", \"VPS13A-AS1\", \"UPK3BL1\", \"UBE2DNL\", \"SBK3\", \"LOC100130587\", \"EPB41L1-AS1\", \"TEX13C\", \"SCP2D1-AS1\", \"ARHGAP44-AS1\", \"VTRNA2-1\", \"VTRNA2-1\", \"HOTAIR\", \"GS1-600G8.3\", \"TLX1NB\", \"SNORD116-8\", \"MIR770\", \"MIR3135B\", \"KIAA2012-AS1\", \"DEFA1B\", \"KRTAP19-8\", \"LINC01433\", \"LINC00165\", \"MIR595\", \"MIR591\", \"MIR574\", \"MIR557\", \"SNORA59B\", \"SNORA79\", \"MIR545\", \"FAM138B\", \"GOLGA6D\", \"EML2-AS1\", \"DUX4\", \"TMEM239\", \"MIR1200\", \"MIR4667\", \"MIR4498\", \"MIR4796\", \"MIR4526\", \"MIR4448\", \"PRORY\", \"RNASEK-C17orf49\", \"LINC02733\", \"ADAMTS9-AS2\", \"SACS-AS1\", \"LOC100506405\", \"LINC01426\", \"LRRC72\", \"LINC01370\", \"LINC01539\", \"MIR3619\", \"MIR4269\", \"MIR4256\", \"MIR3146\", \"MIR3133\", \"MIR3162\", \"MIR2114\", \"MIR1237\", \"MIR1285-2\", \"MIR1238\", \"MIR320C2\", \"MIR1288\", \"MIR1286\", \"CASC18\", \"LINC02292\", \"KCNK15\", \"MMADHC-DT\", \"MIR122HG\", \"NPAS3\", \"OVOL2\", \"PCDHA3\", \"IGKV1D-22\", \"TRAV31\", \"VAX1\", \"UGT2B4\", \"SH3GL2\", \"NPPB\", \"KRT6A\", \"IFNA17\", \"CGA\", \"KLK3\", \"LINC01297\", \"LINC02799\", \"LINC00604\", \"LINC02675\", \"LINC02577\", \"CSNKA2IP\", \"LIF-AS1\", \"SMIM28\", \"SNORD70B\", \"SNORA74D\", \"AQP12B\", \"SNORA63D\", \"LINC02196\", \"LINC02600\", \"LINC02034\", \"LINC02306\", \"LOC107984399\", \"SOX17\", \"SPINK7\", \"MAGEE2\", \"LINC00934\", \"WDR7-OT1\", \"LINC02050\", \"LINC02360\", \"LINC02129\", \"MIR6882\", \"MIR6747\", \"LOC101929551\", \"AQP5-AS1\", \"MIR5188\", \"PANTR1\", \"LINC01549\", \"LINC00029\", \"LINC02346\", \"SNORD116-24\", \"LINC01873\", \"LINC00687\", \"SNORD116-19\", \"CFC1B\", \"MIR486-1\", \"KRTAP5-2\", \"MIR212\", \"NANOGP8\", \"POTEA\", \"LINC01777\", \"OTOGL\", \"PRSS54\", \"RMST\", \"CFAP206\", \"LINC02135\", \"LINC01290\", \"ANKRD65-AS1\", \"LOC101929420\", \"LINC02214\", \"LINC01399\", \"LINC01195\", \"LINC01044\", \"LINC01050\", \"CASC23\", \"PAUPAR\", \"LINC01276\", \"LOC102725019\", \"LINC02128\", \"LYPLAL1-AS1\", \"LINC02497\", \"COQ7-DT\", \"LINC01159\", \"LINC01152\", \"MIR6868\", \"LINC02519\", \"MIR6798\", \"MIR6783\", \"MIR6893\", \"MIR6874\", \"MIR6853\", \"MIR6757\", \"MIR6090\", \"MIR8075\", \"MIR6839\", \"MIR6767\", \"MIR6765\", \"LINC02109\", \"LINC02613\", \"LINC02443\", \"LINC02442\", \"LNCOG\", \"LINC02399\", \"LINC02463\", \"LINC02514\", \"LINC02374\", \"ANK2-AS1\", \"LOC105377043\", \"KAZN-AS1\", \"LINC02710\", \"SELENOOLP\", \"LINC01022\", \"LOC105374780\", \"LINC02146\", \"EML6-AS1\", \"LINC01972\", \"MECOM-AS1\", \"DIRC3-AS1\", \"CALCRL-AS1\", \"PNMA6F\", \"LOC105373100\", \"LINC01666\", \"LINC01872\", \"UQCRFS1-DT\", \"LINC01926\", \"SMCR2\", \"FBN1-DT\", \"LOC105370791\", \"SCG5-AS1\", \"LOC105370622\", \"LINC00370\", \"LINC00373\", \"LINC00345\", \"GOLGA6C\", \"PSG5\", \"MIR924HG\", \"PDE10A\", \"SALL3\", \"RNU5D-1\", \"OR1L3\", \"OR5K1\", \"GSTT4\", \"C22orf31\", \"FLRT3\", \"TMEFF2\", \"CASP14\", \"OR52A1\", \"KLK8\", \"TREH\", \"IL1RAPL1\", \"UGT2A1\", \"PRG3\", \"TDGF1\", \"ABCC9\", \"HS3ST2\", \"HS3ST4\", \"CLCA2\", \"SNCAIP\", \"SMAD5-AS1\", \"ONECUT2\", \"SLC6A5\", \"PRY\", \"FBP2\", \"OR6A2\", \"NME5\", \"H4C6\", \"ST8SIA2\", \"RBMXL2\", \"TOX3\", \"IGHVII-49-1\", \"IGHVII-40-1\", \"USP29\", \"PCDH10\", \"RHOJ\", \"ADAMTS9\", \"VTRNA1-1\", \"PCDHA4\", \"PCDHA7\", \"PCDHB10\", \"ELMOD1\", \"FEZF2\", \"CT55\", \"BTG4\", \"LY6K\", \"NKX1-1\", \"RBFOX1\", \"CNTN5\", \"RIPPLY3\", \"CABP2\", \"RASL12\", \"CDKN2A-DT\", \"RDH8\", \"OBP2A\", \"REM1\", \"IGKV2-23\", \"IGKV3-25\", \"IGLV3-30\", \"IGLVV-58\", \"TRDD2\", \"IGHV1-12\", \"WT1\", \"TCP11\", \"PBOV1\", \"EVX1\", \"HOXB1\", \"HMX1\", \"GUCA2B\", \"GPR39\", \"GPR6\", \"GP2\", \"GLRB\", \"GHRHR\", \"GABRA3\", \"GAST\", \"FOXS1\", \"VEGFD\", \"FGF6\", \"FGF5\", \"CTSLP2\", \"SOX9\", \"CTAG1B\", \"HAPLN1\", \"CRP\", \"FRG2EP\", \"C9\", \"ASCL1\", \"AQP5\", \"AMY1A\", \"ALPI\", \"AGXT\", \"ADRB3\", \"ADCYAP1R1\", \"ACR\", \"AADAC\", \"HOXC6\", \"HOXC11\", \"IAPP\", \"IFNA10\", \"SLC6A1\", \"SLC5A1\", \"SAA1\", \"RFPL1\", \"REG1B\", \"PSG7\", \"PRPH\", \"PRM2\", \"PRM1\", \"PRRX1\", \"SERPINA4\", \"PCSK2\", \"PCK1\", \"PAX1\", \"OTX2\", \"MYL3\", \"MYH1\", \"MT1B\", \"MSX2\", \"MC5R\", \"MAT1A\", \"MAGEA4\", \"LMX1A\", \"KRT83\", \"KRT17\", \"KCNC2\", \"INHA\", \"IL13RA2\", \"IL9\", \"HMHB1\", \"CDH8\", \"NEUROG2\", \"PRR23C\", \"LINC02167\", \"MUC21\", \"OR2A5\", \"OR13J1\", \"OR2A25\", \"PRAMEF18\", \"CES1P2\", \"GOLGA8EP\", \"OR51I1\", \"OR51Q1\", \"OR51M1\", \"OR51B6\", \"OR52A5\", \"SMIM32\", \"SP5\", \"OR51V1\", \"LINC01551\", \"KRTAP10-8\", \"AADACL4\", \"OVCH2\", \"MALRD1\", \"LINC02370\", \"LINC01299\", \"DNAJC5G\", \"LINC01114\", \"TPRX1\", \"LOC284344\", \"TTLL6\", \"LINC00922\", \"LINC00928\", \"LOC400541\", \"LINC02138\", \"LINC01538\", \"MIR137HG\", \"GFRA4\", \"RNF225\", \"FAM90A27P\", \"LINC01704\", \"RPS7P5\", \"LHFPL3-AS1\", \"PIRT\", \"GLYCAM1\", \"DANT2\", \"LINC02297\", \"MGAT4EP\", \"KLKP1\", \"KLKP1\", \"MIR520H\", \"MIR449A\", \"GPX8\", \"H2AB2\", \"MIR135B\", \"BECN2\", \"OR10J3\", \"LINC01951\", \"NR2F1-AS1\", \"LINC00971\", \"CXADRP3\", \"TRIM51HP\", \"PAX6-AS1\", \"LINC00575\", \"HCG17\", \"CSMD2-AS1\", \"STMND1\", \"LINC00523\", \"PRSS48\", \"KRT8P41\", \"DEFB118\", \"MUC17\", \"MAGEB10\", \"C9orf57\", \"NOBOX\", \"TMEM270\", \"TRAM1L1\", \"ADAD1\", \"MIR1-1HG\", \"OR2T11\", \"ACSM2A\", \"TEX26\", \"LINC01553\", \"OR4X2\", \"OR52J3\", \"CCDC85A\", \"LINC00477\", \"UCN3\", \"ZIM3\", \"DNAJA1P5\", \"RIPPLY1\", \"IGFN1\", \"LINC00473\", \"FRMD7\", \"RGS8\", \"KRTAP4-3\", \"LINGO1\", \"NT5C1A\", \"KCNK16\", \"OR2C3\", \"GJA9\", \"SUN5\", \"ANO4\", \"ERVV-1\", \"FAM237A\", \"CDRT15L2\", \"GCSAML-AS1\", \"MYADML2\", \"GOLGA2P11\", \"LINC01018\", \"C11orf86\", \"LINC00710\", \"LINGO1-AS1\", \"DEFB110\", \"DEFB108B\", \"HOXA11-AS\", \"NRK\", \"LINC00870\", \"LINC01743\", \"CDCP2\", \"CCDC185\", \"LINC01102\", \"SILC1\", \"TEX55\", \"LOC154449\", \"TBC1D21\", \"TMEM74\", \"UBL4B\", \"ZNF679\", \"CNBD1\", \"PLPP4\", \"LINC00311\", \"PDE4DIPP3\", \"HERC2P7\", \"MIR5687\", \"MIR4474\", \"SORCS3-AS1\", \"MIR3159\", \"MIR4295\", \"TRIM51EP\", \"SNORD116-13\", \"FOXD4L6\", \"MIR181A1\", \"LINC01721\", \"DIAPH3-AS1\", \"CXXC1P1\", \"CXXC1P1\", \"MIR5189\", \"LOC105375146\", \"BANCR\", \"LINC01255\", \"PRKG2-AS1\", \"LINC01247\", \"LINC01228\", \"LINC01886\", \"GS1-278J22.2\", \"LOC105375297\", \"MAL2-AS1\", \"LINC02022\", \"TRPC7-AS2\", \"LINC01967\", \"LOC349160\", \"RESP18\", \"LINC02485\", \"TMPRSS11A\", \"LRRC31\", \"CYP2C9\", \"DSC3\", \"FGF1\", \"GCG\", \"SPRR1B\", \"FRMPD4\", \"AIPL1\", \"SCARA3\", \"RHCG\", \"PRMT8\", \"ETNPPL\", \"OR4K1\", \"DIO3\", \"SLC19A3\", \"OR9A2\", \"SPATA16\", \"DYNAP\", \"KRT19P2\", \"RASEF\", \"TMCO5A\", \"EPHA6\", \"OSR1\", \"ZIC4\", \"ZNF648\", \"KIAA1755\", \"C2orf73\", \"KRTAP4-1\", \"HEATR9\", \"ACAA1\", \"LEPROT\", \"NPTN-IT1\", \"ZP1\", \"PLXDC2\", \"B4GALT5\", \"PNPLA2\", \"MFSD6L\", \"TAB2-AS1\", \"ANTXR1\", \"MMRN2\", \"GATA2\", \"EMILIN2\", \"CD70\", \"DYNLRB2-AS1\", \"FAM138E\", \"COL12A1\", \"SLC38A8\", \"NPNT\", \"ZCCHC2\", \"OR52D1\", \"IGHV3-16\", \"SLC30A3\", \"LINC01836\", \"DMRTA2\", \"BDKRB2\", \"LINC02882\", \"MIR6880\", \"COL21A1\", \"ATP11B-DT\", \"MLPH\", \"STXBP5L\", \"STRA8\", \"MIR6726\", \"MMP25-AS1\", \"MAGED4B\", \"FABP6-AS1\", \"ALG14-AS1\", \"NTF4\", \"OR7E2P\", \"KHDC1L\", \"ROR1-AS1\", \"LOC101927314\", \"PRSS46P\", \"TANK-AS1\", \"PHOX2A\", \"RNF223\", \"MIR6754\", \"PRR35\", \"DHRS4\", \"IGKJ3\", \"DLC1\", \"CYFIP1\", \"BABAM1\", \"MPC1L\", \"DIABLO\", \"NFKBIE\", \"TESC\", \"EIF1B\", \"RIOK3\", \"PMS2P7\", \"ZC3H12A\", \"MEF2B\", \"ATP6V1F\", \"DNPEP-AS1\", \"LRRN2\", \"FSTL1\", \"HS3ST6\", \"COX8C\", \"ACER3\", \"KCTD21\", \"IGHV1-58\", \"FAM53C\", \"LOC100128966\", \"NCF4\", \"NFIL3\", \"SULT1C4\", \"LINC02883\", \"BNIP3L\", \"ZNF155\", \"FOXM1\", \"ATP2B4\", \"NARF\", \"NLRP11\", \"NEURL1B\", \"CPM\", \"ZWINT\", \"GNA12\", \"NOD2\", \"CYP2S1\", \"OVOS2\", \"TNF\", \"EPHB2\", \"SNHG22\", \"PXN\", \"CCL5\", \"CDC42EP3\", \"ELAVL3\", \"TFAP2A\", \"MAFA\", \"HSF4\", \"MAMLD1\", \"OSGEPL1-AS1\", \"FTL\", \"TGM3\", \"UBXN10\", \"CTDNEP1\", \"MIR1910\", \"PCAT19\", \"TRGV5\", \"RBP5\", \"OXER1\", \"NFKB2\", \"LAMB1\", \"PAGR1\", \"CORO1A-AS1\", \"FGR\", \"RNF39\", \"GRIN3B\", \"TRPM6\", \"GRIP1\", \"DAAM2\", \"ZFP36\", \"PCSK4\", \"EHD4\", \"SPATA21\", \"ARRDC3-AS1\", \"CNTLN\", \"SPAG5-AS1\", \"CYBC1\", \"KCTD14\", \"RALB\", \"TRIM74\", \"ADORA2A-AS1\", \"TMEM38A\", \"LPAR3\", \"MIR4435-2HG\", \"PRR19\", \"TRBJ1-5\", \"TMEM91\", \"IKBKG\", \"OSER1-DT\", \"MIR5690\", \"LOC101927950\", \"TLCD4-RWDD3\", \"SIRPB3P\", \"PSTPIP2\", \"TREML1\", \"PPP4R1L\", \"DYNLT4\", \"IL11\", \"TMEM63B\", \"ATP6V1C1\", \"DDX47\", \"ACTA1\", \"MARCHF8\", \"LINC00906\", \"DLEU2L\", \"KPTN\", \"DLGAP1-AS1\", \"NRM\", \"LINC02078\", \"USP3-AS1\", \"CFL1\", \"GNB1-DT\", \"SERTAD3-AS1\", \"SELL\", \"RRS1-DT\", \"C11orf96\", \"KCNAB2\", \"COL7A1\", \"C2orf16\", \"NUCB1\", \"VAMP5\", \"MYL6B\", \"GET4\", \"ERICH1\", \"C4A\", \"WWOX-AS1\", \"RHOU\", \"ROPN1L\", \"ITGAX\", \"SH3GLB1\", \"LINC02458\", \"CFAP161\", \"TRNP1\", \"LINC01993\", \"RGS9\", \"CYP3A43\", \"HSDL2-AS1\", \"MIR6819\", \"ABLIM3\", \"MIR548P\", \"PBX1\", \"SH3BP2\", \"PADI4\", \"IGKV2-30\", \"RPL23AP87\", \"TMEM274P\", \"TRIP6\", \"VIP\", \"GNB3\", \"PIWIL4\", \"INTS3\", \"ASAH2\", \"LINC00886\", \"LIPN\", \"DUSP8\", \"TBC1D2\", \"BBS1\", \"PCCA-DT\", \"FOXD3-AS1\", \"CAVIN4\", \"CEBPB\", \"PSMB10\", \"LGALS8\", \"ADAMDEC1\", \"B4GALNT4\", \"KCNC3\", \"FURIN\", \"CLEC1B\", \"MMP23B\", \"CEP83-DT\", \"CREB5\", \"PET100\", \"SLC43A3\", \"EFHD2\", \"TPM1\", \"HASPIN\", \"CAMTA2\", \"MAD2L2\", \"PMM2\", \"LOC100130283\", \"ADM-DT\", \"LENG9\", \"CEP170B\", \"PGAM1\", \"ATF3\", \"GPR155-DT\", \"LINC01529\", \"CSF3R\", \"PCBD1\", \"MIIP\", \"TUBA1C\", \"FNDC5\", \"EVC2\", \"ADAMTSL4-AS2\", \"TYROBP\", \"RHBG\", \"ST6GALNAC4\", \"DZIP1L\", \"HAGH\", \"MINCR\", \"TINCR\", \"ABCC11\", \"SHD\", \"CREG1\", \"DPEP3\", \"IFNGR2\", \"ATP2B2\", \"ABCA1\", \"CKAP4\", \"SOX2\", \"SLC1A2\", \"HCG20\", \"TFDP1\", \"MCAM\", \"PPM1M\", \"SQOR\", \"BEAN1\", \"IQSEC2\", \"XKR7\", \"MAP3K12\", \"MYBPC3\", \"RNF183\", \"LINC01409\", \"KIAA1614\", \"RHBDL3\", \"LINC01058\", \"REXO2\", \"AQP2\", \"IQCE\", \"EPB41L3\", \"CDCA3\", \"HPDL\", \"ABCA2\", \"ARL14EPL\", \"MAPK6-DT\", \"LINC01483\", \"ALPK3\", \"IGLV3-17\", \"TSPEAR-AS1\", \"IGHV3-79\", \"CLDN19\", \"TUSC8\", \"MAPT-AS1\", \"DDX4\", \"MAFG\", \"C2orf66\", \"TUBA1A\", \"FMR1NB\", \"GAS7\", \"GUSBP15\", \"LINC02317\", \"LOC101927657\", \"EIF2AK1\", \"MOSPD2\", \"MSL3P1\", \"MARVELD3\", \"GOLGA7B-DT\", \"BAG6\", \"PSMD7\", \"FAM90A2P\", \"EIF4A1\", \"IGHD1-20\", \"PLBD2\", \"BPIFC\", \"ZNF589\", \"E2F1\", \"OR6V1\", \"ADAMTS7P1\", \"BST1\", \"LRRFIP2\", \"EFEMP2\", \"DAPK1\", \"NINJ2\", \"MRPL23\", \"SENCR\", \"SLC35E2B\", \"ATF6\", \"RNU5A-1\", \"OTOR\", \"IL1R2\", \"OTUD7A\", \"CTXND1\", \"CPAMD8\", \"LINC02928\", \"LILRB3\", \"GPR34\", \"BAMBI\", \"NKILA\", \"CDK5\", \"ANXA4\", \"MYO18A\", \"SPARCL1\", \"SIGLEC10\", \"ARHGEF35\", \"EIF4EBP3\", \"LINC02257\", \"DDX12P\", \"RAB32\", \"FMNL1\", \"LINC01291\", \"TMEM54\", \"BCAR3\", \"SLC26A6\", \"NFKBIZ\", \"XCL1\", \"LOC100128494\", \"GFI1\", \"PRSS1\", \"VAPA\", \"RAB6C\", \"GPX2\", \"TRIM21\", \"FXYD3\", \"IL21-AS1\", \"LINC02777\", \"P2RX2\", \"PALM3\", \"LOC105371730\", \"ZNF724\", \"COMMD4\", \"GNPDA1\", \"TPST2\", \"CCDC40\", \"DUBR\", \"PGAM4\", \"PITPNM2-AS1\", \"PVALB\", \"SDK1\", \"TBC1D7\", \"TBC1D7-LOC100130357\", \"NIPAL1\", \"SBF2\", \"STEAP4\", \"APOL1\", \"LINC01644\", \"MYOF\", \"REL-DT\", \"MRPL12\", \"JMJD7-PLA2G4B\", \"HPGD\", \"BNIP5\", \"GRAMD1A\", \"BEAN1-AS1\", \"PDE6C\", \"CNPPD1\", \"TRAJ38\", \"TLR2\", \"SEC31B\", \"SELP\", \"IER5L\", \"FAM131B\", \"ZNF319\", \"PTPN7\", \"NUDT16-DT\", \"ERVK3-1\", \"GREB1\", \"KAZN\", \"TFE3\", \"IGHV1-18\", \"TIMP2\", \"DHRS12\", \"UVSSA\", \"TKT\", \"CTNNA1\", \"ARL5C\", \"ALMS1-IT1\", \"XXYLT1\", \"EIF2B5-DT\", \"RAC3\", \"FKBP1A\", \"HSPA4L\", \"NDUFA7\", \"LAMB3\", \"ADORA3\", \"PDLIM7\", \"BUB1\", \"GPR155\", \"LINC01869\", \"NID1\", \"PFKFB4\", \"ANXA2P3\", \"LOXL1-AS1\", \"GAS2L2\", \"SDCBP2\", \"LINC00963\", \"NPIPB5\", \"U2AF1\", \"PRAM1\", \"PLEKHO2\", \"TRAJ33\", \"LY6G6C\", \"CAMP\", \"YY1AP1\", \"LSMEM1\", \"MLKL\", \"CDA\", \"CEND1\", \"NRADDP\", \"IL15RA\", \"NSUN3\", \"NLRP3\", \"STOML1\", \"CISH\", \"MX2\", \"APBB3\", \"NPHP3-AS1\", \"C4orf46P3\", \"LINC02809\", \"GCNT7\", \"GLIS2\", \"NDUFA13\", \"NLN\", \"CCDC149\", \"KCNIP2-AS1\", \"CACNA1A\", \"EOMES\", \"TCP11L1\", \"C8orf76\", \"FAM90A1\", \"SNAI3-AS1\", \"HDAC4\", \"CACNA2D3\", \"LOC100130357\", \"MYEF2\", \"PPP1R3D\", \"DPRXP4\", \"PPT2-EGFL8\", \"STXBP2\", \"MAFB\", \"GBP1\", \"FAR2P2\", \"TMEM86A\", \"MMP14\", \"CCNB1\", \"NEK10\", \"DENND3\", \"PABPC4-AS1\", \"ZNF385A\", \"RNF207\", \"BRI3\", \"GATC\", \"PLXNB2\", \"ANKS1B\", \"SNORA60\", \"SLC66A2\", \"CHADL\", \"STAG3L5P\", \"STAG3L5P\", \"MED16\", \"RIN1\", \"LINC00222\", \"NAMPT\", \"CLMP\", \"LINC01134\", \"C12orf75-AS1\", \"LPIN3\", \"PRSS36\", \"SNAP29\", \"FCN1\", \"EXT1\", \"OR3A1\", \"BRSK2\", \"MTF1\", \"TNFRSF1A\", \"KIAA0319\", \"ROBO4\", \"PTENP1\", \"FAM225A\", \"SLC39A1\", \"GRIN3A\", \"LYZ\", \"NDUFC2\", \"ERMAP\", \"LHFPL2\", \"MIP\", \"LOXL4\", \"PLEKHG6\", \"MAP1LC3B2\", \"FUT4\", \"MTX1\", \"NTAN1\", \"RALGAPA2\", \"ZNF625\", \"LOC100420587\", \"CPNE7\", \"DNAJB2\", \"CTIF\", \"LOC101927708\", \"ANXA8\", \"C1orf216\", \"PPP1R14D\", \"LLCFC1\", \"FERMT3\", \"CSTB\", \"TLDC2\", \"PMP22\", \"FHL2\", \"FHOD1\", \"ETV6\", \"LMOD3\", \"AMPD3\", \"RERE-AS1\", \"ARRB1\", \"C1RL-AS1\", \"CYP27A1\", \"IFITM2\", \"LINC01918\", \"AURKA\", \"MSL3\", \"ARHGAP18\", \"AMIGO3\", \"IDH1\", \"GOLGA7B\", \"UBE2L6\", \"IGLV2-11\", \"STYXL1\", \"PLAC9\", \"LGR5\", \"SPC24\", \"PARP14\", \"KNDC1\", \"TIMP1\", \"WARS2-AS1\", \"FOSL1\", \"C2CD4D-AS1\", \"MSRB2\", \"SNCA-AS1\", \"LBHD1\", \"SIRPB1\", \"MAPK12\", \"LIPA\", \"VAV1\", \"GIT2\", \"ZNF333\", \"SHARPIN\", \"SEMG1\", \"HSPB9\", \"ARHGAP27P1-BPTFP1-KPNA2P3\", \"XPC-AS1\", \"TTC7B\", \"AGPAT1\", \"VSTM1\", \"TGFBI\", \"TNFRSF10C\", \"TMCO6\", \"CR1L\", \"IFNB1\", \"FFAR4\", \"SBF1P1\", \"CRISP2\", \"CXCR1\", \"LINC02649\", \"MLLT10P1\", \"ECSIT\", \"TXLNB\", \"DIXDC1\", \"FCRL3\", \"B3GNT5\", \"FAM156A\", \"OSBPL1A\", \"SPI1\", \"H2BC5\", \"PRDX2\", \"SETSIP\", \"IGLV3-27\", \"NPR3\", \"SIL1\", \"CCDC159\", \"THOC5\", \"MAB21L3\", \"PERM1\", \"OAZ1\", \"AP2S1\", \"DEPDC7\", \"DNTTIP1\", \"TMLHE\", \"CNPY2\", \"SMG7-AS1\", \"VASH1-AS1\", \"LINC00891\", \"SHISA5\", \"SUCNR1\", \"LOC105371745\", \"EXOSC4\", \"TRBV28\", \"CACNB3\", \"MIR4477A\", \"DNAJA4\", \"LINC02427\", \"FDXR\", \"SLC9A5\", \"TP53I3\", \"DACH1\", \"PLSCR4\", \"CYP21A1P\", \"CYP21A1P\", \"ACE\", \"COLEC12\", \"DLEC1\", \"MFN2\", \"GTF2IP13\", \"FN3K\", \"KIAA0825\", \"RARA\", \"MS4A2\", \"APOM\", \"NPEPL1\", \"ARRDC1\", \"DNAI1\", \"CHMP4B\", \"XBP1\", \"TLR7\", \"WDR76\", \"CGAS\", \"CHRM5\", \"HCST\", \"SLC49A3\", \"CDH23\", \"ZER1\", \"PA2G4\", \"TNC\", \"TRPC6\", \"SP110\", \"MIR4668\", \"LOC401127\", \"ARHGEF11\", \"TTLL3\", \"TMEM45B\", \"KCNK7\", \"IDI2\", \"CSF2RB\", \"ZFP36L1\", \"SPAG5\", \"SPSB1\", \"HJV\", \"RDH12\", \"MIR877\", \"PPP1R3B\", \"FRMD4B\", \"IMPDH1\", \"ARSD\", \"LIN7A\", \"NDUFA3\", \"LINC02449\", \"LOC107984827\", \"ZBTB8B\", \"GRIK5\", \"HDAC7\", \"TALDO1\", \"PENK-AS1\", \"SHFL\", \"MARCKS\", \"TRAV1-2\", \"PF4\", \"IL17RA\", \"MTCP1\", \"EP300-AS1\", \"ARHGAP15-AS1\", \"MKRN1\", \"MGP\", \"PNCK\", \"MT1DP\", \"MT1DP\", \"DEDD\", \"ARHGAP33\", \"SLIT1\", \"NUTM2A\", \"DPYSL4\", \"PCDH17\", \"CA3-AS1\", \"TTC21A\", \"RRAS\", \"RNF31\", \"SPNS1\", \"SERF1B\", \"TTLL13\", \"TCTN2\", \"BMS1P1\", \"BMS1P1\", \"OR2A9P\", \"SMG5\", \"TRBV4-2\", \"RAD23A\", \"DNM3-IT1\", \"TMEM254-AS1\", \"ORC6\", \"MIAT\", \"LIN37\", \"RHOG\", \"P4HB\", \"SEMA3A\", \"SEZ6L2\", \"TUBB4B\", \"CYB5R3\", \"TTC36-AS1\", \"LMO2\", \"FUCA2\", \"BRWD1-AS1\", \"COPE\", \"RALGDS\", \"SLC26A4-AS1\", \"KIF1C\", \"TBC1D30\", \"KRTAP12-4\", \"ASAP1\", \"GUCY1B2\", \"DOC2A\", \"MYBPH\", \"RIPK4\", \"FLCN\", \"UBAP1\", \"ATP8B4\", \"IGHD6-19\", \"ND4L\", \"MSRB1\", \"PFN1\", \"SEPTIN5\", \"SORD\", \"FOXI2\", \"FAM86C2P\", \"FAM86C2P\", \"NIPSNAP1\", \"LDHA\", \"GAS8\", \"RASSF4\", \"RNASEK\", \"CCDC18-AS1\", \"CDC123\", \"GNG5\", \"NRGN\", \"OSBPL6\", \"NDUFB9\", \"TMTC2\", \"LINC01187\", \"PDZD9\", \"HK1\", \"CAPN8\", \"LRRC49\", \"FCGR2B\", \"OR10G2\", \"CCNF\", \"KIF5C-AS1\", \"SPOCK1\", \"IL2RG\", \"SIGLEC7\", \"TMEM150B\", \"SLC9A8\", \"CAMK2N1\", \"ST6GALNAC6\", \"RGL4\", \"NANS\", \"DTNA\", \"NLRP12\", \"SLC2A6\", \"CCDC116\", \"LOC105371022\", \"ALDOB\", \"LRMDA\", \"PVALEF\", \"PNPO\", \"MAP3K5-AS1\", \"CDKN2A\", \"DOK2\", \"HYPK\", \"FAM20C\", \"EHHADH\", \"LGALS12\", \"MIR4754\", \"LINC02481\", \"MIR4783\", \"LYL1\", \"ADAM15\", \"MIR9-1HG\", \"NDOR1\", \"HSPA1A\", \"ADGRE4P\", \"IFNAR1\", \"PHC2\", \"KSR1\", \"VENTX\", \"RS1\", \"PIGZ\", \"ANGPTL6\", \"CYB561\", \"LOC730183\", \"CPA3\", \"SLA\", \"CLN3\", \"BOLA3-DT\", \"VDR\", \"CLEC18A\", \"LRP3\", \"EIF3C\", \"GABRB2\", \"TRPM4\", \"MESP2\", \"LAMTOR1\", \"VEGFA\", \"HPS1\", \"DLGAP4\", \"SCLY\", \"TNRC6B-DT\", \"TMED6\", \"MCM4\", \"TEPSIN\", \"VPS52\", \"PNPLA4\", \"KLRG2\", \"TMED1\", \"PPIB\", \"LINC00862\", \"MICAL1\", \"THBS1\", \"CACNG8\", \"BORCS8\", \"ICMT-DT\", \"USP18\", \"MYT1\", \"POLR2L\", \"ASB12\", \"PLK5\", \"ZNF341\", \"KIAA1958\", \"CRISP3\", \"EPOP\", \"CDKN2D\", \"DPP9-AS1\", \"POP7\", \"ZEB2-AS1\", \"BST2\", \"GTSE1\", \"ZNF559-ZNF177\", \"UBE2F\", \"C1orf116\", \"LINC01890\", \"EIF4E3\", \"LINC01579\", \"CBR1\", \"WDR45\", \"YWHAH\", \"MIR140\", \"BAALC-AS1\", \"LOC105369147\", \"LINC00968\", \"MIR223HG\", \"LACTB\", \"SHROOM1\", \"GLUL\", \"CD44\", \"ZNF663P\", \"TG\", \"UBE2F-SCLY\", \"CMTM4\", \"ZDHHC3\", \"LRRC37A3\", \"KXD1\", \"METTL22\", \"LINC00595\", \"LINC00856\", \"LRP1\", \"WIPI1\", \"MIR6833\", \"IFIH1\", \"SASH3\", \"OXGR1\", \"UBE2D1\", \"NMNAT1\", \"NBN\", \"SYK\", \"DCP1B\", \"SLAMF7\", \"SNX32\", \"MBD6\", \"BEST2\", \"GOLGA2P10\", \"GPR68\", \"HEY2\", \"LRRC8E\", \"EMC1-AS1\", \"ZFP92\", \"ITPRIP\", \"GALNS\", \"FADD\", \"LYRM1\", \"MIR4259\", \"SCAND2P\", \"AGPAT2\", \"SNF8\", \"STAT5B\", \"LINC00242\", \"PKM\", \"GAB3\", \"LINC02019\", \"GUCA1B\", \"NDUFB8\", \"APOBEC3C\", \"CYP3A4\", \"CLEC1A\", \"ENTPD5\", \"GPR3\", \"MCM2\", \"CASP1\", \"CSPG5\", \"LINC02273\", \"LPCAT2\", \"GEMIN7\", \"GLIPR2\", \"LRRC37A4P\", \"H2AZ1-DT\", \"DCAF11\", \"THTPA\", \"NLGN3\", \"NFAM1\", \"SLC12A5\", \"IGLJ7\", \"LOC286059\", \"SLC9A3\", \"SQSTM1\", \"MARK3\", \"IL32\", \"PCGF5\", \"TK2\", \"PTPRJ\", \"HSPA1B\", \"ALDH4A1\", \"SCARNA1\", \"LINC02153\", \"ZC3H10\", \"MICA\", \"CXCR2P1\", \"ANKRD34A\", \"KIF15\", \"STAT2\", \"FAM209A\", \"CCNP\", \"PHLDA3\", \"C1QTNF7-AS1\", \"TADA3\", \"TRGV2\", \"RAB31\", \"SEC23B\", \"CDK5RAP2\", \"CRAT\", \"PDIA6\", \"LINC01943\", \"NMI\", \"WBP2\", \"MTCH2\", \"ZNF710\", \"PLXND1\", \"PSMF1\", \"SIPA1L2\", \"PDE8B\", \"FBXL5\", \"IGLL1\", \"BYSL\", \"AARSD1\", \"UBOX5\", \"TSPAN17\", \"HMOX1\", \"TMEM260\", \"FTH1P3\", \"IL17RB\", \"PSMA2\", \"LIPC-AS1\", \"TTK\", \"TBC1D8\", \"LTA4H\", \"ANAPC15\", \"SLC6A12\", \"MID1\", \"CECR7\", \"RAC2\", \"ALDH2\", \"IGFBP7\", \"PTPRF\", \"MOB3C\", \"FAM168A\", \"CSTF2\", \"IGLV7-43\", \"GCA\", \"SH3GL1\", \"TNFRSF9\", \"INPP5J\", \"NAGA\", \"NDRG1\", \"PPL\", \"CORO2A\", \"S100A6\", \"OS9\", \"PRELID1\", \"TMEM141\", \"WASH7P\", \"SLC7A5\", \"LRRC23\", \"DSTNP2\", \"DSTNP2\", \"LOC284191\", \"WWC1\", \"SH3BGRL3\", \"HEXD-IT1\", \"LINC02768\", \"LINC01132\", \"SEMA7A\", \"C1orf74\", \"FIGNL2-DT\", \"CEROX1\", \"LRRK2-DT\", \"UBAC1\", \"HORMAD2-AS1\", \"SNORA80B\", \"SCAMP4\", \"ZDHHC18\", \"RAB8A\", \"LRRC61\", \"KIAA2012\", \"RAMAC\", \"SCUBE1\", \"ITPRIPL1\", \"HLA-A\", \"BISPR\", \"EFNA3\", \"GNB2\", \"ARGFXP2\", \"CES4A\", \"EPS15-AS1\", \"CHKB-DT\", \"CORO7\", \"TP63\", \"ATG101\", \"ACSS2\", \"PDE6A\", \"SERPINB10\", \"DOCK4\", \"TCF19\", \"KCNQ4\", \"CIRBP-AS1\", \"TRAJ19\", \"ADCY3\", \"MBL1P\", \"GRIK3\", \"GPSM2\", \"ITGB2-AS1\", \"FKBP15\", \"WSCD2\", \"TIGD7\", \"FAM114A1\", \"INPPL1\", \"CYP2C8\", \"SENP3\", \"UBE2C\", \"CUX1\", \"TM9SF1\", \"ELOF1\", \"UBE2Q1-AS1\", \"GLYCTK-AS1\", \"SLC4A9\", \"RBM34\", \"PTPRE\", \"LCTL\", \"ATG7\", \"MYBPC1\", \"CD163L1\", \"ARF4-AS1\", \"CAP1\", \"MDK\", \"RELT\", \"TF\", \"TRIM64B\", \"WARS1\", \"HNRNPCL3\", \"MIR4285\", \"ORAI3\", \"NUMBL\", \"SERHL\", \"PAM16\", \"CCNE1\", \"ANO10\", \"IDO1\", \"EIF5A\", \"RAB20\", \"H4C4\", \"LOC105372421\", \"TRAPPC1\", \"NPIPB12\", \"CATIP-AS2\", \"NXT1-AS1\", \"ARHGAP31\", \"NFKBID\", \"BID\", \"NDUFAF3\", \"CARHSP1\", \"SMIM23\", \"MLLT11\", \"CLCN1\", \"RTEL1-TNFRSF6B\", \"HPCAL4\", \"KCTD15\", \"SLC25A34\", \"LINC00562\", \"DHRS7\", \"SLC7A7\", \"SNORD20\", \"NCBP2-AS1\", \"GAB2\", \"UPB1\", \"PRKY\", \"TEX41\", \"MNT\", \"ZNHIT2\", \"CD55\", \"FKBP11\", \"MIR593\", \"IL17B\", \"PDK2\", \"UFSP1\", \"CCDC107\", \"GABPB1-AS1\", \"DMRTC2\", \"YBEY\", \"RIN2\", \"PCTP\", \"POMGNT2\", \"CDK2AP1\", \"RFPL1S\", \"ZBTB7B\", \"TMEM120A\", \"TPD52L2\", \"ZNF843\", \"HCG25\", \"SUSD1\", \"ESAM\", \"IGHG3\", \"RBM14-RBM4\", \"DMPK\", \"ERV3-1\", \"KIAA0930\", \"BAG1\", \"TRAV2\", \"SNORD124\", \"MCMDC2\", \"ACTA2\", \"FAM151A\", \"CXorf65\", \"MCOLN2\", \"HIVEP3\", \"DENND1A\", \"DGKQ\", \"ZGPAT\", \"LOC101927793\", \"UBXN2B\", \"BOLL\", \"ARL8A\", \"RNASE3\", \"CTNNBIP1\", \"EIF2B2\", \"PLEKHN1\", \"APBB1IP\", \"ACACA\", \"NOP9\", \"DNAJC6\", \"AKR1C4\", \"CCDC96\", \"NCSTN\", \"HDGFL3\", \"RAB34\", \"ADHFE1\", \"PLOD1\", \"AP1S1\", \"MLLT1\", \"LINC00937\", \"UTF1\", \"PGK1\", \"PHAF1\", \"KBTBD4\", \"POP1\", \"IGLV3-9\", \"DSCC1\", \"LINC02033\", \"SLC29A4\", \"TMEM240\", \"HELZ2\", \"MIR93\", \"THBS3-AS1\", \"SLC9A1\", \"YARS1\", \"WNT5B\", \"TMEM179B\", \"ARID5A\", \"IER2\", \"CGNL1\", \"TNK2-AS1\", \"PPP4R4\", \"NOMO3\", \"ANP32A\", \"STAT5A\", \"FBXO7\", \"FAM83D\", \"SLC8B1\", \"TBC1D2B\", \"GDE1\", \"HYAL1\", \"QSOX1\", \"ZFR2\", \"DNAJC4\", \"LGI2\", \"PFKP\", \"MPND\", \"C1orf115\", \"EXOSC10\", \"THEMIS2\", \"HYI\", \"TSSK4\", \"ADORA2A\", \"MTMR11\", \"KLHL5\", \"F10\", \"MICU1\", \"COL5A1\", \"FCRL6\", \"WSB1\", \"RGS5\", \"KEAP1\", \"ABCD1\", \"RNF187\", \"MEIG1\", \"PSMC3IP\", \"DTX2P1-UPK3BP1-PMS2P11\", \"GHET1\", \"P4HA2\", \"AJM1\", \"PTK2B\", \"PLEC\", \"SLC25A44\", \"NR1I2\", \"EXOC7\", \"PLCB2\", \"UBA52\", \"ZNF710-AS1\", \"TRBV12-3\", \"CBLN3\", \"KIFC3\", \"MACROH2A1\", \"RELL2\", \"H1-0\", \"GRN\", \"SEMA4B\", \"APBA3\", \"REEP4\", \"RABAC1\", \"SCPEP1\", \"GBP2\", \"SLC22A18\", \"PROCA1\", \"MOV10\", \"CHKA\", \"UBE2V1\", \"DPYSL2\", \"HTATIP2\", \"SPATC1L\", \"CERS2\", \"TCIRG1\", \"MVP\", \"UNC79\", \"MARK4\", \"NGRN\", \"RRAGD\", \"SLC37A3\", \"LOC285638\", \"ZSWIM8\", \"PXK\", \"PXN-AS1\", \"HAS1\", \"PLCG1-AS1\", \"KHK\", \"SP100\", \"COTL1\", \"PRCP\", \"CUEDC1\", \"NUDT16\", \"ITPRIPL2\", \"SSH3\", \"CBFA2T3\", \"MAN2B1\", \"PARP12\", \"ADGRL1-AS1\", \"LAT\", \"ACSS3\", \"PPP5C\", \"TUBA8\", \"BCRP3\", \"CD82\", \"GNG12-AS1\", \"SERTAD1\", \"PRAF2\", \"AGAP3\", \"RAB2B\", \"INE1\", \"ZCCHC12\", \"DES\", \"EGLN2\", \"AGAP1\", \"XPO6\", \"FOSL2\", \"SH2B2\", \"SLC35C1\", \"ZDHHC11\", \"CFLAR\", \"TMBIM1\", \"PHF11\", \"VASP\", \"NT5C2\", \"MYL5\", \"TRAV30\", \"DOK1\", \"SNORD62A\", \"ECHDC3\", \"THEM5\", \"SEC22B\", \"SLITRK4\", \"LINC00622\", \"HLA-DQB1\", \"ZNF337-AS1\", \"APOBR\", \"ALG1\", \"ADAM8\", \"ZNF213\", \"ARHGAP27\", \"H2BC12\", \"CHAD\", \"POLD4\", \"DNAH1\", \"P2RX6\", \"PARP10\", \"LRRC59\", \"IFIT2\", \"TESMIN\", \"EDARADD\", \"CD300LD\", \"CARS2\", \"DBN1\", \"TMED11P\", \"NEK2\", \"TAP1\", \"LINC01366\", \"PLCB3\", \"KLRC3\", \"GPC1\", \"BTBD18\", \"LINC00528\", \"GNAO1-AS1\", \"SLC25A19\", \"RBCK1\", \"KLHDC8B\", \"RNF135\", \"NELFCD\", \"MIER2\", \"SCCPDH\", \"SLC36A1\", \"CHSY1\", \"INCA1\", \"CYP4F2\", \"FFAR1\", \"LAPTM4A\", \"TNFSF14\", \"NUSAP1\", \"MST1\", \"NCKAP1\", \"POLR1D\", \"SNAP23\", \"CDC42BPB\", \"LINC00114\", \"CA5BP1\", \"PTGFRN\", \"FAH\", \"MAN2A2\", \"ANKRD33B\", \"STARD10\", \"APOBEC3G\", \"OST4\", \"NEU1\", \"YPEL3\", \"ADRM1\", \"CSNK1A1P1\", \"DAPK2\", \"ATP13A3-DT\", \"TGM7\", \"SLC9A9\", \"BMF\", \"H2AC20\", \"SDF2L1\", \"GEMIN8P4\", \"ATP8B3\", \"SRRM2-AS1\", \"HMGN2\", \"RPS10P7\", \"SPRYD7\", \"ITGAL\", \"TPM3\", \"BACE1\", \"KPNB1\", \"TTC3-AS1\", \"GSTO2\", \"NRDC\", \"MYH11\", \"MANSC1\", \"MIR635\", \"PIP5K1C\", \"C9orf43\", \"MSTO1\", \"VSIG10L\", \"VMO1\", \"SMO\", \"HEATR3\", \"TWF2-DT\", \"FRG1FP\", \"BIN2\", \"GCM1\", \"GSTK1\", \"ZNF560\", \"ELOVL4\", \"EDEM2\", \"CCDC85C\", \"ENO1\", \"ADAMTSL5\", \"SLC6A13\", \"C16orf90\", \"FANCI\", \"GPR27\", \"CALR\", \"DCST1\", \"SNRK-AS1\", \"ERLIN1\", \"CLSTN3\", \"DAP\", \"SCARF2\", \"WDR83\", \"ITPRIP-AS1\", \"GMIP\", \"CSRP1\", \"MID1IP1-AS1\", \"ARMC9\", \"TMEM79\", \"ANKRD36B\", \"TLR6\", \"PNPLA6\", \"CHST15\", \"TEDC2\", \"KNL1\", \"PUDP\", \"STX4\", \"GTF2H2\", \"HMBS\", \"MSRB3\", \"DOCK8-AS2\", \"SSBP3-AS1\", \"NUBP1\", \"LDLRAD2\", \"ZNF467\", \"UCP3\", \"DIAPH2\", \"MMEL1\", \"EPOR\", \"N4BP1\", \"IGLC2\", \"NKIRAS2\", \"GNAI2\", \"ARHGDIA\", \"NRROS\", \"SMIM3\", \"PTTG1IP\", \"NELFE\", \"IGLV2-14\", \"KIF3C\", \"RAB33B-AS1\", \"GRB2\", \"SLC17A3\", \"PEPD\", \"PSMC5\", \"PELO\", \"CENPBD1P\", \"PDXK\", \"VNN2\", \"COLGALT1\", \"LINC00881\", \"CCDC183-AS1\", \"NUP153-AS1\", \"CACNA1C-AS1\", \"AP2M1\", \"CCL22\", \"SCN3B\", \"WNT2B\", \"MPIG6B\", \"NECAB1\", \"SLX4\", \"SNHG4\", \"BCL2L13\", \"PIK3AP1\", \"MTOR-AS1\", \"SPATA2L\", \"DRAXIN\", \"PIK3CD-AS1\", \"GJA4\", \"LYSMD1\", \"USP3\", \"CAT\", \"LINC02018\", \"PEAR1\", \"GNS\", \"MYO1F\", \"GPX1\", \"H2AX\", \"FGFBP3\", \"NGFR\", \"RNR1\", \"BLVRA\", \"RYR1\", \"DEF6\", \"CLHC1\", \"DLG4\", \"PARVG\", \"DNAJC7\", \"KIF11\", \"ARPC4\", \"PSEN1\", \"ATP6V0D1\", \"MRNIP\", \"C2\", \"SMAD1\", \"NSMCE1-DT\", \"CLCN2\", \"LRP10\", \"HYAL2\", \"NCKAP1L\", \"PCBP1-AS1\", \"LINC00607\", \"S100A4\", \"ARL13A\", \"AKT1S1\", \"MCC\", \"TMEM11\", \"MTFR1L\", \"MON1A\", \"SH2D3C\", \"DYNC1I1\", \"TOR4A\", \"CTBP1-AS\", \"TUBG1\", \"H2BC21\", \"TNFRSF1B\", \"PRMT5-AS1\", \"LOC100288123\", \"XRN2\", \"WASHC1\", \"GMPR2\", \"BCL2L11\", \"CADM4\", \"NUDT6\", \"KCNE3\", \"YARS2\", \"RPS6KA1\", \"CYSRT1\", \"PLA2G4C-AS1\", \"PGAP2\", \"NCF2\", \"KCNJ1\", \"NCAPG\", \"LINC00294\", \"MAF1\", \"KIF26A\", \"EGF\", \"DNAJC5\", \"OSTF1\", \"SPDYE16\", \"FPR2\", \"CYBA\", \"DHRS7B\", \"NAPSB\", \"NAPSB\", \"DYNLRB1\", \"LILRA1\", \"PLXNC1\", \"AGER\", \"ELMO2\", \"DUSP18\", \"NCR2\", \"CCDC17\", \"KLHL2\", \"ARHGEF10L\", \"CREG2\", \"MIR4748\", \"LAIR1\", \"GORASP1\", \"AZI2\", \"PEX7\", \"CCDC124\", \"TPCN2\", \"ACSL3\", \"NR6A1\", \"SERPINB8\", \"PSMB3\", \"KDM6B\", \"TACC3\", \"LINC00892\", \"RUSC2\", \"HRH3\", \"RPP25\", \"PCDHGA2\", \"MROH7\", \"RPTOR\", \"NATD1\", \"RGPD2\", \"TLE3\", \"RNF169\", \"DUSP10\", \"NFS1\", \"NME8\", \"PLA2G6\", \"GSK3A\", \"LINC01814\", \"ACAP1\", \"ARHGEF2-AS2\", \"H3-3B\", \"ZDHHC12\", \"CCHCR1\", \"PCOLCE-AS1\", \"CPQ\", \"OMG\", \"LOC101927057\", \"SPAG4\", \"PDE4A\", \"SEMA3F-AS1\", \"CARS1\", \"SLC25A18\", \"SNORA74B\", \"ZNF408\", \"C15orf39\", \"ADRB2\", \"PLA2G4A\", \"LCP1\", \"MCTP1\", \"MARS1\", \"PGM1\", \"PHYKPL\", \"TNFRSF8\", \"IRAK4\", \"RTL8A\", \"SRRM2\", \"SOX15\", \"RAB43\", \"H4C11\", \"PIP4K2A\", \"RIPOR3\", \"DNM1\", \"MECR\", \"WAS\", \"NKG7\", \"DNAJB11\", \"STX3\", \"MED8\", \"DDX60\", \"AGPAT3\", \"USP12\", \"TNFAIP8L2\", \"USP46-DT\", \"PRR5L\", \"NEAT1\", \"FCHSD1\", \"PCLAF\", \"ACOT7\", \"HIGD2A\", \"YEATS2-AS1\", \"CEP164\", \"TNIP3\", \"WBP1\", \"LINC00920\", \"TUFT1\", \"SLC48A1\", \"TSPAN31\", \"OR2A7\", \"IGSF6\", \"ABTB1\", \"LOC101929439\", \"WDTC1\", \"SMIM10L2B\", \"TRIB1\", \"RAB36\", \"TTLL4\", \"C1orf198\", \"P2RY4\", \"GFOD2\", \"ACTL6B\", \"GLTP\", \"TIRAP\", \"CMTM3\", \"HERC6\", \"TRIM14\", \"UBAP1L\", \"MGST2\", \"SNX33\", \"ZNF316\", \"CASC3\", \"GNAL\", \"ZDHHC15\", \"PLPP7\", \"CD99L2\", \"PCK2\", \"ARHGEF39\", \"SLC25A11\", \"SFXN5\", \"B4GALT2\", \"IQCD\", \"NADSYN1\", \"PPIEL\", \"PPIEL\", \"MRPS18A\", \"TRAV1-1\", \"GLA\", \"PTPN6\", \"ARPC1A\", \"LOC122526780\", \"LRRC2\", \"ZNF516-AS1\", \"MAPK3\", \"LRCH4\", \"HEXA\", \"ZNF818P\", \"TMEM217\", \"LHPP\", \"PCYT1A\", \"SRSF12\", \"ANLN\", \"CAST\", \"SOX13\", \"P2RY2\", \"TRIM69\", \"EIF6\", \"UBALD2\", \"DNM2\", \"SRRD\", \"MFSD2A\", \"CHMP1A\", \"OGFOD1\", \"DYNLL1\", \"CD2BP2-DT\", \"SEPSECS-AS1\", \"THAP10\", \"PPM1A\", \"FIS1\", \"BMP6\", \"PKD1L1\", \"SRSF9\", \"PTOV1\", \"CDC42SE1\", \"SYNDIG1L\", \"IGHD5-12\", \"ECRG4\", \"YOD1\", \"KRTCAP2\", \"C1orf127\", \"RPL17\", \"RENBP\", \"SETDB1\", \"PABPC1L\", \"B4GALT3\", \"JMJD4\", \"LGALS1\", \"C8orf58\", \"MIR6071\", \"SZT2\", \"NADK\", \"TLR10\", \"RCOR2\", \"SNORA59A\", \"MYBPHL\", \"DAPP1\", \"TRPC4AP\", \"SCNM1\", \"TNFAIP8L2-SCNM1\", \"MGAM\", \"LTBP1\", \"RAB6B\", \"IFT52\", \"P2RY14\", \"MYOCOS\", \"ZNRD2-DT\", \"CTNS\", \"TMEM106A\", \"MPV17L2\", \"ADAMTS17\", \"INPP1\", \"SNX20\", \"THBS3\", \"ACAD9\", \"ORM2\", \"AIMP2\", \"RDH13\", \"ST6GALNAC2\", \"CAPN2\", \"HOXB3\", \"NAGS\", \"PWAR1\", \"CD300A\", \"SGSH\", \"ZNF45-AS1\", \"H19\", \"TGFB1\", \"ATG9A\", \"FNBP1L\", \"VPS8\", \"ST7\", \"ST7-OT3\", \"NCLN\", \"FAM87B\", \"RETREG2\", \"CCDC81\", \"NEK6\", \"LAMTOR5-AS1\", \"PSKH1\", \"PSAT1\", \"TRAJ5\", \"EXOC3\", \"SSBP4\", \"SLC16A5\", \"BORCS6\", \"MYO1G\", \"TLE5\", \"SLCO3A1\", \"ATG16L2\", \"LIMS1\", \"CDKL1\", \"TOP3A\", \"TMTC4\", \"RGS19\", \"SLC35B2\", \"WNT1\", \"XRCC3\", \"LRRC51\", \"ARFGAP3\", \"IFNK\", \"BAK1\", \"KLHDC7B\", \"ACTR1A\", \"ABHD8\", \"POLR1H\", \"RTL8C\", \"ELOVL1\", \"NOL12\", \"HMMR\", \"ZMYND15\", \"MGME1\", \"SEC13\", \"TEN1-CDK3\", \"KIF18A\", \"PTPN18\", \"NLRC5\", \"LRRC25\", \"CCDC30\", \"ANXA2P2\", \"EVC\", \"SPSB2\", \"LOC105369632\", \"EMC3\", \"MAPKAPK3\", \"BUD31\", \"DNAAF11\", \"TRIM38\", \"GET3\", \"TNFRSF12A\", \"LINC00470\", \"CRYBG2\", \"TFRC\", \"VPS35\", \"FADS1\", \"DDX19A\", \"KIAA0040\", \"CCRL2\", \"LOC100996437\", \"ELF4\", \"PDAP1\", \"NUTM2G\", \"SUPT4H1\", \"TRBV6-4\", \"CSNK1A1L\", \"TMUB2\", \"PRADC1\", \"PDPR2P\", \"PDPR2P\", \"CD48\", \"LINC01988\", \"ANXA7\", \"C2orf74-DT\", \"FCGR3B\", \"WHAMMP1\", \"ARSG\", \"TRIM8\", \"ADGRB1\", \"CLCN5\", \"EIF4EBP1\", \"LZTR1\", \"CINP\", \"KHNYN\", \"FAM161B\", \"MYO1C\", \"NUMB\", \"TBX6\", \"RTF2\", \"NFKBIB\", \"NSDHL\", \"FIP1L1\", \"GRAMD4\", \"PRRT4\", \"CNN1\", \"MYL12A\", \"ACSL4\", \"IKBKE\", \"GTPBP1\", \"ZC2HC1C\", \"SCD\", \"UBE2O\", \"MTRF1L\", \"CLBA1\", \"MLEC\", \"ZDHHC7\", \"ACOT9\", \"HECTD3\", \"SZRD1\", \"PNMA5\", \"CYGB\", \"CORO6\", \"LASP1\", \"TTLL7\", \"FGGY\", \"LST1\", \"PAPOLA-DT\", \"PLEKHF1\", \"BCKDK\", \"MIR186\", \"CDK5RAP3\", \"MTHFD2\", \"CLIC1\", \"MYLIP\", \"TMEM59L\", \"PPBP\", \"TBXAS1\", \"PDE2A-AS2\", \"PCOLCE\", \"TMEM272\", \"C16orf95\", \"CALCOCO1\", \"LINC02390\", \"BACH1-IT2\", \"MSH5\", \"PRKCZ-AS1\", \"PML\", \"ERAL1\", \"SNX27\", \"MORN4\", \"OR7E91P\", \"OR7E91P\", \"UQCC3\", \"CRYBG1\", \"CDIPT\", \"PLD3\", \"GPSM3\", \"DMGDH\", \"HAVCR1P1\", \"PPP1R18\", \"CAPNS1\", \"MIR3941\", \"MVB12B\", \"PNKD\", \"UBL7\", \"DDX19A-DT\", \"ETFBKMT\", \"SCARB1\", \"MIDN\", \"TRAPPC3\", \"ST20-AS1\", \"MIR9-3HG\", \"ERF\", \"SNHG16\", \"FNDC3B\", \"KCNJ16\", \"RNF40\", \"IRGM\", \"ABCC10\", \"EOLA2-DT\", \"BECN1\", \"LRRC75A\", \"PPP5D1P\", \"PPP5D1P\", \"MRPL28\", \"TRBJ2-6\", \"ASAP3\", \"MIR3613\", \"HM13\", \"DNAJC14\", \"PLAGL2\", \"SNORD117\", \"NEDD8\", \"SOCS2\", \"ALDH1B1\", \"NR1H3\", \"ERGIC1\", \"USP30-AS1\", \"GP6\", \"CLIC5\", \"TNFSF9\", \"RNF149\", \"FARSA-AS1\", \"TMPPE\", \"C5orf64\", \"PSTPIP1\", \"MAJIN\", \"NPL\", \"YWHAE\", \"GALT\", \"CD1A\", \"ARL2BP\", \"ZNF511\", \"GUCY1B1\", \"ZRANB2-DT\", \"SOCS2-AS1\", \"LPGAT1-AS1\", \"GTPBP2\", \"ALAS1\", \"TRPV2\", \"GAS2L1\", \"KLK1\", \"HNRNPLL\", \"CIC\", \"H2BC18\", \"DMAC2\", \"SERTAD3\", \"ABCG1\", \"MR1\", \"ALOX5AP\", \"LINC02367\", \"LOC101929718\", \"NFYC\", \"PIGC\", \"SLC2A9\", \"GPR162\", \"CHP1P2\", \"USP34-DT\", \"MAPK8IP2\", \"CHMP3\", \"BIK\", \"MPDU1\", \"GYG2P1\", \"GYG2P1\", \"MIS18A-AS1\", \"SAMHD1\", \"TSEN34\", \"POLR2C\", \"LRRC75B\", \"ANKRD24\", \"PSMD4\", \"POU2F2\", \"TTYH3\", \"DHCR24\", \"PGLS\", \"VAC14-AS1\", \"NDST1\", \"RIN3\", \"PIM2\", \"SPG21\", \"MYDGF\", \"PSMC1\", \"SAMSN1\", \"C3orf20\", \"HEXA-AS1\", \"CFLAR-AS1\", \"SREBF1\", \"URAHP\", \"URAHP\", \"DUSP22\", \"DRG2\", \"SMCO4\", \"DNASE2\", \"LRFN1\", \"SLC8A1\", \"AP1G2\", \"CAPN1\", \"DPP3-DT\", \"CYP2D6\", \"PLA2G10\", \"STX10\", \"LRRN1\", \"PLPP3\", \"MAZ\", \"CATSPERE\", \"RRP8\", \"SLC12A8\", \"LOC105378663\", \"LINC02608\", \"IL5RA\", \"MTHFR\", \"PSPH\", \"TCTA\", \"CLN6\", \"ORAI2\", \"PHF23\", \"WDR55\", \"ARAP1\", \"REPS2\", \"PHF12\", \"SLC34A2\", \"CTDSPL\", \"CDC20-DT\", \"KIAA1671\", \"PTX3\", \"GDPD3\", \"ACTB\", \"KIAA2013\", \"CKB\", \"NDUFA9\", \"UBA7\", \"SPP1\", \"LRRK1\", \"SCAMP2\", \"PRSS53\", \"AQP11\", \"EMB\", \"CXCR2\", \"RDM1\", \"DHX58\", \"TINF2\", \"DYRK3\", \"CTNND1\", \"GPI\", \"LOC102723566\", \"SELENON\", \"SLC14A2\", \"TDRD7\", \"CRB3\", \"TFEB\", \"OXA1L\", \"ALDOA\", \"CHFR\", \"GRIPAP1\", \"PRKAB1\", \"MAGIX\", \"CNN2\", \"IGKV1D-43\", \"ATP1A1-AS1\", \"VAMP3\", \"TRAV12-3\", \"ECI2\", \"AURKB\", \"CHTF8\", \"NUTM1\", \"CLTA\", \"WSB2\", \"CFP\", \"CISD3\", \"SLC35E4\", \"ACOT8\", \"PRKACA\", \"SLC23A3\", \"CEP250-AS1\", \"PPT2\", \"CHMP2A\", \"ECE1\", \"VANGL1\", \"LIPE-AS1\", \"LOC101930071\", \"AVPR2\", \"DENND6B\", \"NXF1\", \"SF3B4\", \"GBP4\", \"YIPF3\", \"INPP5A\", \"MISP3\", \"SH3BGRL\", \"CMTM7\", \"LAMTOR2\", \"DCTN1\", \"LINC00943\", \"ARRB2\", \"EDNRB\", \"CLDND2\", \"ZNF396\", \"ATP1A3\", \"STMP1\", \"DNASE1\", \"HSD17B12\", \"XXYLT1-AS2\", \"VWA5A\", \"DKK3\", \"STING1\", \"STK36\", \"RSPH1\", \"KDELR3\", \"SEPTIN8\", \"CMIP\", \"EMC9\", \"PPM1N\", \"TECTA\", \"USP35\", \"INHBA\", \"JAZF1\", \"PTGS1\", \"CCDC69\", \"NCR3LG1\", \"C9orf40\", \"RAB3D\", \"OGG1\", \"AKAP13\", \"LINC01547\", \"PLEKHM1P1\", \"PLEKHM1P1\", \"RAB4B\", \"SLC18A2-AS1\", \"LINC02570\", \"RILPL2\", \"EGR1\", \"TRAIP\", \"HSPA5\", \"GPR33\", \"CTDP1\", \"ATP5F1B\", \"NLRX1\", \"IFNGR1\", \"CUEDC2\", \"SAPCD2\", \"PKN1\", \"DDX41\", \"SYNGR2\", \"CKM\", \"HMGCL\", \"ITGB7\", \"TECPR1\", \"CATSPER1\", \"INPP5K\", \"TRAFD1\", \"NDUFV3\", \"LCP2\", \"PPP1R9B\", \"ESRRB\", \"PCBP1\", \"RHOF\", \"SPPL2A\", \"TRGV1\", \"FAM219B\", \"LOC651337\", \"DBNL\", \"CMTR1\", \"D2HGDH\", \"NFE2L1\", \"QRICH2\", \"ANKRD1\", \"FGD4\", \"ABR\", \"C2CD2L\", \"CDC14B\", \"ENDOG\", \"BTNL3\", \"HEMGN\", \"CCDC97\", \"GMPPB\", \"RADIL\", \"DLK1\", \"FGD3\", \"NUDT17\", \"TREX2\", \"RB1-DT\", \"SLC46A1\", \"NRIP3\", \"CCNDBP1\", \"TPM4\", \"SLC52A1\", \"SLC39A5\", \"FAM193B\", \"PARP6\", \"RFPL3S\", \"EFCAB8\", \"EPAS1\", \"SGTB\", \"FSCN1\", \"SLC66A1\", \"MYCT1\", \"RUSC1-AS1\", \"SDS\", \"KRT79\", \"ST6GAL2\", \"GPAT4\", \"COPA\", \"TOGARAM2\", \"SMTN\", \"RSKR\", \"GID4\", \"PAK1\", \"SLC27A4\", \"CPSF3\", \"GABBR1\", \"NPC2\", \"DESI1\", \"FBXL16\", \"TRBV10-3\", \"LRRC4\", \"PSMB2\", \"DDTL\", \"HDHD3\", \"PCSK6\", \"POU3F1\", \"CAPZB\", \"C21orf58\", \"REEP2\", \"CYP26C1\", \"TOX2\", \"UNC93B1\", \"GRK2\", \"COMMD9\", \"SYT11\", \"LINC00243\", \"NECTIN3\", \"CRYBB3\", \"DEPDC1\", \"TOX4\", \"WDR25\", \"FBXW10\", \"SNX17\", \"HSPBP1\", \"NAIF1\", \"ZNF653\", \"NLGN4Y\", \"PGM2\", \"RNF167\", \"SLC2A1\", \"LRRC57\", \"MAP4K1\", \"ERMN\", \"CALB1\", \"SLC4A10\", \"SLC29A3\", \"G6PD\", \"ZNF483\", \"MAP1LC3B\", \"CCT5\", \"ERP27\", \"DHDDS\", \"PPIF\", \"ATP11A-AS1\", \"ZSCAN21\", \"ZNF670\", \"ADAR\", \"SNORD8\", \"COPG2\", \"CDRT4\", \"DPAGT1\", \"TMEM200B\", \"TBC1D10B\", \"SKP1\", \"SRI\", \"L3MBTL2\", \"VIM\", \"ARHGAP26\", \"MZT2B\", \"MYPOP\", \"CRYGS\", \"MSX2P1\", \"LTBP2\", \"GGCX\", \"TNFSF10\", \"TASL\", \"ACO1\", \"ATF7\", \"PYHIN1\", \"RFC2\", \"SSPOP\", \"STAT3\", \"GALNT2\", \"PXYLP1\", \"SLC6A6\", \"ANKRD13D\", \"PHKA2-AS1\", \"NT5DC2\", \"EMP3\", \"VPS39\", \"OSBPL9\", \"UCK2\", \"SMUG1\", \"PINLYP\", \"FAM110A\", \"SNRPA\", \"POR\", \"WDR13\", \"TBC1D9B\", \"SYNE3\", \"P2RX4\", \"PANK2\", \"TBC1D27P\", \"GSR\", \"GUCD1\", \"SLC22A17\", \"PIWIL2\", \"DENND4B\", \"PTPA\", \"DPP3\", \"LINC02185\", \"FLT3LG\", \"CDK11B\", \"PEMT\", \"AMT\", \"CDC42EP4\", \"RTN3\", \"NBPF1\", \"TRIM73\", \"DNAH12\", \"SMC1B\", \"TMEM138\", \"LINC01881\", \"COPB2-DT\", \"MEAK7\", \"RNH1\", \"NAV3\", \"ARF3\", \"TBCD\", \"RPUSD1\", \"NUDT16L2P\", \"LINC01783\", \"PAFAH1B3\", \"CAMKK1\", \"BGLAP\", \"DHDH\", \"ARF5\", \"UNC119\", \"ZNF384\", \"PSMB8\", \"DCAF4L1\", \"NSFL1C\", \"RASSF1\", \"ATAT1\", \"DALRD3\", \"ALOX15B\", \"ODC1\", \"HCCS\", \"A1BG-AS1\", \"ALYREF\", \"NR1H2\", \"SRD5A1\", \"LRRC8B\", \"ZNF276\", \"FYCO1\", \"SLC43A1\", \"PYCARD-AS1\", \"RAB7A\", \"OTX1\", \"CACNA1C-AS2\", \"RCN3\", \"HGS\", \"MAP3K3\", \"HEXD\", \"NDUFB10\", \"GTDC1\", \"ARHGDIB\", \"KCNH3\", \"ANO9\", \"LOC105376713\", \"IRF1-AS1\", \"SRGAP2\", \"DCTN2\", \"MUC12\", \"CSK\", \"TBX21\", \"GYPE\", \"SLC24A3-AS1\", \"CCDC88B\", \"RABL2A\", \"TTF2\", \"SNORA66\", \"CCNI2\", \"MTMR3\", \"RNF175\", \"S1PR2\", \"NEU3\", \"PRSS21\", \"B3GALT4\", \"PC\", \"TAPBP\", \"WASF2\", \"ASB16-AS1\", \"PRICKLE3\", \"GOLGA1\", \"CCS\", \"ABHD4\", \"PIEZO1\", \"SMAGP\", \"MTMR14\", \"ARHGAP10\", \"ACTL9\", \"SCN11A\", \"FHL3\", \"ATXN1\", \"SMAP1\", \"RLBP1\", \"PTGIR\", \"FLVCR1-DT\", \"CTNNBL1\", \"TTC31\", \"PTCD1\", \"METTL14-DT\", \"GNAS\", \"MPZ\", \"NABP2\", \"SLC22A23\", \"CD244\", \"RBM5-AS1\", \"C14orf119\", \"CD63-AS1\", \"ACTC1\", \"PIAS3\", \"SIAE\", \"KIF23\", \"AGRN\", \"PEA15\", \"CDYL2\", \"CAPN3\", \"HEIH\", \"EIF4E2\", \"SHC1\", \"CLDN9\", \"NBPF19\", \"ESR1\", \"IRF2\", \"ST3GAL6\", \"ZNF815P\", \"RTN4\", \"BHLHE40\", \"DQX1\", \"PICALM\", \"GCNA\", \"FOXD2-AS1\", \"IL18BP\", \"TRIM62\", \"KLC1\", \"PLAT\", \"PCBP2\", \"NALT1\", \"PLEKHS1\", \"MBOAT7\", \"IFT27\", \"RUNDC3B\", \"TRBJ1-6\", \"MYG1-AS1\", \"GGA1\", \"ARMH2\", \"CIZ1\", \"EME2\", \"RAB3A\", \"ARHGAP30\", \"TMEM9\", \"PPAN\", \"PITPNA\", \"TFPI\", \"ARL3\", \"DCUN1D3\", \"YIF1B\", \"EIF4H\", \"NUP62\", \"DRD4\", \"CEP85\", \"AP3D1\", \"HS1BP3\", \"LINC02774\", \"BABAM2\", \"CAPS\", \"GSDMD\", \"AGAP2\", \"ASB16\", \"COPB2\", \"HPSE\", \"UNC13D\", \"ANKDD1B\", \"LITAF\", \"CNPY3\", \"RINL\", \"KIF13A\", \"MANBAL\", \"HDLBP\", \"HFM1\", \"CAPN15\", \"LINC01474\", \"PSMB9\", \"BRF2\", \"SNRNP35\", \"EML2\", \"PDGFA-DT\", \"SLFN11\", \"SENP8\", \"KMT5A\", \"CCR5AS\", \"CARD19\", \"EVI2B\", \"GSTO1\", \"WDR6\", \"IFT122\", \"NUDT5\", \"B3GNTL1\", \"BIN3\", \"FKBP9\", \"GGT1\", \"PSMD8\", \"FAM86HP\", \"FAM86HP\", \"MAMSTR\", \"TTC1\", \"NOS2\", \"ZNF691\", \"SCN5A\", \"C19orf47\", \"ACVR1B\", \"IGHD6-13\", \"GCNT2\", \"GJB5\", \"ATP6V1C2\", \"M6PR\", \"ANAPC5\", \"LRP1-AS\", \"DGKZ\", \"NFKBIA\", \"MIR4632\", \"TRAV17\", \"LY86\", \"HADHB\", \"SRF\", \"B9D2\", \"CPT2\", \"KCNE1\", \"LINC00467\", \"LENG8\", \"SLC35F6\", \"MFSD12\", \"SUOX\", \"GEN1\", \"PFDN1\", \"MAP6D1\", \"TMED8\", \"TMX4-AS1\", \"ALKBH3-AS1\", \"NAA60\", \"YIF1A\", \"SART1\", \"TFB1M\", \"KRTAP29-1\", \"GRPEL1\", \"ITSN2\", \"DECR1\", \"ARID3A\", \"SSC4D\", \"TAF1C\", \"ZMYND10\", \"LINC01963\", \"FAM118B\", \"COQ8B\", \"DHRS1\", \"FOXD4\", \"MEGF11\", \"RCN1\", \"SGCB\", \"KCTD2\", \"IGKV2-29\", \"SIGIRR\", \"LOC100506606\", \"HPS3\", \"PRR22\", \"EOLA1-DT\", \"GGA3\", \"ACSBG2\", \"ITPKC\", \"JAK2\", \"UPK3B\", \"HELLS\", \"PLK4\", \"PMS2CL\", \"UQCRC1\", \"ERLIN2\", \"STRN4\", \"LILRA2\", \"LOC730098\", \"TSACC\", \"SRPK3\", \"SERPINB6\", \"NEFM\", \"TPI1\", \"LOC653653\", \"EWSR1\", \"SIRT7\", \"CRELD2\", \"TRIM26\", \"FLNA\", \"ZFAND3\", \"ZNF611\", \"ARF4\", \"RAB29\", \"ICAM2\", \"STXBP1\", \"MPV17\", \"MIR381HG\", \"MEG9\", \"COL6A2\", \"VOPP1\", \"TESK2\", \"HCLS1\", \"IL18\", \"ZNF185\", \"LDC1P\", \"HPX\", \"EXOC6\", \"ZC3H3\", \"ERFL\", \"JOSD2\", \"PRKAR1B-AS1\", \"MCMBP\", \"ERCC2\", \"UBE2L3\", \"OGDH\", \"FBLIM1\", \"PIK3R5\", \"ARF1\", \"UHRF1\", \"RFX8\", \"NTPCR\", \"PIGBOS1\", \"MAP3K13\", \"DTX3L\", \"BRSK1\", \"VSIG10\", \"MET\", \"RFXANK\", \"TNFSF13B\", \"IL21R-AS1\", \"ICAM3\", \"FAM200B\", \"ASB1\", \"PHTF1\", \"GEMIN7-AS1\", \"CLK3\", \"MBOAT1\", \"VIPAS39\", \"JPT2\", \"PPP1R11\", \"C17orf107\", \"TXNRD1\", \"KIF1B\", \"POLR3K\", \"PPME1\", \"E2F4\", \"NISCH\", \"FAM215A\", \"LINC00641\", \"APOL2\", \"REL\", \"CHID1\", \"PIAS1\", \"NRBP1\", \"TRIM47\", \"NOP56\", \"LOC100129138\", \"NPLOC4\", \"PREB\", \"STK11IP\", \"LOC101928517\", \"FRMPD3\", \"RALY\", \"PDK3\", \"TRIB3\", \"C2orf74\", \"DCAF4\", \"TTC38\", \"PROSER3\", \"PSMD5\", \"MIR616\", \"NUDT22\", \"TEX261\", \"MYL12-AS1\", \"TNNI3\", \"SPDYA\", \"CTTNBP2NL\", \"GPR17\", \"TMEM199\", \"HIF1AN\", \"HTRA2\", \"SLC1A4\", \"TNFRSF10A\", \"MBD3\", \"ENG\", \"MNDA\", \"WDR62\", \"MSTO2P\", \"COG4\", \"TRIM41\", \"CCDC47\", \"TBC1D22B\", \"PACSIN2\", \"C1QTNF12\", \"OSBPL7\", \"SLC22A5\", \"LINC00664\", \"FLII\", \"TUBGCP2\", \"LINC02595\", \"DLG5\", \"PPP6R1\", \"AGO1\", \"COPG1\", \"COASY\", \"CAMK2G\", \"ATP6V1B2\", \"EIF1B-AS1\", \"SLC16A13\", \"RORC\", \"LINC00161\", \"DHCR7\", \"NAA10\", \"LAT2\", \"CLDN3\", \"BTK\", \"TONSL\", \"INTS12\", \"IRF3\", \"KRT74\", \"FBXO38\", \"PHPT1\", \"CD1D\", \"SYP\", \"SP2-DT\", \"LOC105374989\", \"CALHM2\", \"DCTN3\", \"CCDC42\", \"SOWAHD\", \"TMEM165\", \"LOC105372321\", \"ZC3H12C\", \"KLHL18\", \"ZNF646\", \"SLC11A2\", \"TRAV29DV5\", \"RBM4\", \"CCNK\", \"RNF32-DT\", \"CYB561D2\", \"SNRPB\", \"ZFYVE19\", \"GALE\", \"MRTFA\", \"C17orf49\", \"JMJD8\", \"CCDC137\", \"GP1BA\", \"ANKFY1\", \"TPCN1\", \"SURF4\", \"OR3A2\", \"CASC11\", \"SUGP2\", \"PPDPF\", \"EIF2B1\", \"GMDS\", \"COLQ\", \"SLC37A2\", \"CBL\", \"TRAJ54\", \"CACTIN\", \"SLC4A2\", \"TLR8\", \"ZNF282\", \"CORO1A\", \"ZBTB45\", \"FEM1A\", \"HAS3\", \"BCAT2\", \"KLF4\", \"LGR6\", \"KCNK6\", \"LMAN2\", \"APRG1\", \"ACTL6A\", \"RELA\", \"AP2A1\", \"GTF2H2C\", \"RAPSN\", \"ECH1\", \"FITM1\", \"ZNF335\", \"TMEM120B\", \"SIRT6\", \"EMC10\", \"NDUFA11\", \"POLR2F\", \"MARVELD2\", \"CAPN12\", \"DHX34\", \"ZNF890P\", \"ZNF890P\", \"SCAND1\", \"RNPEPL1\", \"RXRA\", \"FRG1BP\", \"DEUP1\", \"SH3BP5L\", \"SHB\", \"VSIR\", \"TREML2\", \"RRS1\", \"LYN\", \"NHP2\", \"UBC\", \"IL13\", \"PSME2\", \"SHTN1\", \"CDK3\", \"VAC14\", \"ACTG1P17\", \"MIR199A1\", \"JOSD1\", \"FAM85B\", \"PITRM1\", \"SPATA20\", \"NRAV\", \"TPT1-AS1\", \"LPAR1\", \"HOXB4\", \"LTBP4\", \"GMPPA\", \"NPRL3\", \"EBF3\", \"OPRD1\", \"TRAF1\", \"RAB19\", \"STX5\", \"MAP2K2\", \"CALHM1\", \"HDAC6\", \"SLC26A11\", \"MCM3AP\", \"KCNT1\", \"ATP5MC1\", \"FLT4\", \"PEX11G\", \"BCORL1\", \"HIPK1-AS1\", \"TRBV24-1\", \"RAB39A\", \"NECTIN1\", \"PHLDA2\", \"RNF26\", \"SYNGR1\", \"TOR2A\", \"TMEM127\", \"DEDD2\", \"C14orf93\", \"MARVELD1\", \"CCDC134\", \"INTS4P2\", \"TRIM16\", \"VPS35L\", \"LRSAM1\", \"AKR7A2\", \"SMC5-DT\", \"GP9\", \"EZH2\", \"IGKV3-11\", \"TMCO4\", \"GBA2\", \"OLMALINC\", \"MPG\", \"RNU4-2\", \"GSTP1\", \"TMC1\", \"IMPA2\", \"EML3\", \"RUVBL1\", \"DDB2\", \"ATP5PD\", \"LRRC70\", \"OSGEP\", \"IGHV3-71\", \"ZNF142\", \"MAX\", \"IRX3\", \"AKR1A1\", \"ARHGAP1\", \"PDHB\", \"AGTPBP1\", \"LINC00638\", \"FZD2\", \"PTK6\", \"BTN3A3\", \"MYO15B\", \"ERI3\", \"EIF4A3\", \"GINS1\", \"ERVMER34-1\", \"C20orf204\", \"TM6SF1\", \"SLC19A1\", \"MAP3K11\", \"SAG\", \"OTUB1\", \"PBX2\", \"PLD6\", \"KLLN\", \"STAG3L2\", \"ABHD1\", \"SUPT20H\", \"ADIPOR2\", \"PKNOX1\", \"MAPKBP1\", \"VPS18\", \"SLC35B1\", \"FUT3\", \"USP22\", \"E2F8\", \"IGLV3-24\", \"COG7\", \"NMT1\", \"LINC00945\", \"PMM1\", \"TMED9\", \"NUTF2\", \"PDGFB\", \"TBC1D25\", \"H2AJ\", \"SSH1\", \"SIRT2\", \"RMC1\", \"RAC1\", \"PLCD3\", \"NPIPB4\", \"CD53\", \"UBE2H\", \"PSME1\", \"CDKN1A\", \"UNK\", \"TPP1\", \"SRR\", \"CLEC7A\", \"RERE\", \"GABARAPL2\", \"INO80B\", \"KCTD12\", \"ARAP3\", \"DLG3\", \"LRRC14\", \"SLC31A2\", \"TCAIM\", \"CLP1\", \"COMMD7\", \"AFMID\", \"ASB6\", \"SUN2\", \"BLOC1S3\", \"MOCS2-DT\", \"RUVBL1-AS1\", \"HS6ST1\", \"EHBP1-AS1\", \"PMVK\", \"SNX1\", \"PSRC1\", \"GREP1\", \"TRIM17\", \"AGO4\", \"NFIC\", \"MED15\", \"PRDX6-AS1\", \"TMEM50A\", \"JDP2-AS1\", \"APOL6\", \"ALOX12\", \"SPOCD1\", \"UBE2R2\", \"KIAA0319L\", \"DPY19L3\", \"NDUFS2\", \"RHBDF1\", \"CCDC154\", \"EFCAB6-DT\", \"MAFTRR\", \"TYK2\", \"PRRT3-AS1\", \"CD300LF\", \"USP54\", \"SLC27A3\", \"KCMF1\", \"PHF24\", \"TRBV6-5\", \"PPIP5K1\", \"PSMD11\", \"ADM5\", \"SPINT2\", \"RECQL5\", \"RGL2\", \"DPP9\", \"HYAL3\", \"DBNDD2\", \"LINC01422\", \"HEATR6\", \"SLC43A2\", \"MCAT\", \"GASK1B-AS1\", \"MIA2\", \"SNTB2\", \"OPRL1\", \"HLA-F\", \"WARS2\", \"TSTD2\", \"RUSC1\", \"TAFAZZIN\", \"KATNIP\", \"ANXA11\", \"ASIC3\", \"NYAP1\", \"MED12L\", \"ARAF\", \"PHKA2\", \"MUC6\", \"MMP24OS\", \"TRAF7\", \"MPEG1\", \"MAPK11\", \"TSFM\", \"ACRBP\", \"GARS1\", \"PRDX5\", \"PNPT1\", \"ALG9\", \"BAP1\", \"RUBCN\", \"LAMTOR5\", \"PITHD1\", \"VARS2\", \"CCDC57\", \"CCDC71\", \"PELI3\", \"TMEM167B-DT\", \"MINK1\", \"LEPR\", \"SLC20A1\", \"LOC100131496\", \"VPS26C\", \"MRM2\", \"GRHL3-AS1\", \"HNRNPUL2-BSCL2\", \"SNORA75\", \"CD320\", \"ACAD10\", \"ACTA2-AS1\", \"ZNF697\", \"HCN3\", \"ZNF114\", \"PCBP4\", \"CELSR2\", \"DNAAF1\", \"APOBEC3D\", \"ARHGEF6\", \"FCGR3A\", \"MOSPD3\", \"PARP4\", \"NTRK1\", \"BORCS5\", \"PDZD11\", \"IQCC\", \"RNF19B\", \"MIR4688\", \"SIGMAR1\", \"LRRC45\", \"IDH2\", \"FAM72D\", \"CANT1\", \"LMAN2L\", \"MIR3125\", \"TMEM97\", \"DEF8\", \"DCTN5\", \"TTLL2\", \"WNT4\", \"RNF113A\", \"IDH3A\", \"PTGES3L\", \"RNF214\", \"RBM19\", \"ULK3\", \"PLEKHM1\", \"BANF1\", \"EMC7\", \"IRF1\", \"MRPL4\", \"GLB1L\", \"KMT2D\", \"TRIM52-AS1\", \"RXRB\", \"RFNG\", \"SAP30BP\", \"CCDC28B\", \"CD2BP2\", \"LINC01841\", \"FAM89A\", \"TPMT\", \"GM2A\", \"AP2B1\", \"FBXL6\", \"TRAF6\", \"CWF19L1\", \"HPCAL1\", \"CDK2AP2\", \"RECQL4\", \"PI4KAP2\", \"RASAL3\", \"DNAJC27-AS1\", \"ACTN4\", \"EDN1\", \"TONSL-AS1\", \"TMEM115\", \"TEX53\", \"SYTL1\", \"NSMAF\", \"ALG12\", \"ASH2L\", \"LRFN4\", \"LYSMD4\", \"AATBC\", \"CDCA8\", \"CLCN6\", \"EFCAB10\", \"CNIH2\", \"RGS14\", \"PIK3CD\", \"IL13RA1\", \"ANAPC11\", \"AKAP8L\", \"RSU1\", \"BRCA1\", \"NR2C2AP\", \"RNF126\", \"SLC39A7\", \"CRIP2\", \"CD1E\", \"LOC105371083\", \"RAB10\", \"C12orf75\", \"MINAR1\", \"CC2D1A\", \"GCNT3\", \"GTSE1-DT\", \"SAMM50\", \"ATP6V1G2\", \"ABITRAM\", \"ALOX12-AS1\", \"TRGV10\", \"SLC24A4\", \"CLEC4A\", \"PIGS\", \"SPINDOC\", \"CFAP298\", \"GOLGA6L4\", \"ARHGAP9\", \"RGSL1\", \"RCC1\", \"PPCDC\", \"DENND1C\", \"PRKCZ\", \"ISG20L2\", \"HNRNPF\", \"DPYD\", \"HSD17B10\", \"AQP8\", \"HDAC3\", \"ATP13A1\", \"CBX6\", \"EPN1\", \"PTTG1\", \"GCC1\", \"IDH3G\", \"CDPF1\", \"LOC105371414\", \"ADA\", \"ID1\", \"SCRN3\", \"ELOVL7\", \"TSG101\", \"SNORD1B\", \"PPP1CA\", \"DRAP1\", \"MTA2\", \"S100A13\", \"WDCP\", \"ELMOD3\", \"CABLES2\", \"AUNIP\", \"MAP2K7\", \"TICAM1\", \"TNFRSF10D\", \"CYLD-AS1\", \"MIR6069\", \"PEX10\", \"STARD7-AS1\", \"CTSZ\", \"PSMD6-AS2\", \"FBXL19\", \"SNAPIN\", \"LIG3\", \"ADGRG1\", \"PRKAG1\", \"SMIM35\", \"USF1\", \"DOT1L\", \"JHY\", \"SRGAP2B\", \"ZBTB48\", \"IPPK\", \"SNUPN\", \"H6PD\", \"NUB1\", \"LOC100506551\", \"POLH\", \"COX5A\", \"IFFO1\", \"HOXA1\", \"RRP36\", \"VMAC\", \"SLC35A4\", \"MGAT1\", \"NAGPA\", \"CLIP2\", \"GLI4\", \"METTL3\", \"GALNT6\", \"NRBP2\", \"IK\", \"RNPEP\", \"APEH\", \"ARHGEF2\", \"NARF-AS2\", \"PHKG1\", \"ENTPD1\", \"CTBP2\", \"MAML3\", \"MASP2\", \"BAX\", \"EYA3\", \"GPR107\", \"ZNF300\", \"PTGER2\", \"C5AR2\", \"CALM1\", \"GNG8\", \"PGAP6\", \"SLC12A6\", \"ECE2\", \"MICOS10\", \"ST3GAL5-AS1\", \"DDX49\", \"LINC01393\", \"AVIL\", \"INTS9\", \"ATOX1\", \"ANKH\", \"NME6\", \"TRAPPC12\", \"MGAT4B\", \"DDOST\", \"CNBD2\", \"CTDSP1\", \"RASGEF1A\", \"SUGT1P1\", \"OCEL1\", \"C6orf47\", \"MIR646HG\", \"LOC729296\", \"PGGHG\", \"MAST2\", \"FZR1\", \"KATNBL1\", \"TRAV22\", \"DAD1\", \"ARHGAP23\", \"SRCAP\", \"PSAP\", \"DCTPP1\", \"TRIOBP\", \"ABHD2\", \"NDUFV2\", \"CCR3\", \"LINC01962\", \"CDH26\", \"AGAP9\", \"TOMM34\", \"TTLL12\", \"NRL\", \"RNF20\", \"PRR14L\", \"EEF1A2\", \"CLK2\", \"BTN3A2\", \"NFE2L1-DT\", \"CROCCP2\", \"CROCCP2\", \"BRMS1\", \"NSMF\", \"SDAD1\", \"PCSK7\", \"GYS1\", \"CAMK1D\", \"PINK1-AS\", \"TPI1P2\", \"LINC01485\", \"PASK\", \"TBC1D10A\", \"TNFAIP1\", \"RNF130\", \"MIR7848\", \"PSMD2\", \"PPFIA1\", \"ASB8\", \"ZNF692\", \"IDUA\", \"WDR41\", \"KLF16\", \"RBM10\", \"HIF3A\", \"TBCB\", \"FAM167B\", \"FAM50B\", \"SDCBP\", \"PPP4C\", \"CENPS\", \"UFD1\", \"ATP13A2\", \"KIF9\", \"MIR3183\", \"LINC00908\", \"LINC00683\", \"CALM3\", \"MZF1\", \"AMN1\", \"ALG3\", \"CS\", \"FCSK\", \"LEMD2\", \"PPM1F-AS1\", \"PSME3IP1\", \"RAB40C\", \"CAPRIN2\", \"EPX\", \"SDHAP4\", \"SDHAP4\", \"SNX21\", \"GLB1\", \"RPUSD3\", \"SIRT3\", \"LINC02863\", \"EIF4ENIF1\", \"POMT2\", \"AXL\", \"LINC00426\", \"RBBP5\", \"ANO8\", \"MIR4645\", \"RWDD2B\", \"KCNN4\", \"ST14\", \"TRAV36DV7\", \"CHST7\", \"PPIL2\", \"ADAT3\", \"BRIP1\", \"H1-7\", \"DGCR8\", \"CASP16P\", \"RGP1\", \"ZNF446\", \"SLC16A8\", \"SNX11\", \"ASAP2\", \"SLC37A4\", \"POP4\", \"NFKB1\", \"ASPH\", \"IGHV3-74\", \"LPCAT4\", \"DCTD\", \"SCYL1\", \"WRAP73\", \"COL1A1\", \"CYP51A1\", \"IFIT5\", \"SEPTIN1\", \"MAPK10\", \"CREB3\", \"RHOXF1P1\", \"RHOXF1P1\", \"DVL3\", \"BMP8B\", \"UBR7\", \"CLTB\", \"AKT2\", \"VPS4A\", \"LMBR1L\", \"ALKBH6\", \"STK10\", \"GNAI3\", \"FUS\", \"ANKRD39\", \"PLPPR3\", \"TMLHE-AS1\", \"GDPGP1\", \"CHMP6\", \"DAZAP1\", \"TUBB\", \"RNF41\", \"RAB1A\", \"TNFRSF14\", \"SEC24C\", \"CNGA4\", \"TXNL4B\", \"NCBP3\", \"MALSU1\", \"LINC01237\", \"JAGN1\", \"FAN1\", \"BRK1\", \"ASTL\", \"SMG9\", \"RAE1\", \"KPNA6\", \"PARD6G\", \"EXOC3L1\", \"GSS\", \"COG5\", \"MRI1\", \"GART\", \"RPS6KC1\", \"GLYCTK\", \"ELP4\", \"ABI3\", \"DGCR11\", \"SMARCC2\", \"FAM118A\", \"LSP1\", \"TIGAR\", \"PRPF31\", \"TRIM16L\", \"TRIM16L\", \"URM1\", \"ITGA10\", \"NUDT3\", \"CHEK1\", \"PILRA\", \"RAB41\", \"CICP24\", \"PLPBP\", \"AGFG1\", \"NDEL1\", \"MAP1S\", \"ACTN1\", \"FYB1\", \"SIPA1\", \"TATDN2\", \"SLC45A1\", \"RAD54B\", \"LETM1\", \"MAD2L1-DT\", \"ZNF410\", \"NINJ1\", \"FEM1C\", \"HNRNPAB\", \"ANKHD1\", \"THUMPD3\", \"INO80E\", \"FHIP2B\", \"FBXL8\", \"HOOK2\", \"DAXX\", \"PHF19\", \"IGHD3-9\", \"PTPN1\", \"CENATAC\", \"RHBDD3\", \"COQ4\", \"QDPR\", \"FLAD1\", \"NTN5\", \"VASH1\", \"RIC8A\", \"BCS1L\", \"TKFC\", \"PATL1\", \"KIRREL3\", \"IGKV1-6\", \"TRIM3\", \"CTU2\", \"PIP5KL1\", \"CCDC125\", \"DSCAML1\", \"MS4A14\", \"MSS51\", \"MRPL20\", \"FAHD2B\", \"TRAV21\", \"EPHX4\", \"PHLDB1\", \"LINC01504\", \"SLC3A2\", \"FBXO41\", \"ACBD5\", \"SUFU\", \"MLLT6\", \"NAP1L5\", \"RHOA\", \"MIR3677HG\", \"H3P6\", \"PPP1R7\", \"PLEKHJ1\", \"AGBL5\", \"MACORIS\", \"C2orf92\", \"PIGT\", \"AOAH\", \"SNHG25\", \"BRD9\", \"CYC1\", \"NUDT7\", \"CC2D1B\", \"PEF1\", \"CTC1\", \"TGM4\", \"LAMB2\", \"TRG-AS1\", \"PLOD3\", \"FCGRT\", \"RANBP9\", \"ANKRD50\", \"CHRDL2\", \"MAN1B1\", \"HSD17B7\", \"MIR3939\", \"FAM120AOS\", \"SMIM26\", \"XRN1\", \"FBXO9\", \"TNXA\", \"KHDC1\", \"KCTD5\", \"KIF26A-DT\", \"PTPN23\", \"RNF216-IT1\", \"TSNAXIP1\", \"MAST1\", \"PSMD1\", \"VPS25\", \"NDUFA10\", \"TACO1\", \"JAG1\", \"UROC1\", \"VRK2\", \"KCTD13\", \"FAM219A\", \"NAPSA\", \"MAP3K14\", \"SPHK1\", \"POLDIP2\", \"TRBV13\", \"IL18R1\", \"C4orf48\", \"STXBP5-AS1\", \"TRAF3IP3\", \"TLE6\", \"PSMB8-AS1\", \"IGLV1-47\", \"TREML4\", \"VPS16\", \"HGF\", \"ZNF557\", \"TCEAL4\", \"ATXN7L3\", \"MPST\", \"KDM2A\", \"SEC24D\", \"SOGA1\", \"ZC3H18\", \"MCU\", \"CNP\", \"BAIAP2L1\", \"EOLA1\", \"UBR4\", \"PZP\", \"IFT172\", \"PCDH12\", \"OTULINL\", \"ZNF839\", \"FNDC9\", \"LRP11\", \"ERP44\", \"AAGAB\", \"DOCK8\", \"MFSD5\", \"KIF22\", \"TAF6\", \"NLRP1\", \"LRP8-DT\", \"P2RX7\", \"CCDC77\", \"MTSS2\", \"GZF1\", \"USP32\", \"GPKOW\", \"MED28\", \"SLC27A1\", \"AKNA\", \"DAGLB\", \"UICLM\", \"MRPL37\", \"TAF10\", \"CASP7\", \"ABCC3\", \"CCDC88C\", \"PECAM1\", \"NCDN\", \"OLFML3\", \"RIBC1\", \"NQO1\", \"ARMC7\", \"EIF1AD\", \"MAU2\", \"CCER2\", \"TSSK3\", \"EMC4\", \"DNAJB12\", \"MAP4K4\", \"TMBIM6\", \"B9D1\", \"MED24\", \"TNFAIP3\", \"RABGGTA\", \"MTIF2\", \"STK16\", \"KLRG1\", \"SFXN3\", \"IL12RB2\", \"KMT2B\", \"ADAM19\", \"RPN2\", \"SRC\", \"PSMC4\", \"PLCD4\", \"NACC1\", \"UNC45B\", \"CMBL\", \"LCN12\", \"WWC3\", \"SNX18\", \"LRRC4B\", \"MYO19\", \"GPBAR1\", \"HELB\", \"MAEA\", \"CSAD\", \"TBC1D20\", \"MVB12A\", \"IGHV4-39\", \"KIF21B\", \"DTD1\", \"ATP1B3\", \"DNAJC11\", \"DAB2\", \"MIF4GD\", \"C2CD2\", \"ZBTB17\", \"CRTAP\", \"DIPK1B\", \"RPS6KB2\", \"ARL2\", \"MPI\", \"CASP9\", \"VPS26B\", \"CNOT3\", \"SNN\", \"GDI1\", \"TFAP2E-AS1\", \"STARD8\", \"PLEKHB2\", \"LINC00324\", \"CTBP1\", \"SLC4A8\", \"FASLG\", \"ZNRF1\", \"NFE2L2\", \"RIPK1\", \"CNEP1R1\", \"UVRAG-DT\", \"SORL1-AS1\", \"AK2\", \"MARK2\", \"PMEL\", \"THOP1\", \"SPTLC2\", \"ZNF362\", \"COLEC11\", \"OGFOD3\", \"GAPDH-DT\", \"AREL1\", \"WDR45B\", \"POPDC2\", \"COMT\", \"TRGV3\", \"TMC8\", \"ZNF76\", \"TBL2\", \"FRAT2\", \"RHOQ\", \"CPNE1\", \"DENND2A\", \"SLC35C2\", \"WDR1\", \"CTU1\", \"FAM3D\", \"ZNF266\", \"MUC1\", \"OAT\", \"HSF1\", \"MXD1\", \"LOC101929021\", \"WDR73\", \"FAM86B1\", \"MRPS15\", \"LINC00863\", \"LMO4\", \"TTC22\", \"POLR1C\", \"FOXO3\", \"TTN-AS1\", \"LOC101927055\", \"SMN2\", \"HSD17B3\", \"XPNPEP1\", \"SMIM15-AS1\", \"GNPNAT1\", \"SNHG28\", \"PREX1\", \"WDR91\", \"APPL2\", \"SRRT\", \"DDX39B\", \"POTEF\", \"CSTF1\", \"TRBJ1-3\", \"LIM2\", \"ATP6V0A1\", \"TMEM229B\", \"LINC02362\", \"MARCHF5\", \"FIBP\", \"C4orf3\", \"CCDC127\", \"CCIN\", \"LRRK2\", \"THOC6\", \"NR5A1\", \"EDC4\", \"ESR2\", \"SUGP1\", \"TXNDC11\", \"IL10RA\", \"SLC25A3\", \"RER1\", \"RIT1\", \"INSR\", \"ZNF33BP1\", \"OXSR1\", \"SAMD4B\", \"SMARCD2\", \"FBH1\", \"GDPD5\", \"AATF\", \"MSRA\", \"CAV1\", \"CCDC180\", \"KLC4-AS1\", \"TNPO3\", \"CLASP1\", \"BET1L\", \"GLRX\", \"PANK4\", \"ZNF774\", \"SNAPC2\", \"HCFC1R1\", \"GPANK1\", \"CYREN\", \"PIP4P2\", \"EIF2B4\", \"TPTE2P5\", \"TRNAU1AP\", \"MST1P2\", \"TMEM198B\", \"SYN3\", \"NFIA\", \"UIMC1\", \"TTL\", \"SERAC1\", \"CORO1B\", \"SH3KBP1\", \"TNRC18\", \"STARD3\", \"CTBS\", \"CDK15\", \"ZNF503\", \"ENTPD6\", \"KAT5\", \"H2BC6\", \"LINC02035\", \"IFNAR2\", \"LPXN\", \"SHPK\", \"CYP4F22\", \"MED29\", \"H4C9\", \"TMEM183A\", \"MYH7B\", \"ENTPD1-AS1\", \"ZNHIT1\", \"TOR3A\", \"PSMD13\", \"PGP\", \"MOB3A\", \"ILRUN\", \"RHBDD2\", \"PES1\", \"YJU2\", \"SEC22B4P\", \"TRIM5\", \"MED9\", \"CUL9\", \"SEC61A1\", \"NPEPPS\", \"MZF1-AS1\", \"HMGA1\", \"YIPF2\", \"VRK3\", \"STK11\", \"IGLC3\", \"SANBR\", \"ADGRG5\", \"WEE2-AS1\", \"PRSS41\", \"SMIM12\", \"PSMD12\", \"SSU72\", \"AKAP12\", \"LCMT1\", \"SP1\", \"SLC35E1\", \"GRK3\", \"TBX19\", \"P2RY13\", \"APOL3\", \"TMEM236\", \"AP5S1\", \"TUT7\", \"CEACAM21\", \"RPP25L\", \"ATP6V0B\", \"ZFAND2A-DT\", \"HARS2\", \"LCAT\", \"PSMG3-AS1\", \"ATG4D\", \"MYG1\", \"STOML2\", \"KPNA2\", \"FNTB\", \"ACAP3\", \"GALNT10\", \"CHD8\", \"RFT1\", \"KIFC2\", \"MKNK2\", \"SNHG31\", \"AUP1\", \"CRMA\", \"MYRF\", \"PRDX6\", \"MADCAM1\", \"MED12\", \"BCL10\", \"CDK16\", \"WASHC5\", \"RRBP1\", \"FAHD2A\", \"ECHDC2\", \"VLDLR\", \"ELL\", \"ZNF526\", \"STX1A\", \"LDAH\", \"TRAV5\", \"SPAG8\", \"SARM1\", \"CAMSAP1-DT\", \"LENG1\", \"RNF157\", \"IGHV3-69-1\", \"ARL17B\", \"SCNN1A\", \"SLFN13\", \"OAF\", \"OLFML1\", \"COL10A1\", \"SAT2\", \"C2orf68\", \"CIB1\", \"ZFYVE1\", \"ANKLE1\", \"PIK3R3\", \"ARL15\", \"POLR2A\", \"UBE2M\", \"PTH2R\", \"ARHGAP6\", \"RHBDL1\", \"RABL6\", \"ZNF445\", \"COPZ1\", \"KAT8\", \"MAT2A\", \"ADORA2B\", \"KLC4\", \"MTARC1\", \"SHMT1\", \"GAPVD1\", \"SLC39A13\", \"GPATCH4\", \"SH3BP5\", \"PPP4R1\", \"ITGA5\", \"BCAP31\", \"SNRPC\", \"C11orf21\", \"MME\", \"NTMT1\", \"ACOT13\", \"WASH3P\", \"CXCR3\", \"FGFRL1\", \"GRK6P1\", \"ST3GAL1\", \"VDAC1\", \"TRAV8-1\", \"DNTT\", \"ZNF689\", \"C1orf43\", \"KIRREL2\", \"NPIPB11\", \"USF2\", \"EFTUD2\", \"LEAP2\", \"UAP1L1\", \"MAP3K8\", \"HTT\", \"ATXN2L\", \"PLEKHM2\", \"AHCY\", \"ATPAF2\", \"SUMF1\", \"LOC100130207\", \"MLYCD\", \"LAS1L\", \"IMP3\", \"PVRIG\", \"DHX16\", \"RASA4\", \"ZACN\", \"CES2\", \"MMP24\", \"ALAD\", \"RUVBL2\", \"COX11\", \"IRF5\", \"MTMR1\", \"NOP14-AS1\", \"DDX23\", \"PCGF1\", \"MON1B\", \"MEFV\", \"PRR5\", \"MAP7D3\", \"SERPINB9\", \"TBC1D29P\", \"TBC1D29P\", \"POLR2E\", \"DENND5A\", \"PTAFR\", \"PTPRO\", \"ZNF767P\", \"ZNF767P\", \"DZANK1\", \"LINC02166\", \"TSPAN5-DT\", \"TRARG1\", \"EXOSC9\", \"CEP131\", \"PSMC3\", \"ACACB\", \"ABCB8\", \"ADSS1\", \"CHP1\", \"SPCS2\", \"WDR37\", \"ARSB\", \"PACS2\", \"CCM2\", \"NOTCH2\", \"MAPKAP1\", \"RABL2B\", \"QRFP\", \"C7orf50\", \"METTL17\", \"SETBP1-DT\", \"TNIP2\", \"ZNF317\", \"PTPN22\", \"ATAD3B\", \"DERA\", \"DMWD\", \"GFI1B\", \"EIF2B5\", \"JUP\", \"PAPSS1\", \"ZNF117\", \"ERV3-1-ZNF117\", \"UTP14A\", \"TRAJ16\", \"KLK14\", \"LOC100129931\", \"TMEM254\", \"ZNF552\", \"EDC3\", \"PORCN\", \"PAPLN-AS1\", \"LINC00381\", \"HMG20B\", \"CAPZA1\", \"TAPBPL\", \"RBMS1\", \"ACAA2\", \"LRP8\", \"GOLGA7\", \"KRT15\", \"CERS6-AS1\", \"CFAP410\", \"GPAT3\", \"ARFGAP2\", \"SMAD3\", \"ADA2\", \"GLCCI1-DT\", \"TLCD3A\", \"TCEANC2\", \"ATXN2\", \"IGKV3-20\", \"ARHGEF1\", \"SLC38A7\", \"CNPY2-AS1\", \"ANAPC7\", \"BLACAT1\", \"CSNK1G2\", \"RAP1GAP2\", \"EXOC6B\", \"PNKP\", \"IL16\", \"FGFR4\", \"PARN\", \"CACNA2D4\", \"SQLE\", \"COQ7\", \"GPT2\", \"WFS1\", \"TSPAN14\", \"ATF6B\", \"ARHGAP35\", \"KIF9-AS1\", \"KDM1B\", \"AP3M2\", \"CEBPZOS\", \"NEK4\", \"IQSEC1\", \"HDAC11\", \"PLEKHH1\", \"UBALD1\", \"ANKRD42-DT\", \"DNAJC13\", \"ARPC2\", \"TFCP2\", \"ATP5F1A\", \"SH3GLB2\", \"SAMD3\", \"TSC22D4\", \"LRRN4\", \"PHKG2\", \"FYN\", \"SMIM7\", \"IL6R\", \"PABPN1\", \"ADGRE3\", \"SLC35D2\", \"ARFGAP1\", \"RAB5A\", \"ACD\", \"DHDDS-AS1\", \"TP53TG1\", \"CDCA4\", \"PLK3\", \"CHMP4A\", \"DDX52\", \"ADCK1\", \"APLP2\", \"ALDH9A1\", \"CCDC142\", \"VWA3A\", \"PLEKHG2\", \"PROM2\", \"DCAF10\", \"IGKV2D-29\", \"TTYH2\", \"SLC5A2\", \"MUS81\", \"HAVCR2\", \"C2CD3\", \"TIGD6\", \"COX20\", \"MLX\", \"SLC12A4\", \"COX10\", \"ZDHHC9\", \"CARD10\", \"CPSF4\", \"XIST\", \"NRBF2\", \"CCDC92\", \"MAPK7\", \"TLN1\", \"LTK\", \"LYPLA2\", \"PIPOX\", \"NIPA2\", \"HNRNPUL1\", \"NOP10\", \"ZKSCAN3\", \"MIR4511\", \"TRMU\", \"CACNG1\", \"STK4-DT\", \"STK38\", \"THAP3\", \"MATK\", \"HCP5\", \"ARHGEF18\", \"MFAP3L\", \"LOC101928198\", \"PLD1\", \"PLCL2\", \"ZNF433\", \"CTPS1\", \"APOBEC3B-AS1\", \"ZFYVE26\", \"GAS1\", \"CASP2\", \"AGK\", \"LOC101928093\", \"ACSL5\", \"MMAB\", \"CROT\", \"MIR3936HG\", \"BRD2\", \"CDC37\", \"FKBP4\", \"NMRAL2P\", \"NMRAL2P\", \"PPP1R10\", \"DAPK3\", \"KCTD11\", \"RPA2\", \"CD2\", \"STPG4\", \"OGFR\", \"PCP2\", \"HPS6\", \"SUMO3\", \"FMNL1-DT\", \"GPR88\", \"ARPC5L\", \"DONSON\", \"ATG13\", \"CENPT\", \"DGKG\", \"RNF146\", \"FCRLB\", \"ETV2\", \"GPS1\", \"MAPRE3\", \"MRPS9\", \"METTL25B\", \"ZC4H2\", \"NDUFS6\", \"CALCOCO2\", \"UQCC1\", \"ZNF672\", \"SLC6A4\", \"PRPSAP1\", \"CD4\", \"CNOT1\", \"ATP6AP1\", \"FOXRED1\", \"LINC02084\", \"ZNF516\", \"SIRPG-AS1\", \"GPR37L1\", \"GOT1\", \"LACTB2\", \"WWP2\", \"SDHAF2\", \"VPS72\", \"TSEN54\", \"RNASEH2C\", \"IDH3B\", \"TIMM50\", \"FARP1\", \"NUDT14\", \"BEST4\", \"LRRC47\", \"PEDS1\", \"BNIPL\", \"AP4B1-AS1\", \"MTG2\", \"SCARNA20\", \"C5AR1\", \"KCTD17\", \"MIR210\", \"MRPS2\", \"VAMP1\", \"TNK2\", \"MOB2\", \"RREB1\", \"HACD4\", \"OSCP1\", \"TM9SF4\", \"ZNF346\", \"CYRIB\", \"MTHFD1\", \"SF3B2\", \"MIR5585\", \"ATRAID\", \"DXO\", \"KANSL1\", \"GGACT\", \"NHSL2\", \"CLCN7\", \"SCAMP3\", \"ATP2A2\", \"RRP1\", \"LOC100652758\", \"TRIM39\", \"CDK9\", \"ME2\", \"GANC\", \"PODXL\", \"MRPL9\", \"GTF2I\", \"CUL4A\", \"GPR137\", \"UBE2Q1\", \"ITPA\", \"ZNF106\", \"PIGN\", \"RNF185\", \"ZDHHC5\", \"ADGRA2\", \"GIT1\", \"CALCB\", \"FH\", \"MRE11\", \"PUSL1\", \"KCNQ1OT1\", \"BICDL1\", \"PEX26\", \"SEMA3G\", \"CCT3\", \"SLC10A3\", \"SMPD4BP\", \"OIT3\", \"NOCT\", \"PLAGL1\", \"ZNF524\", \"MRPL16\", \"GCH1\", \"SORCS2\", \"ADAM32\", \"SLC13A4\", \"SPATA33\", \"RNPS1\", \"EIF4G3\", \"LRCH3\", \"MIR8071-2\", \"SLC25A22\", \"CETN2\", \"MXRA7\", \"SRPRA\", \"HAUS8\", \"FOXO3B\", \"PQBP1\", \"TESK1\", \"GRASLND\", \"NOL7\", \"PYCR1\", \"ARHGAP21\", \"ARHGAP11A\", \"ZNF878\", \"TXNDC12\", \"CCL4\", \"ARFIP2\", \"LCK\", \"ITGB1\", \"CDK4\", \"ZBTB32\", \"POLR1G\", \"CYTH2\", \"EEF2KMT\", \"ARHGAP29\", \"TGOLN2\", \"TXLNA\", \"TMEM87A\", \"FAHD1\", \"ZBTB7A\", \"INTS14\", \"ZNF18\", \"TRIM46\", \"TOLLIP\", \"SNORA68B\", \"EXOSC5\", \"LRRN4CL\", \"OSBPL2\", \"LOC105369209\", \"GOLGA2\", \"EPB41\", \"DLST\", \"FKBP2\", \"FBRS\", \"GRK6\", \"SREBF2-AS1\", \"ARHGAP25\", \"PI4KB\", \"SNX6\", \"YKT6\", \"ADAM11\", \"RHOT1\", \"RCL1\", \"HLA-C\", \"CARD9\", \"TRBV5-6\", \"AMZ2\", \"ZNF764\", \"AKAP10\", \"EPB41L5\", \"BAZ2A\", \"TRBV7-2\", \"ACADVL\", \"ARHGAP24\", \"COG8\", \"ZFYVE21\", \"KDM4B\", \"HLA-E\", \"RCC2\", \"LINC01970\", \"GRK4\", \"GFRA2\", \"LOC400627\", \"DHODH\", \"SLC45A3\", \"ENOSF1\", \"IGHD1-7\", \"CNGA1\", \"STK35\", \"ACOT2\", \"TRAJ41\", \"STAT4-AS1\", \"MIR762HG\", \"C3orf62\", \"GARS1-DT\", \"LARP4B\", \"AMDHD2\", \"ARSJ\", \"SKA3\", \"TMEM219\", \"MRPL49\", \"SARS1\", \"TUBGCP3\", \"SPCS3\", \"RING1\", \"ACIN1\", \"DHPS\", \"VPS33A\", \"SNX5\", \"CHN2\", \"ACO2\", \"VAT1\", \"ERCC3\", \"DHX33\", \"FBXL2\", \"GCLC\", \"LINC02846\", \"DMXL2\", \"NOC2L\", \"ATG4A\", \"PDLIM2\", \"IVD\", \"CNIH4\", \"STUB1\", \"IGHJ5\", \"NKAIN4\", \"GINS4\", \"TARDBP\", \"ACTR5\", \"SNORD127\", \"ACVR1\", \"ADPGK\", \"PNRC1\", \"AGFG2\", \"ZNFX1\", \"GRIN2C\", \"SF1\", \"ODF2\", \"DUSP14\", \"MAD2L1BP\", \"ZNF230\", \"SNORA15B-2\", \"CLIC2\", \"UNC45A\", \"KCTD20\", \"RAD23B\", \"DYNC1LI2\", \"ZNF212\", \"ARHGEF40\", \"SELENOW\", \"PHACTR4\", \"KDM5C\", \"ESRRA\", \"SCARB2\", \"DEPDC1B\", \"CXXC1\", \"ALDH1A3-AS1\", \"LINC01238\", \"C19orf44\", \"PDCD6\", \"LOC101928728\", \"WDR46\", \"FANCA\", \"RBM5\", \"FAM227A\", \"HNRNPL\", \"SOX8\", \"SDHB\", \"NINJ2-AS1\", \"NCF1\", \"TRABD\", \"ZBTB11-AS1\", \"ANKZF1\", \"ADNP-AS1\", \"TUFM\", \"CCNL1\", \"RNF8\", \"DARS1-AS1\", \"RAB27A\", \"ZBTB40\", \"PICK1\", \"LUCAT1\", \"CDC42\", \"TDRG1\", \"MFSD10\", \"VILL\", \"AAR2\", \"RUNDC1\", \"SLC20A1-DT\", \"TMEM102\", \"KDELR1\", \"LYAR\", \"KLHL12\", \"ZNF804A\", \"CHGA\", \"RPS6KA4\", \"LRP5L\", \"LRP5L\", \"INPP5D\", \"CRTC2\", \"CUL7\", \"MKRN2\", \"ANKRD44\", \"ZSWIM3\", \"MRPS11\", \"GLE1\", \"NDUFS1\", \"CRYGN\", \"ZEB2\", \"GPATCH3\", \"GPR108\", \"NDUFB4\", \"ZNRD2\", \"ZNF143\", \"SURF2\", \"AHSA1\", \"EIF3I\", \"LAMP2\", \"TP53\", \"COPS7A\", \"DCLRE1B\", \"MS4A6A\", \"TCF25\", \"PIP4K2C\", \"POC1B\", \"JDP2\", \"MRC1\", \"FDXACB1\", \"GON4L\", \"IKBKB\", \"H2AC16\", \"GORASP2\", \"IGLV5-52\", \"CCDC78\", \"SH3BP4\", \"GFER\", \"ARHGEF19\", \"PTGES2\", \"C1GALT1\", \"TMEM140\", \"LINC01344\", \"MMRN1\", \"CLUHP3\", \"CLUHP3\", \"ZNF34\", \"ITPR2\", \"RMDN3\", \"ZNF598\", \"TBC1D14\", \"PRDX3\", \"ST3GAL3\", \"S1PR4\", \"SREBF2\", \"DDX39A\", \"SDHC\", \"ATN1\", \"POTEI\", \"NPRL2\", \"ATP11B\", \"GNB1L\", \"RGS12\", \"SAT1\", \"BRD4\", \"CLN8-AS1\", \"ARHGAP44\", \"HHAT\", \"CPLANE2\", \"ZNF687\", \"LOC100289230\", \"CHD1-DT\", \"TET2\", \"CPSF2\", \"CELF2-AS1\", \"MCRS1\", \"SGTA\", \"TLR4\", \"COX6B1\", \"FABP5\", \"ELL2\", \"C15orf61\", \"TMEM104\", \"RTN4RL1\", \"TAOK2\", \"STAT1\", \"PRSS27\", \"IGSF9B\", \"MLXIP\", \"PCIF1\", \"JRK\", \"TUBA4A\", \"ETV7\", \"COQ6\", \"SLC4A1AP\", \"CEP170P1\", \"PIH1D1\", \"IL12RB1\", \"PAN2\", \"ABCF3\", \"PDIA3\", \"PLIN2\", \"RAB35\", \"TMEM147\", \"LINC02421\", \"FIZ1\", \"DTYMK\", \"KLHL17\", \"BCL2L15\", \"LOC613206\", \"TJP3\", \"DYM\", \"ABCF2\", \"NKAPP1\", \"COPS3\", \"CXCL11\", \"ACTR3\", \"LAIR2\", \"TUSC1\", \"MAVS\", \"SH2D2A\", \"PROM1\", \"ZBED2\", \"GAK\", \"SLC37A1\", \"CLIP1\", \"IMP4\", \"TEP1\", \"MEA1\", \"AFTPH-DT\", \"GCSAML\", \"POLDIP3\", \"GPAA1\", \"LANCL2\", \"PCNX2\", \"PVR\", \"BACH1\", \"GRIK1-AS2\", \"IFRD2\", \"GPR75\", \"CELF2\", \"ZBTB46\", \"ZNF787\", \"MTMR4\", \"TTI2\", \"ACSF3\", \"RNF220\", \"ARHGAP4\", \"SLC5A6\", \"IPO13\", \"TRMT10B\", \"OSER1\", \"CENPB\", \"PTGR2\", \"MRPL30\", \"MRPS6\", \"ZNF576\", \"NOVA1\", \"CTC-338M12.4\", \"GPR132\", \"THAP11\", \"HGH1\", \"APEX2\", \"LINC02762\", \"CCDC188\", \"CRYZL2P\", \"SND1\", \"DDX56\", \"DOCK5\", \"DELE1\", \"ANKRD20A5P\", \"FARSA\", \"CARMN\", \"RITA1\", \"NUDC\", \"TSHZ3\", \"ATP6V1H\", \"PITPNM1\", \"TOP1\", \"STAG1\", \"FAM83H\", \"GNB1\", \"ADIRF-AS1\", \"SNX10\", \"SNORD59A\", \"SMIM24\", \"HNRNPA2B1\", \"PIAS4\", \"DTNBP1\", \"TRIM27\", \"OSBPL5\", \"FCHO2\", \"KRTAP5-8\", \"TMEM187\", \"ATP6V0E1\", \"RPIA\", \"LINC00174\", \"MSANTD3\", \"IL1RL2\", \"SCG2\", \"VPS11\", \"TMX2\", \"TM7SF2\", \"AURKAIP1\", \"ZDHHC6\", \"NMUR1\", \"TJAP1\", \"FAM156B\", \"SLC22A15\", \"C5\", \"DAB2IP\", \"RAVER1\", \"OTUD5\", \"ZGLP1\", \"FXR2\", \"SGO1-AS1\", \"LOC101927829\", \"LINC02694\", \"LOC105370775\", \"TMCO3\", \"KIZ\", \"TRAK2\", \"ELF3-AS1\", \"CCDC174\", \"CLEC4F\", \"PWWP3A\", \"EFL1\", \"SULT1A2\", \"FAM131A\", \"SPRYD3\", \"UBQLN4\", \"MOGS\", \"NUDT4\", \"LINC01624\", \"ABCA7\", \"RAB5B\", \"C5orf58\", \"PIGF\", \"DDN-AS1\", \"TMEM145\", \"S100Z\", \"COPS7B\", \"ANKLE2\", \"PLXNB3-AS1\", \"SNORD63B\", \"ABCD4\", \"PRR14\", \"ASL\", \"FBXW5\", \"ATP6V0A2\", \"LYST\", \"MYO1A\", \"PRKXP1\", \"AKIRIN2\", \"HOXB7\", \"RRP9\", \"SLAMF6\", \"PIN1\", \"DOHH\", \"SMPD4\", \"MKS1\", \"SLC39A4\", \"BTBD2\", \"EIF3B\", \"TOR1AIP1\", \"PDHA1\", \"PIP4P1\", \"KCNJ13\", \"UBASH3B\", \"RGS6\", \"NOC4L\", \"ADCY9\", \"CDR2-DT\", \"HTR1B\", \"THAP8\", \"SPHK2\", \"TRBV10-2\", \"FBXW4\", \"MRM3\", \"LMNB2\", \"HARS1\", \"EME1\", \"VPS37B\", \"GBF1\", \"GLUD2\", \"AP1B1\", \"GOLGA8R\", \"SLC7A11\", \"SSNA1\", \"CD58\", \"SIGLEC17P\", \"SIGLEC17P\", \"METTL1\", \"SEC22C\", \"GABPB2\", \"TRAC\", \"SURF1\", \"TMEM69\", \"ZNF554\", \"ZNF707\", \"LOC101928160\", \"IQCG\", \"CCDC122\", \"ZNF189\", \"EAF1\", \"BTN3A1\", \"CCDC61\", \"SUPT5H\", \"WAC-AS1\", \"SDF4\", \"MIR6793\", \"CCDC157\", \"POM121\", \"YWHAG\", \"IGLV3-12\", \"C6orf163\", \"SLC2A8\", \"GSDME\", \"CACUL1\", \"RARG\", \"MYBBP1A\", \"CERS5\", \"CYB5R1\", \"TRBV18\", \"KCNJ14\", \"AP4E1\", \"TRIM68\", \"C6orf89\", \"SNORA73B\", \"EXOG\", \"CPNE2\", \"MGST3\", \"RNLS\", \"TMEM202-AS1\", \"GTF3C2\", \"MSL1\", \"PDRG1\", \"SELENOP\", \"PDE6D\", \"AAAS\", \"BRAP\", \"XPNPEP3\", \"COG1\", \"H1-10\", \"SNX8\", \"USP39\", \"RTCB\", \"UBE2J2\", \"PCCA-AS1\", \"SNORD83A\", \"SVIL-AS1\", \"SVIL-AS1\", \"CCL14\", \"SFRP5\", \"PCYT2\", \"LINC02320\", \"VPS13D\", \"CD27-AS1\", \"TPRA1\", \"LINC02939\", \"GNPDA2\", \"TOE1\", \"CEBPB-AS1\", \"UBXN1\", \"HEATR4\", \"WNT10B\", \"BUD23\", \"C11orf68\", \"MYO9B\", \"IL27RA\", \"PSMD3\", \"VSIG2\", \"TRBV6-6\", \"DDX51\", \"DDX5\", \"GPATCH1\", \"PSD\", \"SYNE1\", \"ADI1\", \"LINGO4\", \"MLF2\", \"PKN3\", \"GOSR2\", \"CELSR3\", \"SAFB\", \"SEC61A2\", \"CSF1\", \"L3HYPDH\", \"GIPR\", \"ELP3\", \"SMARCD1\", \"TUT1\", \"STX11\", \"VPS33B\", \"MAPKAPK2\", \"FBXW8\", \"VIL1\", \"CCDC86\", \"TTC7A\", \"BMP1\", \"CRADD\", \"C1QBP\", \"NECAP2\", \"HDAC4-AS1\", \"NAXD\", \"FDFT1\", \"DNAJC30\", \"C12orf43\", \"YME1L1\", \"STX16\", \"BAIAP2-DT\", \"NAT9\", \"TMEM222\", \"WDR88\", \"UROS\", \"FLJ33534\", \"ANKS1A\", \"EIF4G1\", \"PDGFRB\", \"TTLL1\", \"PTPN9\", \"CAPN10\", \"RPP14\", \"PLXNA3\", \"SEC16A\", \"ZNF619\", \"LINC00506\", \"ENPP2\", \"WIPF2\", \"KLRA1P\", \"GTF2IRD2\", \"KCTD7\", \"SH2B1\", \"PELP1\", \"SORL1\", \"TRAF3\", \"MTAP\", \"AFG3L2\", \"CRISPLD2\", \"PIK3CB\", \"ABHD17A\", \"COX15\", \"CIAO1\", \"RFC5\", \"EPHA8\", \"PPP6R2\", \"PI4K2A\", \"ALKBH4\", \"PAAF1\", \"COMMD5\", \"FBXL18\", \"PMF1\", \"PLAC8\", \"RPA4\", \"GRAP2\", \"RBM23\", \"PGLS-DT\", \"FAM50A\", \"SYCE2\", \"HINFP\", \"MYLK3\", \"NELFB\", \"CDS1\", \"EPHA4\", \"DOLK\", \"CHST12\", \"FBXO11\", \"GID8\", \"LPCAT1\", \"PTDSS1\", \"HSD11B1L\", \"FBXO44\", \"INTS11\", \"HEPHL1\", \"SPATA2\", \"MCM3AP-AS1\", \"TRGV9\", \"CPEB4\", \"SRP68\", \"TERF2\", \"PTEN\", \"ZBTB2\", \"KDM7A\", \"ABCB11\", \"DCAF5\", \"TMC2\", \"GRB7\", \"TSC2\", \"RUSF1\", \"LINC02413\", \"LINC01011\", \"DSTN\", \"MOB1A\", \"TMEM154\", \"NUTM2A-AS1\", \"POMT1\", \"LHX2\", \"TAF6L\", \"DPP7\", \"TRAV19\", \"POLA2\", \"TMEM62\", \"ARMC2\", \"HYOU1\", \"SAP18\", \"DNAJC9\", \"CLPTM1\", \"TXNL1\", \"CDKN2B\", \"PCNX1\", \"CDK2\", \"KLHDC3\", \"MIR6865\", \"MDH2\", \"SYNE2\", \"EMC8\", \"RBPJ\", \"ZNF746\", \"ENTPD3-AS1\", \"ARHGAP45\", \"GHITM\", \"ZRANB1\", \"PPM1G\", \"ZNF200\", \"BBS4\", \"HDHD5\", \"UGGT1\", \"TMEM11-DT\", \"MFAP3\", \"MCPH1-DT\", \"TMEM218\", \"GPR171\", \"PGF\", \"ITGB5\", \"RFFL\", \"ASPHD2\", \"ATXN7L2\", \"PPID\", \"MAB21L2\", \"SMURF1\", \"NEURL1\", \"ENHO\", \"USP40\", \"TIMM13\", \"ZDHHC13\", \"KRTCAP3\", \"GIMAP4\", \"CSNK1D\", \"TARS2\", \"LINC02803\", \"SNORA11B\", \"ATG4B\", \"NDUFA6-DT\", \"TRMT12\", \"POU6F1\", \"ACBD6\", \"LHX4-AS1\", \"SEPHS2\", \"LINC00861\", \"EMD\", \"ACAD8\", \"SLC7A6OS\", \"HEPH\", \"RNF25\", \"WIZ\", \"INTS10\", \"NTAQ1\", \"SLC39A3\", \"AFF1\", \"ZSCAN26\", \"ABCF1\", \"SH3BP5-AS1\", \"ENO3\", \"COL24A1\", \"JTB\", \"MVD\", \"CSNK1A1\", \"LRRC28\", \"RRAGA\", \"ANKRD42\", \"PER2\", \"NAP1L4\", \"MAP3K21\", \"ZNF587\", \"NFKBIL1\", \"DCXR\", \"SLC25A25-AS1\", \"ADD1\", \"KAT2B\", \"DSP\", \"ERCC1\", \"EBLN2\", \"LINC02207\", \"VTI1A\", \"DNAJC3\", \"CRCP\", \"ASPM\", \"PPRC1\", \"BOP1\", \"YBX1\", \"CHST10\", \"DCAF6\", \"ZNF133\", \"TCAP\", \"ANKS3\", \"CENPBD2P\", \"PSMB5\", \"H2BC20P\", \"MED18\", \"MIGA2\", \"EIF3K\", \"COPS6\", \"CCT6P3\", \"CCT6P3\", \"MAPRE1\", \"SELENOO\", \"XPO1\", \"RCOR1\", \"PAXBP1-AS1\", \"NOP2\", \"EEF1D\", \"TMEM256-PLSCR3\", \"RBM12B-AS1\", \"ERG28\", \"DGCR2\", \"NPHP4\", \"PTPRC\", \"GSTZ1\", \"UBE2D3\", \"ZFAND2B\", \"CD84\", \"RANBP3\", \"PIK3R5-DT\", \"GATAD2A\", \"KDM4A\", \"PHC1\", \"EIF3G\", \"PSMD6\", \"TBC1D24\", \"SAMD9\", \"MIR765\", \"UBE3C\", \"GAA\", \"FANCG\", \"ZNF668\", \"STAU1\", \"GOLPH3L\", \"SYNE4\", \"PPP1R12A-AS1\", \"DHX38\", \"MBTPS1\", \"KLC2\", \"NAA80\", \"ZNF286A\", \"CMKLR1\", \"RPL32P3\", \"RPL32P3\", \"CYRIA\", \"SNTB1\", \"USP28\", \"SATB2\", \"CEP250\", \"CDK5R1\", \"UBASH3A\", \"HGSNAT\", \"NEURL4\", \"RFX5\", \"OIP5-AS1\", \"FUNDC2\", \"ZAP70\", \"CDKAL1\", \"IGHV5-51\", \"NEB\", \"MRPL19\", \"PLA2G4C\", \"SGSM2\", \"CCNY\", \"DIS3L\", \"KL\", \"EBNA1BP2\", \"RPN1\", \"BSDC1\", \"CPTP\", \"P2RX1\", \"DHX57\", \"PEX19\", \"PDSS1\", \"FTSJ3\", \"RBM33\", \"CACNA1I\", \"DIS3L2\", \"SEPTIN2\", \"PDE4DIPP6\", \"PDE4DIPP6\", \"BCL7B\", \"POFUT1\", \"ZNF784\", \"FAM234A\", \"RNASEL\", \"LAPTM5\", \"RBFA\", \"BCL2L12\", \"SRSF4\", \"TMEM94\", \"DLG2\", \"RIPOR2\", \"ZSWIM9\", \"SPSB4\", \"ANP32B\", \"CCDC9B\", \"RCBTB2\", \"AP5Z1\", \"R3HCC1\", \"DNAJC17\", \"EIF1\", \"HS2ST1\", \"NUAK2\", \"RBKS\", \"UBE2Z\", \"GNRHR\", \"LOC100505716\", \"CARD11-AS1\", \"TMEM53\", \"SPATA6L\", \"ADGRD1\", \"HHEX\", \"LOC107985579\", \"ZNF562\", \"STX6\", \"STIP1\", \"CERK\", \"CAMK2B\", \"HDGFL2\", \"DARS2\", \"MPPE1\", \"LINC00869\", \"LINC00869\", \"TENM1\", \"RAD51D\", \"EEPD1\", \"TGIF1\", \"PRDM8\", \"MIR4726\", \"EDN3\", \"GZMM\", \"S1PR5\", \"ADCY7\", \"PTBP1\", \"ST20\", \"U2AF2\", \"TRBV19\", \"CSF1R\", \"PHACTR2\", \"HERC3\", \"STK19\", \"TADA2A\", \"TM2D2\", \"ND6\", \"ADAM17\", \"EPS15L1\", \"TMEM106C\", \"DOCK6\", \"TECR\", \"FAM120B\", \"SLC46A3\", \"SSRP1\", \"SSTR2\", \"TRIM65\", \"MAML1\", \"CEP192\", \"CLDN23\", \"GPR199P\", \"UXT-AS1\", \"PUF60\", \"SRGAP3\", \"PDK1\", \"TRAPPC4\", \"SLC25A1\", \"ZNF45\", \"ARL4D\", \"LIN7B\", \"SOS2\", \"TIMM10B\", \"SRM\", \"SPIDR\", \"PSMB4\", \"CLUH\", \"SELENOM\", \"APH1A\", \"SAP30L-AS1\", \"PCNX3\", \"TRADD\", \"ZNF655\", \"PLCD1\", \"PYROXD2\", \"ELMO1\", \"CHPF2\", \"FIG4\", \"PPP2R1A\", \"DDA1\", \"MAK\", \"PSPN\", \"DHX37\", \"LRRC41\", \"LINC00624\", \"CCDC74A\", \"KATNA1\", \"TPRG1L\", \"MRPL20-DT\", \"TPTEP2\", \"TST\", \"THBS4\", \"KDM3B\", \"AFG3L1P\", \"MRPL2\", \"LURAP1L\", \"DCTN1-AS1\", \"MSANTD1\", \"ZDHHC16\", \"CLPTM1L\", \"PPOX\", \"MAPK13\", \"GAREM2\", \"AGA\", \"HNRNPUL2\", \"CNOT10\", \"PEX14\", \"PSMB7\", \"SSR4\", \"BRAT1\", \"COA7\", \"CDK1\", \"POLD2\", \"STS\", \"TNFAIP2\", \"EVI5L\", \"PISD\", \"SNORA80E\", \"GOLGA5\", \"NECTIN4\", \"CLCC1\", \"RNF14\", \"SETD5\", \"PYCR2\", \"CALU\", \"MIR1285-1\", \"STYK1\", \"HIC1\", \"GMEB1\", \"NTN4\", \"HADHA\", \"LRRC42\", \"VCL\", \"DMAC2L\", \"PPP1R26\", \"STK25\", \"STAG3L3\", \"PPP3CB-AS1\", \"MTMR7\", \"DICER1-AS1\", \"VPS13B\", \"TRIT1\", \"ZW10\", \"NBPF12\", \"MGRN1\", \"TGS1\", \"SNX12\", \"PFKM\", \"TMEM250\", \"RHOC\", \"HSD17B4\", \"MBD1\", \"MAP3K14-AS1\", \"ZSCAN30\", \"ELAC2\", \"CCDC167\", \"GNPTG\", \"TIMM44\", \"CD81\", \"PRKCB\", \"DDX43\", \"TIMM22\", \"HEATR5A\", \"HDAC5\", \"NCK1-DT\", \"ME1\", \"MALLP2\", \"HCRTR1\", \"YTHDF3-DT\", \"LINC00513\", \"NOL4L\", \"TUG1\", \"NFATC2IP\", \"TRERF1\", \"NR4A1AS\", \"SERPINC1\", \"DUS1L\", \"TCHP\", \"BFSP2\", \"SPOUT1\", \"FAM228B\", \"YWHAZ\", \"STK40\", \"PRCC\", \"CREB3L2\", \"CD8A\", \"UQCRFS1\", \"LOC105370941\", \"ZDHHC8\", \"DDB1\", \"RAB8B\", \"KATNB1\", \"AP3B1\", \"KCNQ1\", \"PPFIA3\", \"SLX9\", \"EIF4EBP2\", \"PRRC2A\", \"PARS2\", \"ISCA1\", \"HERPUD1\", \"TUBD1\", \"ARNT\", \"BTG2\", \"OSBPL8\", \"SEC23A\", \"ALS2\", \"PABPC4\", \"GPC3\", \"CWC25\", \"TMEM161A\", \"KTI12\", \"SLAMF1\", \"NOC2LP2\", \"LINC00654\", \"ABHD15\", \"IL17REL\", \"LRRC8A\", \"NMRAL1\", \"MRPS7\", \"CCT8\", \"TTC39C\", \"CYTOR\", \"TSPAN32\", \"PPP1R12C\", \"GLIPR1\", \"ARL6IP5\", \"PSMA5\", \"MIA3\", \"SUPT6H\", \"IPO9\", \"UCK1\", \"CATSPER2\", \"PYM1\", \"TXN2\", \"ZNF174\", \"SCN8A\", \"BRD8\", \"PTX4\", \"SAC3D1\", \"ISCA2\", \"GATD1\", \"ATP6V0CP3\", \"ANKRD13A\", \"MAP7D1\", \"ERO1A\", \"ZNF512\", \"GIMAP8\", \"MRPS10\", \"NSF\", \"CASP10\", \"KCND3\", \"ARPC5\", \"ERGIC3\", \"FBXW2\", \"PIGQ\", \"CLDN4\", \"LINC01484\", \"NRDE2\", \"CLDN15\", \"CANX\", \"FAM174C\", \"RAB11FIP4\", \"IST1\", \"DUS2\", \"DYNC1H1\", \"FBXO42\", \"SH2D4A\", \"DGLUCY\", \"CLIC4\", \"SLC15A4\", \"RBM8A\", \"GALNT3\", \"TAF12\", \"MYOM1\", \"PLEKHA7\", \"ATP5F1D\", \"MIEF1\", \"TGFB3\", \"R3HDM2\", \"SRBD1\", \"TMSB15B-AS1\", \"ZDHHC20\", \"MRPS34\", \"ANKMY1\", \"ENGASE\", \"DCAF8\", \"PODXL2\", \"KARS1\", \"ALDOC\", \"GUSB\", \"SIN3B\", \"HNRNPH2\", \"SETD7\", \"LOC105377622\", \"ZKSCAN5\", \"TOR1A\", \"NFAT5\", \"P2RY11\", \"STPG3-AS1\", \"SYMPK\", \"SLC25A24\", \"XRCC6\", \"KNTC1\", \"TSR2\", \"SLC6A12-AS1\", \"LINC00957\", \"SLC4A11\", \"NOB1\", \"CCND3\", \"TRBC2\", \"PMPCA\", \"ESS2\", \"IGHV1-46\", \"RAB3IP\", \"ZNF862\", \"TRAF3IP2\", \"HNRNPM\", \"ZNF8\", \"PDCD7\", \"NT5C3B\", \"AAMP\", \"LRRC39\", \"RBM22\", \"BCLAF3\", \"CCDC9\", \"RIOK1\", \"TGM1\", \"HSPB1\", \"CD86\", \"DUS3L\", \"SDR39U1\", \"ACADS\", \"PBLD\", \"NUP98\", \"TMEM81\", \"STX18\", \"ELFN1-AS1\", \"RPAP3-DT\", \"DOCK2\", \"MXD4\", \"TRAPPC14\", \"SIPA1L1\", \"FAM222B\", \"XPO7\", \"MAN2C1\", \"SLC17A5\", \"DIDO1\", \"SYCP2\", \"POLR3H\", \"PPP1R35-AS1\", \"TMEM40\", \"CFAP20\", \"CACNA1D\", \"COL18A1\", \"SPEN\", \"RNF216\", \"GOLGA3\", \"TSPAN4\", \"ARSA\", \"DFFB\", \"RFX2\", \"AKT1\", \"NBPF25P\", \"NBPF25P\", \"RBAKDN\", \"TLE4\", \"WBP1L\", \"CYP17A1-AS1\", \"SLC7A6\", \"ZPR1\", \"NUP188\", \"RUFY1-AS1\", \"TPR\", \"PLCG2\", \"FAAP20\", \"UCP2\", \"BMERB1\", \"ECD\", \"ARFRP1\", \"ERMP1\", \"INTS1\", \"SSR3\", \"YWHAB\", \"ARMH3\", \"TRAPPC11\", \"IL11RA\", \"REXO1\", \"LOC100129540\", \"GNGT2\", \"WIPF1\", \"KIF13B\", \"LOC100505774\", \"PPP1CB-DT\", \"PAFAH2\", \"TVP23C\", \"MORF4L1\", \"TMEM223\", \"BAIAP2L2\", \"STAMBP\", \"HDAC1\", \"ZNF324\", \"SLC52A2\", \"NDRG3\", \"ANKRD40\", \"TRBC1\", \"BCAS3\", \"MC1R\", \"NDUFAB1\", \"DBF4B\", \"CEBPD\", \"USP5\", \"ACP5\", \"CIR1\", \"FBXL19-AS1\", \"DBR1\", \"TAB1\", \"RECQL\", \"PPP2CA\", \"LINC02785\", \"CFAP73\", \"MCM6\", \"SPG11\", \"PRPF4\", \"CCDC22\", \"NUP85\", \"PRTFDC1\", \"POLG\", \"PSMB6\", \"IFFO2\", \"IRGQ\", \"UBE3B\", \"CMTM8\", \"SLC12A7\", \"LINC02692\", \"CTAGE7P\", \"TMEM214\", \"HDHD2\", \"RSRC1\", \"CYB5R4\", \"HMGN4\", \"LOC105371251\", \"TMEM175\", \"STIM1\", \"MMACHC\", \"TMEM9B\", \"AIF1\", \"TMEM167A\", \"WDR5\", \"TRGV4\", \"AP1M1\", \"VPS53\", \"ACLY\", \"TRIM11\", \"LSM12\", \"VPS45\", \"ISYNA1\", \"OPA3\", \"EFNB1\", \"POLK\", \"PKN2-AS1\", \"ZCCHC8\", \"TAF15\", \"DFFA\", \"NOL6\", \"AKTIP\", \"MORC2\", \"GRHPR\", \"CARD8\", \"TMED2\", \"STARD5\", \"KANSL3\", \"SETD1B\", \"TMSB4X\", \"PGAM5\", \"ALDH3B2\", \"ABAT\", \"TRAJ1\", \"ATG3\", \"OTULIN-DT\", \"TEK\", \"MCM5\", \"TMEM33\", \"ACTG1\", \"RNF215\", \"TNS3\", \"GUSBP5\", \"CPSF1\", \"NTHL1\", \"SMG7\", \"FBXO31\", \"RBSN\", \"PABPN1L\", \"INAVA\", \"SGK3\", \"SETD6\", \"TBC1D1\", \"CST3\", \"LY86-AS1\", \"C1S\", \"SNHG3\", \"DSCR9\", \"FKBP5\", \"TOMM40\", \"NWD1\", \"HILPDA\", \"BTD\", \"UBQLN2\", \"KDM5D\", \"LSM2\", \"NCOA5\", \"ZNF777\", \"IFT74-AS1\", \"MANF\", \"YTHDF2\", \"ARCN1\", \"HNRNPH3\", \"TGIF2\", \"VAMP2\", \"MIPEPP3\", \"MIPEPP3\", \"L1CAM\", \"ADSS2\", \"NDUFB7\", \"TEX264\", \"PLAA\", \"SDHA\", \"CNKSR1\", \"ITM2B\", \"HAL\", \"SCIMP\", \"CFAP70\", \"ACTR3C\", \"CBLL1-AS1\", \"TMEM169\", \"FGD2\", \"ZNF207\", \"USP21\", \"UBE2K\", \"PLGRKT\", \"ZBTB20-AS4\", \"DGCR6L\", \"CRELD1\", \"ASTN2\", \"LRRC34\", \"GNG11\", \"TTC23\", \"RBM48\", \"LENG8-AS1\", \"G6PC3\", \"TRMT2A\", \"NUMA1\", \"DAGLA\", \"L3MBTL1\", \"FOXK2\", \"AIFM1\", \"DET1\", \"CDK14\", \"IGHD1-1\", \"NBR1\", \"CHCHD3\", \"HES7\", \"PUS10\", \"MKLN1\", \"NUTM2D\", \"AFAP1\", \"DHFR\", \"ZSWIM1\", \"MUL1\", \"SRSF1\", \"PXMP4\", \"MRPL10\", \"HNRNPA3\", \"HSD17B1\", \"ATF4\", \"URGCP\", \"XAB2\", \"PHF8\", \"HSPA1L\", \"PNO1\", \"DGUOK\", \"PDIA4\", \"NOP14\", \"NCOR2\", \"KBTBD11\", \"RSPRY1\", \"MRPL20-AS1\", \"DAZAP2\", \"GPRACR\", \"RBM6\", \"UBE2G2\", \"SLC25A43\", \"WDPCP\", \"CCNJ\", \"POGK\", \"ATG10\", \"PRPF40B\", \"UBE2W\", \"MRPL55\", \"FANCB\", \"VHL\", \"RNASEH1\", \"EXTL3\", \"DNM1L\", \"BUD13\", \"ZNF473\", \"FAM98A\", \"RASGRP3-AS1\", \"TARBP2\", \"HTRA3\", \"LRRC8D\", \"PGAP3\", \"CCZ1\", \"FRRS1\", \"SNRNP40\", \"ZNF500\", \"TRBV12-5\", \"SUDS3\", \"FOXP4\", \"SDHAP1\", \"SDHAP1\", \"ICMT\", \"TMEM178A\", \"MYCL\", \"TTC12\", \"ZFP64\", \"UBA1\", \"SH2B3\", \"ANKRD54\", \"SFT2D2\", \"MAP4K2\", \"CACNB1\", \"SYTL3\", \"PAF1\", \"CZIB\", \"DDX42\", \"BARX2\", \"PLEKHO1\", \"PRDX1\", \"EEF1DP3\", \"PRKDC\", \"NFE4\", \"CHCHD10\", \"RCC1L\", \"SRCIN1\", \"C15orf62\", \"SSR2\", \"WDFY2\", \"ZNF321P\", \"FAM172A\", \"OTULIN\", \"ZNF641\", \"B3GALT2\", \"DHX8\", \"MTPAP\", \"RNR2\", \"CROCCP3\", \"CROCCP3\", \"LOC102723701\", \"FRMD3\", \"PFN1P2\", \"DUSP23\", \"GATB\", \"ECE1-AS1\", \"KIAA0586\", \"RAF1\", \"SWT1\", \"SLC15A3\", \"MACROH2A2\", \"GTF3C6\", \"SNORA3B\", \"OR1L8\", \"STX12\", \"AP4M1\", \"C11orf42\", \"MYO5A\", \"COMMD1\", \"LARS1\", \"HNRNPK\", \"TMC6\", \"CSDE1\", \"PRPF19\", \"WDR77\", \"CIAO3\", \"SLC35F2\", \"MAP4\", \"IRAK1\", \"UBAP2L\", \"ATG16L1\", \"LINC02432\", \"UPF1\", \"RAB37\", \"RABEPK\", \"CHIC2\", \"FAM32A\", \"CCNYL1\", \"F11R\", \"SELPLG\", \"HEMK1\", \"RAD52\", \"IL1RAP\", \"TMEM150A\", \"GTF2F1\", \"POLR2D\", \"TRBV9\", \"ARPC3\", \"SNORC\", \"INO80D\", \"ANKRD11\", \"ITGB1BP1\", \"COQ9\", \"WASF3\", \"UGT2B28\", \"MYH3\", \"IFITM4P\", \"PLCXD2-AS1\", \"BZW2\", \"SUSD6\", \"FOXJ2\", \"SETD3\", \"LINC01278\", \"DLGAP4-AS1\", \"ZDHHC4\", \"SYNC\", \"ELP5\", \"ZMIZ2\", \"EIPR1\", \"CYP11A1\", \"ITFG1\", \"CBX7\", \"SMU1\", \"C1orf162\", \"TMEM71\", \"FBF1\", \"ASIC4\", \"ARHGAP15\", \"GP6-AS1\", \"WDR26\", \"HUS1\", \"BCAS1\", \"EDF1\", \"CAPN10-DT\", \"ARID3B\", \"RTL5\", \"KRT10-AS1\", \"GUSBP11\", \"PP2D1\", \"GPR137B\", \"NCAPD3\", \"HORMAD1\", \"CNOT9\", \"H2AZ1\", \"NSD1\", \"PARP3\", \"XPC\", \"FASTK\", \"RNF5\", \"STK4\", \"POLM\", \"GHDC\", \"ZBTB12\", \"RNF4\", \"UBE4A\", \"SERPINB9P1\", \"MAGED2\", \"TARS1\", \"LINC01562\", \"C13orf46\", \"CENPL\", \"ARHGEF7\", \"RBM18\", \"ELMO3\", \"MED26\", \"S100A10\", \"IER5\", \"SCAT2\", \"XRCC1\", \"LINC01819\", \"EGFL8\", \"TSPAN3\", \"VPS26A\", \"BARD1\", \"ETNK2\", \"FAM13A-AS1\", \"SERGEF\", \"TSPAN16\", \"UBE2A\", \"TMEM259\", \"RINT1\", \"PRKD2\", \"HSDL2\", \"NAALADL1\", \"UTP4\", \"AIP\", \"HIRA\", \"CCDC93\", \"PRKCSH\", \"FMC1\", \"TUSC2\", \"MAFK\", \"TMC4\", \"LINC01089\", \"MUC12-AS1\", \"RBBP4\", \"STRIP1\", \"NLGN2\", \"UBFD1\", \"SGF29\", \"C2orf42\", \"ALG8\", \"RPL7L1\", \"PDE4DIPP2\", \"ZNF428\", \"PPP2R5D\", \"TMEM107\", \"PTPN2\", \"CORO1C\", \"SMARCAL1\", \"C2orf88\", \"RHOXF1-AS1\", \"RBM28\", \"YJU2B\", \"FAM13B-AS1\", \"DDX17\", \"SUV39H2\", \"GTF3C5\", \"ZDHHC24\", \"RIOX1\", \"TMEM200A\", \"CPA5\", \"NME9\", \"TMEM266\", \"SPN\", \"MRPL52\", \"CTSS\", \"FAM111A-DT\", \"VPS28\", \"HNRNPH1\", \"NEK9\", \"SPTLC1\", \"NDUFAF1\", \"ZC3HAV1\", \"IP6K1\", \"LEO1\", \"UGP2\", \"PRXL2B\", \"CATSPER3\", \"LINC01063\", \"BRWD3\", \"CAB39L\", \"ZNF169\", \"MYH10\", \"ARL6IP6\", \"AGPS\", \"HMCN1\", \"FICD\", \"TSR3\", \"USP31\", \"RAPGEF1\", \"AP1G1\", \"KCNAB3\", \"CSNK1G1\", \"HSCB\", \"AARS2\", \"FALEC\", \"COL6A6\", \"TRIM34\", \"SGSM1\", \"GPC5\", \"ADD2\", \"RASSF3\", \"IKZF3\", \"LYPLA1\", \"TULP2\", \"GLYR1\", \"HIF1A\", \"RNF115\", \"APTX\", \"ATP6V0D1-DT\", \"PCNA\", \"TMEM39B\", \"DOLPP1\", \"DOCK4-AS1\", \"PRXL2C\", \"AP2A2\", \"HOXB-AS1\", \"CUL1\", \"SF3A3\", \"LSS\", \"PIK3CD-AS2\", \"PLEKHH3\", \"GSDMB\", \"ETF1\", \"MAFF\", \"USP4\", \"DCST2\", \"ATP11A\", \"DYNLRB2\", \"PAFAH1B2\", \"C16orf89\", \"LAMP1\", \"ZAR1L\", \"ZNF622\", \"MED8-AS1\", \"STBD1\", \"ACSF2\", \"ZFYVE27\", \"CRK\", \"CCT7\", \"EHMT2\", \"SNHG15\", \"RASSF5\", \"UGGT2\", \"GTF2IP20\", \"CAD\", \"KRI1\", \"LIMA1\", \"PRDM1\", \"TCP1\", \"INTS4\", \"RTN4RL2\", \"AXIN1\", \"CFAP119\", \"TMEM131\", \"GRIK1\", \"LOC112268198\", \"IGHV1-17\", \"WIPI2\", \"NIT1\", \"ISCU\", \"PAFAH1B1\", \"ANKRD17-DT\", \"INO80C\", \"KYAT1\", \"TRIQK\", \"SUMO1P1\", \"LOC100288637\", \"ATP5MC2\", \"TET3\", \"TRPT1\", \"LINC02915\", \"HLA-DMA\", \"SLC25A25\", \"HK2\", \"FAM229A\", \"RP2\", \"CRTC3\", \"FNBP1\", \"SH3PXD2A\", \"ZNF705A\", \"MICALL1\", \"HMG20A\", \"RAB9A\", \"HLA-DQA1\", \"ELAVL1\", \"EIF2S3\", \"ZKSCAN7\", \"ICOS\", \"ATP6V0C\", \"RFX3-DT\", \"SCRN2\", \"TXNRD2\", \"CTTNBP2\", \"CHST11\", \"PEX11B\", \"SLC30A1\", \"SMS\", \"ANKRD52\", \"IQUB\", \"PPP3R1\", \"PHB2\", \"INVS\", \"NPEPPSP1\", \"NPEPPSP1\", \"GPCPD1\", \"B3GALNT2\", \"NSUN5\", \"HTR7\", \"CAB39\", \"SNORD73B\", \"ZNF700\", \"SNRNP70\", \"ZBTB37\", \"ABHD12\", \"GIMAP1\", \"TRAPPC2L\", \"CCZ1B\", \"TOP3B\", \"P4HA1\", \"MRPS12\", \"DDHD1\", \"CDH24\", \"TRBV6-3\", \"TRBV6-2\", \"TMEM123-DT\", \"TRMT1L\", \"EXOSC3\", \"HLA-F-AS1\", \"TFEC\", \"P3H4\", \"LRIG2-DT\", \"SEPTIN7P13\", \"PPP3CC\", \"TAPT1-AS1\", \"PTPRN\", \"SLC4A5\", \"RACGAP1\", \"PSMA7\", \"ZFYVE28\", \"ZNF713\", \"IL23R\", \"UBE2I\", \"ACVR2A\", \"FKBPL\", \"CATSPERG\", \"PCNT\", \"UBE2D4\", \"ZNF778\", \"SPECC1\", \"LOXL2\", \"SIGLEC6\", \"SIK2\", \"ELOB\", \"EVA1B\", \"RNF103-CHMP3\", \"VPS41\", \"NOTCH1\", \"UPK3A\", \"XRCC5\", \"DERL2\", \"CENPP\", \"SAMD8\", \"KLHL22\", \"ACTR2\", \"SCGB3A2\", \"SVIL2P\", \"ISOC2\", \"ZNF37BP\", \"PARK7\", \"JAKMIP3\", \"GTF3C2-AS2\", \"GALK2\", \"TLX2\", \"SNAP47\", \"TRAV9-2\", \"TMEM167B\", \"ANAPC1P2\", \"ANAPC1P2\", \"GCN1\", \"OAZ2\", \"CDC42BPA\", \"PCYOX1L\", \"ZBTB22\", \"XPO5\", \"SELENOS\", \"CYB5B\", \"POC1B-AS1\", \"C1orf122\", \"LOC100506071\", \"LETMD1\", \"ATAD3A\", \"SNHG10\", \"UCKL1\", \"ZBED3\", \"BCL7C\", \"NDUFV1\", \"SRGAP2C\", \"VAV3\", \"INTS8\", \"PLA2G12A\", \"PDCD6-DT\", \"C11orf24\", \"ZSCAN9\", \"LINC01451\", \"UROD\", \"SLC40A1\", \"TULP3\", \"NLRC3\", \"USP10\", \"SLC25A40\", \"KCNMB1\", \"POLR3C\", \"DGKA\", \"FBXO10\", \"HERC2\", \"DCBLD2\", \"MIF4GD-DT\", \"LSM10\", \"SWI5\", \"TMOD2\", \"CYBRD1\", \"LINC00235\", \"DDX27\", \"PROCR\", \"PPP1R37\", \"SMG8\", \"BZW1\", \"PRMT7\", \"ZNF548\", \"OOEP\", \"ATG14\", \"CHURC1\", \"TMEM184A\", \"USP19\", \"MACF1\", \"SNHG11\", \"LONRF1\", \"TNRC6A\", \"BRD3\", \"NPR2\", \"MTOR\", \"CD40LG\", \"RBM12B\", \"SDCBP2-AS1\", \"SMG1P3\", \"USP8\", \"APOO\", \"SNU13\", \"CACNA1F\", \"TERF2IP\", \"LOC105371348\", \"MEAF6\", \"MECP2\", \"LSM14B\", \"LPGAT1\", \"CSKMT\", \"KIR3DX1\", \"KIR3DX1\", \"SFT2D1\", \"NPTXR\", \"CDKN1C\", \"CPNE4\", \"STON1\", \"KIF3B\", \"GDAP2\", \"TRAV23DV6\", \"CDK5RAP1\", \"DIAPH1\", \"TBRG1\", \"RAP2C\", \"ZNF765\", \"REG4\", \"NOL10\", \"SENP1\", \"S100PBP\", \"AMBRA1\", \"SNTA1\", \"BRCC3\", \"C19orf12\", \"MAN2B2\", \"MANBA\", \"C12orf71\", \"NASP\", \"HBP1\", \"ITFG2\", \"HEXB\", \"POLR2G\", \"NLRP2B\", \"FEN1\", \"STK32B\", \"SETD4\", \"PARVB\", \"WNT6\", \"PHRF1\", \"CHROMR\", \"MIR3177\", \"POLN\", \"IGKV3D-20\", \"FAM83C-AS1\", \"NAA40\", \"IGHV2-70D\", \"OPHN1\", \"PPM1D\", \"PAXX\", \"MAST3\", \"ATG2B\", \"LAP3\", \"SSBP3\", \"HSD17B11\", \"EPB41L4A\", \"HCG27\", \"HOPX\", \"ABCC4\", \"DHX30\", \"NNAT\", \"TSHR\", \"MED4\", \"TAGLN\", \"DLL3\", \"CALY\", \"EVA1C\", \"ZNF841\", \"RMI1\", \"AK9\", \"SOAT1\", \"PPP1CB\", \"CXorf38\", \"ANXA6\", \"PROZ\", \"NDST1-AS1\", \"LINC02352\", \"AKR1E2\", \"ARMCX4\", \"EP400P1\", \"EP400P1\", \"LINC01138\", \"ADCK2\", \"NCOA3\", \"PPARD\", \"PSEN2\", \"MARCHF3\", \"TMPRSS6\", \"LANCL3\", \"GAR1\", \"DPH2\", \"MYO6\", \"SCAF1\", \"ANAPC2\", \"RILPL1\", \"FAM193A\", \"SLC22A1\", \"RTL6\", \"C9orf78\", \"CMTM6\", \"TIMM8A\", \"UBAP2\", \"CDC16\", \"CDAN1\", \"SNX15\", \"C10orf95-AS1\", \"IWS1\", \"TP53BP2\", \"NPIPB13\", \"INTS7\", \"EXOC1\", \"PIPSL\", \"IRF2BPL\", \"P3H1\", \"BPHL\", \"CMAS\", \"DBIL5P2\", \"PRF1\", \"LDAF1\", \"MRPL44\", \"NONO\", \"RPS19BP1\", \"ATL3\", \"TFG\", \"SGPL1\", \"RANGAP1\", \"NAT14\", \"PTP4A2\", \"PGPEP1\", \"CBX8\", \"ATPAF1\", \"PLAAT4\", \"MFF\", \"ERCC6L2-AS1\", \"KIF16B\", \"PFKFB2\", \"UBE3D\", \"DNPEP\", \"LINC01973\", \"TOMM22\", \"CDC40\", \"RUNX3\", \"DGAT1\", \"MRPS5\", \"PDCD2L\", \"TSC1\", \"IGHV4-4\", \"TRBD1\", \"PRIM2\", \"RBM14\", \"MROH1\", \"PSPC1\", \"POLR3A\", \"MMS19\", \"RSAD1\", \"TGFB1I1\", \"TMOD3\", \"LINC00115\", \"SLC16A1-AS1\", \"GTF2IP4\", \"AP3M1\", \"KCNIP3\", \"NUTM2B-AS1\", \"TREM1\", \"RBM42\", \"LINGO3\", \"MTMR8\", \"LINC02626\", \"LINC02696\", \"TRIM72\", \"GIGYF1\", \"DDX59\", \"UBQLN1\", \"LINC00402\", \"SPEF1\", \"CCDC115\", \"COX5B\", \"EXOC4\", \"ULK1\", \"LRWD1\", \"HLA-DRB1\", \"RNMT\", \"RPL23A\", \"DMAP1\", \"NEDD4\", \"TSSC4\", \"CCNI\", \"ERICH6B\", \"MGAT3\", \"MACROD1\", \"RSL1D1-DT\", \"CBR3\", \"PUS7\", \"FAXDC2\", \"ATP1A1\", \"YIPF5\", \"STMN2\", \"TXLNG\", \"B4GALT1\", \"PIGU\", \"FAAP100\", \"LINC01668\", \"SDF2\", \"CRYBB2P1\", \"CRYBB2P1\", \"ARMC6\", \"UNC119B\", \"CUL3\", \"STAT6\", \"UPF3A\", \"ZNF394\", \"ELOVL6\", \"SEC61B\", \"FLJ20021\", \"LOC101928940\", \"PPP1R15A\", \"EHD3\", \"ECPAS\", \"SPPL3\", \"LINC02709\", \"MADD\", \"FLNB-AS1\", \"LFNG\", \"GCNT1\", \"TNNI2\", \"C6orf120\", \"B3GAT3\", \"CBR3-AS1\", \"UBXN11\", \"EARS2\", \"MSN\", \"TFPT\", \"OSTN-AS1\", \"MFAP1\", \"BRD7\", \"UBR2\", \"GIMAP6\", \"IGKC\", \"EIF2D\", \"PARL\", \"SNORA9B\", \"ALDH6A1\", \"CIP2A\", \"RSPH4A\", \"PRPF38A\", \"ACTR1B\", \"HSPA9\", \"MIR148B\", \"NFE2L3\", \"ABCC6\", \"CPSF7\", \"ALDH18A1\", \"CLEC4G\", \"VPREB1\", \"TSTD3\", \"HDDC3\", \"SUPT16H\", \"SAR1A\", \"LINC01361\", \"UTY\", \"ABT1\", \"ZNF358\", \"LINC02556\", \"UXT\", \"USP6\", \"RAB11A\", \"POLR3B\", \"IARS1\", \"LARP1\", \"NUP58\", \"LPIN1\", \"TBC1D22A\", \"NANP\", \"TUBGCP6\", \"TTC9C\", \"GREM1\", \"DDI1\", \"RARRES1\", \"KCNA2\", \"SGCG\", \"CHCHD5\", \"ORMDL3\", \"BRPF1\", \"FBXL15\", \"DYNLL2\", \"GPN2\", \"MCCC2\", \"ZNF785\", \"UBL4A\", \"LIG1\", \"ILDR2\", \"KCNH2\", \"PGRMC2\", \"GHSR\", \"LOC122539212\", \"EPC1\", \"AKIP1\", \"ZNF182\", \"TMEM203\", \"SLC66A3\", \"MESD\", \"MED27\", \"ZNF44\", \"HNRNPD\", \"SCO1\", \"MSI2\", \"TADA2B\", \"PRKAR2B\", \"NPTN\", \"ALDH3A2\", \"BMT2\", \"DBT\", \"RAB11B\", \"POMP\", \"FCHSD2\", \"PIGL\", \"THAP4\", \"ZSCAN2\", \"GIMAP5\", \"LINC00847\", \"TMEM255A\", \"FXYD5\", \"MSMO1\", \"FAM98C\", \"GCDH\", \"CHRNA10\", \"ZC3HC1\", \"OTUD3\", \"TNPO2\", \"FHIP2A\", \"OFD1\", \"PLGLB1\", \"FRY\", \"CLASRP\", \"HCN2\", \"MDM4\", \"DAB1\", \"PREP\", \"NBPF14\", \"RAB6A\", \"GTF3C1\", \"CCDC200\", \"PRPF18\", \"SLF2\", \"COL23A1\", \"PMS2\", \"PPP6C\", \"PSME3\", \"NECAP1\", \"DNMT1\", \"PRDM5\", \"SMIM29\", \"SERPINE1\", \"C8orf33\", \"SPACA6\", \"A2MP1\", \"A2MP1\", \"METTL13\", \"SLC27A2\", \"ZNF528\", \"RAD54L2\", \"NEXN-AS1\", \"LLGL1\", \"TRBV7-4\", \"PRPF3\", \"ACOT11\", \"SAP30L\", \"NOD1\", \"ACSL6\", \"MASTL\", \"ELF1\", \"QARS1\", \"NCOA1\", \"ESRP2\", \"GMNN\", \"ALKAL2\", \"EVL\", \"PSMG1\", \"NME4\", \"SUMF2\", \"CNOT8\", \"EPM2A-DT\", \"TMEM231\", \"RETREG3\", \"TAOK3\", \"SLC25A12\", \"MTMR6\", \"CNPY4\", \"SVIL\", \"MBD4\", \"SF3A2\", \"CFAP100\", \"FLI1\", \"SEC31A\", \"ARHGAP19-SLIT1\", \"PMS2P1\", \"CUTA\", \"LTO1\", \"TRUB2\", \"CDHR1\", \"ECI1\", \"VDAC2\", \"XIAP\", \"H3-3A\", \"POU2F1\", \"TTLL11\", \"FASN\", \"PDXDC1\", \"ADSL\", \"ZFAT\", \"EPG5\", \"KRBA1\", \"ST6GALNAC3\", \"PHKB\", \"EHMT1\", \"ATMIN\", \"SPECC1L\", \"AGO2\", \"SLC25A38\", \"MFSD11\", \"ATAD5\", \"MYO1H\", \"SLX4IP\", \"CXCL16\", \"C1orf50\", \"IGKV3D-11\", \"DCAF15\", \"CITED2\", \"ZSCAN22\", \"VTA1\", \"APRT\", \"IGHJ1P\", \"RABGEF1P1\", \"RABGEF1P1\", \"STAM2\", \"LOC100134368\", \"DDX24\", \"SLC25A16\", \"TAC4\", \"C1orf159\", \"CD27\", \"RBMS2\", \"RPP30\", \"RHNO1\", \"DUSP7\", \"NUBPL\", \"CYTH3\", \"SPTBN2\", \"PIK3CG\", \"POGZ\", \"ILKAP\", \"RCVRN\", \"FLYWCH2\", \"SWSAP1\", \"TRGV5P\", \"TIGIT\", \"E4F1\", \"MCFD2\", \"AUH\", \"CNDP2\", \"TNRC6B\", \"TPM2\", \"IRF2BP2\", \"UBA3\", \"CXCL9\", \"L2HGDH\", \"OGA\", \"DNM1P46\", \"DNM1P46\", \"CAMKMT\", \"MPL\", \"NSUN2\", \"C12orf76\", \"POFUT2\", \"NRXN3\", \"PIP5K1A\", \"DNAJB1\", \"MED11\", \"DCUN1D1\", \"EMCN\", \"LYSMD2\", \"PPP2R5C\", \"SEPTIN9\", \"PAX6\", \"TMEM230\", \"DCAF7\", \"RBM47\", \"SSH2\", \"LOC101928002\", \"SORBS3\", \"INPP5E\", \"GOT2\", \"G3BP1\", \"C20orf173\", \"C5orf22\", \"COA8\", \"ANTXRLP1\", \"NDRG4\", \"TBC1D10C\", \"YEATS2\", \"VMP1\", \"ATXN3\", \"LOC101927702\", \"EI24\", \"HVCN1\", \"C19orf25\", \"MIR4298\", \"PRKRA\", \"FARS2\", \"GK5\", \"STAU2\", \"MYCBP\", \"ELP6\", \"SH3RF1\", \"AKAP8\", \"LOC103344931\", \"RC3H1\", \"PHB1\", \"CDC25B\", \"STK39\", \"TBC1D17\", \"FCHO1\", \"IGHD4-23\", \"RNF216P1\", \"SP2\", \"TSR1\", \"ICA1\", \"NUP214\", \"ACSM3\", \"SP140\", \"ZNF79\", \"SRP54\", \"SMCR8\", \"DCTN4\", \"IGHJ6\", \"TAP2\", \"TEX2\", \"ARRDC2\", \"FHDC1\", \"LINC02102\", \"RAB11B-AS1\", \"DEPDC5\", \"PDXDC2P-NPIPB14P\", \"HABP4\", \"TRAV3\", \"ATXN7L1\", \"LOC105377205\", \"KANSL1L\", \"PRKAR2A\", \"PLPPR2\", \"PDZRN3\", \"LINC02716\", \"ZC3H11B\", \"MHENCR\", \"LUC7L\", \"COL11A2\", \"PTGES3\", \"STX16-NPEPL1\", \"SART3\", \"TCAF2\", \"CYB561D1\", \"ZNF821\", \"COG2\", \"TBK1\", \"TTC17\", \"CCDC192\", \"TRPV5\", \"SRSF5\", \"SIT1\", \"SEMA4C\", \"RNF144B\", \"COQ10B\", \"GNG3\", \"RNF34\", \"SF3B5\", \"SAE1\", \"TMEM198\", \"DCUN1D2\", \"KLF10\", \"QRICH1\", \"PACS1\", \"ZNF3\", \"LARS2\", \"RAD9A\", \"ZNF580\", \"LDB1\", \"BICRAL\", \"ZNF429\", \"C8orf88\", \"IKZF4\", \"LOC101927687\", \"CTSC\", \"FARSB\", \"PARD6G-AS1\", \"PBX4\", \"CCAR2\", \"ILF2\", \"REELD1\", \"PSME4\", \"EDA\", \"OSBPL3\", \"BBLN\", \"MEIOC\", \"LINC01145\", \"SMAD6\", \"UNG\", \"LEFTY1\", \"GRM3\", \"NDUFS8\", \"MEGF9\", \"ZMYM3\", \"CYP2D7\", \"SPINT1\", \"TRPS1\", \"ZNF2\", \"POLE\", \"ESD\", \"ZXDC\", \"SCART1\", \"PCCA\", \"DDX55\", \"WDR11\", \"UBE2S\", \"USP50\", \"UGDH\", \"CDKN2C\", \"CSPG4\", \"FAR1\", \"TTI1\", \"WDR19\", \"GGCT\", \"ENSA\", \"ITPRID2\", \"TIAL1\", \"MRRF\", \"SAFB2\", \"STX17\", \"PCAT1\", \"LOC105375751\", \"CACNA1C\", \"CACNA1C-IT2\", \"FTSJ1\", \"SLC2A11\", \"LINC01277\", \"CELF1\", \"MELTF-AS1\", \"TACC1\", \"TRIO\", \"KIAA0232\", \"FAM78A\", \"DEGS1\", \"RTCA\", \"ANKRD27\", \"KLHL26\", \"ANGEL1\", \"DDX28\", \"SMARCE1\", \"TMEM170B\", \"ITGB1-DT\", \"KDM1A\", \"CLEC17A\", \"GNB4\", \"GOSR1\", \"POMGNT1\", \"NHSL1\", \"PHF1\", \"LINC00640\", \"CYB5A\", \"AMFR\", \"TRIP4\", \"FPGS\", \"MCM8-AS1\", \"PCMT1\", \"UBTF\", \"PDZD4\", \"SLBP\", \"SLC4A3\", \"BRD3OS\", \"POLR1A\", \"TPM3P9\", \"WDR81\", \"NREP\", \"CHST6\", \"GIGYF2\", \"POLD1\", \"SLC50A1\", \"UBR5-DT\", \"CSTF2T\", \"CABP1\", \"RNASEH2A\", \"NUDT16L1\", \"MFSD14A\", \"SLC25A5\", \"DNAJC3-DT\", \"MICALL2\", \"ZNF140\", \"ZSWIM4\", \"WRAP53\", \"DPP4\", \"LINC02150\", \"MTPN\", \"TRAF2\", \"SMAD7\", \"TXNDC16\", \"HES4\", \"HMGXB3\", \"ACAT2\", \"UBE2D3-AS1\", \"TPGS1\", \"NENF\", \"GFM2\", \"BNIP2\", \"LOC102723692\", \"CCNE2\", \"PIGM\", \"GTF2H1\", \"ECHS1\", \"LOC100996660\", \"CD37\", \"ZNF8-DT\", \"ITPR3\", \"KDM5A\", \"TRAM2\", \"CNNM4\", \"PRSS22\", \"SNORD19C\", \"CRAMP1\", \"IGHD3-3\", \"FAM3A\", \"SLC39A9\", \"ESYT1\", \"TWNK\", \"CLDN24\", \"SESN2\", \"NCAPD2\", \"AP4B1\", \"ATP8B2\", \"BTBD9\", \"IGHV1-69D\", \"PCID2\", \"VARS1\", \"CA2\", \"RNASET2\", \"CRYL1\", \"USP36\", \"WASH9P\", \"CREM\", \"EEF2K\", \"EPHB4\", \"PYY2\", \"PYY2\", \"MATN1\", \"HACD1\", \"LINC01730\", \"EFCAB14\", \"DENND2D\", \"KAT14\", \"CDADC1\", \"CREB3L4\", \"RAB30-DT\", \"IGKV1-9\", \"ST3GAL5\", \"SLC25A29\", \"TRMT44\", \"CHEK2\", \"APC\", \"BFAR\", \"CHCHD2\", \"NKAP\", \"PPP1R21\", \"MRFAP1\", \"PIGO\", \"KRT8\", \"PANK2-AS1\", \"AMER1\", \"BLMH\", \"ZNF213-AS1\", \"SLFNL1\", \"ACBD4\", \"DDX21\", \"SFXN2\", \"NARS1\", \"NCBP2\", \"YWHAQ\", \"LSM6\", \"ARRDC3\", \"SMYD4\", \"TRBV5-1\", \"FSIP1\", \"TMEM109\", \"USP20\", \"FLACC1\", \"PDZD8\", \"PFDN6\", \"ATAD3C\", \"THYN1\", \"ZNNT1\", \"IQGAP1\", \"RUNX1\", \"LOC100506403\", \"RUFY1\", \"SNAI3\", \"ENTPD4\", \"HNRNPR\", \"SLC25A28\", \"KCNE5\", \"SLC38A6\", \"DCN\", \"HSPA2-AS1\", \"RALGPS1\", \"PHETA1\", \"PITPNB\", \"ARHGAP17\", \"FAF1\", \"HCG18\", \"EIF2B3\", \"DTX2\", \"UEVLD\", \"SPAG16-DT\", \"NSUN5P1\", \"NSUN5P1\", \"INSIG1\", \"ZNF628\", \"DUSP28\", \"MUC19\", \"PDLIM5\", \"CNRIP1\", \"ASB13\", \"PDSS2\", \"LAX1\", \"ZNF414\", \"NRIP2\", \"TES\", \"TOPBP1\", \"EIF3H\", \"CNTNAP3\", \"ZBTB42\", \"LINC02664\", \"NRF1\", \"RNF121\", \"MCM3\", \"GLS2\", \"KRT10\", \"TIMM17B\", \"HRK\", \"PEX16\", \"INCENP\", \"C6orf226\", \"ITIH3\", \"TBCCD1\", \"BDH2\", \"KLHDC10\", \"PDCD6IP\", \"PJA2\", \"ZNF48\", \"TUBA3D\", \"CLTC\", \"TET2-AS1\", \"ETFDH\", \"IGLV3-1\", \"PIDD1\", \"SUMO1P3\", \"RFPL3\", \"PWP1\", \"SNRNP200\", \"B3GNT9\", \"HMGCS1\", \"OTOP2\", \"AOPEP\", \"CNOT11\", \"SLC25A10\", \"HEATR1\", \"RAP2B\", \"SLC4A4\", \"DTNB\", \"MFSD4B\", \"CNNM3-DT\", \"MLST8\", \"TRAV8-6\", \"CTNNB1\", \"TRIM15\", \"FMO4\", \"CHCHD7\", \"CHDH\", \"MTA1\", \"FRS3\", \"ZKSCAN4\", \"NAT10\", \"GRAPL\", \"GTF2A2\", \"TMEM242\", \"SF3A1\", \"ALG11\", \"CD300LB\", \"TMEM43\", \"ARL8B\", \"CEP128\", \"IGHV3-21\", \"HARBI1\", \"SLC10A7\", \"NDUFA2\", \"PDIA3P1\", \"VLDLR-AS1\", \"VAPB\", \"GTSCR1\", \"PTPRA\", \"TCTN3\", \"BCL9L\", \"PHLPP2\", \"EEFSEC\", \"MUCL1\", \"VCP\", \"DHX15\", \"WDR54\", \"WEE1\", \"LGALS3BP\", \"TBC1D13\", \"TMEM129\", \"MRPL53\", \"AQP6\", \"MARF1\", \"ABCA3\", \"LINC01554\", \"ZNF703\", \"STAT4\", \"ARRDC5\", \"MIR320C1\", \"H4C14\", \"PAQR7\", \"MRPL34\", \"SFSWAP\", \"CHMP2B\", \"CBX4\", \"SLFN12L\", \"NQO2-AS1\", \"PARD6A\", \"FAAH\", \"ARMCX6\", \"ZBTB49\", \"C2CD4D\", \"LINC02721\", \"LINC02731\", \"RETSAT\", \"RPAP1\", \"MAOA\", \"PYY\", \"PCCB\", \"LOC84214\", \"SLC28A2-AS1\", \"TRIM35\", \"CLUAP1\", \"BRF1\", \"CCDC7\", \"PARP2\", \"CENPX\", \"NFRKB\", \"EDEM1\", \"CSNK1G2-AS1\", \"CACNB2\", \"ABI1\", \"CBX1\", \"ITIH4-AS1\", \"SMOX\", \"MYO9A\", \"LOC105377623\", \"USP38-DT\", \"CACNG4\", \"SMARCC1\", \"CYSLTR1\", \"LINC00877\", \"PRPH2\", \"RPL21P44\", \"TYW5\", \"NBPF8\", \"VIRMA\", \"CDC23\", \"GSTM4\", \"DLEU2\", \"TM7SF3\", \"SENP5\", \"CEP170\", \"SNORA26\", \"METTL26\", \"PCGF3\", \"NCL\", \"TOR1B\", \"COX7A1\", \"AHCYL1\", \"ING4\", \"MED22\", \"PLEKHM3\", \"LY6G6F\", \"RCCD1-AS1\", \"FABP3\", \"SERP1\", \"WBP2NL\", \"RNFT2\", \"FBXL20\", \"LOC100507053\", \"GBE1\", \"SMAD2\", \"GLO1\", \"SEMA4D\", \"C18orf21\", \"SRGAP2-AS1\", \"PPP2R2B\", \"HYDIN2\", \"WWOX\", \"TAS1R3\", \"DEAF1\", \"ZNF397\", \"ZNF32-AS1\", \"FIGNL1\", \"NIPAL4-DT\", \"NXT1\", \"POLR2H\", \"UQCRC2\", \"WNT8B\", \"RNF13\", \"DNAL4\", \"ZNF517\", \"NSL1\", \"FANCL\", \"ARIH2\", \"OBSCN-AS1\", \"MECOM\", \"TNKS1BP1\", \"STT3A\", \"TNFRSF10B\", \"FCGR2C\", \"WDR4\", \"LONP2\", \"ELK1\", \"RNF114\", \"CYFIP2\", \"UBAC2\", \"XNDC1N\", \"HERPUD2\", \"ATP2A3\", \"SUMO2\", \"ZNF662\", \"LOC102724642\", \"SOCS7\", \"B4GALT7\", \"HNMT\", \"FAM13A\", \"GPX4\", \"KHSRP\", \"KRT39\", \"COX2\", \"DAP3\", \"SSR1\", \"QTRT1\", \"CSTF3\", \"SNORA38\", \"MCRIP2\", \"CDK12\", \"NUDT1\", \"NBPF26\", \"MRPL43\", \"FBLN5\", \"GNL3L\", \"SRPRB\", \"SERBP1\", \"ARMH1\", \"TLN2\", \"TMA16\", \"KLHL21\", \"FAF2\", \"ATP6AP2\", \"UBE2G1\", \"KCNK17\", \"PLS3\", \"RPL28\", \"OXCT2\", \"ETV3\", \"PRKCQ\", \"NVL\", \"PGRMC1\", \"MEI1\", \"SUPT7L\", \"MED6\", \"SNORA7B\", \"AGRP\", \"RBBP7\", \"BNIP3\", \"AQP7\", \"ANO6\", \"EIF3A\", \"NUP93\", \"MAPK1\", \"TBCEL\", \"PROSER1\", \"TLK2\", \"FOLR3\", \"TRAV10\", \"SCUBE3\", \"ART1\", \"ARHGEF25\", \"SVOPL\", \"RFWD3\", \"C18orf32\", \"TMEM44\", \"HCG9\", \"KAT7\", \"REX1BD\", \"PA2G4P4\", \"USP7\", \"METRN\", \"CHTOP\", \"SUCLG1\", \"SLC38A10\", \"CYTIP\", \"RRAGC\", \"UTP11\", \"CYP27B1\", \"PPP1R3E\", \"ZNF791\", \"FBXO30\", \"TXNL4A\", \"APOBEC3F\", \"SAAL1\", \"CFB\", \"CABP4\", \"ARIH2OS\", \"CCR6\", \"RHOBTB2\", \"MAPK1IP1L\", \"BCR\", \"TRAV24\", \"PDZD7\", \"PCED1A\", \"MCRIP1\", \"TRAV12-2\", \"CREBL2\", \"ELOA\", \"NF2\", \"SEC24A\", \"YIPF4\", \"TMEM255B\", \"SLC30A6\", \"LSM1\", \"CEP89\", \"ZMYND19\", \"SLC24A1\", \"ATP2A1\", \"MAP3K4\", \"WNK1\", \"SP140L\", \"FBXO25\", \"HELZ\", \"ISY1\", \"RGS10\", \"ERI1\", \"PRKCH\", \"SETD2\", \"UNC5CL\", \"SLC7A1\", \"LIMD2\", \"LINC01220\", \"NPC1\", \"KPNA1\", \"LINC00342\", \"CIRBP\", \"ARMT1\", \"AARS1\", \"MFSD13B\", \"EIF3L\", \"DDX11L17\", \"RBM17\", \"ZNF699\", \"DAG1\", \"MTMR2\", \"CBY1\", \"TEC\", \"ZRSR2\", \"PLEKHG4\", \"YTHDC2\", \"COA3\", \"SLC25A13\", \"TAF5L\", \"ELOA-AS1\", \"BTBD6\", \"MIR4439\", \"SNAPC4\", \"SH3GL1P1\", \"CSNK2A2\", \"SLC35A5\", \"CDK10\", \"SNW1\", \"AMPD2\", \"ROM1\", \"CDC5L\", \"UBP1\", \"SLC38A4\", \"PKD2\", \"ZNF513\", \"DNAJB6\", \"FANCD2\", \"TOM1L2\", \"UBQLN1-AS1\", \"DYNLT2B\", \"TCEAL3\", \"TOLLIP-DT\", \"SNX30\", \"KIAA1191\", \"RABL3\", \"GALNT11\", \"HEBP2\", \"ND5\", \"C2orf50\", \"PPP1R8\", \"POLR3E\", \"FCF1\", \"PIANP\", \"SUPV3L1\", \"TRBV20-1\", \"CASP6\", \"RNPC3\", \"PTPRS\", \"EXOSC1\", \"FAM200A\", \"RPL13P5\", \"HES5\", \"CCNQ\", \"LOC101929408\", \"YPEL3-DT\", \"MFSD1\", \"INAFM2\", \"PPP1R13B\", \"SBF1\", \"MTMR9LP\", \"MTMR9LP\", \"ACSS1\", \"LINC00921\", \"CERS4\", \"UBLCP1\", \"SHROOM3\", \"LINC02108\", \"BRICD5\", \"GINS3\", \"PARGP1\", \"TOR1AIP2\", \"CKAP5\", \"CCDC24\", \"SLC35A2\", \"PRDM2\", \"SLC44A1\", \"NACA4P\", \"MED20\", \"ASCL5\", \"PUS1\", \"MOCS3\", \"DUSP4\", \"TRIP12\", \"ANKDD1A\", \"KLHDC2\", \"MIR22HG\", \"FAAP24\", \"LUZP1\", \"TRMT61A\", \"FASTKD3\", \"EZH1\", \"ZBTB39\", \"ZNF688\", \"DDRGK1\", \"PRNP\", \"XYLT2\", \"TIFAB\", \"CPB2\", \"STX5-DT\", \"NUP210\", \"SUGT1P4-STRA6LP\", \"ZNF567-DT\", \"ARFGEF1\", \"HECTD4\", \"WASHC2A\", \"PODNL1\", \"ISOC1\", \"CHPF\", \"INSYN2B\", \"DMTF1\", \"ZSWIM6\", \"NR2C2\", \"FTX\", \"DDX19B\", \"WDR59\", \"GRM3-AS1\", \"C3orf18\", \"YRDC\", \"HROB\", \"ISM1\", \"ZNF296\", \"ZBTB43\", \"SEC63\", \"UBXN7\", \"TBL1X\", \"LIMD1\", \"DPH1\", \"RAB11FIP3\", \"SAMD1\", \"C1orf21\", \"UTP14C\", \"RAD18\", \"EXTL1\", \"PLIN1\", \"SIVA1\", \"RALGAPA1P1\", \"BTNL9\", \"CCNB3\", \"ZNF227\", \"CTDSP2\", \"REPIN1\", \"H3C12\", \"MAP2K1\", \"RBM4B\", \"ATAD2\", \"NT5C3A\", \"FRG1EP\", \"RBM25\", \"ALKBH1\", \"CYP2A6\", \"TRANK1\", \"FOXD2\", \"ZMPSTE24\", \"TMUB1\", \"MAP3K5\", \"NOM1\", \"SEPTIN6\", \"SLC28A3\", \"SLC35F5\", \"ARTN\", \"ZZEF1\", \"RNF181\", \"MIDEAS\", \"GPD2\", \"STMN1\", \"ZFC3H1\", \"NUDT19\", \"TLCD1\", \"KDF1\", \"ANKRD28\", \"RFLNB\", \"PTPRN2\", \"COLGALT2\", \"NKTR\", \"SLC23A2\", \"EFNA4\", \"GPR160\", \"MAPK8IP3\", \"FMNL3\", \"JKAMP\", \"AP5M1\", \"MRTO4\", \"CHTF18\", \"RBM3\", \"MKLN1-AS\", \"GLT8D1\", \"FNDC10\", \"NUDT9\", \"VSIG1\", \"C6orf136\", \"NCBP1\", \"SLC41A3\", \"CRNKL1\", \"KPNA4\", \"ARMC8\", \"NF1\", \"TMEM60\", \"TIMM29\", \"SLC35B4\", \"MRPL24\", \"AZIN1\", \"SPATS2\", \"C22orf39\", \"AFTPH\", \"FOCAD\", \"IFT46\", \"NCOR1\", \"ASPHD1\", \"PHACTR1\", \"SH2D3A\", \"NDUFB11\", \"FARP2\", \"GET1\", \"TWF1\", \"MAPRE2\", \"DYRK1B\", \"C22orf23\", \"GPX3\", \"EZR\", \"LAMB4\", \"CD6\", \"UNC50\", \"FAM182B\", \"PSMG2\", \"CBLB\", \"TANK\", \"LUC7L2\", \"ZSCAN20\", \"KYNU\", \"GUCY2C\", \"LINC00461\", \"ELP1\", \"AGAP4\", \"PPARA\", \"MPZL2\", \"SETD1A\", \"MSH6\", \"DDX1\", \"CORT\", \"LINC00449\", \"CD3E\", \"CCDC120\", \"SEMA4F\", \"ROCK2\", \"RDX\", \"BLCAP\", \"HERC1\", \"OCM\", \"SEPTIN10\", \"CEP162\", \"POLR3D\", \"RANBP1\", \"GS1-279B7.1\", \"ATG9B\", \"POTEKP\", \"SGSM3\", \"MARCHF1\", \"ABCC8\", \"TTPAL\", \"ZNF541\", \"CALML6\", \"MTBP\", \"RAB27B\", \"CSRNP2\", \"TFIP11\", \"DISP3\", \"ZC3H7A\", \"JAM3\", \"LINC02725\", \"LAGE3\", \"GEMIN4\", \"SF3B1\", \"MTFR2\", \"CDC42EP1\", \"CEBPG\", \"ZNF485\", \"ACOX3\", \"GLCE\", \"DERL1\", \"MFNG\", \"FOXK1\", \"CD80\", \"FAM8A1\", \"KCTD18\", \"TBC1D5\", \"RASA3\", \"PIP4K2B\", \"RUNX3-AS1\", \"ARHGEF35-AS1\", \"CHAMP1\", \"ZNF121\", \"HLA-DPB2\", \"MORC4\", \"CBFA2T2\", \"SNRPD3\", \"TVP23A\", \"TIMM21\", \"ADO\", \"MYO1E\", \"DPEP2\", \"GAPDHS\", \"WFIKKN2\", \"TENT5A\", \"ACTR3B\", \"DDX54\", \"NBAS\", \"DHX29\", \"LOH12CR2\", \"ATP6V1A\", \"SPTAN1\", \"BTRC\", \"PRMT2\", \"CDV3\", \"RAB33B\", \"DTX3\", \"ARFGEF3\", \"PAICS\", \"MIR7152\", \"TBL3\", \"METTL23\", \"QKI\", \"CTR9\", \"TRAV35\", \"SPCS1\", \"PI4KA\", \"YTHDF1\", \"HACL1\", \"IL17RD\", \"WAC\", \"TNK1\", \"SH3TC1\", \"SUPT3H\", \"VDAC3\", \"FAM149B1\", \"WDR35\", \"METTL2A\", \"SBK1\", \"ILVBL\", \"ZKSCAN8\", \"STAM\", \"KCNA3\", \"EEF2\", \"SHMT2\", \"GPR89A\", \"HNRNPU\", \"THRAP3\", \"ST13\", \"CHD2\", \"DHTKD1\", \"PPIL1\", \"GALC\", \"HNRNPD-DT\", \"IMMT\", \"MPC2\", \"DNASE1L2\", \"RASGRP2\", \"LINC01122\", \"MIR3609\", \"LRRC38\", \"MAPKAPK5\", \"MMP15\", \"STYXL2\", \"IDI1\", \"ND2\", \"PIGG\", \"GANAB\", \"PRKRIP1\", \"TMEM184C\", \"CPED1\", \"RPAIN\", \"RPH3AL\", \"LINC02814\", \"SMPD1\", \"INTS5\", \"GNL2\", \"PPP1R16B\", \"ZFP91\", \"LMF2\", \"SGK2\", \"SPG7\", \"LOC101930112\", \"FAM177A1\", \"LOC101927178\", \"ZNF263\", \"KCTD9\", \"MORC1\", \"ADCK5\", \"TNFRSF13B\", \"RABGAP1\", \"ERP29\", \"MRPS25\", \"LRRC3\", \"HLCS\", \"TNFSF8\", \"KLHL6\", \"PMFBP1\", \"LZTS2\", \"SAP30\", \"UVRAG\", \"C12orf4\", \"DENND10\", \"CCDC28A\", \"TTC39A\", \"ZNF81\", \"NAGLU\", \"GPHN\", \"NUP43\", \"DKC1\", \"GATAD2B\", \"SLC44A2\", \"WHAMM\", \"MIOS-DT\", \"PPARGC1B\", \"DNAJC24\", \"SLAIN2\", \"DDI2\", \"DNPH1\", \"BSPRY\", \"ITGA9-AS1\", \"TRBV29-1\", \"PDCL\", \"DVL2\", \"AHSA2P\", \"MPHOSPH9\", \"ZC3H8\", \"VGLL4\", \"EBP\", \"DCP1A\", \"FASTKD5\", \"SF3B3\", \"PVT1\", \"ASRGL1\", \"ZNF496\", \"ENTR1\", \"CNBP\", \"TFAP4\", \"NHLRC1\", \"SURF6\", \"MZB1\", \"NACC2\", \"UMPS\", \"SIDT2\", \"PRMT1\", \"LSM4\", \"CCNL2\", \"CEP112\", \"IP6K2\", \"IPP\", \"GPLD1\", \"CAPN9\", \"MS4A4E\", \"FBXO16\", \"RPL31P11\", \"RDH11\", \"CRYZL1\", \"KIF21A\", \"STRAP\", \"WDR33\", \"PRKN\", \"USP30\", \"SNORA12\", \"SPX\", \"AVL9\", \"ERICH2-DT\", \"MRAP2\", \"SNAP25\", \"CAMTA1\", \"H2AZ2\", \"SPATA17\", \"GCC2-AS1\", \"SERINC1\", \"PTPN12\", \"CCND2-AS1\", \"DYNC1I2\", \"TGM5\", \"ASCL2\", \"ZC3H12D\", \"SRGN\", \"DNAH14\", \"XPOT\", \"MCCC1\", \"NOL9\", \"LLPH\", \"CIAPIN1\", \"KLF13\", \"ATP5MC3\", \"ZBTB3\", \"PKD1\", \"ZNF615\", \"RBM41\", \"AVEN\", \"HIRIP3\", \"PFKL\", \"PDPR\", \"TNFRSF25\", \"NECAB3\", \"NSD2\", \"TTC23L\", \"STK38L\", \"COMTD1\", \"DLEU7\", \"DLEU1-AS1\", \"KDM8\", \"FAM21EP\", \"FAM21EP\", \"GRID2IP\", \"RPP38\", \"ARRDC1-AS1\", \"CYP3A5\", \"ZNF442\", \"LCMT1-AS2\", \"LINC01465\", \"SLC8A3\", \"MEF2D\", \"HUWE1\", \"RMI2\", \"CHD4\", \"CSGALNACT2\", \"EIF2S1\", \"AQR\", \"TNFSF4\", \"HSH2D\", \"PRR3\", \"STPG3\", \"API5\", \"CDIN1\", \"NUDCD3\", \"ZNF7\", \"GPATCH2L\", \"TTC13\", \"POLE3\", \"ENO2\", \"ZKSCAN1\", \"F12\", \"ZNF337\", \"ILF3\", \"DHRS11\", \"TICAM2-AS1\", \"DRG1\", \"UBE4B\", \"SCAF4\", \"THADA\", \"DNMBP-AS1\", \"SPATA13\", \"CCDC85B\", \"PDCD4-AS1\", \"HTR3E\", \"DHX36\", \"PYGB\", \"SUCLG2\", \"GALNTL6\", \"LLGL2\", \"MIRLET7BHG\", \"ZWILCH\", \"PPP2R2A\", \"SCAMP1\", \"DUSP5\", \"EIF3D\", \"ZNF80\", \"DYNLT1\", \"TRMT1\", \"ZBED5-AS1\", \"KAT6A\", \"TM9SF2\", \"PLET1\", \"GMPS\", \"RASSF2\", \"PDHX\", \"TDP2\", \"C4orf36\", \"PSMA1\", \"MEGF8\", \"TRA2B\", \"LBR\", \"ANKRD2\", \"VPS54\", \"ANKMY2\", \"SEMA6A\", \"KDM2B\", \"IQCH\", \"VPS37A\", \"ZNF574\", \"CPNE8\", \"SECISBP2\", \"TESPA1\", \"HAUS2\", \"LINC00623\", \"HMGN2P46\", \"RNF227\", \"FPGT\", \"GPR65\", \"NRARP\", \"UBOX5-AS1\", \"ZBTB4\", \"PCDHGC3\", \"SYS1\", \"INIP\", \"RASAL2\", \"ZNF740\", \"MPLKIP\", \"PRSS23\", \"SPOPL\", \"KLHDC9\", \"TMEM184B\", \"ZDHHC2\", \"PGM3\", \"HERC4\", \"PPM1F\", \"CCDC169\", \"FITM2\", \"C19orf53\", \"SERPINH1\", \"STIL\", \"PRSS8\", \"FAM111A\", \"AKIRIN1\", \"SPRYD4\", \"TMEM185A\", \"DUOX1\", \"AKR7A2P1\", \"RDH16\", \"HRAS\", \"PPP2R2D\", \"ABRAXAS2\", \"RIMOC1\", \"ATP13A3\", \"IPO7\", \"ZNF865\", \"CDHR2\", \"SCYL3\", \"HEXIM2\", \"IFT43\", \"ZFX\", \"CIAO2B\", \"ATXN1-AS1\", \"OSBP\", \"RBL2\", \"GAS6-AS1\", \"ZNF436\", \"AHCYL2\", \"TMEM52B\", \"CWC22\", \"C1orf174\", \"USP25\", \"TXNDC15\", \"LINC01431\", \"PRPF6\", \"SFXN1\", \"RNF145\", \"DSN1\", \"WDR11-DT\", \"YPEL1\", \"ZNF593\", \"PRXL2A\", \"MIR3680-1\", \"HINT2\", \"SNHG20\", \"ZNF561\", \"TRAV8-5\", \"DPY19L1\", \"RPGR\", \"RNF44\", \"DACT3-AS1\", \"LOC100129203\", \"KCNC4\", \"ZFP90\", \"PRPSAP2\", \"NANOS1\", \"IKZF1\", \"CD247\", \"SPAST\", \"PEX5\", \"IGSF8\", \"RFTN2\", \"FGD6\", \"HNRNPC\", \"KANK1\", \"SLC28A2\", \"CHAF1B\", \"DNAJC27\", \"ERVW-1\", \"HINT3\", \"FBN1\", \"NDUFB6\", \"NEK8\", \"GAN\", \"LOC100506274\", \"USP46\", \"TACR1\", \"RHOT2\", \"PRPS2\", \"MAST4\", \"EPS15\", \"RGS16\", \"LRRFIP1\", \"CYP20A1\", \"NHLRC3\", \"RAB3GAP1\", \"BANP\", \"PLCH2\", \"LRP12\", \"LINC02288\", \"SPRING1\", \"DPH3\", \"TMED4\", \"ILRUN-AS1\", \"MCM7\", \"GOLM2\", \"SCRIB\", \"NUBP2\", \"SIN3A\", \"NEXN\", \"PABPC1\", \"HSPA4\", \"FAM216A\", \"KRT5\", \"YIPF6\", \"CD180\", \"NEPRO-AS1\", \"MBD2\", \"ZNF586\", \"KDM6A\", \"ARPP19\", \"CA5B\", \"LYNX1\", \"TBPL1\", \"SAMD10\", \"DNMT3A\", \"GGT7\", \"FAM20B\", \"ZNF532\", \"PTP4A1\", \"PAK4\", \"ZNF652\", \"MIR573\", \"EMP2\", \"MPZL3\", \"STARD4-AS1\", \"KDM5B\", \"TTLL5\", \"TYRO3\", \"ARL6IP1\", \"SCMH1\", \"GOLPH3\", \"ANPEP\", \"MRPS26\", \"CUL4B\", \"SPATA25\", \"ZNF132\", \"UCHL3\", \"TUBGCP4\", \"RNF111\", \"ATPSCKMT\", \"LOC100129534\", \"BMS1\", \"RORA\", \"MRPL18\", \"ISG20\", \"STMN3\", \"FER1L4\", \"PIK3C3\", \"SKA2\", \"PTGDR\", \"GPD1\", \"INO80\", \"PTBP3\", \"MDC1\", \"UGT3A2\", \"A1BG\", \"UTP25\", \"WTAP\", \"DPYSL3\", \"DNAJA2\", \"C11orf54\", \"OSMR\", \"GVQW3\", \"CDS2\", \"STAMBPL1\", \"NAXE\", \"KIDINS220\", \"KLRD1\", \"PTCD3\", \"ZNF749\", \"PPP4R3B\", \"DIP2A-IT1\", \"CDH3\", \"SFPQ\", \"TIMMDC1\", \"MRGPRD\", \"SLC35D1\", \"NAA15\", \"HIC2\", \"ZNF717\", \"CLCF1\", \"OGT\", \"NETO2\", \"PLEKHA2\", \"CNTROB\", \"TCEA2\", \"EDRF1\", \"NCOA7\", \"PNN\", \"NAB1\", \"SKIL\", \"TUBB1\", \"GABARAPL1\", \"CLPP\", \"NOTCH3\", \"TMEM8B\", \"TFB2M\", \"NEIL3\", \"IBTK\", \"CCDC170\", \"KDELR2\", \"CLCN3\", \"IGLV9-49\", \"ZNF584\", \"GNA13\", \"IBA57\", \"LYRM9\", \"MAP3K10\", \"RIOX2\", \"ANP32AP1\", \"PERP\", \"MCM8\", \"SMIM14-DT\", \"MED14\", \"ADAM23\", \"ACP1\", \"LRRC20\", \"MPHOSPH8\", \"TUT4\", \"CDR2\", \"ANKRD17\", \"CASK\", \"SPRTN\", \"NIPSNAP3A\", \"RUFY3\", \"USP15\", \"CTCF\", \"ECM1\", \"CYTH1\", \"PECR\", \"TMEM50B\", \"PIP5K1B\", \"CXCR5\", \"PPP1R27\", \"PARP15\", \"METTL2B\", \"IGLV2-8\", \"EPM2AIP1\", \"THOC1\", \"PRDM10\", \"WDR82\", \"NUP50\", \"CD24\", \"EFHD2-AS1\", \"MXRA8\", \"SUGT1P3\", \"SUGT1P3\", \"NR4A1\", \"TCOF1\", \"TRMT5\", \"NBR2\", \"PPP1CC\", \"HBEGF\", \"SPIN3\", \"ME3\", \"FZD1\", \"LINC02637\", \"BSN\", \"CEP43\", \"COPB1\", \"RHEB\", \"RCAN1\", \"LINC02391\", \"DPF2\", \"PHF2\", \"ZMYND8\", \"MMADHC\", \"PLLP\", \"FNIP1\", \"UQCR10\", \"AIDA\", \"H2BC13\", \"KRAS\", \"ABI3BP\", \"SLC46A2\", \"TMEM192\", \"TIMM9\", \"DESI2\", \"NLE1\", \"GPRIN3\", \"SYNJ1\", \"SH3RF3-AS1\", \"C10orf143\", \"NELFA\", \"CPOX\", \"SERINC5\", \"CHD6\", \"RACK1\", \"ZNF33A\", \"PRR7-AS1\", \"NID2\", \"BTN1A1\", \"TMEM101\", \"PDCD11\", \"MRGBP\", \"ZSWIM7\", \"TMED7\", \"DNAJC1\", \"SLC25A15\", \"ZNF16\", \"FLT1\", \"MLH1\", \"MFSD3\", \"PDIA5\", \"RPUSD4\", \"HLA-B\", \"AMMECR1L\", \"TMEM70\", \"POLR2J4\", \"LOC101929536\", \"WDR48\", \"C17orf58\", \"TMED3\", \"ARID1A\", \"GTF3A\", \"RNF2\", \"SDHAF3\", \"SEC61G\", \"DGKD\", \"LOC100130691\", \"RPL23AP64\", \"NCAPH2\", \"HOOK3\", \"LOC119746555\", \"CYB561A3\", \"CCDC51\", \"HAUS7\", \"MTREX\", \"GINM1\", \"ZNF25\", \"KLHDC4\", \"CUL2\", \"EIF2AK4\", \"RPL8\", \"AIG1\", \"LGI4\", \"KCNN3\", \"TGFBRAP1\", \"SIK3\", \"TAF5\", \"PLCG1\", \"PAK2\", \"COL6A3\", \"SGMS1\", \"CASZ1\", \"LSM14A\", \"GDI2\", \"HSP90B1\", \"HLX\", \"WASH8P\", \"ZBTB24\", \"PDCD2\", \"ZNF780A\", \"INTS6-AS1\", \"ARHGEF3\", \"TMEM63A\", \"ARF6\", \"EPRS1\", \"PARP8\", \"SLC25A32\", \"ABL1\", \"FXN\", \"MARCHF6\", \"PPP1R14B\", \"TMEM201\", \"PDE12\", \"COQ10A\", \"BAZ1B\", \"RHOV\", \"TCF3\", \"KATNBL1P6\", \"SLK\", \"METTL16\", \"SMG6\", \"RDH10\", \"SLC7A4\", \"ZC3H7B\", \"RAB2A\", \"DCDC2\", \"MIR5700\", \"MIR597\", \"TBRG4\", \"ND3\", \"SMARCB1\", \"ZFYVE16\", \"NRP2\", \"PRX\", \"TNFAIP8L1\", \"GAS2L3\", \"SCUBE1-AS1\", \"MAB21L4\", \"LAMC2\", \"SKINT1L\", \"SNORD116-2\", \"LRRIQ4\", \"IGHV3-19\", \"LINC02067\", \"LINC02715\", \"DOK5\", \"OR4E2\", \"IGHV3OR16-17\", \"MIR4729\", \"LINC01748\", \"EML1\", \"OVOL1-AS1\", \"LINC02094\", \"MTTP\", \"TCEAL7\", \"LOC105375903\", \"SLC25A5-AS1\", \"LOC107986837\", \"ATP4B\", \"MIR4671\", \"MIR340\", \"CLCA4-AS1\", \"SLC38A9\", \"KRTAP12-3\", \"KRTAP10-7\", \"PRTG\", \"ATP6\", \"IL1RL1\", \"KLK7\", \"MIR128-1\", \"LINC01350\", \"GDA\", \"MDH1B\", \"MIR643\", \"KCTD16\", \"ECSCR\", \"MIR7850\", \"PLCXD3\", \"LINC01258\", \"FAM131C\", \"LHFPL3\", \"DEFT1P\", \"SNORD3B-2\", \"H4C15\", \"BCO1\", \"SCARNA18\", \"TSPAN11\", \"ADAMTS12\", \"DTD1-AS1\", \"LINC02274\", \"IGLV11-55\", \"LINC02832\", \"LOC400622\", \"OR2T34\", \"COX4I2\", \"GSAP\", \"ZC2HC1B\", \"NPBWR2\", \"OR7C1\", \"UBTD2\", \"FOXN2\", \"ADAMTSL3\", \"IL5\", \"CRYBB2\", \"LNCARSR\", \"CLMAT3\", \"LINC01690\", \"CLDN16\", \"ITIH6\", \"ZPLD1\", \"CLYBL-AS1\", \"GSC2\", \"ATP1B4\", \"FIGLA\", \"NCMAP\", \"MIR6815\", \"CDKL4\", \"P3H2-AS1\", \"MIR2467\", \"DMRT1\", \"OR56B4\", \"CELP\", \"PAXIP1\", \"C3orf38\", \"LCN10\", \"MTCH1\", \"NT5C\", \"PMPCB\", \"FEZ2\", \"FKRP\", \"TPRN\", \"MMGT1\", \"MRPS27\", \"TCP11L2\", \"BEND6\", \"PLTP\", \"CHD3\", \"CHST13\", \"NOP53-AS1\", \"NUP205\", \"IPO5P1\", \"POLR2B\", \"GOLGA8B\", \"UBXN4\", \"NOA1\", \"AACS\", \"EIF5B\", \"IPO11\", \"IPO11-LRRC70\", \"THRA\", \"TRIR\", \"MRPS30\", \"EPS8\", \"GALNT1\", \"R3HCC1L\", \"TMEM134\", \"IGHV3-41\", \"TRAV13-1\", \"DMD\", \"MRPL46\", \"SYT5\", \"GPX7\", \"PDZD2\", \"ZNF775\", \"HMGXB4\", \"SNORA5C\", \"P4HTM\", \"THEMIS\", \"MFSD14B\", \"SENP2\", \"ELF2\", \"LSG1\", \"MBP\", \"GUCY1A2\", \"PLA2G4F\", \"FAM230I\", \"CTAGE9\", \"LINC02623\", \"BCAN-AS1\", \"LINC02533\", \"TIMP4\", \"APOH\", \"MIR6737\", \"TBX3-AS1\", \"LOC101928651\", \"LINC01123\", \"RERG\", \"MUC13\", \"GFRA3\", \"LINC01634\", \"EGFLAM\", \"PLA2G4E\", \"OOSP4B\", \"FAM242F\", \"LINC01764\", \"HILPDA-AS1\", \"CA10\", \"LINC02199\", \"NLRP8\", \"APOC1P1\", \"APOC1P1\", \"MEIS1-AS2\", \"DSG1\", \"MKRN7P\", \"H2AC17\", \"PCDHAC1\", \"SLC18A3\", \"RTL3\", \"DUSP5P1\", \"FAM99B\", \"LOC100507336\", \"OR6M1\", \"MIR3194\", \"PGR-AS1\", \"LOC101926964\", \"LSINCT5\", \"LINC01910\", \"TBC1D3G\", \"LINC00621\", \"TGFA-IT1\", \"LINC00365\", \"FTCD-AS1\", \"DEPDC1-AS1\", \"MIR5706\", \"LINC01180\", \"CABP1-DT\", \"LINC02179\", \"LINC02620\", \"HSFX4\", \"MIR548XHG\", \"TRDN-AS1\", \"AADACL2-AS1\", \"MIR548AU\", \"LOC101928386\", \"LOC101928416\", \"LINC02387\", \"LOC101929130\", \"LINC01198\", \"LINC01914\", \"LOC101930420\", \"MIR5088\", \"MIR4277\", \"MIR4646\", \"MIR4530\", \"MIR6790\", \"MIR599\", \"MIR649\", \"RHOXF2B\", \"MIR454\", \"SNORD116-10\", \"SNORA84\", \"ARHGAP42-AS1\", \"HPN-AS1\", \"SLC25A21-AS1\", \"CALML3-AS1\", \"GOLGA8F\", \"TNIP2P1\", \"GACAT2\", \"MIR1268A\", \"TMED7-TICAM2\", \"MIR2116\", \"MIR548E\", \"MIR548T\", \"MIR548V\", \"MIR3065\", \"MIR3145\", \"LOC100505851\", \"LINC00867\", \"FZD4-DT\", \"MIR6509\", \"KCNG3\", \"MIR8087\", \"TCIM\", \"KRTAP17-1\", \"DYDC2\", \"SERPINB12\", \"WFDC8\", \"OR4D2\", \"LINC00635\", \"F11-AS1\", \"ZNF454\", \"LINC00226\", \"FREM2\", \"C1QTNF9B\", \"ANKRD20A19P\", \"GOLGA6L22\", \"MIR429\", \"FAM226B\", \"MIR942\", \"MIR4297\", \"EGFLAM-AS2\", \"MIR4425\", \"LINC01179\", \"MIR6512\", \"SNORA15\", \"SIM1-AS1\", \"LOC105375026\", \"YAE1-DT\", \"NDNF\", \"IGHVII-33-1\", \"MIR8078\", \"IGHVIII-11-1\", \"LINC01574\", \"LOC102723536\", \"FRMD3-AS1\", \"ASB15-AS1\", \"LOC105369329\", \"LINC02385\", \"LINC02195\", \"LOC105371366\", \"LOC105372069\", \"LOC105375233\", \"TFPI2-DT\", \"LINC01942\", \"LINC02222\", \"SEMA6A-AS2\", \"LOC105379301\", \"LINC01381\", \"HTR3E-AS1\", \"LINC01283\", \"SNORA74C-1\", \"BMS1P4-AGAP5\", \"BTF3P11\", \"GABRA4\", \"PCDH7\", \"CACNG2\", \"CAP2\", \"PPAN-P2RY11\", \"CYLC2\", \"LINC00520\", \"CSRP3\", \"CDK5R2\", \"HSPB3\", \"CLDN2\", \"RASSF9\", \"ADIPOQ\", \"FGFBP1\", \"LINC01587\", \"EFS\", \"CFHR4\", \"SOX21\", \"CLCA4\", \"SOSTDC1\", \"PYGO1\", \"FGF20\", \"RNU1-1\", \"DNMT3L\", \"TAS2R8\", \"PI15\", \"VCX2\", \"VRTN\", \"SLC22A11\", \"PCDHB12\", \"PCDHB4\", \"FMN2\", \"C2orf83\", \"C2orf83\", \"MYH13\", \"SLC30A2\", \"PRM3\", \"COL14A1\", \"IGFL2-AS1\", \"AVPR1B\", \"CPN1\", \"CST1\", \"DIO2\", \"FOXE3\", \"FUT5\", \"GABRG3\", \"GATA4\", \"GSTT2\", \"GUCA2A\", \"HTR4\", \"IGSF1\", \"MSMB\", \"PAX3\", \"PON3\", \"PPP2R2C\", \"RAG2\", \"REG1A\", \"RXRG\", \"SAA2\", \"SLC15A1\", \"TBX15\", \"TRBV20OR9-2\", \"UCP1\", \"AKR1B10\", \"GPC6\", \"MS4A5\", \"MIR200A\", \"NLRP14\", \"DUSP29\", \"LINC01692\", \"FAM201B\", \"FOXI3\", \"PTCHD3\", \"IGHV1OR15-1\", \"IGFL3\", \"GLYATL3\", \"OR5AN1\", \"OR11H4\", \"ANAPC1P6\", \"MIR200B\", \"LINC01091\", \"MIR32\", \"MIR95\", \"TBC1D3C\", \"LINC00857\", \"FZD10-AS1\", \"OR51J1\", \"ANKRD20A3P\", \"ANKRD20A3P\", \"EIF3IP1\", \"MIR374A\", \"SPANXA2-OT1\", \"NPIPA2\", \"SPATA42\", \"LINC02112\", \"LINC02181\", \"KRT18P55\", \"DMBX1\", \"GOLGA8G\", \"OR2G2\", \"SHCBP1L\", \"ST6GALNAC5\", \"USP26\", \"ADGRA1\", \"SORCS1\", \"TSGA13\", \"ART5\", \"BTBD16\", \"B4GALNT2\", \"PTH2\", \"LINC00330\", \"OR6N2\", \"LINC02874\", \"LINC00608\", \"NALCN\", \"ANKS4B\", \"PTF1A\", \"CATSPERD\", \"OR52B2\", \"ADAMTS18\", \"BAALC-AS2\", \"DPPA2\", \"LOC100289470\", \"LOC100506444\", \"MIR1276\", \"MIR1302-4\", \"MIR1303\", \"MIR3944\", \"PPM1J-DT\", \"PCAT14\", \"MIR6877\", \"LINC02031\", \"LOC105374114\", \"LINC02778\", \"LOC107986281\", \"MIR625\", \"MIR648\", \"GALNT13\", \"NPSR1-AS1\", \"TENM2\", \"MEIOSIN\", \"ALPG\", \"GJB1\", \"OPCML\", \"FGF16\", \"THY1\", \"IRX1\", \"OR2AE1\", \"NKX6-2\", \"LINC01618\", \"OR8B12\", \"VWC2\", \"LINC01766\", \"MIR4689\", \"MIR5089\", \"LINC01470\", \"LINC02075\", \"MIR548I2\", \"LINC01870\", \"LINC01878\", \"LINC01828\", \"LINC02160\", \"LINC02267\", \"LINC01763\", \"SCARNA21B\", \"MIR4436A\", \"LOC101927661\", \"LOC100132686\", \"LINC01106\", \"EDNRA\", \"SIX1\", \"PDPN\", \"SYNGR4\", \"RASSF10\", \"CCDC54\", \"TENM3\", \"KANK4\", \"TMEM132D-AS1\", \"LINC00632\", \"TMEM212\", \"LINC01205\", \"LINC01446\", \"MRM1\", \"KIZ-AS1\", \"ZNF852\", \"BICD2\", \"MIATNB\", \"LAYN\", \"GNL1\", \"EFR3A\", \"LINC02611\", \"MYC\", \"FBXW9\", \"MAGI3\", \"VPS37C\", \"GRSF1\", \"ASAH1\", \"DHX9\", \"SUGT1\", \"GTSF1\", \"PPP1R35\", \"DNAAF5\", \"SAP130\", \"RLF\", \"ITPKB-IT1\", \"MYL12B\", \"TTC5\", \"USP33\", \"FAM53B-AS1\", \"KIAA0753\", \"TBCC\", \"CSE1L\", \"CRY2\", \"SNHG9\", \"HEXIM1\", \"APOBEC2\", \"MIR4635\", \"ALMS1\", \"ARHGEF9\", \"NRG2\", \"SMYD3-AS1\", \"ZNF789\", \"WDR70\", \"TANGO6\", \"TMEM44-AS1\", \"THBS4-AS1\", \"UBE2B\", \"ABTB2\", \"ANXA9\", \"RNASE7\", \"RIC1\", \"ITIH2\", \"PHF7\", \"CSNK2A1\", \"EIF2S3B\", \"DUSP9\", \"SNORA10B\", \"VSX1\", \"SMIM45\", \"LOC102723670\", \"CEP295\", \"PTCHD1\", \"ATP13A5\", \"IL37\", \"FOXF1\", \"PRKACG\", \"ZMYM5\", \"DAND5\", \"CAMKV\", \"MAN1A1\", \"DHH\", \"APOL5\", \"RAPGEF4-AS1\", \"SVOP\", \"MIR7150\", \"LINC02228\", \"SNORD82\", \"GUSBP17\", \"GJA1\", \"BTN2A1\", \"IFNL2\", \"MIR941-1\", \"MROH2A\", \"SUGCT-AS1\", \"MIR6871\", \"MDFIC\", \"PRSS38\", \"PPP1R12A-AS2\", \"TMEM190\", \"OSTN\", \"GALR1\", \"PHYH\", \"LOC100131635\", \"SMYD2\", \"RCCD1\", \"CHI3L2\", \"BAIAP2\", \"FBXL4\", \"SLC9B2\", \"TP53I13\", \"KLHL32\", \"ERMARD\", \"WBP11\", \"TIPIN\", \"PPP1R16A\", \"KHDC4\", \"HAUS5\", \"SLA2\", \"NCK2\", \"LINC01560\", \"JCHAIN\", \"ZNF70\", \"STK24\", \"PTDSS2\", \"COPS5\", \"MBTPS2\", \"CRB2\", \"ZKSCAN7-AS1\", \"PRDM4\", \"SUV39H1\", \"RNVU1-4\", \"NHLRC2\", \"TSPAN6\", \"MIEF2\", \"CYLD\", \"CD40\", \"ST8SIA1\", \"SLC17A7\", \"FBXL12\", \"YDJC\", \"SLC2A7\", \"UQCRHL\", \"MTO1\", \"MED19\", \"GLRX3\", \"TRAJ3\", \"PEBP1\", \"CARMIL2\", \"NRAS\", \"GDAP1\", \"ALG6\", \"FAM218A\", \"AKAP1\", \"MYRIP\", \"RPL34-DT\", \"ELOVL5\", \"FMO5\", \"SMAP2\", \"CAPRIN1\", \"BRI3BP\", \"ND1\", \"TTLL1-AS1\", \"DCP2\", \"ZNF514\", \"RTF1\", \"HIKESHIP2\", \"C20orf96\", \"MVK\", \"PTGES2-AS1\", \"CSMD2\", \"RMND5B\", \"APC2\", \"TAF1B\", \"RESF1\", \"TRAF3IP1\", \"RCBTB1\", \"KMT5B\", \"LRRC8C\", \"PANX1\", \"KCNAB1\", \"MRPS18B\", \"RLIM\", \"ZC3H11A\", \"CTAGE15\", \"LOC101928844\", \"COX18\", \"SLC49A4\", \"TRAPPC8\", \"VNN3P\", \"MTRFR\", \"NEFH\", \"LOC101929710\", \"TP53TG5\", \"DDX6\", \"HPR\", \"RFC1\", \"NUP133\", \"LTB\", \"ATP7A\", \"DNAH10\", \"MTMR10\", \"INGX\", \"IFNLR1\", \"ZNF468\", \"RIC8B\", \"PRRT3\", \"FAM107B\", \"CCT6A\", \"SPTY2D1\", \"POLD3\", \"COQ8A\", \"ZNF768\", \"TENT4A\", \"ZNF630\", \"SNPH\", \"PTMA\", \"SMARCA4\", \"SESN3\", \"SPRED1\", \"LIX1L\", \"ERCC8\", \"ZNF41\", \"CMAHP\", \"HECW2\", \"LONRF3\", \"ENDOD1\", \"HSD17B2\", \"DLD\", \"POLE2\", \"S100A5\", \"WDR31\", \"NUDT2\", \"SYNRG\", \"TEX29\", \"SLC5A5\", \"APH1B\", \"KCNG2\", \"FGD1\", \"CITED4\", \"RGS2\", \"GNMT\", \"AKR7L\", \"MST1R\", \"TEAD1\", \"XPO4\", \"PHF3\", \"CACNA2D2\", \"LAMA2\", \"SLC2A12\", \"PRDX4\", \"DCAKD\", \"RAD51-AS1\", \"KHDRBS1\", \"EPHB6\", \"SMYD5\", \"THAP7-AS1\", \"NIP7\", \"RPRD1B\", \"NAAA\", \"COP1\", \"TRAPPC10\", \"MID2\", \"LOC101928988\", \"RAB33A\", \"LOC101929452\", \"TRAPPC2\", \"CLEC16A\", \"TEDC1\", \"RALGAPB\", \"BPNT2\", \"MN1\", \"WDR3\", \"LINC00899\", \"CLSTN1\", \"PRR29-AS1\", \"AEN\", \"TSPY26P\", \"ZNF75D\", \"ARL4C\", \"GSE1\", \"GPHA2\", \"TRAPPC6A\", \"NUDT18\", \"DROSHA\", \"HPS4\", \"HACD3\", \"SLC12A9-AS1\", \"CLPX\", \"PAOX\", \"BRCA2\", \"IDE\", \"TRBV4-1\", \"CEACAM19\", \"FUZ\", \"LZIC\", \"BAG4\", \"MEIS1\", \"ALDH1A1\", \"HDAC2-AS2\", \"CCND2\", \"FBXO39\", \"SBNO1\", \"VPS51\", \"MRPS17\", \"TTTY14\", \"CDC20B\", \"MAT2B\", \"ESYT2\", \"RASSF7\", \"RFTN1\", \"PLK2\", \"OVGP1\", \"TRAV28\", \"IPO8\", \"EIF2S2\", \"AGAP6\", \"PRDM15\", \"TIAM2\", \"CHMP3-AS1\", \"SLC26A4\", \"KLF5\", \"PNMA8B\", \"EOLA2\", \"APEX1\", \"TAF2\", \"DCAF16\", \"RPS6KA3\", \"MIR25\", \"NCR3\", \"CCDC162P\", \"MUTYH\", \"ZNF469\", \"LOC100130548\", \"TMED10\", \"LACC1\", \"PPHLN1\", \"GTF2E2\", \"SEMA6A-AS1\", \"ZBTB7C\", \"KIF5C\", \"CBLL1\", \"INPP5B\", \"TPBGL\", \"KIR2DS4\", \"HEATR5B\", \"CERT1\", \"ARHGEF34P\", \"RCE1\", \"RTL10\", \"TAF13\", \"STXBP4\", \"SHOC2\", \"LINC00339\", \"CCDC126\", \"TMEM161B-DT\", \"GNAQ\", \"PRELID3B\", \"RCSD1\", \"SNX13\", \"ZNF350-AS1\", \"SLC15A2\", \"NT5C1B\", \"LINC-PINT\", \"RSRP1\", \"ZBTB18\", \"GGA2\", \"EPHA1\", \"BCDIN3D\", \"KLHL36\", \"HSP90AB1\", \"JUN\", \"ELAPOR1\", \"GPBP1L1\", \"PURB\", \"F2RL1\", \"KIF2A\", \"TSPYL2\", \"TRIM50\", \"FAIM\", \"HSD17B8\", \"OLFM2\", \"COIL\", \"GNPTAB\", \"AP1S2\", \"STXBP3\", \"TRIM56\", \"CASP8\", \"TAGLN2\", \"ZC3H14\", \"PAIP2\", \"SYNCRIP\", \"ZNF816\", \"ZNF71\", \"HESX1\", \"IL21R\", \"SLTM\", \"CCDC12\", \"MTHFSD\", \"CALM2\", \"KRT86\", \"ZNF330\", \"TULP4\", \"UBE2E3\", \"DLGAP3\", \"ANKS6\", \"POU3F2\", \"WASHC4\", \"RAP1A\", \"ENTPD7\", \"GFM1\", \"MFSD4A\", \"SH3BGRL2\", \"COX1\", \"TMPRSS5\", \"CDKL5\", \"AAK1\", \"XKR8\", \"EXD3\", \"BIN1\", \"PHF20L1\", \"ATXN1L\", \"EBPL\", \"BMP3\", \"GLI1\", \"PTCD2\", \"LINC00239\", \"DLEU1\", \"DLEU7-AS1\", \"ABHD6\", \"EXO5\", \"WDR74\", \"SLC31A1\", \"C9orf72\", \"N4BP2L2\", \"GSK3B\", \"ZNF251\", \"CENPJ\", \"C1QTNF6\", \"CIPC\", \"CAND1\", \"RNF217\", \"KLF6\", \"GALNT7\", \"LOC100506235\", \"WDFY4\", \"SPAG9\", \"SYAP1\", \"KANTR\", \"TRRAP\", \"TMEM248\", \"C17orf80\", \"PALB2\", \"HTATSF1\", \"SDHD\", \"LONP1\", \"TARBP1\", \"UST-AS2\", \"SEPTIN7P2\", \"SEPTIN7P2\", \"RNASEH1-DT\", \"TMEM186\", \"DPM3\", \"RAP1B\", \"KAT2A\", \"TMEM182\", \"CAMSAP3\", \"DRAM2\", \"IVNS1ABP\", \"ANGPT2\", \"TBX1\", \"BRME1\", \"INPP5F\", \"TMEM131L\", \"NIT2\", \"NAPG\", \"LSP1P4\", \"TBC1D23\", \"MIR3173\", \"TRBV11-3\", \"USP9X\", \"TRBV14\", \"TEX101\", \"BTF3L4\", \"SFR1\", \"SKAP1\", \"DLAT\", \"PCF11\", \"ABHD14B\", \"PIGV\", \"SPNS3\", \"KCTD6\", \"NSMCE1\", \"GRWD1\", \"INKA1\", \"CYB5RL\", \"SLCO4C1\", \"OSBPL11\", \"RO60\", \"SEH1L\", \"ALDH16A1\", \"PDE8A\", \"HEATR6-DT\", \"SNAPC3\", \"MTM1\", \"ITCH\", \"TSPOAP1-AS1\", \"LMO7-AS1\", \"ZSCAN16\", \"TRAV11\", \"SPOP\", \"MEOX1\", \"FMNL2\", \"MAGT1\", \"BOK-AS1\", \"ANAPC4\", \"HOXB2\", \"MTERF2\", \"TXNIP\", \"PRPF8\", \"ZNF783\", \"CPLANE1\", \"WDR27\", \"MICOS13\", \"REXO4\", \"KANSL2\", \"RWDD2A\", \"GPRC5B\", \"KDM3A\", \"OTUD7B\", \"WDR20\", \"ATP7B\", \"SYVN1\", \"ZNF395\", \"TC2N\", \"C8orf82\", \"RPRD2\", \"ZNF354B\", \"C8G\", \"SCAF11\", \"MTERF4\", \"IRAK2\", \"BRPF3\", \"PPCS\", \"TMEM256\", \"TTC3\", \"IGLV2-34\", \"HAGHL\", \"NUP107\", \"SEMA3B-AS1\", \"GNG2\", \"MRPL58\", \"CHD7\", \"ALX4\", \"PPP6R3\", \"MYH9\", \"NBDY\", \"ANKRD44-DT\", \"MIR7974\", \"CAPN5\", \"NXT2\", \"DNHD1\", \"UBXN2A\", \"CNNM2\", \"DHX40\", \"ZNF629\", \"ZUP1\", \"MEPCE\", \"SNORD46\", \"TOB1-AS1\", \"FANCE\", \"BBS9\", \"ZMAT2\", \"CD164\", \"EP300\", \"CTSO\", \"JPX\", \"C5orf34-AS1\", \"CASTOR2\", \"TMPO-AS1\", \"NFX1\", \"NME1\", \"LOC102724594\", \"GATAD1\", \"ALKBH5\", \"DARS1\", \"DPH7\", \"ZNF592\", \"SFMBT1\", \"DOP1B\", \"MFAP2\", \"ZKSCAN2-DT\", \"SLC29A2\", \"LBX2\", \"CEP104\", \"CCDC32\", \"CDC73\", \"DNM3\", \"TOB2\", \"IGKV2-24\", \"SNIP1\", \"TMEM156\", \"SLC25A27\", \"CDR2L\", \"SLFNL1-AS1\", \"HPRT1\", \"HCFC1\", \"TCF7L2\", \"ASH1L\", \"FRMD8\", \"DEXI\", \"RBL1\", \"CCNH\", \"BPTF\", \"STPG1\", \"SLC25A33\", \"TGFBR1\", \"SYTL4\", \"FOS\", \"STRN\", \"ZDHHC14\", \"SCAMP1-AS1\", \"NEURL3\", \"NFYA\", \"ABRACL\", \"ULK2\", \"RBP7\", \"CNNM3\", \"BICRA\", \"DIRC3\", \"OLA1\", \"RIMBP3\", \"DDX46\", \"CROCC2\", \"HAR1A\", \"METAP1D\", \"LGALS8-AS1\", \"DOCK10\", \"BTBD10\", \"FCRL2\", \"DIP2B\", \"NCF1C\", \"RAB14\", \"SDCCAG8\", \"DDX11\", \"GTF2IP23\", \"STK17A\", \"KRIT1\", \"CDK7\", \"ARMCX3\", \"N4BP2L2-IT2\", \"TRAV13-2\", \"IGFALS\", \"ACTR8\", \"SPICE1\", \"ND4\", \"EIF3J-DT\", \"RGL3\", \"APOA1-AS\", \"INTS4P1\", \"INTS4P1\", \"ZNF788P\", \"SELENOT\", \"SPATA1\", \"IGLV1-44\", \"TM4SF19\", \"KLHL42\", \"DHRS4L2\", \"ZNF101\", \"QTRT2\", \"ADPRS\", \"PIGX\", \"GLOD4\", \"GSK3B-DT\", \"OCM2\", \"TRIM28\", \"PRRC2C\", \"TNKS\", \"AHNAK\", \"RAD51B\", \"ERCC6L\", \"NAPB\", \"F8\", \"MIRLET7F2\", \"SYNGAP1\", \"SMCHD1\", \"SNHG1\", \"PHYHIP\", \"ATP6V1B1\", \"FAM81A\", \"SMPD2\", \"MTMR12\", \"MAIP1\", \"TRGJP2\", \"ARHGAP42\", \"SUN1\", \"NMNAT3\", \"FN1\", \"LPIN2\", \"LY9\", \"PAXIP1-AS2\", \"CBX5\", \"GTPBP4\", \"HBS1L\", \"ATXN7\", \"WDR12\", \"LEKR1\", \"DLGAP5\", \"COA1\", \"DNAI3\", \"UBN2\", \"PRR7\", \"AKNAD1\", \"SRSF3\", \"RBM15B\", \"RAI1\", \"BCL2L2\", \"MACO1\", \"DMKN\", \"FRAT1\", \"ZNF516-DT\", \"PBX3\", \"NOSIP\", \"ORC5\", \"USP48\", \"NUFIP2\", \"GMEB2\", \"MOXD1\", \"LIF\", \"FUBP3\", \"PPP2R3C\", \"SLC25A4\", \"NUS1\", \"INPP4A\", \"HCRT\", \"LOC107987014\", \"ANKRD37\", \"ING5\", \"GNLY\", \"ZNF252P-AS1\", \"DLK2\", \"C1orf131\", \"SLC25A17\", \"GNPAT\", \"GNAZ\", \"CNOT2\", \"APOE\", \"RFXAP\", \"BLOC1S4\", \"CYB5D2\", \"GALNT12\", \"COMMD2\", \"RAB40B\", \"HP1BP3\", \"TTF1\", \"CD47\", \"PRR12\", \"MINDY1\", \"PDE5A\", \"MYL6\", \"KCP\", \"ARHGAP19\", \"TTC27\", \"ASAH1-AS1\", \"ADGRE5\", \"DYRK4\", \"ZNF37A\", \"ENKD1\", \"TMEM204\", \"SEL1L\", \"MOAP1\", \"SRRM1\", \"TIMELESS\", \"MEN1\", \"VKORC1L1\", \"PNMA3\", \"MIR221\", \"ZNF770\", \"ITPK1\", \"ASB14\", \"LINC01585\", \"TADA1\", \"KPNA3\", \"POLR2J\", \"H2AC13\", \"CD34\", \"TMEM59\", \"AKAP14\", \"HTRA4\", \"SFI1\", \"FOXJ3\", \"CHUK\", \"CCDC186\", \"ZNRF2\", \"FBXO46\", \"SCAPER\", \"SLC25A45\", \"THAP7\", \"LPP\", \"SNHG12\", \"TRAV16\", \"POU5F1B\", \"GPN1\", \"BACE2\", \"SPNS2\", \"ARMC5\", \"PPP3CB\", \"GNRH1\", \"KIFBP\", \"PABIR1\", \"MIR98\", \"DVL1\", \"LOC101927468\", \"FUT11\", \"USP27X\", \"TRPM7\", \"BAHD1\", \"OGFRP1\", \"GOLGA6L5P\", \"DDX25\", \"IFRD1\", \"TMEM170A\", \"SMG1\", \"ZSWIM5\", \"NUP37\", \"RFX1\", \"ABCC1\", \"EP400\", \"NHLRC4\", \"PTPN4\", \"TRIM37\", \"SLC25A26\", \"LINC01599\", \"LINC01588\", \"BIRC2\", \"C2orf69\", \"TRMT112\", \"UTP18\", \"FAM114A2\", \"TIAM1\", \"KDSR\", \"ORAI1\", \"SGO1\", \"POMC\", \"SEC23IP\", \"CCDC136\", \"C14orf178\", \"HYLS1\", \"CARNS1\", \"SIMC1\", \"MEMO1\", \"NSRP1\", \"OXCT1\", \"AMPH\", \"ZNF706\", \"KALRN\", \"WHAMMP4\", \"THOC2\", \"PIAS2\", \"RRN3P1\", \"SLC9A6\", \"MOGAT3\", \"BCAN\", \"MAPK9\", \"CCPG1\", \"CDRT15P1\", \"HECTD1\", \"SNX19\", \"CABLES1\", \"MIR8055\", \"ZC3H4\", \"TBCK\", \"SLC30A9\", \"PSMC2\", \"CRIM1\", \"CNTRL\", \"CCDC43\", \"LGMN\", \"FAM76A\", \"LIN52\", \"STIM2-AS1\", \"GCLM\", \"ATR\", \"IRAG2\", \"SERINC3\", \"AGAP10P\", \"SNX24\", \"LRCH1\", \"PPP3CA\", \"RXFP4\", \"TIPRL\", \"GCSH\", \"LIPE\", \"PDPK1\", \"CCDC88A\", \"C1orf56\", \"ORC4\", \"NIN\", \"NDUFV2-AS1\", \"PDE6B\", \"FOXD1\", \"LOC101927539\", \"ASPSCR1\", \"HSPD1\", \"RRP7A\", \"TMEM208\", \"POLG2\", \"KANK3\", \"GLUD1\", \"ETFA\", \"POC5\", \"SGPP2\", \"ABCB7\", \"SNX16\", \"ARIH1\", \"C12orf40\", \"PAPOLA\", \"DNAJC18\", \"MTURN\", \"CFAP157\", \"RSL1D1\", \"CHERP\", \"CYP2E1\", \"NCK1\", \"MRPS35\", \"BEGAIN\", \"FAM217B\", \"DICER1\", \"NUP153\", \"SCYL2\", \"STN1\", \"LPO\", \"ATP6V1E1\", \"ATP9A\", \"SS18L1\", \"EPCAM\", \"EXOSC2\", \"POLB\", \"FUBP1\", \"PGM2L1\", \"MAF\", \"MRPL57\", \"ZNF354C\", \"CRTC1\", \"DYNC2I2\", \"APAF1\", \"CPD\", \"CEPT1\", \"PPP2R1B\", \"OTUD4\", \"SYTL2\", \"MFSD8\", \"ENOX2\", \"LINC00649\", \"LOC400553\", \"SLFN12\", \"ADCY5\", \"ZNF577\", \"AFG1L\", \"CHD1\", \"MYB\", \"PRKAR2A-AS1\", \"RAN\", \"ANKRD36BP2\", \"ANKRD36BP2\", \"YY1\", \"NACA2\", \"VPS29\", \"ZNF558\", \"BBIP1\", \"SEC14L1\", \"TYSND1\", \"DDX11L10\", \"DDX11L10\", \"RNF125\", \"LINC01772\", \"BCL9\", \"TRAJ36\", \"CTSK\", \"PINX1\", \"PRUNE1\", \"EEF1AKMT1\", \"PJA1\", \"MDGA1\", \"AFDN\", \"TERF1\", \"CPSF6\", \"FAR2\", \"ZBED4\", \"MAK16\", \"EFCAB5\", \"ZNF211\", \"TAB2\", \"PTPRM\", \"DENND6A\", \"CLINT1\", \"ASB3\", \"GPR75-ASB3\", \"CHST14\", \"NOTCH4\", \"PSD4\", \"MED17\", \"SLC25A30\", \"CPNE3\", \"PCBD2\", \"NGLY1\", \"MTG1\", \"LCA5L\", \"SS18\", \"BMPR1A\", \"TWSG1\", \"BROX\", \"MIPEP\", \"TRIM13\", \"TRPV6\", \"MGC12916\", \"TMEM268\", \"RBPMS\", \"RPA1\", \"TRAPPC3L\", \"ZNF56P\", \"ZNF56P\", \"TBP\", \"RAP1GDS1\", \"HNRNPA1\", \"ZNF33B\", \"SHQ1\", \"CD96\", \"FREM3\", \"ZMIZ1\", \"LTV1\", \"FRS2\", \"TDG\", \"DSTYK\", \"HLA-H\", \"AHR\", \"ZNF808\", \"ALG10\", \"FNTA\", \"GUCY1A1\", \"SLC9A3-AS1\", \"MPC1\", \"ZNF436-AS1\", \"ABCD3\", \"CLASP2\", \"PID1\", \"MRPS16\", \"MINPP1\", \"TMEM160\", \"SYF2\", \"TRNT1\", \"CLIP3\", \"FUOM\", \"SMYD3\", \"TCF20\", \"ADAM10\", \"CLEC18B\", \"FBXW4P1\", \"DNAH7\", \"DDX20\", \"ST7L\", \"ORC2\", \"USP27X-DT\", \"PEAK1\", \"COG3\", \"HLA-DPB1\", \"ATIC\", \"MIER1\", \"NANOS3\", \"ZNF407\", \"TRIM44\", \"HMOX2\", \"DBF4\", \"NKRF\", \"FHL1\", \"STARD7\", \"MIR3677\", \"MARCHF7\", \"DOP1A\", \"RBM12\", \"FBXO28\", \"MBLAC1\", \"PPP1R12B\", \"GTPBP10\", \"LOC101927446\", \"MYLK\", \"ATXN2-AS\", \"NOLC1\", \"PI4KAP1\", \"PI4KAP1\", \"TRA2A\", \"WDHD1\", \"IGLV2-33\", \"RASA1\", \"ARV1\", \"C12orf57\", \"MIR600HG\", \"KCNMB4\", \"PCGF2\", \"ZNF273\", \"FGL2\", \"KIN\", \"MGMT\", \"TRAV20\", \"SLC30A5\", \"IGHV1-24\", \"THG1L\", \"GNG12\", \"PYGO2\", \"UGCG\", \"SUMO1\", \"C1orf167\", \"TMED5\", \"AWAT1\", \"DANCR\", \"KMT2A\", \"GALNT9\", \"USP34\", \"WDR86\", \"IFT140\", \"NRSN2\", \"CNIH3\", \"NBPF11\", \"STARD3NL\", \"MYH14\", \"TMEM30A\", \"KCTD10\", \"STARD9\", \"RIPK2-DT\", \"FBRSL1\", \"NOP16\", \"SLC41A1\", \"CABIN1\", \"FAM86C1P\", \"YLPM1\", \"PHGDH\", \"REPIN1-AS1\", \"ZNF582-DT\", \"MDS2\", \"VWA8\", \"MRPL11\", \"ANTXR2\", \"KCTD3\", \"PRPF4B\", \"CEBPZ\", \"ATRN\", \"IARS2\", \"CEP72\", \"DHX35\", \"FAM168B\", \"PHC3\", \"TANC2\", \"NR2F6\", \"F2RL3\", \"BLM\", \"IGHV3-15\", \"COX3\", \"RUFY2\", \"TAB3\", \"NDUFA12\", \"MIR4453HG\", \"MTUS1\", \"MDN1\", \"BCCIP\", \"COA4\", \"ANGPT4\", \"IFI27L2\", \"UBIAD1\", \"GPR63\", \"FLRT1\", \"CEP41\", \"SELENOK\", \"ZMYM4\", \"SNORA2B\", \"ABL2\", \"TBC1D12\", \"APBA1\", \"MIR6739\", \"WDR24\", \"SCAF8\", \"RAD9B\", \"ZNHIT6\", \"ANAPC1P1\", \"MID1IP1\", \"SLC16A1\", \"ZNF561-AS1\", \"METAP1\", \"UBE2E1\", \"TEX52\", \"STAP2\", \"CACNA1B\", \"ZAN\", \"USE1\", \"MIR135A1\", \"PPP1R15B\", \"RBM45\", \"BTBD7\", \"B3GALT6\", \"HLA-DMB\", \"ZNF83\", \"VAMP8\", \"KMT2E-AS1\", \"TASP1\", \"BRAF\", \"RBM43\", \"ZNF250\", \"CERNA1\", \"MYO5B\", \"HSPBAP1\", \"STX7\", \"RWDD3-DT\", \"GPD1L\", \"HIKESHI\", \"SELENOF\", \"LNPEP\", \"EOGT\", \"CXCR4\", \"TNS2\", \"TFDP2\", \"ARMH4\", \"SRP72\", \"BCAS2\", \"INAFM1\", \"SMIM6\", \"TRMT2B\", \"EHBP1\", \"BCAP29\", \"SETD9\", \"ZNF581\", \"MRPS14\", \"TRIM24\", \"NIM1K\", \"BTN2A2\", \"USP42\", \"RIMS3\", \"GPN3\", \"CENPI\", \"CNOT4\", \"EIF4G2\", \"COX19\", \"LIPF\", \"ALDH1A3\", \"RFC3\", \"OCRL\", \"RNF38\", \"SMIM10L2A\", \"E2F3\", \"ANKRD44-IT1\", \"ZNF324B\", \"ZNF544\", \"FAM220A\", \"ITGA3\", \"DRD5\", \"RSRC2\", \"ITGA4\", \"RIPK2\", \"GLRX2\", \"APPL1\", \"HMGCR\", \"RABIF\", \"ZRANB3\", \"STKLD1\", \"WRNIP1\", \"RBFOX2\", \"NFATC2\", \"MAGEF1\", \"CHRAC1\", \"ANAPC16\", \"HSPA8\", \"UNC13B\", \"ZNF654\", \"LINC01719\", \"MAGED1\", \"SND1-IT1\", \"NDUFAF6\", \"ADGRG2\", \"SGMS1-AS1\", \"TNPO1\", \"INTS6\", \"TBL1XR1\", \"C16orf54\", \"PRPF40A\", \"LOC100505915\", \"MGA\", \"FAHD2CP\", \"MORN1\", \"DNAJA3\", \"MIA2-AS1\", \"GOLGB1\", \"COPS8\", \"UBE2N\", \"TFAM\", \"ZNF664\", \"ZNF616\", \"CLDND1\", \"LRIG1\", \"REV1\", \"TMED2-DT\", \"ABHD18\", \"GGNBP2\", \"SLC35E3\", \"MAN2A1\", \"TUBB2A\", \"THEM6\", \"TM2D1\", \"TDRKH\", \"C17orf75\", \"MITF\", \"USPL1\", \"CAPZA2\", \"FOXP3\", \"DBP\", \"DUSP11\", \"FAM86B3P\", \"FAM86B3P\", \"PLXNA1\", \"ASXL1\", \"ARAP2\", \"KBTBD2\", \"CEMIP2\", \"ZFP3\", \"HAX1\", \"NOMO2\", \"LOC102723728\", \"TP53BP1\", \"PIKFYVE\", \"PTPRVP\", \"MBD5\", \"TNXB\", \"GTF2H3\", \"FTO\", \"USP47\", \"RPUSD2\", \"GTF2IRD2B\", \"LINC01140\", \"PLEKHG3\", \"GTPBP8\", \"ZNF444\", \"EMILIN1\", \"LOC105376156\", \"FANCC\", \"HOMER2\", \"PROC\", \"SLC25A20\", \"CDYL\", \"POLRMT\", \"PPP2CB\", \"DDIT3\", \"MLF1\", \"MEX3D\", \"TAF8\", \"WASHC2C\", \"ADGRL1\", \"RMND1\", \"ZNF594-DT\", \"MTFMT\", \"NCOA6\", \"RC3H2\", \"MPRIP\", \"UTP3\", \"TAF9B\", \"WWTR1\", \"CCL24\", \"PDCL3\", \"LMAN1\", \"BNIP1\", \"TIPARP\", \"ZNF148\", \"CCDC80\", \"TEX22\", \"ERVK13-1\", \"SCRT2\", \"SPDYE3\", \"UGT2B15\", \"ZNF236-DT\", \"RPS2\", \"ZNF792\", \"NCALD\", \"TRIP10\", \"WDR18\", \"WDR44\", \"LSM11\", \"RPS15AP10\", \"BAG5\", \"SYNPO\", \"SRP14-DT\", \"USP49\", \"RAD1\", \"ZSCAN25\", \"WDR5B\", \"CLN5\", \"CEP19\", \"FNIP2\", \"RPS15\", \"SUCLA2\", \"BICC1\", \"GSKIP\", \"SOCS1\", \"ERCC4\", \"ZFP41\", \"MAP2K5\", \"USP13\", \"CLEC2D\", \"MRPL54\", \"RNY4\", \"MCL1\", \"ADAMTSL4-AS1\", \"ADAMTSL4-AS1\", \"FASTKD2\", \"WNK3\", \"NIF3L1\", \"LINC00504\", \"COX4I1\", \"PUS7L\", \"ATG12\", \"TMEM116\", \"LOC102723878\", \"CDC27\", \"MBOAT4\", \"MIR3936\", \"TOX-DT\", \"CLOCK\", \"SCFD2\", \"NIPBL\", \"SRSF2\", \"STAG3\", \"AFAP1L2\", \"EMC1\", \"LOC101929719\", \"TCERG1\", \"AP4S1\", \"ADCY6\", \"ABR-AS1\", \"BBS2\", \"ZBED10P\", \"RABEP2\", \"UQCC2\", \"TRIP11\", \"PODN\", \"TAF3\", \"FBXO21\", \"POGLUT1\", \"FBLN7\", \"ASXL2\", \"ACTR10\", \"TMEM18\", \"USP24\", \"NCR1\", \"CBFB\", \"TRPV3\", \"UBE2D2\", \"TMEM161B\", \"C16orf87\", \"MIR1203\", \"TRBV23-1\", \"LOC105377448\", \"TAS2R4\", \"TMEM39A\", \"KRT13\", \"NPDC1\", \"DISP2\", \"CPNE8-AS1\", \"REEP5\", \"PAQR9\", \"PM20D2\", \"CACYBP\", \"QSER1\", \"LINC02256\", \"RABGEF1\", \"CHAC1\", \"PDCD5\", \"ZNF579\", \"SNORD37\", \"HMCES\", \"C8orf17\", \"SLC25A42\", \"NDE1\", \"ALKBH2\", \"KRBOX4\", \"ATXN7L3-AS1\", \"ZFAND5\", \"LINC02532\", \"CPNE5\", \"ATE1\", \"FAM53B\", \"SCAP\", \"MED4-AS1\", \"WDR47\", \"SEPHS1\", \"ZNF267\", \"NFATC3\", \"MICU2\", \"COX7A2L\", \"DDX31\", \"CCDC153\", \"SMIM27\", \"PDCD6P1\", \"SPATA24\", \"CACFD1\", \"UHRF2\", \"NOL11\", \"CUTALP\", \"MBNL1-AS1\", \"WASL-DT\", \"NUP42\", \"BBS5\", \"BPNT1\", \"EIF3M\", \"FGFBP2\", \"TMEM181\", \"DNAAF10\", \"ACSM1\", \"TMEM191C\", \"RPL10\", \"CREBBP\", \"LMBR1\", \"CYTB\", \"GATA3\", \"NNT\", \"RNFT1\", \"POM121C\", \"ZNF124\", \"CDC42EP2\", \"FBXL14\", \"CD3G\", \"ERBIN\", \"LINC00868\", \"NCAPG2\", \"SLC39A8\", \"HOXB6\", \"NEMF\", \"INTS6L\", \"RYBP\", \"LDOC1\", \"ALKBH3\", \"CLC\", \"PRPF19-DT\", \"CEP76\", \"C15orf40\", \"NDUFA8\", \"IGF1R\", \"TTC28\", \"SMNDC1\", \"NFATC1\", \"AMMECR1\", \"TRBV7-1\", \"MTDH\", \"NLK\", \"C1orf35\", \"TRIM59\", \"VASN\", \"RPS6KB1\", \"ZGRF1\", \"COQ2\", \"MTRF1\", \"COPRS\", \"NRIP1\", \"EFHC1\", \"PPP2R5E\", \"DUSP6\", \"CAHM\", \"FAM86FP\", \"CDKN2AIPNL\", \"ANKRD16\", \"CROCC\", \"UCN\", \"TSGA10IP\", \"SDHAF1\", \"LINC02614\", \"PCED1B-AS1\", \"JAK1\", \"LOC101927636\", \"ARHGAP27P2\", \"PSMG3\", \"CCDC66\", \"ZC3H13\", \"ITPKA\", \"DECR2\", \"LYG1\", \"CLIP4\", \"CEP83\", \"TAF11\", \"SLC25A23\", \"SPPL2B\", \"PRR34-AS1\", \"FLJ38576\", \"RNF166\", \"RPAP2\", \"WDSUB1\", \"NDFIP1\", \"SHLD1\", \"RCOR3\", \"PHF20\", \"MREG\", \"ZHX1-C8orf76\", \"IER3\", \"MIR503HG\", \"ZNF510\", \"GTF3C3\", \"ANTKMT\", \"MMS22L\", \"SNRPA1\", \"MORF4L2-AS1\", \"ZBTB34\", \"TRPV1\", \"HSDL1\", \"TPP2\", \"TMEM147-AS1\", \"DNAJB9\", \"ABCB10\", \"SEPTIN14\", \"ADAT1\", \"PKLR\", \"MIS18BP1\", \"LOC101927164\", \"ZNF776\", \"TMEM191A\", \"TMEM191A\", \"EIF4B\", \"CFAP53\", \"ADD3\", \"CDKN1B\", \"KYAT3\", \"SHISAL2A\", \"MIR23A\", \"SFTPD\", \"SCP2\", \"RRM1\", \"NAA35\", \"LINC01960\", \"CDK6\", \"ABHD14A\", \"ZNF74\", \"CLN8\", \"ZNF736\", \"H2BC4\", \"ZNF747\", \"LTC4S\", \"CAMSAP1\", \"THOC7\", \"ZNF271P\", \"ZSCAN29\", \"SNRPF\", \"ING1\", \"NCKIPSD\", \"FASTKD1\", \"LOC339260\", \"CCDC144NL-AS1\", \"ALDH5A1\", \"CLDN5\", \"TSC22D1-AS1\", \"TMEM14B\", \"MTFR1\", \"USO1\", \"NTRK2\", \"RGS13\", \"FBXO45\", \"ARHGEF5\", \"RARS1\", \"RNF141\", \"ID2\", \"ZNF440\", \"ALDH8A1\", \"ZNF329\", \"CD46\", \"ODC1-DT\", \"ABCC5-AS1\", \"MAP2K4\", \"IPCEF1\", \"UPF2\", \"CDC42SE2\", \"ANO7\", \"MRPL27\", \"COQ3\", \"EYA2\", \"TRIM4\", \"LMNTD2\", \"LINC01128\", \"DYNC1LI1\", \"SEMA4G\", \"AKR1C1\", \"NAT1\", \"SEC62\", \"TSEN15\", \"MITD1\", \"CCT4\", \"TMEM245\", \"FBXO22\", \"GFPT1\", \"LRR1\", \"KLF11\", \"UBE2Q2\", \"ZNF280C\", \"CDK20\", \"LOC101928855\", \"ANKRD6\", \"UNKL\", \"TMCC1-DT\", \"LINC02603\", \"DHRS4-AS1\", \"USP37\", \"ZNF701\", \"DDX3X\", \"TSNARE1\", \"RMND5A\", \"UFC1\", \"GLG1\", \"SLC34A3\", \"EML4\", \"IGLC7\", \"TOP2B\", \"NORAD\", \"DIO1\", \"BAZ1A-AS1\", \"PLXNB1\", \"LOC339685\", \"ZBTB20\", \"SMARCA2\", \"RHEBL1\", \"THEM4\", \"PDXP\", \"ROMO1\", \"SFXN4\", \"SCNN1D\", \"MAP3K2\", \"WDR43\", \"C1GALT1C1\", \"ZNF813\", \"LINC01135\", \"LOC101926907\", \"CRLF3\", \"ZNF564\", \"SNAPC5\", \"PAG1\", \"RAB21\", \"NGEF\", \"GOLM1\", \"SCARNA21\", \"TMEM123\", \"RNF212\", \"BBC3\", \"PNPLA7\", \"WDR5B-DT\", \"UXS1\", \"OSTM1\", \"REPS1\", \"SMARCAD1\", \"LINC00987\", \"DNAAF9\", \"FAM13B\", \"LINC02042\", \"KLF2\", \"ATP23\", \"GPATCH8\", \"MEGF6\", \"EXOC2\", \"NBPF10\", \"NXN\", \"GAPT\", \"FAM186A\", \"LINC02851\", \"VCPIP1\", \"SNX9\", \"GTF2E1\", \"ING2-DT\", \"SMKR1\", \"NME7\", \"FAM83E\", \"SYCP3\", \"SNORD93\", \"ZNF460-AS1\", \"HADH\", \"TSEN2\", \"CUZD1\", \"RAB22A\", \"COL15A1\", \"KCNJ5-AS1\", \"TRAPPC5\", \"OMA1\", \"LRRC58\", \"ZNF32-AS2\", \"BUB3\", \"SOS1\", \"HACD2\", \"ZNF416\", \"RHPN1\", \"CSRP1-AS1\", \"IPO5\", \"ZNF28\", \"KLRK1\", \"SMURF2\", \"TRBV11-1\", \"CDK18\", \"WNK4\", \"GDF11\", \"FOXD4L4\", \"RAD21\", \"STAG2\", \"UBA6\", \"ZNF426\", \"PHF13\", \"NAA38\", \"ELFN1\", \"IGLV1-50\", \"NOL8\", \"ZNF620\", \"TMPO\", \"DOCK11\", \"FNBP4\", \"DPH6\", \"CHMP7\", \"ZNF77\", \"VIPR1\", \"IL2RB\", \"CCDC13-AS1\", \"KLRK1-AS1\", \"MUC5B\", \"RAB4A\", \"TMEM143\", \"TGFBR3\", \"TFAP2E\", \"CCDC102A\", \"VMA21\", \"CHRNA7\", \"TNKS2\", \"SULT1A3\", \"LINC01259\", \"EDEM3\", \"FBXO34\", \"TCEANC\", \"ATXN10\", \"MIR1249\", \"ANKRD10\", \"TMX1\", \"AKR1B1\", \"PTPN11\", \"IAH1\", \"PRPS1\", \"CLDN7\", \"SEL1L3\", \"LMTK2\", \"GPT\", \"ZNF875\", \"VPS4B\", \"MIOS\", \"BBS12\", \"LCMT1-AS1\", \"STXBP5\", \"LINS1\", \"FMR1\", \"E2F7\", \"GFOD1\", \"ACAP2\", \"GOLGA8K\", \"INTS13\", \"POLR2J3-UPK3BL2\", \"MFHAS1\", \"TRAV8-4\", \"PDP2\", \"TEX21P\", \"RAD17\", \"NAPEPLD\", \"HAPLN3\", \"SCGB2B2\", \"CA5A\", \"DHRS3\", \"SH3TC2\", \"FYTTD1\", \"TSSK6\", \"EIF5\", \"CNOT6\", \"CTCF-DT\", \"ZFR\", \"DIRAS3\", \"RB1\", \"SMC1A\", \"DOCK3\", \"GOLGA8H\", \"MRPS23\", \"TTC21B\", \"MFN1\", \"EIF3J\", \"CD160\", \"CHD1L\", \"GIPC1\", \"SBNO1-AS1\", \"ZNF232\", \"ARRDC4\", \"TPH1\", \"MEST\", \"BBX\", \"IGSF22\", \"TEKT3\", \"R3HDM1\", \"NEIL2\", \"POP5\", \"SMC3\", \"PIK3C2A\", \"GTF3C4\", \"PHACTR2-AS1\", \"NPW\", \"DPY19L3-DT\", \"ASCC1\", \"CEP68\", \"ESM1\", \"YTHDF3\", \"CEP44\", \"UFSP2\", \"TPK1\", \"ZNF793\", \"PSMB1\", \"SMAD4\", \"SIGLECL1\", \"RABEP1\", \"PBRM1\", \"KRBOX5\", \"DCAF1\", \"TAOK1\", \"CDHR5\", \"RNF43\", \"LGALS4\", \"ANKRD63\", \"ADAT2\", \"ITPKB\", \"ZNF766\", \"ABHD3\", \"MORF4L2\", \"RARS2\", \"PRKCA\", \"PLEKHA6\", \"ALG2\", \"C16orf86\", \"FAM234B\", \"FAM72B\", \"SRGAP1\", \"NCS1\", \"CSNK1E\", \"FRYL\", \"RANBP3-DT\", \"ATP6V1E2\", \"LYG2\", \"CPT1A\", \"ZNF160\", \"MTRES1\", \"ZNF202\", \"PTPRU\", \"SMARCA5\", \"SLC25A51\", \"EXOC8\", \"SMC5\", \"RBM39\", \"NOMO1\", \"SASH1\", \"SAR1B\", \"KDM4A-AS1\", \"LOC105371795\", \"LINC02723\", \"CDK8\", \"SLC30A7\", \"MTHFD1L\", \"SCGB1B2P\", \"SORCS3\", \"ZNF549\", \"SLC6A16\", \"PRMT6\", \"MFSD6\", \"ZFPM1\", \"TIGD5\", \"HIVEP2\", \"PDE4B\", \"FGFR2\", \"STK17B\", \"RNU6-1\", \"PLCB1\", \"LOC105372522\", \"SKI\", \"MMUT\", \"VEZF1\", \"C5orf63\", \"GMCL1\", \"ENDOV\", \"USP38\", \"ZNF583\", \"RRP1B\", \"CCSAP\", \"IGLV3-21\", \"SLC33A1\", \"ZNF814\", \"KMT2E\", \"KLF7\", \"HOXA3\", \"LOC339059\", \"TAF1\", \"S1PR1\", \"PAM\", \"MT3\", \"ZNF519\", \"MPP7\", \"C6orf62\", \"STT3B\", \"TRAM1\", \"TSPAN33\", \"B3GNT2\", \"ZNF597\", \"TMX4\", \"MIR3975\", \"GPR52\", \"ZCWPW1\", \"MCUR1\", \"LANCL1\", \"CHI3L1\", \"GRIK4\", \"DIS3\", \"PAPOLG\", \"NAA50\", \"SET\", \"RNF168\", \"PWWP2B\", \"RUBCNL\", \"C21orf62\", \"CD74\", \"ZNF219\", \"TELO2\", \"RPL18\", \"ELK3\", \"SLC25A14\", \"LRFN3\", \"FKTN\", \"LINC00092\", \"LOC105376159\", \"JADE2\", \"LINC02724\", \"CELF3\", \"BIRC6\", \"SNHG17\", \"RPL29\", \"ST8SIA4\", \"RMDN2\", \"TSN\", \"MPHOSPH10\", \"PCED1B\", \"SACM1L\", \"BLOC1S6\", \"TRAK1\", \"CRACR2A\", \"PKD1P6-NPIPP1\", \"TRMO\", \"AGGF1\", \"ZNF512B\", \"MYCBP2-AS1\", \"TRAJ55\", \"ZNF837\", \"PITPNC1\", \"MRPS36\", \"ZNF425\", \"SAYSD1\", \"MAD1L1\", \"SCLT1\", \"CASS4\", \"ERLEC1\", \"MEF2C-AS2\", \"ZNF137P\", \"GLCCI1\", \"NDUFB5\", \"SLC22A18AS\", \"PPP1R12A\", \"STEEP1\", \"RNF139\", \"IGFBP4\", \"TRAJ2\", \"FBXO8\", \"ACOX1\", \"PDE4DIP\", \"NSUN6\", \"IQCA1\", \"FAM83G\", \"WWC2\", \"REEP3\", \"RPE\", \"MIR4766\", \"CCNG1\", \"DNAJB13\", \"ZDHHC17\", \"DUSP16\", \"LINC02453\", \"GREB1L\", \"RRN3P2\", \"CCR4\", \"GOLIM4\", \"ZC3H12B\", \"C17orf99\", \"REST\", \"PPP1R13L\", \"SIRT4\", \"PACRGL\", \"LOC122539214\", \"SSBP1\", \"VPS50\", \"PMS2P5\", \"RNASE4\", \"VCPKMT\", \"WEE2\", \"ELOC\", \"BCOR\", \"UHMK1\", \"C21orf91\", \"MED1\", \"KCNK12\", \"SCARNA22\", \"WAPL\", \"ARMC10\", \"RTN4R\", \"CRKL\", \"SKP2\", \"SKAP2\", \"KRTDAP\", \"ADNP2\", \"NUP155\", \"MTX3\", \"DUS4L\", \"PDCD6IP-DT\", \"LRRC56\", \"MIR4507\", \"FBXW11\", \"RNF103\", \"MIR6859-4\", \"AGO3\", \"SRSF6\", \"DHFR2\", \"TRMT6\", \"UTRN\", \"HIBADH\", \"CIDECP1\", \"EXOC5\", \"UBE2MP1\", \"PPP1R14A\", \"ZNF799\", \"KNOP1\", \"SLF1\", \"VPS13A\", \"PROB1\", \"ZDHHC12-DT\", \"TRBV15\", \"FGD5-AS1\", \"SEC14L3\", \"RAP2A\", \"LRRC37B\", \"ZNF675\", \"G3BP2\", \"ATP10D\", \"EIF2A\", \"ETFRF1\", \"LINC01678\", \"FBXW7\", \"USP44\", \"ZNF669\", \"HID1\", \"CRIPT\", \"CTPS2\", \"IRF2BP1\", \"ZNF608\", \"ASB7\", \"FAM120A\", \"CRYBG3\", \"MAL\", \"REEP6\", \"RALA\", \"ZNF555\", \"TMEM41A\", \"MED23\", \"USP1\", \"PUM1\", \"KLHL8\", \"RTN4IP1\", \"ZNF891\", \"ZNF486\", \"ZCCHC9\", \"FKBP9P1\", \"FKBP9P1\", \"ADAM22\", \"WDR90\", \"H1-10-AS1\", \"TMEM65\", \"HELQ\", \"ABHD17B\", \"SPRED2\", \"PAXIP1-DT\", \"PTTG2\", \"RMDN1\", \"ELP2\", \"DENND4A\", \"CHN1\", \"KLHL24\", \"HNRNPDL\", \"DLSTP1\", \"HYKK\", \"NUP50-DT\", \"HNRNPA0\", \"ZNF248\", \"TAF4\", \"DRC3\", \"ACYP2\", \"MIR5695\", \"GNB5\", \"DNAI7\", \"TARS1-DT\", \"ING3\", \"HENMT1\", \"IFT20\", \"GRIK1-AS1\", \"GPALPP1\", \"PRKCI\", \"UTP15\", \"DGKE\", \"XYLB\", \"PIGH\", \"TAS2R60\", \"MTMR9\", \"SRFBP1\", \"DR1\", \"DERL3\", \"VAV2\", \"ALG1L9P\", \"ALG1L9P\", \"ZCCHC3\", \"ADAMTS14\", \"RSPH3\", \"DCAF17\", \"AP3S1\", \"BDH1\", \"GALNT7-DT\", \"UBE2FP1\", \"H2BC8\", \"NIPAL2\", \"NPM3\", \"RAD50\", \"WLS\", \"SEMA6C\", \"RPF1\", \"ERCC5\", \"LINC02754\", \"EMSY\", \"SIX5\", \"LZTS3\", \"PSTK\", \"TEX10\", \"GEMIN5\", \"ASAH2B\", \"MYO15A\", \"CEP95\", \"ATP5MGL\", \"GP5\", \"CAMLG\", \"STX8\", \"LINC02526\", \"BTBD8\", \"FAS\", \"ZNF287\", \"RXYLT1\", \"PCM1\", \"PLD5\", \"SEPTIN7\", \"COA6\", \"ZNF773\", \"C4orf46\", \"ENOX1\", \"ZNF343\", \"LYRM4\", \"MARS2\", \"PNMA1\", \"YTHDC1\", \"MYCBPAP\", \"HPYR1\", \"CDC42BPG\", \"WDFY1\", \"ZNF57\", \"B4GALNT3\", \"ADAM20\", \"TUBGCP5\", \"ARID2\", \"PARP11\", \"EEF1AKMT2\", \"NUP88\", \"PRKAR1A\", \"SINHCAF\", \"ZNRF3\", \"LINC00677\", \"U2SURP\", \"FN3KRP\", \"XKR6\", \"TMCC1\", \"DPF1\", \"PRORSD1P\", \"CEP97\", \"MLLT3\", \"ACTRT3\", \"PAK1IP1\", \"DCLRE1A\", \"TUBG2\", \"FLYWCH1\", \"SRSF7\", \"DCLRE1C\", \"RASGRP1\", \"COA5\", \"OR10AD1\", \"UAP1\", \"MSL2\", \"SNORD11\", \"PM20D1\", \"MCUB\", \"MCPH1\", \"MIB2\", \"TMCC3\", \"SETDB2\", \"PDS5B\", \"FUCA1\", \"SPART\", \"MOSPD1\", \"HPF1\", \"C2orf49\", \"GPC2\", \"GUSBP1\", \"GUSBP1\", \"PRR29\", \"HMGN3-AS1\", \"CYCS\", \"DENR\", \"UBR5\", \"KIAA2026\", \"ZNF623\", \"TRAPPC9\", \"RPL36\", \"TMEM87B\", \"SLC5A3\", \"CALR4P\", \"PEX1\", \"BCO2\", \"ATP2C1\", \"LDHAL6A\", \"SLC39A14\", \"MTRR\", \"CD28\", \"EGLN1\", \"PIK3CA\", \"FAM184B\", \"TTC14\", \"COMMD10\", \"MDM2\", \"WRN\", \"PRDM7\", \"TMF1\", \"STIM2\", \"ZYG11B\", \"TRAF5\", \"STRN3\", \"NEPRO\", \"GTPBP3\", \"RPS6KA2\", \"SETX\", \"PRMT3\", \"NBPF9\", \"INSIG1-DT\", \"TBC1D15\", \"TYW1B\", \"PER3\", \"NKIRAS1\", \"LYPD3\", \"GBP3\", \"PKP4-AS1\", \"RAPGEF3\", \"ICE2\", \"BORCS7\", \"PON2\", \"TREML3P\", \"TREML3P\", \"RAB3GAP2\", \"OPA1\", \"PDCD4\", \"ZNF175\", \"TUB\", \"ZNF441\", \"MIR320E\", \"ABHD5\", \"LINC01762\", \"GJB3\", \"TGFBR2\", \"PRIMPOL\", \"ARL10\", \"SEC24B\", \"SCX\", \"AHCTF1\", \"SPA17\", \"ANKAR\", \"CLEC4E\", \"ZNF275\", \"LOC105373378\", \"POGLUT3\", \"PRDM11\", \"SLAIN1\", \"GADD45GIP1\", \"IGSF23\", \"HCFC2\", \"ZNF326\", \"RNF7\", \"SIKE1\", \"ZNF853\", \"AOC2\", \"IGLV1-36\", \"IGKV2-26\", \"ASPN\", \"NDUFC1\", \"KRT18\", \"SYNJ2BP\", \"LINC02648\", \"USP53\", \"CWC27\", \"ORMDL1\", \"MORN3\", \"MARK1\", \"PATZ1\", \"EXD2\", \"FGFR1\", \"PYCR3\", \"HES6\", \"FBXO33\", \"MED31\", \"VPS39-DT\", \"LRATD2\", \"ACADSB\", \"TMEM168\", \"DNAJB14\", \"ZNF585B\", \"C19orf84\", \"TOMM70\", \"KIF5B\", \"MCM9\", \"IGF2R\", \"SP3\", \"LINC02739\", \"PAPSS2\", \"VPS36\", \"AEBP1\", \"DYNC2H1\", \"BRD1\", \"AASS\", \"ZBTB25\", \"ARMCX5\", \"PAN3\", \"ZNF90\", \"TTC28-AS1\", \"PPM1H\", \"FBXO3\", \"VWA5B1\", \"DNAJC16\", \"LIN54\", \"NR0B2\", \"ZNF638\", \"HPGDS\", \"IMPDH2\", \"KLF3\", \"QPCTL\", \"ECHDC1\", \"CDC14A\", \"FBXO48\", \"UBA2\", \"NDUFS3\", \"LINC02610\", \"TEKT4\", \"CLEC10A\", \"UTP23\", \"C11orf71\", \"LCMT2\", \"MICAL3\", \"LINC02287\", \"ZNF506\", \"AMOTL2\", \"EVI5\", \"DNA2\", \"CMC2\", \"MMAA\", \"PDS5A\", \"KLHL20\", \"POLR1E\", \"C22orf15\", \"DACT3\", \"FAM98B\", \"DENND11\", \"VIM-AS1\", \"MYLK-AS1\", \"LINC01506\", \"RPL14\", \"TDP1\", \"ZNF786\", \"KIF3A\", \"SUSD2\", \"ADH5\", \"CEL\", \"PAN3-AS1\", \"RPL13AP20\", \"TRIM52\", \"RRM2B\", \"PSMD14\", \"GTF2A1\", \"LCOR\", \"SYT2\", \"EAPP\", \"TP53RK\", \"PCDH1\", \"PTGER3\", \"MAP3K7\", \"H2BW3P\", \"SRSF10\", \"SPATA32\", \"SERHL2\", \"CD200R1\", \"AURKC\", \"NXPE3\", \"MPPED2\", \"RCHY1\", \"SH2D4B\", \"MGAT5\", \"LRRC27\", \"NIPSNAP2\", \"LNX1\", \"PPP1R3F\", \"SHPRH\", \"DYNC2I1\", \"KRT72\", \"CD8B\", \"FER1L5\", \"DIP2A\", \"ZNF432\", \"IDNK\", \"PHF10\", \"ATP6V0E2\", \"SOCS6\", \"TERF1P7\", \"RPLP2\", \"JADE1\", \"DPP8\", \"ZNF320\", \"AASDHPPT\", \"PELI2\", \"OCIAD1\", \"RFK\", \"FZD6\", \"TTBK2\", \"IDS\", \"SLC36A4\", \"AMACR\", \"NUFIP1\", \"NOP53\", \"SNURF\", \"RFC4\", \"SPAG7\", \"ZMYM2\", \"NIPAL3\", \"NEK3\", \"ARID4B\", \"HLA-DQB1-AS1\", \"CIITA\", \"PTPRH\", \"SLC2A5\", \"MLLT10\", \"NTN1\", \"ERAP1\", \"CRIP3\", \"ZFHX3\", \"SLC2A4RG\", \"RAB23\", \"CCP110\", \"S1PR1-DT\", \"LMBRD1\", \"MRPL14\", \"RAB28\", \"EPS8L2\", \"ZNF782\", \"ADK\", \"PARP16\", \"LRRC1\", \"CTDSPL2\", \"GPR137C\", \"HSBP1\", \"MFSD9\", \"LRRC40\", \"MIR6823\", \"CLYBL\", \"NUP160\", \"RNVU1-19\", \"NBPF20\", \"BTBD9-AS1\", \"NSMCE4A\", \"RSBN1\", \"XPR1\", \"ALG5\", \"UBR3\", \"MIR378J\", \"VEZT\", \"PPP4R2\", \"SNED1\", \"CGGBP1\", \"PDLIM1\", \"ZNF280B\", \"NIPSNAP3B\", \"GOT1-DT\", \"TEFM\", \"RNF19A\", \"EPB41L2\", \"A2M\", \"MACIR\", \"TSNAX\", \"ASH1L-AS1\", \"MRPS31P5\", \"MRPS31P5\", \"PNPLA8\", \"ANKRD23\", \"VWA2\", \"USHBP1\", \"APPBP2\", \"CENPN\", \"LIX1L-AS1\", \"SON\", \"RASGEF1B\", \"ICE1\", \"RASA4CP\", \"HAUS3\", \"SLC27A5\", \"HPS5\", \"TDRD3\", \"PSMA3-AS1\", \"IQGAP2\", \"TRBV6-8\", \"GGPS1\", \"SPTSSA\", \"BTBD1\", \"TRIM71\", \"NT5DC1\", \"EVI2A\", \"GAL3ST4\", \"ZNF43\", \"TBC1D19\", \"ATXN7L3B\", \"ERAP2\", \"EXTL2\", \"ZNF674-AS1\", \"PAX9\", \"C16orf96\", \"SCRN1\", \"EIF1AX\", \"AJUBA\", \"H2BC15\", \"ABCB1\", \"KATNAL1\", \"CDK13\", \"GUF1\", \"ASTE1\", \"KNSTRN\", \"LINC02693\", \"NUDT13\", \"PIK3R4\", \"GPR173\", \"SPDYE21\", \"ZNF417\", \"GXYLT1\", \"ZXDA\", \"CCDC14\", \"ZNF846\", \"LOC100505555\", \"RAB39B\", \"FAM66C\", \"SMAD5\", \"PRKCQ-AS1\", \"PTCRA\", \"AKAP9\", \"PELI1\", \"ITPK1-AS1\", \"LINC02259\", \"MAP3K9-DT\", \"LTN1\", \"SRPK2\", \"PABPC3\", \"PPP1R2B\", \"KIFAP3\", \"SH3D21\", \"MIR4648\", \"RBMXL1\", \"LUC7L3\", \"DDX18\", \"ZCCHC14\", \"PCDHGB3\", \"PCSK5\", \"SNORD7\", \"TTC36\", \"CREB1\", \"NCBP2AS2\", \"C2orf49-DT\", \"TMBIM4\", \"SRRM5\", \"RRN3\", \"OR52N4\", \"RBBP9\", \"DIRAS1\", \"ANP32E\", \"LINC00639\", \"RPL38\", \"ITK\", \"FXYD7\", \"NME3\", \"ZNF12\", \"DNAJC8\", \"MAMDC2-AS1\", \"IL17RE\", \"ZNF761\", \"NFYC-AS1\", \"TLNRD1\", \"DNAH11\", \"LLPH-DT\", \"CHRM4\", \"ATP5PO\", \"PPIP5K2\", \"ZNF10\", \"ECT2\", \"ANKRD61\", \"FNDC3A\", \"CEP70\", \"TMEM74B\", \"LRRC69\", \"EXT2\", \"AQP3\", \"LRIG2\", \"FKBP14\", \"JAG2\", \"TMSB10\", \"BRWD1\", \"DDIT4\", \"CTLA4\", \"PIK3R1\", \"IGBP1P1\", \"KIAA1143\", \"PSD2\", \"PALD1\", \"UST\", \"PHAX\", \"ZNF195\", \"LYPLAL1\", \"PUS3\", \"ZNF497\", \"EFCAB7\", \"METTL25\", \"SUZ12P1\", \"LINC02080\", \"KHDRBS3\", \"CD5\", \"CRLS1\", \"HMBOX1\", \"ABCC5\", \"RPL15\", \"TNIK\", \"TENT2\", \"LINC00399\", \"EPHX1\", \"TSPAN18\", \"PARP1\", \"KMT5C\", \"DACT1\", \"LPL\", \"CDIP1\", \"YPEL5\", \"CPVL\", \"SPEF2\", \"LAMTOR4\", \"ZNF649\", \"ABCE1\", \"PRKX\", \"HOXA2\", \"ZNF790\", \"METTL6\", \"TRIM33\", \"RHOH\", \"WNT16\", \"MAP3K1\", \"SNHG7\", \"HMGN1\", \"PRPF38B\", \"ZFTA\", \"IMPACT\", \"ILF3-DT\", \"LINC01359\", \"GASK1A\", \"MLH3\", \"DNAAF8\", \"CEP135\", \"CADM1\", \"ZNF234\", \"KMT2C\", \"LPAR5\", \"CDKN3\", \"OGFRL1\", \"ADGRF3\", \"ATP9B\", \"BEX4\", \"CCT6P1\", \"CCT6P1\", \"CIBAR1\", \"HDAC2\", \"FAM91A1\", \"CSPP1\", \"CREBRF\", \"DTD2\", \"PSCA\", \"RBMX2\", \"SRMS\", \"LOC101928389\", \"VAMP4\", \"GRAP\", \"GATA3-AS1\", \"LTA\", \"GABPB1\", \"BAZ1A\", \"UACA\", \"GPR89B\", \"SELENOI\", \"CDON\", \"CEP63\", \"SLC20A2\", \"SPIN2A\", \"ANKRD18A\", \"FAM95C\", \"CAPN7\", \"FXYD2\", \"GABPA\", \"LINC00954\", \"SPATA7\", \"RBMX\", \"HIBCH\", \"DUSP2\", \"ATP6V1D\", \"FAM136A\", \"FUT8\", \"ATF7IP\", \"FAM186B\", \"TAF1D\", \"RNF144A\", \"TOX\", \"LOC102724428\", \"RNF6\", \"UBN1\", \"ISL2\", \"AK3\", \"CEP350\", \"UCHL5\", \"ATP5MG\", \"IRF8\", \"TNNC1\", \"PRKAA1\", \"THOC3\", \"VWF\", \"ZNF609\", \"KATNAL2\", \"CTTN\", \"ITM2C\", \"CCSER2\", \"SPACA3\", \"SNORD9\", \"ZNF224\", \"KISS1R\", \"MYO1D\", \"LINC01852\", \"ZNF718\", \"GGT5\", \"PLCXD2\", \"FXR1\", \"PEX13\", \"LINC01786\", \"GALNT16-AS1\", \"TASOR\", \"BAZ2B-AS1\", \"ZEB1-AS1\", \"CENATAC-DT\", \"ARL5A\", \"KHDRBS2\", \"IRAK1BP1\", \"NDUFAF7\", \"CCL4L2\", \"MCTS1\", \"SNRNP27\", \"DDX50\", \"PLRG1\", \"ZMYND11\", \"RBM27\", \"ALS2CL\", \"ZNF274\", \"FADS3\", \"ADAMTS5\", \"FGF2\", \"MRS2\", \"TMEM238\", \"MINDY2\", \"ATP2C2-AS1\", \"ZSCAN10\", \"RIF1\", \"NLRP7\", \"MMD\", \"CHCHD1\", \"ARID4A\", \"MYSM1\", \"DOCK7\", \"TSPYL1\", \"ZNF264\", \"CENPH\", \"NAA25\", \"ZNF184\", \"SUZ12\", \"SLC23A1\", \"ZNF790-AS1\", \"TRAPPC13\", \"PRCD\", \"SIRT5\", \"ATP10A\", \"ZNF431\", \"IGHV3-22\", \"TIA1\", \"G2E3\", \"NR1D1\", \"ZNF451\", \"LMTK3\", \"TSPAN15\", \"DENND5B-AS1\", \"NTN3\", \"BCKDHB\", \"SCML4\", \"CEP78\", \"LINC02145\", \"IRF6\", \"BLK\", \"RDH10-AS1\", \"LBH\", \"HECTD2\", \"PRIM1\", \"FAM210A\", \"DIMT1\", \"RNF122\", \"ADAMTS13\", \"YPEL2\", \"SLFN14\", \"LARP4\", \"LOC339666\", \"CCDC6\", \"PFKFB1\", \"SEC11A\", \"PSMD10\", \"ZNF658\", \"C17orf113\", \"TRAV12-1\", \"TSC22D1\", \"SCARNA11\", \"ZNF831\", \"ZNF134\", \"ARHGAP12\", \"MIR4539\", \"AFF4\", \"PGGT1B\", \"ACAT1\", \"ZCCHC4\", \"ANAPC1\", \"FAM27E3\", \"ZNF627\", \"EDDM13\", \"UBA6-DT\", \"PURA\", \"LINC02861\", \"OGFR-AS1\", \"C20orf144\", \"ZNF217\", \"KLHL9\", \"DCST1-AS1\", \"CCL28\", \"WDR75\", \"TMEM241\", \"ZBTB33\", \"IGF2BP2-AS1\", \"ERN1\", \"LNPK\", \"MANEA\", \"ROCK1\", \"PTPDC1\", \"THAP6\", \"MS4A7\", \"PAQR3\", \"WTIP\", \"GLIDR\", \"NEDD9\", \"TRIB2\", \"TYW1\", \"CCNT1\", \"ALKBH7\", \"GGH\", \"IGHV4-30-2\", \"KIF27\", \"MIR4432HG\", \"ZNF771\", \"ABRAXAS1\", \"TRAP1\", \"IGKV4-1\", \"TRAJ17\", \"HNRNPA1L3\", \"FKBP6\", \"KANSL1L-AS1\", \"RPL7A\", \"MAP10\", \"TBC1D31\", \"RNF32-AS1\", \"GRK5\", \"PAIP1\", \"TMIE\", \"SLC35B3\", \"PABIR3\", \"GAMT\", \"IL17RC\", \"APOOL\", \"PSMG4\", \"ZCCHC17\", \"ADAL\", \"GRB14\", \"WWP1\", \"CRMP1\", \"FUNDC1\", \"ACBD3\", \"EEF1AKMT3\", \"IGHV3-33\", \"MSRA-DT\", \"LRRC74A\", \"HIPK3\", \"BOD1L1\", \"KLHL29\", \"FAM86EP\", \"FAM86EP\", \"VXN\", \"QSOX2\", \"ARL16\", \"RARB\", \"SCD5\", \"ZHX1\", \"GAL3ST1\", \"PIGP\", \"IQCH-AS1\", \"SLC7A8\", \"IFT80\", \"CLCN4\", \"UTP20\", \"CNIH1\", \"FAM222A\", \"FBXO5\", \"SPDYE5\", \"TMEM258\", \"RPLP0\", \"TAX1BP1\", \"CHASERR\", \"TMCO2\", \"PRKAR1B\", \"JARID2\", \"ZMYM1\", \"SGCA\", \"OXLD1\", \"SIGLEC14\", \"EIF3F\", \"IREB2\", \"TBC1D32\", \"H3C10\", \"TMEM128\", \"SNAI1\", \"UBE2E2\", \"HIVEP2-DT\", \"DIPK2A\", \"CD226\", \"ANAPC13\", \"IQCB1\", \"DENND4C\", \"CENPV\", \"ANKIB1\", \"MON2\", \"RYK\", \"PYROXD1\", \"CCDC13-AS2\", \"SLC5A10\", \"EPN2\", \"PALS1\", \"HERPUD2-AS1\", \"CCDC65\", \"SPTBN1\", \"UFM1\", \"E2F6\", \"ZNF747-DT\", \"IL36A\", \"ADARB1\", \"TSTD1\", \"MED10\", \"ZNF131\", \"TMEM191B\", \"SLC10A4\", \"MSANTD4\", \"CHCHD6\", \"ABLIM2\", \"P3H3\", \"WNT7A\", \"CASKIN2\", \"BMS1P4\", \"BMS1P4\", \"USP45\", \"SEC22A\", \"ENPP3\", \"LRBA\", \"CCNT2-AS1\", \"MRPS22\", \"CASP8AP2\", \"TNFRSF4\", \"GPSM1\", \"CCDC112\", \"NADK2\", \"THUMPD3-AS1\", \"ZNF284\", \"AGMAT\", \"SUCLG2-DT\", \"RSBN1L\", \"SNRNP48\", \"LOC105371090\", \"GPR55\", \"TOMM20\", \"GRTP1\", \"PATJ\", \"ALCAM\", \"RNF207-AS1\", \"TRMT61B\", \"AMY2B\", \"POLE4\", \"SUSD3\", \"SPIB\", \"GNRH2\", \"WDR36\", \"SEPTIN3\", \"LINC01355\", \"TMEM41B\", \"CCDC117\", \"GCOM1\", \"LIN7C\", \"CNOT7\", \"RASIP1\", \"FGFR1OP2\", \"TRIM32\", \"CMTR2\", \"GSTA1\", \"SLC9B1\", \"CD93\", \"PKP4\", \"USP14\", \"NEO1\", \"ZNF639\", \"FOXR1\", \"ZNF888\", \"SDE2\", \"RPL36A\", \"RP9\", \"ZNF222\", \"RAB11FIP2\", \"LATS2\", \"CHMP1B\", \"FBL\", \"STARD4\", \"TRUB1\", \"KIF1C-AS1\", \"ZNF24\", \"LIAS\", \"TMEM237\", \"ELMOD2\", \"SIDT1\", \"CEP20\", \"TTC3P1\", \"UBXN7-AS1\", \"FAF1-AS1\", \"PRKAB2\", \"RHBDD1\", \"PPAT\", \"RPS11\", \"RNF170\", \"IZUMO4\", \"KRT80\", \"C1QTNF7\", \"ZFY-AS1\", \"MYORG\", \"LYRM4-AS1\", \"DLG1\", \"ITGAE\", \"EPC2\", \"EID2\", \"PACERR\", \"PUM2\", \"ZHX2\", \"LINC02224\", \"C5orf15\", \"DMXL1\", \"TCEA1\", \"GPR174\", \"IGLJ1\", \"MRPL42\", \"ATAD2B\", \"ITGB1BP2\", \"DNAJC21\", \"DUSP1\", \"TMEM209\", \"NBPF15\", \"NCAM2\", \"TNRC6C\", \"PDE7A\", \"LZTS1\", \"TNFRSF10A-DT\", \"MED13L\", \"LOC101928053\", \"DUT\", \"ZNF800\", \"SELENOH\", \"NAB2\", \"HIPK1\", \"PPP2R5A\", \"DENND10P1\", \"PGAP1\", \"URB2\", \"DENND1B\", \"CYP2W1\", \"BORA\", \"MIR4706\", \"TAGAP\", \"IGHV6-1\", \"IGBP1\", \"RNASE10\", \"EPC1-AS1\", \"STYX\", \"SMIM19\", \"CCDC121\", \"BEND3\", \"INKA2\", \"CCNC\", \"GARRE1\", \"NAA30\", \"POLR2J2\", \"PPIH\", \"CARNMT1-AS1\", \"MIR4480\", \"RHBDL2\", \"TIMM23\", \"GBP7\", \"TBC1D9\", \"CARD11\", \"SREK1IP1\", \"TASOR2\", \"PHLDB3\", \"WDR7\", \"GRHL1\", \"TCEAL1\", \"SLMAP\", \"SCAT8\", \"ZNF318\", \"CDKN2AIP\", \"TSPYL4\", \"ZNF32\", \"TCF12\", \"PCNP\", \"PKP3\", \"BAG2\", \"ZNRF2P2\", \"DENND5B\", \"SCFD1\", \"EXOSC6\", \"KCNG1\", \"ZNF382\", \"DNAL1\", \"KRT73\", \"ADNP\", \"MAP7\", \"TAGAP-AS1\", \"RNF139-DT\", \"NACA\", \"TRAJ25\", \"ADAM28\", \"PRKG2\", \"HSBP1L1\", \"MED25\", \"PARD3\", \"DNAAF2\", \"ENC1\", \"EPM2A\", \"SNORA71B\", \"PPP1R1B\", \"NAT8B\", \"ABCB9\", \"SMIM14\", \"ERGIC2\", \"CDC7\", \"HDAC8\", \"PRR4\", \"HEY1\", \"RBM44\", \"IGHV3-65\", \"DNAJC2\", \"LINC01311\", \"SREK1\", \"FAM185A\", \"RPS6KA5\", \"SGO2\", \"DYRK1A\", \"MMP17\", \"CCL2\", \"LINC02446\", \"JUND\", \"ZNF225\", \"RASA2\", \"PITPNM2\", \"BTF3\", \"MRPL15\", \"MSANTD2\", \"LINC01126\", \"PTCH1\", \"PCBP2-OT1\", \"OXR1\", \"UBE3A\", \"KLF3-AS1\", \"PLEKHG5\", \"C10orf95\", \"MUC16\", \"NCOA4\", \"PAK6\", \"BUB1B-PAK6\", \"BUB1B-PAK6\", \"XYLT1\", \"MLANA\", \"GABRD\", \"RPS19\", \"SNORA65\", \"NKPD1\", \"AOC3\", \"CRIP1\", \"ARID1B\", \"MORC2-AS1\", \"EFCAB13\", \"IGHA1\", \"H2BC7\", \"CXCL8\", \"DPY19L4\", \"DKKL1\", \"NSD3\", \"EPHB1\", \"ZNF281\", \"SSC5D\", \"SNORD3A\", \"ATM\", \"KLHL10\", \"ERVFRD-1\", \"SPDYE17\", \"ZFAND4\", \"PDF\", \"ZKSCAN8P1\", \"MRPL45\", \"CERS6\", \"RAB18\", \"TM9SF3\", \"SPIRE1\", \"CPLX2\", \"PIGA\", \"ZNF621\", \"DNTTIP2\", \"TMEM117\", \"DDHD2\", \"PLPP6\", \"MEIOB\", \"RB1CC1\", \"FAM110B\", \"SMDT1\", \"SGPP1\", \"ARL5B\", \"SCRG1\", \"BTAF1\", \"GSPT2\", \"MIGA1\", \"FAM199X\", \"LY96\", \"FAM43A\", \"CIB3\", \"STARD13\", \"ERCC6\", \"CC2D2B\", \"POLR3F\", \"EID1\", \"AKT3\", \"SEC14L2\", \"ODR4\", \"UBXN8\", \"EBI3\", \"ACY3\", \"PRANCR\", \"FNDC8\", \"BDP1\", \"C10orf88\", \"UGT2B11\", \"IGHV3-66\", \"LINC02688\", \"RPL18A\", \"BEND2\", \"WDR53\", \"PRKX-AS1\", \"PARG\", \"MRPL17\", \"SGMS2\", \"MYOM2\", \"IKBIP\", \"VPS13C\", \"DZIP3\", \"GPATCH2\", \"HLA-DOB\", \"MRPL21\", \"RNF157-AS1\", \"NKAPD1\", \"RGS18\", \"SNORA1B\", \"LINC02666\", \"C19orf73\", \"DOCK9\", \"PANK3\", \"FIRRE\", \"RPL37A-DT\", \"COCH\", \"ZBTB44\", \"CENPN-AS1\", \"ASF1B\", \"ATF2\", \"HACE1\", \"LRPPRC\", \"ZNF845\", \"MRPL35\", \"ENTPD8\", \"MAP4K5\", \"SLC16A4\", \"MCF2L2\", \"RPL19\", \"CDH13\", \"JPH3\", \"RRAS2\", \"FAM162A\", \"CAVIN1\", \"UTP6\", \"AGPAT4\", \"USF3\", \"ZNF527\", \"FBXL22\", \"RSF1\", \"CD1C\", \"ENOPH1\", \"MTA3\", \"ZBTB11\", \"C9orf85\", \"ZNF678\", \"TRAV41\", \"LOC105374085\", \"SLC41A3-AS1\", \"FGF22\", \"ILDR1\", \"URB1\", \"DGKH\", \"RASGRF2\", \"AIFM2\", \"PRR34\", \"THSD1\", \"SMG1P2\", \"SNX2\", \"RAB11FIP1\", \"MIR6895\", \"METTL14\", \"RNF138\", \"PGBD1\", \"ATOX1-AS1\", \"LEPROTL1\", \"DHX32\", \"GDPD1\", \"RBM7\", \"LDLRAP1\", \"SARAF\", \"FOSL2-AS1\", \"AP1S3\", \"TMPRSS13\", \"CCDC25\", \"ERC1\", \"TAS2R5\", \"PBXIP1\", \"TIMM17A\", \"ZNF75A\", \"FRG1JP\", \"SLC38A2\", \"PLPP1\", \"PRKD3\", \"HIGD1B\", \"WASL\", \"SIRPG\", \"PDE4D\", \"LTBP3\", \"DCHS2\", \"ZNF347\", \"TSHZ1\", \"ZNF827\", \"NR2C1\", \"SAV1\", \"MYCBP2\", \"NCEH1\", \"DDX10\", \"CNOT6L\", \"CRTAM\", \"MARCHF9\", \"ZNF433-AS1\", \"MORC3\", \"ARHGEF38\", \"TMEM177\", \"NOXA1\", \"RASL11A\", \"SSX2IP\", \"LMF1\", \"CRBN\", \"CATSPERB\", \"USP11\", \"TMEM135\", \"ZNF529-AS1\", \"LINC02341\", \"TTC21B-AS1\", \"RNASE6\", \"EYS\", \"ZNF490\", \"CLK2P1\", \"ARMCX1\", \"LINC01176\", \"COL6A1\", \"PPP1R36\", \"FOXN3\", \"F2R\", \"LINC01816\", \"LMO7\", \"ZNF235\", \"SNRK\", \"LINC02285\", \"CBX3\", \"ZSCAN16-AS1\", \"RPRD1A\", \"RAB12\", \"LAPTM4B\", \"ZNF780B\", \"SAMD12-AS1\", \"C1D\", \"ZNF805\", \"CD1B\", \"SDR42E1\", \"ZNF665\", \"POT1\", \"ODF2L\", \"SOAT2\", \"MTSS1\", \"MIB1\", \"PXDC1\", \"OVOL3\", \"SLC3A1\", \"BMPR2\", \"ATG2A\", \"IGHV1-14\", \"ANKRD31\", \"PHIP\", \"EMC3-AS1\", \"NBEAL1\", \"THNSL2\", \"NEIL1\", \"COL5A2\", \"APP\", \"GLS\", \"TGDS\", \"ADGRG6\", \"RPS16\", \"C17orf67\", \"IGHMBP2\", \"PRRC1\", \"HIVEP1\", \"ATP5IF1\", \"LINC00667\", \"OR13A1\", \"CNR1\", \"ST6GALNAC1\", \"RASD1\", \"TMEM163\", \"YAF2\", \"TRAV39\", \"CNTNAP1\", \"MAGOHB\", \"FRG1HP\", \"GEMIN8\", \"HHIPL1\", \"GPBP1\", \"DNAI4\", \"RPAP3\", \"XPA\", \"MED21\", \"MKKS\", \"MRPL33\", \"MED30\", \"MIS12\", \"MIR4664\", \"EED\", \"RBM38-AS1\", \"HIP1R\", \"MATR3\", \"SMN1\", \"CHCHD4\", \"BTG3\", \"ASCC3\", \"ATP1B1\", \"RPGRIP1\", \"ZFAND6\", \"GOPC\", \"ZNF254\", \"FBN2\", \"HCP5B\", \"ACYP1\", \"GMFB\", \"CYSLTR2\", \"NCOA2\", \"NARS2\", \"KLHL13\", \"PPA2\", \"ODAD1\", \"LINC00996\", \"CPPED1\", \"PRKAG2\", \"C11orf58\", \"TAF4B\", \"SPINT1-AS1\", \"NAF1\", \"DYRK2\", \"LINC01144\", \"CHM\", \"MSH2\", \"JARID2-AS1\", \"PXDNL\", \"MBTD1\", \"NDRG2\", \"CYP4V2\", \"OSGEPL1\", \"ZNF141\", \"TMEM38B\", \"CFDP1\", \"ACP6\", \"MINDY3\", \"ZNF671\", \"CNN3\", \"NIPA1\", \"ETV5\", \"SPOCK2\", \"FAM204A\", \"SENP6\", \"MRPS31\", \"UBR1\", \"CDRT15\", \"DNAJA1\", \"KLHL7\", \"IATPR\", \"COQ5\", \"TNFRSF11A\", \"ZBTB14\", \"TLE2\", \"DTWD1\", \"SRSF11\", \"GMFG\", \"MAPK6\", \"LCN6\", \"ARHGAP5\", \"ERI2\", \"PPM1J\", \"MIR3667HG\", \"MIR4263\", \"MPHOSPH6\", \"NTM\", \"EXTL3-AS1\", \"TBXA2R\", \"SPINK8\", \"ZNF850\", \"KLHL25\", \"SP4\", \"IL17C\", \"ATL2\", \"DEK\", \"TP53INP1\", \"HSF5\", \"ZSCAN12\", \"NEK5\", \"TAF1A-AS1\", \"ITGB8-AS1\", \"VSIG8\", \"EEA1\", \"CCT2\", \"RYR3\", \"SLC26A1\", \"PALLD\", \"SLC45A4\", \"ST6GAL1\", \"TMEM67\", \"CPLX1\", \"LINC01215\", \"N4BP2\", \"RAPGEF2\", \"SNRPB2\", \"N4BP2L1\", \"TOGARAM1\", \"PLEKHB1\", \"ZNF518B\", \"POMZP3\", \"ZSCAN31\", \"LINC01232\", \"PTK2\", \"SWAP70\", \"GPR153\", \"MCEE\", \"LINC02802\", \"EXOSC7\", \"ZNF529\", \"NLRP2\", \"RAD51C\", \"PCNX4\", \"PLEKHA5\", \"ACER1\", \"LDLRAD4\", \"BOLA1\", \"LSR\", \"MRTFB\", \"LINC00989\", \"HSP90AB4P\", \"PWWP2A\", \"PTK7\", \"SPATA6\", \"TUBB4A\", \"ERBB2\", \"KDM4C\", \"LKAAEAR1\", \"PPP1R2\", \"NR3C1\", \"MED13\", \"PIBF1\", \"BCL2L1-AS1\", \"CA8\", \"SMC2\", \"ZNF26\", \"SASS6\", \"SLC39A10\", \"NEK7\", \"CD2AP\", \"FIGNL2\", \"FKBP1AP1\", \"CUBN\", \"EXOC3-AS1\", \"RAPGEF6\", \"SRSF8\", \"ZNF470-DT\", \"LATS1\", \"ZNF530\", \"ZNF763\", \"C2CD6\", \"NPHP3\", \"FAM161A\", \"DIAPH3\", \"POLA1\", \"SV2A\", \"B3GALT9\", \"TSPYL5\", \"P2RY12\", \"KCTD1\", \"PTAR1\", \"SATB1\", \"CUTC\", \"ZP3\", \"PPP1R9A-AS1\", \"MIR1273H\", \"GNE\", \"TMEM216\", \"PPM1K\", \"SCAT1\", \"ZNF596\", \"LINC01315\", \"WHAMMP2\", \"GCFC2\", \"ADPGK-AS1\", \"BMI1\", \"TEF\", \"PHF6\", \"GOLGA4-AS1\", \"CPEB2\", \"TPST1\", \"TTC19\", \"C7orf57\", \"ZNF582\", \"DOCK9-DT\", \"KLB\", \"TPBG\", \"GPRASP1\", \"SNORD12C\", \"SP2-AS1\", \"UPRT\", \"PER1\", \"LY75\", \"GORAB\", \"ZNF836\", \"RANBP2\", \"CASP3\", \"ZMYM6\", \"CARD8-AS1\", \"PARPBP\", \"BCL2L2-PABPN1\", \"LNX2\", \"POMK\", \"IMPA1\", \"IKZF5\", \"HDDC2\", \"BLZF1\", \"FSCN2\", \"GTF2IRD1\", \"HLA-DPA1\", \"AKR7A3\", \"FAM133B\", \"CMSS1\", \"NAA20\", \"HPSE2\", \"ROR2\", \"PMS2P2\", \"IL7R\", \"CYP4F3\", \"OPN3\", \"APBB1\", \"FOXP1\", \"LMLN\", \"GRPEL2\", \"PDGFC\", \"RRP12\", \"HOTAIRM1\", \"TDRD15\", \"CABYR\", \"FCRL4\", \"TRDMT1\", \"SLC35A3\", \"NAP1L1\", \"MDH1\", \"MZT2A\", \"LINC02904\", \"PLCL1\", \"PABIR2\", \"PPIL4\", \"ZBTB5\", \"ZNF518A\", \"PPIA\", \"PHLDA1\", \"CBX2\", \"SNX29\", \"PRELID3A\", \"TMEM42\", \"BCAT1\", \"GOLT1B\", \"TAF9\", \"VEPH1\", \"RNASEH2B\", \"ARL1\", \"NSUN4\", \"SULF2\", \"EIF2AK3\", \"MIR4521\", \"INPP4B\", \"PITPNA-AS1\", \"PTRHD1\", \"C2orf15\", \"AASDH\", \"URI1\", \"TATDN3\", \"GASAL1\", \"GOLGA8A\", \"TTC39B\", \"ZNF367\", \"APTR\", \"PHF5A\", \"PRG4\", \"NEMP1\", \"SOCS4\", \"KLHL15\", \"ZNF844\", \"KIF26B\", \"METTL8\", \"ZNF587B\", \"PIGB\", \"MRPL41\", \"ZNF543\", \"LINC00938\", \"MIR621\", \"IGHV3-64\", \"PEX2\", \"SOX5\", \"DUSP12\", \"RTTN\", \"OBSCN\", \"EBLN3P\", \"ZNF350\", \"LINC00334\", \"MALT1\", \"ZNF449\", \"NSMCE3\", \"EXOSC8\", \"AUTS2\", \"GEM\", \"TENT4B\", \"B3GLCT\", \"LINC00662\", \"DNMBP\", \"SMIM10L1\", \"SMC4\", \"RALGAPA1\", \"PSIP1\", \"BLOC1S5\", \"LRIF1\", \"IRF4\", \"H2AC6\", \"RPL4\", \"ZFP37\", \"IGLJ6\", \"EGLN3\", \"CRY1\", \"AMD1\", \"CHORDC1\", \"ST8SIA6\", \"ZNF66\", \"RAG1\", \"TMEM14C\", \"SUSD4\", \"RAB26\", \"ARFIP1\", \"RBBP8\", \"PLEKHA3\", \"FER\", \"IFT88\", \"ACKR3\", \"RAVER2\", \"PRORP\", \"GPR18\", \"MAP3K20-AS1\", \"CARF\", \"PPP4R3A\", \"LOC100505664\", \"CFH\", \"PRICKLE4\", \"ORC3\", \"NIFK-AS1\", \"STK32C\", \"SPEN-AS1\", \"LINC00539\", \"FAM240C\", \"LINC02615\", \"ESPNL\", \"ZNF696\", \"GIMAP2\", \"PPA1\", \"TRAPPC6B\", \"PRKAG2-AS1\", \"CDK19\", \"FUT2\", \"SLC4A7\", \"CARD16\", \"EPN3\", \"PAXBP1\", \"RBBP6\", \"LINC02891\", \"ASNS\", \"SLC12A2-DT\", \"TRIM45\", \"B4GAT1\", \"ZBTB6\", \"C4orf33\", \"ZNF277\", \"IGLV1-40\", \"OARD1\", \"AFAP1-AS1\", \"TCFL5\", \"GPR157\", \"SYPL1\", \"SGK1\", \"STAR\", \"ZNF644\", \"AVPI1\", \"SNORA11F\", \"RICTOR\", \"TRBV7-7\", \"DAAM2-AS1\", \"PPTC7\", \"C2orf76\", \"ZNF136\", \"ZNF493\", \"CCDC191\", \"COL20A1\", \"LYSMD3\", \"ZNF236\", \"PTP4A3\", \"ATP5F1C\", \"AKAP11\", \"SLC25A46\", \"SLC35G5\", \"SEPSECS\", \"CPEB2-DT\", \"LGR4\", \"TCF7\", \"SNX14\", \"FAM172BP\", \"SFMBT2\", \"CFAP45\", \"MTERF3\", \"THAP9-AS1\", \"NMT2\", \"UFL1\", \"POLR1F\", \"NPC1L1\", \"IGHV1-2\", \"EIF5AL1\", \"LAMB2P1\", \"SPIN2B\", \"ACSBG1\", \"IL2RA\", \"LYRM7\", \"FOXP1-AS1\", \"NPAS2\", \"C1orf52\", \"ZCRB1\", \"MOB4\", \"ATRX\", \"GTF2B\", \"TRMT13\", \"GAB1\", \"SPIRE2\", \"RPS28\", \"LINC00452\", \"DNAJC10\", \"TOP1MT\", \"CCDC102B\", \"CMPK1\", \"PIK3IP1\", \"TMSB15A\", \"CEP120\", \"CFAP97\", \"SPRN\", \"GPATCH11\", \"TNFAIP8\", \"ASF1A\", \"ZNF345\", \"PIGW\", \"KRT73-AS1\", \"DHRS9\", \"MRPL3\", \"SERPINF2\", \"HSPA13\", \"SPON2\", \"CA11\", \"HLA-DRA\", \"TMTC3\", \"LINC00304\", \"ZNF407-AS1\", \"CDH20\", \"ZNF714\", \"S100A1\", \"LAMTOR3\", \"CCDC91\", \"UPK1A\", \"LINC02201\", \"CDK13-DT\", \"ACADM\", \"NAA16\", \"NDUFAF5\", \"EGR3\", \"AEBP2\", \"ZBTB8OS\", \"RASA3-IT1\", \"ZNF507\", \"ZNF613\", \"FBXL3\", \"LRP5\", \"UNC80\", \"GATM\", \"ATP5PB\", \"MB21D2\", \"PLEKHA8\", \"SLU7\", \"RPS9\", \"SOWAHC\", \"METTL21A\", \"ATP11C\", \"FAM241B\", \"ZNF419\", \"EDA2R\", \"ZNF575\", \"ARFGEF2\", \"GPA33\", \"PNISR\", \"FAM110C\", \"PLXDC1\", \"PCYOX1\", \"TMEM221\", \"ARMC3\", \"ALG13\", \"LINC01679\", \"RGCC\", \"RHOBTB1\", \"SNX22\", \"SNX29P1\", \"FEM1B\", \"ELAC1\", \"FAM171A2\", \"ADTRP\", \"DAAM1\", \"PTPN13\", \"ROR1\", \"MLC1\", \"PLEKHA1\", \"PRMT9\", \"RTRAF\", \"ZNF398\", \"VIRMA-DT\", \"GPR20\", \"CHRNB1\", \"CCDC90B\", \"CLIC3\", \"RECK\", \"NRG1\", \"SOGA3\", \"CHD9\", \"UPF3B\", \"MIR29B2CHG\", \"PRKACB\", \"ERCC6L2\", \"OSTC\", \"FOXD4L1\", \"NPAT\", \"ALOX12B\", \"ZNF304\", \"TRDJ3\", \"DCAF13\", \"NUDT15\", \"PTGER4\", \"CA14\", \"BCL2\", \"MAP3K7CL\", \"GPAM\", \"CD72\", \"LOC642361\", \"ZBTB26\", \"BICD1\", \"TTC8\", \"MOSMO\", \"SYDE2\", \"SMIM8\", \"LINC01590\", \"P2RX5-TAX1BP3\", \"LINC01934\", \"IGLV6-57\", \"MIR4537\", \"KCNS3\", \"DNAJB5\", \"ZCCHC18\", \"DNAJC15\", \"PNRC2\", \"CLLU1\", \"SPDYE12\", \"ZFYVE9\", \"BOLA3\", \"FOLR1\", \"ZNF322\", \"CKAP2\", \"H3Y2\", \"CXXC5\", \"ZNF883\", \"CELA2B\", \"MEDAG\", \"FAM241A\", \"BCL11B\", \"ZRANB2\", \"RPL37A\", \"CIAO2A\", \"ZNF84\", \"ZMAT3\", \"RPS5\", \"FAM120C\", \"CD38\", \"PFAS\", \"LOC105274304\", \"ATF7IP2\", \"UMAD1\", \"HNRNPA1L2\", \"THAP12\", \"ARR3\", \"SBSPON\", \"PTRH1\", \"HAUS6\", \"RNF112\", \"SH2D1A\", \"LIMS2\", \"TTC24\", \"NUF2\", \"POLR1B\", \"WFIKKN1\", \"KICS2\", \"SNRNP25\", \"ANKRD65\", \"KDM2B-DT\", \"CCND1\", \"ZNF354A\", \"LINC02325\", \"RPL23AP82\", \"RPL23AP82\", \"INTS2\", \"SNORA80C\", \"S100P\", \"CHST2\", \"NUP54\", \"WDR97\", \"ARMC1\", \"ZNHIT3\", \"MYZAP\", \"FBXL17\", \"SHISA8\", \"ABCD2\", \"WAKMAR2\", \"UBE2L5\", \"CCL20\", \"BIVM\", \"ZNF484\", \"BDNF-AS\", \"SNORA77\", \"SEC24B-AS1\", \"SLC9C1\", \"CAMK2D\", \"PTPRB\", \"VEGFB\", \"IGKV1-8\", \"TRIM7-AS1\", \"ARL4A\", \"KIAA1328\", \"EIF5A2\", \"LINC01694\", \"ZFAS1\", \"SIPA1L3\", \"BET1\", \"TEKT2\", \"VPS13B-DT\", \"CCAR1\", \"LINC02812\", \"GPM6A\", \"NUDT21\", \"ULBP2\", \"TRBV5-5\", \"CENPW\", \"USP16\", \"TIMM23B-AGAP6\", \"KLHL35\", \"CCNB1IP1\", \"TOB1\", \"TRMT10C\", \"NXPH4\", \"NDC1\", \"CCN6\", \"MED7\", \"EWSAT1\", \"ZNF830\", \"FAM178B\", \"MAPT\", \"MEX3C\", \"PDGFD\", \"LINC00384\", \"CHRNA2\", \"TRGV6\", \"CRYM\", \"NEMP2\", \"PLEKHA8P1\", \"MAN1A2\", \"MIR548O\", \"NUCKS1\", \"HECA\", \"AIRE\", \"PTER\", \"LIG4\", \"ZBTB38\", \"LOC285097\", \"PTRH2\", \"GALNT8\", \"BTG1\", \"ATAD1\", \"TMEM25\", \"ING2\", \"SOX30\", \"CFAP44\", \"METTL15\", \"BOD1\", \"ZNF614\", \"ZHX3\", \"CCDC138\", \"CTSF\", \"SLC22A3\", \"ARMC12\", \"ZNF17\", \"MAOB\", \"LINC01992\", \"WDR17\", \"TSPOAP1\", \"ABCA10\", \"UBL3\", \"RAMP1\", \"SUSD5\", \"PHF14\", \"TRGVA\", \"UCN2\", \"NEDD1\", \"SLC2A13\", \"CBR4\", \"PDE6G\", \"EMP1\", \"GJC2\", \"CACTIN-AS1\", \"MIS18A\", \"LINC00910\", \"LYRM2\", \"CCDC34\", \"POGLUT2\", \"PLAG1\", \"OSGIN2\", \"TRAV4\", \"CYP2U1\", \"FLNB\", \"SIAH1\", \"AGAP13P\", \"TRIM67\", \"LINC01352\", \"COX10-DT\", \"MRPL51\", \"FOXJ1\", \"SEPTIN11\", \"RABGGTB\", \"SPDYE6\", \"IGSF9\", \"SNORD38C\", \"ZNF180\", \"LACTB2-AS1\", \"AMIGO2\", \"TM2D3\", \"ZNF197\", \"CARMIL3\", \"MDM1\", \"NMB\", \"SEMA3C\", \"POU2AF1\", \"NR1D2\", \"ZNF695\", \"BCLAF1\", \"PTBP2\", \"ALKBH8\", \"THUMPD1\", \"MIR3138\", \"FSBP\", \"GNG7\", \"KRR1\", \"NAV1\", \"NIFK\", \"HLA-DQB2\", \"LINC00299\", \"HSPH1\", \"SPDYE18\", \"IPMK\", \"BTBD3\", \"MIR3142HG\", \"NDUFA4L2\", \"MIR8071-1\", \"LOC105377267\", \"ZNF239\", \"ZNF525\", \"LMBRD2\", \"IL15\", \"COX14\", \"TRDC\", \"GPM6B\", \"FNDC11\", \"ALOX15P1\", \"DOK6\", \"MARCKSL1\", \"ZNF366\", \"TRAF4\", \"ATOH8\", \"KLHL28\", \"ZNF223\", \"EFHC2\", \"NDUFB2\", \"EDNRB-AS1\", \"DCBLD1\", \"TRGV7\", \"SMIM15\", \"ACVR2B\", \"ZNF470\", \"TMEM106B\", \"PHOSPHO1\", \"TMEM243\", \"CENPU\", \"DDR1\", \"FBXO4\", \"ZNF829\", \"ABI2\", \"POLI\", \"MZT1\", \"DHRS4L1\", \"TRPM2-AS\", \"ATP5ME\", \"TRBV7-9\", \"ZNF521\", \"AHDC1\", \"AZIN2\", \"MOB1B\", \"ANKRD13C\", \"THUMPD2\", \"CSNK1G3\", \"FZD3\", \"DUSP19\", \"ABCA5\", \"COMMD8\", \"C4B\", \"TRIM61\", \"IER3IP1\", \"CEP152\", \"USP32P3\", \"BAZ2B\", \"NNT-AS1\", \"RELL1\", \"KIF5A\", \"DISP1\", \"SPEG\", \"SNHG32\", \"ITPR1\", \"ULBP1\", \"POLR2M\", \"DNM3OS\", \"ZZZ3\", \"HEATR5A-DT\", \"TTC39C-AS1\", \"PTCH2\", \"PGBD2\", \"PPM1B\", \"RUNX2\", \"DOCK1\", \"NAE1\", \"FOXA3\", \"CD19\", \"NUDCD1\", \"LINC00896\", \"TMX3\", \"DNAH6\", \"NEURL2\", \"THAP5\", \"CENPE\", \"UBL5\", \"RFX3\", \"CFAP57\", \"ZNF606\", \"PREPL\", \"NBPF3\", \"SLC25A36\", \"SLC25A53\", \"TM4SF19-AS1\", \"FANCF\", \"NBPF6\", \"EID3\", \"SMG1P7\", \"OTUD6B\", \"STAG3L4\", \"STAG3L4\", \"ATP2B1\", \"QRSL1\", \"RWDD4\", \"SPIN1\", \"TMEM19\", \"ZXDB\", \"CD7\", \"AMIGO1\", \"CLTRN\", \"PIGK\", \"MGAT4A\", \"MIR23AHG\", \"SNHG30\", \"RPLP1\", \"ATP8B1\", \"HEG1\", \"CD22\", \"SLC38A1\", \"MMP23A\", \"HOXC4\", \"MTF2\", \"SRP19\", \"SPDYE1\", \"FBXL13\", \"SULT2B1\", \"LINC01269\", \"SLC39A6\", \"KBTBD7\", \"CTH\", \"RBM15\", \"FRA10AC1\", \"CAVIN2\", \"POU5F1P5\", \"CFAP418\", \"SAMD4A\", \"PPWD1\", \"LINC01655\", \"ACKR2\", \"C5orf24\", \"RPL13\", \"COG6\", \"SESTD1\", \"ARID5B\", \"SLC22A13\", \"GRM2\", \"C16orf74\", \"ZFP69B\", \"ZNF331\", \"TLK1\", \"ATP6V0E2-AS1\", \"TERT\", \"BOK\", \"MAPKAPK5-AS1\", \"EIF4E\", \"ERRFI1\", \"ARHGAP5-AS1\", \"DCK\", \"PLEKHG7\", \"MIR4538\", \"RABGAP1L\", \"PCGF6\", \"TMEM232\", \"TMEM126B\", \"SSR4P1\", \"FRG1-DT\", \"CEACAM16\", \"EIF4A2\", \"LINC01806\", \"ATP8A1\", \"FAM169A\", \"ZNF260\", \"PCMTD1\", \"CAMK4\", \"MIR558\", \"CHRNG\", \"ZCCHC7\", \"TDRP\", \"SNORD6\", \"SLFN5\", \"ZNF709\", \"ZNF565\", \"RASGRP3\", \"COPS4\", \"MEF2C\", \"CNR2\", \"DTHD1\", \"ATF1\", \"PRAMENP\", \"PRAMENP\", \"SYNPO2L\", \"WHAMMP3\", \"MTX2\", \"ZNF226\", \"FEZ1\", \"STT3A-AS1\", \"PCDHGB4\", \"IFI27L1\", \"METTL4\", \"MYEOV\", \"MYADM-AS1\", \"ZNF268\", \"TAS2R43\", \"LINC02289\", \"UBA5\", \"SOCS5\", \"MNAT1\", \"GCSAM\", \"ZBED5\", \"RFX7\", \"CAVIN3\", \"KMO\", \"GPR150\", \"LINC00674\", \"OLFML2A\", \"ZNF566\", \"HSPA14\", \"ABLIM1\", \"MKRN2OS\", \"ZKSCAN2\", \"NMRK1\", \"ZNF605\", \"LINC01801\", \"TMEM68\", \"C3orf49\", \"EIF2AK3-DT\", \"COPS9\", \"RAI14\", \"TMEM9B-AS1\", \"POU5F1P4\", \"SLC22A20P\", \"KIAA1586\", \"RORA-AS1\", \"TTC33\", \"ETNK1\", \"SLC1A1\", \"IL24\", \"DCUN1D4\", \"GNRHR2\", \"EZHIP\", \"SMC6\", \"ATRIP-TREX1\", \"ATRIP\", \"LIPT1\", \"MIR4744\", \"PACSIN1\", \"ASPDH\", \"FAM86B2\", \"JMY\", \"TAF1A\", \"FKBP3\", \"ETAA1\", \"TANC1\", \"SLC22A7\", \"RFESD\", \"ESCO1\", \"IGHJ3P\", \"CCNT2\", \"GDAP1L1\", \"PAIP2B\", \"KRTAP5-10\", \"RIBC2\", \"MANSC4\", \"IL23A\", \"CEP57\", \"CCDC18\", \"POU4F1\", \"DIAPH1-AS1\", \"ST3GAL6-AS1\", \"FCMR\", \"STRBP\", \"SMG1P6\", \"PRH1\", \"ZNF702P\", \"SLC16A11\", \"MOB3B\", \"LSM7\", \"LOC107986163\", \"RPS4X\", \"RPL30\", \"C1orf146\", \"IGHV1-67\", \"CILP\", \"BCAS4\", \"CREBZF\", \"PPM1E\", \"LINC01948\", \"RELCH\", \"ZBTB21\", \"SBDSP1\", \"SBDSP1\", \"FCF1P2\", \"HLF\", \"ACOD1\", \"HSD17B13\", \"PRELID2\", \"SLC17A9\", \"RCAN3\", \"ZYG11A\", \"RN7SL832P\", \"ITGB8\", \"SPON1\", \"SLC35G1\", \"ZEB1\", \"APOA1\", \"RHEX\", \"TARS3\", \"PMAIP1\", \"COPS2\", \"CUL5\", \"LINC02518\", \"NINL\", \"ESRP1\", \"ABCA11P\", \"RPL3\", \"EFNA1\", \"DPF3\", \"TAPT1\", \"WDR93\", \"LILRA4\", \"GAS1RR\", \"KTN1-AS1\", \"TRIM75\", \"COX16\", \"PDCL3P4\", \"TOPORS\", \"UCHL1\", \"FLVCR1\", \"ADCY10\", \"ANGEL2\", \"IL6ST\", \"MRS2P2\", \"SCAI\", \"SOD1\", \"COPZ2\", \"SYNGR3\", \"PEX11A\", \"PRDM8-AS1\", \"SBDS\", \"TMCC2-AS1\", \"RSPH14\", \"MIR26B\", \"SPDYE2\", \"LOC105372990\", \"INF2\", \"CILK1\", \"PSMA3\", \"LINC02234\", \"SNX4\", \"LINC00944\", \"OXNAD1\", \"PLEKHF2\", \"ANKRD46\", \"MBNL1\", \"ZNF599\", \"ZNF550\", \"DDX11-AS1\", \"CCDC141\", \"MBIP\", \"NOC3L\", \"APCDD1L\", \"SNHG29\", \"THAP1\", \"ARHGEF4\", \"IL7\", \"EBAG9\", \"TRIM36\", \"TAMM41\", \"SYT17\", \"RIMKLB\", \"ZNF93\", \"PANX2\", \"RPP40\", \"ZC3H6\", \"VIPR1-AS1\", \"TRAJ21\", \"TPO\", \"LINC02210\", \"PLAAT3\", \"MAML2\", \"LOC101927588\", \"LAD1\", \"KIR3DL2\", \"OR7E14P\", \"CNDP1\", \"ZNF674\", \"PUM3\", \"MEP1B\", \"LINC02298\", \"BCRP2\", \"BCRP2\", \"SLC13A3\", \"HTR7P1\", \"KTN1\", \"RRAGB\", \"SPOPL-DT\", \"LINC02918\", \"LINC01341\", \"LOC100128059\", \"RPS3\", \"JMJD1C\", \"UBE2V2\", \"ADPRHL1\", \"TMEM14A\", \"KLHL11\", \"NOL4L-DT\", \"FDX1\", \"TIMP3\", \"SLC35F1\", \"MSH3\", \"TXNDC9\", \"LINC02218\", \"PIK3C2B\", \"KCNJ6\", \"CTBP1-DT\", \"CRTC3-AS1\", \"KDM4D\", \"MIR4324\", \"BBS7\", \"ZNF292\", \"CTSV\", \"LEFTY2\", \"FRG1\", \"CBX3P2\", \"ARGLU1\", \"CDHR3\", \"CNTN4-AS1\", \"WASHC3\", \"RBM15-AS1\", \"NOS3\", \"SYCE3\", \"SEC14L1P1\", \"KCNRG\", \"BRIX1\", \"BIRC3\", \"SNHG14\", \"SLC4A8-AS1\", \"HKDC1\", \"CENPC\", \"LARGE-AS1\", \"GPR61\", \"GLMN\", \"PTOV1-AS1\", \"DTX4\", \"FAM72A\", \"TMEM64\", \"S100A8\", \"LOC107985688\", \"CMTM2\", \"PPP2R3A\", \"METAP2\", \"SNX25\", \"LINC02361\", \"NMD3\", \"ELK4\", \"ABHD13\", \"ARSL\", \"LARP1B\", \"ZNF430\", \"C12orf56\", \"SUCO\", \"MYCN\", \"MSX1\", \"SMAD9\", \"NEK1\", \"GIPC3\", \"SH3GL1P2\", \"ZNF35\", \"H4C8\", \"SNORA28\", \"FCRL1\", \"TRBV21-1\", \"APIP\", \"ZFP30\", \"ZNF573\", \"FAM104B\", \"GZMA\", \"PFDN2\", \"MBNL2\", \"PNOC\", \"UBAC2-AS1\", \"OR11H7\", \"PRB3\", \"VBP1\", \"MYNN\", \"BBS10\", \"TMEM249\", \"SECISBP2L\", \"SENP7\", \"CARNMT1\", \"AIMP1\", \"CXCL6\", \"IFT81\", \"ABCB4\", \"EIF1AX-AS1\", \"LINC01003\", \"MTR\", \"AHI1\", \"PI4K2B\", \"ASNSD1\", \"DIPK1A\", \"DYNLT3\", \"ETS1\", \"ATP1B2\", \"CLNS1A\", \"C4orf19\", \"BET1-AS1\", \"TRAM2-AS1\", \"CDC37L1\", \"DLGAP1\", \"LIPT2\", \"ZFAND2A\", \"EEF1A1\", \"TBC1D4\", \"LINC01569\", \"ZNF880\", \"DEPDC4\", \"HCG11\", \"H2AC11\", \"MTIF3\", \"ZNF737\", \"ZNF571\", \"AKAP5\", \"IGF2\", \"UNC13C\", \"ZNF572\", \"LOC729732\", \"TRPM1\", \"ZFP14\", \"IGHV3-30\", \"SLC18B1\", \"AGPAT5\", \"DMAC1\", \"TRAV38-1\", \"RPGRIP1L\", \"LINC01891\", \"SYT6\", \"GPR156\", \"TRIAP1\", \"LINC01550\", \"RBFOX3\", \"ZSCAN5A\", \"ZNF69\", \"PLS1\", \"TMA7\", \"ATG5\", \"COX17\", \"FGD5\", \"MSANTD2-AS1\", \"ERO1B\", \"IGFBP2\", \"SLIT3\", \"GLB1L3\", \"TRPA1\", \"WDR86-AS1\", \"DEGS2\", \"SLC26A2\", \"EFCAB11\", \"LAMA3\", \"RTKN\", \"TSC22D2\", \"CYP2R1\", \"SCARNA6\", \"APOLD1\", \"E2F5\", \"ZNF280D\", \"KITLG\", \"PRH1-TAS2R14\", \"TAS2R14\", \"GVINP1\", \"C2CD5\", \"TMEM178B\", \"MYO7B\", \"COA6-AS1\", \"TRAV8-2\", \"SLC47A1\", \"SNORD62B\", \"OGDHL\", \"LINC00567\", \"FAU\", \"MTLN\", \"LRRTM2\", \"RIC3\", \"TAFA2\", \"MGARP\", \"GGN\", \"EID2B\", \"SBF2-AS1\", \"LUNAR1\", \"RPSAP9\", \"ZNF546\", \"NEFL\", \"MAGEH1\", \"HELZ-AS1\", \"GLT8D2\", \"LINC02193\", \"SC5D\", \"GTF2F2\", \"OTUD1\", \"ALOX12P2\", \"ALOX12P2\", \"BATF3\", \"USP6NL\", \"LINC00526\", \"KCNS1\", \"ANKRA2\", \"MAD2L1\", \"SLC18A2\", \"NOPCHAP1\", \"SDHAF4\", \"CENPK\", \"WHRN\", \"H1-2\", \"ZNF568\", \"LCORL\", \"LINC00880\", \"GEMIN6\", \"ZFP36L2\", \"SEMA5A\", \"MIR210HG\", \"SMG1P5\", \"SMG1P5\", \"ZNF420\", \"NR4A3\", \"LMNA\", \"SDAD1P1\", \"MPPED1\", \"P2RX5\", \"KAT6B\", \"ZBTB1\", \"STK26\", \"SAMD11\", \"SSPN\", \"LOC102724023\", \"PPM1L\", \"NEGR1\", \"TRBV2\", \"UBL7-DT\", \"MAPK8\", \"LEMD3\", \"NFU1\", \"CCDC50\", \"KLHL34\", \"C17orf100\", \"LINC02132\", \"BLNK\", \"GNL3\", \"CCDC15\", \"ARL14EP\", \"MYO3B\", \"CNST\", \"CERKL\", \"PPFIBP2\", \"SPRY2\", \"PEX12\", \"TDH\", \"HIPK2\", \"SDAD1-AS1\", \"CTF1\", \"SLC25A52\", \"CCDC62\", \"IRAIN\", \"C3orf33\", \"GAU1\", \"SETBP1\", \"EPB41L4A-AS1\", \"VN1R1\", \"FBXO32\", \"FBXO15\", \"LDB2\", \"ALG1L2\", \"NR3C2\", \"H2BC11\", \"PLAAT1\", \"TAS2R20\", \"DBX1\", \"ERH\", \"RPL13A\", \"GON7\", \"ZNF14\", \"FAM53A\", \"SNORD99\", \"LETM2\", \"CCR10\", \"SRP54-AS1\", \"INSIG2\", \"MRGPRX2\", \"IGHV1-45\", \"ZNF233\", \"FAM76B\", \"HAPLN2\", \"GOLT1A\", \"ZIK1\", \"MYADM\", \"HMGB1\", \"PRKCG\", \"CD79B\", \"ZPBP2\", \"CFAP210\", \"SLC9A7\", \"STRC\", \"DST\", \"PDZK1\", \"SMCR5\", \"REV3L\", \"MAP1A\", \"IGLC4\", \"DNMT3B\", \"MYO16-AS1\", \"F2RL2\", \"ZNF383\", \"EBF4\", \"HLTF\", \"ZNF738\", \"VIT\", \"CHL1\", \"ALG10B\", \"FKBP10\", \"PKN2\", \"ADAMTS6\", \"SEPTIN7-DT\", \"CCDC183\", \"BCL2A1\", \"TTC34\", \"LDHB\", \"SLC22A14\", \"FSD1L\", \"SERPINF1\", \"ZNF551\", \"LOC101927855\", \"ITGAV\", \"PSD3\", \"PKIG\", \"SMIM20\", \"JAKMIP2\", \"PRRG4\", \"B2M\", \"GARNL3\", \"WBP4\", \"ZNF146\", \"ZNF571-AS1\", \"LINC02910\", \"HDAC9\", \"MYOZ3\", \"PTGS2\", \"H2BC9\", \"CPEB3\", \"TRIM23\", \"MIR6769A\", \"TBX10\", \"SHLD2\", \"LINC01364\", \"FAM183BP\", \"RHOB\", \"PMS1\", \"XCR1\", \"NKAPL\", \"KCNC1\", \"PLPP5\", \"GSTCD\", \"SFTPB\", \"MFGE8\", \"PAQR8\", \"SSTR3\", \"ADGRB2\", \"ARMCX5-GPRASP2\", \"ARMCX5-GPRASP2\", \"HIGD1A\", \"HCG23\", \"TSBP1-AS1\", \"EFCAB14-AS1\", \"H3-5\", \"B3GNT7\", \"LINC02926\", \"C1orf54\", \"MALINC1\", \"RBM26\", \"PIN1-DT\", \"C21orf62-AS1\", \"PPP1R17\", \"PTGES\", \"RPF2\", \"LARGE2\", \"SPRED3\", \"EPDR1\", \"B4GALT4\", \"CFL1P1\", \"CFL1P1\", \"FA2H\", \"LINC00941\", \"BANK1\", \"THRB\", \"RASGRF2-AS1\", \"CCR7\", \"POLR3GL\", \"PLCE1\", \"CAAP1\", \"CHRNA5\", \"ZNF230-DT\", \"NSMCE2\", \"IMPG2\", \"LOC283683\", \"STX2\", \"APBA2\", \"AGAP14P\", \"SNHG26\", \"URB1-AS1\", \"MAP2K4P1\", \"MAILR\", \"PPFIBP1\", \"RPSA\", \"FAM133CP\", \"TRNP\", \"RASAL1\", \"KBTBD11-OT1\", \"TBC1D3F\", \"SRP9\", \"LCLAT1\", \"ZNF823\", \"SH2D6\", \"YES1\", \"BOC\", \"HSF2BP\", \"AMBN\", \"GOLGA4\", \"TPRG1\", \"NUP35\", \"TINAGL1\", \"PRICKLE2\", \"MAPK8IP1\", \"L3MBTL3\", \"LRFN2\", \"RBIS\", \"PRKCE\", \"SLC22A16\", \"LINC02860\", \"TIMM23B\", \"SOX4\", \"FAM9C\", \"FILIP1L\", \"ZNF624\", \"AFF2\", \"MCPH1-AS1\", \"VANGL2\", \"FRG1CP\", \"ARLNC1\", \"PRPF39\", \"ZFP62\", \"RNF32\", \"TRIM2\", \"KRT36\", \"CAGE1\", \"ATG4C\", \"C18orf54\", \"TBC1D8B\", \"FAM3C\", \"HAVCR1\", \"ZNF443\", \"RPL23AP7\", \"HLA-DOA\", \"METTL5\", \"MIR4653\", \"STX1B\", \"RFPL2\", \"LINC02594\", \"LOC101927018\", \"MAN1C1\", \"SAP30-DT\", \"MCF2L\", \"ITGA6\", \"SS18L2\", \"LINC00534\", \"ZNF680\", \"AMN\", \"FOXRED2\", \"OR2H2\", \"LINC02766\", \"LINC01119\", \"ARC\", \"TCF4\", \"NIBAN3\", \"HSFX1\", \"GMDS-DT\", \"ZNF283\", \"PIR\", \"LINC02447\", \"NAP1L3\", \"AGA-DT\", \"LEF1\", \"CHMP5\", \"RAB3C\", \"FAM242C\", \"MUC20\", \"FOXN3-AS1\", \"AMDHD1\", \"GPR19\", \"EML4-AS1\", \"MATN1-AS1\", \"LINC02202\", \"PCMTD2\", \"NET1\", \"RBAK\", \"MIR4740\", \"CAMK2N2\", \"IGKV3D-7\", \"SNORD101\", \"MIR647\", \"OR2B6\", \"PLCH1\", \"MIR3671\", \"FXYD4\", \"TET1\", \"RPS13\", \"DCUN1D5\", \"TP53AIP1\", \"HNF1B\", \"PHYHD1\", \"CATSPER4\", \"CASR\", \"TAF7\", \"LINC02958\", \"RIOK2\", \"DNAH8\", \"CDK17\", \"CRACDL\", \"ATCAY\", \"MRFAP1L1\", \"SSB\", \"UNC5C\", \"LINC02455\", \"CD52\", \"ADAMTS8\", \"ZNF91\", \"ALG14\", \"CRAT37\", \"NUDCD2\", \"RXFP2\", \"NIPAL4\", \"LOC102723604\", \"SORD2P\", \"SORD2P\", \"ZNF540\", \"LOC283038\", \"FGF8\", \"INSYN2A\", \"TYW3\", \"NDUFA6\", \"DCLK2\", \"IGLV4-3\", \"LOC100996583\", \"MIR6832\", \"THNSL1\", \"ANKEF1\", \"RASGRF1\", \"MAN1B1-DT\", \"CCR8\", \"ADAMTS16\", \"CELSR1\", \"LINC00865\", \"PBDC1\", \"SVEP1\", \"SNHG6\", \"NPIPB15\", \"PRDM16\", \"ANKUB1\", \"ANKRD49\", \"PDCD10\", \"MAGOH2P\", \"CALN1\", \"CEMIP\", \"TWIST1\", \"EPHA1-AS1\", \"FOXO6\", \"GLTPD2\", \"MIR661\", \"KLHL3\", \"SYNM\", \"GTSF1L\", \"HGD\", \"ANXA2R\", \"CRPPA\", \"BAG3\", \"PCDHGA9\", \"IL20RB\", \"WDR89\", \"IGHV3-11\", \"THAP2\", \"GPR143\", \"EFCC1\", \"PDP1\", \"DEPTOR\", \"CCNG2\", \"SLC16A7\", \"PKP2\", \"KCNJ9\", \"MIER3\", \"INHBE\", \"ST8SIA5\", \"ETV1\", \"BRMS1L\", \"LINC01285\", \"RAB7B\", \"NADK2-AS1\", \"ATP6V1G1\", \"LOC101929698\", \"HSP90B2P\", \"MIR185\", \"TMCO1\", \"HMGB2\", \"OXR1-AS1\", \"MOG\", \"KLF12\", \"LOC101928371\", \"PCMTD1-DT\", \"TTN\", \"N6AMT1\", \"COMMD3\", \"ZNF205\", \"RRP15\", \"MIR548Q\", \"GIN1\", \"GPR176\", \"TCEA3\", \"LINC02328\", \"RALGPS2-AS1\", \"C14orf28\", \"OAZ3\", \"ZNF652-AS1\", \"KCTD19\", \"TRMT10A\", \"PDC\", \"GAL3ST3\", \"LRIT2\", \"NUP93-DT\", \"MRPL36\", \"L3MBTL4-AS1\", \"GFPT2\", \"GPRASP2\", \"LINC02356\", \"NPIPA1\", \"HLX-AS1\", \"PDIK1L\", \"TRBV30\", \"TUNAR\", \"KCNC4-DT\", \"UNC13A\", \"CD83\", \"PIK3IP1-DT\", \"ZNF461\", \"SPTBN4\", \"PSMA8\", \"SLC25A41\", \"MOCS2\", \"CCL25\", \"PRSS57\", \"TSC22D3\", \"LINC02576\", \"CEP85L\", \"TAFA1\", \"ARMCX2\", \"MPHOSPH10P1\", \"MPHOSPH10P1\", \"KCNIP2\", \"IGLV2-18\", \"DIP2C\", \"LOC112268073\", \"ZBTB41\", \"AIF1L\", \"ZNF177\", \"KBTBD3\", \"MBLAC2\", \"PPIAL4G\", \"SPAG16\", \"CA13\", \"HOXA-AS3\", \"IMPA1P1\", \"TRBV12-4\", \"ACTR3-AS1\", \"LZTFL1\", \"TAMALIN\", \"PHTF2\", \"PEX3\", \"TRDV2\", \"TXK\", \"SLC22A31\", \"OTOA\", \"AGBL2\", \"NSG1\", \"NUTM2B\", \"MAGOH\", \"SLC34A1\", \"LINC01395\", \"RAB15\", \"SERTAD2\", \"SCN4A\", \"AGL\", \"EPHX2\", \"LINC01675\", \"TAF12-DT\", \"FLT3\", \"SMIM13\", \"MRPL39\", \"SGSM3-AS1\", \"FAP\", \"TAS1R1\", \"CSRP2\", \"CERCAM\", \"DPY19L2P3\", \"DPY19L2P3\", \"CCDC59\", \"LOC101929538\", \"GOLGA8N\", \"GOLGA2P7\", \"GOLGA2P7\", \"PACC1\", \"ZNF256\", \"IKZF2\", \"FOXN3-AS2\", \"IGHV3-49\", \"SEZ6L\", \"PTS\", \"TRAV33\", \"RSPO4\", \"JMJD7\", \"ECT2L\", \"ZMIZ1-AS1\", \"CPEB1\", \"XRCC2\", \"GPR183\", \"IGHV3-62\", \"CCDC187\", \"ZNF253\", \"DNAJB4\", \"ADPRM\", \"DCXR-DT\", \"KCNQ3\", \"HIP1\", \"CWC15\", \"COL4A1\", \"ZNF391\", \"DYTN\", \"KCNJ10\", \"NDFIP2\", \"LINC00824\", \"SNORD63\", \"RANBP6\", \"RPL12\", \"LXN\", \"MRPS28\", \"CNFN\", \"KREMEN2\", \"ADAMTS4\", \"POLR3G\", \"ZNF502\", \"CEP290\", \"FKBP14-AS1\", \"LY6E-DT\", \"CD200R1L\", \"RBFADN\", \"LINC01337\", \"COL28A1\", \"SOX12\", \"LHFPL1\", \"RNF217-AS1\", \"NDUFB1\", \"CLDN6\", \"KY\", \"SACS\", \"CLK1\", \"DYNLT2\", \"ANKRD36\", \"EREG\", \"KLF8\", \"PGBD4\", \"RPH3AL-AS1\", \"EMC2\", \"ZNF607\", \"RAD21L1\", \"ZDBF2\", \"TRAT1\", \"SLC2A1-DT\", \"OR52B6\", \"PRECSIT\", \"EXO5-DT\", \"HDX\", \"MIR33B\", \"RPL3L\", \"PRDM16-DT\", \"ZNF542P\", \"ZNF542P\", \"TXN\", \"SYCE1L\", \"LINC00462\", \"GSTA4\", \"SNRPD1\", \"RPL27A\", \"NXNL2\", \"KLHL14\", \"CFL2\", \"SARNP\", \"LINC02043\", \"NOP58\", \"ZNF585A\", \"TRAF3IP2-AS1\", \"SNAPC1\", \"ZNF22\", \"LOC100128310\", \"FLJ42393\", \"ZNF460\", \"TRMT11\", \"TUBE1\", \"IGFBP3\", \"RBX1\", \"OCIAD2\", \"HIPK4\", \"PRC1-AS1\", \"CNNM1\", \"THBD\", \"CHIC1\", \"JAZF1-AS1\", \"ZNF181\", \"STON2\", \"CXCL3\", \"CFAP46\", \"ZSCAN18\", \"ZNF22-AS1\", \"WNT10A\", \"TIGD2\", \"TMEM176A\", \"SIRT1\", \"SH3BGR\", \"DNAJC25\", \"MIR589\", \"ARHGAP39\", \"SH3D19\", \"RNGTT\", \"UBE2T\", \"SIM2\", \"ZBTB10\", \"E2F3-IT1\", \"CELF4\", \"SNORD70\", \"GLYATL1B\", \"KIR2DL1\", \"KCNJ12\", \"RPS18P9\", \"ZNF487\", \"PMEPA1\", \"SYCE1\", \"XCL2\", \"SETMAR\", \"VRK1\", \"MIR7851\", \"SPART-AS1\", \"PNMA2\", \"DTX1\", \"MEX3A\", \"CYP4B1\", \"TUSC3\", \"NPAS1\", \"CEACAM16-AS1\", \"MRPL40\", \"MIR4441\", \"MTERF1\", \"PKDCC\", \"DTWD2\", \"FAM193B-DT\", \"LRP6\", \"LINC02422\", \"LOC105369725\", \"IFNE\", \"OXA1L-DT\", \"ZNF418\", \"RPL10A\", \"KCNMB3\", \"GPR45\", \"ARHGAP32\", \"STX18-AS1\", \"IGHV3-7\", \"ATP5F1E\", \"PRICKLE1\", \"LOC105371899\", \"YY2\", \"PRR16\", \"ABHD10\", \"SNORD104\", \"KBTBD6\", \"MCHR1\", \"KIF24\", \"LINC01659\", \"SERPINI1\", \"CIB2\", \"LSM8\", \"ZFP2\", \"GRIA3\", \"ZNF138\", \"IFT22\", \"IGHVIII-38-1\", \"A1CF\", \"H4C5\", \"LINC00652\", \"LRRC17\", \"FANCM\", \"THBS2\", \"FOXH1\", \"KIF20B\", \"BOLA2B\", \"FAM171A1\", \"DDX39B-AS1\", \"C17orf50\", \"MAP4K3-DT\", \"GRK1\", \"ZNF451-AS1\", \"GDF10\", \"NUCB2\", \"MRPL32\", \"RETREG1-AS1\", \"OXSM\", \"LRP2BP\", \"CNTF\", \"GABRE\", \"TLR3\", \"CLK4\", \"GPR62\", \"TRAJ31\", \"CORO2B\", \"SLC12A2\", \"SPACA9\", \"LINC01229\", \"LOC115308161\", \"LINC01635\", \"TAS2R30\", \"PANK1\", \"MTHFD2L\", \"NOX1\", \"CDNF\", \"MIR151B\", \"MALT1-AS1\", \"TMEM17\", \"PEG13\", \"A2ML1\", \"SLX1B\", \"GRAMD2B\", \"FOXO6-AS1\", \"DENND2B\", \"IGHM\", \"DNAJC28\", \"LINC00997\", \"MAGEE1\", \"FTCD\", \"IGHV1-69-2\", \"RCN2\", \"TXNDC17\", \"IGLC6\", \"CAMTA1-DT\", \"CYTL1\", \"C12orf42\", \"TSPAN2\", \"ID3\", \"ANGPTL7\", \"ZNF19\", \"VAV3-AS1\", \"ENKUR\", \"ZFHX2\", \"LOC283194\", \"PARD6B\", \"SRP14\", \"TMEM267\", \"LINC01586\", \"C11orf65\", \"ZNF569\", \"KRCC1\", \"CDCA7L\", \"IGKV1D-8\", \"NR4A2\", \"RPL36AL\", \"BEX3\", \"GAS8-AS1\", \"NOTCH2NLA\", \"MYBL2\", \"PAGE2B\", \"CRYBB1\", \"GPR180\", \"MIRLET7G\", \"ATP2B1-AS1\", \"SLC35A1\", \"CD79A\", \"ELOVL2\", \"LAMC1\", \"TP73-AS3\", \"LOC100506321\", \"LOC101928438\", \"GRHL3\", \"PAGE5\", \"SEC11C\", \"IL12A\", \"CPA6\", \"LINC00707\", \"CCDC106\", \"TPRKB\", \"LOC105373951\", \"LRRC8C-DT\", \"LINC02943\", \"ZNF497-AS1\", \"SEC1P\", \"MIR4422HG\", \"PCDHGA10\", \"ZNF92\", \"ZC3H15\", \"DUSP5-DT\", \"BORCS8-MEF2B\", \"BORCS8-MEF2B\", \"CCN1\", \"ATP5PF\", \"ZDHHC23\", \"B4GALNT1\", \"NMU\", \"MMP27\", \"ZNF723\", \"CLEC3B\", \"ADAM29\", \"OSBPL10\", \"RADX\", \"LINC02249\", \"KIAA1671-AS1\", \"FERMT2\", \"PRAG1\", \"DOC2GP\", \"CHAC2\", \"BRWD1-AS2\", \"C12orf54\", \"FAM133A\", \"LIMD1-AS1\", \"CACNA1H\", \"LOC574538\", \"ENAH\", \"FOXO1\", \"YEATS4\", \"CCDC28A-AS1\", \"LINC01398\", \"CKMT2-AS1\", \"MAP4K3\", \"KCNH8\", \"CPXM1\", \"SVIP\", \"RPS6KA2-AS1\", \"IGHV3-53\", \"LGALS9C\", \"AR\", \"DLGAP2\", \"LOC100288208\", \"ALDH7A1\", \"JADE3\", \"MIR6851\", \"ZNF682\", \"CHRFAM7A\", \"LINC01535\", \"ZNF708\", \"HSPA7\", \"MPP2\", \"KLC2-AS2\", \"C12orf60\", \"CDH4\", \"OBSL1\", \"KLHDC1\", \"LINC02161\", \"MRPS21\", \"MGAT4C\", \"MIR302A\", \"ULK4\", \"SNORD17\", \"LARS2-AS1\", \"EML5\", \"PDE3B\", \"AVP\", \"IMMP2L\", \"TRO\", \"OBI1\", \"NUDT12\", \"ZC2HC1A\", \"ZBTB44-DT\", \"UFL1-AS1\", \"FAM66B\", \"IRS2\", \"WFDC3\", \"PKD2L1\", \"CEP57L1\", \"FOSB\", \"OXT\", \"MIR99AHG\", \"LINC02334\", \"COL4A5\", \"RWDD3\", \"TSHZ2\", \"GMCL2\", \"SLC9A9-AS1\", \"ZNF658B\", \"FBXO34-AS1\", \"RORB\", \"ZFP69\", \"LINC01342\", \"ARL13B\", \"SPDL1\", \"DDX11L2\", \"LINC02816\", \"ZNF563\", \"MAGI2-AS3\", \"TIE1\", \"CASP1P2\", \"HSP90AA1\", \"CXXC5-AS1\", \"ITLN1\", \"RNF222\", \"POC1B-GALNT4\", \"CTCFL\", \"EGFEM1P\", \"ZNF23\", \"FAM135A\", \"L1TD1\", \"SDK2\", \"CP\", \"SUGT1-DT\", \"AIRN\", \"RRAD\", \"LINC02345\", \"FAM184A\", \"MRGPRE\", \"IGHD7-27\", \"ZDHHC21\", \"MIR6761\", \"LVRN\", \"FADS2\", \"IZUMO1\", \"RETREG1\", \"LINC02404\", \"LINC01845\", \"MRPL48\", \"RAB30\", \"HTR3A\", \"CFAP54\", \"MNX1\", \"SNORA24B\", \"DPPA4\", \"SNORA3C\", \"FAAH2\", \"LINC02617\", \"MGAT3-AS1\", \"DUSP21\", \"LINC01335\", \"PRSS42P\", \"ENO4\", \"SLC8A1-AS1\", \"SPAG6\", \"TBX3\", \"LGALS14\", \"SH3TC2-DT\", \"ALDH1L1\", \"LINC01068\", \"WDR38\", \"STRA6\", \"IFNA21\", \"CYP24A1\", \"ZNF385B\", \"ZBED3-AS1\", \"GSG1\", \"LOC100652999\", \"LINC00582\", \"LMCD1-AS1\", \"LOC101927394\", \"OR3A3\", \"TSKS\", \"SPIC\", \"OACYLP\", \"IGLV7-35\", \"LINC01004\", \"FCRLA\", \"AS3MT\", \"SSBP2\", \"AHNAK2\", \"MFFP2\", \"RBM12B-DT\", \"ZNF501\", \"IGLV2-5\", \"TAAR1\", \"TM4SF20\", \"GZMB\", \"ARL6\", \"ZDHHC1\", \"ADAMTS10\", \"TIGD4\", \"LOC645485\", \"KBTBD8\", \"KLF9\", \"CHRNA6\", \"OXCT2P1\", \"AMBP\", \"IGF2BP1\", \"MIR1972-2\", \"LINC02655\", \"TRAJ59\", \"CFTR\", \"LINC01460\", \"SPINK2\", \"SNORD91A\", \"ENAM\", \"ZNF670-ZNF695\", \"TCEAL8\", \"RPL13AP5\", \"PTGER1\", \"LOC105369728\", \"C20orf203\", \"ADGRA3\", \"MS4A1\", \"EPN2-AS1\", \"LINC00663\", \"ZNF204P\", \"SCARA5\", \"LINC02037\", \"NRON\", \"SSTR5-AS1\", \"DEFB124\", \"MB\", \"NANOS2\", \"TPRXL\", \"MIR1207\", \"SLC17A2\", \"GHR\", \"DAB1-AS1\", \"LINC02547\", \"CLPS\", \"POM121L1P\", \"NRXN2-AS1\", \"SNORA70D\", \"SOWAHA\", \"LINC01768\", \"DEFA6\", \"OR1B1\", \"SULT1C2\", \"TEX44\", \"LINC01975\", \"MIR6810\", \"ANKRD26P3\", \"ACTE1P\", \"HAS2\", \"WFDC10B\", \"OR4E1\", \"PDYN\", \"LINC00628\", \"LARP4B-DT\", \"FGF12\", \"MIR576\", \"MIR3143\", \"ACSM6\", \"IL31\", \"VCX3B\", \"CCL21\", \"LL22NC01-81G9.3\", \"MIR3667\", \"ARL14\", \"FAM163A\", \"KRT87P\", \"ACSM2B\", \"IGHV3-75\", \"RAET1G\", \"C13orf42\", \"MIR1273C\", \"CCDC140\", \"PPBPP2\", \"PPBPP2\", \"LMX1B\", \"RNVU1-2A\", \"MIR548AK\", \"ASB11\", \"SNORD116-26\", \"MIR124-1HG\", \"MIR3181\", \"SLC36A2\", \"LAMA1\", \"MIR4633\", \"NDUFAF4P1\", \"SHISA9\", \"HTR1D\", \"KIAA1549L\", \"TCF15\", \"GDF6\", \"CACNA1G-AS1\", \"MIR1296\", \"LOC105369391\", \"LINC01509\", \"EQTN\", \"SPEM2\", \"POU3F3\", \"MIR3978\", \"MIR6728\", \"MGC32805\", \"DUXAP9\", \"CDH6\", \"TBX2\", \"GHRH\", \"SMOC2\", \"NPIPA3\", \"SNORD66\", \"DYRK3-AS1\", \"TRBV26OR9-2\", \"LINC01865\", \"PCDHA10\", \"LOC101928626\", \"HSPB7\", \"ELN-AS1\", \"ABCA8\", \"HAO1\", \"HRCT1\", \"MIR3153\", \"LINC02898\", \"RTL9\", \"SNORD56B\", \"SNORD90\", \"PCDHGB1\", \"GGTLC3\", \"PAGE1\", \"MIR31HG\", \"SNORA70F\", \"PCDHGA4\", \"AHI1-DT\", \"PDE4DIPP5\", \"LINC02347\", \"STARD6\", \"ARX\", \"MMP7\", \"NXPE4\", \"MIR4449\", \"EFCAB6-AS1\", \"AADACL2\", \"OR5B12\", \"DPY19L2P4\", \"DPY19L2P4\", \"MEIKIN\", \"DYNC1LI2-DT\", \"FAM222A-AS1\", \"KCNG4\", \"LINC00964\", \"GLUD1P2\", \"GLUD1P2\", \"CHIA\", \"AKAP17BP\", \"LINC01166\", \"NGFR-AS1\", \"ASB10\", \"SNORA49\", \"VN1R5\", \"IGFBP7-AS1\", \"KCNE4\", \"WDR72\", \"CCDC63\", \"PRKG1-AS1\", \"H4C13\", \"SFTPA1\", \"MIR5582\", \"LINC02313\", \"LOC101929470\", \"ADH4\", \"KRT78\", \"ADAMTS3\", \"OR2B8P\", \"MIR708\", \"FCAMR\", \"DPYSL5\", \"LINC01567\", \"ERC2-IT1\", \"MIR4316\", \"CDC42EP5\", \"FOXD4L3\", \"MIR298\", \"WWC2-AS1\", \"ERCC8-AS1\", \"FMO6P\", \"CHL1-AS2\", \"CFAP221\", \"LOC101927040\", \"GABRQ\", \"MUC5AC\", \"TRAV37\", \"MIR181C\", \"LINC00566\", \"PHEX-AS1\", \"TBC1D3K\", \"TRBVA\", \"LINC02805\", \"MIR3140\", \"MIR3200\", \"MIR3137\", \"MIR4261\", \"MIR3648-1\", \"SYNE1-AS1\", \"LOC100505782\", \"ELOVL2-AS1\", \"LINC01532\", \"SOX1-OT\", \"ADCY6-DT\", \"LINC02091\", \"LINC02398\", \"MIR2278\", \"DSCAM-AS1\", \"LIFR-AS1\", \"MIR548S\", \"LINC00994\", \"OTX2-AS1\", \"LOC100129434\", \"GSTA7P\", \"SNORD116-14\", \"SNORD116-27\", \"LIN28B-AS1\", \"MIR941-4\", \"MIR365A\", \"PLCE1-AS1\", \"TCF24\", \"MIR1202\", \"LINC01502\", \"TAT-AS1\", \"LOC100287792\", \"LUARIS\", \"LINC01848\", \"MIR1289-1\", \"MIR1277\", \"LINC02475\", \"LINC00837\", \"LINC02408\", \"SMLR1\", \"MIR5590\", \"MIR5192\", \"MYLK-AS2\", \"LMLN-AS1\", \"FGF12-AS2\", \"WDFY3-AS1\", \"NLGN4Y-AS1\", \"PCDH9-AS3\", \"PCDH9-AS4\", \"LINC00434\", \"LINC00443\", \"LINC00424\", \"PLCB1-IT1\", \"ARHGEF9-IT1\", \"CACNA1C-IT3\", \"SMIM2-IT1\", \"NALCN-AS1\", \"MIR5694\", \"MIR5092\", \"MIR5007\", \"MIR4437\", \"LINC02539\", \"HSD52\", \"LINC02554\", \"ARL2-SNX15\", \"MIR4483\", \"MIR4739\", \"MIR4525\", \"MIR4454\", \"FAM47E-STBD1\", \"MIR4701\", \"MIR3977\", \"MIR4674\", \"MIR4499\", \"MIR4478\", \"MIR4693\", \"MIR4435-1\", \"GOLGA2P6\", \"HNRNPA1P33\", \"KRT16P1\", \"SFTPA2\", \"RGS7BP\", \"TMEM215\", \"SERTM2\", \"FAM224B\", \"MIR130A\", \"MIR147A\", \"MIR153-1\", \"MIR16-2\", \"MIR28\", \"MIR30E\", \"MIR7-3\", \"FER1L6-AS1\", \"CELF2-AS2\", \"DNM1P41\", \"CLEC4GP1\", \"GOLGA2P9\", \"GOLGA2P9\", \"LOC441179\", \"FOXL2NB\", \"C3orf85\", \"DEFB132\", \"OR2L3\", \"SEC22B3P\", \"ASNSP1\", \"ASNSP1\", \"MYMK\", \"OR52H1\", \"OR6C76\", \"UOX\", \"OR11L1\", \"SULT6B1\", \"LRRC52-AS1\", \"VENTXP7\", \"USP17L7\", \"OR13C2\", \"LETR1\", \"LINC01443\", \"LOC400748\", \"C1orf141\", \"AQP7P3\", \"SPANXN4\", \"PTCHD4\", \"MIR620\", \"LGALS7B\", \"SNORA36A\", \"MIR411\", \"MIR567\", \"MIR572\", \"MIR596\", \"MIR617\", \"MIR623\", \"GMNC\", \"MIR629\", \"MIR634\", \"DEFA11P\", \"AGBL1-AS1\", \"NXF2B\", \"SPANXB1\", \"SLC15A5\", \"PNMA6E\", \"PRSS56\", \"FRG2\", \"C11orf97\", \"DPRX\", \"PCOTH\", \"MIR450A1\", \"MIR491\", \"LINC00051\", \"SLC7A11-AS1\", \"MIR4500HG\", \"SPDYE9\", \"LINC02618\", \"NKX2-4\", \"MNX1-AS1\", \"SNRPD2P2\", \"PRAMEF20\", \"SLC35G4\", \"LINC02223\", \"FABP9\", \"MLF1-DT\", \"LOC105369165\", \"NFIA-AS2\", \"LINC01436\", \"LOC105372832\", \"LINC02559\", \"SYN3-AS1\", \"LINC02815\", \"LOC105373390\", \"CAVIN2-AS1\", \"LINC02046\", \"LOC105374312\", \"LINC02517\", \"LOC105374428\", \"LINC01946\", \"LINC01955\", \"VOPP1-DT\", \"DDX3ILA1\", \"LOC105375387\", \"LINC02476\", \"MNX1-AS2\", \"KCNQ2-AS1\", \"LOC105372348\", \"LINC01855\", \"LINC02205\", \"LINC02821\", \"LINC02392\", \"LINC02376\", \"LINC02419\", \"LINC02281\", \"LINC02296\", \"LINC02250\", \"LINC02351\", \"NFILZ\", \"PCSK6-AS1\", \"LOC105371200\", \"FAM78B-AS1\", \"GS1-204I12.4\", \"ST8SIA5-DT\", \"IYD\", \"LOC105372155\", \"LINC02839\", \"LMX1B-DT\", \"LINC02645\", \"MFSD4B-DT\", \"LINC02730\", \"LINC02457\", \"LOC107984685\", \"DHCR24-DT\", \"LINC01735\", \"LINC02512\", \"LINC02473\", \"SNORA48B\", \"USP6NL-AS1\", \"MIR4713HG\", \"LY6G6F-LY6G6D\", \"ETDC\", \"LOC112267859\", \"TMEM271\", \"SIRLNT\", \"FAM174A-DT\", \"SLC1A2-AS1\", \"BMS1P22\", \"BMS1P22\", \"LOC105376429\", \"FGGY-DT\", \"CFAP20DC-DT\", \"LINC02276\", \"LOC105377559\", \"LINC01932\", \"LINC02621\", \"PRKCZ-DT\", \"LINC01767\", \"LINC01780\", \"LUADT1\", \"LINC02242\", \"SV2C-AS1\", \"LOC105379230\", \"FAM242E\", \"WSPAR\", \"LINC00407\", \"LINC01318\", \"SALRNA2\", \"LINC01090\", \"LINC00375\", \"FAM131B-AS1\", \"LINC02355\", \"FAM230G\", \"LINC01654\", \"TUB-AS1\", \"EPIST\", \"GJD2-DT\", \"LINC02504\", \"MIR325HG\", \"LINC01425\", \"LOC101928475\", \"LINC01492\", \"P4HA3-AS1\", \"LINC02745\", \"ZBTB46-AS1\", \"LINC01209\", \"LOC101928733\", \"LOC101927827\", \"LINC01441\", \"LOC101928748\", \"LINC02583\", \"LINC01356\", \"NPIPA7\", \"NPIPA8\", \"HNRNPCL4\", \"PANDAR\", \"LINC00678\", \"STPG2-AS1\", \"LINC02516\", \"FOXCUT\", \"LINC01580\", \"LINC01989\", \"LINC01475\", \"LINC01831\", \"SMIM36\", \"LOC101927557\", \"DPP10-AS3\", \"PIK3CA-DT\", \"LOC101928782\", \"FOXC2-AS1\", \"LINC02703\", \"LINC02115\", \"LINC01338\", \"LINC02568\", \"HCG21\", \"LHX1-DT\", \"ROCR\", \"LINC01499\", \"LINC01900\", \"MIR6817\", \"UAP1-DT\", \"LIVAR\", \"LOC102724908\", \"LINC02327\", \"LINC02412\", \"ELDR\", \"LINC00383\", \"LINC00603\", \"MIR6809\", \"LINC02489\", \"LINC01653\", \"LOC101929050\", \"LOC101929141\", \"LINC01647\", \"KCNMA1-AS3\", \"PARAL1\", \"LINC02149\", \"LOC101929586\", \"LINC01427\", \"MIR6760\", \"LINC01983\", \"SCIRT\", \"DST-AS1\", \"LOC101930421\", \"LINC00397\", \"MIR6079\", \"MIR6722\", \"FAM180A\", \"APOB\", \"GFRAL\", \"CELA3B\", \"NKX6-1\", \"NMBR\", \"NPY\", \"NPPC\", \"NRAP\", \"ODF1\", \"OPRK1\", \"OPRM1\", \"CNTN3\", \"PAX4\", \"SERPINA5\", \"PDE1A\", \"PGK2\", \"PIN1P1\", \"POU3F4\", \"PSG2\", \"SCNN1G\", \"NKX2-2\", \"NGF\", \"NELL1\", \"GBX2\", \"CYP2A13\", \"DCX\", \"DEFB1\", \"DNAH5\", \"DPT\", \"EGFR\", \"GABRA2\", \"GFRA1\", \"HTR5A\", \"GJA8\", \"LINC02897\", \"H2BC3\", \"HABP2\", \"CFHR1\", \"FOXA1\", \"HNF4A\", \"SLC6A2\", \"SOX11\", \"SPINK1\", \"HOXB13\", \"ZNF536\", \"HHLA1\", \"CLEC3A\", \"SSX3\", \"B3GALT5\", \"TRDN\", \"CACNG3\", \"COLEC10\", \"PAGE4\", \"POSTN\", \"SCGB1D1\", \"FUT9\", \"CFHR3\", \"ACTL7A\", \"SPINK5\", \"RBPJL\", \"SEMA3E\", \"ITGBL1\", \"SRD5A2\", \"PPFIA2\", \"TBX5\", \"NR2F1\", \"TM4SF4\", \"TNNI1\", \"TUBA3C\", \"UMOD\", \"ZP2\", \"SIGLEC5\", \"MMP20\", \"CACNA1G\", \"PHOX2B\", \"CH25H\", \"TM4SF5\", \"DCLK1\", \"LRAT\", \"TAAR3P\", \"TAAR3P\", \"CTRB1\", \"CST4\", \"CRYAA\", \"OFCC1\", \"TBL1Y\", \"RBBP8NL\", \"BVES-AS1\", \"GALNTL5\", \"CDC14C\", \"TENT5D\", \"CTAG1A\", \"ALDH1A2-AS1\", \"ANO1\", \"VSX2\", \"GPR149\", \"CCDC178\", \"VGLL3\", \"MIR191\", \"AKR1B15\", \"OR4M1\", \"SAGE1\", \"ELOA2\", \"MIR518B\", \"NPY5R\", \"ADH1B\", \"AHSG\", \"BHMT\", \"CAMK2A\", \"FMO2\", \"MAGEA10\", \"MAS1\", \"AKR1D1\", \"IGKV2D-14\", \"TRBV24OR9-2\", \"CER1\", \"RIMS1\", \"SPATA31A7\", \"SNORD53\", \"TRAJ10\", \"IGLVI-68\", \"NCRNA00250\", \"MIR505\", \"CRH\", \"CCKAR\", \"AFP\", \"AGTR2\", \"AQP4\", \"ATP12A\", \"BCHE\", \"CAPN6\", \"CAV3\", \"CDH10\", \"ADRA2C\", \"CDH18\", \"CHRM2\", \"CHRNA4\", \"CKMT1B\", \"CNTN1\", \"CPA2\", \"CPN2\", \"AFM\", \"ADCY8\", \"MIR1294\", \"LINC02837\", \"MIR4262\", \"MIR3649\", \"LOC100506271\", \"LINC01968\", \"JRKL-AS1\", \"ALDH1L1-AS1\", \"LINC01049\", \"LINC01363\", \"NAT2\", \"MIR548BA\", \"LINC01317\", \"LINC01320\", \"LINC02210-CRHR1\", \"BEND7-DT\", \"SNORA58B\", \"FAM236C\", \"SULF1\", \"GPR26\", \"OTP\", \"MAGEC3\", \"ZNF676\", \"SLC25A3P1\", \"HTR3C\", \"XAGE5\", \"COX7B2\", \"B3GNT6\", \"KRT24\", \"AMER3\", \"OR4C6\", \"ZNF804B\", \"OR8G5\", \"OPN5\", \"VSTM2A\", \"LCE5A\", \"OR1L4\", \"NUP210P1\", \"ADAM5\", \"ANKFN1\", \"MDGA2\", \"H2BW1\", \"LIPI\", \"ADGRG4\", \"RIMS4\", \"PABPC5\", \"ASB15\", \"FRMPD2\", \"LINC00343\", \"CFAP52\", \"PNPLA5\", \"AWAT2\", \"LINC01931\", \"ZSWIM2\", \"MYADML\", \"SLC66A1L\", \"LOC153910\", \"AGR3\", \"LOC158434\", \"SYT14\", \"DSCR10\", \"IFNL3\", \"LRRC10\", \"NBPF7P\", \"RTP2\", \"CENPVL3\", \"LRRTM1\", \"LINC00442\", \"TRIM29\", \"TOPAZ1\", \"COL18A1-AS1\", \"OR6C2\", \"RNF148\", \"KRTAP10-1\", \"REP15\", \"TMEM179\", \"POTEC\", \"LDLRAD1\", \"FLG2\", \"KRT27\", \"OTOG\", \"OR51B5\", \"OR2Z1\", \"FGF14-IT1\", \"SLC24A5\", \"GOLGA6L2\", \"LOC283731\", \"NTRK3-AS1\", \"LINC00670\", \"FAM27E5\", \"LINC01697\", \"EBLN1\", \"LINC00620\", \"KRT6C\", \"FAM223B\", \"GPIHBP1\", \"CCDC190\", \"PRR30\", \"DCAF12L2\", \"PWWP3B\", \"SELENOV\", \"RALYL\", \"SERTAD4\", \"SLC6A15\", \"TMEM100\", \"NXF4\", \"NXF4\", \"CLVS2\", \"PCDHB6\", \"PCDHA5\", \"TEX13B\", \"VTRNA1-2\", \"KRT20\", \"FSTL5\", \"MEPE\", \"PRDM9\", \"CAMK1G\", \"TMEM35A\", \"PKNOX2\", \"LHX5\", \"UGT1A8\", \"KRT76\", \"PCDH15\", \"IGHVII-15-1\", \"OR1A2\", \"OR10G3\", \"CNTN6\", \"IGHV8-51-1\", \"IGHVII-78-1\", \"IGHVII-26-2\", \"IGHVII-22-1\", \"TRBV8-1\", \"TFDP3\", \"IGLV3-29\", \"IGKV2D-19\", \"IGKV1D-33\", \"IGKV1-22\", \"PLA2G3\", \"NOX4\", \"IGF2-AS\", \"EBF2\", \"PCDHB8\", \"OR52N1\", \"MYOM3\", \"PHF21B\", \"PGLYRP3\", \"LRRC3B\", \"NXPE2\", \"SDR9C7\", \"NRAD1\", \"CALR3\", \"OR2AJ1\", \"CGB7\", \"OCSTAMP\", \"HMGB3P1\", \"FAM83C\", \"VTCN1\", \"LRRC15\", \"RTP1\", \"SPATA4\", \"BIRC8\", \"KLHL40\", \"FOXP2\", \"PROK1\", \"ZBBX\", \"HAND2-AS1\", \"SEL1L2\", \"OR51E2\", \"OR2L5\", \"MYOCD\", \"LINC00208\", \"OR2B2\", \"RETNLB\", \"PTPN5\", \"KRTAP4-5\", \"SLC25A21\", \"ANKRD30A\", \"LIF-AS2\", \"DAPL1\", \"BPIFB1\", \"HIGD1C\", \"P2RY10\", \"HSF2\", \"LOC100996671\", \"MAP1LC3A\", \"ANGPT1\", \"LIPG\", \"ZMYM4-AS1\", \"SNORD121A\", \"CFAP141\", \"SLC7A14\", \"SNTG2\", \"ZNF705EP\", \"WWTR1-AS1\", \"IGHV3-37\", \"LINC01747\", \"NLGN1\", \"ZNF547\", \"FGF17\", \"NAALAD2\", \"CASD1\", \"LINC00926\", \"THOC3-AS1\", \"CMC1\", \"UPK2\", \"IGIP\", \"CDKN2B-AS1\", \"ENPP4\", \"NUP62CL\", \"ZNF8-ERVK3-1\", \"LGSN\", \"PPP3R2\", \"GOLGA6FP\", \"LINC02765\", \"SNORD12B\", \"APLF\", \"LINC02340\", \"HMGN3\", \"LNP1\", \"DNAJC19\", \"LINC00629\", \"SLC30A4\", \"FAM153A\", \"MIR1301\", \"PPIL3\", \"CXorf58\", \"LINC01537\", \"GRK3-AS1\", \"VPREB3\", \"SYDE1\", \"MIR5685\", \"FCGBP\", \"ZNF567\", \"OGN\", \"PRR15L\", \"ZNF112\", \"ZNF626\", \"KIF14\", \"NRSN2-AS1\", \"RALGPS2\", \"FCER2\", \"FAM174A\", \"CRYZ\", \"ZBTB24-DT\", \"LOC105371485\", \"COX7A2\", \"FTCDNL1\", \"MIR17HG\", \"TRAJ7\", \"ZNF570\", \"TCP10L\", \"MAGEB17\", \"SLC19A2\", \"SYT15\", \"LINC02912\", \"AXIN2\", \"AP1AR\", \"LDB3\", \"GLIPR1L1\", \"IGHV3-32\", \"IGHV3-32\", \"IGHV3-29\", \"IGHV3-29\", \"FHIT\", \"SNORD14A\", \"HS3ST3B1\", \"SMARCA1\", \"TNRC18P1\", \"CYP2B6\", \"SNORD67\", \"TEX13D\", \"RASA4DP\", \"RFPL4A\", \"NBPF4\", \"TRGJ2\", \"ZNF684\", \"C21orf91-OT1\", \"PJVK\", \"MIR5587\", \"STAG2-AS1\", \"NGDN\", \"MRTFA-AS1\", \"FAM187B\", \"MIR6077\", \"LIPK\", \"TUBAL3\", \"SHISAL1\", \"MIR6781\", \"H2AC14\", \"STAB2\", \"GJB4\", \"LINC01023\", \"ZNF664-RFLNA\", \"RFLNA\", \"ODF4\", \"CYB5R2\", \"NELL2\", \"LINC01252\", \"FAM30A\", \"LINC02909\", \"NBEA\", \"RGMB\", \"MATN2\", \"MYBL1\", \"MIR6859-3\", \"RPS12\", \"PPIAL4H\", \"MIR1244-2\", \"RPL39L\", \"EIF3E\", \"MIR4296\", \"TMPRSS15\", \"MCF2\", \"WNT8A\", \"APOF\", \"PPP1R14C\", \"TMIGD1\", \"PIWIL2-DT\", \"PROX2\", \"PLD4\", \"CISD1\", \"SKOR1\", \"KANSL1-AS1\", \"RPS15A\", \"LOC101927727\", \"CX3CL1\", \"LINC02732\", \"TMEM176B\", \"AZGP1P1\", \"AZGP1P1\", \"FAM149A\", \"TNFRSF13C\", \"TMEM121\", \"MEG3\", \"MAGI2\", \"FZD7\", \"MTARC2\", \"NDUFAF8\", \"TRBV1\", \"SMG1-DT\", \"CR2\", \"TRIL\", \"WNT9B\", \"ZNF559\", \"ZNF879\", \"RTCA-AS1\", \"TOMM20L\", \"SNORA80D\", \"TMEM220\", \"DPH5\", \"ZCCHC10\", \"LOC284798\", \"ZNF491\", \"DYM-AS1\", \"LOC105371967\", \"ANKRD19P\", \"ANKRD19P\", \"PHLPP1\", \"GCC2\", \"PRG2\", \"DPM1\", \"ZFP82\", \"DRD3\", \"BTG1-DT\", \"JRKL\", \"AMOT\", \"ZNF677\", \"BGN\", \"GRAMD1C\", \"DPY19L2\", \"VHLL\", \"LINC00515\", \"SLC7A9\", \"CGRRF1\", \"ZNF100\", \"SCARNA3\", \"MIR3682\", \"GNAS-AS1\", \"TAS2R10\", \"PRRT1\", \"AMH\", \"CALHM6\", \"PHLDB2\", \"MIR4481\", \"MIR6750\", \"FAM185BP\", \"TCF23\", \"ESPNP\", \"SMOC1\", \"MRPL13\", \"TGFBR3L\", \"BCL11A\", \"AFF3\", \"SYNJ2\", \"TMIGD2\", \"IGHV4-28\", \"SDR42E2\", \"TVP23B\", \"ZNF154\", \"NUDT8\", \"KIF1A\", \"LINC01605\", \"LINC01605\", \"CRYAB\", \"MRPS9-AS1\", \"ARMC2-AS1\", \"IGHD\", \"LEMD1-AS1\", \"BEND3P3\", \"MIR590\", \"GSTM2\", \"IFNL1\", \"CLDN20\", \"LDHD\", \"LAMA5\", \"PROSER2\", \"OIP5\", \"ZNF727\", \"ENPP5\", \"P3H2\", \"RDM1P5\", \"PKHD1L1\", \"KLRB1\", \"RDH14\", \"RIMKLA\", \"LINC00205\", \"THAP9\", \"SLC6A20\", \"RPL32\", \"BCL6B\", \"PALS2\", \"PRR15\", \"JAM2\", \"ELF3\", \"LOC100287808\", \"HAT1\", \"IGHV2-70\", \"RAD51AP1\", \"CILP2\", \"TNFRSF18\", \"CCT6B\", \"LINC01754\", \"DPY30\", \"MMP21\", \"DCHS1\", \"SUN3\", \"HNRNPA1P10\", \"FLJ13224\", \"TP53INP2\", \"SLC35G6\", \"SH3RF3\", \"IL6ST-DT\", \"SPAG1\", \"TAL2\", \"STK33\", \"SNORD94\", \"ARVCF\", \"LEF1-AS1\", \"LIX1-AS1\", \"MMP11\", \"SCAMP5\", \"GLP1R\", \"ZNF334\", \"PCYT1B\", \"LOC100505715\", \"ITPR1-DT\", \"IGHV4-55\", \"LINC01012\", \"PDGFA\", \"FOXP4-AS1\", \"MRPS18C\", \"ARSK\", \"SLC35F3\", \"LINC01732\", \"GDF9\", \"TMEM263\", \"C1QTNF3\", \"LINC01284\", \"MIR4482\", \"SLC9A3R1-AS1\", \"USP9Y\", \"TTTY15\", \"MEF2C-AS1\", \"ZNF600\", \"ABCA9\", \"ZNF618\", \"GPR83\", \"P2RY1\", \"TRAJ60\", \"PARM1\", \"CCDC150\", \"RPS8\", \"TXNRD3\", \"TNFRSF19\", \"ACMSD\", \"SNORD91B\", \"PRRT1B\", \"LMCD1\", \"TPD52\", \"FPR3\", \"COL4A4\", \"LHB\", \"KLRF2\", \"TSBP1\", \"SATB1-AS1\", \"WWC2-AS2\", \"MIRLET7D\", \"LINC02757\", \"COBLL1\", \"PLXNA4\", \"OCIAD1-AS1\", \"TIMD4\", \"RPS4Y1\", \"PRLR\", \"ZFP28\", \"CYS1\", \"CCDC181\", \"NPM1\", \"ANKRD34B\", \"TNFRSF21\", \"MIR6514\", \"IGHV3-48\", \"CSGALNACT1\", \"TMEM126A\", \"NHS\", \"TSPAN14-AS1\", \"CCDC152\", \"KCNIP4\", \"ZNF793-AS1\", \"LINC02245\", \"ACTR6\", \"CD207\", \"CHST3\", \"PPM1K-DT\", \"TMSB15B\", \"TMIGD3\", \"CBY2\", \"ELFN2\", \"TRDD3\", \"PARP11-AS1\", \"IL6-AS1\", \"KRBA2\", \"NRP1\", \"CD8B2\", \"RAB38\", \"RET\", \"IGHV5-10-1\", \"ZBTB16\", \"FAM177B\", \"LMO7DN\", \"FAM221A\", \"TIGD1\", \"TMEM132E\", \"MAP3K9\", \"STRCP1\", \"STRCP1\", \"RASL10A\", \"LINC01703\", \"HCFC1-AS1\", \"TCAF1\", \"TMEM150C\", \"LINC01480\", \"KIAA1217\", \"SH3YL1\", \"PSMC6\", \"CHRNB3\", \"PNMT\", \"WNT9A\", \"POT1-AS1\", \"LOC101928283\", \"ZNF660\", \"ZFAND1\", \"TMEM51-AS1\", \"ST13P4\", \"MND1\", \"NCAM1\", \"LINC02728\", \"PAX5\", \"FLJ40194\", \"TEDC2-AS1\", \"KIF7\", \"PLEKHG1\", \"LRRN3\", \"IGHV7-34-1\", \"TTC9\", \"ERBB3\", \"BACH2\", \"LINC01927\", \"TLE1\", \"ATP5MK\", \"ERVH48-1\", \"FILIP1\", \"ZFP1\", \"FAM201A\", \"NDUFAF2\", \"LYPD2\", \"IGKV6D-21\", \"SYPL2\", \"IGHV2-26\", \"UGT8\", \"NPTX1\", \"TCTN1\", \"TRAV14DV4\", \"THOC7-AS1\", \"CHRM3-AS2\", \"RASSF8\", \"VASH2\", \"ITM2A\", \"LIN9\", \"TAS2R38\", \"ZNF578\", \"CTHRC1\", \"TRABD2A\", \"LOC105374836\", \"ZNF595\", \"LINC00159\", \"MIR3155A\", \"ADARB2\", \"CCR9\", \"ADAM12\", \"HOMER1\", \"PFN2\", \"CAMSAP2\", \"CNTNAP2\", \"CFAP36\", \"TM4SF1\", \"LOC102724200\", \"KLRC4\", \"KPNA5\", \"CCL3\", \"TMEM132A\", \"CFAP251\", \"MAMDC2\", \"CENPQ\", \"LINC01726\", \"SCML1\", \"MAPK8IP1P2\", \"SCOC\", \"LINC00887\", \"INMT\", \"SESN1\", \"ANKRD26\", \"CHRNA9\", \"DOC2B\", \"NDUFAF4\", \"PCAT6\", \"B3GALNT1\", \"SHLD3\", \"SDHAP3\", \"SDHAP3\", \"PKD2L2-DT\", \"CASC2\", \"C14orf132\", \"FCER1A\", \"LEP\", \"ZNF556\", \"APLP1\", \"BLOC1S2\", \"LINC01521\", \"GNAI1\", \"IGHJ2P\", \"NFYB\", \"PSMA4\", \"MYO5C\", \"FKTN-AS1\", \"ZDHHC11B\", \"LOC101927237\", \"H2BC17\", \"LINC02295\", \"GCNT4\", \"NUDT10\", \"LINC00885\", \"ZNF681\", \"SMIM30\", \"PROKR2\", \"PPP1R14B-AS1\", \"KLRC4-KLRK1\", \"KCTD21-AS1\", \"TTC41P\", \"SCN9A\", \"IGKV1D-17\", \"SH2D7\", \"HEYL\", \"TNFRSF17\", \"ZNF30\", \"RPS14\", \"TRAV18\", \"COBL\", \"GPRC5D-AS1\", \"RPL22\", \"ANGPTL4\", \"MIR6730\", \"LIMCH1\", \"FZD4\", \"NDC80\", \"TTC32\", \"CDH22\", \"SEM1\", \"ZNF667\", \"CHST5\", \"ADAM33\", \"CD3D\", \"COL9A3\", \"TNR\", \"HDHD5-AS1\", \"LINC01685\", \"SNORD100\", \"ZNF439\", \"LINC01619\", \"LINC01882\", \"IRS1\", \"LINC02575\", \"CEACAM7\", \"GUCY2D\", \"STAM-DT\", \"LINC02761\", \"ICA1L\", \"ZNF85\", \"KCTD13-DT\", \"MIR378D2HG\", \"RIDA\", \"ACBD7\", \"CFAP44-AS1\", \"PKIA\", \"TRPC1\", \"IGHV3OR16-8\", \"ZNF480\", \"MEX3B\", \"SRPX\", \"GTF3C2-AS1\", \"LOC100996385\", \"SLC24A2\", \"GRIN1\", \"ZNF610\", \"EHF\", \"DBH-AS1\", \"ENPP1\", \"PPIL6\", \"MAP3K15\", \"MIR6842\", \"ZNF341-AS1\", \"GUSBP16\", \"VPS37D\", \"MARCHF10\", \"CEP126\", \"LINC01977\", \"FAM167A\", \"IGHV3-23\", \"CNTNAP3C\", \"DCTN6\", \"LOC101927377\", \"DPY19L1P1\", \"NRXN2\", \"EPHX3\", \"POU1F1\", \"ERICH4\", \"ZBTB8A\", \"PRKCA-AS1\", \"RTKN2\", \"GRM4\", \"RPL5\", \"CSF2\", \"C5orf34\", \"LAMP5\", \"IGLL5\", \"ZNF726\", \"ZNF302\", \"TCL1A\", \"C1orf220\", \"RASL10B\", \"RAET1E\", \"MYH16\", \"ZNF232-AS1\", \"PACRG\", \"FLG-AS1\", \"NDUFA4\", \"AJAP1\", \"LAMA5-AS1\", \"ACRV1\", \"RSPH10B\", \"CD209\", \"MAEL\", \"NNMT\", \"RHPN1-AS1\", \"GSTM5\", \"IGHV1-3\", \"HERC2P10\", \"LINC00642\", \"FMO1\", \"LINC02701\", \"SNHG19\", \"KCNH4\", \"OSBPL10-AS1\", \"SALL2\", \"CD248\", \"IGHD2-21\", \"FGF14-AS2\", \"NRG4\", \"MIR6124\", \"TBC1D8-AS1\", \"KCNA5\", \"TEAD2\", \"ZNF107\", \"TNFRSF11B\", \"GAS2\", \"TACR2\", \"ALK\", \"SF3B6\", \"STOX1\", \"LYPD6B\", \"GIMAP7\", \"HOXA-AS2\", \"NCAM1-AS1\", \"IL6R-AS1\", \"LINC02961\", \"HSPE1\", \"ANKRD36C\", \"LINC02818\", \"STXBP6\", \"ELAPOR2\", \"DSCAS\", \"FSD1\", \"RGPD8\", \"LOC101928295\", \"PCDHGA12\", \"PCBP3-AS1\", \"RPA3\", \"SIAH3\", \"MIR4292\", \"HHLA2\", \"PTPRK\", \"AMOTL1\", \"ATP13A4\", \"SHF\", \"FAM227B\", \"CADM3\", \"LINC02381\", \"LINC00563\", \"RBM26-AS1\", \"AKAP7\", \"MIR581\", \"NPY6R\", \"DPP4-DT\", \"SALL4\", \"LOC105369907\", \"TENT5B\", \"MCF2L-AS1\", \"RPL13AP6\", \"LARP7\", \"HOOK1\", \"DOK7\", \"RLN1\", \"ZNF221\", \"TAS2R50\", \"LRRC43\", \"TPPP\", \"ZNF721\", \"HSD17B14\", \"TOMM20L-DT\", \"TSPAN1\", \"IL17D\", \"RPS23\", \"TEX30\", \"OR5K2\", \"BCL7A\", \"C6orf52\", \"ROBO3\", \"SARDH\", \"FBXO2\", \"BTLA\", \"CYP2A7\", \"MIR26A2\", \"BCAR1\", \"C16orf95-DT\", \"PRKAG3\", \"TFIP11-DT\", \"PCDH9\", \"MIX23\", \"YAE1\", \"TMEM30B\", \"KIT\", \"IGLV1-62\", \"EFHB\", \"VPS33B-DT\", \"ZNF649-AS1\", \"UQCRQ\", \"ZFY\", \"LOC644656\", \"KIF25-AS1\", \"DDR2\", \"GTF2H5\", \"CKS1B\", \"LINC02561\", \"GTF2IP1\", \"GTF2IP1\", \"RHOBTB3\", \"EVPL\", \"TRPM8\", \"PCBP3\", \"TPPP3\", \"ANKRD55\", \"SAMD12\", \"IGHV3-73\", \"PCDHGB2\", \"CDH1\", \"SCUBE2\", \"SCML2\", \"HAUS1\", \"FAM117B\", \"OCLNP1\", \"KCNQ5\", \"MRPL50\", \"IGLV3-16\", \"ZNF471\", \"SDC2\", \"DUXB\", \"GEMIN2\", \"ZNF528-AS1\", \"TCP10L2\", \"ZNF566-AS1\", \"MAP7D2\", \"ZNF20\", \"TBC1D16\", \"GPRC5D\", \"ANKRD12\", \"LOC102724159\", \"GUCA1A\", \"BFSP2-AS1\", \"ZNF285\", \"ITGB3BP\", \"EBF1\", \"LINC00494\", \"IFNG-AS1\", \"ETV4\", \"GLIS3\", \"LINC00544\", \"IGHV1-69\", \"LYPD5\", \"MRPL22\", \"SCARNA13\", \"VTN\", \"FLNC\", \"SERP2\", \"NR5A2\", \"LINC02593\", \"CWF19L2\", \"LRRC36\", \"WWP1-AS1\", \"ERICH6-AS1\", \"MIR181A2HG\", \"MIR6763\", \"NUDT11\", \"IFT74\", \"SNORA33\", \"IGKV2D-40\", \"MYOSLID\", \"WASHC5-AS1\", \"MACC1\", \"AGAP7P\", \"MIR150\", \"FGF18\", \"SLC1A7\", \"PAK3\", \"TKTL1\", \"DYNC2LI1\", \"MIR6738\", \"CASC9\", \"RWDD1\", \"WNK2\", \"OR52K1\", \"LINC00907\", \"RAI1-AS1\", \"RPL6\", \"IGHV3-38\", \"MIR1302-9HG\", \"LRRCC1\", \"IGHV3-43\", \"MOK\", \"MIR4639\", \"SNORA70B\", \"MFAP4\", \"GJC3\", \"CIART\", \"COL4A3\", \"PTPN3\", \"DDO\", \"OMP\", \"CCN3\", \"LINC02560\", \"ZNF229\", \"TIGD3\", \"MIR101-1\", \"DIRAS2\", \"NPTX2\", \"SLC13A5\", \"FKBP7\", \"MAP9\", \"IGSF3\", \"SCNN1B\", \"ALDH1L2\", \"RPL26L1\", \"TRIM54\", \"MIR222HG\", \"RHOXF2\", \"MIR194-2HG\", \"PLEKHA4\", \"ZNF426-DT\", \"LINC00940\", \"PIN4\", \"CCDC110\", \"SPINK9\", \"LPAR6\", \"MIR4685\", \"ERI3-IT1\", \"FABP5P3\", \"IGKV1-17\", \"MIR5195\", \"MIR4326\", \"AKAP3\", \"TBCA\", \"ARHGAP40\", \"ZBTB20-AS1\", \"IFT57\", \"THRB-AS1\", \"VIPR2\", \"MRPL23-AS1\", \"RBM11\", \"TTC9-DT\", \"TPT1\", \"MIR6719\", \"MYOT\", \"FAM78B\", \"MPV17L\", \"ZNF860\", \"SNORA22B\", \"IFNG\", \"TAS2R31\", \"LIMS1-AS1\", \"IGHV5-78\", \"ITGA2\", \"CCDC82\", \"MPZL1\", \"LIX1\", \"AGBL3\", \"ZBED6\", \"BRD7P3\", \"LINC01800\", \"CCDC68\", \"ZNF295-AS1\", \"MIR100HG\", \"SPTSSB\", \"COL19A1\", \"NLRP4\", \"PLCB4\", \"ENY2\", \"SCN2A\", \"OPA1-AS1\", \"LINC02770\", \"STAP1\", \"RNU1-2\", \"MIRLET7A1\", \"MYBPC2\", \"ARID3C\", \"ACER2\", \"LARGE1\", \"MIR4677\", \"HSPG2\", \"CHFR-DT\", \"SNORD15B\", \"TMC3-AS1\", \"L3MBTL4\", \"IGHV3-35\", \"REEP1\", \"CYP46A1\", \"MIR3685\", \"CGN\", \"DDX3Y\", \"HSPA12A\", \"NT5DC3\", \"ULK4P2\", \"ULK4P2\", \"SLC47A2\", \"CHORDC1P4\", \"DBNDD1\", \"LINC00689\", \"JAKMIP3-AS1\", \"TPSAB1\", \"N4BP3\", \"CSTA\", \"ARHGEF2-AS1\", \"SYBU\", \"CARMIL1\", \"SHANK3\", \"ZNF157\", \"IMMP1L\", \"CSMD1\", \"GLDC\", \"MMP28\", \"LINC02598\", \"TPSB2\", \"ZPLD2P\", \"DLL1\", \"ZNF385C\", \"MIR3168\", \"BEND5\", \"TTC23L-AS1\", \"PPEF2\", \"ACCS\", \"ZNF257\", \"TATDN1\", \"MAP3K2-DT\", \"ADAM21\", \"SPTLC3\", \"ANKRD53\", \"SPINK4\", \"RNASEH2B-AS1\", \"GRHL2\", \"LINC02397\", \"LINC00656\", \"H3C8\", \"RPS6\", \"WSCD1\", \"FRK\", \"TCTE1\", \"MRPS33\", \"SERF1A\", \"PHEX\", \"ACTN1-DT\", \"ZNF365\", \"ZNF135\", \"LINC00648\", \"DCLK3\", \"ESF1\", \"RGS1\", \"INTU\", \"LOC105371814\", \"NETO1\", \"MTCL1\", \"GUSBP14\", \"PI16\", \"SPECC1L-ADORA2A\", \"NEK11\", \"LOC105376805\", \"MIR27A\", \"NFATC4\", \"PKD2L2\", \"RAPH1\", \"TCL6\", \"EXPH5\", \"UTS2R\", \"SV2C\", \"UTS2\", \"LINC02014\", \"IGHV3-47\", \"KIR2DL4\", \"PCDHGA5\", \"RPS27L\", \"PRR36\", \"EYA1\", \"ACE2\", \"MORN2\", \"SLIRP\", \"ADGRB3-DT\", \"INKA2-AS1\", \"MIR133A1HG\", \"ADRA2A\", \"LINC00327\", \"GIHCG\", \"RHOD\", \"ZNF594\", \"MIR320B2\", \"PDE9A\", \"AK5\", \"TEX48\", \"XRCC4\", \"DSEL\", \"ADAMTS1\", \"PDE6H\", \"PGLYRP4\", \"RABGAP1L-AS1\", \"BCORP1\", \"BCORP1\", \"SLC16A10\", \"CLDN12\", \"FAM66D\", \"GGNBP1\", \"METTL18\", \"LINC00658\", \"ARPP21\", \"ODAPH\", \"RGMB-AS1\", \"PWAR5\", \"CCDC171\", \"SPIN4\", \"RGS7\", \"DENND2C\", \"MSR1\", \"CERS1\", \"NT5E\", \"MIR367\", \"FANK1\", \"HSD17B6\", \"BEX2\", \"SV2B\", \"SOBP\", \"TSPAN13\", \"SCGB1C2\", \"KCNQ5-AS1\", \"TEX46\", \"LINC02012\", \"TMEM30A-DT\", \"CEP72-DT\", \"IHH\", \"NPIPB6\", \"CST6\", \"BMPER\", \"DBH\", \"RGS17\", \"ZFPM1-AS1\", \"TH2LCRR\", \"RND2\", \"CD69\", \"SH2D1B\", \"LINC00511\", \"LINC00673\", \"ZNF165\", \"ZNF214\", \"DCT\", \"EDAR\", \"ADCY2\", \"FUT1\", \"NEK2-DT\", \"EFNB2\", \"CLEC2B\", \"SLC45A2\", \"MROH8\", \"GGTA1\", \"PAWR\", \"LINC01964\", \"USP51\", \"TRGVB\", \"LINC00933\", \"C10orf88B\", \"PRAP1\", \"CLYBL-AS2\", \"WASIR2\", \"TUBB6\", \"ZFP57\", \"PTPN14\", \"CDKL3\", \"LINC02513\", \"HOXB8\", \"KASH5\", \"HNF1A-AS1\", \"SCT\", \"SAMD13\", \"IGHD6-6\", \"PHOSPHO2-KLHL23\", \"KLHL23\", \"ADD3-AS1\", \"OR2A1-AS1\", \"DNAJC5B\", \"TMC3\", \"FAM228A\", \"TSKU\", \"ERICD\", \"PARVA\", \"HINT1\", \"TCAF2P1\", \"STK24-AS1\", \"BHLHE41\", \"ACTG2\", \"SNORA55\", \"ARHGAP26-AS1\", \"PAH\", \"RFX5-AS1\", \"MIR3198-1\", \"LINC02332\", \"GOLGA6L9\", \"ZMYND12\", \"STAG3L1\", \"STAG3L1\", \"OR2T3\", \"WNT3\", \"TOB2P1\", \"EML6\", \"P4HA3\", \"SLC41A2\", \"EEF1E1\", \"TRERNA1\", \"PLAC8L1\", \"GPR182\", \"GAS5\", \"EPHA10\", \"LOC105370532\", \"TRAV8-3\", \"ZMAT1\", \"LINC02550\", \"ZNF781\", \"ZNF781\", \"LOC105373496\", \"LINC01013\", \"NAV2\", \"NAALADL2\", \"ARHGAP11B-DT\", \"ZNF492\", \"PPIG\", \"ZNF704\", \"LINC02580\", \"ZNF772\", \"ESAM-AS1\", \"CAPN14\", \"UGT2B17\", \"ANXA10\", \"LMNB1-DT\", \"SNTG2-AS1\", \"GKAP1\", \"CRNDE\", \"LOC101927480\", \"OPN1SW\", \"ADAD2\", \"UQCRH\", \"NANOG\", \"LOC105375523\", \"FAM153CP\", \"B3GNT4\", \"FLG\", \"HHIP-AS1\", \"PDK4\", \"OXTR\", \"FRMPD1\", \"SHANK2\", \"SPRY4\", \"CNKSR2\", \"CHML\", \"FOXC1\", \"IER5L-AS1\", \"CKS2\", \"LOC440700\", \"TSIX\", \"KLHL33\", \"MIR1180\", \"STUB1-DT\", \"PTGDS\", \"WDR35-DT\", \"LINC00471\", \"SHANK1\", \"LSM5\", \"ONECUT3\", \"ZNF534\", \"VWA1\", \"SLC26A7\", \"MIR544B\", \"ASIC1\", \"LIPC\", \"TLL2\", \"CLIC6\", \"GJA3\", \"RAX2\", \"SUGCT\", \"PEBP4\", \"EFHD1\", \"ZNF732\", \"BAIAP3\", \"ATP5MJ\", \"MFAP5\", \"TSPAN10\", \"GCK\", \"MRPL47\", \"LINC02416\", \"MIR3188\", \"CYP2J2\", \"XG\", \"SCOC-AS1\", \"LINC02482\", \"MIR4512\", \"RPL35A\", \"APPBP2-DT\", \"NYX\", \"CFAP276\", \"LINC02569\", \"MINDY2-DT\", \"MYO1B\", \"SCN3A\", \"GDF7\", \"MYO16\", \"KLHL6-AS1\", \"SNCG\", \"BMP2\", \"LOC105375614\", \"LINC02679\", \"PBX3-DT\", \"FBLN2\", \"SAXO1\", \"LINC02365\", \"FMO3\", \"CUX2\", \"ACVR1C\", \"CELF5\", \"MIR766\", \"AGBL5-AS1\", \"RPL35\", \"C7\", \"SNRPD2\", \"TOM1L1\", \"CREB3L3\", \"LINC01473\", \"LINC00665\", \"NEMP2-DT\", \"H2AC8\", \"MAP2\", \"SHBG\", \"C1QTNF9\", \"MIR6076\", \"PDCD6IPP2\", \"CCDC38\", \"RPSAP52\", \"RIMBP2\", \"NOG\", \"LINC00659\", \"TSGA10\", \"OTUD6B-AS1\", \"EFCAB6\", \"PGPEP1L\", \"TRBV26\", \"AKAP6\", \"KBTBD11-AS1\", \"AMZ1\", \"RC3H1-DT\", \"C1QTNF1\", \"EPB41L1\", \"GAD1\", \"TRGJP1\", \"COL26A1\", \"VGF\", \"USP43\", \"ZNF404\", \"FAM66A\", \"SYT12\", \"RPS18\", \"RPL24\", \"LINC00184\", \"SLC32A1\", \"MACROD2\", \"LOC102724511\", \"SNORA2C\", \"KLC2-AS1\", \"LINC01980\", \"HS3ST1\", \"CD109\", \"CAPS2\", \"C9orf163\", \"PTENP1-AS\", \"PKIB\", \"CTDP1-DT\", \"MIR1244-4\", \"MIR30C1\", \"LINC01796\", \"MIR659\", \"PRKAR2B-AS1\", \"RAPGEF5\", \"LOC344967\", \"LINC02182\", \"LHX1\", \"BARHL1\", \"ERICH3\", \"PCDHGA7\", \"CCL3L1\", \"CCL3L3\", \"RPP38-DT\", \"SLC38A11\", \"LOC101927914\", \"BRDT\", \"MIR339\", \"FGF7\", \"HMSD\", \"FRG1DP\", \"CRYM-AS1\", \"LOC105370047\", \"PEF1-AS1\", \"ST18\", \"FAM106A\", \"XKRX\", \"NEXMIF\", \"SOD3\", \"MIR4753\", \"ABCA17P\", \"RLN3\", \"DRC1\", \"LINC02315\", \"TCL1B\", \"MGAT5B\", \"SUMO4\", \"CLDN10\", \"IL31RA\", \"SPRY1\", \"RAB9B\", \"NXF5\", \"NXF5\", \"ZSCAN12P1\", \"LINC01936\", \"CYP2G1P\", \"CYP2G1P\", \"RNF5P1\", \"LINC02280\", \"RABGAP1L-DT\", \"GATA6\", \"H4C2\", \"URAD\", \"EPPK1\", \"HECW2-AS1\", \"ZNF711\", \"LINC00309\", \"MLN\", \"CCDC175\", \"ARHGEF10\", \"TMCO1-AS1\", \"IGLV3-10\", \"RPL23AP53\", \"SNORA13\", \"CFAP91\", \"EPHA2\", \"LINC00298\", \"LINC00525\", \"LRRC26\", \"DNAAF4\", \"GPAT4-AS1\", \"CKMT2\", \"PDK4-AS1\", \"ARHGEF33\", \"BSN-DT\", \"GDPD4\", \"PFDN5\", \"ISM1-AS1\", \"SYNPO2\", \"NSA2\", \"PLA2G2D\", \"XIRP2\", \"TRAJ24\", \"LOC728485\", \"PAQR5-DT\", \"NAP1L2\", \"GAP43\", \"MEGF10\", \"CXCL10\", \"LINC02585\", \"PCDHB2\", \"NTNG1\", \"CSTF3-DT\", \"PACSIN3\", \"GRIN2B\", \"GGTLC2\", \"RAMP2\", \"LRGUK\", \"ITFG1-AS1\", \"AKR1C8\", \"SNX29P2\", \"LINC02718\", \"TMEM225B\", \"SLCO2A1\", \"MAP3K19\", \"TTLL9\", \"LRFN5\", \"EAF2\", \"LINC02452\", \"MRLN\", \"ANKRD20A21P\", \"FUT6\", \"ZFP28-DT\", \"ZNRF2P1\", \"CD276\", \"CLIP1-AS1\", \"CD200\", \"HSPA2\", \"SLC12A3\", \"LGALS2\", \"C10orf67-AS1\", \"GCSIR\", \"MALAT1\", \"FGF9\", \"ODAD2\", \"NUDT9P1\", \"SCN7A\", \"DCC\", \"LINC02869\", \"ZNF593OS\", \"LINC01412\", \"LINC00630\", \"OR2I1P\", \"LRRC63\", \"CCDC158\", \"LYPD9P\", \"RPL27\", \"KLHL41\", \"POLR2K\", \"TMSB4Y\", \"CXCL13\", \"RPL29P2\", \"ARHGEF16\", \"DSG2\", \"FRRS1L\", \"DRD2\", \"LINC02302\", \"LPA\", \"LINC01397\", \"SPACA5B\", \"YIPF7\", \"TENM4\", \"MIR2052HG\", \"CRTAC1\", \"LINC01016\", \"LOC730668\", \"GPR161\", \"RHPN2\", \"LINC01331\", \"LINC01208\", \"MIR4681\", \"C3orf52\", \"SAPCD1-AS1\", \"GLRA3\", \"ARHGAP26-IT1\", \"ECM2\", \"LINC01413\", \"LOX\", \"PCDHB13\", \"FAT1\", \"SNORA79B\", \"RPL37\", \"THORLNC\", \"MYCBP2-AS2\", \"POF1B\", \"CDC37L1-DT\", \"SLC16A9\", \"NCCRP1\", \"NRTN\", \"MIR23B\", \"DKFZP434A062\", \"DBI\", \"DRAIC\", \"LINC00593\", \"PCAT29\", \"SYNPO2L-AS1\", \"CYP4F11\", \"PCDHB14\", \"LOC101927293\", \"ISLR2\", \"CFI\", \"LAMC3\", \"IFNW1\", \"MIR5091\", \"LINC01234\", \"OMD\", \"NDUFA5\", \"MIR146B\", \"CCSER1\", \"RAB3B\", \"MIR613\", \"MBD3L1\", \"CNGB3\", \"SUB1\", \"MIR194-1\", \"UCA1\", \"FOCAD-AS1\", \"DISC1FP1\", \"MIR4284\", \"MROH7-TTC4\", \"MIR2117HG\", \"ZSCAN5C\", \"AURKAP1\", \"NKX2-5\", \"TNNI3K\", \"AFAP1L1\", \"ANAPC10\", \"TNNC2\", \"CSF3\", \"LOC101928797\", \"SOX21-AS1\", \"LOC101928994\", \"LINC01494\", \"LINC01752\", \"LAPTM4A-DT\", \"SMG1P1\", \"MYL7\", \"GPR31\", \"LINC02894\", \"DLX3\", \"GOT1L1\", \"ANKRD45\", \"LINC01104\", \"DNAJB5-DT\", \"MIR619\", \"PNMA8C\", \"LINC01262\", \"GNGT1\", \"MIR4728\", \"PLA2G5\", \"GOLGA8J\", \"CT69\", \"OR5C1\", \"IGHVII-30-21\", \"LPP-AS1\", \"TEX38\", \"CRB1\", \"IGHV4-59\", \"MIR6799\", \"ENTPD2\", \"MIR326\", \"BNC2\", \"RNU4-1\", \"AK8\", \"DNM1P35\", \"CALCRL\", \"SNORA19\", \"FOXD4L5\", \"LINC00273\", \"EFL1P1\", \"PAFAH1B2P2\", \"MIR181B2\", \"ANKRD30BL\", \"GSTM2P1\", \"GLRA4\", \"MIR222\", \"MIR624\", \"SNORD92\", \"FAM223A\", \"MIR652\", \"SNORD116-6\", \"NEBL-AS1\", \"LOC100132078\", \"LINC00898\", \"LINC01630\", \"MTHFD2P1\", \"MIR1291\", \"MIR3136\", \"MIR3192\", \"MIR3928\", \"LOC100505978\", \"LINC01121\", \"SAMD5\", \"LINC00939\", \"LINC02389\", \"LRATD1\", \"SLC7A13\", \"C12orf50\", \"SUPT20HL2\", \"PSORS1C2\", \"GSX2\", \"GABRR3\", \"TXNDC8\", \"RAB40AL\", \"FADS6\", \"ERICH2\", \"ZAR1\", \"CYP27C1\", \"ARSI\", \"KRBOX1\", \"SOWAHB\", \"C9orf50\", \"INSYN1\", \"LINC02875\", \"ZNF728\", \"SPACA5\", \"OR56B2P\", \"RPL13AP17\", \"KNCN\", \"LINC02642\", \"MGAT4FP\", \"MIR6806\", \"LINC01496\", \"LINC01498\", \"HID1-AS1\", \"LOC103171574\", \"MIR9500\", \"BBOX1-AS1\", \"ABCA9-AS1\", \"LINC01995\", \"LINC02828\", \"LINC02469\", \"FAM135A-AS1\", \"LINC02836\", \"LINC02955\", \"LOC107984784\", \"LOC107985535\", \"CHRNA1\", \"RGS4\", \"SCTR\", \"ZIC2\", \"IGHVII-28-1\", \"FRMPD2B\", \"MIR3659HG\", \"GLIS3-AS2\", \"MIR4433B\", \"MIR6782\", \"LINC02082\", \"LOC101929626\", \"APOC4-APOC2\", \"MIR4464\", \"MIR4762\", \"MIR4422\", \"MIR4672\", \"MIR4494\", \"WDR87BP\", \"WDR87BP\", \"MIR5692C2\", \"LZTS1-AS1\", \"LINC00332\", \"LINC00559\", \"LINC00348\", \"SEC61G-DT\", \"LINC01939\", \"LOC101926956\", \"UQCRB-AS1\", \"LINC02681\", \"LINC01273\", \"LOC101927993\", \"RNPC3-DT\", \"ETDA\", \"LINC01858\", \"LINC01740\", \"PPP1R1C\", \"EMX2\", \"ZNF98\", \"SLC6A17\", \"NFIA-AS1\", \"BASP1P1\", \"UNC5B-AS1\", \"MIR933\", \"TDH-AS1\", \"LOC100130268\", \"LINC01405\", \"SP9\", \"LINC00421\", \"LINC02318\", \"DPH6-DT\", \"MIR5696\", \"LOC101059915\", \"LINC01847\", \"LOC101928392\", \"LOC102546299\", \"LRIG3-DT\", \"LINC02176\", \"CNIH3-AS1\", \"LOC105373352\", \"LINC02041\", \"LOC105378798\", \"LINC02609\", \"TMPRSS11GP\", \"TMPRSS11GP\", \"OR1J1\", \"ACADL\", \"LOC284788\", \"DLX6\", \"EFEMP1\", \"FOLH1\", \"GAD2\", \"TLX1\", \"KCNJ3\", \"LBP\", \"MMP16\", \"OPN1LW\", \"FGF19\", \"EDDM3A\", \"OR2L2\", \"IGHVII-53-1\", \"PURG\", \"SNTG1\", \"UGT2A3\", \"PLA2G12B\", \"IL17F\", \"C11orf40\", \"AQP4-AS1\", \"PSORS1C1\", \"LINC00551\", \"HCCAT5\", \"CAPS2-AS1\", \"SPATA8\", \"ASIC2\", \"OR7E12P\", \"CGB3\", \"IGHVII-1-1\", \"IGHV7-56\", \"TRBVB\", \"TRBV22-1\", \"PLA2G2E\", \"AADAT\", \"PADI3\", \"PCDHB11\", \"PIEZO2\", \"LINC00472\", \"SEMA6D\", \"PKD1L1-AS1\", \"TFAP2D\", \"RGPD5\", \"ABCC12\", \"KIF12\", \"FAT3\", \"OR2T10\", \"OR2A14\", \"ASB5\", \"S100A16\", \"C2CD4A\", \"ZPBP\", \"VAX2\", \"OR1R1P\", \"PON1\", \"EN2\", \"F11\", \"FGF14\", \"GDF2\", \"GRIK2\", \"GRM1\", \"HTR2C\", \"LY6H\", \"CXCL14\", \"NPR1\", \"PKHD1\", \"MSI1\", \"SNORD15A\", \"MALL\", \"GCM2\", \"CXCL12\", \"ADAM7\", \"H2BC10\", \"CLDN1\", \"TECTB\", \"TRBV25OR9-2\", \"SLC7A2\", \"SFTPC\", \"CRISPLD1\", \"MIR378H\", \"CFAP97D1\", \"BEND4\", \"LINC01871\", \"LCA5\", \"MAG\", \"PIH1D2\", \"HS3ST3A1\", \"MIR155HG\", \"MIR1262\", \"LINC01266\", \"G2E3-AS1\", \"MYOZ1\", \"OR52B4\", \"PXDN\", \"AGR2\", \"ZNF488\", \"ASTN2-AS1\", \"NCAN\", \"CALCR\", \"LINC01500\", \"KCNMB2-AS1\", \"KCNIP1-OT1\", \"TLCD5\", \"IDH2-DT\", \"MIR196A1\", \"KLK4\", \"BHMT2\", \"GOLGA6L7\", \"TKTL2\", \"EFNA5\", \"FAM180B\", \"FAM171B\", \"MRPL1\", \"ARHGAP20\", \"LARP6\", \"KLF15\", \"RNF151\", \"EPS8L3\", \"IGKV7-3\", \"GTF2I-AS1\", \"STEAP1B\", \"LOC401312\", \"CNN3-DT\", \"AKR1C3\", \"C19orf18\", \"TMEM132C\", \"LINC00548\", \"LINC00598\", \"GAREM1\", \"RSL24D1\", \"LOC389831\", \"LINC00221\", \"APCDD1L-DT\", \"IGLC5\", \"FOXB1\", \"KLK2\", \"H4C12\", \"LGALS9B\", \"SFRP4\", \"TEX35\", \"MIR99B\", \"MIR4642\", \"IL33\", \"MIR618\", \"NPSR1\", \"CTAGE1\", \"TNN\", \"LOC105372710\", \"LOC93463\", \"TRAJ45\", \"MIR4804\", \"SLITRK5\", \"SCARNA7\", \"C17orf114\", \"SHC3\", \"ADAMTS15\", \"LINC01656\", \"MATN4\", \"SLIT1-AS1\", \"CA9\", \"CCDC198\", \"RBM46\", \"NKAIN1\", \"VN1R2\", \"RGS22\", \"HUS1B\", \"LYPD1\", \"LINC00578\", \"ATP4A\", \"TESC-AS1\", \"MIR601\", \"MIR7854\", \"MIR4514\", \"CYYR1\", \"PRELP\", \"IGKV2D-24\", \"TPD52L1\", \"LINC01095\", \"PLEKHH2\", \"TMEM139-AS1\", \"GGT6\", \"XXYLT1-AS1\", \"SLC2A9-AS1\", \"NPHP1\", \"MYCNOS\", \"SNORD116-4\", \"CSDC2\", \"KIAA1549\", \"LOC105373383\", \"LEMD1-DT\", \"TXNDC2\", \"SPAG17\", \"HAMP\", \"LINC00574\", \"AKR1C2\", \"HNRNPA3P1\", \"TAF1L\", \"GCKR\", \"TIPARP-AS1\", \"TRPM5\", \"ADORA1\", \"LINC01389\", \"HTR2A\", \"LINC01301\", \"TMEM72-AS1\", \"NAT8L\", \"MIR663AHG\", \"PRSS58\", \"DSC1\", \"SLC26A3\", \"PORCN-DT\", \"SNORA58\", \"GPR152\", \"NRCAM\", \"MIR2909\", \"RPL13AP3\", \"SLC6A3\", \"CLNK\", \"MIR6881\", \"MRO\", \"MAP6\", \"LOC100507250\", \"ACKR4\", \"GLIS2-AS1\", \"RASA4B\", \"DPEP2NB\", \"MIR16-1\", \"F8A3\", \"CFAP77\", \"ZNF208\", \"DHRS2\", \"DZIP1\", \"ASIP\", \"ROPN1B\", \"XKR9\", \"FBXO43\", \"TMEM164\", \"ZBTB20-AS3\", \"LINC01691\", \"RSPH6A\", \"CXADR\", \"SLC39A2\", \"PLPPR4\", \"AKR1C6P\", \"ANKRD7\", \"USP12-DT\", \"NOS1\", \"C9orf152\", \"SLC26A5\", \"FAM221B\", \"PNPLA3\", \"PPP1R26-AS1\", \"SMC2-DT\", \"LINC00929\", \"RPL10L\", \"SCRT1\", \"KIR3DL1\", \"TIMM8B\", \"TRAPPC2B\", \"ZNF847P\", \"CAND2\", \"CACNB4\", \"SNRPE\", \"H4C3\", \"PRRG3\", \"RPS20\", \"C19orf81\", \"TAS2R42\", \"LINC02700\", \"RPS21\", \"PCDHGB6\", \"MIR421\", \"NDUFS5\", \"LINC01857\", \"GRPR\", \"FHIP1A-DT\", \"RNU6-2\", \"TTLL10-AS1\", \"TBC1D22A-AS1\", \"PPIAP30\", \"LOC101928251\", \"DPYS\", \"C18orf15\", \"GLYATL2\", \"LINC01572\", \"LOC117779438\", \"SLCO5A1\", \"STK31\", \"CFAP418-AS1\", \"COX7B\", \"FZD8\", \"STX17-DT\", \"WDR49\", \"CHD5\", \"LINC02100\", \"GH1\", \"CCDC144CP\", \"RLN2\", \"TEX9\", \"HSD11B1\", \"PCDH18\", \"COX7C\", \"CD109-AS1\", \"PCDHGA11\", \"IBA57-DT\", \"CLGN\", \"LINC00323\", \"GOLGA6L10\", \"ELN\", \"LRIT3\", \"FAM47E\", \"LOC442497\", \"MEIS3P1\", \"CTAGE11P\", \"PABPC1P2\", \"LOC102724020\", \"HMGN5\", \"IGHV3-64D\", \"PPEF1\", \"C1orf53\", \"BTG3-AS1\", \"EFNA2\", \"AK6\", \"FRMD6\", \"MIR642A\", \"PCDHGB5\", \"RFX4\", \"TMEM108\", \"LYPLAL1-DT\", \"GRAMD2A\", \"LINC01727\", \"RPS17\", \"MIR579\", \"FLJ20712\", \"FUT10\", \"PROSER2-AS1\", \"CHRM3\", \"FBXO27\", \"TUBB2B\", \"CLSTN2\", \"CLASP1-AS1\", \"DUOXA1\", \"RASL11B\", \"GRK7\", \"SLC9A2\", \"RGPD3\", \"MED14OS\", \"MIR193BHG\", \"RAP2C-AS1\", \"TPSD1\", \"ETV7-AS1\", \"RPL11\", \"CLEC9A\", \"CPO\", \"DENND6A-DT\", \"FLJ12825\", \"CHODL\", \"PCDHGA6\", \"HPCA\", \"KRT81\", \"TXLNGY\", \"TXLNGY\", \"ARFGEF1-DT\", \"LINC01479\", \"ZNF667-AS1\", \"IL12A-AS1\", \"S100B\", \"SPDEF\", \"AGBL4\", \"CELA1\", \"ADH6\", \"LINC01725\", \"LOC101927560\", \"HSPA5-DT\", \"LINC02551\", \"FREM1\", \"CDIPTOSP\", \"LINC00540\", \"LOC105371824\", \"KIF17\", \"IGLV5-37\", \"KC6\", \"PDE7B\", \"LOC105379362\", \"SDR16C5\", \"DMXL1-DT\", \"CCDC73\", \"RGS9BP\", \"DEFA3\", \"TMEM125\", \"FAM133DP\", \"C3orf80\", \"PHKA1\", \"IGHD1-14\", \"CCNYL6\", \"ZNF311\", \"IGSF11\", \"LINC02764\", \"SORBS2\", \"KCNK10\", \"ZSCAN23\", \"BDNF\", \"FMR1-AS1\", \"CAPNS2\", \"RAB5C-AS1\", \"ZNF826P\", \"ZNF835\", \"LAMC1-AS1\", \"IGLV10-54\", \"CATSPERZ\", \"CEACAM5\", \"AHCTF1P1\", \"GPR135\", \"MUC4\", \"LOC101927609\", \"B3GNT3\", \"NDUFA1\", \"SNORA22\", \"FSIP2-AS1\", \"HOXB9\", \"IQCA1L\", \"LINC01376\", \"LOC101927745\", \"LOC105369302\", \"LINC01909\", \"RBMS3\", \"TTLL10\", \"MNS1\", \"RPS25\", \"LOC441239\", \"LOC102724684\", \"LOC105372165\", \"KCNK15-AS1\", \"PHGR1\", \"MIR4458HG\", \"LOC101929577\", \"LOC107985433\", \"LINC01597\", \"SCGB1C1\", \"FAM229B\", \"ABCA6\", \"LUM\", \"LOC102723834\", \"LRRIQ3\", \"PART1\", \"PTPRG\", \"MIR320D1\", \"AARD\", \"GSG1L\", \"NDUFB3\", \"GREM2\", \"CALHM5\", \"XIRP1\", \"LINC02006\", \"MIR181A1HG\", \"LINC02090\", \"ITGA11\", \"LOC105371430\", \"MRPS30-DT\", \"MIR5190\", \"VWA5B2\", \"FAIM2\", \"B4GALT4-AS1\", \"SLX1B-SULT1A4\", \"NLGN4X\", \"LOC645967\", \"USP2\", \"MIR548L\", \"ZCWPW2\", \"LINC02026\", \"SERPINE2\", \"UTS2B\", \"KCNH6\", \"TRPC5\", \"C1orf210\", \"FABP2\", \"CCDC74B\", \"CCDC184\", \"MIR3945\", \"PCDHGA8\", \"KLRF1\", \"ATP8A2\", \"CCDC87\", \"COL9A1\", \"TMEM31\", \"TRIM63\", \"SBSN\", \"LOC102725254\", \"SNORD53B\", \"CFAP65\", \"KRTAP16-1\", \"FLRT2\", \"RASSF8-AS1\", \"LRRC19\", \"LINC00475\", \"COL1A2\", \"MEI4\", \"NKD2\", \"MOCOS\", \"LOC101929552\", \"PIN4P1\", \"LINC02773\", \"PARM1-AS1\", \"PRL\", \"GML\", \"TRPC5OS\", \"ANP32D\", \"BAALC\", \"FAM225B\", \"ZNF630-AS1\", \"SNX31\", \"ANKRD20A9P\", \"SYT3\", \"IGFBP5\", \"KRT2\", \"LINC01775\", \"LRRC14B\", \"RNF224\", \"SNORA53\", \"C17orf78\", \"STOX2\", \"NDUFS4\", \"RAB4A-AS1\", \"RAB40A\", \"MIR4462\", \"BEX5\", \"ZSCAN4\", \"LINC01671\", \"DDX11L9\", \"DDX11L9\", \"SGCE\", \"MIR342\", \"LINC00398\", \"CCDC168\", \"PRB4\", \"MIRLET7I\", \"MPP7-DT\", \"LRRC66\", \"BRPF3-AS1\", \"LRRC7\", \"LOC101927839\", \"LOC101927418\", \"IGKV2D-26\", \"NPM2\", \"MIR6796\", \"LINC02316\", \"MIR583HG\", \"ZSCAN1\", \"MYL2\", \"CFAP299\", \"RPL41\", \"FBLN1\", \"BAAT\", \"IGHD4-11\", \"LINC02068\", \"RPS29\", \"CCBE1\", \"MAL2\", \"C6orf132\", \"PRAME\", \"IQSEC3\", \"HR\", \"LINC01358\", \"LOC105375798\", \"IFTAP\", \"HHIPL2\", \"TRAJ61\", \"MIR4520-1\", \"MARCHF4\", \"CLEC14A\", \"LINC01625\", \"KCNJ4\", \"LINC01526\", \"LINC01876\", \"BCL2L10\", \"C2CD4B\", \"KRTAP10-4\", \"ANGPTL1\", \"DDAH1\", \"LINC02044\", \"TMEM132B\", \"TTTY10\", \"B4GALT6\", \"INSM1\", \"FGF7P3\", \"AICDA\", \"ACAN\", \"BMP4\", \"OR52K2\", \"BCL10-AS1\", \"MIR4306\", \"TMEM220-AS1\", \"ZNF750\", \"TTC9B\", \"HSD3BP4\", \"EPHA2-AS1\", \"HOXB5\", \"RAMP2-AS1\", \"MIR938\", \"TNFSF11\", \"LINC01088\", \"SPOCK3\", \"FAT4\", \"DCDC1\", \"ROBO1\", \"MIR1183\", \"ZNF462\", \"ARL9\", \"IGHVIII-76-1\", \"LOC101928682\", \"ENPP6\", \"TNKS2-DT\", \"CPB2-AS1\", \"ANTXRL\", \"DIAPH2-AS1\", \"LGR4-AS1\", \"COL13A1\", \"IGLV4-60\", \"CFAP20DC\", \"TRBV8-2\", \"SNORD51\", \"INSL6\", \"PDGFRA\", \"CHGB\", \"MIR5087\", \"ABRA\", \"ATP1A2\", \"SMIM2-AS1\", \"CFAP43\", \"EIF1AY\", \"SNRPG\", \"NOXO1\", \"USH2A\", \"PGAM1P5\", \"ASCL4\", \"LOC105374042\", \"H3P4\", \"MIR6129\", \"WBP11P1\", \"LINC01823\", \"OR10AC1\", \"RAB6C-AS1\", \"RAB6C-AS1\", \"KIAA0087\", \"COL16A1\", \"IGHD6-25\", \"SULT1E1\", \"USH1G\", \"RPS27A\", \"METTL24\", \"PCDHB15\", \"TRPC3\", \"DLG5-AS1\", \"MANEA-DT\", \"ENPEP\", \"SCARNA18B\", \"PSD2-AS1\", \"GBA3\", \"CCDC88C-DT\", \"CYP2U1-AS1\", \"LRP1B\", \"LINC01478\", \"SPACA4\", \"MIR6740\", \"MIR6855\", \"CFAP95\", \"H2AC12\", \"MIR598\", \"LINC01990\", \"SMARCAL1-AS1\", \"LINC02515\", \"SSTR1\", \"IFNA5\", \"ESRRG\", \"ERC2\", \"ATP11AUN\", \"TSPAN12\", \"ENDOU\", \"MIR4767\", \"LDLRAD4-AS1\", \"RNU4ATAC\", \"FIBCD1\", \"MINDY4\", \"CCDC83\", \"LINC00930\", \"CACHD1\", \"INTS6L-AS1\", \"RASSF6\", \"DOCK9-AS1\", \"PLEKHG4B\", \"ERBB4\", \"RPL23AP32\", \"TMEM233\", \"LOC102724019\", \"H4C1\", \"MICU3\", \"LINC01435\", \"LINGO2\", \"SNORD72\", \"LINC01556\", \"IGDCC3\", \"PTTG3P\", \"OR1K1\", \"ACSM5\", \"PKD1L2\", \"IGLV3-6\", \"WDR87\", \"MS4A10\", \"MIR4540\", \"YWHAEP1\", \"OR1Q1\", \"IGHVII-60-1\", \"TCEAL6\", \"ALKAL1\", \"CREB3L2-AS1\", \"ZNF286A-TBC1D26\", \"GLIS3-AS1\", \"MIR7-2\", \"ATP13A4-AS1\", \"BLACE\", \"SERPINI2\", \"TMPRSS7\", \"ADAMTSL2\", \"FAM3B\", \"ABHD14A-ACY1\", \"MIR4669\", \"CETN3\", \"DMTF1-AS1\", \"DNASE1L3\", \"GAS2L1P2\", \"CCDC148\", \"RAB6D\", \"USP32P2\", \"USP32P2\", \"CXCL17\", \"GS1-24F4.2\", \"LINC02625\", \"ABCG5\", \"PCDHB5\", \"TRHR\", \"CACNA1S\", \"KLHL7-DT\", \"GLIS1\", \"PDE11A-AS1\", \"LINC01206\", \"NOTO\", \"RSPO2\", \"FHAD1-AS1\", \"LOC105372971\", \"LINC00882\", \"MAGEA11\", \"SNORD105\", \"CHODL-AS1\", \"NAMA\", \"DGAT2L6\", \"L1CAM-AS1\", \"TEX15\", \"CCDC179\", \"ZNF716\", \"LRRC7-AS1\", \"STC1\", \"MIR760\", \"TRBV5-3\", \"MSH2-OT1\", \"RPL9\", \"LINC01250\", \"CLEC12A-AS1\", \"TENM3-AS1\", \"CCNO\", \"RIIAD1\", \"RNU5F-1\", \"LOC729254\", \"SCN1A\", \"IGLV3-32\", \"LINC01227\", \"LINC02147\", \"MTUS2-AS1\", \"SNORD13D\", \"GLYAT\", \"PRDM6\", \"TPSG1\", \"MIR3128\", \"SHH\", \"NOS2P3\", \"NOS2P3\", \"ZNF415\", \"PRKCE-AS1\", \"CTXN1\", \"HTD2\", \"SEMA3D\", \"SNED1-AS1\", \"LINC01218\", \"ENTHD1\", \"HNRNPKP3\", \"GDF5-AS1\", \"LINC01031\", \"MIR302D\", \"LINC02695\", \"WFDC5\", \"CCAT2\", \"EXOC1L\", \"RPS27\", \"IGF1\", \"LOC100287944\", \"SKAP1-AS2\", \"TPTE2P2\", \"LINC02268\", \"HSD17B3-AS1\", \"TMEM35B\", \"MIR4644\", \"LOC105373373\", \"CLCNKB\", \"CHRNB4\", \"LINC01829\", \"TXNDC12-AS1\", \"PRH2\", \"ADCY1\", \"PCLO\", \"LINC01714\", \"ST7-OT4\", \"LINC01722\", \"EGOT\", \"MIR152\", \"SCARNA14\", \"MAPT-IT1\", \"PCDHGA1\", \"LGI3\", \"DUSP26\", \"SPAAR\", \"MIR3657\", \"OR10A2\", \"LINC02536\", \"LONRF2\", \"MIR4786\", \"RBM20\", \"MIR4660\", \"FGL1\", \"LOC100134391\", \"LSM3\", \"LRTM2\", \"MROH9\", \"RPS3A\", \"PLAAT2\", \"VWC2L\", \"LINC01711\", \"GJD3\", \"COL8A1\", \"TMEM210\", \"LOC107986178\", \"IL1A\", \"MATN3\", \"FSIP2-AS2\", \"CMA1\", \"CRYBA4\", \"CCL1\", \"TEKT1\", \"KLHL31\", \"HERC2P3\", \"HERC2P3\", \"FAM220CP\", \"RPS6KA6\", \"IGHD4-17\", \"SOX18\", \"SNCB\", \"CPB1\", \"CLEC4M\", \"PF4V1\", \"ANKRD44-AS1\", \"LOC101927227\", \"TMEM244\", \"LINC01108\", \"LCNL1\", \"MYH7\", \"DIS3L-AS1\", \"NLRP9\", \"GSTM3\", \"PEG10\", \"ELF5\", \"LINC01115\", \"RANBP3L\", \"PLAC4\", \"KDM4E\", \"LINC01902\", \"ARHGEF15\", \"COL25A1\", \"RAPGEF4\", \"KRT40\", \"LOC654780\", \"SCIN\", \"SNHG8\", \"ANKRD29\", \"TCEAL2\", \"DIPK2B\", \"SPACA6-AS1\", \"CPT1C\", \"NUPR2\", \"FAM9B\", \"RPL7\", \"ADRA2B\", \"NBAT1\", \"PDE1C\", \"ASXL3\", \"CNMD\", \"LINC00501\", \"MIR4692\", \"FST\", \"SH3PXD2A-AS1\", \"DCAF13P3\", \"PNMA6A\", \"PPP1R9A\", \"KCNK1\", \"SYT16\", \"EEF1B2\", \"LIFR\", \"A4GALT\", \"RRH\", \"FAM167A-AS1\", \"MYMX\", \"LINC01287\", \"HOXA7\", \"RPEL1\", \"WNT7B\", \"DSG3\", \"RBP2\", \"LINC02562\", \"LINC01623\", \"PTPRK-AS1\", \"TSHB\", \"PTPN20\", \"RPS7\", \"LINC01781\", \"TBXT\", \"HHIP\", \"HEY2-AS1\", \"TCEAL9\", \"IQANK1\", \"CSN1S1\", \"IL22\", \"NKX3-1\", \"GYS2\", \"LINC00545\", \"FAM90A25P\", \"SPATA12\", \"ZIM2\", \"VWA3B\", \"IGHV3-36\", \"CACNA2D1\", \"RPL21\", \"PPIAP46\", \"STMN4\", \"GOLGA8S\", \"BMS1P2\", \"IGHV3-72\", \"CYP51A1-AS1\", \"BRS3\", \"SGCD\", \"SLC10A5\", \"LINC02088\", \"ST8SIA6-AS1\", \"OR2C1\", \"OR1F2P\", \"EDIL3\", \"RPL39\", \"CD5L\", \"KRTAP4-12\", \"TSLP\", \"LINC01085\", \"TOMM7\", \"GORAB-AS1\", \"ATP10B\", \"LINC00923\", \"CIDEC\", \"RNA5-8SN4\", \"ASB9\", \"KRTAP10-2\", \"ATOH7\", \"ARHGEF26-AS1\", \"AQP7P1\", \"WFDC21P\", \"ALB\", \"PICART1\", \"NKX6-3\", \"HTR3B\", \"IGHD4-4\", \"C8orf89\", \"LINC02099\", \"ZNF503-AS1\", \"ACSL3-AS1\", \"TLE1-DT\", \"DGKK\", \"TMPRSS11D\", \"DNAJC12\", \"PRND\", \"LINC02864\", \"SLC44A5\", \"SNORA23\", \"BCYRN1\", \"PTPRG-AS1\", \"PDIA2\", \"TMEM18-DT\", \"ACSM4\", \"COX6C\", \"FGF7P6\", \"FGF7P6\", \"RPL22L1\", \"SIK1\", \"CASC15\", \"PEG3\", \"FABP4\", \"SNORA36C\", \"CLDN18\", \"MRAP\", \"NPIPB8\", \"CDH2\", \"ZNF215\", \"DKK4\", \"COMMD6\", \"LINC02520\", \"NECTIN3-AS1\", \"ZNF479\", \"FNDC1\", \"CALCA\", \"PANX3\", \"LOC105374811\", \"ATP8B5P\", \"ATP8B5P\", \"IGLL3P\", \"LOC105369850\", \"IL26\", \"PSMB11\", \"MIR1972-1\", \"LINC01307\", \"C11orf87\", \"DLG3-AS1\", \"LOC731157\", \"SLC44A4\", \"SLC16A2\", \"TUBA3E\", \"KCNH1\", \"KRTAP4-6\", \"TMEM151A\", \"LOC105378976\", \"RP1L1\", \"GSTM1\", \"LINC02573\", \"CFAP97D2\", \"C10orf90\", \"KRT17P1\", \"GALNT18\", \"LINC02947\", \"MKRN3\", \"LINC01684\", \"CCDC27\", \"SMIM9\", \"FAM72C\", \"LOC105373346\", \"LINC01798\", \"HMCN2\", \"OSTCP1\", \"LINC00278\", \"KLHDC7A\", \"LOC105371361\", \"TSPYL6\", \"TMEM213\", \"NPIPB9\", \"PLN\", \"LINC01724\", \"SLC47A1P2\", \"GRM6\", \"PGM5P4-AS1\", \"SFTA2\", \"LINC01979\", \"NETO1-DT\", \"MIR3681HG\", \"SPDYC\", \"ANK2\", \"SNORD13E\", \"TRPM3\", \"LOC101927571\", \"LAMA4\", \"TLR8-AS1\", \"YAP1\", \"CTNNA3\", \"LHX6\", \"CCL15\", \"LINC02319\", \"GPR176-DT\", \"SLX1A\", \"APOBEC4\", \"CASP12\", \"LINC02842\", \"LOC105376219\", \"OCLN\", \"LOC102723553\", \"CXXC4\", \"C9orf153\", \"RPL23\", \"ZNF423\", \"LINC01374\", \"LRRD1\", \"SMCO2\", \"LOC105373175\", \"CA3\", \"PROP1\", \"MIR27B\", \"TBPL2\", \"RXFP1\", \"FOXE1\", \"SNORA37\", \"FSIP2\", \"PPP1R13B-DT\", \"LINC01978\", \"GAGE10\", \"CYYR1-AS1\", \"NCKAP5\", \"INHBC\", \"INA\", \"C6orf58\", \"KBTBD12\", \"C22orf42\", \"C1orf21-DT\", \"LINC02935\", \"MIR503\", \"FLJ30679\", \"MROH5\", \"LINC02236\", \"LOC101928896\", \"ARPC4-TTLL3\", \"LYZL6\", \"YWHAEP7\", \"YWHAEP7\", \"LINC01827\", \"DPP10\", \"CLLU1-AS1\", \"CASC19\", \"PCAT2\", \"LOC105370616\", \"KRTAP10-9\", \"CYP26A1\", \"MIR3178\", \"RGN\", \"KIR3DL3\", \"RXYLT1-AS1\", \"CYP21A2\", \"IGLVI-56\", \"FBXW12\", \"SEBOX\", \"HRNR\", \"FBLL1\", \"ZNF30-AS1\", \"PLA2G1B\", \"KCNIP1\", \"PCAT7\", \"PGM5P4\", \"SOX2-OT\", \"CD99\", \"CCL18\", \"PTHLH\", \"DKK2\", \"SNAP91\", \"ZMAT4\", \"EMX1\", \"ALOXE3\", \"RPS24\", \"LINC01700\", \"CCDC33\", \"FGF13-AS1\", \"LINC01505\", \"LOC107987108\", \"LRCOL1\", \"WIPF3\", \"IL6\", \"TRH\", \"DUSP15\", \"MUSK\", \"MIR4782\", \"WNT5A\", \"SHC4\", \"LOC101929297\", \"OR1J4\", \"IGSF10\", \"SNORD19\", \"LINC01954\", \"APLNR\", \"TMEM37\", \"CSE1L-DT\", \"FILNC1\", \"HCG22\", \"H2AB1\", \"ZNF197-AS1\", \"LINC00367\", \"LCN8\", \"HSFX3\", \"TMEM52\", \"NEUROG3\", \"LINC01293\", \"IGHV3-33-2\", \"TJP1\", \"GALNT16\", \"STX19\", \"LOC105370105\", \"STEAP1\", \"ADGRB3\", \"LOC105372316\", \"MIR4755\", \"PRSS45P\", \"DDC\", \"SPDYE7P\", \"LRRC58-DT\", \"GLI3\", \"SELE\", \"KRT17P2\", \"SKIDA1\", \"FGD5P1\", \"FGD5P1\", \"SPESP1\", \"TAT\", \"SLC35G3\", \"LOC101927690\", \"ABCG4\", \"ICOSLG\", \"SLC9C2\", \"BVES\", \"MAGI1\", \"CLVS1\", \"RD3L\", \"GPR4\", \"RPL31\", \"C1QTNF3-AMACR\", \"XDH\", \"DEFB131B\", \"HDAC9-AS1\", \"FRAS1\", \"ADGRL3\", \"TAS2R46\", \"RBP1\", \"MRAP-AS1\", \"TBC1D26\", \"SNORD111B\", \"PRDM10-DT\", \"SLC26A5-AS1\", \"METTL27\", \"RPS6KA2-IT1\", \"SPATA31C2\", \"MESTIT1\", \"SYCP2L\", \"CTXND2\", \"DMRTC1B\", \"RNF17\", \"INSRR\", \"SNORD3J\", \"LOC102723446\", \"CPNE6\", \"FIGN\", \"ITFG2-AS1\", \"SMIM18\", \"TCHH\", \"MOXD2P\", \"UQCRB\", \"IGLON5\", \"NR2F2\", \"LINC00158\", \"LINC01811\", \"RPL23P8\", \"ABCA4\", \"CHKA-DT\", \"TRBV12-1\", \"AREG\", \"NES\", \"PCDH9-AS2\", \"CLEC2A\", \"PRKAR1B-AS2\", \"TEX12\", \"DAZL\", \"TMEM14EP\", \"HSPA12B\", \"LCN15\", \"ZNRF3-AS1\", \"SELENOKP3\", \"CASKIN1\", \"FAM181B\", \"MIR3134\", \"RASGEF1C\", \"CCDC89\", \"LINC01565\", \"MIR5000\", \"TMPRSS11E\", \"IL2\", \"EVA1A\", \"SYTL5\", \"LOC101929109\", \"PRO1804\", \"LOC105371855\", \"CFAP69\", \"LOC101928557\", \"MSTN\", \"FAM182A\", \"DACH2\", \"FBN3\", \"HS6ST2\", \"ITIH5\", \"LINC00486\", \"CHSY3\", \"RPL21P28\", \"DCLRE1CP1\", \"EPCAM-DT\", \"LINC02531\", \"C19orf67\", \"SP6\", \"RPL34\", \"LOC101929566\", \"GABRB3\", \"LINC01511\", \"DDX59-AS1\", \"TAS2R19\", \"PPIAL4A\", \"CETN4P\", \"RNU6-8\", \"PNMA8A\", \"RPLP0P2\", \"SHISA3\", \"KIF25\", \"SLC7A3\", \"ELAVL4\", \"COL11A1\", \"VWDE\", \"TBILA\", \"SHISA2\", \"DUXAP8\", \"LDHC\", \"NDUFV1-DT\", \"ATRNL1\", \"OCA2\", \"CCDC26\", \"LINC00977\", \"LINC00976\", \"KCNV2\", \"NYAP2\", \"UQCRBP1\", \"RPS4Y2\", \"WARS2-IT1\", \"DGCR6\", \"ZNF225-AS1\", \"PKIA-AS1\", \"SNORA22C\", \"LOC439933\", \"P2RX6P\", \"LRRC77P\"], \"hovertemplate\": \"<i>gene symbol</i>: %{text}\"}, {\"x\": [-5.0, 5.0], \"y\": [1.3010299956639813, 1.3010299956639813], \"mode\": \"lines\", \"type\": \"scatter\", \"line\": {\"color\": \"gray\", \"dash\": \"dot\"}, \"showlegend\": false}];\\nif (log2fc_cutoff == \\'0\\'){\\n\\tvar volcano_layout = {\\n\\t\\t// xaxis: {\\n\\t\\t// \\trange: [-10, 10]\\n\\t\\t// },\\n\\t\\t// yaxis: {\\n\\t\\t// \\trange: [0, 10]\\n\\t\\t// },\\n\\t\\ttitle: {\\n\\t\\t\\ttext:\\'\\',\\n\\t\\t\\tfont:{\\n\\t\\t\\t\\tsize:25,\\n\\t\\t\\t},\\n\\t\\t},\\n\\t\\tmargin: {\\n\\t\\t\\tl:40,\\n\\t\\t\\tr:40,\\n\\t\\t\\tt:20,\\n\\t\\t\\tb:60\\n\\t\\t},\\n\\t\\txaxis: {\\n\\t\\t\\ttitle: {text: \\'Log2FC\\'}\\n\\t\\t},\\n\\t\\tyaxis: {\\n\\t\\t\\ttitle: {text: \\'-Log10(Adjusted P-value)\\'}\\n\\t\\t},\\n\\t\\tlegend:{\\n\\t\\t\\ttitle:{\\n\\t\\t\\t\\tfont:{\\n\\t\\t\\t\\t\\tsize:50,\\n\\t\\t\\t\\t},\\n\\t\\t\\t},\\n\\t\\t},\\n\\t\\tannotations: [\\n\\t\\t\\t{\\n\\t\\t\\t  x: -5.0,\\n\\t\\t\\t  y: -Math.log10(0.05),\\n\\t\\t\\t  xref: \\'x\\',\\n\\t\\t\\t  yref: \\'y\\',\\n\\t\\t\\t  text: -Math.round(Math.log10(0.05)*Math.pow(10,2))/Math.pow(10,2),\\n\\t\\t\\t  showarrow: true,\\n\\t\\t\\t  arrowhead: 2,\\n\\t\\t\\t  ay: 0,\\n\\t\\t\\t}\\n\\t\\t],\\n\\t\\t\\n\\t};\\n}else{\\n\\tvar volcano_layout = {\\n\\t\\t// xaxis: {\\n\\t\\t// \\trange: [-10, 10]\\n\\t\\t// },\\n\\t\\t// yaxis: {\\n\\t\\t// \\trange: [0, 10]\\n\\t\\t// },\\n\\t\\ttitle: {\\n\\t\\t\\ttext:\\'\\',\\n\\t\\t\\tfont:{\\n\\t\\t\\t\\tsize:25,\\n\\t\\t\\t},\\n\\t\\t\\t\\n\\t\\t},\\n\\t\\tmargin: {\\n\\t\\t\\tl:40,\\n\\t\\t\\tr:40,\\n\\t\\t\\tt:20,\\n\\t\\t\\tb:60\\n\\t\\t},\\n\\t\\txaxis: {\\n\\t\\t\\ttitle: {text: \\'Log2FC\\'}\\n\\t\\t},\\n\\t\\tyaxis: {\\n\\t\\t\\ttitle: {text: \\'-Log10(Adjusted P-value)\\'}\\n\\t\\t},\\n\\t\\tlegend:{\\n\\t\\t\\ttitle:{\\n\\t\\t\\t\\tfont:{\\n\\t\\t\\t\\t\\tsize:50,\\n\\t\\t\\t\\t},\\n\\t\\t\\t},\\n\\t\\t\\t\\n\\t\\t},\\n\\t\\t  annotations: [\\n\\t\\t\\t{\\n\\t\\t\\t  x: -0-0.5,\\n\\t\\t\\t  y: 1.0,\\n\\t\\t\\t  xref: \\'x\\',\\n\\t\\t\\t  yref: \\'y\\',\\n\\t\\t\\t  text: -0,\\n\\t\\t\\t  showarrow: true,\\n\\t\\t\\t  arrowhead: 2,\\n\\t\\t\\t  ay: 0,\\n\\t\\t\\t  ax: -9,\\n\\t\\t\\t},\\n\\t\\t\\t{\\n\\t\\t\\t  x: 0+0.5,\\n\\t\\t\\t  y: 1.0,\\n\\t\\t\\t  xref: \\'x\\',\\n\\t\\t\\t  yref: \\'y\\',\\n\\t\\t\\t  text: 0,\\n\\t\\t\\t  showarrow: true,\\n\\t\\t\\t  arrowhead: 2,\\n\\t\\t\\t  ay: 1,\\n\\t\\t\\t  ax: 7,\\n\\t\\t\\t},\\n\\t\\t\\t{\\n\\t\\t\\t  x: -5.0,\\n\\t\\t\\t  y: -Math.log10(0.05),\\n\\t\\t\\t  xref: \\'x\\',\\n\\t\\t\\t  yref: \\'y\\',\\n\\t\\t\\t  text: -Math.round(Math.log10(0.05)*Math.pow(10,2))/Math.pow(10,2),\\n\\t\\t\\t  showarrow: true,\\n\\t\\t\\t  arrowhead: 2,\\n\\t\\t\\t  ay: 0,\\n\\t\\t\\t}\\n\\t\\t  ],\\n\\t};\\n}\\nPlotly.newPlot(\\'volcano\\', volcano_data, volcano_layout);\\n</script>\\n\\t\\t\\t\\t\\t\\t<h3 class=\"panel-heading\" id=\"list-item-3\" style=\"margin: 1rem 0 0rem 0 ;background-color: #17a2b8;color: #ffffff;\">\\n\\tHeatmap</h3>\\n\\n<div class=\"container col-12\">\\n\\tNot Available\\n</div>\\n\\n\\n\\n<script>\\n\\ttrace1 = {\\n\\t  type: \\'heatmap\\', \\n\\t  x: , \\n\\t  y: ,\\n\\t  z: ,\\n\\t  colorscale: [[\\'0.0\\', \\'rgb(94,79,162)\\'], [\\'0.1\\', \\'rgb(50,136,189)\\'], [\\'0.2\\', \\'rgb(102,194,165)\\'], [\\'0.3\\', \\'rgb(171,221,164)\\'], [\\'0.4\\', \\'rgb(230,245,152)\\'], [\\'0.5\\', \\'rgb(255,255,191)\\'], [\\'0.6\\', \\'rgb(254,224,139)\\'], [\\'0.7\\', \\'rgb(253,174,97)\\'], [\\'0.8\\', \\'rgb(244,109,67)\\'], [\\'0.9\\', \\'rgb(213,62,79)\\'], [\\'1.0\\', \\'rgb(158,1,66)\\']],\\n\\t  showscale: true,\\n\\t  colorbar: {title: \\'Z-Score\\'},\\n\\t};\\n\\tdata = [trace1];\\n\\tlayout = {\\n\\t  title: \\'\\', \\n\\t  margin: {\\n\\t  \\tl:40,\\n\\t  \\tr:40,\\n\\t  \\tt:20,\\n\\t  \\tb:60\\n\\t  },\\n\\t  bargap: 0.1, \\n\\t  legend: {\\n\\t\\tfont: {color: \\'#666666\\'}, \\n\\t\\tbgcolor: \\'#FFFFFF\\',\\n\\t\\ttitle: {text: \\'z-Score\\'}\\n\\t  }, \\n\\t  xaxis1: {\\n\\t\\ttitle: \\'\\', \\n\\t\\tshowgrid: true, \\n\\t\\ttickfont: {color: \\'#666666\\'}, \\n\\t\\tgridcolor: \\'#F6F6F6\\', \\n\\t\\ttitlefont: {color: \\'#666666\\'}, \\n\\t\\tzerolinecolor: \\'#F6F6F6\\'\\n\\t  }, \\n\\t  yaxis1: {\\n\\t\\ttitle: \\'\\', \\n\\t\\tshowgrid: true, \\n\\t\\ttickfont: {color: \\'#666666\\'}, \\n\\t\\tgridcolor: \\'#F6F6F6\\', \\n\\t\\ttitlefont: {color: \\'#666666\\'}, \\n\\t\\tzerolinecolor: \\'#F6F6F6\\',\\n\\t\\tshowticklabels: false,\\n\\t\\tticks: \\'\\'\\n\\n\\t  }, \\n\\t  titlefont: {color: \\'#151516\\'}, \\n\\t  plot_bgcolor: \\'#E5E5E5\\', \\n\\t  paper_bgcolor: \\'#FFFFFF\\'\\n\\t};\\n\\tPlotly.newPlot(\\'heatmap\\', {\\n\\t  data: data,\\n\\t  layout: layout\\n\\t});\\n</script>\\n\\n\\t\\t\\t\\t\\t\\t<h3 class=\"panel-heading\" id=\"list-item-4\"\\n\\tstyle=\"margin: 1rem 0 0rem 0 ;background-color: #17a2b8;color: #ffffff;\">Enriched regulations/functions/pathways</h3>\\n<!-- Nav pills -->\\n<h3 style=\"margin: 0rem 0 0rem 0 ;background-color: #ffffff;color: #17a2b8;\">\\n\\t<ul class=\"nav nav-pills nav-tabs\" role=\"tablist\" id=\"myTab\">\\n\\t\\t<li class=\"nav-item\">\\n\\t\\t\\t<a class=\"nav-link active\" data-toggle=\"pill\" href=\"#\"\\n\\t\\t\\t\\tonclick=\"changeTab(\\'tf\\')\">Up stream</a>\\n\\t\\t</li>\\n\\t\\t<li class=\"nav-item\" id=\"menu1_tab\" background=\\'#17a2b8\\'>\\n\\t\\t\\t<a class=\"nav-link dropdown-toggle\" data-toggle=\"dropdown\" href=\"#\" role=\"button\"\\n\\t\\t\\t\\taria-haspopup=\"true\" aria-expanded=\"true\" style=\"color: #17a2b8;background-color: #ffffff;\">Down stream</a>\\n\\t\\t\\t<div class=\"dropdown-menu\">\\n\\t\\t\\t\\t<a class=\"dropdown-item\" data-toggle=\"pill\" href=\"#\" id=\\'go_bp\\'\\n\\t\\t\\t\\t\\tonclick=\"changeTab(\\'go\\')\">GO</a>\\n\\t\\t\\t\\t<a class=\"dropdown-item\" data-toggle=\"pill\" href=\"#\" id=\\'kegg_\\'\\n\\t\\t\\t\\t\\tonclick=\"changeTab(\\'kegg\\')\">KEGG</a>\\n\\t\\t\\t\\t\\n\\t\\t\\t\\t<a class=\"dropdown-item\" data-toggle=\"pill\" href=\"#\"\\n\\t\\t\\t\\t\\tonclick=\"changeTab(\\'gsea\\')\">GSEA</a>\\n\\t\\t\\t\\t\\n\\t\\t\\t</div>\\n\\t\\t</li>\\n\\t</ul>\\n\\t\\n<!-- \\t<ul class=\"nav nav-tabs\" role=\"tablist\" id=\"myTab\">\\n\\t\\t<li class=\"nav-item\">\\n\\t\\t\\t<a class=\"nav-link active\" data-toggle=\"tab\" href=\"#go\"  id=\\'go_bp\\'>GO</a>\\n\\t\\t</li>\\n\\t\\t<li class=\"nav-item\">\\n\\t\\t\\t<a class=\"nav-link\" data-toggle=\"tab\" href=\"#kegg\"  id=\\'kegg_\\'>KEGG</a>\\n\\t\\t</li>\\n\\t\\t<li class=\"nav-item\">\\n\\t\\t\\t<a class=\"nav-link\" data-toggle=\"tab\" href=\"#gsea\">GSEA</a>\\n\\t\\t</li>\\n\\t</ul> -->\\n</h3>\\n<!-- Tab panes -->\\n<div class=\"tab-content\" id=\"myTabContent\" style=\"color: #17a2b8;background-color: #ffffff;\">\\n\\t\\n\\t<div id=\"tf\" class=\"container tab-pane fade\"><br>\\n\\t\\t\\n\\t\\t<div class=\"container col-12\">\\n\\t\\t\\tNot Available\\n\\t\\t</div>\\n\\t\\t\\n\\t\\t<script>\\n\\t\\tvar tfenrich_data = None;\\n\\t\\t<!--\\xe7\\xac\\xac\\xe4\\xb8\\x89\\xe6\\xad\\xa5\\xef\\xbc\\x9a\\xe5\\x88\\x9d\\xe5\\xa7\\x8b\\xe5\\x8c\\x96Datatables-->\\n\\t\\t\\n\\t\\t$(\\'#tf_table\\').DataTable({\\n\\t\\t\\tresponsive: {\\n\\t\\t\\t\\tdetails: {\\n\\t\\t\\t\\t\\ttype: \\'column\\',\\n\\t\\t\\t\\t\\ttarget: \\'tr\\'\\n\\t\\t\\t\\t}\\n\\t\\t\\t},\\n\\t\\t\\tcolumnDefs: [ {\\n\\t\\t\\t\\tclassName: \\'control\\',\\n\\t\\t\\t\\torderable: false,\\n\\t\\t\\t\\ttargets:   7,\\n\\t\\t\\t} ],\\n\\t\\t\\tdata: tfenrich_data,\\n\\t\\t\\torder: [[ 4, \"asc\" ],[ 7, \"desc\"]],\\n\\t\\t\\tdom: \"<\\'row\\'<\\'col-sm-12 col-md-1\\'B><\\'col-sm-12 col-md-8\\'i><\\'col-sm-12 col-md-3\\'f>>\" +\\n\\t\\t\\t\\t\"<\\'row\\'<\\'col-sm-12\\'tr>>\" +\\n\\t\\t\\t\\t\"<\\'row\\'<\\'col-sm-12 col-md-6\\'l><\\'col-sm-12 col-md-6\\'p>>\",\\n\\t\\t\\tbuttons: [{\\n\\t\\t\\t\\t\\t\\textend: \\'csv\\',\\n\\t\\t\\t\\t\\t\\ttext: \"\",\\n\\t\\t\\t\\t\\t\\tclassName: \"icon_\",\\n\\t\\t\\t\\t\\t\\t}],\\n\\t\\t\\t//\\xe4\\xbd\\xbf\\xe7\\x94\\xa8\\xe5\\xaf\\xb9\\xe8\\xb1\\xa1\\xe6\\x95\\xb0\\xe7\\xbb\\x84\\xef\\xbc\\x8c\\xe4\\xb8\\x80\\xe5\\xae\\x9a\\xe8\\xa6\\x81\\xe9\\x85\\x8d\\xe7\\xbd\\xaecolumns\\xef\\xbc\\x8c\\xe5\\x91\\x8a\\xe8\\xaf\\x89 DataTables \\xe6\\xaf\\x8f\\xe5\\x88\\x97\\xe5\\xaf\\xb9\\xe5\\xba\\x94\\xe7\\x9a\\x84\\xe5\\xb1\\x9e\\xe6\\x80\\xa7\\n\\t\\t\\t//data \\xe8\\xbf\\x99\\xe9\\x87\\x8c\\xe6\\x98\\xaf\\xe5\\x9b\\xba\\xe5\\xae\\x9a\\xe4\\xb8\\x8d\\xe5\\x8f\\x98\\xe7\\x9a\\x84\\xef\\xbc\\x8cname\\xef\\xbc\\x8cposition\\xef\\xbc\\x8csalary\\xef\\xbc\\x8coffice \\xe4\\xb8\\xba\\xe4\\xbd\\xa0\\xe6\\x95\\xb0\\xe6\\x8d\\xae\\xe9\\x87\\x8c\\xe5\\xaf\\xb9\\xe5\\xba\\x94\\xe7\\x9a\\x84\\xe5\\xb1\\x9e\\xe6\\x80\\xa7\\n\\t\\t\\tcolumns: [\\n\\t\\t\\t\\t\\n\\t\\t\\t\\t// { \\n\\t\\t\\t\\t// \\tdata: \\'termid\\',\\n\\t\\t\\t\\t// \\t\"render\": function(data, type, row, meta){\\n\\t\\t\\t\\t// \\t\\tif(type === \\'display\\'){\\n\\t\\t\\t\\t// \\t\\t\\t\\tdata = \\'<a href=\"\\' + \\'javascript:void(0);\\' + \\'\" onclick=\"\" data-toggle=\"modal\" data-target=\"#gseaModal\" style=\"color: #4f9eee;\">\\' + data + \\'</a>\\';\\n\\t\\t\\t\\t// \\t\\t\\t}\\n\\t\\t\\t\\t// \\t\\treturn data;\\n\\t\\t\\t\\t// \\t}\\n\\t\\t\\t\\t// \\t},\\n\\t\\t\\t\\t{ data: \\'termid\\' },\\n\\t\\t\\t\\t{ data: \\'regulation\\' },\\n\\t\\t\\t\\t{ data: \\'generatio\\' },\\n\\t\\t\\t\\t{ data: \\'bgratio\\' },\\n\\t\\t\\t\\t// { data: \\'nes\\' },\\n\\t\\t\\t\\t{ data: \\'pvalue\\' },\\n\\t\\t\\t\\t{ data: \\'adjpvalue\\' },\\n\\t\\t\\t\\t// {\\n\\t\\t\\t\\t// \\tdata: \\'core_enrichment\\' ,\\n\\t\\t\\t\\t// \\tvisible: true,\\n\\t\\t\\t\\t// \\t\"render\": function(data, type, row, meta){\\n\\t\\t\\t\\t// \\t\\tif(type === \\'display\\'){\\n\\t\\t\\t\\t// \\t\\t\\tdata = \\'<span class=\"show-popover\" data-toggle=\"popover\" title=\"\\' + data + \\'\">\\' + data.trim().substr(0,10) + \\'...\\' + \\'</span>\\';\\n\\t\\t\\t\\t// \\t\\t}\\n\\t\\t\\t\\t\\t\\n\\t\\t\\t\\t// \\t\\treturn data;\\n\\t\\t\\t\\t// \\t}\\n\\t\\t\\t\\t// },\\n\\t\\t\\t\\t{ data: \\'core_enrichment\\' },\\n\\t\\t\\t\\t{\\n\\t\\t\\t\\t\\tdata: \\'core_enrichment\\',\\n\\t\\t\\t\\t\\trender: function(data, type, row) {\\n\\t\\t\\t\\t\\t\\treturn \\'\\';\\n\\t\\t\\t\\t\\t}\\n\\t\\t\\t\\t},\\n\\t\\t\\t\\t{ data: \\'count\\' },\\n\\t\\t\\t\\t// {\\n\\t\\t\\t\\t// \\tdata: \\'termid\\',\\n\\t\\t\\t\\t// \\t\"render\": function(data, type, row, meta){\\n\\t\\t\\t\\t// \\t\\tif(type === \\'display\\'){\\n\\t\\t\\t\\t// \\t\\t\\tdata = \\'<button data-toggle=\"modal\" data-target=\"#gseaModal\" onclick=\"\" style=\"background: url(/pertorg_static/img/gsea2.png);width: 2.5rem;height: 2.5rem;border: none;\" value=\"\\' + data + \\'\"></button>\\'\\n\\t\\t\\t\\t// \\t\\t}\\n\\t\\t\\t\\t// \\t\\treturn data;\\n\\t\\t\\t\\t// \\t},\\n\\t\\t\\t\\t// }\\n\\t\\t\\t]\\n\\t\\t});\\n\\t\\t</script>\\n\\t</div>\\n\\t\\n\\t\\n\\t<div id=\"gsea\" class=\"container tab-pane fade\"><br>\\n\\t\\t\\n\\t\\t<table id=\"gsea_table\" class=\"display\" style=\"width: 100%;color: #000000;\">\\n\\t\\t\\t <thead>\\n\\t\\t\\t\\t<tr>\\n\\t\\t\\t\\t\\t<th>ID</th>\\n\\t\\t\\t\\t\\t<th>Terms</th>\\n\\t\\t\\t\\t\\t<th>Size</th>\\n\\t\\t\\t\\t\\t<th>ES</th>\\n\\t\\t\\t\\t\\t<th>NES</th>\\n\\t\\t\\t\\t\\t<th>P-value</th>\\n\\t\\t\\t\\t\\t<th>Adjusted P-value</th>\\n\\t\\t\\t\\t\\t<th>Plot</th>\\n\\t\\t\\t\\t</tr>\\n\\t\\t\\t</thead>\\n\\t\\t</table>\\n\\t\\t\\n\\t\\t<script>\\n\\t\\tvar GSEA_data = [{\\'termid\\': \\'hsa00970\\', \\'description\\': \\'Aminoacyl-tRNA biosynthesis\\', \\'setsize\\': 66, \\'enrichmentscore\\': 0.967, \\'nes\\': 3.052, \\'pvalue\\': \\'0.00e+00\\', \\'adjpvalue\\': \\'0.00e+00\\', \\'qvalue\\': 0.0, \\'core_enrichment\\': \\'TRNE/TRNS1/TRNA/TRNN/TRNV/TRNL1/TRNC/TRNF/TRNM/TRNY/TRNK/TRNI/TRNG/TRNL2/TRNR/TRNH/TRNS2/TRND/TRNW/TRNQ\\'}, {\\'termid\\': \\'hsa03010\\', \\'description\\': \\'Ribosome\\', \\'setsize\\': 132, \\'enrichmentscore\\': -0.617, \\'nes\\': -2.2, \\'pvalue\\': \\'0.00e+00\\', \\'adjpvalue\\': \\'0.00e+00\\', \\'qvalue\\': 0.0, \\'core_enrichment\\': \\'RPS12/RPS15A/MRPL13/RPL32/MRPS18C/RPS8/RPS4Y1/RPS14/RPL22/RPL5/RPS23/MRPL22/RPL6/RPL26L1/RPS6/RPS27L/RPL35A/RPL35/RPS18/RPL24/RPL27/RPL37/MRPL1/RSL24D1/RPL10L/RPS20/RPS21/RPS17/RPL11/RPS25/RPL41/RPS29/RPS27A/RPL9/RPL26/RPS27/RPS3A/RPL7/RPS7/RPL21/RPL39/RNA5-8SN4/RPL22L1/RPL23/RPS24/RPL31/RPL34/RPS4Y2\\'}, {\\'termid\\': \\'hsa05171\\', \\'description\\': \\'Coronavirus disease - COVID-19\\', \\'setsize\\': 210, \\'enrichmentscore\\': -0.401, \\'nes\\': -1.515, \\'pvalue\\': \\'1.00e-03\\', \\'adjpvalue\\': \\'1.18e-01\\', \\'qvalue\\': 0.118, \\'core_enrichment\\': \\'RPS12/RPS15A/RPL32/RPS8/RPS4Y1/NRP1/RPS14/RPL22/RPL5/CSF2/RPS23/RPL6/RPL26L1/RPS6/RPS27L/ACE2/RPL35A/RPL35/C7/RPS18/RPL24/CXCL10/RPL27/RPL37/CSF3/RSL24D1/RPL10L/RPS20/RPS21/RPS17/RPL11/RPS25/RPL41/RPS29/RPS27A/IFNA5/RPL9/RPL26/RPS27/RPS3A/RPL7/RPS7/RPL21/RPL39/RPL22L1/RPL23/RPS24/IL6/RPL31/IL2/RPL34/RPS4Y2\\'}, {\\'termid\\': \\'hsa05168\\', \\'description\\': \\'Herpes simplex virus 1 infection\\', \\'setsize\\': 495, \\'enrichmentscore\\': -0.305, \\'nes\\': -1.256, \\'pvalue\\': \\'9.00e-03\\', \\'adjpvalue\\': \\'7.60e-01\\', \\'qvalue\\': 0.76, \\'core_enrichment\\': \\'ZNF416/ZNF28/ZNF426/ZNF620/ZNF77/PTPN11/ZNF875/ZNF793/ZNF766/ZNF160/ZNF549/ZNF583/ZNF814/ZNF519/ZNF597/CD74/ZNF425/LOC122539214/SRSF6/ZNF799/ZNF675/ZNF669/ZNF555/ZNF891/ZNF486/ZNF248/FAS/ZNF773/ZNF343/ZNF57/SRSF7/CYCS/ZNF623/PIK3CA/TRAF5/ZNF175/ZNF441/ZNF275/HCFC2/ZNF853/ZNF585B/ZNF90/ZNF506/ZNF786/MAP3K7/ZNF432/ZNF320/ZNF782/ZNF43/ZNF417/ZNF846/ZNF12/ZNF761/ZNF10/PIK3R1/ZNF195/ZNF649/ZNF790/ZNF234/LTA/ZNF224/ZNF718/ZNF264/ZNF184/ZNF431/ZNF658/ZNF627/ZNF284/ZNF888/ZNF222/ZNF382/CCL2/ZNF225/ZNF621/AKT3/HLA-DOB/ZNF845/ZNF527/ZNF347/ZNF490/ZNF235/ZNF780B/ZNF805/ZNF665/ZNF254/ZNF141/ZNF671/ZNF850/ZNF529/ZNF26/SRSF8/ZNF530/ZNF763/ZNF596/ZNF582/ZNF836/CASP3/HLA-DPA1/EIF2AK3/ZNF543/ZNF350/ZFP37/ZNF66/ZNF136/HLA-DRA/ZNF714/ZNF613/ZNF419/ZNF398/ZNF304/BCL2/ZNF84/ZNF354A/ZNF484/ZNF614/ZNF17/ZNF180/ZNF525/ZNF223/ZNF470/ZNF829/ZNF606/ZFP69B/ZNF331/ZNF709/ZNF565/ZNF226/ZNF268/ZNF566/ZNF605/ZNF599/ZNF550/ZNF93/ZNF674/BIRC3/ZNF430/ZFP30/ZNF573/ZNF880/ZNF737/ZNF571/ZFP14/ZNF546/ZNF568/ZNF420/ZNF14/ZNF233/ZIK1/ZNF383/ZNF738/ZNF551/B2M/ZNF823/ZNF624/ZNF443/HLA-DOA/ZNF680/ZNF283/RBAK/ZNF91/ZNF540/ZNF205/ZNF461/ZNF177/ZNF256/ZNF253/ZNF607/ZNF585A/ZNF460/ZNF181/ZNF418/TLR3/ZNF19/ZNF569/IL12A/ZNF92/ZNF682/ZNF708/ZFP69/ZNF563/ZNF23/IFNA21/ZNF676/NXF2B/ZNF547/ZNF567/ZNF112/ZNF626/ZNF570/ZNF684/ZNF559/ZNF879/ZFP82/ZNF677/ZNF100/ZNF154/ZNF727/ZNF334/ZNF600/ZFP28/ZFP1/ZNF578/ZNF595/ZNF556/ZNF681/ZNF30/ZNF667/ZNF439/ZNF85/ZNF480/ZNF610/ZNF726/ZNF302/ZNF107/ZNF221/ZNF721/ZNF471/ZNF20/ZNF285/ZNF229/ZNF860/IFNG/ZNF157/ZNF257/ZNF135/ZNF214/ZFP57/ZNF492/ZNF772/ZNF534/ZNF732/ZNF404/ZNF98/ZNF728/ZNF208/ZNF311/IFNA5/ZNF716/ZNF415/ZNF479/IL6\\'}, {\\'termid\\': \\'hsa05217\\', \\'description\\': \\'Basal cell carcinoma\\', \\'setsize\\': 60, \\'enrichmentscore\\': -0.484, \\'nes\\': -1.532, \\'pvalue\\': \\'1.20e-02\\', \\'adjpvalue\\': \\'8.34e-01\\', \\'qvalue\\': 0.834, \\'core_enrichment\\': \\'AXIN2/WNT8A/FZD7/WNT9B/WNT9A/KIF7/FZD4/WNT3/BMP2/FZD8/BMP4/SHH/WNT7B/HHIP/WNT5A/GLI3\\'}, {\\'termid\\': \\'hsa04610\\', \\'description\\': \\'Complement and coagulation cascades\\', \\'setsize\\': 75, \\'enrichmentscore\\': 0.544, \\'nes\\': 1.763, \\'pvalue\\': \\'2.80e-02\\', \\'adjpvalue\\': \\'1.00e+00\\', \\'qvalue\\': 1.0, \\'core_enrichment\\': \\'C1QC/SERPING1/C1QB/VSIG4/F7/C1QA/F2/KNG1/CFD/C3AR1/SERPINB2/C8B/C4BPA/F3/C1R/MASP1/C3/F5/SERPINA1/PLAU/F13A1/PROS1/CD59/CR1/SERPIND1/CLU/KLKB1/C4BPB/PLAUR/ITGAM/ITGB2/PLG/C9\\'}, {\\'termid\\': \\'hsa04142\\', \\'description\\': \\'Lysosome\\', \\'setsize\\': 127, \\'enrichmentscore\\': 0.478, \\'nes\\': 1.68, \\'pvalue\\': \\'2.40e-02\\', \\'adjpvalue\\': \\'1.00e+00\\', \\'qvalue\\': 1.0, \\'core_enrichment\\': \\'AP3B2/HYAL4/CTSG/CTSE/ATP6V0D2/SLC11A1/CLTCL1/CD68/PPT1/CTSL/SORT1/CTSD/CTSW/CD63/AP1M2/PLA2G15/CTSB/ACP2/MCOLN1/CTSA/AP3S2/LAMP3/CTSH/ABCA2/LIPA/FUCA2/CLN3/GALNS/NAGA/AP1S1/HYAL1/TCIRG1/MAN2B1/LAPTM4A/NEU1/GNS/ATP6V0D1/HYAL2/GLA/HEXA/CTNS/SGSH/ARSG/DNASE2/AP1G2/CLTA/PPT2/NPC2/GGA1/AP3D1/LITAF/M6PR/GGA3/SLC11A2/TPP1/HYAL3/GM2A/CTSZ/NAGPA/PSAP/IDUA/GLB1/CLTB\\'}, {\\'termid\\': \\'hsa00650\\', \\'description\\': \\'Butanoate metabolism\\', \\'setsize\\': 25, \\'enrichmentscore\\': -0.583, \\'nes\\': -1.561, \\'pvalue\\': \\'2.30e-02\\', \\'adjpvalue\\': \\'1.00e+00\\', \\'qvalue\\': 1.0, \\'core_enrichment\\': \\'ACSM6/ACSM2B/GAD1/GAD2/ACSM5/ACSM4\\'}, {\\'termid\\': \\'hsa05150\\', \\'description\\': \\'Staphylococcus aureus infection\\', \\'setsize\\': 72, \\'enrichmentscore\\': 0.482, \\'nes\\': 1.559, \\'pvalue\\': \\'3.80e-02\\', \\'adjpvalue\\': \\'1.00e+00\\', \\'qvalue\\': 1.0, \\'core_enrichment\\': \\'C1QC/C1QB/FCGR1A/C1QA/DEFA4/KRT14/HLA-DRB5/CFD/C3AR1/KRT12/FCAR/C1R/MASP1/IL10/ICAM1/C3/HLA-DQA2/FCGR2A/KRT19/KRT23/ITGAM/ITGB2/FPR1/PLG/DEFA1/KRT17/DEFA1B\\'}, {\\'termid\\': \\'hsa04742\\', \\'description\\': \\'Taste transduction\\', \\'setsize\\': 70, \\'enrichmentscore\\': -0.441, \\'nes\\': -1.433, \\'pvalue\\': \\'2.50e-02\\', \\'adjpvalue\\': \\'1.00e+00\\', \\'qvalue\\': 1.0, \\'core_enrichment\\': \\'TAS1R1/TAS2R30/PKD2L1/HTR3A/HTR1D/ADCY8/GABRA2/PDE1A/SCNN1G/HTR3C/TAS2R10/P2RY1/TAS2R38/SCN9A/GRM4/TAS2R50/SCNN1B/TAS2R31/PLCB4/SCN2A/SCN3A/ENTPD2/ASIC2/GRM1/TRPM5/TAS2R42/CHRM3/PDE1C/HTR3B/TAS2R46/TAS2R19\\'}];\\n\\t\\t<!--\\xe7\\xac\\xac\\xe4\\xb8\\x89\\xe6\\xad\\xa5\\xef\\xbc\\x9a\\xe5\\x88\\x9d\\xe5\\xa7\\x8b\\xe5\\x8c\\x96Datatables-->\\n\\t\\t$(\\'#gsea_table\\').DataTable({\\n\\t\\t\\tdata: GSEA_data,\\n\\t\\t\\torder: [[ 5, \"asc\" ],[ 3, \"desc\"]],\\n\\t\\t\\tdom: \"<\\'row\\'<\\'col-sm-12 col-md-1\\'B><\\'col-sm-12 col-md-8\\'i><\\'col-sm-12 col-md-3\\'f>>\" +\\n\\t\\t\\t\\t\"<\\'row\\'<\\'col-sm-12\\'tr>>\" +\\n\\t\\t\\t\\t\"<\\'row\\'<\\'col-sm-12 col-md-6\\'l><\\'col-sm-12 col-md-6\\'p>>\",\\n\\t\\t\\tbuttons: [{\\n\\t\\t\\t\\t\\t\\textend: \\'csv\\',\\n\\t\\t\\t\\t\\t\\ttext: \"\",\\n\\t\\t\\t\\t\\t\\tclassName: \"icon_\",\\n\\t\\t\\t\\t\\t\\t}],\\n\\t\\t\\t//\\xe4\\xbd\\xbf\\xe7\\x94\\xa8\\xe5\\xaf\\xb9\\xe8\\xb1\\xa1\\xe6\\x95\\xb0\\xe7\\xbb\\x84\\xef\\xbc\\x8c\\xe4\\xb8\\x80\\xe5\\xae\\x9a\\xe8\\xa6\\x81\\xe9\\x85\\x8d\\xe7\\xbd\\xaecolumns\\xef\\xbc\\x8c\\xe5\\x91\\x8a\\xe8\\xaf\\x89 DataTables \\xe6\\xaf\\x8f\\xe5\\x88\\x97\\xe5\\xaf\\xb9\\xe5\\xba\\x94\\xe7\\x9a\\x84\\xe5\\xb1\\x9e\\xe6\\x80\\xa7\\n\\t\\t\\t//data \\xe8\\xbf\\x99\\xe9\\x87\\x8c\\xe6\\x98\\xaf\\xe5\\x9b\\xba\\xe5\\xae\\x9a\\xe4\\xb8\\x8d\\xe5\\x8f\\x98\\xe7\\x9a\\x84\\xef\\xbc\\x8cname\\xef\\xbc\\x8cposition\\xef\\xbc\\x8csalary\\xef\\xbc\\x8coffice \\xe4\\xb8\\xba\\xe4\\xbd\\xa0\\xe6\\x95\\xb0\\xe6\\x8d\\xae\\xe9\\x87\\x8c\\xe5\\xaf\\xb9\\xe5\\xba\\x94\\xe7\\x9a\\x84\\xe5\\xb1\\x9e\\xe6\\x80\\xa7\\n\\t\\t\\tcolumns: [\\n\\t\\t\\t\\t\\n\\t\\t\\t\\t// { \\n\\t\\t\\t\\t// \\tdata: \\'termid\\',\\n\\t\\t\\t\\t// \\t\"render\": function(data, type, row, meta){\\n\\t\\t\\t\\t// \\t\\tif(type === \\'display\\'){\\n\\t\\t\\t\\t// \\t\\t\\t\\tdata = \\'<a href=\"\\' + \\'javascript:void(0);\\' + \\'\" onclick=\"\" data-toggle=\"modal\" data-target=\"#gseaModal\" style=\"color: #4f9eee;\">\\' + data + \\'</a>\\';\\n\\t\\t\\t\\t// \\t\\t\\t}\\n\\t\\t\\t\\t// \\t\\treturn data;\\n\\t\\t\\t\\t// \\t}\\n\\t\\t\\t\\t// \\t},\\n\\t\\t\\t\\t{ data: \\'termid\\' },\\n\\t\\t\\t\\t{ data: \\'description\\' },\\n\\t\\t\\t\\t{ data: \\'setsize\\' },\\n\\t\\t\\t\\t{ data: \\'enrichmentscore\\' },\\n\\t\\t\\t\\t{ data: \\'nes\\' },\\n\\t\\t\\t\\t{ data: \\'pvalue\\' },\\n\\t\\t\\t\\t{ data: \\'adjpvalue\\' },\\n\\t\\t\\t\\t// { data: \\'qvalue\\' },\\n\\t\\t\\t\\t// { data: \\'tags\\' },\\n\\t\\t\\t\\t// { data: \\'list\\' },\\n\\t\\t\\t\\t// { data: \\'signal\\' },\\n\\t\\t\\t\\t{\\n\\t\\t\\t\\t\\tdata: \\'termid\\',\\n\\t\\t\\t\\t\\t\"render\": function(data, type, row, meta){\\n\\t\\t\\t\\t\\t\\tif(type === \\'display\\'){\\n\\t\\t\\t\\t\\t\\t\\tdata = \\'<button data-toggle=\"modal\" data-target=\"#gseaModal\" onclick=\"\" style=\"background: url(/diseasedb_static/img/gsea2.png);width: 2.5rem;height: 2.5rem;border: none;\" value=\"\\' + data + \\'\"></button>\\'\\n\\t\\t\\t\\t\\t\\t}\\n\\t\\t\\t\\t\\t\\treturn data;\\n\\t\\t\\t\\t\\t},\\n\\t\\t\\t\\t}\\n\\t\\t\\t]\\n\\t\\t});\\n\\t\\t</script>\\n\\t</div>\\n\\t\\n\\t<div id=\"go\" class=\"container tab-pane  active text-center\" >\\n\\t\\n\\t<div class=\"container col-12\">\\n\\t\\tNot Available\\n\\t</div>\\n\\t\\n\\t</div>\\n\\t\\n\\t<div id=\"kegg\" class=\"container tab-pane fade\" zzy=\\'kegg\\' ><br>\\n\\t\\t\\n\\t\\t<div class=\"container col-12\">\\n\\t\\t\\tNot Available\\n\\t\\t</div>\\n\\t\\t\\n\\t</div>\\n</div>\\n\\n<div class=\"modal fade\" id=\"gseaModal\" tabindex=\"1\" role=\"dialog\" aria-labelledby=\"gseaModalLabel\" aria-hidden=\"true\">\\n\\t<div class=\"modal-dialog\">\\n\\t\\t<div class=\"modal-content\">\\n\\t\\t\\t<div class=\"modal-header\">\\n\\t\\t\\t\\t<h4 class=\"modal-title\" id=\"gseaModalLabel\"></h4>\\n\\t\\t\\t\\t<button type=\"button\" class=\"close\" data-dismiss=\"modal\" aria-hidden=\"true\">\\n\\t\\t\\t\\t\\t&times;\\n\\t\\t\\t\\t</button>\\n\\t\\t\\t</div>\\n\\t\\t\\t<div id=\"gseaimg\"></div>\\n\\t\\t</div>\\n\\t</div>\\n</div>\\n\\n<!-- bubble -->\\n<script>\\n\\tlayout_bubble = {\\n\\t\\ttitle: \\'\\',\\n\\t\\t// width: 1000,\\n\\t\\tlegend: {\\n\\t\\t\\tfont: {\\n\\t\\t\\t\\tcolor: \\'#4D5663\\'\\n\\t\\t\\t},\\n\\t\\t\\tbgcolor: \\'#F5F6F9\\'\\n\\t\\t},\\n\\t\\txaxis1: {\\n\\t\\t\\ttitle: \\'-Log10(P-value)\\',\\n\\t\\t\\t// showgrid: true,\\n\\t\\t\\ttickfont: {\\n\\t\\t\\t\\tcolor: \\'#4D5663\\'\\n\\t\\t\\t},\\n\\t\\t\\tgridcolor: \\'#E1E5ED\\',\\n\\t\\t\\ttitlefont: {\\n\\t\\t\\t\\tcolor: \\'#4D5663\\'\\n\\t\\t\\t},\\n\\t\\tzerolinecolor: \\'#E1E5ED\\'\\n\\t\\t},\\n\\t\\tyaxis1: {\\n\\t\\t\\ttitle: \\'\\',\\n\\t\\t// showgrid: true,\\n\\t\\t\\ttickfont: {\\n\\t\\t\\t\\tcolor: \\'#4D5663\\'\\n\\t\\t\\t},\\n\\t\\t\\tgridcolor: \\'#E1E5ED\\',\\n\\t\\ttitlefont: {\\n\\t\\t\\t\\tcolor: \\'#4D5663\\'\\n\\t\\t\\t},\\n\\t\\t\\tzerolinecolor: \\'#E1E5ED\\'\\n\\t\\t},\\n\\t\\ttitlefont: {\\n\\t\\t\\tcolor: \\'#4D5663\\'\\n\\t\\t},\\n\\t\\tplot_bgcolor: \\'#ffffff\\',\\n\\t\\tpaper_bgcolor: \\'#ffffff\\',\\n\\t\\tmargin: {\\n\\t\\t\\tl:400,\\n\\t\\t\\tr:40,\\n\\t\\t\\tt:20,\\n\\t\\t\\tb:60\\n\\t\\t}\\n\\t};\\n\\tPlotly.newPlot(\\'gobubble\\', {\\n\\t\\tdata: None,\\n\\t\\tlayout: layout_bubble\\n\\t});\\n</script>\\n\\n<script>\\n\\tfunction changeTab(id) {\\n\\t\\t// \\xe5\\xa4\\x84\\xe7\\x90\\x86tab\\n\\t\\t$(\\'#myTab li a\\').removeClass(\\'active\\')\\n\\t\\t$(\\'#menu1_tab\\').parent().children().eq(0).children().eq(0).css(\\'background\\', \\'#ffffff\\')\\n\\t\\t$(\\'#menu1_tab\\').parent().children().eq(0).children().eq(0).css(\\'color\\', \\'#17a2b8\\')\\n\\t\\n\\t\\t// \\xe5\\xa4\\x84\\xe7\\x90\\x86tabContent\\n\\t\\t$(\\'#myTabContent div\\').removeClass(\\'active\\')\\n\\t\\t// $(\\'#myTabContent div\\').addClass(\\'fade\\')\\n\\t\\t$(\\'#\\' + id).removeClass(\\'fade\\')\\n\\t\\t$(\\'#\\' + id).addClass(\\'active\\')\\n\\t\\t// $(\\'#myTab li a\\').preventDefault()\\n\\t}\\n\\t// function getCookie(name) {\\n\\t// \\t\\tlet cookieValue = null;\\n\\t// \\t\\tif (document.cookie && document.cookie !== \\'\\') {\\n\\t// \\t\\t\\tconst cookies = document.cookie.split(\\';\\');\\n\\t// \\t\\t\\tfor (let i = 0; i < cookies.length; i++) {\\n\\t// \\t\\t\\t\\tconst cookie = cookies[i].trim();\\n\\t// \\t\\t\\t\\t// Does this cookie string begin with the name we want?\\n\\t// \\t\\t\\t\\tif (cookie.substring(0, name.length + 1) === (name + \\'=\\')) {\\n\\t// \\t\\t\\t\\t\\tcookieValue = decodeURIComponent(cookie.substring(name.length + 1));\\n\\t// \\t\\t\\t\\t\\tbreak;\\n\\t// \\t\\t\\t\\t}\\n\\t// \\t\\t\\t}\\n\\t// \\t\\t}\\n\\t// \\t\\treturn cookieValue;\\n\\t// \\t}\\n\\t// \\tconst csrftoken = getCookie(\\'csrftoken\\');\\n\\t\\t// Modal\\n\\t\\t// $(document).ready(function(){\\n\\t\\t// \\t$(\\'#diffgene\\').on(\\'click\\', \\'button\\', function(){\\n\\t\\t\\t\\t\\n\\t\\t// \\t\\tvar formData=new FormData();\\n\\t\\t// \\t\\t// formData.append(\\'gene\\',fc_table.row(this).data()[\\'symbol\\'])\\n\\t\\t// \\t\\tformData.append(\\'gene\\',$(this).val())\\n\\t\\t// \\t\\tformData.append(\\'studyid\\',$(\\'#studyid\\').val())\\n\\t\\t\\n\\t\\t// \\t   console.log(\\'API row values: \\', formData);\\n\\t\\t// \\t   $.ajax({\\n\\t\\t// \\t\\turl:\\'/gene_edit/get_boxplot\\',\\n\\t\\t// \\t\\ttype:\"POST\",\\n\\t\\t// \\t\\theaders: {\"X-CSRFToken\": csrftoken},\\n\\t\\t// \\t\\tdata:formData,\\n\\t\\t// \\t\\tprocessData:false,\\n\\t\\t// \\t\\tcontentType:false,\\n\\t\\t// \\t\\tsuccess:function(exp_data){\\n\\t\\t// \\t\\t\\texp_data_decode=JSON.parse(exp_data)\\n\\t\\t// \\t\\t\\tconsole.log(exp_data_decode)\\n\\t\\t// \\t\\t\\t// $(\"#Scatter3DDiv\").hide()\\n\\t\\t\\t\\t\\t\\n\\t\\t// \\t\\t\\t// Plotly.newPlot(\\'SearchDiv\\', exp_data_decode, trace_list_layout);\\n\\t\\t// \\t\\t\\tPlotly.newPlot(\\'boxplotDiv\\', exp_data_decode, boxplot_trace_list_layout);\\n\\t\\t// \\t\\t}\\n\\t\\t// \\t   })\\n\\t\\t// \\t   // window.location.href = \\'detail/\\'+ sample_id;\\n\\t\\t// \\t  })\\n\\t\\t\\t  \\n\\t\\t\\t  // $(\\'#gsea_table\\').on(\\'click\\', \\'a\\', function(){\\n\\t\\t\\t  // \\t\\t$(\"#gseaimg\").empty();\\n\\t\\t\\t  // \\t\\t$(\"#gseaimg\").append(\\'<img style=\"width:450px\" src=\"/pertorg_static/study_detail/DSA00047/pics/GSEA/\\' + $(this).text() + \\'.png\"/>\\');\\n\\t\\t\\t\\t\\n\\t\\t$(\\'#gsea_table\\').on(\\'click\\', \\'button\\', function(){\\n\\t\\t\\t\\t$(\\'#gseaModalLabel\\').empty()\\n\\t\\t\\t\\t$(\\'#gseaModalLabel\\').append($(this).parent().parent().children().eq(1).text())\\n\\t\\t\\t\\t$(\"#gseaimg\").empty();\\n\\t\\t\\t\\t$(\"#gseaimg\").append(\\'<img style=\"width:450px\" src=\"/diseasedb_static/DSA_detail/bulk/DSA00047/pics/GSEA/\\' + $(this).val() + \\'.png\"/>\\');\\n\\t\\t\\t\\n\\t\\t})\\n\\t\\t\\n\\t\\t// $(document).ready(function(){\\n\\t\\t// \\t$(\\'#gsea_table\\').on(\\'click\\', \\'a\\', function(){\\n\\t\\t// \\t\\tconsole.log(111)\\n\\t\\t// \\t\\tconsole.log($(this).text())\\n\\t\\t// \\t\\t$(\"#gseaimg\").after(\\'<img src=\"/pertorg_static/study_detail/DSA00047/pics/GSEA/\\' + $(this).text() + \\'.png\"/>\\')\\n\\t\\t\\t\\t\\n\\t\\t// })\\n\\t\\t\\n\\t\\t// GO\\n\\t\\tfunction pass_enrichfun(input_id,entichtype){\\n\\t\\t\\t// console.log(\\'this:\\',$(this).text())\\n\\t\\t\\tvar formData=new FormData();\\n\\t\\t\\t// formData.append(\\'gene\\',fc_table.row(this).data()[\\'symbol\\'])\\n\\t\\t\\tformData.append(\\'ont\\',$(input_id).attr(\\'zzy\\'))\\n\\t\\t\\tformData.append(\\'studyid\\',$(\\'#studyid\\').val())\\n\\t\\t\\t// console.log($(this).parent().parent().attr(\\'role\\'))\\n\\t\\t\\tpath_url=\\'/disignatlas/get_bubble?\\'+Math.random()\\n\\t\\t   // console.log(\\'API row values: \\', formData);\\n\\t\\t   console.log(path_url)\\n\\t\\t   $.ajax({\\n\\t\\t\\turl:path_url,\\n\\t\\t\\ttype:\"POST\",\\n\\t\\t\\theaders: {\"X-CSRFToken\": $(\"input[name=\\'csrfmiddlewaretoken\\']\").attr(\\'value\\')},\\n\\t\\t\\tdata:formData,\\n\\t\\t\\tprocessData:false,\\n\\t\\t\\tcontentType:false,\\n\\t\\t\\tsuccess:function(enrich_obj){\\n\\t\\t\\t\\t\\n\\t\\t\\t\\t// console.log(enrich_obj == \\'null\\' ) \\n\\t\\t\\t\\tif (enrich_obj != \\'null\\'){\\n\\t\\t\\t\\t\\tenrich_obj_decode=JSON.parse(enrich_obj)\\n\\t\\t\\t\\t\\t\\n\\t\\t\\t\\t\\t// console.log(\\'enrich_obj_decode: \\',enrich_obj_decode)\\n\\t\\t\\t\\t\\t// Plotly.react(entichtype, {\\n\\t\\t\\t\\t\\t// \\tdata: enrich_obj_decode,\\n\\t\\t\\t\\t\\t// \\tlayout: layout_bubble\\n\\t\\t\\t\\t\\t// });\\n\\t\\t\\t\\t\\tPlotly.react(entichtype, {\\n\\t\\t\\t\\t\\t\\tdata: enrich_obj_decode,\\n\\t\\t\\t\\t\\t\\tlayout: layout_bubble\\n\\t\\t\\t\\t\\t});\\n\\t\\t\\t\\t}\\n\\t\\t\\t\\t\\n\\t\\t\\t\\t\\n\\t\\t\\t}\\n\\t\\t   })\\n\\t\\t   // window.location.href = \\'detail/\\'+ sample_id;\\n\\t\\t  }\\n\\t\\t$(document).ready(function(){\\n\\t\\t\\t$(\\'#go_bp\\').click(function(){pass_enrichfun(\\'#bp\\',\\'gobubble\\')})\\n\\t\\t\\t$(\\'#bp\\').click(function(){pass_enrichfun(\\'#bp\\',\\'gobubble\\')})\\n\\t\\t\\t$(\\'#cc\\').click(function(){pass_enrichfun(\\'#cc\\',\\'gobubble\\')})\\n\\t\\t\\t$(\\'#mf\\').click(function(){pass_enrichfun(\\'#mf\\',\\'gobubble\\')})\\n\\t\\t\\t$(\\'#kegg_\\').click(function(){pass_enrichfun(\\'#kegg\\',\\'keggbubble\\')})\\n\\t\\t})\\n</script>\\n\\t\\t\\t\\t\\t\\t<h3 class=\"panel-heading\" id=\"list-item-5\"\\n\\tstyle=\"margin: 1rem 0 0rem 0 ;background-color: #17a2b8;color: #ffffff;\">Differential cell type markers</h3>\\n\\n<div class=\"container col-12\">\\n\\tNot Available\\n</div>\\n\\n<script>\\nvar CTMarker_data = None;\\n<!--\\xe7\\xac\\xac\\xe4\\xb8\\x89\\xe6\\xad\\xa5\\xef\\xbc\\x9a\\xe5\\x88\\x9d\\xe5\\xa7\\x8b\\xe5\\x8c\\x96Datatables-->\\n$(\\'#markergene\\').DataTable({\\n\\tresponsive: {\\n\\t\\tdetails: {\\n\\t\\t\\ttype: \\'column\\',\\n\\t\\t\\ttarget: \\'tr\\'\\n\\t\\t}\\n\\t},\\n\\tcolumnDefs: [ {\\n\\t\\tclassName: \\'control\\',\\n\\t\\torderable: false,\\n\\t\\ttargets:   8,\\n\\t} ],\\n\\tdata: CTMarker_data,\\n\\torder: [[ 5, \"asc\" ]],\\n\\t\"dom\": \"<\\'row\\'<\\'col-sm-12 col-md-1\\'B><\\'col-sm-12 col-md-8\\'i><\\'col-sm-12 col-md-3\\'f>>\" +\\n\\t\\t\"<\\'row\\'<\\'col-sm-12\\'tr>>\" +\\n\\t\\t\"<\\'row\\'<\\'col-sm-12 col-md-5\\'l><\\'col-sm-12 col-md-7\\'p>>\",\\n\\tbuttons: [{\\n\\t\\textend: \\'csv\\',\\n\\t\\ttext: \"\",\\n\\t\\tclassName: \"icon_\",\\n\\t}],\\n\\t//\\xe4\\xbd\\xbf\\xe7\\x94\\xa8\\xe5\\xaf\\xb9\\xe8\\xb1\\xa1\\xe6\\x95\\xb0\\xe7\\xbb\\x84\\xef\\xbc\\x8c\\xe4\\xb8\\x80\\xe5\\xae\\x9a\\xe8\\xa6\\x81\\xe9\\x85\\x8d\\xe7\\xbd\\xaecolumns\\xef\\xbc\\x8c\\xe5\\x91\\x8a\\xe8\\xaf\\x89 DataTables \\xe6\\xaf\\x8f\\xe5\\x88\\x97\\xe5\\xaf\\xb9\\xe5\\xba\\x94\\xe7\\x9a\\x84\\xe5\\xb1\\x9e\\xe6\\x80\\xa7\\n\\t//data \\xe8\\xbf\\x99\\xe9\\x87\\x8c\\xe6\\x98\\xaf\\xe5\\x9b\\xba\\xe5\\xae\\x9a\\xe4\\xb8\\x8d\\xe5\\x8f\\x98\\xe7\\x9a\\x84\\xef\\xbc\\x8cname\\xef\\xbc\\x8cposition\\xef\\xbc\\x8csalary\\xef\\xbc\\x8coffice \\xe4\\xb8\\xba\\xe4\\xbd\\xa0\\xe6\\x95\\xb0\\xe6\\x8d\\xae\\xe9\\x87\\x8c\\xe5\\xaf\\xb9\\xe5\\xba\\x94\\xe7\\x9a\\x84\\xe5\\xb1\\x9e\\xe6\\x80\\xa7\\n\\tcolumns: [\\n\\t\\t{ data: \\'description\\' },\\n\\t\\t{ data: \\'source\\' },\\n\\t\\t{ data: \\'regulation\\' },\\n\\t\\t{ data: \\'generatio\\' },\\n\\t\\t{ data: \\'bgratio\\' },\\n\\t\\t{ data: \\'pvalue\\' },\\n\\t\\t{ data: \\'adjpvalue\\' },\\n\\t\\t// { data: \\'core_enrichment\\' },\\n\\t\\t// {\\n\\t\\t// \\tdata: \\'core_enrichment\\' ,\\n\\t\\t// \\tvisible: true,\\n\\t\\t// \\t\"render\": function(data, type, row, meta){\\n\\t\\t// \\t\\tif(type === \\'display\\'){\\n\\t\\t// \\t\\t\\tdata = \\'<span class=\"show-popover\" data-toggle=\"popover\" title=\"\\' + data + \\'\">\\' + data.trim().substr(0,10) + \\'...\\' + \\'</span>\\';\\n\\t\\t// \\t\\t}\\n\\t\\t\\t\\n\\t\\t// \\t\\treturn data;\\n\\t\\t// \\t}\\n\\t\\t// },\\n\\t\\t{ data: \\'core_enrichment\\' },\\n\\t\\t{\\n\\t\\t\\tdata: \\'core_enrichment\\',\\n\\t\\t\\trender: function(data, type, row) {\\n\\t\\t\\t\\treturn \\'\\';\\n\\t\\t\\t}\\n\\t\\t},\\n\\t]\\n});\\n</script>\\n\\n\\t\\t\\t\\t\\t\\t<h3 class=\"panel-heading\" id=\"list-item-6\"\\n\\tstyle=\"margin: 1rem 0 0rem 0 ;background-color: #17a2b8;color: #ffffff;\">Diseases with correlated signatures</h3>\\n<!-- Nav pills -->\\n<!-- <h3 style=\"margin: 0rem 0 0rem 0 ;background-color: #ffffff;color: #17a2b8;\">\\n\\t<ul class=\"nav nav-pills nav-tabs\" role=\"tablist\" id=\"myTab_corrsig\">\\n\\t\\t<li class=\"nav-item\">\\n\\t\\t\\t<a class=\"nav-link active\" data-toggle=\"pill\" href=\"#\"\\n\\t\\t\\t\\tonclick=\"changeTab_corrsig(\\'corrsig_hs\\')\">Homo sapiens</a>\\n\\t\\t</li>\\n\\t\\t<li class=\"nav-item\">\\n\\t\\t\\t<a class=\"nav-link\" data-toggle=\"pill\" href=\"#\"\\n\\t\\t\\t\\tonclick=\"changeTab_corrsig(\\'corrsig_mm\\')\">Mus musculus</a>\\n\\t\\t</li>\\n\\t</ul>\\n</h3>\\n -->\\n\\n\\n\\n<div class=\"container col-12\">\\n\\tNot Available\\n</div>\\n\\n<script>\\n\\t// function changeTab_corrsig(id) {\\n\\t// \\t// \\xe5\\xa4\\x84\\xe7\\x90\\x86tab\\n\\t// \\t$(\\'#myTab_corrsig li a\\').removeClass(\\'active\\')\\n\\t// \\t// $(\\'#menu1_tab\\').parent().children().eq(0).children().eq(0).css(\\'background\\', \\'#ffffff\\')\\n\\t// \\t// $(\\'#menu1_tab\\').parent().children().eq(0).children().eq(0).css(\\'color\\', \\'#17a2b8\\')\\n\\t\\n\\t// \\t// \\xe5\\xa4\\x84\\xe7\\x90\\x86tabContent\\n\\t// \\t$(\\'#myTabContent_corrsig div\\').removeClass(\\'active\\')\\n\\t// \\t// $(\\'#myTabContent div\\').addClass(\\'fade\\')\\n\\t// \\t$(\\'#\\' + id).removeClass(\\'fade\\')\\n\\t// \\t$(\\'#\\' + id).addClass(\\'active\\')\\n\\t// \\t// $(\\'#myTab li a\\').preventDefault()\\n\\t// }\\n\\t// function cs_analysis(str){\\n\\t// \\tconsole.log(str);\\n\\t// \\tconsole.log(\\'DSA00047\\');\\n\\t// \\t// window.location.href = \\'/diseasedb/home?err_msg=\\' + \\'DSA00047_\\' + str;\\n\\t// };\\n\\tvar corrsig_data = None;\\n\\t<!--\\xe7\\xac\\xac\\xe4\\xb8\\x89\\xe6\\xad\\xa5\\xef\\xbc\\x9a\\xe5\\x88\\x9d\\xe5\\xa7\\x8b\\xe5\\x8c\\x96Datatables-->\\n\\t$(\\'#corrsig\\').DataTable({\\n\\t\\t// responsive: {\\n\\t\\t// \\tdetails: {\\n\\t\\t// \\t\\ttype: \\'column\\',\\n\\t\\t// \\t\\ttarget: \\'tr\\'\\n\\t\\t// \\t}\\n\\t\\t// },\\n\\t\\t// columnDefs: [ {\\n\\t\\t// \\tclassName: \\'control\\',\\n\\t\\t// \\torderable: false,\\n\\t\\t// \\ttargets:   8,\\n\\t\\t// } ],\\n\\t\\tdata: corrsig_data,\\n\\t\\torder: [[2, \"desc\" ]],\\n\\t\\t\"dom\": \"<\\'row\\'<\\'col-sm-12 col-md-1\\'B><\\'col-sm-12 col-md-8\\'i><\\'col-sm-12 col-md-3\\'f>>\" +\\n\\t\\t\\t\"<\\'row\\'<\\'col-sm-12\\'tr>>\" +\\n\\t\\t\\t\"<\\'row\\'<\\'col-sm-12 col-md-5\\'l><\\'col-sm-12 col-md-7\\'p>>\",\\n\\t\\tbuttons: [{\\n\\t\\t\\textend: \\'csv\\',\\n\\t\\t\\ttext: \"\",\\n\\t\\t\\tclassName: \"icon_\",\\n\\t\\t}],\\n\\t\\t//\\xe4\\xbd\\xbf\\xe7\\x94\\xa8\\xe5\\xaf\\xb9\\xe8\\xb1\\xa1\\xe6\\x95\\xb0\\xe7\\xbb\\x84\\xef\\xbc\\x8c\\xe4\\xb8\\x80\\xe5\\xae\\x9a\\xe8\\xa6\\x81\\xe9\\x85\\x8d\\xe7\\xbd\\xaecolumns\\xef\\xbc\\x8c\\xe5\\x91\\x8a\\xe8\\xaf\\x89 DataTables \\xe6\\xaf\\x8f\\xe5\\x88\\x97\\xe5\\xaf\\xb9\\xe5\\xba\\x94\\xe7\\x9a\\x84\\xe5\\xb1\\x9e\\xe6\\x80\\xa7\\n\\t\\t//data \\xe8\\xbf\\x99\\xe9\\x87\\x8c\\xe6\\x98\\xaf\\xe5\\x9b\\xba\\xe5\\xae\\x9a\\xe4\\xb8\\x8d\\xe5\\x8f\\x98\\xe7\\x9a\\x84\\xef\\xbc\\x8cname\\xef\\xbc\\x8cposition\\xef\\xbc\\x8csalary\\xef\\xbc\\x8coffice \\xe4\\xb8\\xba\\xe4\\xbd\\xa0\\xe6\\x95\\xb0\\xe6\\x8d\\xae\\xe9\\x87\\x8c\\xe5\\xaf\\xb9\\xe5\\xba\\x94\\xe7\\x9a\\x84\\xe5\\xb1\\x9e\\xe6\\x80\\xa7\\n\\t\\tcolumns: [\\n\\t\\t\\t{\\n\\t\\t\\t\\tdata: \\'studyid\\' ,\\n\\t\\t\\t\\t\"render\": function(data, type, row, meta){\\n\\t\\t\\t\\t\\tif(type === \\'display\\'){\\n\\t\\t\\t\\t\\t\\tdata = \\'<a href=\"\\' + data + \\'\" style=\"color:#007BFF\" >\\' + data + \\'</a>\\';\\n\\t\\t\\t\\t\\t}\\n\\t\\t\\t\\t\\n\\t\\t\\t\\t\\treturn data;\\n\\t\\t\\t\\t}\\n\\t\\t\\t},\\n\\t\\t\\t// { data: \\'description\\' },\\n\\t\\t\\t{ data: \\'disease\\' },\\n\\t\\t\\t{ data: \\'fc\\' },\\n\\t\\t\\t{ data: \\'hgp\\' },\\n\\t\\t\\t{ data: \\'organism\\' },\\n\\t\\t\\t{ data: \\'direction\\' },\\n\\t\\t\\t// { data: \\'pvalue\\' },\\n\\t\\t\\t// { data: \\'adjpvalue\\' },\\n\\t\\t\\t{\\n\\t\\t\\t\\tdata: \\'studyid\\',\\n\\t\\t\\t\\t\"render\": function(data, type, row, meta){\\n\\t\\t\\t\\t\\tif(type === \\'display\\'){\\n\\t\\t\\t\\t\\t\\t// data = \\'<a href=\"/diseasedb/home\" class=\"btn btn-info\" onclick=\"cs_analysis(\"\\' + toString(data)  +\\'\")\" style=\"border: none;\" value=\"\\' + data + \\'\">Analysis</a>\\'\\n\\t\\t\\t\\t\\t\\tvar str = \"\\'\" + data + \"\\'\"\\n\\t\\t\\t\\t\\t\\tdata = \\'<button class=\"id_sub btn btn-info\" onclick=\"\" style=\"border: none;\" value=\\' + str + \\'>Analysis</button>\\'\\n\\t\\t\\t\\t\\t\\t\\n\\t\\t\\t\\t\\t\\t\\n\\t\\t\\t\\t\\t}\\n\\t\\t\\t\\t\\treturn data;\\n\\t\\t\\t\\t},\\n\\t\\t\\t}\\n\\t\\t]\\n\\t});\\n\\t$(\\'#corrsig\\').delegate(\\'.id_sub\\', \\'click\\', function () {\\n\\t\\n\\t    // var jsonStr = $(this).attr(\"jsonStr\");\\n\\t    // showUserPwdView(eval(\"(\" + jsonStr + \")\"));\\n\\n\\t\\tvar study_click = $(this).val()\\n\\t\\tvar fc = $(this).parent().prev().prev().prev().prev().text()\\n\\t\\tvar myForm = document.createElement(\"form\");\\n\\t\\tmyForm.method = \"post\";\\n\\t\\tmyForm.action = \\'/disignatlas/result_analysis\\';\\n\\t\\tvar studyid_list = [study_click, \\'DSA00047\\']\\n\\t\\t// console.log($(this).parent().prev().prev().prev().prev().text())\\n\\t\\tsearch_dict = {\\n\\t\\t\\t\\'csrfmiddlewaretoken\\': $(\"[name=csrfmiddlewaretoken]\").val(),\\n\\t\\t// \\t\\'gene_name_type\\': \\'\\',\\n\\t\\t// \\t\\'gene_name\\': \\'\\',\\n\\t\\t\\t\\'organism\\': \\'Homo sapiens\\',\\n\\t\\t// \\t\\'tissue_type\\': \\'\\',\\n\\t\\t// \\t\\'edit_type\\': \\'\\',\\n\\t\\t// \\t\\'phenotype\\': \\'\\',\\n\\t\\t\\t\\'studyid_list\\':studyid_list ,\\n\\t\\t\\t\\'frompage\\': \\'fromdetail\\',\\n\\t\\t\\t\\'fc\\': fc,\\n\\t\\t// \\t\\'page\\': $(this).attr(\\'page\\')\\n\\t\\t}\\n\\t\\t// console.log(studyid_list.studyid_list)\\n\\t\\tfor (var key in search_dict) {\\n\\t\\t\\tvar content = document.createElement(\\'input\\')\\n\\t\\t\\tcontent.setAttribute(\"name\", key);\\n\\t\\t\\tcontent.setAttribute(\"value\", search_dict[key]);\\n\\t\\t\\tcontent.setAttribute(\"type\", \\'hidden\\');\\n\\t\\t\\tmyForm.appendChild(content);\\n\\t\\t}\\n\\t\\t\\n\\t\\tdocument.body.appendChild(myForm);\\n\\t\\tmyForm.submit();\\n\\t\\tdocument.body.removeChild(myForm); // \\xe6\\x8f\\x90\\xe4\\xba\\xa4\\xe5\\x90\\x8e\\xe7\\xa7\\xbb\\xe9\\x99\\xa4\\xe5\\x88\\x9b\\xe5\\xbb\\xba\\xe7\\x9a\\x84form \\n\\t});\\n\\t// $(\".id_sub\").on(\"click\", function(event) {\\n\\t// \\t// event.preventDefault(); //\\xe4\\xbd\\xbfa\\xe8\\x87\\xaa\\xe5\\xb8\\xa6\\xe7\\x9a\\x84\\xe6\\x96\\xb9\\xe6\\xb3\\x95\\xe5\\xa4\\xb1\\xe6\\x95\\x88\\xef\\xbc\\x8c\\xe5\\x8d\\xb3\\xe6\\x97\\xa0\\xe6\\xb3\\x95\\xe8\\xb0\\x83\\xe6\\x95\\xb4\\xe5\\x88\\xb0href\\xe4\\xb8\\xad\\xe7\\x9a\\x84URL(http://www.baidu.com)\\n\\t// \\t// console.log(1111111)\\n\\n\\t// });\\n\\n</script>\\n\\n\\t\\t\\t\\t\\t</div>\\n\\t\\t\\t\\t</div>\\n\\t\\t\\t</div>\\n\\t\\t</div>\\n\\n\\t\\t<!-- \\xe5\\xba\\x95\\xe6\\xa0\\x8f -->\\n\\t\\t<!-- \\xe5\\xba\\x95\\xe6\\xa0\\x8f -->\\n<footer class=\"footer bg-info \" id=\"footer\">\\n\\t<div class=\"container col-11\">\\n\\t\\t<div class=\"container col-5\">\\n\\t\\t\\t<div class=\"col-12\" style=\"height: 7px;border-top:1px solid #a3a3a3;\"></div>\\n\\t\\t</div>\\n\\t\\t<div>\\n\\t\\t\\t<p class=\"reserve\" style=\"padding-bottom: 20px;\">Since 2021 Copyright @\\xc2\\xa0Intelligent Bioinformatics Research Group, Chongqing Medical University.\\n\\t\\t\\t\\tAll rights reserved.</p>\\n\\t\\t\\t<!-- <p class=\"reserve\" style=\"padding-bottom: 20px;\"> Chongqing Medical\\n\\t\\t\\t\\tUniversity, Intelligent Bioinformatics Research Group (InBRG). </p> -->\\n\\t\\t</div>\\n\\t</div>\\n</footer>\\n<style>\\n\\t.reserve {\\n\\t\\tfont-size: 14px;\\n\\t\\tcolor: white;\\n\\t\\ttext-align: center;\\n\\t\\tmargin: 0;\\n\\n\\t}\\n\\n\\t#footer a {\\n\\t\\tcolor: wheat;\\n\\t\\twidth: 100%;\\n\\n\\t}\\n\\n\\t/* .body {\\n\\t\\theight: 100%;\\n\\t} */\\n</style>\\n<script>\\n\\t$(document).ready(function() {\\n\\t\\t// a=$(\"#body\").css(\"min-height\",(document.documentElement.clientHeight-document.documentElement.otherHeight)+\\'px\\');\\n\\t\\twin_height = $(window).height() //\\xe7\\xaa\\x97\\xe5\\x8f\\xa3\\xe9\\xab\\x98\\xe5\\xba\\xa6\\n\\t\\t// console.log(win_height);\\n\\t\\tbody_height = $(\\'body\\').outerHeight()\\n\\t\\t// console.log(outerHeight)\\n\\t\\tif (win_height > body_height) {\\n\\t\\t\\t$(\"body #footer\").addClass(\"fixed-bottom\");\\n\\t\\t}\\n\\n\\n\\t\\twindow.onresize = function() {\\n\\t\\t\\twin_height = $(window).height() //\\xe7\\xaa\\x97\\xe5\\x8f\\xa3\\xe9\\xab\\x98\\xe5\\xba\\xa6\\n\\t\\t\\t// console.log(\\'win\\', win_height);\\n\\t\\t\\tbody_height = $(\\'body\\').outerHeight()\\n\\t\\t\\t// console.log(\\'body\\', body_height)\\n\\t\\t\\tbody_footer_height = $(\\'body #footer\\').outerHeight()\\n\\t\\t\\t// console.log(\\'footer\\', body_footer_height)\\n\\n\\t\\t\\tif ((win_height > body_height)) {\\n\\t\\t\\t\\t$(\"body #footer\").addClass(\"fixed-bottom\");\\n\\t\\t\\t} else if ((win_height - body_footer_height) <= body_height) {\\n\\t\\t\\t\\t$(\"body #footer\").removeClass(\"fixed-bottom\");\\n\\t\\t\\t}\\n\\t\\t}\\n\\n\\n\\t})\\n\\n\\tfunction changeFooter() {\\n\\t\\t$(\"body #footer\").removeClass(\"fixed-bottom\");\\n\\t}\\n</script>\\n\\n\\n\\n\\n<!-- <footer class=\"footer bg-dark\" style=\"height: 100px;\">\\n\\t<div class=\"container\">\\n\\t\\t<div class=\"row\">\\n\\t\\t\\t<div class=\"col-lg-6 h-100 text-center text-lg-left my-auto\">\\n\\t\\t\\t\\t<ul class=\"list-inline mb-2\">\\n\\t\\t\\t\\t\\t<li class=\"list-inline-item\"><a href=\"#!\">About</a></li>\\n\\t\\t\\t\\t\\t<li class=\"list-inline-item\">\\xe2\\x8b\\x85</li>\\n\\t\\t\\t\\t\\t<li class=\"list-inline-item\"><a href=\"#!\">Contact</a></li>\\n\\t\\t\\t\\t\\t<li class=\"list-inline-item\">\\xe2\\x8b\\x85</li>\\n\\t\\t\\t\\t\\t<li class=\"list-inline-item\"><a href=\"#!\">Terms of Use</a></li>\\n\\t\\t\\t\\t\\t<li class=\"list-inline-item\">\\xe2\\x8b\\x85</li>\\n\\t\\t\\t\\t\\t<li class=\"list-inline-item\"><a href=\"#!\">Privacy Policy</a></li>\\n\\t\\t\\t\\t</ul>\\n\\t\\t\\t\\t<p class=\"text-muted small mb-4 mb-lg-0\">\\xc2\\xa9 Your Website 2021. All Rights Reserved.</p>\\n\\t\\t\\t</div>\\n\\t\\t\\t<div class=\"col-lg-6 h-100 text-center text-lg-right my-auto\">\\n\\t\\t\\t\\t<ul class=\"list-inline mb-0\">\\n\\t\\t\\t\\t\\t<li class=\"list-inline-item mr-3\">\\n\\t\\t\\t\\t\\t\\t<a href=\"#!\"><i class=\"fab fa-facebook fa-2x fa-fw\"></i></a>\\n\\t\\t\\t\\t\\t</li>\\n\\t\\t\\t\\t\\t<li class=\"list-inline-item mr-3\">\\n\\t\\t\\t\\t\\t\\t<a href=\"#!\"><i class=\"fab fa-twitter-square fa-2x fa-fw\"></i></a>\\n\\t\\t\\t\\t\\t</li>\\n\\t\\t\\t\\t\\t<li class=\"list-inline-item\">\\n\\t\\t\\t\\t\\t\\t<a href=\"#!\"><i class=\"fab fa-instagram fa-2x fa-fw\"></i></a>\\n\\t\\t\\t\\t\\t</li>\\n\\t\\t\\t\\t</ul>\\n\\t\\t\\t</div>\\n\\t\\t</div>\\n\\t</div>\\n</footer> -->\\n\\n\\t\\t<form >\\n\\t\\t\\t<input style=\"display: none;\" type=\"text\" id=\"studyid\"  name=\"studyid\" value=\"DSA00047\"/>\\n\\t\\t</form>\\n\\n\\t\\t<script>\\n\\t\\t\\tvar csrftoken = $(\"input[name=\\'csrfmiddlewaretoken\\']\").attr(\\'value\\');\\n\\t\\t\\t\\t// GO\\n\\t\\t\\t\\tfunction pass_enrichfun(input_id,entichtype){\\n\\t\\t\\t\\t\\t// console.log(\\'this:\\',$(this).text())\\n\\t\\t\\t\\t\\tvar formData=new FormData();\\n\\t\\t\\t\\t\\t// formData.append(\\'gene\\',fc_table.row(this).data()[\\'symbol\\'])\\n\\t\\t\\t\\t\\tformData.append(\\'ont\\',$(input_id).attr(\\'zzy\\'))\\n\\t\\t\\t\\t\\tformData.append(\\'studyid\\',$(\\'#studyid\\').val())\\n\\t\\t\\t\\t\\t\\n\\t\\t\\t\\t   // console.log(\\'API row values: \\', formData);\\n\\t\\t\\t\\t   $.ajax({\\n\\t\\t\\t\\t\\turl:\\'/disignatlas/get_bubble\\',\\n\\t\\t\\t\\t\\ttype:\"POST\",\\n\\t\\t\\t\\t\\theaders: {\"X-CSRFToken\": csrftoken},\\n\\t\\t\\t\\t\\tdata:formData,\\n\\t\\t\\t\\t\\tprocessData:false,\\n\\t\\t\\t\\t\\tcontentType:false,\\n\\t\\t\\t\\t\\tsuccess:function(enrich_obj){\\n\\t\\t\\t\\t\\t\\t// console.log(enrich_obj == \\'null\\' ) \\n\\t\\t\\t\\t\\t\\tif (enrich_obj != \\'null\\'){\\n\\t\\t\\t\\t\\t\\t\\tenrich_obj_decode=JSON.parse(enrich_obj)\\n\\t\\t\\t\\t\\t\\t\\t\\n\\t\\t\\t\\t\\t\\t\\t// console.log(\\'enrich_obj_decode: \\',enrich_obj_decode)\\n\\t\\t\\t\\t\\t\\t\\tPlotly.newPlot(entichtype, {\\n\\t\\t\\t\\t\\t\\t\\t\\tdata: enrich_obj_decode,\\n\\t\\t\\t\\t\\t\\t\\t\\tlayout: layout_bubble\\n\\t\\t\\t\\t\\t\\t\\t});\\n\\t\\t\\t\\t\\t\\t}\\n\\t\\t\\t\\t\\t\\t\\n\\t\\t\\t\\t\\t\\t\\n\\t\\t\\t\\t\\t}\\n\\t\\t\\t\\t   })\\n\\t\\t\\t\\t   // window.location.href = \\'detail/\\'+ sample_id;\\n\\t\\t\\t\\t  }\\n\\t\\t\\t\\t$(document).ready(function(){\\n\\t\\t\\t\\t\\t$(\\'#go_bp\\').click(function(){pass_enrichfun(\\'#bp\\',\\'gobubble\\')})\\n\\t\\t\\t\\t\\t$(\\'#bp\\').click(function(){pass_enrichfun(\\'#bp\\',\\'gobubble\\')})\\n\\t\\t\\t\\t\\t$(\\'#cc\\').click(function(){pass_enrichfun(\\'#cc\\',\\'gobubble\\')})\\n\\t\\t\\t\\t\\t$(\\'#mf\\').click(function(){pass_enrichfun(\\'#mf\\',\\'gobubble\\')})\\n\\t\\t\\t\\t\\t$(\\'#kegg_\\').click(function(){pass_enrichfun(\\'#kegg\\',\\'keggbubble\\')})\\n\\t\\t\\t\\t})\\n\\t\\t</script>\\n\\t\\t<script type=\"text/javascript\">\\n\\t\\t\\tvar boxplot_trace_list_layout = {\\n\\t\\t\\t  legend: {\\n\\t\\t\\t    font: {color: \\'#4D5663\\'}, \\n\\t\\t\\t    bgcolor: \\'#F5F6F9\\'\\n\\t\\t\\t  }, \\n\\t\\t\\t  xaxis1: {\\n\\t\\t\\t    title: \\'\\', \\n\\t\\t\\t    tickfont: {color: \\'#4D5663\\'}, \\n\\t\\t\\t    gridcolor: \\'#E1E5ED\\', \\n\\t\\t\\t    titlefont: {color: \\'#4D5663\\'}, \\n\\t\\t\\t    zerolinecolor: \\'#E1E5ED\\'\\n\\t\\t\\t  }, \\n\\t\\t\\t  yaxis1: {\\n\\t\\t\\t    title: \\'Expression\\', \\n\\t\\t\\t    tickfont: {color: \\'#4D5663\\'}, \\n\\t\\t\\t    zeroline: false, \\n\\t\\t\\t    gridcolor: \\'#E1E5ED\\', \\n\\t\\t\\t    titlefont: {color: \\'#4D5663\\'}, \\n\\t\\t\\t    zerolinecolor: \\'#E1E5ED\\'\\n\\t\\t\\t  }, \\n\\t\\t\\t  plot_bgcolor: \\'#F5F6F9\\', \\n\\t\\t\\t  paper_bgcolor: \\'#F5F6F9\\'\\n\\t\\t\\t};\\n\\t\\t</script>\\n\\t\\t<!-- heatmap -->\\n\\n\\t\\t\\n\\n\\t</body>\\n</html>\\n'\n",
      "None\n"
     ]
    },
    {
     "data": {
      "text/plain": [
       "{'DSA00047': 'No external links section found'}"
      ]
     },
     "execution_count": 49,
     "metadata": {},
     "output_type": "execute_result"
    }
   ],
   "source": [
    "\"\"\"Disease Mapping\n",
    "Here we are interested in Mapping the diseases to the corresponding MeSH terms.\n",
    "\n",
    "Structure:\n",
    "    1. Imports, Variables and Functions\n",
    "    2. Load Data\n",
    "    3. Disease Mapping\n",
    "\"\"\"\n",
    "\n",
    "# 1. Imports, Variables and Functions\n",
    "# imports\n",
    "import pandas as pd, numpy as np, os, sys, re, json, pickle, time, datetime, random\n",
    "import requests\n",
    "import xml.etree.ElementTree as ET\n",
    "import logging\n",
    "import json\n",
    "from tqdm import tqdm\n",
    "from bs4 import BeautifulSoup\n",
    "\n",
    "logging.basicConfig(\n",
    "    level=logging.INFO, format=\"%(asctime)s - %(levelname)s - %(message)s\"\n",
    ")\n",
    "# variables\n",
    "data_path = os.path.join(\"..\", \"data\", \"DiSignAtlas\", \"dis_info_datasets\")\n",
    "mesh_file_path = \"../data/MeSH/desc2023.xml\"\n",
    "output_path = os.path.join(\n",
    "    \"..\", \"results\", \"files\", \"DiSignAtlas\", \"disease_mapping.nlp.csv\"\n",
    ")\n",
    "# functions\n",
    "\n",
    "\n",
    "def retrieve_external_links(ids):\n",
    "    base_url = \"http://www.inbirg.com/disignatlas/detail/\"\n",
    "    results = {}\n",
    "\n",
    "    for id in ids:\n",
    "        url = f\"{base_url}{id}\"\n",
    "        response = requests.get(url)\n",
    "        if response.status_code == 200:\n",
    "            soup = BeautifulSoup(response.content, \"html.parser\")\n",
    "            print(response.content)\n",
    "            external_links_section = soup.find(\"div\", {\"id\": \"external_links\"})\n",
    "            print(external_links_section)\n",
    "            if external_links_section:\n",
    "                links = external_links_section.find_all(\"a\")\n",
    "                results[id] = [\n",
    "                    link.get(\"href\")\n",
    "                    for link in links\n",
    "                    if \"MeSH\" in link.text or \"DO\" in link.text\n",
    "                ]\n",
    "            else:\n",
    "                results[id] = \"No external links section found\"\n",
    "        else:\n",
    "            results[id] = \"Failed to retrieve data\"\n",
    "\n",
    "    return results\n",
    "\n",
    "\n",
    "# 2. Load Data\n",
    "# load disease info\n",
    "# Example usage with a list of IDs\n",
    "example_ids = [\"DSA00047\"]\n",
    "retrieve_external_links(example_ids)\n",
    "\n",
    "# load disease mapping\n",
    "\n",
    "\n",
    "# 3. Disease Mapping\n",
    "# map diseases to MeSH terms\n",
    "\n",
    "# Discarded because it takes too long to run ! ! !\n",
    "# disease_mapping = list()\n",
    "\n",
    "# for disease in tqdm(diseases):\n",
    "#     best_match, best_score = find_best_fuzzy_match(disease, disease_mesh_terms)\n",
    "#     disease_mapping.append([disease, best_match, best_score])\n",
    "\n",
    "\n",
    "# Load the 'en_core_web_md' model\n",
    "\n",
    "# Perform disease mapping\n",
    "\n",
    "\n",
    "# save disease mapping"
   ]
  },
  {
   "cell_type": "code",
   "execution_count": 46,
   "metadata": {},
   "outputs": [
    {
     "name": "stdout",
     "output_type": "stream",
     "text": [
      "Collecting en-core-web-md==3.7.1\n",
      "  Downloading https://github.com/explosion/spacy-models/releases/download/en_core_web_md-3.7.1/en_core_web_md-3.7.1-py3-none-any.whl (42.8 MB)\n",
      "\u001b[2K     \u001b[90m━━━━━━━━━━━━━━━━━━━━━━━━━━━━━━━━━━━━━━━━\u001b[0m \u001b[32m42.8/42.8 MB\u001b[0m \u001b[31m16.6 MB/s\u001b[0m eta \u001b[36m0:00:00\u001b[0m00:01\u001b[0m00:01\u001b[0m\n",
      "\u001b[?25hRequirement already satisfied: spacy<3.8.0,>=3.7.2 in /home/ddalton/miniconda3/envs/disease_sig/lib/python3.10/site-packages (from en-core-web-md==3.7.1) (3.7.2)\n",
      "Requirement already satisfied: spacy-legacy<3.1.0,>=3.0.11 in /home/ddalton/miniconda3/envs/disease_sig/lib/python3.10/site-packages (from spacy<3.8.0,>=3.7.2->en-core-web-md==3.7.1) (3.0.12)\n",
      "Requirement already satisfied: spacy-loggers<2.0.0,>=1.0.0 in /home/ddalton/miniconda3/envs/disease_sig/lib/python3.10/site-packages (from spacy<3.8.0,>=3.7.2->en-core-web-md==3.7.1) (1.0.5)\n",
      "Requirement already satisfied: murmurhash<1.1.0,>=0.28.0 in /home/ddalton/miniconda3/envs/disease_sig/lib/python3.10/site-packages (from spacy<3.8.0,>=3.7.2->en-core-web-md==3.7.1) (1.0.10)\n",
      "Requirement already satisfied: cymem<2.1.0,>=2.0.2 in /home/ddalton/miniconda3/envs/disease_sig/lib/python3.10/site-packages (from spacy<3.8.0,>=3.7.2->en-core-web-md==3.7.1) (2.0.8)\n",
      "Requirement already satisfied: preshed<3.1.0,>=3.0.2 in /home/ddalton/miniconda3/envs/disease_sig/lib/python3.10/site-packages (from spacy<3.8.0,>=3.7.2->en-core-web-md==3.7.1) (3.0.9)\n",
      "Requirement already satisfied: thinc<8.3.0,>=8.1.8 in /home/ddalton/miniconda3/envs/disease_sig/lib/python3.10/site-packages (from spacy<3.8.0,>=3.7.2->en-core-web-md==3.7.1) (8.2.2)\n",
      "Requirement already satisfied: wasabi<1.2.0,>=0.9.1 in /home/ddalton/miniconda3/envs/disease_sig/lib/python3.10/site-packages (from spacy<3.8.0,>=3.7.2->en-core-web-md==3.7.1) (1.1.2)\n",
      "Requirement already satisfied: srsly<3.0.0,>=2.4.3 in /home/ddalton/miniconda3/envs/disease_sig/lib/python3.10/site-packages (from spacy<3.8.0,>=3.7.2->en-core-web-md==3.7.1) (2.4.8)\n",
      "Requirement already satisfied: catalogue<2.1.0,>=2.0.6 in /home/ddalton/miniconda3/envs/disease_sig/lib/python3.10/site-packages (from spacy<3.8.0,>=3.7.2->en-core-web-md==3.7.1) (2.0.10)\n",
      "Requirement already satisfied: weasel<0.4.0,>=0.1.0 in /home/ddalton/miniconda3/envs/disease_sig/lib/python3.10/site-packages (from spacy<3.8.0,>=3.7.2->en-core-web-md==3.7.1) (0.3.4)\n",
      "Requirement already satisfied: typer<0.10.0,>=0.3.0 in /home/ddalton/miniconda3/envs/disease_sig/lib/python3.10/site-packages (from spacy<3.8.0,>=3.7.2->en-core-web-md==3.7.1) (0.9.0)\n",
      "Requirement already satisfied: smart-open<7.0.0,>=5.2.1 in /home/ddalton/miniconda3/envs/disease_sig/lib/python3.10/site-packages (from spacy<3.8.0,>=3.7.2->en-core-web-md==3.7.1) (6.4.0)\n",
      "Requirement already satisfied: tqdm<5.0.0,>=4.38.0 in /home/ddalton/miniconda3/envs/disease_sig/lib/python3.10/site-packages (from spacy<3.8.0,>=3.7.2->en-core-web-md==3.7.1) (4.66.1)\n",
      "Requirement already satisfied: requests<3.0.0,>=2.13.0 in /home/ddalton/miniconda3/envs/disease_sig/lib/python3.10/site-packages (from spacy<3.8.0,>=3.7.2->en-core-web-md==3.7.1) (2.31.0)\n",
      "Requirement already satisfied: pydantic!=1.8,!=1.8.1,<3.0.0,>=1.7.4 in /home/ddalton/miniconda3/envs/disease_sig/lib/python3.10/site-packages (from spacy<3.8.0,>=3.7.2->en-core-web-md==3.7.1) (2.5.3)\n",
      "Requirement already satisfied: jinja2 in /home/ddalton/miniconda3/envs/disease_sig/lib/python3.10/site-packages (from spacy<3.8.0,>=3.7.2->en-core-web-md==3.7.1) (3.1.2)\n",
      "Requirement already satisfied: setuptools in /home/ddalton/miniconda3/envs/disease_sig/lib/python3.10/site-packages (from spacy<3.8.0,>=3.7.2->en-core-web-md==3.7.1) (68.0.0)\n",
      "Requirement already satisfied: packaging>=20.0 in /home/ddalton/miniconda3/envs/disease_sig/lib/python3.10/site-packages (from spacy<3.8.0,>=3.7.2->en-core-web-md==3.7.1) (23.1)\n",
      "Requirement already satisfied: langcodes<4.0.0,>=3.2.0 in /home/ddalton/miniconda3/envs/disease_sig/lib/python3.10/site-packages (from spacy<3.8.0,>=3.7.2->en-core-web-md==3.7.1) (3.3.0)\n",
      "Requirement already satisfied: numpy>=1.19.0 in /home/ddalton/miniconda3/envs/disease_sig/lib/python3.10/site-packages (from spacy<3.8.0,>=3.7.2->en-core-web-md==3.7.1) (1.26.0)\n",
      "Requirement already satisfied: annotated-types>=0.4.0 in /home/ddalton/miniconda3/envs/disease_sig/lib/python3.10/site-packages (from pydantic!=1.8,!=1.8.1,<3.0.0,>=1.7.4->spacy<3.8.0,>=3.7.2->en-core-web-md==3.7.1) (0.6.0)\n",
      "Requirement already satisfied: pydantic-core==2.14.6 in /home/ddalton/miniconda3/envs/disease_sig/lib/python3.10/site-packages (from pydantic!=1.8,!=1.8.1,<3.0.0,>=1.7.4->spacy<3.8.0,>=3.7.2->en-core-web-md==3.7.1) (2.14.6)\n",
      "Requirement already satisfied: typing-extensions>=4.6.1 in /home/ddalton/miniconda3/envs/disease_sig/lib/python3.10/site-packages (from pydantic!=1.8,!=1.8.1,<3.0.0,>=1.7.4->spacy<3.8.0,>=3.7.2->en-core-web-md==3.7.1) (4.8.0)\n",
      "Requirement already satisfied: charset-normalizer<4,>=2 in /home/ddalton/miniconda3/envs/disease_sig/lib/python3.10/site-packages (from requests<3.0.0,>=2.13.0->spacy<3.8.0,>=3.7.2->en-core-web-md==3.7.1) (2.0.4)\n",
      "Requirement already satisfied: idna<4,>=2.5 in /home/ddalton/miniconda3/envs/disease_sig/lib/python3.10/site-packages (from requests<3.0.0,>=2.13.0->spacy<3.8.0,>=3.7.2->en-core-web-md==3.7.1) (3.4)\n",
      "Requirement already satisfied: urllib3<3,>=1.21.1 in /home/ddalton/miniconda3/envs/disease_sig/lib/python3.10/site-packages (from requests<3.0.0,>=2.13.0->spacy<3.8.0,>=3.7.2->en-core-web-md==3.7.1) (1.26.18)\n",
      "Requirement already satisfied: certifi>=2017.4.17 in /home/ddalton/miniconda3/envs/disease_sig/lib/python3.10/site-packages (from requests<3.0.0,>=2.13.0->spacy<3.8.0,>=3.7.2->en-core-web-md==3.7.1) (2023.11.17)\n",
      "Requirement already satisfied: blis<0.8.0,>=0.7.8 in /home/ddalton/miniconda3/envs/disease_sig/lib/python3.10/site-packages (from thinc<8.3.0,>=8.1.8->spacy<3.8.0,>=3.7.2->en-core-web-md==3.7.1) (0.7.11)\n",
      "Requirement already satisfied: confection<1.0.0,>=0.0.1 in /home/ddalton/miniconda3/envs/disease_sig/lib/python3.10/site-packages (from thinc<8.3.0,>=8.1.8->spacy<3.8.0,>=3.7.2->en-core-web-md==3.7.1) (0.1.4)\n",
      "Requirement already satisfied: click<9.0.0,>=7.1.1 in /home/ddalton/miniconda3/envs/disease_sig/lib/python3.10/site-packages (from typer<0.10.0,>=0.3.0->spacy<3.8.0,>=3.7.2->en-core-web-md==3.7.1) (8.1.7)\n",
      "Requirement already satisfied: cloudpathlib<0.17.0,>=0.7.0 in /home/ddalton/miniconda3/envs/disease_sig/lib/python3.10/site-packages (from weasel<0.4.0,>=0.1.0->spacy<3.8.0,>=3.7.2->en-core-web-md==3.7.1) (0.16.0)\n",
      "Requirement already satisfied: MarkupSafe>=2.0 in /home/ddalton/miniconda3/envs/disease_sig/lib/python3.10/site-packages (from jinja2->spacy<3.8.0,>=3.7.2->en-core-web-md==3.7.1) (2.1.1)\n",
      "\u001b[38;5;2m✔ Download and installation successful\u001b[0m\n",
      "You can now load the package via spacy.load('en_core_web_md')\n"
     ]
    }
   ],
   "source": [
    "!python -m spacy download en_core_web_md"
   ]
  },
  {
   "cell_type": "markdown",
   "metadata": {},
   "source": [
    "## b. DiSignAtlas get MeSH terms from DataSets"
   ]
  },
  {
   "cell_type": "code",
   "execution_count": 47,
   "metadata": {},
   "outputs": [
    {
     "name": "stderr",
     "output_type": "stream",
     "text": [
      "  1%|          | 34/5059 [01:03<2:36:36,  1.87s/it]\n"
     ]
    },
    {
     "ename": "KeyboardInterrupt",
     "evalue": "",
     "output_type": "error",
     "traceback": [
      "\u001b[0;31m---------------------------------------------------------------------------\u001b[0m",
      "\u001b[0;31mKeyboardInterrupt\u001b[0m                         Traceback (most recent call last)",
      "Cell \u001b[0;32mIn[47], line 105\u001b[0m\n\u001b[1;32m    103\u001b[0m pmids \u001b[38;5;241m=\u001b[39m \u001b[38;5;28mlist\u001b[39m()\n\u001b[1;32m    104\u001b[0m \u001b[38;5;28;01mfor\u001b[39;00m dataset_id \u001b[38;5;129;01min\u001b[39;00m tqdm(dataset_ids):\n\u001b[0;32m--> 105\u001b[0m     pmid \u001b[38;5;241m=\u001b[39m \u001b[43mget_pmid_from_geo_via_eutils\u001b[49m\u001b[43m(\u001b[49m\u001b[43mdataset_id\u001b[49m\u001b[43m)\u001b[49m\n\u001b[1;32m    106\u001b[0m     pmids\u001b[38;5;241m.\u001b[39mappend(pmid)\n",
      "Cell \u001b[0;32mIn[28], line 81\u001b[0m, in \u001b[0;36mget_pmid_from_geo_via_eutils\u001b[0;34m(geo_series_id)\u001b[0m\n\u001b[1;32m     78\u001b[0m     \u001b[38;5;28;01mreturn\u001b[39;00m \u001b[38;5;28;01mNone\u001b[39;00m\n\u001b[1;32m     80\u001b[0m \u001b[38;5;66;03m# Use elink to establish links between GEO and PubMed databases\u001b[39;00m\n\u001b[0;32m---> 81\u001b[0m handle \u001b[38;5;241m=\u001b[39m \u001b[43mEntrez\u001b[49m\u001b[38;5;241;43m.\u001b[39;49m\u001b[43melink\u001b[49m\u001b[43m(\u001b[49m\u001b[43mdbfrom\u001b[49m\u001b[38;5;241;43m=\u001b[39;49m\u001b[38;5;124;43m\"\u001b[39;49m\u001b[38;5;124;43mgds\u001b[39;49m\u001b[38;5;124;43m\"\u001b[39;49m\u001b[43m,\u001b[49m\u001b[43m \u001b[49m\u001b[43mdb\u001b[49m\u001b[38;5;241;43m=\u001b[39;49m\u001b[38;5;124;43m\"\u001b[39;49m\u001b[38;5;124;43mpubmed\u001b[39;49m\u001b[38;5;124;43m\"\u001b[39;49m\u001b[43m,\u001b[49m\u001b[43m \u001b[49m\u001b[38;5;28;43mid\u001b[39;49m\u001b[38;5;241;43m=\u001b[39;49m\u001b[43mgds_id\u001b[49m\u001b[43m)\u001b[49m\n\u001b[1;32m     82\u001b[0m record \u001b[38;5;241m=\u001b[39m Entrez\u001b[38;5;241m.\u001b[39mread(handle)\n\u001b[1;32m     83\u001b[0m handle\u001b[38;5;241m.\u001b[39mclose()\n",
      "File \u001b[0;32m~/miniconda3/envs/disease_sig/lib/python3.10/site-packages/Bio/Entrez/__init__.py:281\u001b[0m, in \u001b[0;36melink\u001b[0;34m(**keywds)\u001b[0m\n\u001b[1;32m    279\u001b[0m variables \u001b[38;5;241m=\u001b[39m {}\n\u001b[1;32m    280\u001b[0m variables\u001b[38;5;241m.\u001b[39mupdate(keywds)\n\u001b[0;32m--> 281\u001b[0m \u001b[38;5;28;01mreturn\u001b[39;00m \u001b[43m_open\u001b[49m\u001b[43m(\u001b[49m\u001b[43mcgi\u001b[49m\u001b[43m,\u001b[49m\u001b[43m \u001b[49m\u001b[43mvariables\u001b[49m\u001b[43m)\u001b[49m\n",
      "File \u001b[0;32m~/miniconda3/envs/disease_sig/lib/python3.10/site-packages/Bio/Entrez/__init__.py:606\u001b[0m, in \u001b[0;36m_open\u001b[0;34m(cgi, params, post, ecitmatch)\u001b[0m\n\u001b[1;32m    604\u001b[0m         handle \u001b[38;5;241m=\u001b[39m urlopen(cgi, data\u001b[38;5;241m=\u001b[39moptions\u001b[38;5;241m.\u001b[39mencode(\u001b[38;5;124m\"\u001b[39m\u001b[38;5;124mutf8\u001b[39m\u001b[38;5;124m\"\u001b[39m))\n\u001b[1;32m    605\u001b[0m     \u001b[38;5;28;01melse\u001b[39;00m:\n\u001b[0;32m--> 606\u001b[0m         handle \u001b[38;5;241m=\u001b[39m \u001b[43murlopen\u001b[49m\u001b[43m(\u001b[49m\u001b[43mcgi\u001b[49m\u001b[43m)\u001b[49m\n\u001b[1;32m    607\u001b[0m \u001b[38;5;28;01mexcept\u001b[39;00m HTTPError \u001b[38;5;28;01mas\u001b[39;00m exception:\n\u001b[1;32m    608\u001b[0m     \u001b[38;5;66;03m# Reraise if the final try fails\u001b[39;00m\n\u001b[1;32m    609\u001b[0m     \u001b[38;5;28;01mif\u001b[39;00m i \u001b[38;5;241m>\u001b[39m\u001b[38;5;241m=\u001b[39m max_tries \u001b[38;5;241m-\u001b[39m \u001b[38;5;241m1\u001b[39m:\n",
      "File \u001b[0;32m~/miniconda3/envs/disease_sig/lib/python3.10/urllib/request.py:216\u001b[0m, in \u001b[0;36murlopen\u001b[0;34m(url, data, timeout, cafile, capath, cadefault, context)\u001b[0m\n\u001b[1;32m    214\u001b[0m \u001b[38;5;28;01melse\u001b[39;00m:\n\u001b[1;32m    215\u001b[0m     opener \u001b[38;5;241m=\u001b[39m _opener\n\u001b[0;32m--> 216\u001b[0m \u001b[38;5;28;01mreturn\u001b[39;00m \u001b[43mopener\u001b[49m\u001b[38;5;241;43m.\u001b[39;49m\u001b[43mopen\u001b[49m\u001b[43m(\u001b[49m\u001b[43murl\u001b[49m\u001b[43m,\u001b[49m\u001b[43m \u001b[49m\u001b[43mdata\u001b[49m\u001b[43m,\u001b[49m\u001b[43m \u001b[49m\u001b[43mtimeout\u001b[49m\u001b[43m)\u001b[49m\n",
      "File \u001b[0;32m~/miniconda3/envs/disease_sig/lib/python3.10/urllib/request.py:519\u001b[0m, in \u001b[0;36mOpenerDirector.open\u001b[0;34m(self, fullurl, data, timeout)\u001b[0m\n\u001b[1;32m    516\u001b[0m     req \u001b[38;5;241m=\u001b[39m meth(req)\n\u001b[1;32m    518\u001b[0m sys\u001b[38;5;241m.\u001b[39maudit(\u001b[38;5;124m'\u001b[39m\u001b[38;5;124murllib.Request\u001b[39m\u001b[38;5;124m'\u001b[39m, req\u001b[38;5;241m.\u001b[39mfull_url, req\u001b[38;5;241m.\u001b[39mdata, req\u001b[38;5;241m.\u001b[39mheaders, req\u001b[38;5;241m.\u001b[39mget_method())\n\u001b[0;32m--> 519\u001b[0m response \u001b[38;5;241m=\u001b[39m \u001b[38;5;28;43mself\u001b[39;49m\u001b[38;5;241;43m.\u001b[39;49m\u001b[43m_open\u001b[49m\u001b[43m(\u001b[49m\u001b[43mreq\u001b[49m\u001b[43m,\u001b[49m\u001b[43m \u001b[49m\u001b[43mdata\u001b[49m\u001b[43m)\u001b[49m\n\u001b[1;32m    521\u001b[0m \u001b[38;5;66;03m# post-process response\u001b[39;00m\n\u001b[1;32m    522\u001b[0m meth_name \u001b[38;5;241m=\u001b[39m protocol\u001b[38;5;241m+\u001b[39m\u001b[38;5;124m\"\u001b[39m\u001b[38;5;124m_response\u001b[39m\u001b[38;5;124m\"\u001b[39m\n",
      "File \u001b[0;32m~/miniconda3/envs/disease_sig/lib/python3.10/urllib/request.py:536\u001b[0m, in \u001b[0;36mOpenerDirector._open\u001b[0;34m(self, req, data)\u001b[0m\n\u001b[1;32m    533\u001b[0m     \u001b[38;5;28;01mreturn\u001b[39;00m result\n\u001b[1;32m    535\u001b[0m protocol \u001b[38;5;241m=\u001b[39m req\u001b[38;5;241m.\u001b[39mtype\n\u001b[0;32m--> 536\u001b[0m result \u001b[38;5;241m=\u001b[39m \u001b[38;5;28;43mself\u001b[39;49m\u001b[38;5;241;43m.\u001b[39;49m\u001b[43m_call_chain\u001b[49m\u001b[43m(\u001b[49m\u001b[38;5;28;43mself\u001b[39;49m\u001b[38;5;241;43m.\u001b[39;49m\u001b[43mhandle_open\u001b[49m\u001b[43m,\u001b[49m\u001b[43m \u001b[49m\u001b[43mprotocol\u001b[49m\u001b[43m,\u001b[49m\u001b[43m \u001b[49m\u001b[43mprotocol\u001b[49m\u001b[43m \u001b[49m\u001b[38;5;241;43m+\u001b[39;49m\n\u001b[1;32m    537\u001b[0m \u001b[43m                          \u001b[49m\u001b[38;5;124;43m'\u001b[39;49m\u001b[38;5;124;43m_open\u001b[39;49m\u001b[38;5;124;43m'\u001b[39;49m\u001b[43m,\u001b[49m\u001b[43m \u001b[49m\u001b[43mreq\u001b[49m\u001b[43m)\u001b[49m\n\u001b[1;32m    538\u001b[0m \u001b[38;5;28;01mif\u001b[39;00m result:\n\u001b[1;32m    539\u001b[0m     \u001b[38;5;28;01mreturn\u001b[39;00m result\n",
      "File \u001b[0;32m~/miniconda3/envs/disease_sig/lib/python3.10/urllib/request.py:496\u001b[0m, in \u001b[0;36mOpenerDirector._call_chain\u001b[0;34m(self, chain, kind, meth_name, *args)\u001b[0m\n\u001b[1;32m    494\u001b[0m \u001b[38;5;28;01mfor\u001b[39;00m handler \u001b[38;5;129;01min\u001b[39;00m handlers:\n\u001b[1;32m    495\u001b[0m     func \u001b[38;5;241m=\u001b[39m \u001b[38;5;28mgetattr\u001b[39m(handler, meth_name)\n\u001b[0;32m--> 496\u001b[0m     result \u001b[38;5;241m=\u001b[39m \u001b[43mfunc\u001b[49m\u001b[43m(\u001b[49m\u001b[38;5;241;43m*\u001b[39;49m\u001b[43margs\u001b[49m\u001b[43m)\u001b[49m\n\u001b[1;32m    497\u001b[0m     \u001b[38;5;28;01mif\u001b[39;00m result \u001b[38;5;129;01mis\u001b[39;00m \u001b[38;5;129;01mnot\u001b[39;00m \u001b[38;5;28;01mNone\u001b[39;00m:\n\u001b[1;32m    498\u001b[0m         \u001b[38;5;28;01mreturn\u001b[39;00m result\n",
      "File \u001b[0;32m~/miniconda3/envs/disease_sig/lib/python3.10/urllib/request.py:1391\u001b[0m, in \u001b[0;36mHTTPSHandler.https_open\u001b[0;34m(self, req)\u001b[0m\n\u001b[1;32m   1390\u001b[0m \u001b[38;5;28;01mdef\u001b[39;00m \u001b[38;5;21mhttps_open\u001b[39m(\u001b[38;5;28mself\u001b[39m, req):\n\u001b[0;32m-> 1391\u001b[0m     \u001b[38;5;28;01mreturn\u001b[39;00m \u001b[38;5;28;43mself\u001b[39;49m\u001b[38;5;241;43m.\u001b[39;49m\u001b[43mdo_open\u001b[49m\u001b[43m(\u001b[49m\u001b[43mhttp\u001b[49m\u001b[38;5;241;43m.\u001b[39;49m\u001b[43mclient\u001b[49m\u001b[38;5;241;43m.\u001b[39;49m\u001b[43mHTTPSConnection\u001b[49m\u001b[43m,\u001b[49m\u001b[43m \u001b[49m\u001b[43mreq\u001b[49m\u001b[43m,\u001b[49m\n\u001b[1;32m   1392\u001b[0m \u001b[43m        \u001b[49m\u001b[43mcontext\u001b[49m\u001b[38;5;241;43m=\u001b[39;49m\u001b[38;5;28;43mself\u001b[39;49m\u001b[38;5;241;43m.\u001b[39;49m\u001b[43m_context\u001b[49m\u001b[43m,\u001b[49m\u001b[43m \u001b[49m\u001b[43mcheck_hostname\u001b[49m\u001b[38;5;241;43m=\u001b[39;49m\u001b[38;5;28;43mself\u001b[39;49m\u001b[38;5;241;43m.\u001b[39;49m\u001b[43m_check_hostname\u001b[49m\u001b[43m)\u001b[49m\n",
      "File \u001b[0;32m~/miniconda3/envs/disease_sig/lib/python3.10/urllib/request.py:1352\u001b[0m, in \u001b[0;36mAbstractHTTPHandler.do_open\u001b[0;34m(self, http_class, req, **http_conn_args)\u001b[0m\n\u001b[1;32m   1350\u001b[0m     \u001b[38;5;28;01mexcept\u001b[39;00m \u001b[38;5;167;01mOSError\u001b[39;00m \u001b[38;5;28;01mas\u001b[39;00m err: \u001b[38;5;66;03m# timeout error\u001b[39;00m\n\u001b[1;32m   1351\u001b[0m         \u001b[38;5;28;01mraise\u001b[39;00m URLError(err)\n\u001b[0;32m-> 1352\u001b[0m     r \u001b[38;5;241m=\u001b[39m \u001b[43mh\u001b[49m\u001b[38;5;241;43m.\u001b[39;49m\u001b[43mgetresponse\u001b[49m\u001b[43m(\u001b[49m\u001b[43m)\u001b[49m\n\u001b[1;32m   1353\u001b[0m \u001b[38;5;28;01mexcept\u001b[39;00m:\n\u001b[1;32m   1354\u001b[0m     h\u001b[38;5;241m.\u001b[39mclose()\n",
      "File \u001b[0;32m~/miniconda3/envs/disease_sig/lib/python3.10/http/client.py:1375\u001b[0m, in \u001b[0;36mHTTPConnection.getresponse\u001b[0;34m(self)\u001b[0m\n\u001b[1;32m   1373\u001b[0m \u001b[38;5;28;01mtry\u001b[39;00m:\n\u001b[1;32m   1374\u001b[0m     \u001b[38;5;28;01mtry\u001b[39;00m:\n\u001b[0;32m-> 1375\u001b[0m         \u001b[43mresponse\u001b[49m\u001b[38;5;241;43m.\u001b[39;49m\u001b[43mbegin\u001b[49m\u001b[43m(\u001b[49m\u001b[43m)\u001b[49m\n\u001b[1;32m   1376\u001b[0m     \u001b[38;5;28;01mexcept\u001b[39;00m \u001b[38;5;167;01mConnectionError\u001b[39;00m:\n\u001b[1;32m   1377\u001b[0m         \u001b[38;5;28mself\u001b[39m\u001b[38;5;241m.\u001b[39mclose()\n",
      "File \u001b[0;32m~/miniconda3/envs/disease_sig/lib/python3.10/http/client.py:318\u001b[0m, in \u001b[0;36mHTTPResponse.begin\u001b[0;34m(self)\u001b[0m\n\u001b[1;32m    316\u001b[0m \u001b[38;5;66;03m# read until we get a non-100 response\u001b[39;00m\n\u001b[1;32m    317\u001b[0m \u001b[38;5;28;01mwhile\u001b[39;00m \u001b[38;5;28;01mTrue\u001b[39;00m:\n\u001b[0;32m--> 318\u001b[0m     version, status, reason \u001b[38;5;241m=\u001b[39m \u001b[38;5;28;43mself\u001b[39;49m\u001b[38;5;241;43m.\u001b[39;49m\u001b[43m_read_status\u001b[49m\u001b[43m(\u001b[49m\u001b[43m)\u001b[49m\n\u001b[1;32m    319\u001b[0m     \u001b[38;5;28;01mif\u001b[39;00m status \u001b[38;5;241m!=\u001b[39m CONTINUE:\n\u001b[1;32m    320\u001b[0m         \u001b[38;5;28;01mbreak\u001b[39;00m\n",
      "File \u001b[0;32m~/miniconda3/envs/disease_sig/lib/python3.10/http/client.py:279\u001b[0m, in \u001b[0;36mHTTPResponse._read_status\u001b[0;34m(self)\u001b[0m\n\u001b[1;32m    278\u001b[0m \u001b[38;5;28;01mdef\u001b[39;00m \u001b[38;5;21m_read_status\u001b[39m(\u001b[38;5;28mself\u001b[39m):\n\u001b[0;32m--> 279\u001b[0m     line \u001b[38;5;241m=\u001b[39m \u001b[38;5;28mstr\u001b[39m(\u001b[38;5;28;43mself\u001b[39;49m\u001b[38;5;241;43m.\u001b[39;49m\u001b[43mfp\u001b[49m\u001b[38;5;241;43m.\u001b[39;49m\u001b[43mreadline\u001b[49m\u001b[43m(\u001b[49m\u001b[43m_MAXLINE\u001b[49m\u001b[43m \u001b[49m\u001b[38;5;241;43m+\u001b[39;49m\u001b[43m \u001b[49m\u001b[38;5;241;43m1\u001b[39;49m\u001b[43m)\u001b[49m, \u001b[38;5;124m\"\u001b[39m\u001b[38;5;124miso-8859-1\u001b[39m\u001b[38;5;124m\"\u001b[39m)\n\u001b[1;32m    280\u001b[0m     \u001b[38;5;28;01mif\u001b[39;00m \u001b[38;5;28mlen\u001b[39m(line) \u001b[38;5;241m>\u001b[39m _MAXLINE:\n\u001b[1;32m    281\u001b[0m         \u001b[38;5;28;01mraise\u001b[39;00m LineTooLong(\u001b[38;5;124m\"\u001b[39m\u001b[38;5;124mstatus line\u001b[39m\u001b[38;5;124m\"\u001b[39m)\n",
      "File \u001b[0;32m~/miniconda3/envs/disease_sig/lib/python3.10/socket.py:705\u001b[0m, in \u001b[0;36mSocketIO.readinto\u001b[0;34m(self, b)\u001b[0m\n\u001b[1;32m    703\u001b[0m \u001b[38;5;28;01mwhile\u001b[39;00m \u001b[38;5;28;01mTrue\u001b[39;00m:\n\u001b[1;32m    704\u001b[0m     \u001b[38;5;28;01mtry\u001b[39;00m:\n\u001b[0;32m--> 705\u001b[0m         \u001b[38;5;28;01mreturn\u001b[39;00m \u001b[38;5;28;43mself\u001b[39;49m\u001b[38;5;241;43m.\u001b[39;49m\u001b[43m_sock\u001b[49m\u001b[38;5;241;43m.\u001b[39;49m\u001b[43mrecv_into\u001b[49m\u001b[43m(\u001b[49m\u001b[43mb\u001b[49m\u001b[43m)\u001b[49m\n\u001b[1;32m    706\u001b[0m     \u001b[38;5;28;01mexcept\u001b[39;00m timeout:\n\u001b[1;32m    707\u001b[0m         \u001b[38;5;28mself\u001b[39m\u001b[38;5;241m.\u001b[39m_timeout_occurred \u001b[38;5;241m=\u001b[39m \u001b[38;5;28;01mTrue\u001b[39;00m\n",
      "File \u001b[0;32m~/miniconda3/envs/disease_sig/lib/python3.10/ssl.py:1307\u001b[0m, in \u001b[0;36mSSLSocket.recv_into\u001b[0;34m(self, buffer, nbytes, flags)\u001b[0m\n\u001b[1;32m   1303\u001b[0m     \u001b[38;5;28;01mif\u001b[39;00m flags \u001b[38;5;241m!=\u001b[39m \u001b[38;5;241m0\u001b[39m:\n\u001b[1;32m   1304\u001b[0m         \u001b[38;5;28;01mraise\u001b[39;00m \u001b[38;5;167;01mValueError\u001b[39;00m(\n\u001b[1;32m   1305\u001b[0m           \u001b[38;5;124m\"\u001b[39m\u001b[38;5;124mnon-zero flags not allowed in calls to recv_into() on \u001b[39m\u001b[38;5;132;01m%s\u001b[39;00m\u001b[38;5;124m\"\u001b[39m \u001b[38;5;241m%\u001b[39m\n\u001b[1;32m   1306\u001b[0m           \u001b[38;5;28mself\u001b[39m\u001b[38;5;241m.\u001b[39m\u001b[38;5;18m__class__\u001b[39m)\n\u001b[0;32m-> 1307\u001b[0m     \u001b[38;5;28;01mreturn\u001b[39;00m \u001b[38;5;28;43mself\u001b[39;49m\u001b[38;5;241;43m.\u001b[39;49m\u001b[43mread\u001b[49m\u001b[43m(\u001b[49m\u001b[43mnbytes\u001b[49m\u001b[43m,\u001b[49m\u001b[43m \u001b[49m\u001b[43mbuffer\u001b[49m\u001b[43m)\u001b[49m\n\u001b[1;32m   1308\u001b[0m \u001b[38;5;28;01melse\u001b[39;00m:\n\u001b[1;32m   1309\u001b[0m     \u001b[38;5;28;01mreturn\u001b[39;00m \u001b[38;5;28msuper\u001b[39m()\u001b[38;5;241m.\u001b[39mrecv_into(buffer, nbytes, flags)\n",
      "File \u001b[0;32m~/miniconda3/envs/disease_sig/lib/python3.10/ssl.py:1163\u001b[0m, in \u001b[0;36mSSLSocket.read\u001b[0;34m(self, len, buffer)\u001b[0m\n\u001b[1;32m   1161\u001b[0m \u001b[38;5;28;01mtry\u001b[39;00m:\n\u001b[1;32m   1162\u001b[0m     \u001b[38;5;28;01mif\u001b[39;00m buffer \u001b[38;5;129;01mis\u001b[39;00m \u001b[38;5;129;01mnot\u001b[39;00m \u001b[38;5;28;01mNone\u001b[39;00m:\n\u001b[0;32m-> 1163\u001b[0m         \u001b[38;5;28;01mreturn\u001b[39;00m \u001b[38;5;28;43mself\u001b[39;49m\u001b[38;5;241;43m.\u001b[39;49m\u001b[43m_sslobj\u001b[49m\u001b[38;5;241;43m.\u001b[39;49m\u001b[43mread\u001b[49m\u001b[43m(\u001b[49m\u001b[38;5;28;43mlen\u001b[39;49m\u001b[43m,\u001b[49m\u001b[43m \u001b[49m\u001b[43mbuffer\u001b[49m\u001b[43m)\u001b[49m\n\u001b[1;32m   1164\u001b[0m     \u001b[38;5;28;01melse\u001b[39;00m:\n\u001b[1;32m   1165\u001b[0m         \u001b[38;5;28;01mreturn\u001b[39;00m \u001b[38;5;28mself\u001b[39m\u001b[38;5;241m.\u001b[39m_sslobj\u001b[38;5;241m.\u001b[39mread(\u001b[38;5;28mlen\u001b[39m)\n",
      "\u001b[0;31mKeyboardInterrupt\u001b[0m: "
     ]
    }
   ],
   "source": [
    "\"\"\"DiSginAtlas DataSets\n",
    "\n",
    "The objective here is to retrieve the datasets from DiSignAtlas.\n",
    "\n",
    "Structure:\n",
    "    1. Imports, Variables and Functions\n",
    "    2. Load Data\n",
    "    3. Retrieve DataSets\n",
    "\"\"\"\n",
    "\n",
    "# 1. Imports, Variables and Functions\n",
    "# imports\n",
    "import pandas as pd, numpy as np, os, sys, re, json, pickle, time, datetime, random\n",
    "import requests\n",
    "import xml.etree.ElementTree as ET\n",
    "import time, re\n",
    "from Bio import Entrez\n",
    "import logging\n",
    "import pandas as pd\n",
    "import json\n",
    "import logging\n",
    "\n",
    "logging.basicConfig(\n",
    "    level=logging.INFO, format=\"%(asctime)s - %(levelname)s - %(message)s\"\n",
    ")\n",
    "\n",
    "# variables\n",
    "dataset_info_path = os.path.join(\"..\", \"data\", \"DiSignAtlas\", \"dis_info_datasets\")\n",
    "Entrez.email = \"dylandaltonsub@gmail.com\"\n",
    "\n",
    "# functions\n",
    "\n",
    "# 1. Imports, Variables, Functions\n",
    "# imports\n",
    "import requests\n",
    "import xml.etree.ElementTree as ET\n",
    "import time, re\n",
    "from Bio import Entrez\n",
    "import logging\n",
    "import pandas as pd\n",
    "import json\n",
    "\n",
    "logging.basicConfig(\n",
    "    level=logging.INFO, format=\"%(asctime)s - %(levelname)s - %(message)s\"\n",
    ")\n",
    "# variables\n",
    "base_url = \"http://www.ilincs.org/api\"\n",
    "\n",
    "\n",
    "# functions\n",
    "\n",
    "\n",
    "def fetch_mesh_terms_from_pubmed(pmid, max_retries=10, retry_delay=5):\n",
    "    \"\"\"Fetch MeSH terms for a given PubMed ID, with retries.\"\"\"\n",
    "    if not pmid:\n",
    "        return []\n",
    "\n",
    "    base_url = \"https://eutils.ncbi.nlm.nih.gov/entrez/eutils/efetch.fcgi\"\n",
    "    params = {\"db\": \"pubmed\", \"id\": pmid, \"retmode\": \"xml\"}\n",
    "    attempts = 0\n",
    "\n",
    "    while attempts < max_retries:\n",
    "        response = requests.get(base_url, params=params)\n",
    "        if response.status_code == 200:\n",
    "            # Parse the XML response to extract MeSH terms and tree numbers\n",
    "            root = ET.fromstring(response.text)\n",
    "            mesh_terms = [\n",
    "                descriptor.findtext(\"DescriptorName\")\n",
    "                for descriptor in root.findall(\".//MeshHeading\")\n",
    "            ]\n",
    "\n",
    "            mesh_tree_numbers = []\n",
    "            for descriptor in root.findall(\".//MeshHeading\"):\n",
    "                descriptor_ui = descriptor.find(\"DescriptorName\").get(\"UI\")\n",
    "                tree_numbers = root.findall(\n",
    "                    f\".//DescriptorRecord[DescriptorUI='{descriptor_ui}']/TreeNumberList/TreeNumber\"\n",
    "                )\n",
    "                mesh_tree_numbers.extend(\n",
    "                    [tree_number.text for tree_number in tree_numbers]\n",
    "                )\n",
    "\n",
    "            return mesh_terms, mesh_tree_numbers\n",
    "\n",
    "        else:\n",
    "            print(\n",
    "                f\"Attempt {attempts + 1} failed: Error fetching MeSH terms for PMID {pmid}: {response.text}\"\n",
    "            )\n",
    "            time.sleep(retry_delay)\n",
    "            attempts += 1\n",
    "\n",
    "    print(\"Max retries reached. Failed to fetch MeSH terms.\")\n",
    "    return []\n",
    "\n",
    "\n",
    "# 2. Load Data\n",
    "# retrieve disease datasets\n",
    "df_dataset_info = pd.read_csv(dataset_info_path)\n",
    "dataset_ids = df_dataset_info[\"accession\"].unique().tolist()\n",
    "\n",
    "# 3. Retrieve MeSH Terms\n",
    "\n",
    "# Retrieve pmid\n",
    "pmids = list()\n",
    "for dataset_id in tqdm(dataset_ids):\n",
    "    pmid = get_pmid_from_geo_via_eutils(dataset_id)\n",
    "    pmids.append(pmid)"
   ]
  },
  {
   "cell_type": "code",
   "execution_count": null,
   "metadata": {},
   "outputs": [
    {
     "name": "stdout",
     "output_type": "stream",
     "text": [
      "An error occurred: Invalid db name specified: geo\n"
     ]
    }
   ],
   "source": [
    "from Bio import Entrez\n",
    "\n",
    "# Set your email address here\n",
    "Entrez.email = \"your_email@example.com\"\n",
    "\n",
    "\n",
    "def get_pmid_from_geo_series(geo_series_id):\n",
    "    try:\n",
    "        # Search in GEO database for the given series accession ID\n",
    "        handle = Entrez.esearch(db=\"geo\", term=geo_series_id)\n",
    "        record = Entrez.read(handle)\n",
    "        handle.close()\n",
    "\n",
    "        # Extract the GEO series ID list\n",
    "        geo_id_list = record[\"IdList\"]\n",
    "        if not geo_id_list:\n",
    "            print(\"No GEO record found for the given GEO series ID.\")\n",
    "            return None\n",
    "\n",
    "        # Use elink to establish links between GEO and PubMed databases\n",
    "        handle = Entrez.elink(dbfrom=\"geo\", db=\"pubmed\", id=geo_id_list[0])\n",
    "        record = Entrez.read(handle)\n",
    "        handle.close()\n",
    "\n",
    "        # Check if LinkSetDb is present\n",
    "        if \"LinkSetDb\" in record[0] and len(record[0][\"LinkSetDb\"]) > 0:\n",
    "            # Extract and return all PMIDs\n",
    "            pmids = [link[\"Id\"] for link in record[0][\"LinkSetDb\"][0][\"Link\"]]\n",
    "            return pmids\n",
    "        else:\n",
    "            return None\n",
    "\n",
    "    except Exception as e:\n",
    "        print(f\"An error occurred: {e}\")\n",
    "        return None\n",
    "\n",
    "\n",
    "get_pmid_from_geo_series(\"GSE11352\")"
   ]
  },
  {
   "cell_type": "code",
   "execution_count": null,
   "metadata": {},
   "outputs": [
    {
     "name": "stderr",
     "output_type": "stream",
     "text": [
      "  0%|          | 1/5059 [00:00<48:25,  1.74it/s]"
     ]
    },
    {
     "name": "stdout",
     "output_type": "stream",
     "text": [
      "['9925742']\n"
     ]
    },
    {
     "name": "stderr",
     "output_type": "stream",
     "text": [
      "  0%|          | 2/5059 [00:01<46:27,  1.81it/s]"
     ]
    },
    {
     "name": "stdout",
     "output_type": "stream",
     "text": [
      "[]\n"
     ]
    },
    {
     "name": "stderr",
     "output_type": "stream",
     "text": [
      "  0%|          | 3/5059 [00:01<46:10,  1.83it/s]"
     ]
    },
    {
     "name": "stdout",
     "output_type": "stream",
     "text": [
      "[]\n"
     ]
    },
    {
     "name": "stderr",
     "output_type": "stream",
     "text": [
      "  0%|          | 4/5059 [00:02<57:02,  1.48it/s]"
     ]
    },
    {
     "name": "stdout",
     "output_type": "stream",
     "text": [
      "['10265992']\n"
     ]
    },
    {
     "name": "stderr",
     "output_type": "stream",
     "text": [
      "  0%|          | 5/5059 [00:03<52:54,  1.59it/s]"
     ]
    },
    {
     "name": "stdout",
     "output_type": "stream",
     "text": [
      "['10313933', '9946684']\n"
     ]
    },
    {
     "name": "stderr",
     "output_type": "stream",
     "text": [
      "  0%|          | 6/5059 [00:03<50:39,  1.66it/s]"
     ]
    },
    {
     "name": "stdout",
     "output_type": "stream",
     "text": [
      "['10653068', '10520536']\n"
     ]
    },
    {
     "name": "stderr",
     "output_type": "stream",
     "text": [
      "  0%|          | 7/5059 [00:04<1:04:43,  1.30it/s]"
     ]
    },
    {
     "name": "stdout",
     "output_type": "stream",
     "text": [
      "[]\n"
     ]
    },
    {
     "name": "stderr",
     "output_type": "stream",
     "text": [
      "  0%|          | 8/5059 [00:05<59:16,  1.42it/s]  "
     ]
    },
    {
     "name": "stdout",
     "output_type": "stream",
     "text": [
      "[]\n"
     ]
    },
    {
     "name": "stderr",
     "output_type": "stream",
     "text": [
      "  0%|          | 9/5059 [00:05<56:13,  1.50it/s]"
     ]
    },
    {
     "name": "stdout",
     "output_type": "stream",
     "text": [
      "['10138356']\n"
     ]
    },
    {
     "name": "stderr",
     "output_type": "stream",
     "text": [
      "  0%|          | 10/5059 [00:06<53:11,  1.58it/s]"
     ]
    },
    {
     "name": "stdout",
     "output_type": "stream",
     "text": [
      "['10730858', '10476848', '10367559', '10560940', '10380801', '10216638', '10091108', '9887463', '9851198', '9776786', '9756479', '9606658', '9287979', '9065671', '8980298', '8913016', '8816910', '8727810', '8626946', '8652234']\n"
     ]
    },
    {
     "name": "stderr",
     "output_type": "stream",
     "text": [
      "  0%|          | 11/5059 [00:06<51:12,  1.64it/s]"
     ]
    },
    {
     "name": "stdout",
     "output_type": "stream",
     "text": [
      "[]\n"
     ]
    },
    {
     "name": "stderr",
     "output_type": "stream",
     "text": [
      "  0%|          | 12/5059 [00:07<54:54,  1.53it/s]"
     ]
    },
    {
     "name": "stdout",
     "output_type": "stream",
     "text": [
      "['9871934']\n"
     ]
    },
    {
     "name": "stderr",
     "output_type": "stream",
     "text": [
      "  0%|          | 13/5059 [00:08<52:21,  1.61it/s]"
     ]
    },
    {
     "name": "stdout",
     "output_type": "stream",
     "text": [
      "[]\n"
     ]
    },
    {
     "name": "stderr",
     "output_type": "stream",
     "text": [
      "  0%|          | 14/5059 [00:08<53:25,  1.57it/s]"
     ]
    },
    {
     "name": "stdout",
     "output_type": "stream",
     "text": [
      "['10316491', '9870080']\n"
     ]
    },
    {
     "name": "stderr",
     "output_type": "stream",
     "text": [
      "  0%|          | 15/5059 [00:09<51:21,  1.64it/s]"
     ]
    },
    {
     "name": "stdout",
     "output_type": "stream",
     "text": [
      "['9869976']\n"
     ]
    },
    {
     "name": "stderr",
     "output_type": "stream",
     "text": [
      "  0%|          | 16/5059 [00:10<50:04,  1.68it/s]"
     ]
    },
    {
     "name": "stdout",
     "output_type": "stream",
     "text": [
      "['9831722']\n"
     ]
    },
    {
     "name": "stderr",
     "output_type": "stream",
     "text": [
      "  0%|          | 17/5059 [00:10<48:44,  1.72it/s]"
     ]
    },
    {
     "name": "stdout",
     "output_type": "stream",
     "text": [
      "['9947310']\n"
     ]
    },
    {
     "name": "stderr",
     "output_type": "stream",
     "text": [
      "  0%|          | 18/5059 [00:11<48:42,  1.73it/s]"
     ]
    },
    {
     "name": "stdout",
     "output_type": "stream",
     "text": [
      "['10314084']\n"
     ]
    },
    {
     "name": "stderr",
     "output_type": "stream",
     "text": [
      "  0%|          | 19/5059 [00:11<47:41,  1.76it/s]"
     ]
    },
    {
     "name": "stdout",
     "output_type": "stream",
     "text": [
      "[]\n"
     ]
    },
    {
     "name": "stderr",
     "output_type": "stream",
     "text": [
      "  0%|          | 20/5059 [00:12<47:16,  1.78it/s]"
     ]
    },
    {
     "name": "stdout",
     "output_type": "stream",
     "text": [
      "['9939319']\n"
     ]
    },
    {
     "name": "stderr",
     "output_type": "stream",
     "text": [
      "  0%|          | 21/5059 [00:12<48:55,  1.72it/s]"
     ]
    },
    {
     "name": "stdout",
     "output_type": "stream",
     "text": [
      "['10703796', '10573468', '10438415', '10402960', '10215424', '10155030', '10020541', '9760933', '9434001', '9245788', '9221146', '8924528', '8609715', '8464436', '8435426', '8389253', '8101720', '8006920', '7844365', '7782529']\n"
     ]
    },
    {
     "name": "stderr",
     "output_type": "stream",
     "text": [
      "  0%|          | 22/5059 [00:13<48:10,  1.74it/s]"
     ]
    },
    {
     "name": "stdout",
     "output_type": "stream",
     "text": [
      "['10745176', '10722681', '10767120', '10693120', '10667818', '10632378', '10569153', '10687892', '10683661', '10080892', '10070831', '9988979', '9977920', '9715360', '9657346', '9527239', '9462980', '9358964', '9307497', '9275777']\n"
     ]
    },
    {
     "name": "stderr",
     "output_type": "stream",
     "text": [
      "  0%|          | 23/5059 [00:14<48:59,  1.71it/s]"
     ]
    },
    {
     "name": "stdout",
     "output_type": "stream",
     "text": [
      "['10537544', '10360283', '10320659', '10077054', '10077044', '9931222', '10042817', '9936229', '9902657', '9876670', '9833968', '9879687', '9707255', '9653683', '9583566', '9439153', '9415445', '9352476', '9317345', '9037270']\n"
     ]
    },
    {
     "name": "stderr",
     "output_type": "stream",
     "text": [
      "  0%|          | 24/5059 [00:14<48:24,  1.73it/s]"
     ]
    },
    {
     "name": "stdout",
     "output_type": "stream",
     "text": [
      "['10115633']\n"
     ]
    },
    {
     "name": "stderr",
     "output_type": "stream",
     "text": [
      "  0%|          | 25/5059 [00:15<47:26,  1.77it/s]"
     ]
    },
    {
     "name": "stdout",
     "output_type": "stream",
     "text": [
      "[]\n"
     ]
    },
    {
     "name": "stderr",
     "output_type": "stream",
     "text": [
      "  1%|          | 26/5059 [00:15<47:21,  1.77it/s]"
     ]
    },
    {
     "name": "stdout",
     "output_type": "stream",
     "text": [
      "['10727235']\n"
     ]
    },
    {
     "name": "stderr",
     "output_type": "stream",
     "text": [
      "  1%|          | 27/5059 [00:16<47:02,  1.78it/s]"
     ]
    },
    {
     "name": "stdout",
     "output_type": "stream",
     "text": [
      "[]\n"
     ]
    },
    {
     "name": "stderr",
     "output_type": "stream",
     "text": [
      "  1%|          | 28/5059 [00:16<46:47,  1.79it/s]"
     ]
    },
    {
     "name": "stdout",
     "output_type": "stream",
     "text": [
      "[]\n"
     ]
    },
    {
     "name": "stderr",
     "output_type": "stream",
     "text": [
      "  1%|          | 29/5059 [00:17<46:10,  1.82it/s]"
     ]
    },
    {
     "name": "stdout",
     "output_type": "stream",
     "text": [
      "[]\n"
     ]
    },
    {
     "name": "stderr",
     "output_type": "stream",
     "text": [
      "  1%|          | 30/5059 [00:18<48:08,  1.74it/s]"
     ]
    },
    {
     "name": "stdout",
     "output_type": "stream",
     "text": [
      "['10086528']\n"
     ]
    },
    {
     "name": "stderr",
     "output_type": "stream",
     "text": [
      "  1%|          | 31/5059 [00:18<48:10,  1.74it/s]"
     ]
    },
    {
     "name": "stdout",
     "output_type": "stream",
     "text": [
      "['10388732', '10520677', '9478217', '9307497', '8861175', '8899731', '8774275', '8927606', '8191213', '6865583', '6059023', '5514402', '5161754']\n"
     ]
    },
    {
     "name": "stderr",
     "output_type": "stream",
     "text": [
      "  1%|          | 32/5059 [00:19<47:32,  1.76it/s]"
     ]
    },
    {
     "name": "stdout",
     "output_type": "stream",
     "text": [
      "['9897315']\n"
     ]
    },
    {
     "name": "stderr",
     "output_type": "stream",
     "text": [
      "  1%|          | 33/5059 [00:19<47:41,  1.76it/s]"
     ]
    },
    {
     "name": "stdout",
     "output_type": "stream",
     "text": [
      "['9917045']\n"
     ]
    },
    {
     "name": "stderr",
     "output_type": "stream",
     "text": [
      "  1%|          | 34/5059 [00:20<47:18,  1.77it/s]"
     ]
    },
    {
     "name": "stdout",
     "output_type": "stream",
     "text": [
      "['10075968']\n"
     ]
    },
    {
     "name": "stderr",
     "output_type": "stream",
     "text": [
      "  1%|          | 35/5059 [00:20<46:52,  1.79it/s]"
     ]
    },
    {
     "name": "stdout",
     "output_type": "stream",
     "text": [
      "['10433122', '10360967', '10647198', '10636660', '10321177', '10161342', '10094573', '9942821', '9905826', '9892376', '9790124', '9648022', '9806671', '9563794', '9556651', '9478991', '9552080', '9469784', '9352497', '9330475']\n"
     ]
    },
    {
     "name": "stderr",
     "output_type": "stream",
     "text": [
      "  1%|          | 36/5059 [00:21<46:55,  1.78it/s]"
     ]
    },
    {
     "name": "stdout",
     "output_type": "stream",
     "text": [
      "['10752377', '10758397', '10659692', '10574141', '10500015', '10589751', '10055521', '9943828', '9530920', '9247163', '9378670', '9243540', '9272393', '9107211', '9178693', '9217787', '9171163', '8916865', '8299293', '8344483']\n"
     ]
    },
    {
     "name": "stderr",
     "output_type": "stream",
     "text": [
      "  1%|          | 37/5059 [00:21<46:47,  1.79it/s]"
     ]
    },
    {
     "name": "stdout",
     "output_type": "stream",
     "text": [
      "['10704160', '10542808', '10355208', '10561850', '10438415', '10331709', '10285281', '10098320', '10008864', '9980463', '9631693', '9597966', '9516794', '9512492', '9423988', '9277771', '9063138', '8935080', '8964317', '8770560']\n"
     ]
    },
    {
     "name": "stderr",
     "output_type": "stream",
     "text": [
      "  1%|          | 38/5059 [00:22<46:56,  1.78it/s]"
     ]
    },
    {
     "name": "stdout",
     "output_type": "stream",
     "text": [
      "['9307539']\n"
     ]
    },
    {
     "name": "stderr",
     "output_type": "stream",
     "text": [
      "  1%|          | 39/5059 [00:23<47:03,  1.78it/s]"
     ]
    },
    {
     "name": "stdout",
     "output_type": "stream",
     "text": [
      "['9385889']\n"
     ]
    },
    {
     "name": "stderr",
     "output_type": "stream",
     "text": [
      "  1%|          | 40/5059 [00:23<46:55,  1.78it/s]"
     ]
    },
    {
     "name": "stdout",
     "output_type": "stream",
     "text": [
      "['10254915']\n"
     ]
    },
    {
     "name": "stderr",
     "output_type": "stream",
     "text": [
      "  1%|          | 41/5059 [00:24<46:41,  1.79it/s]"
     ]
    },
    {
     "name": "stdout",
     "output_type": "stream",
     "text": [
      "['9917147', '9896980']\n"
     ]
    },
    {
     "name": "stderr",
     "output_type": "stream",
     "text": [
      "  1%|          | 42/5059 [00:24<46:30,  1.80it/s]"
     ]
    },
    {
     "name": "stdout",
     "output_type": "stream",
     "text": [
      "['9886280']\n"
     ]
    },
    {
     "name": "stderr",
     "output_type": "stream",
     "text": [
      "  1%|          | 43/5059 [00:25<46:33,  1.80it/s]"
     ]
    },
    {
     "name": "stdout",
     "output_type": "stream",
     "text": [
      "['9836991']\n"
     ]
    },
    {
     "name": "stderr",
     "output_type": "stream",
     "text": [
      "  1%|          | 44/5059 [00:25<46:34,  1.79it/s]"
     ]
    },
    {
     "name": "stdout",
     "output_type": "stream",
     "text": [
      "[]\n"
     ]
    },
    {
     "name": "stderr",
     "output_type": "stream",
     "text": [
      "  1%|          | 45/5059 [00:26<46:34,  1.79it/s]"
     ]
    },
    {
     "name": "stdout",
     "output_type": "stream",
     "text": [
      "['10698354', '10695810', '10618120', '10360967', '10636660', '10565789', '10559779', '10541701', '10321177', '10360283', '10251564', '10161342', '9995796', '10184429', '10175786', '10170487', '10076574', '10006576', '9942821', '9905826']\n"
     ]
    },
    {
     "name": "stderr",
     "output_type": "stream",
     "text": [
      "  1%|          | 46/5059 [00:27<51:47,  1.61it/s]"
     ]
    },
    {
     "name": "stdout",
     "output_type": "stream",
     "text": [
      "['10061454', '9853066', '9761127', '9439891', '7678445', '7399646', '7201525', '6495566', '5958474', '4123579', '3271975', '2831002']\n"
     ]
    },
    {
     "name": "stderr",
     "output_type": "stream",
     "text": [
      "  1%|          | 47/5059 [00:27<49:57,  1.67it/s]"
     ]
    },
    {
     "name": "stdout",
     "output_type": "stream",
     "text": [
      "['10328522', '10127511', '9519979', '8894706', '8798413', '8287349', '8175990', '7399646', '7266295', '7256765', '8797933', '6882813', '6964674', '6814821', '6676640', '6599314', '6460305', '6444590', '6428707', '5699328']\n"
     ]
    },
    {
     "name": "stderr",
     "output_type": "stream",
     "text": [
      "  1%|          | 48/5059 [00:28<48:40,  1.72it/s]"
     ]
    },
    {
     "name": "stdout",
     "output_type": "stream",
     "text": [
      "['10233092']\n"
     ]
    },
    {
     "name": "stderr",
     "output_type": "stream",
     "text": [
      "  1%|          | 49/5059 [00:28<48:41,  1.72it/s]"
     ]
    },
    {
     "name": "stdout",
     "output_type": "stream",
     "text": [
      "[]\n"
     ]
    },
    {
     "name": "stderr",
     "output_type": "stream",
     "text": [
      "  1%|          | 50/5059 [00:29<47:54,  1.74it/s]"
     ]
    },
    {
     "name": "stdout",
     "output_type": "stream",
     "text": [
      "['10722827', '10438415', '10351129', '9977056', '9849323', '9245788', '8991170', '8148487', '8109134', '7399646', '7352056', '5241709', '5356873', '3431718', '3236847', '3201790']\n"
     ]
    },
    {
     "name": "stderr",
     "output_type": "stream",
     "text": [
      "  1%|          | 51/5059 [00:29<47:52,  1.74it/s]"
     ]
    },
    {
     "name": "stdout",
     "output_type": "stream",
     "text": [
      "['10750783', '10739819', '10589561', '9343179', '7555498', '7399646', '7469443', '7084269', '6698047', '5947894', '5241709', '4653821', '4303935', '3841158', '3829857', '3751090', '3537625', '3203354', '3044426', '2860497']\n"
     ]
    },
    {
     "name": "stderr",
     "output_type": "stream",
     "text": [
      "  1%|          | 52/5059 [00:30<47:44,  1.75it/s]"
     ]
    },
    {
     "name": "stdout",
     "output_type": "stream",
     "text": [
      "['10076533', '9968075', '8800418']\n"
     ]
    },
    {
     "name": "stderr",
     "output_type": "stream",
     "text": [
      "  1%|          | 53/5059 [00:31<48:06,  1.73it/s]"
     ]
    },
    {
     "name": "stdout",
     "output_type": "stream",
     "text": [
      "['10000302']\n"
     ]
    },
    {
     "name": "stderr",
     "output_type": "stream",
     "text": [
      "  1%|          | 54/5059 [00:31<47:05,  1.77it/s]"
     ]
    },
    {
     "name": "stdout",
     "output_type": "stream",
     "text": [
      "[]\n"
     ]
    },
    {
     "name": "stderr",
     "output_type": "stream",
     "text": [
      "  1%|          | 55/5059 [00:32<46:43,  1.78it/s]"
     ]
    },
    {
     "name": "stdout",
     "output_type": "stream",
     "text": [
      "[]\n"
     ]
    },
    {
     "name": "stderr",
     "output_type": "stream",
     "text": [
      "  1%|          | 56/5059 [00:32<48:03,  1.73it/s]"
     ]
    },
    {
     "name": "stdout",
     "output_type": "stream",
     "text": [
      "['10036868']\n"
     ]
    },
    {
     "name": "stderr",
     "output_type": "stream",
     "text": [
      "  1%|          | 57/5059 [00:33<50:09,  1.66it/s]"
     ]
    },
    {
     "name": "stdout",
     "output_type": "stream",
     "text": [
      "['9855408']\n"
     ]
    },
    {
     "name": "stderr",
     "output_type": "stream",
     "text": [
      "  1%|          | 58/5059 [00:34<49:00,  1.70it/s]"
     ]
    },
    {
     "name": "stdout",
     "output_type": "stream",
     "text": [
      "[]\n"
     ]
    },
    {
     "name": "stderr",
     "output_type": "stream",
     "text": [
      "  1%|          | 59/5059 [00:34<49:16,  1.69it/s]"
     ]
    },
    {
     "name": "stdout",
     "output_type": "stream",
     "text": [
      "['9866126']\n"
     ]
    },
    {
     "name": "stderr",
     "output_type": "stream",
     "text": [
      "  1%|          | 60/5059 [00:35<51:04,  1.63it/s]"
     ]
    },
    {
     "name": "stdout",
     "output_type": "stream",
     "text": [
      "['7376903']\n"
     ]
    },
    {
     "name": "stderr",
     "output_type": "stream",
     "text": [
      "  1%|          | 61/5059 [00:35<49:39,  1.68it/s]"
     ]
    },
    {
     "name": "stdout",
     "output_type": "stream",
     "text": [
      "[]\n"
     ]
    },
    {
     "name": "stderr",
     "output_type": "stream",
     "text": [
      "  1%|          | 62/5059 [00:36<49:05,  1.70it/s]"
     ]
    },
    {
     "name": "stdout",
     "output_type": "stream",
     "text": [
      "['9860080']\n"
     ]
    },
    {
     "name": "stderr",
     "output_type": "stream",
     "text": [
      "  1%|          | 63/5059 [00:36<48:21,  1.72it/s]"
     ]
    },
    {
     "name": "stdout",
     "output_type": "stream",
     "text": [
      "['9978754']\n"
     ]
    },
    {
     "name": "stderr",
     "output_type": "stream",
     "text": [
      "  1%|▏         | 64/5059 [00:37<50:44,  1.64it/s]"
     ]
    },
    {
     "name": "stdout",
     "output_type": "stream",
     "text": [
      "['10449536']\n"
     ]
    },
    {
     "name": "stderr",
     "output_type": "stream",
     "text": [
      "  1%|▏         | 65/5059 [00:39<1:15:52,  1.10it/s]"
     ]
    },
    {
     "name": "stdout",
     "output_type": "stream",
     "text": [
      "['9867723']\n"
     ]
    },
    {
     "name": "stderr",
     "output_type": "stream",
     "text": [
      "  1%|▏         | 66/5059 [00:39<1:07:34,  1.23it/s]"
     ]
    },
    {
     "name": "stdout",
     "output_type": "stream",
     "text": [
      "['10764456', '10758485', '10702330', '10519576', '10497545', '10018165', '10135462', '10036397', '9714559', '9326093', '9086428', '8970318', '8668230', '8645574', '8435481', '8264658', '7911711', '7850694', '7294406']\n"
     ]
    },
    {
     "name": "stderr",
     "output_type": "stream",
     "text": [
      "  1%|▏         | 67/5059 [00:40<1:00:56,  1.37it/s]"
     ]
    },
    {
     "name": "stdout",
     "output_type": "stream",
     "text": [
      "['9633835']\n"
     ]
    },
    {
     "name": "stderr",
     "output_type": "stream",
     "text": [
      "  1%|▏         | 68/5059 [00:40<56:59,  1.46it/s]  "
     ]
    },
    {
     "name": "stdout",
     "output_type": "stream",
     "text": [
      "['10082832']\n"
     ]
    },
    {
     "name": "stderr",
     "output_type": "stream",
     "text": [
      "  1%|▏         | 69/5059 [00:41<54:13,  1.53it/s]"
     ]
    },
    {
     "name": "stdout",
     "output_type": "stream",
     "text": [
      "[]\n"
     ]
    },
    {
     "name": "stderr",
     "output_type": "stream",
     "text": [
      "  1%|▏         | 70/5059 [00:42<52:25,  1.59it/s]"
     ]
    },
    {
     "name": "stdout",
     "output_type": "stream",
     "text": [
      "[]\n"
     ]
    },
    {
     "name": "stderr",
     "output_type": "stream",
     "text": [
      "  1%|▏         | 71/5059 [00:42<53:09,  1.56it/s]"
     ]
    },
    {
     "name": "stdout",
     "output_type": "stream",
     "text": [
      "['10154218']\n"
     ]
    },
    {
     "name": "stderr",
     "output_type": "stream",
     "text": [
      "  1%|▏         | 72/5059 [00:43<54:43,  1.52it/s]"
     ]
    },
    {
     "name": "stdout",
     "output_type": "stream",
     "text": [
      "[]\n"
     ]
    },
    {
     "name": "stderr",
     "output_type": "stream",
     "text": [
      "  1%|▏         | 73/5059 [00:44<51:39,  1.61it/s]"
     ]
    },
    {
     "name": "stdout",
     "output_type": "stream",
     "text": [
      "[]\n"
     ]
    },
    {
     "name": "stderr",
     "output_type": "stream",
     "text": [
      "  1%|▏         | 74/5059 [00:44<50:18,  1.65it/s]"
     ]
    },
    {
     "name": "stdout",
     "output_type": "stream",
     "text": [
      "['9888378']\n"
     ]
    },
    {
     "name": "stderr",
     "output_type": "stream",
     "text": [
      "  1%|▏         | 75/5059 [00:45<49:18,  1.68it/s]"
     ]
    },
    {
     "name": "stdout",
     "output_type": "stream",
     "text": [
      "[]\n"
     ]
    },
    {
     "name": "stderr",
     "output_type": "stream",
     "text": [
      "  2%|▏         | 76/5059 [00:45<50:05,  1.66it/s]"
     ]
    },
    {
     "name": "stdout",
     "output_type": "stream",
     "text": [
      "[]\n"
     ]
    },
    {
     "name": "stderr",
     "output_type": "stream",
     "text": [
      "  2%|▏         | 77/5059 [00:46<48:41,  1.71it/s]"
     ]
    },
    {
     "name": "stdout",
     "output_type": "stream",
     "text": [
      "['9811157']\n"
     ]
    },
    {
     "name": "stderr",
     "output_type": "stream",
     "text": [
      "  2%|▏         | 78/5059 [00:46<50:05,  1.66it/s]"
     ]
    },
    {
     "name": "stdout",
     "output_type": "stream",
     "text": [
      "[]\n"
     ]
    },
    {
     "name": "stderr",
     "output_type": "stream",
     "text": [
      "  2%|▏         | 79/5059 [00:47<49:46,  1.67it/s]"
     ]
    },
    {
     "name": "stdout",
     "output_type": "stream",
     "text": [
      "['9902403']\n"
     ]
    },
    {
     "name": "stderr",
     "output_type": "stream",
     "text": [
      "  2%|▏         | 80/5059 [00:48<49:04,  1.69it/s]"
     ]
    },
    {
     "name": "stdout",
     "output_type": "stream",
     "text": [
      "['9974101']\n"
     ]
    },
    {
     "name": "stderr",
     "output_type": "stream",
     "text": [
      "  2%|▏         | 81/5059 [00:48<48:01,  1.73it/s]"
     ]
    },
    {
     "name": "stdout",
     "output_type": "stream",
     "text": [
      "['9902403']\n"
     ]
    },
    {
     "name": "stderr",
     "output_type": "stream",
     "text": [
      "  2%|▏         | 82/5059 [00:49<47:25,  1.75it/s]"
     ]
    },
    {
     "name": "stdout",
     "output_type": "stream",
     "text": [
      "['9893928']\n"
     ]
    },
    {
     "name": "stderr",
     "output_type": "stream",
     "text": [
      "  2%|▏         | 83/5059 [00:49<46:56,  1.77it/s]"
     ]
    },
    {
     "name": "stdout",
     "output_type": "stream",
     "text": [
      "['10703664']\n"
     ]
    },
    {
     "name": "stderr",
     "output_type": "stream",
     "text": [
      "  2%|▏         | 84/5059 [00:50<46:30,  1.78it/s]"
     ]
    },
    {
     "name": "stdout",
     "output_type": "stream",
     "text": [
      "['10564923', '10501147', '10223939', '9907924', '9822539', '9803484', '9846084', '9679011', '9328420', '9283838', '8877377', '8667451', '8806885', '8515512', '8498039', '8494978', '8416738', '8806768', '8072311', '8063272']\n"
     ]
    },
    {
     "name": "stderr",
     "output_type": "stream",
     "text": [
      "  2%|▏         | 85/5059 [00:50<45:59,  1.80it/s]"
     ]
    },
    {
     "name": "stdout",
     "output_type": "stream",
     "text": [
      "['9906387']\n"
     ]
    },
    {
     "name": "stderr",
     "output_type": "stream",
     "text": [
      "  2%|▏         | 86/5059 [00:51<45:52,  1.81it/s]"
     ]
    },
    {
     "name": "stdout",
     "output_type": "stream",
     "text": [
      "['9867746']\n"
     ]
    },
    {
     "name": "stderr",
     "output_type": "stream",
     "text": [
      "  2%|▏         | 87/5059 [00:51<45:39,  1.81it/s]"
     ]
    },
    {
     "name": "stdout",
     "output_type": "stream",
     "text": [
      "[]\n"
     ]
    },
    {
     "name": "stderr",
     "output_type": "stream",
     "text": [
      "  2%|▏         | 88/5059 [00:52<45:40,  1.81it/s]"
     ]
    },
    {
     "name": "stdout",
     "output_type": "stream",
     "text": [
      "['10186542', '8570321', '7945594', '7836641']\n"
     ]
    },
    {
     "name": "stderr",
     "output_type": "stream",
     "text": [
      "  2%|▏         | 89/5059 [00:53<46:37,  1.78it/s]"
     ]
    },
    {
     "name": "stdout",
     "output_type": "stream",
     "text": [
      "['9898580']\n"
     ]
    },
    {
     "name": "stderr",
     "output_type": "stream",
     "text": [
      "  2%|▏         | 90/5059 [00:53<48:01,  1.72it/s]"
     ]
    },
    {
     "name": "stdout",
     "output_type": "stream",
     "text": [
      "['10622543', '10324253']\n"
     ]
    },
    {
     "name": "stderr",
     "output_type": "stream",
     "text": [
      "  2%|▏         | 91/5059 [00:54<47:08,  1.76it/s]"
     ]
    },
    {
     "name": "stdout",
     "output_type": "stream",
     "text": [
      "['10102848', '9968345']\n"
     ]
    },
    {
     "name": "stderr",
     "output_type": "stream",
     "text": [
      "  2%|▏         | 92/5059 [00:54<47:41,  1.74it/s]"
     ]
    },
    {
     "name": "stdout",
     "output_type": "stream",
     "text": [
      "['9909353']\n"
     ]
    },
    {
     "name": "stderr",
     "output_type": "stream",
     "text": [
      "  2%|▏         | 93/5059 [00:55<46:49,  1.77it/s]"
     ]
    },
    {
     "name": "stdout",
     "output_type": "stream",
     "text": [
      "['9746914']\n"
     ]
    },
    {
     "name": "stderr",
     "output_type": "stream",
     "text": [
      "  2%|▏         | 94/5059 [00:56<46:46,  1.77it/s]"
     ]
    },
    {
     "name": "stdout",
     "output_type": "stream",
     "text": [
      "['10030741']\n"
     ]
    },
    {
     "name": "stderr",
     "output_type": "stream",
     "text": [
      "  2%|▏         | 95/5059 [00:56<47:45,  1.73it/s]"
     ]
    },
    {
     "name": "stdout",
     "output_type": "stream",
     "text": [
      "[]\n"
     ]
    },
    {
     "name": "stderr",
     "output_type": "stream",
     "text": [
      "  2%|▏         | 96/5059 [00:57<46:59,  1.76it/s]"
     ]
    },
    {
     "name": "stdout",
     "output_type": "stream",
     "text": [
      "[]\n"
     ]
    },
    {
     "name": "stderr",
     "output_type": "stream",
     "text": [
      "  2%|▏         | 97/5059 [00:57<48:01,  1.72it/s]"
     ]
    },
    {
     "name": "stdout",
     "output_type": "stream",
     "text": [
      "[]\n"
     ]
    },
    {
     "name": "stderr",
     "output_type": "stream",
     "text": [
      "  2%|▏         | 98/5059 [00:58<48:32,  1.70it/s]"
     ]
    },
    {
     "name": "stdout",
     "output_type": "stream",
     "text": [
      "['10396381', '9846246']\n"
     ]
    },
    {
     "name": "stderr",
     "output_type": "stream",
     "text": [
      "  2%|▏         | 99/5059 [00:58<48:09,  1.72it/s]"
     ]
    },
    {
     "name": "stdout",
     "output_type": "stream",
     "text": [
      "['9812989']\n"
     ]
    },
    {
     "name": "stderr",
     "output_type": "stream",
     "text": [
      "  2%|▏         | 100/5059 [00:59<47:15,  1.75it/s]"
     ]
    },
    {
     "name": "stdout",
     "output_type": "stream",
     "text": [
      "['10132990']\n"
     ]
    },
    {
     "name": "stderr",
     "output_type": "stream",
     "text": [
      "  2%|▏         | 101/5059 [01:00<47:03,  1.76it/s]"
     ]
    },
    {
     "name": "stdout",
     "output_type": "stream",
     "text": [
      "[]\n"
     ]
    },
    {
     "name": "stderr",
     "output_type": "stream",
     "text": [
      "  2%|▏         | 102/5059 [01:00<46:27,  1.78it/s]"
     ]
    },
    {
     "name": "stdout",
     "output_type": "stream",
     "text": [
      "['9820711']\n"
     ]
    },
    {
     "name": "stderr",
     "output_type": "stream",
     "text": [
      "  2%|▏         | 103/5059 [01:01<45:58,  1.80it/s]"
     ]
    },
    {
     "name": "stdout",
     "output_type": "stream",
     "text": [
      "['9807753']\n"
     ]
    },
    {
     "name": "stderr",
     "output_type": "stream",
     "text": [
      "  2%|▏         | 104/5059 [01:01<45:35,  1.81it/s]"
     ]
    },
    {
     "name": "stdout",
     "output_type": "stream",
     "text": [
      "[]\n"
     ]
    },
    {
     "name": "stderr",
     "output_type": "stream",
     "text": [
      "  2%|▏         | 105/5059 [01:02<45:16,  1.82it/s]"
     ]
    },
    {
     "name": "stdout",
     "output_type": "stream",
     "text": [
      "['9813974']\n"
     ]
    },
    {
     "name": "stderr",
     "output_type": "stream",
     "text": [
      "  2%|▏         | 106/5059 [01:02<45:14,  1.82it/s]"
     ]
    },
    {
     "name": "stdout",
     "output_type": "stream",
     "text": [
      "['9813974']\n"
     ]
    },
    {
     "name": "stderr",
     "output_type": "stream",
     "text": [
      "  2%|▏         | 107/5059 [01:03<45:08,  1.83it/s]"
     ]
    },
    {
     "name": "stdout",
     "output_type": "stream",
     "text": [
      "[]\n"
     ]
    },
    {
     "name": "stderr",
     "output_type": "stream",
     "text": [
      "  2%|▏         | 108/5059 [01:03<45:16,  1.82it/s]"
     ]
    },
    {
     "name": "stdout",
     "output_type": "stream",
     "text": [
      "['9801253']\n"
     ]
    },
    {
     "name": "stderr",
     "output_type": "stream",
     "text": [
      "  2%|▏         | 109/5059 [01:04<45:19,  1.82it/s]"
     ]
    },
    {
     "name": "stdout",
     "output_type": "stream",
     "text": [
      "['10741953', '10069469']\n"
     ]
    },
    {
     "name": "stderr",
     "output_type": "stream",
     "text": [
      "  2%|▏         | 110/5059 [01:04<45:45,  1.80it/s]"
     ]
    },
    {
     "name": "stdout",
     "output_type": "stream",
     "text": [
      "['10622801', '10449257', '10142164', '10074409', '10048522', '9889851', '10160489', '9548705', '9245788', '9186768', '8841524']\n"
     ]
    },
    {
     "name": "stderr",
     "output_type": "stream",
     "text": [
      "  2%|▏         | 111/5059 [01:05<45:15,  1.82it/s]"
     ]
    },
    {
     "name": "stdout",
     "output_type": "stream",
     "text": [
      "['9779632']\n"
     ]
    },
    {
     "name": "stderr",
     "output_type": "stream",
     "text": [
      "  2%|▏         | 112/5059 [01:06<45:10,  1.82it/s]"
     ]
    },
    {
     "name": "stdout",
     "output_type": "stream",
     "text": [
      "['9753460']\n"
     ]
    },
    {
     "name": "stderr",
     "output_type": "stream",
     "text": [
      "  2%|▏         | 113/5059 [01:06<45:11,  1.82it/s]"
     ]
    },
    {
     "name": "stdout",
     "output_type": "stream",
     "text": [
      "[]\n"
     ]
    },
    {
     "name": "stderr",
     "output_type": "stream",
     "text": [
      "  2%|▏         | 114/5059 [01:07<44:56,  1.83it/s]"
     ]
    },
    {
     "name": "stdout",
     "output_type": "stream",
     "text": [
      "['10663247', '9816929']\n"
     ]
    },
    {
     "name": "stderr",
     "output_type": "stream",
     "text": [
      "  2%|▏         | 115/5059 [01:07<45:39,  1.80it/s]"
     ]
    },
    {
     "name": "stdout",
     "output_type": "stream",
     "text": [
      "[]\n"
     ]
    },
    {
     "name": "stderr",
     "output_type": "stream",
     "text": [
      "  2%|▏         | 116/5059 [01:08<45:39,  1.80it/s]"
     ]
    },
    {
     "name": "stdout",
     "output_type": "stream",
     "text": [
      "['10081686']\n"
     ]
    },
    {
     "name": "stderr",
     "output_type": "stream",
     "text": [
      "  2%|▏         | 117/5059 [01:08<45:31,  1.81it/s]"
     ]
    },
    {
     "name": "stdout",
     "output_type": "stream",
     "text": [
      "['10136558']\n"
     ]
    },
    {
     "name": "stderr",
     "output_type": "stream",
     "text": [
      "  2%|▏         | 118/5059 [01:09<45:38,  1.80it/s]"
     ]
    },
    {
     "name": "stdout",
     "output_type": "stream",
     "text": [
      "['9895451']\n"
     ]
    },
    {
     "name": "stderr",
     "output_type": "stream",
     "text": [
      "  2%|▏         | 119/5059 [01:09<45:36,  1.81it/s]"
     ]
    },
    {
     "name": "stdout",
     "output_type": "stream",
     "text": [
      "['10707058', '10700408', '10727608', '10724547', '10637089', '10529263', '10358623', '10320987', '10514079', '10492072', '10413891', '10267985', '10257544', '9918018', '10189050', '10166908', '9841875', '9825366', '9683735', '9873461']\n"
     ]
    },
    {
     "name": "stderr",
     "output_type": "stream",
     "text": [
      "  2%|▏         | 120/5059 [01:10<45:25,  1.81it/s]"
     ]
    },
    {
     "name": "stdout",
     "output_type": "stream",
     "text": [
      "['9942332']\n"
     ]
    },
    {
     "name": "stderr",
     "output_type": "stream",
     "text": [
      "  2%|▏         | 121/5059 [01:11<45:19,  1.82it/s]"
     ]
    },
    {
     "name": "stdout",
     "output_type": "stream",
     "text": [
      "['9747808']\n"
     ]
    },
    {
     "name": "stderr",
     "output_type": "stream",
     "text": [
      "  2%|▏         | 122/5059 [01:11<45:08,  1.82it/s]"
     ]
    },
    {
     "name": "stdout",
     "output_type": "stream",
     "text": [
      "['9743742']\n"
     ]
    },
    {
     "name": "stderr",
     "output_type": "stream",
     "text": [
      "  2%|▏         | 123/5059 [01:12<44:54,  1.83it/s]"
     ]
    },
    {
     "name": "stdout",
     "output_type": "stream",
     "text": [
      "[]\n"
     ]
    },
    {
     "name": "stderr",
     "output_type": "stream",
     "text": [
      "  2%|▏         | 124/5059 [01:12<46:13,  1.78it/s]"
     ]
    },
    {
     "name": "stdout",
     "output_type": "stream",
     "text": [
      "[]\n"
     ]
    },
    {
     "name": "stderr",
     "output_type": "stream",
     "text": [
      "  2%|▏         | 125/5059 [01:13<46:58,  1.75it/s]"
     ]
    },
    {
     "name": "stdout",
     "output_type": "stream",
     "text": [
      "['10233863']\n"
     ]
    },
    {
     "name": "stderr",
     "output_type": "stream",
     "text": [
      "  2%|▏         | 126/5059 [01:13<46:57,  1.75it/s]"
     ]
    },
    {
     "name": "stdout",
     "output_type": "stream",
     "text": [
      "['10491918', '10000909', '10080819', '9562668', '9404605', '9297786', '8781323', '8623328', '7210475']\n"
     ]
    },
    {
     "name": "stderr",
     "output_type": "stream",
     "text": [
      "  3%|▎         | 127/5059 [01:14<47:05,  1.75it/s]"
     ]
    },
    {
     "name": "stdout",
     "output_type": "stream",
     "text": [
      "['10286411', '10079878', '9577739', '9273972', '9065076', '8560968', '5569303']\n"
     ]
    },
    {
     "name": "stderr",
     "output_type": "stream",
     "text": [
      "  3%|▎         | 128/5059 [01:15<46:57,  1.75it/s]"
     ]
    },
    {
     "name": "stdout",
     "output_type": "stream",
     "text": [
      "['10703796', '10020541', '9520667', '9467752', '8327558', '7543192', '7115122', '6341689', '6139068']\n"
     ]
    },
    {
     "name": "stderr",
     "output_type": "stream",
     "text": [
      "  3%|▎         | 129/5059 [01:15<46:13,  1.78it/s]"
     ]
    },
    {
     "name": "stdout",
     "output_type": "stream",
     "text": [
      "[]\n"
     ]
    },
    {
     "name": "stderr",
     "output_type": "stream",
     "text": [
      "  3%|▎         | 130/5059 [01:17<1:12:03,  1.14it/s]"
     ]
    },
    {
     "name": "stdout",
     "output_type": "stream",
     "text": [
      "['10580627', '9651857', '9797950', '9253711', '9110726', '8289976', '7733317', '7732684', '7393249']\n"
     ]
    },
    {
     "name": "stderr",
     "output_type": "stream",
     "text": [
      "  3%|▎         | 131/5059 [01:17<1:03:55,  1.28it/s]"
     ]
    },
    {
     "name": "stdout",
     "output_type": "stream",
     "text": [
      "['10623427', '9660059', '9563764', '9260730', '9164347', '9008839', '8698794', '8358057', '8035766', '7471146', '6836529']\n"
     ]
    },
    {
     "name": "stderr",
     "output_type": "stream",
     "text": [
      "  3%|▎         | 132/5059 [01:18<1:04:01,  1.28it/s]"
     ]
    },
    {
     "name": "stdout",
     "output_type": "stream",
     "text": [
      "['10533932', '8526926', '5870959']\n"
     ]
    },
    {
     "name": "stderr",
     "output_type": "stream",
     "text": [
      "  3%|▎         | 133/5059 [01:19<58:20,  1.41it/s]  "
     ]
    },
    {
     "name": "stdout",
     "output_type": "stream",
     "text": [
      "['9519128', '9375999', '9253003', '9178376', '6986178', '6093887']\n"
     ]
    },
    {
     "name": "stderr",
     "output_type": "stream",
     "text": [
      "  3%|▎         | 134/5059 [01:19<54:12,  1.51it/s]"
     ]
    },
    {
     "name": "stdout",
     "output_type": "stream",
     "text": [
      "['9636054', '8649734', '7787485', '7363816', '7348765', '6861379', '6525478', '6081589', '5777065']\n"
     ]
    },
    {
     "name": "stderr",
     "output_type": "stream",
     "text": [
      "  3%|▎         | 135/5059 [01:20<51:32,  1.59it/s]"
     ]
    },
    {
     "name": "stdout",
     "output_type": "stream",
     "text": [
      "['5984035']\n"
     ]
    },
    {
     "name": "stderr",
     "output_type": "stream",
     "text": [
      "  3%|▎         | 136/5059 [01:20<49:35,  1.65it/s]"
     ]
    },
    {
     "name": "stdout",
     "output_type": "stream",
     "text": [
      "['10564410', '9396926', '9130749', '8974111', '7396431', '7346075', '6369488']\n"
     ]
    },
    {
     "name": "stderr",
     "output_type": "stream",
     "text": [
      "  3%|▎         | 137/5059 [01:21<48:12,  1.70it/s]"
     ]
    },
    {
     "name": "stdout",
     "output_type": "stream",
     "text": [
      "[]\n"
     ]
    },
    {
     "name": "stderr",
     "output_type": "stream",
     "text": [
      "  3%|▎         | 138/5059 [01:21<47:20,  1.73it/s]"
     ]
    },
    {
     "name": "stdout",
     "output_type": "stream",
     "text": [
      "['9738937', '6095600', '5857529']\n"
     ]
    },
    {
     "name": "stderr",
     "output_type": "stream",
     "text": [
      "  3%|▎         | 139/5059 [01:22<46:23,  1.77it/s]"
     ]
    },
    {
     "name": "stdout",
     "output_type": "stream",
     "text": [
      "['10362609', '10208568', '8015722', '6980685', '5792027']\n"
     ]
    },
    {
     "name": "stderr",
     "output_type": "stream",
     "text": [
      "  3%|▎         | 140/5059 [01:22<45:51,  1.79it/s]"
     ]
    },
    {
     "name": "stdout",
     "output_type": "stream",
     "text": [
      "['8790603', '7465167', '6972655']\n"
     ]
    },
    {
     "name": "stderr",
     "output_type": "stream",
     "text": [
      "  3%|▎         | 141/5059 [01:23<45:33,  1.80it/s]"
     ]
    },
    {
     "name": "stdout",
     "output_type": "stream",
     "text": [
      "['9465313', '7570784', '5802577']\n"
     ]
    },
    {
     "name": "stderr",
     "output_type": "stream",
     "text": [
      "  3%|▎         | 142/5059 [01:23<45:26,  1.80it/s]"
     ]
    },
    {
     "name": "stdout",
     "output_type": "stream",
     "text": [
      "['7723939', '7445274', '6882557']\n"
     ]
    },
    {
     "name": "stderr",
     "output_type": "stream",
     "text": [
      "  3%|▎         | 143/5059 [01:24<45:46,  1.79it/s]"
     ]
    },
    {
     "name": "stdout",
     "output_type": "stream",
     "text": [
      "['9878829', '5671344']\n"
     ]
    },
    {
     "name": "stderr",
     "output_type": "stream",
     "text": [
      "  3%|▎         | 144/5059 [01:25<45:23,  1.80it/s]"
     ]
    },
    {
     "name": "stdout",
     "output_type": "stream",
     "text": [
      "[]\n"
     ]
    },
    {
     "name": "stderr",
     "output_type": "stream",
     "text": [
      "  3%|▎         | 145/5059 [01:25<45:10,  1.81it/s]"
     ]
    },
    {
     "name": "stdout",
     "output_type": "stream",
     "text": [
      "['10710468', '10546316', '10541776', '10502548', '10326052', '10291054', '10076020', '9986071', '9909558', '10111636', '9753553', '9734000', '9562177', '9357682', '9185624', '9023565', '8664605', '8664385', '8377242', '8806681']\n"
     ]
    },
    {
     "name": "stderr",
     "output_type": "stream",
     "text": [
      "  3%|▎         | 146/5059 [01:26<45:16,  1.81it/s]"
     ]
    },
    {
     "name": "stdout",
     "output_type": "stream",
     "text": [
      "['5241709', '2396576']\n"
     ]
    },
    {
     "name": "stderr",
     "output_type": "stream",
     "text": [
      "  3%|▎         | 147/5059 [01:26<45:02,  1.82it/s]"
     ]
    },
    {
     "name": "stdout",
     "output_type": "stream",
     "text": [
      "['10451996', '10477296', '10017543', '9038140', '8769324', '8564051', '7659024', '5562997']\n"
     ]
    },
    {
     "name": "stderr",
     "output_type": "stream",
     "text": [
      "  3%|▎         | 148/5059 [01:27<44:56,  1.82it/s]"
     ]
    },
    {
     "name": "stdout",
     "output_type": "stream",
     "text": [
      "[]\n"
     ]
    },
    {
     "name": "stderr",
     "output_type": "stream",
     "text": [
      "  3%|▎         | 149/5059 [01:27<45:28,  1.80it/s]"
     ]
    },
    {
     "name": "stdout",
     "output_type": "stream",
     "text": [
      "[]\n"
     ]
    },
    {
     "name": "stderr",
     "output_type": "stream",
     "text": [
      "  3%|▎         | 150/5059 [01:28<45:08,  1.81it/s]"
     ]
    },
    {
     "name": "stdout",
     "output_type": "stream",
     "text": [
      "[]\n"
     ]
    },
    {
     "name": "stderr",
     "output_type": "stream",
     "text": [
      "  3%|▎         | 151/5059 [01:28<45:05,  1.81it/s]"
     ]
    },
    {
     "name": "stdout",
     "output_type": "stream",
     "text": [
      "[]\n"
     ]
    },
    {
     "name": "stderr",
     "output_type": "stream",
     "text": [
      "  3%|▎         | 152/5059 [01:29<44:45,  1.83it/s]"
     ]
    },
    {
     "name": "stdout",
     "output_type": "stream",
     "text": [
      "['6325628', '5830965']\n"
     ]
    },
    {
     "name": "stderr",
     "output_type": "stream",
     "text": [
      "  3%|▎         | 153/5059 [01:30<46:21,  1.76it/s]"
     ]
    },
    {
     "name": "stdout",
     "output_type": "stream",
     "text": [
      "['7295570']\n"
     ]
    },
    {
     "name": "stderr",
     "output_type": "stream",
     "text": [
      "  3%|▎         | 154/5059 [01:30<45:49,  1.78it/s]"
     ]
    },
    {
     "name": "stdout",
     "output_type": "stream",
     "text": [
      "['9467416', '8024089', '6423559']\n"
     ]
    },
    {
     "name": "stderr",
     "output_type": "stream",
     "text": [
      "  3%|▎         | 155/5059 [01:31<46:18,  1.77it/s]"
     ]
    },
    {
     "name": "stdout",
     "output_type": "stream",
     "text": [
      "[]\n"
     ]
    },
    {
     "name": "stderr",
     "output_type": "stream",
     "text": [
      "  3%|▎         | 156/5059 [01:31<46:02,  1.77it/s]"
     ]
    },
    {
     "name": "stdout",
     "output_type": "stream",
     "text": [
      "['10393163', '9992716', '9850159', '9768893', '9569050', '9472610', '9297827', '9110726', '8766462', '8764189', '8599367', '8193764', '8190311', '7988739', '7875920', '7027223', '6668409']\n"
     ]
    },
    {
     "name": "stderr",
     "output_type": "stream",
     "text": [
      "  3%|▎         | 157/5059 [01:32<46:59,  1.74it/s]"
     ]
    },
    {
     "name": "stdout",
     "output_type": "stream",
     "text": [
      "['10191743', '9846113', '9888248', '8897927', '7461276']\n"
     ]
    },
    {
     "name": "stderr",
     "output_type": "stream",
     "text": [
      "  3%|▎         | 158/5059 [01:32<47:13,  1.73it/s]"
     ]
    },
    {
     "name": "stdout",
     "output_type": "stream",
     "text": [
      "['5539167']\n"
     ]
    },
    {
     "name": "stderr",
     "output_type": "stream",
     "text": [
      "  3%|▎         | 159/5059 [01:33<46:49,  1.74it/s]"
     ]
    },
    {
     "name": "stdout",
     "output_type": "stream",
     "text": [
      "['5910826']\n"
     ]
    },
    {
     "name": "stderr",
     "output_type": "stream",
     "text": [
      "  3%|▎         | 160/5059 [01:34<46:18,  1.76it/s]"
     ]
    },
    {
     "name": "stdout",
     "output_type": "stream",
     "text": [
      "['8260298', '6421592']\n"
     ]
    },
    {
     "name": "stderr",
     "output_type": "stream",
     "text": [
      "  3%|▎         | 161/5059 [01:34<45:55,  1.78it/s]"
     ]
    },
    {
     "name": "stdout",
     "output_type": "stream",
     "text": [
      "['9917296', '9379400', '9303321', '8510297', '7993272', '7399646', '5903674', '5988644', '5233813', '4297855', '4097788', '3750042', '3572080', '2728352']\n"
     ]
    },
    {
     "name": "stderr",
     "output_type": "stream",
     "text": [
      "  3%|▎         | 162/5059 [01:35<45:37,  1.79it/s]"
     ]
    },
    {
     "name": "stdout",
     "output_type": "stream",
     "text": [
      "['10625391', '9484524', '9259242', '9280245', '7714434', '5774763']\n"
     ]
    },
    {
     "name": "stderr",
     "output_type": "stream",
     "text": [
      "  3%|▎         | 163/5059 [01:35<46:00,  1.77it/s]"
     ]
    },
    {
     "name": "stdout",
     "output_type": "stream",
     "text": [
      "['10580706', '9071401', '6026051']\n"
     ]
    },
    {
     "name": "stderr",
     "output_type": "stream",
     "text": [
      "  3%|▎         | 164/5059 [01:36<47:28,  1.72it/s]"
     ]
    },
    {
     "name": "stdout",
     "output_type": "stream",
     "text": [
      "['6531457']\n"
     ]
    },
    {
     "name": "stderr",
     "output_type": "stream",
     "text": [
      "  3%|▎         | 165/5059 [01:36<46:40,  1.75it/s]"
     ]
    },
    {
     "name": "stdout",
     "output_type": "stream",
     "text": [
      "[]\n"
     ]
    },
    {
     "name": "stderr",
     "output_type": "stream",
     "text": [
      "  3%|▎         | 166/5059 [01:37<46:30,  1.75it/s]"
     ]
    },
    {
     "name": "stdout",
     "output_type": "stream",
     "text": [
      "['10710410', '9523839', '8405180', '8056518', '7585091', '5703654']\n"
     ]
    },
    {
     "name": "stderr",
     "output_type": "stream",
     "text": [
      "  3%|▎         | 167/5059 [01:38<46:05,  1.77it/s]"
     ]
    },
    {
     "name": "stdout",
     "output_type": "stream",
     "text": [
      "[]\n"
     ]
    },
    {
     "name": "stderr",
     "output_type": "stream",
     "text": [
      "  3%|▎         | 168/5059 [01:38<45:55,  1.77it/s]"
     ]
    },
    {
     "name": "stdout",
     "output_type": "stream",
     "text": [
      "['6028428', '6082401', '5606996', '4758378']\n"
     ]
    },
    {
     "name": "stderr",
     "output_type": "stream",
     "text": [
      "  3%|▎         | 169/5059 [01:39<45:25,  1.79it/s]"
     ]
    },
    {
     "name": "stdout",
     "output_type": "stream",
     "text": [
      "['5773204']\n"
     ]
    },
    {
     "name": "stderr",
     "output_type": "stream",
     "text": [
      "  3%|▎         | 170/5059 [01:39<45:10,  1.80it/s]"
     ]
    },
    {
     "name": "stdout",
     "output_type": "stream",
     "text": [
      "['10694158', '10531788', '10644423', '10630881', '10607580', '10428557', '10405852', '10378662', '10337068', '10128078', '10027040', '10025510', '10011506', '9996845', '9906638', '10164321', '10042688', '9795622', '9722289', '9629929']\n"
     ]
    },
    {
     "name": "stderr",
     "output_type": "stream",
     "text": [
      "  3%|▎         | 171/5059 [01:40<44:56,  1.81it/s]"
     ]
    },
    {
     "name": "stdout",
     "output_type": "stream",
     "text": [
      "['7556288']\n"
     ]
    },
    {
     "name": "stderr",
     "output_type": "stream",
     "text": [
      "  3%|▎         | 172/5059 [01:40<44:43,  1.82it/s]"
     ]
    },
    {
     "name": "stdout",
     "output_type": "stream",
     "text": [
      "['10070996', '9636465', '6307475']\n"
     ]
    },
    {
     "name": "stderr",
     "output_type": "stream",
     "text": [
      "  3%|▎         | 173/5059 [01:41<45:06,  1.80it/s]"
     ]
    },
    {
     "name": "stdout",
     "output_type": "stream",
     "text": [
      "['10505881', '10253470', '9893113', '9702336', '9881725', '9471261', '9072632', '8980842', '9008839', '8648272', '8105344', '8073975', '8085323', '7212409']\n"
     ]
    },
    {
     "name": "stderr",
     "output_type": "stream",
     "text": [
      "  3%|▎         | 174/5059 [01:41<45:54,  1.77it/s]"
     ]
    },
    {
     "name": "stdout",
     "output_type": "stream",
     "text": [
      "['6891963', '5556005']\n"
     ]
    },
    {
     "name": "stderr",
     "output_type": "stream",
     "text": [
      "  3%|▎         | 175/5059 [01:42<45:19,  1.80it/s]"
     ]
    },
    {
     "name": "stdout",
     "output_type": "stream",
     "text": [
      "['5668566']\n"
     ]
    },
    {
     "name": "stderr",
     "output_type": "stream",
     "text": [
      "  3%|▎         | 176/5059 [01:43<46:14,  1.76it/s]"
     ]
    },
    {
     "name": "stdout",
     "output_type": "stream",
     "text": [
      "['10603295', '5621930']\n"
     ]
    },
    {
     "name": "stderr",
     "output_type": "stream",
     "text": [
      "  3%|▎         | 177/5059 [01:43<45:54,  1.77it/s]"
     ]
    },
    {
     "name": "stdout",
     "output_type": "stream",
     "text": [
      "[]\n"
     ]
    },
    {
     "name": "stderr",
     "output_type": "stream",
     "text": [
      "  4%|▎         | 178/5059 [01:44<45:28,  1.79it/s]"
     ]
    },
    {
     "name": "stdout",
     "output_type": "stream",
     "text": [
      "[]\n"
     ]
    },
    {
     "name": "stderr",
     "output_type": "stream",
     "text": [
      "  4%|▎         | 179/5059 [01:44<45:53,  1.77it/s]"
     ]
    },
    {
     "name": "stdout",
     "output_type": "stream",
     "text": [
      "[]\n"
     ]
    },
    {
     "name": "stderr",
     "output_type": "stream",
     "text": [
      "  4%|▎         | 180/5059 [01:45<46:16,  1.76it/s]"
     ]
    },
    {
     "name": "stdout",
     "output_type": "stream",
     "text": [
      "['9703672', '7553508']\n"
     ]
    },
    {
     "name": "stderr",
     "output_type": "stream",
     "text": [
      "  4%|▎         | 181/5059 [01:45<45:40,  1.78it/s]"
     ]
    },
    {
     "name": "stdout",
     "output_type": "stream",
     "text": [
      "['10049508', '10022454', '9772328', '9569883', '9277052', '9054015', '8752225', '8463682', '8073283']\n"
     ]
    },
    {
     "name": "stderr",
     "output_type": "stream",
     "text": [
      "  4%|▎         | 182/5059 [01:46<45:26,  1.79it/s]"
     ]
    },
    {
     "name": "stdout",
     "output_type": "stream",
     "text": [
      "['10730466', '10542661', '10484198', '10454774', '10450371', '10407049', '10683219', '10631049', '10264625', '10243072', '10572361', '10506443', '10407523', '10308494', '10182982', '10077044', '9911911', '10185422', '10009994', '9909302']\n"
     ]
    },
    {
     "name": "stderr",
     "output_type": "stream",
     "text": [
      "  4%|▎         | 183/5059 [01:47<46:28,  1.75it/s]"
     ]
    },
    {
     "name": "stdout",
     "output_type": "stream",
     "text": [
      "['10723182', '10409947', '10623427', '10281280', '10570617', '10446804', '10053149', '9953389', '9748552', '9780302', '9633963', '9482270', '9396780', '9239823', '9554164', '9163174', '9184445', '9133796', '9127067', '9008839']\n"
     ]
    },
    {
     "name": "stderr",
     "output_type": "stream",
     "text": [
      "  4%|▎         | 184/5059 [01:47<45:39,  1.78it/s]"
     ]
    },
    {
     "name": "stdout",
     "output_type": "stream",
     "text": [
      "['10409947', '10570617', '10000172', '9954252', '9856425', '9748552', '9619366', '9633963', '9482270', '9478217', '9396780', '9307497', '9245788', '9133796', '8987357', '8801129', '8249407', '8035766', '7841465', '7680165']\n"
     ]
    },
    {
     "name": "stderr",
     "output_type": "stream",
     "text": [
      "  4%|▎         | 185/5059 [01:48<46:00,  1.77it/s]"
     ]
    },
    {
     "name": "stdout",
     "output_type": "stream",
     "text": [
      "['10296674', '9484965', '9285492', '9246202', '7920513', '7774739', '7427770', '7053600', '6240321']\n"
     ]
    },
    {
     "name": "stderr",
     "output_type": "stream",
     "text": [
      "  4%|▎         | 186/5059 [01:48<45:48,  1.77it/s]"
     ]
    },
    {
     "name": "stdout",
     "output_type": "stream",
     "text": [
      "['10416984', '9496902']\n"
     ]
    },
    {
     "name": "stderr",
     "output_type": "stream",
     "text": [
      "  4%|▎         | 187/5059 [01:49<45:21,  1.79it/s]"
     ]
    },
    {
     "name": "stdout",
     "output_type": "stream",
     "text": [
      "['10703153', '10530689', '10516578', '10483140', '10423698', '10286411', '10077485', '10063950', '9954650', '9893490', '9387026', '9273972', '9203818', '9148213', '9035939', '9006169', '8749980', '8610383', '8360728', '8280950']\n"
     ]
    },
    {
     "name": "stderr",
     "output_type": "stream",
     "text": [
      "  4%|▎         | 188/5059 [01:49<46:55,  1.73it/s]"
     ]
    },
    {
     "name": "stdout",
     "output_type": "stream",
     "text": [
      "['10497003', '9906963', '9358692', '9259241', '9135995', '8890857', '8756255', '8267308']\n"
     ]
    },
    {
     "name": "stderr",
     "output_type": "stream",
     "text": [
      "  4%|▎         | 189/5059 [01:50<46:50,  1.73it/s]"
     ]
    },
    {
     "name": "stdout",
     "output_type": "stream",
     "text": [
      "['10049508', '9772328', '9569883', '7275674', '6582687', '6851586']\n"
     ]
    },
    {
     "name": "stderr",
     "output_type": "stream",
     "text": [
      "  4%|▍         | 190/5059 [01:51<46:09,  1.76it/s]"
     ]
    },
    {
     "name": "stdout",
     "output_type": "stream",
     "text": [
      "['10319804', '9895120', '9713698', '9203566', '8699695', '8280514', '7226514', '6795181', '6696877', '6568189']\n"
     ]
    },
    {
     "name": "stderr",
     "output_type": "stream",
     "text": [
      "  4%|▍         | 191/5059 [01:51<46:12,  1.76it/s]"
     ]
    },
    {
     "name": "stdout",
     "output_type": "stream",
     "text": [
      "['5915175']\n"
     ]
    },
    {
     "name": "stderr",
     "output_type": "stream",
     "text": [
      "  4%|▍         | 192/5059 [01:52<46:22,  1.75it/s]"
     ]
    },
    {
     "name": "stdout",
     "output_type": "stream",
     "text": [
      "['7822815']\n"
     ]
    },
    {
     "name": "stderr",
     "output_type": "stream",
     "text": [
      "  4%|▍         | 193/5059 [01:52<45:34,  1.78it/s]"
     ]
    },
    {
     "name": "stdout",
     "output_type": "stream",
     "text": [
      "[]\n"
     ]
    },
    {
     "name": "stderr",
     "output_type": "stream",
     "text": [
      "  4%|▍         | 194/5059 [01:53<45:17,  1.79it/s]"
     ]
    },
    {
     "name": "stdout",
     "output_type": "stream",
     "text": [
      "['10049508', '9772328', '9569883', '8605491', '6582687', '6851586']\n"
     ]
    },
    {
     "name": "stderr",
     "output_type": "stream",
     "text": [
      "  4%|▍         | 195/5059 [01:53<44:58,  1.80it/s]"
     ]
    },
    {
     "name": "stdout",
     "output_type": "stream",
     "text": [
      "['5608296']\n"
     ]
    },
    {
     "name": "stderr",
     "output_type": "stream",
     "text": [
      "  4%|▍         | 196/5059 [01:54<44:34,  1.82it/s]"
     ]
    },
    {
     "name": "stdout",
     "output_type": "stream",
     "text": [
      "['8343984', '5608296']\n"
     ]
    },
    {
     "name": "stderr",
     "output_type": "stream",
     "text": [
      "  4%|▍         | 197/5059 [01:54<44:58,  1.80it/s]"
     ]
    },
    {
     "name": "stdout",
     "output_type": "stream",
     "text": [
      "['9108263', '7946781']\n"
     ]
    },
    {
     "name": "stderr",
     "output_type": "stream",
     "text": [
      "  4%|▍         | 198/5059 [01:55<45:08,  1.79it/s]"
     ]
    },
    {
     "name": "stdout",
     "output_type": "stream",
     "text": [
      "['10205526', '8900282', '7006430', '6899341', '5727077']\n"
     ]
    },
    {
     "name": "stderr",
     "output_type": "stream",
     "text": [
      "  4%|▍         | 199/5059 [01:56<45:26,  1.78it/s]"
     ]
    },
    {
     "name": "stdout",
     "output_type": "stream",
     "text": [
      "[]\n"
     ]
    },
    {
     "name": "stderr",
     "output_type": "stream",
     "text": [
      "  4%|▍         | 200/5059 [01:56<45:41,  1.77it/s]"
     ]
    },
    {
     "name": "stdout",
     "output_type": "stream",
     "text": [
      "['8047108']\n"
     ]
    },
    {
     "name": "stderr",
     "output_type": "stream",
     "text": [
      "  4%|▍         | 201/5059 [01:57<45:37,  1.77it/s]"
     ]
    },
    {
     "name": "stdout",
     "output_type": "stream",
     "text": [
      "['10266782', '6911306', '6236464', '5802509']\n"
     ]
    },
    {
     "name": "stderr",
     "output_type": "stream",
     "text": [
      "  4%|▍         | 202/5059 [01:57<45:03,  1.80it/s]"
     ]
    },
    {
     "name": "stdout",
     "output_type": "stream",
     "text": [
      "['6839966']\n"
     ]
    },
    {
     "name": "stderr",
     "output_type": "stream",
     "text": [
      "  4%|▍         | 203/5059 [01:58<45:25,  1.78it/s]"
     ]
    },
    {
     "name": "stdout",
     "output_type": "stream",
     "text": [
      "[]\n"
     ]
    },
    {
     "name": "stderr",
     "output_type": "stream",
     "text": [
      "  4%|▍         | 204/5059 [01:58<45:12,  1.79it/s]"
     ]
    },
    {
     "name": "stdout",
     "output_type": "stream",
     "text": [
      "[]\n"
     ]
    },
    {
     "name": "stderr",
     "output_type": "stream",
     "text": [
      "  4%|▍         | 205/5059 [01:59<44:48,  1.81it/s]"
     ]
    },
    {
     "name": "stdout",
     "output_type": "stream",
     "text": [
      "['9758983', '7189327', '6199216', '6202553']\n"
     ]
    },
    {
     "name": "stderr",
     "output_type": "stream",
     "text": [
      "  4%|▍         | 206/5059 [01:59<44:53,  1.80it/s]"
     ]
    },
    {
     "name": "stdout",
     "output_type": "stream",
     "text": [
      "['10395083']\n"
     ]
    },
    {
     "name": "stderr",
     "output_type": "stream",
     "text": [
      "  4%|▍         | 207/5059 [02:00<44:31,  1.82it/s]"
     ]
    },
    {
     "name": "stdout",
     "output_type": "stream",
     "text": [
      "[]\n"
     ]
    },
    {
     "name": "stderr",
     "output_type": "stream",
     "text": [
      "  4%|▍         | 208/5059 [02:01<44:40,  1.81it/s]"
     ]
    },
    {
     "name": "stdout",
     "output_type": "stream",
     "text": [
      "['9895392', '9762355', '9569907', '8806558', '7753873', '6182654']\n"
     ]
    },
    {
     "name": "stderr",
     "output_type": "stream",
     "text": [
      "  4%|▍         | 209/5059 [02:01<44:16,  1.83it/s]"
     ]
    },
    {
     "name": "stdout",
     "output_type": "stream",
     "text": [
      "['10439720', '10182662']\n"
     ]
    },
    {
     "name": "stderr",
     "output_type": "stream",
     "text": [
      "  4%|▍         | 210/5059 [02:02<44:22,  1.82it/s]"
     ]
    },
    {
     "name": "stdout",
     "output_type": "stream",
     "text": [
      "['8917823', '8306372']\n"
     ]
    },
    {
     "name": "stderr",
     "output_type": "stream",
     "text": [
      "  4%|▍         | 211/5059 [02:02<44:19,  1.82it/s]"
     ]
    },
    {
     "name": "stdout",
     "output_type": "stream",
     "text": [
      "['10423936', '10579994', '10215985', '10134639', '10076583', '10137723', '10046998', '10045944', '9959535', '9641109', '9579171', '9358224', '9274568', '9170709', '9140438', '9041415', '9016845', '9162018', '8601839', '8586218']\n"
     ]
    },
    {
     "name": "stderr",
     "output_type": "stream",
     "text": [
      "  4%|▍         | 212/5059 [02:03<53:16,  1.52it/s]"
     ]
    },
    {
     "name": "stdout",
     "output_type": "stream",
     "text": [
      "['8912942', '8095246', '5925622']\n"
     ]
    },
    {
     "name": "stderr",
     "output_type": "stream",
     "text": [
      "  4%|▍         | 213/5059 [02:04<50:45,  1.59it/s]"
     ]
    },
    {
     "name": "stdout",
     "output_type": "stream",
     "text": [
      "['10761365', '10514917', '9712459', '9431028', '9192587', '9106458', '7884819']\n"
     ]
    },
    {
     "name": "stderr",
     "output_type": "stream",
     "text": [
      "  4%|▍         | 214/5059 [02:04<49:05,  1.64it/s]"
     ]
    },
    {
     "name": "stdout",
     "output_type": "stream",
     "text": [
      "['8872348', '8165287', '8173542']\n"
     ]
    },
    {
     "name": "stderr",
     "output_type": "stream",
     "text": [
      "  4%|▍         | 215/5059 [02:05<47:39,  1.69it/s]"
     ]
    },
    {
     "name": "stdout",
     "output_type": "stream",
     "text": [
      "[]\n"
     ]
    },
    {
     "name": "stderr",
     "output_type": "stream",
     "text": [
      "  4%|▍         | 216/5059 [02:05<46:21,  1.74it/s]"
     ]
    },
    {
     "name": "stdout",
     "output_type": "stream",
     "text": [
      "[]\n"
     ]
    },
    {
     "name": "stderr",
     "output_type": "stream",
     "text": [
      "  4%|▍         | 217/5059 [02:06<45:20,  1.78it/s]"
     ]
    },
    {
     "name": "stdout",
     "output_type": "stream",
     "text": [
      "[]\n"
     ]
    },
    {
     "name": "stderr",
     "output_type": "stream",
     "text": [
      "  4%|▍         | 218/5059 [02:06<44:54,  1.80it/s]"
     ]
    },
    {
     "name": "stdout",
     "output_type": "stream",
     "text": [
      "[]\n"
     ]
    },
    {
     "name": "stderr",
     "output_type": "stream",
     "text": [
      "  4%|▍         | 219/5059 [02:07<44:46,  1.80it/s]"
     ]
    },
    {
     "name": "stdout",
     "output_type": "stream",
     "text": [
      "['6294261']\n"
     ]
    },
    {
     "name": "stderr",
     "output_type": "stream",
     "text": [
      "  4%|▍         | 220/5059 [02:08<45:45,  1.76it/s]"
     ]
    },
    {
     "name": "stdout",
     "output_type": "stream",
     "text": [
      "['8607456']\n"
     ]
    },
    {
     "name": "stderr",
     "output_type": "stream",
     "text": [
      "  4%|▍         | 221/5059 [02:08<45:27,  1.77it/s]"
     ]
    },
    {
     "name": "stdout",
     "output_type": "stream",
     "text": [
      "['8841363', '8223391', '8026018', '5890626']\n"
     ]
    },
    {
     "name": "stderr",
     "output_type": "stream",
     "text": [
      "  4%|▍         | 222/5059 [02:09<44:55,  1.79it/s]"
     ]
    },
    {
     "name": "stdout",
     "output_type": "stream",
     "text": [
      "['5766670']\n"
     ]
    },
    {
     "name": "stderr",
     "output_type": "stream",
     "text": [
      "  4%|▍         | 223/5059 [02:09<44:42,  1.80it/s]"
     ]
    },
    {
     "name": "stdout",
     "output_type": "stream",
     "text": [
      "['10698956', '10333085', '9077300', '8646083', '8576643', '8028723', '7640367', '7455906', '7154480', '7011291', '6500966', '6277294']\n"
     ]
    },
    {
     "name": "stderr",
     "output_type": "stream",
     "text": [
      "  4%|▍         | 224/5059 [02:10<44:54,  1.79it/s]"
     ]
    },
    {
     "name": "stdout",
     "output_type": "stream",
     "text": [
      "['9483148', '9445039', '8721009', '8599914', '8214145', '8207692', '7253519']\n"
     ]
    },
    {
     "name": "stderr",
     "output_type": "stream",
     "text": [
      "  4%|▍         | 225/5059 [02:10<44:22,  1.82it/s]"
     ]
    },
    {
     "name": "stdout",
     "output_type": "stream",
     "text": [
      "['7713245', '6892583']\n"
     ]
    },
    {
     "name": "stderr",
     "output_type": "stream",
     "text": [
      "  4%|▍         | 226/5059 [02:11<44:01,  1.83it/s]"
     ]
    },
    {
     "name": "stdout",
     "output_type": "stream",
     "text": [
      "['10717651', '10298314', '10288858', '10002862', '9750669', '9028063', '8724965', '8391980', '7756021', '7457273', '7714474', '7083177', '7059180']\n"
     ]
    },
    {
     "name": "stderr",
     "output_type": "stream",
     "text": [
      "  4%|▍         | 227/5059 [02:11<44:03,  1.83it/s]"
     ]
    },
    {
     "name": "stdout",
     "output_type": "stream",
     "text": [
      "['6072578']\n"
     ]
    },
    {
     "name": "stderr",
     "output_type": "stream",
     "text": [
      "  5%|▍         | 228/5059 [02:12<43:47,  1.84it/s]"
     ]
    },
    {
     "name": "stdout",
     "output_type": "stream",
     "text": [
      "['10319589', '10036886', '6726703']\n"
     ]
    },
    {
     "name": "stderr",
     "output_type": "stream",
     "text": [
      "  5%|▍         | 229/5059 [02:12<43:46,  1.84it/s]"
     ]
    },
    {
     "name": "stdout",
     "output_type": "stream",
     "text": [
      "[]\n"
     ]
    },
    {
     "name": "stderr",
     "output_type": "stream",
     "text": [
      "  5%|▍         | 230/5059 [02:13<44:01,  1.83it/s]"
     ]
    },
    {
     "name": "stdout",
     "output_type": "stream",
     "text": [
      "['8149125', '6700734']\n"
     ]
    },
    {
     "name": "stderr",
     "output_type": "stream",
     "text": [
      "  5%|▍         | 231/5059 [02:14<44:41,  1.80it/s]"
     ]
    },
    {
     "name": "stdout",
     "output_type": "stream",
     "text": [
      "['10763354', '9527615', '8594712']\n"
     ]
    },
    {
     "name": "stderr",
     "output_type": "stream",
     "text": [
      "  5%|▍         | 232/5059 [02:14<44:31,  1.81it/s]"
     ]
    },
    {
     "name": "stdout",
     "output_type": "stream",
     "text": [
      "[]\n"
     ]
    },
    {
     "name": "stderr",
     "output_type": "stream",
     "text": [
      "  5%|▍         | 233/5059 [02:15<44:40,  1.80it/s]"
     ]
    },
    {
     "name": "stdout",
     "output_type": "stream",
     "text": [
      "['8405200', '5766835']\n"
     ]
    },
    {
     "name": "stderr",
     "output_type": "stream",
     "text": [
      "  5%|▍         | 234/5059 [02:15<46:18,  1.74it/s]"
     ]
    },
    {
     "name": "stdout",
     "output_type": "stream",
     "text": [
      "['6198336']\n"
     ]
    },
    {
     "name": "stderr",
     "output_type": "stream",
     "text": [
      "  5%|▍         | 235/5059 [02:16<45:32,  1.77it/s]"
     ]
    },
    {
     "name": "stdout",
     "output_type": "stream",
     "text": [
      "[]\n"
     ]
    },
    {
     "name": "stderr",
     "output_type": "stream",
     "text": [
      "  5%|▍         | 236/5059 [02:16<45:16,  1.78it/s]"
     ]
    },
    {
     "name": "stdout",
     "output_type": "stream",
     "text": [
      "['10292652', '9853447', '7310002', '5241709', '3804124', '3544483']\n"
     ]
    },
    {
     "name": "stderr",
     "output_type": "stream",
     "text": [
      "  5%|▍         | 237/5059 [02:17<45:07,  1.78it/s]"
     ]
    },
    {
     "name": "stdout",
     "output_type": "stream",
     "text": [
      "['5241709', '3002992', '2716541']\n"
     ]
    },
    {
     "name": "stderr",
     "output_type": "stream",
     "text": [
      "  5%|▍         | 238/5059 [02:17<44:34,  1.80it/s]"
     ]
    },
    {
     "name": "stdout",
     "output_type": "stream",
     "text": [
      "['6145694', '5241709', '2717951', '2446403']\n"
     ]
    },
    {
     "name": "stderr",
     "output_type": "stream",
     "text": [
      "  5%|▍         | 239/5059 [02:18<44:57,  1.79it/s]"
     ]
    },
    {
     "name": "stdout",
     "output_type": "stream",
     "text": [
      "['10257951', '8369789', '7275060']\n"
     ]
    },
    {
     "name": "stderr",
     "output_type": "stream",
     "text": [
      "  5%|▍         | 240/5059 [02:19<44:32,  1.80it/s]"
     ]
    },
    {
     "name": "stdout",
     "output_type": "stream",
     "text": [
      "['7555498', '6460719']\n"
     ]
    },
    {
     "name": "stderr",
     "output_type": "stream",
     "text": [
      "  5%|▍         | 241/5059 [02:19<44:28,  1.81it/s]"
     ]
    },
    {
     "name": "stdout",
     "output_type": "stream",
     "text": [
      "['9840936', '9586489', '9259025', '8492318', '7884786', '7302426', '6307934', '6402969', '6368357']\n"
     ]
    },
    {
     "name": "stderr",
     "output_type": "stream",
     "text": [
      "  5%|▍         | 242/5059 [02:20<44:09,  1.82it/s]"
     ]
    },
    {
     "name": "stdout",
     "output_type": "stream",
     "text": [
      "[]\n"
     ]
    },
    {
     "name": "stderr",
     "output_type": "stream",
     "text": [
      "  5%|▍         | 243/5059 [02:20<44:21,  1.81it/s]"
     ]
    },
    {
     "name": "stdout",
     "output_type": "stream",
     "text": [
      "['9323276']\n"
     ]
    },
    {
     "name": "stderr",
     "output_type": "stream",
     "text": [
      "  5%|▍         | 244/5059 [02:21<44:27,  1.80it/s]"
     ]
    },
    {
     "name": "stdout",
     "output_type": "stream",
     "text": [
      "['10079299', '9214240', '8894713', '6592853']\n"
     ]
    },
    {
     "name": "stderr",
     "output_type": "stream",
     "text": [
      "  5%|▍         | 245/5059 [02:21<44:18,  1.81it/s]"
     ]
    },
    {
     "name": "stdout",
     "output_type": "stream",
     "text": [
      "['8902465', '6433975']\n"
     ]
    },
    {
     "name": "stderr",
     "output_type": "stream",
     "text": [
      "  5%|▍         | 246/5059 [02:22<45:41,  1.76it/s]"
     ]
    },
    {
     "name": "stdout",
     "output_type": "stream",
     "text": [
      "['10473564', '9252785', '7555318']\n"
     ]
    },
    {
     "name": "stderr",
     "output_type": "stream",
     "text": [
      "  5%|▍         | 247/5059 [02:23<45:57,  1.75it/s]"
     ]
    },
    {
     "name": "stdout",
     "output_type": "stream",
     "text": [
      "['8724965']\n"
     ]
    },
    {
     "name": "stderr",
     "output_type": "stream",
     "text": [
      "  5%|▍         | 248/5059 [02:23<52:35,  1.52it/s]"
     ]
    },
    {
     "name": "stdout",
     "output_type": "stream",
     "text": [
      "['6821037', '6682524', '6310942', '5771622']\n"
     ]
    },
    {
     "name": "stderr",
     "output_type": "stream",
     "text": [
      "  5%|▍         | 249/5059 [02:24<49:58,  1.60it/s]"
     ]
    },
    {
     "name": "stdout",
     "output_type": "stream",
     "text": [
      "['5965045']\n"
     ]
    },
    {
     "name": "stderr",
     "output_type": "stream",
     "text": [
      "  5%|▍         | 250/5059 [02:25<50:50,  1.58it/s]"
     ]
    },
    {
     "name": "stdout",
     "output_type": "stream",
     "text": [
      "[]\n"
     ]
    },
    {
     "name": "stderr",
     "output_type": "stream",
     "text": [
      "  5%|▍         | 251/5059 [02:25<48:55,  1.64it/s]"
     ]
    },
    {
     "name": "stdout",
     "output_type": "stream",
     "text": [
      "[]\n"
     ]
    },
    {
     "name": "stderr",
     "output_type": "stream",
     "text": [
      "  5%|▍         | 252/5059 [02:26<47:29,  1.69it/s]"
     ]
    },
    {
     "name": "stdout",
     "output_type": "stream",
     "text": [
      "['7443968']\n"
     ]
    },
    {
     "name": "stderr",
     "output_type": "stream",
     "text": [
      "  5%|▌         | 253/5059 [02:26<46:32,  1.72it/s]"
     ]
    },
    {
     "name": "stdout",
     "output_type": "stream",
     "text": [
      "['10770899', '10762819', '10517861', '10515731', '10083675', '10207797', '9849323', '9745174', '9439868', '9045021', '8991170', '8894602', '8350636', '7666708']\n"
     ]
    },
    {
     "name": "stderr",
     "output_type": "stream",
     "text": [
      "  5%|▌         | 254/5059 [02:27<45:41,  1.75it/s]"
     ]
    },
    {
     "name": "stdout",
     "output_type": "stream",
     "text": [
      "['8013920', '6140592']\n"
     ]
    },
    {
     "name": "stderr",
     "output_type": "stream",
     "text": [
      "  5%|▌         | 255/5059 [02:27<46:20,  1.73it/s]"
     ]
    },
    {
     "name": "stdout",
     "output_type": "stream",
     "text": [
      "['8461439']\n"
     ]
    },
    {
     "name": "stderr",
     "output_type": "stream",
     "text": [
      "  5%|▌         | 256/5059 [02:28<54:55,  1.46it/s]"
     ]
    },
    {
     "name": "stdout",
     "output_type": "stream",
     "text": [
      "['7917425']\n"
     ]
    },
    {
     "name": "stderr",
     "output_type": "stream",
     "text": [
      "  5%|▌         | 257/5059 [02:29<51:45,  1.55it/s]"
     ]
    },
    {
     "name": "stdout",
     "output_type": "stream",
     "text": [
      "['7164149']\n"
     ]
    },
    {
     "name": "stderr",
     "output_type": "stream",
     "text": [
      "  5%|▌         | 258/5059 [02:29<50:35,  1.58it/s]"
     ]
    },
    {
     "name": "stdout",
     "output_type": "stream",
     "text": [
      "['6260920']\n"
     ]
    },
    {
     "name": "stderr",
     "output_type": "stream",
     "text": [
      "  5%|▌         | 259/5059 [02:30<48:24,  1.65it/s]"
     ]
    },
    {
     "name": "stdout",
     "output_type": "stream",
     "text": [
      "[]\n"
     ]
    },
    {
     "name": "stderr",
     "output_type": "stream",
     "text": [
      "  5%|▌         | 260/5059 [02:31<47:23,  1.69it/s]"
     ]
    },
    {
     "name": "stdout",
     "output_type": "stream",
     "text": [
      "['6611801']\n"
     ]
    },
    {
     "name": "stderr",
     "output_type": "stream",
     "text": [
      "  5%|▌         | 261/5059 [02:31<46:52,  1.71it/s]"
     ]
    },
    {
     "name": "stdout",
     "output_type": "stream",
     "text": [
      "['8187107', '7797649', '6618293']\n"
     ]
    },
    {
     "name": "stderr",
     "output_type": "stream",
     "text": [
      "  5%|▌         | 262/5059 [02:32<46:22,  1.72it/s]"
     ]
    },
    {
     "name": "stdout",
     "output_type": "stream",
     "text": [
      "['5910888']\n"
     ]
    },
    {
     "name": "stderr",
     "output_type": "stream",
     "text": [
      "  5%|▌         | 263/5059 [02:32<45:37,  1.75it/s]"
     ]
    },
    {
     "name": "stdout",
     "output_type": "stream",
     "text": [
      "['10566113', '9191870']\n"
     ]
    },
    {
     "name": "stderr",
     "output_type": "stream",
     "text": [
      "  5%|▌         | 264/5059 [02:33<45:25,  1.76it/s]"
     ]
    },
    {
     "name": "stdout",
     "output_type": "stream",
     "text": [
      "['9130411', '8189907', '7805430', '5952419']\n"
     ]
    },
    {
     "name": "stderr",
     "output_type": "stream",
     "text": [
      "  5%|▌         | 265/5059 [02:33<45:18,  1.76it/s]"
     ]
    },
    {
     "name": "stdout",
     "output_type": "stream",
     "text": [
      "['10563782', '10235545', '9376779', '9260751', '8806601', '8267308', '6736562', '5807361']\n"
     ]
    },
    {
     "name": "stderr",
     "output_type": "stream",
     "text": [
      "  5%|▌         | 266/5059 [02:34<45:16,  1.76it/s]"
     ]
    },
    {
     "name": "stdout",
     "output_type": "stream",
     "text": [
      "['10049508', '10022454', '9772328', '9569883', '7988112', '7789805', '7066145', '7167934', '6851586']\n"
     ]
    },
    {
     "name": "stderr",
     "output_type": "stream",
     "text": [
      "  5%|▌         | 267/5059 [02:35<44:53,  1.78it/s]"
     ]
    },
    {
     "name": "stdout",
     "output_type": "stream",
     "text": [
      "[]\n"
     ]
    },
    {
     "name": "stderr",
     "output_type": "stream",
     "text": [
      "  5%|▌         | 268/5059 [02:35<44:49,  1.78it/s]"
     ]
    },
    {
     "name": "stdout",
     "output_type": "stream",
     "text": [
      "['10558466']\n"
     ]
    },
    {
     "name": "stderr",
     "output_type": "stream",
     "text": [
      "  5%|▌         | 269/5059 [02:36<46:14,  1.73it/s]"
     ]
    },
    {
     "name": "stdout",
     "output_type": "stream",
     "text": [
      "['10666228', '9570315', '8465861', '6089998', '5995366']\n"
     ]
    },
    {
     "name": "stderr",
     "output_type": "stream",
     "text": [
      "  5%|▌         | 270/5059 [02:36<45:27,  1.76it/s]"
     ]
    },
    {
     "name": "stdout",
     "output_type": "stream",
     "text": [
      "['10154039', '9940408', '7337584', '6089879']\n"
     ]
    },
    {
     "name": "stderr",
     "output_type": "stream",
     "text": [
      "  5%|▌         | 271/5059 [02:37<45:17,  1.76it/s]"
     ]
    },
    {
     "name": "stdout",
     "output_type": "stream",
     "text": [
      "['7991652']\n"
     ]
    },
    {
     "name": "stderr",
     "output_type": "stream",
     "text": [
      "  5%|▌         | 272/5059 [02:37<45:19,  1.76it/s]"
     ]
    },
    {
     "name": "stdout",
     "output_type": "stream",
     "text": [
      "['7379499']\n"
     ]
    },
    {
     "name": "stderr",
     "output_type": "stream",
     "text": [
      "  5%|▌         | 273/5059 [02:38<46:06,  1.73it/s]"
     ]
    },
    {
     "name": "stdout",
     "output_type": "stream",
     "text": [
      "['6119130']\n"
     ]
    },
    {
     "name": "stderr",
     "output_type": "stream",
     "text": [
      "  5%|▌         | 274/5059 [02:39<45:17,  1.76it/s]"
     ]
    },
    {
     "name": "stdout",
     "output_type": "stream",
     "text": [
      "['10756347', '10541327', '10326030', '9650879', '9254471', '9189457', '8894718', '8762258', '9136614', '8606562', '8476885', '8409317', '8806768', '8120457', '8052978', '8042693', '7894080', '8291796', '7750893', '7594586']\n"
     ]
    },
    {
     "name": "stderr",
     "output_type": "stream",
     "text": [
      "  5%|▌         | 275/5059 [02:39<44:34,  1.79it/s]"
     ]
    },
    {
     "name": "stdout",
     "output_type": "stream",
     "text": [
      "['9535427', '6478271']\n"
     ]
    },
    {
     "name": "stderr",
     "output_type": "stream",
     "text": [
      "  5%|▌         | 276/5059 [02:40<44:31,  1.79it/s]"
     ]
    },
    {
     "name": "stdout",
     "output_type": "stream",
     "text": [
      "['10730757', '9464924']\n"
     ]
    },
    {
     "name": "stderr",
     "output_type": "stream",
     "text": [
      "  5%|▌         | 277/5059 [02:40<44:41,  1.78it/s]"
     ]
    },
    {
     "name": "stdout",
     "output_type": "stream",
     "text": [
      "['9076317']\n"
     ]
    },
    {
     "name": "stderr",
     "output_type": "stream",
     "text": [
      "  5%|▌         | 278/5059 [02:41<46:01,  1.73it/s]"
     ]
    },
    {
     "name": "stdout",
     "output_type": "stream",
     "text": [
      "['9710634', '9474527', '7555498', '5741737']\n"
     ]
    },
    {
     "name": "stderr",
     "output_type": "stream",
     "text": [
      "  6%|▌         | 279/5059 [02:41<46:31,  1.71it/s]"
     ]
    },
    {
     "name": "stdout",
     "output_type": "stream",
     "text": [
      "['9233711']\n"
     ]
    },
    {
     "name": "stderr",
     "output_type": "stream",
     "text": [
      "  6%|▌         | 280/5059 [02:42<45:33,  1.75it/s]"
     ]
    },
    {
     "name": "stdout",
     "output_type": "stream",
     "text": [
      "['5823945']\n"
     ]
    },
    {
     "name": "stderr",
     "output_type": "stream",
     "text": [
      "  6%|▌         | 281/5059 [02:43<45:08,  1.76it/s]"
     ]
    },
    {
     "name": "stdout",
     "output_type": "stream",
     "text": [
      "['10654470', '8306372']\n"
     ]
    },
    {
     "name": "stderr",
     "output_type": "stream",
     "text": [
      "  6%|▌         | 282/5059 [02:43<47:26,  1.68it/s]"
     ]
    },
    {
     "name": "stdout",
     "output_type": "stream",
     "text": [
      "['7312406', '6351774']\n"
     ]
    },
    {
     "name": "stderr",
     "output_type": "stream",
     "text": [
      "  6%|▌         | 283/5059 [02:44<46:27,  1.71it/s]"
     ]
    },
    {
     "name": "stdout",
     "output_type": "stream",
     "text": [
      "['10351423', '10652554', '10477851', '9970095', '9452341', '9225740', '8856091', '8506063']\n"
     ]
    },
    {
     "name": "stderr",
     "output_type": "stream",
     "text": [
      "  6%|▌         | 284/5059 [02:44<45:39,  1.74it/s]"
     ]
    },
    {
     "name": "stdout",
     "output_type": "stream",
     "text": [
      "['8529992', '6328029']\n"
     ]
    },
    {
     "name": "stderr",
     "output_type": "stream",
     "text": [
      "  6%|▌         | 285/5059 [02:45<45:13,  1.76it/s]"
     ]
    },
    {
     "name": "stdout",
     "output_type": "stream",
     "text": [
      "[]\n"
     ]
    },
    {
     "name": "stderr",
     "output_type": "stream",
     "text": [
      "  6%|▌         | 286/5059 [02:45<44:47,  1.78it/s]"
     ]
    },
    {
     "name": "stdout",
     "output_type": "stream",
     "text": [
      "['7431909']\n"
     ]
    },
    {
     "name": "stderr",
     "output_type": "stream",
     "text": [
      "  6%|▌         | 287/5059 [02:46<44:28,  1.79it/s]"
     ]
    },
    {
     "name": "stdout",
     "output_type": "stream",
     "text": [
      "[]\n"
     ]
    },
    {
     "name": "stderr",
     "output_type": "stream",
     "text": [
      "  6%|▌         | 288/5059 [02:46<44:23,  1.79it/s]"
     ]
    },
    {
     "name": "stdout",
     "output_type": "stream",
     "text": [
      "[]\n"
     ]
    },
    {
     "name": "stderr",
     "output_type": "stream",
     "text": [
      "  6%|▌         | 289/5059 [02:47<44:11,  1.80it/s]"
     ]
    },
    {
     "name": "stdout",
     "output_type": "stream",
     "text": [
      "[]\n"
     ]
    },
    {
     "name": "stderr",
     "output_type": "stream",
     "text": [
      "  6%|▌         | 290/5059 [02:48<44:21,  1.79it/s]"
     ]
    },
    {
     "name": "stdout",
     "output_type": "stream",
     "text": [
      "['10727542', '10481781', '10638157', '10082262', '9437245', '7378604', '7260697', '6594327']\n"
     ]
    },
    {
     "name": "stderr",
     "output_type": "stream",
     "text": [
      "  6%|▌         | 291/5059 [02:48<44:22,  1.79it/s]"
     ]
    },
    {
     "name": "stdout",
     "output_type": "stream",
     "text": [
      "['5875738']\n"
     ]
    },
    {
     "name": "stderr",
     "output_type": "stream",
     "text": [
      "  6%|▌         | 292/5059 [02:49<44:12,  1.80it/s]"
     ]
    },
    {
     "name": "stdout",
     "output_type": "stream",
     "text": [
      "['10293300']\n"
     ]
    },
    {
     "name": "stderr",
     "output_type": "stream",
     "text": [
      "  6%|▌         | 293/5059 [02:49<44:00,  1.81it/s]"
     ]
    },
    {
     "name": "stdout",
     "output_type": "stream",
     "text": [
      "[]\n"
     ]
    },
    {
     "name": "stderr",
     "output_type": "stream",
     "text": [
      "  6%|▌         | 294/5059 [02:50<49:28,  1.61it/s]"
     ]
    },
    {
     "name": "stdout",
     "output_type": "stream",
     "text": [
      "['10623427', '10067115', '8693571', '8086771']\n"
     ]
    },
    {
     "name": "stderr",
     "output_type": "stream",
     "text": [
      "  6%|▌         | 295/5059 [02:51<59:04,  1.34it/s]"
     ]
    },
    {
     "name": "stdout",
     "output_type": "stream",
     "text": [
      "[]\n"
     ]
    },
    {
     "name": "stderr",
     "output_type": "stream",
     "text": [
      "  6%|▌         | 296/5059 [02:52<1:01:21,  1.29it/s]"
     ]
    },
    {
     "name": "stdout",
     "output_type": "stream",
     "text": [
      "['10105406', '7710202']\n"
     ]
    },
    {
     "name": "stderr",
     "output_type": "stream",
     "text": [
      "  6%|▌         | 297/5059 [02:52<55:54,  1.42it/s]  "
     ]
    },
    {
     "name": "stdout",
     "output_type": "stream",
     "text": [
      "[]\n"
     ]
    },
    {
     "name": "stderr",
     "output_type": "stream",
     "text": [
      "  6%|▌         | 298/5059 [02:53<52:20,  1.52it/s]"
     ]
    },
    {
     "name": "stdout",
     "output_type": "stream",
     "text": [
      "['5908193']\n"
     ]
    },
    {
     "name": "stderr",
     "output_type": "stream",
     "text": [
      "  6%|▌         | 299/5059 [02:54<1:01:22,  1.29it/s]"
     ]
    },
    {
     "name": "stdout",
     "output_type": "stream",
     "text": [
      "['10710998', '10390308', '10273265', '10579891', '10403211', '10257997', '9579339', '8850557', '8544317', '8219672', '7959792', '7844508']\n"
     ]
    },
    {
     "name": "stderr",
     "output_type": "stream",
     "text": [
      "  6%|▌         | 300/5059 [02:56<1:28:10,  1.11s/it]"
     ]
    },
    {
     "name": "stdout",
     "output_type": "stream",
     "text": [
      "['9636553']\n"
     ]
    },
    {
     "name": "stderr",
     "output_type": "stream",
     "text": [
      "  6%|▌         | 301/5059 [02:57<1:25:53,  1.08s/it]"
     ]
    },
    {
     "name": "stdout",
     "output_type": "stream",
     "text": [
      "['9107072', '7351110', '6477154']\n"
     ]
    },
    {
     "name": "stderr",
     "output_type": "stream",
     "text": [
      "  6%|▌         | 302/5059 [03:00<2:13:19,  1.68s/it]"
     ]
    },
    {
     "name": "stdout",
     "output_type": "stream",
     "text": [
      "['10665998', '10435388', '10020602', '10090501', '9530920', '9287878', '9219909', '8934393', '8806781', '8806758', '7836641', '7590669', '6925116']\n"
     ]
    },
    {
     "name": "stderr",
     "output_type": "stream",
     "text": [
      "  6%|▌         | 303/5059 [03:03<2:52:37,  2.18s/it]"
     ]
    },
    {
     "name": "stdout",
     "output_type": "stream",
     "text": [
      "['10107183', '5860817', '5828618']\n"
     ]
    },
    {
     "name": "stderr",
     "output_type": "stream",
     "text": [
      "  6%|▌         | 304/5059 [03:04<2:13:44,  1.69s/it]"
     ]
    },
    {
     "name": "stdout",
     "output_type": "stream",
     "text": [
      "['10115144']\n"
     ]
    },
    {
     "name": "stderr",
     "output_type": "stream",
     "text": [
      "  6%|▌         | 305/5059 [03:05<2:04:30,  1.57s/it]"
     ]
    },
    {
     "name": "stdout",
     "output_type": "stream",
     "text": [
      "['10731404', '10756092', '10720086', '10663163', '10443795', '10394652', '10363291', '10346271', '10341861', '10274303', '10233311', '10138456', '9908899', '9850088', '9674647', '9671555', '9667856', '9636846', '9281293', '9252851']\n"
     ]
    },
    {
     "name": "stderr",
     "output_type": "stream",
     "text": [
      "  6%|▌         | 306/5059 [03:06<1:40:22,  1.27s/it]"
     ]
    },
    {
     "name": "stdout",
     "output_type": "stream",
     "text": [
      "['9494628', '6238744']\n"
     ]
    },
    {
     "name": "stderr",
     "output_type": "stream",
     "text": [
      "  6%|▌         | 307/5059 [03:06<1:23:17,  1.05s/it]"
     ]
    },
    {
     "name": "stdout",
     "output_type": "stream",
     "text": [
      "['7804970']\n"
     ]
    },
    {
     "name": "stderr",
     "output_type": "stream",
     "text": [
      "  6%|▌         | 308/5059 [03:07<1:11:21,  1.11it/s]"
     ]
    },
    {
     "name": "stdout",
     "output_type": "stream",
     "text": [
      "['10730979', '10543720', '10644101', '10076533', '9537011', '9468882', '9469792', '9405709', '9054015', '8478164', '8339352', '6025993']\n"
     ]
    },
    {
     "name": "stderr",
     "output_type": "stream",
     "text": [
      "  6%|▌         | 309/5059 [03:07<1:02:41,  1.26it/s]"
     ]
    },
    {
     "name": "stdout",
     "output_type": "stream",
     "text": [
      "['5873854']\n"
     ]
    },
    {
     "name": "stderr",
     "output_type": "stream",
     "text": [
      "  6%|▌         | 310/5059 [03:08<56:50,  1.39it/s]  "
     ]
    },
    {
     "name": "stdout",
     "output_type": "stream",
     "text": [
      "['9456171', '9425821', '9110726', '9124956', '8931344', '8828496', '8871175', '8665509', '8620614', '7744457', '7522761', '7145949', '6446352', '6369254', '6211403']\n"
     ]
    },
    {
     "name": "stderr",
     "output_type": "stream",
     "text": [
      "  6%|▌         | 311/5059 [03:09<53:16,  1.49it/s]"
     ]
    },
    {
     "name": "stdout",
     "output_type": "stream",
     "text": [
      "['6382400']\n"
     ]
    },
    {
     "name": "stderr",
     "output_type": "stream",
     "text": [
      "  6%|▌         | 312/5059 [03:09<50:05,  1.58it/s]"
     ]
    },
    {
     "name": "stdout",
     "output_type": "stream",
     "text": [
      "['7181458']\n"
     ]
    },
    {
     "name": "stderr",
     "output_type": "stream",
     "text": [
      "  6%|▌         | 313/5059 [03:10<47:58,  1.65it/s]"
     ]
    },
    {
     "name": "stdout",
     "output_type": "stream",
     "text": [
      "['10356838', '10228695', '9464923', '9393894', '9174388', '7782128', '7352056', '6230703', '5365227', '5173369', '5356873', '4530213']\n"
     ]
    },
    {
     "name": "stderr",
     "output_type": "stream",
     "text": [
      "  6%|▌         | 314/5059 [03:10<47:29,  1.67it/s]"
     ]
    },
    {
     "name": "stdout",
     "output_type": "stream",
     "text": [
      "['10520387', '10506677', '10315734', '9620448', '9575828', '8692695', '8438303', '7508032', '7457246', '7252452', '6929373']\n"
     ]
    },
    {
     "name": "stderr",
     "output_type": "stream",
     "text": [
      "  6%|▌         | 315/5059 [03:11<46:05,  1.72it/s]"
     ]
    },
    {
     "name": "stdout",
     "output_type": "stream",
     "text": [
      "['6558181', '5899176']\n"
     ]
    },
    {
     "name": "stderr",
     "output_type": "stream",
     "text": [
      "  6%|▌         | 316/5059 [03:11<45:07,  1.75it/s]"
     ]
    },
    {
     "name": "stdout",
     "output_type": "stream",
     "text": [
      "[]\n"
     ]
    },
    {
     "name": "stderr",
     "output_type": "stream",
     "text": [
      "  6%|▋         | 317/5059 [03:12<44:37,  1.77it/s]"
     ]
    },
    {
     "name": "stdout",
     "output_type": "stream",
     "text": [
      "['9708467', '8894713']\n"
     ]
    },
    {
     "name": "stderr",
     "output_type": "stream",
     "text": [
      "  6%|▋         | 318/5059 [03:12<45:17,  1.74it/s]"
     ]
    },
    {
     "name": "stdout",
     "output_type": "stream",
     "text": [
      "['6218442']\n"
     ]
    },
    {
     "name": "stderr",
     "output_type": "stream",
     "text": [
      "  6%|▋         | 319/5059 [03:13<44:55,  1.76it/s]"
     ]
    },
    {
     "name": "stdout",
     "output_type": "stream",
     "text": [
      "['8007696']\n"
     ]
    },
    {
     "name": "stderr",
     "output_type": "stream",
     "text": [
      "  6%|▋         | 320/5059 [03:14<44:45,  1.76it/s]"
     ]
    },
    {
     "name": "stdout",
     "output_type": "stream",
     "text": [
      "['7681055']\n"
     ]
    },
    {
     "name": "stderr",
     "output_type": "stream",
     "text": [
      "  6%|▋         | 321/5059 [03:14<44:08,  1.79it/s]"
     ]
    },
    {
     "name": "stdout",
     "output_type": "stream",
     "text": [
      "[]\n"
     ]
    },
    {
     "name": "stderr",
     "output_type": "stream",
     "text": [
      "  6%|▋         | 322/5059 [03:15<45:07,  1.75it/s]"
     ]
    },
    {
     "name": "stdout",
     "output_type": "stream",
     "text": [
      "['10704369', '10699084', '10557187', '10542381', '10487482', '10451996', '10624856', '10277023', '10271936', '10235501', '10215911', '10604190', '10545744', '10507338', '10477296', '10308271', '10272521', '10083386', '10010493', '9968813']\n"
     ]
    },
    {
     "name": "stderr",
     "output_type": "stream",
     "text": [
      "  6%|▋         | 323/5059 [03:15<45:22,  1.74it/s]"
     ]
    },
    {
     "name": "stdout",
     "output_type": "stream",
     "text": [
      "['10582499', '10463924', '10443694', '10570813', '9487588', '9263175', '8859446', '8223391', '6099349']\n"
     ]
    },
    {
     "name": "stderr",
     "output_type": "stream",
     "text": [
      "  6%|▋         | 324/5059 [03:16<45:18,  1.74it/s]"
     ]
    },
    {
     "name": "stdout",
     "output_type": "stream",
     "text": [
      "['10582499', '10578040', '9487588', '8987079', '8223391', '6099349']\n"
     ]
    },
    {
     "name": "stderr",
     "output_type": "stream",
     "text": [
      "  6%|▋         | 325/5059 [03:16<44:30,  1.77it/s]"
     ]
    },
    {
     "name": "stdout",
     "output_type": "stream",
     "text": [
      "['5859222']\n"
     ]
    },
    {
     "name": "stderr",
     "output_type": "stream",
     "text": [
      "  6%|▋         | 326/5059 [03:17<45:02,  1.75it/s]"
     ]
    },
    {
     "name": "stdout",
     "output_type": "stream",
     "text": [
      "['10694665', '10320295', '10232817', '9856101', '9139748', '9096237', '8957022', '8786643', '8809910', '8526053', '8348869', '8101720', '7918606', '7303382', '7083177', '6738443', '6540455', '6291926', '5977762', '5887909']\n"
     ]
    },
    {
     "name": "stderr",
     "output_type": "stream",
     "text": [
      "  6%|▋         | 327/5059 [03:18<44:19,  1.78it/s]"
     ]
    },
    {
     "name": "stdout",
     "output_type": "stream",
     "text": [
      "['6369230']\n"
     ]
    },
    {
     "name": "stderr",
     "output_type": "stream",
     "text": [
      "  6%|▋         | 328/5059 [03:18<44:01,  1.79it/s]"
     ]
    },
    {
     "name": "stdout",
     "output_type": "stream",
     "text": [
      "['7655901', '7454216', '6748078']\n"
     ]
    },
    {
     "name": "stderr",
     "output_type": "stream",
     "text": [
      "  7%|▋         | 329/5059 [03:19<43:38,  1.81it/s]"
     ]
    },
    {
     "name": "stdout",
     "output_type": "stream",
     "text": [
      "[]\n"
     ]
    },
    {
     "name": "stderr",
     "output_type": "stream",
     "text": [
      "  7%|▋         | 330/5059 [03:19<43:23,  1.82it/s]"
     ]
    },
    {
     "name": "stdout",
     "output_type": "stream",
     "text": [
      "['2614523']\n"
     ]
    },
    {
     "name": "stderr",
     "output_type": "stream",
     "text": [
      "  7%|▋         | 331/5059 [03:20<53:16,  1.48it/s]"
     ]
    },
    {
     "name": "stdout",
     "output_type": "stream",
     "text": [
      "['10505163', '9768893', '9083528', '7982770', '7794290', '6911092']\n"
     ]
    },
    {
     "name": "stderr",
     "output_type": "stream",
     "text": [
      "  7%|▋         | 332/5059 [03:21<57:53,  1.36it/s]"
     ]
    },
    {
     "name": "stdout",
     "output_type": "stream",
     "text": [
      "['10131303', '9820994', '8808834', '7609664', '6306862']\n"
     ]
    },
    {
     "name": "stderr",
     "output_type": "stream",
     "text": [
      "  7%|▋         | 333/5059 [03:22<57:06,  1.38it/s]"
     ]
    },
    {
     "name": "stdout",
     "output_type": "stream",
     "text": [
      "['9667742', '5931124']\n"
     ]
    },
    {
     "name": "stderr",
     "output_type": "stream",
     "text": [
      "  7%|▋         | 334/5059 [03:22<53:14,  1.48it/s]"
     ]
    },
    {
     "name": "stdout",
     "output_type": "stream",
     "text": [
      "['9818192', '9290774', '8910747', '8435426', '8242205', '7984900', '8256352', '6038190']\n"
     ]
    },
    {
     "name": "stderr",
     "output_type": "stream",
     "text": [
      "  7%|▋         | 335/5059 [03:23<55:25,  1.42it/s]"
     ]
    },
    {
     "name": "stdout",
     "output_type": "stream",
     "text": [
      "['9867746', '7765507', '6038190']\n"
     ]
    },
    {
     "name": "stderr",
     "output_type": "stream",
     "text": [
      "  7%|▋         | 336/5059 [03:24<51:49,  1.52it/s]"
     ]
    },
    {
     "name": "stdout",
     "output_type": "stream",
     "text": [
      "[]\n"
     ]
    },
    {
     "name": "stderr",
     "output_type": "stream",
     "text": [
      "  7%|▋         | 337/5059 [03:24<49:16,  1.60it/s]"
     ]
    },
    {
     "name": "stdout",
     "output_type": "stream",
     "text": [
      "[]\n"
     ]
    },
    {
     "name": "stderr",
     "output_type": "stream",
     "text": [
      "  7%|▋         | 338/5059 [03:25<48:15,  1.63it/s]"
     ]
    },
    {
     "name": "stdout",
     "output_type": "stream",
     "text": [
      "['9906884', '9497457', '7399646', '6472354', '6445851', '2649160']\n"
     ]
    },
    {
     "name": "stderr",
     "output_type": "stream",
     "text": [
      "  7%|▋         | 339/5059 [03:25<46:40,  1.69it/s]"
     ]
    },
    {
     "name": "stdout",
     "output_type": "stream",
     "text": [
      "['9272393', '8223391', '6237216']\n"
     ]
    },
    {
     "name": "stderr",
     "output_type": "stream",
     "text": [
      "  7%|▋         | 340/5059 [03:26<48:16,  1.63it/s]"
     ]
    },
    {
     "name": "stdout",
     "output_type": "stream",
     "text": [
      "[]\n"
     ]
    },
    {
     "name": "stderr",
     "output_type": "stream",
     "text": [
      "  7%|▋         | 341/5059 [03:27<51:47,  1.52it/s]"
     ]
    },
    {
     "name": "stdout",
     "output_type": "stream",
     "text": [
      "['5931120']\n"
     ]
    },
    {
     "name": "stderr",
     "output_type": "stream",
     "text": [
      "  7%|▋         | 342/5059 [03:27<54:12,  1.45it/s]"
     ]
    },
    {
     "name": "stdout",
     "output_type": "stream",
     "text": [
      "[]\n"
     ]
    },
    {
     "name": "stderr",
     "output_type": "stream",
     "text": [
      "  7%|▋         | 343/5059 [03:28<50:58,  1.54it/s]"
     ]
    },
    {
     "name": "stdout",
     "output_type": "stream",
     "text": [
      "[]\n"
     ]
    },
    {
     "name": "stderr",
     "output_type": "stream",
     "text": [
      "  7%|▋         | 344/5059 [03:29<1:05:04,  1.21it/s]"
     ]
    },
    {
     "name": "stdout",
     "output_type": "stream",
     "text": [
      "['10167477', '10060252', '8017342', '7186229', '5931508']\n"
     ]
    },
    {
     "name": "stderr",
     "output_type": "stream",
     "text": [
      "  7%|▋         | 345/5059 [03:30<1:02:16,  1.26it/s]"
     ]
    },
    {
     "name": "stdout",
     "output_type": "stream",
     "text": [
      "['10401538', '10354703', '10388529', '10063920', '8851866', '8523505', '6925228']\n"
     ]
    },
    {
     "name": "stderr",
     "output_type": "stream",
     "text": [
      "  7%|▋         | 346/5059 [03:32<1:26:05,  1.10s/it]"
     ]
    },
    {
     "name": "stdout",
     "output_type": "stream",
     "text": [
      "['10354703', '10388529', '8851866', '8523505', '6925228']\n"
     ]
    },
    {
     "name": "stderr",
     "output_type": "stream",
     "text": [
      "  7%|▋         | 347/5059 [03:33<1:39:43,  1.27s/it]"
     ]
    },
    {
     "name": "stdout",
     "output_type": "stream",
     "text": [
      "['10354703', '10388529', '10145476', '10063920', '9489359', '8851866', '8523505', '6925228']\n"
     ]
    },
    {
     "name": "stderr",
     "output_type": "stream",
     "text": [
      "  7%|▋         | 348/5059 [03:35<1:47:02,  1.36s/it]"
     ]
    },
    {
     "name": "stdout",
     "output_type": "stream",
     "text": [
      "['7905886', '7431388', '6136462']\n"
     ]
    },
    {
     "name": "stderr",
     "output_type": "stream",
     "text": [
      "  7%|▋         | 349/5059 [03:36<1:27:45,  1.12s/it]"
     ]
    },
    {
     "name": "stdout",
     "output_type": "stream",
     "text": [
      "[]\n"
     ]
    },
    {
     "name": "stderr",
     "output_type": "stream",
     "text": [
      "  7%|▋         | 350/5059 [03:36<1:14:21,  1.06it/s]"
     ]
    },
    {
     "name": "stdout",
     "output_type": "stream",
     "text": [
      "['7822815', '6214785']\n"
     ]
    },
    {
     "name": "stderr",
     "output_type": "stream",
     "text": [
      "  7%|▋         | 351/5059 [03:37<1:05:02,  1.21it/s]"
     ]
    },
    {
     "name": "stdout",
     "output_type": "stream",
     "text": [
      "['10426721', '10028207', '10009170', '9827363', '9623046', '9129094', '8453249', '8806822', '7805187', '7490338', '6461170', '6180251']\n"
     ]
    },
    {
     "name": "stderr",
     "output_type": "stream",
     "text": [
      "  7%|▋         | 352/5059 [03:39<1:36:07,  1.23s/it]"
     ]
    },
    {
     "name": "stdout",
     "output_type": "stream",
     "text": [
      "['10645292', '7315318', '6613862']\n"
     ]
    },
    {
     "name": "stderr",
     "output_type": "stream",
     "text": [
      "  7%|▋         | 353/5059 [03:39<1:20:50,  1.03s/it]"
     ]
    },
    {
     "name": "stdout",
     "output_type": "stream",
     "text": [
      "['10390071', '9905846', '8442861', '8872998', '6764590', '6445349']\n"
     ]
    },
    {
     "name": "stderr",
     "output_type": "stream",
     "text": [
      "  7%|▋         | 354/5059 [03:40<1:09:34,  1.13it/s]"
     ]
    },
    {
     "name": "stdout",
     "output_type": "stream",
     "text": [
      "['9463152', '8728122', '7455906', '7294636', '7191188']\n"
     ]
    },
    {
     "name": "stderr",
     "output_type": "stream",
     "text": [
      "  7%|▋         | 355/5059 [03:41<1:01:44,  1.27it/s]"
     ]
    },
    {
     "name": "stdout",
     "output_type": "stream",
     "text": [
      "['6517592']\n"
     ]
    },
    {
     "name": "stderr",
     "output_type": "stream",
     "text": [
      "  7%|▋         | 356/5059 [03:41<55:52,  1.40it/s]  "
     ]
    },
    {
     "name": "stdout",
     "output_type": "stream",
     "text": [
      "['6517592']\n"
     ]
    },
    {
     "name": "stderr",
     "output_type": "stream",
     "text": [
      "  7%|▋         | 357/5059 [03:42<51:43,  1.52it/s]"
     ]
    },
    {
     "name": "stdout",
     "output_type": "stream",
     "text": [
      "['7613297']\n"
     ]
    },
    {
     "name": "stderr",
     "output_type": "stream",
     "text": [
      "  7%|▋         | 358/5059 [03:42<49:02,  1.60it/s]"
     ]
    },
    {
     "name": "stdout",
     "output_type": "stream",
     "text": [
      "['10106715', '6992697']\n"
     ]
    },
    {
     "name": "stderr",
     "output_type": "stream",
     "text": [
      "  7%|▋         | 359/5059 [03:43<47:00,  1.67it/s]"
     ]
    },
    {
     "name": "stdout",
     "output_type": "stream",
     "text": [
      "['8086771']\n"
     ]
    },
    {
     "name": "stderr",
     "output_type": "stream",
     "text": [
      "  7%|▋         | 360/5059 [03:43<46:01,  1.70it/s]"
     ]
    },
    {
     "name": "stdout",
     "output_type": "stream",
     "text": [
      "['10113532', '8714664']\n"
     ]
    },
    {
     "name": "stderr",
     "output_type": "stream",
     "text": [
      "  7%|▋         | 361/5059 [03:44<44:48,  1.75it/s]"
     ]
    },
    {
     "name": "stdout",
     "output_type": "stream",
     "text": [
      "['8661904']\n"
     ]
    },
    {
     "name": "stderr",
     "output_type": "stream",
     "text": [
      "  7%|▋         | 362/5059 [03:44<44:18,  1.77it/s]"
     ]
    },
    {
     "name": "stdout",
     "output_type": "stream",
     "text": [
      "['6250058']\n"
     ]
    },
    {
     "name": "stderr",
     "output_type": "stream",
     "text": [
      "  7%|▋         | 363/5059 [03:45<44:02,  1.78it/s]"
     ]
    },
    {
     "name": "stdout",
     "output_type": "stream",
     "text": [
      "['10281978', '9032865', '8900282', '8608333', '8088828', '7065419']\n"
     ]
    },
    {
     "name": "stderr",
     "output_type": "stream",
     "text": [
      "  7%|▋         | 364/5059 [03:45<43:30,  1.80it/s]"
     ]
    },
    {
     "name": "stdout",
     "output_type": "stream",
     "text": [
      "['8373870']\n"
     ]
    },
    {
     "name": "stderr",
     "output_type": "stream",
     "text": [
      "  7%|▋         | 365/5059 [03:46<43:10,  1.81it/s]"
     ]
    },
    {
     "name": "stdout",
     "output_type": "stream",
     "text": [
      "['6454448']\n"
     ]
    },
    {
     "name": "stderr",
     "output_type": "stream",
     "text": [
      "  7%|▋         | 366/5059 [03:46<42:56,  1.82it/s]"
     ]
    },
    {
     "name": "stdout",
     "output_type": "stream",
     "text": [
      "['8326510', '5008362', '4512094', '3971953', '3258120', '2528966']\n"
     ]
    },
    {
     "name": "stderr",
     "output_type": "stream",
     "text": [
      "  7%|▋         | 367/5059 [03:47<42:57,  1.82it/s]"
     ]
    },
    {
     "name": "stdout",
     "output_type": "stream",
     "text": [
      "['10481165', '9905242', '9641640', '9092676', '9291850', '8160299', '7187166', '6861379', '6416318']\n"
     ]
    },
    {
     "name": "stderr",
     "output_type": "stream",
     "text": [
      "  7%|▋         | 368/5059 [03:48<42:36,  1.84it/s]"
     ]
    },
    {
     "name": "stdout",
     "output_type": "stream",
     "text": [
      "[]\n"
     ]
    },
    {
     "name": "stderr",
     "output_type": "stream",
     "text": [
      "  7%|▋         | 369/5059 [03:48<44:34,  1.75it/s]"
     ]
    },
    {
     "name": "stdout",
     "output_type": "stream",
     "text": [
      "[]\n"
     ]
    },
    {
     "name": "stderr",
     "output_type": "stream",
     "text": [
      "  7%|▋         | 370/5059 [03:49<44:19,  1.76it/s]"
     ]
    },
    {
     "name": "stdout",
     "output_type": "stream",
     "text": [
      "['10653446', '10342059', '9850088', '9655921', '9705324', '8547914', '8977090', '8316978', '8091537', '7828236', '7515875', '7016183', '6822058', '6787630', '6020373']\n"
     ]
    },
    {
     "name": "stderr",
     "output_type": "stream",
     "text": [
      "  7%|▋         | 371/5059 [03:49<43:36,  1.79it/s]"
     ]
    },
    {
     "name": "stdout",
     "output_type": "stream",
     "text": [
      "['10246793', '6557487']\n"
     ]
    },
    {
     "name": "stderr",
     "output_type": "stream",
     "text": [
      "  7%|▋         | 372/5059 [03:50<43:25,  1.80it/s]"
     ]
    },
    {
     "name": "stdout",
     "output_type": "stream",
     "text": [
      "['10688171', '10338305', '10578040', '9851252', '9667742', '9296307', '9412178', '8756241', '8576029', '8189907', '8013920', '7805430', '6928763', '6946916', '6391512']\n"
     ]
    },
    {
     "name": "stderr",
     "output_type": "stream",
     "text": [
      "  7%|▋         | 373/5059 [03:50<43:20,  1.80it/s]"
     ]
    },
    {
     "name": "stdout",
     "output_type": "stream",
     "text": [
      "['10641680', '10517464', '10474872', '9484959', '8914074', '7043645', '6421592']\n"
     ]
    },
    {
     "name": "stderr",
     "output_type": "stream",
     "text": [
      "  7%|▋         | 374/5059 [03:51<43:07,  1.81it/s]"
     ]
    },
    {
     "name": "stdout",
     "output_type": "stream",
     "text": [
      "['6015555']\n"
     ]
    },
    {
     "name": "stderr",
     "output_type": "stream",
     "text": [
      "  7%|▋         | 375/5059 [03:52<43:23,  1.80it/s]"
     ]
    },
    {
     "name": "stdout",
     "output_type": "stream",
     "text": [
      "['10566078', '9772307', '9713468', '7571584', '7784873']\n"
     ]
    },
    {
     "name": "stderr",
     "output_type": "stream",
     "text": [
      "  7%|▋         | 376/5059 [03:52<42:59,  1.82it/s]"
     ]
    },
    {
     "name": "stdout",
     "output_type": "stream",
     "text": [
      "[]\n"
     ]
    },
    {
     "name": "stderr",
     "output_type": "stream",
     "text": [
      "  7%|▋         | 377/5059 [03:53<42:49,  1.82it/s]"
     ]
    },
    {
     "name": "stdout",
     "output_type": "stream",
     "text": [
      "['8223391']\n"
     ]
    },
    {
     "name": "stderr",
     "output_type": "stream",
     "text": [
      "  7%|▋         | 378/5059 [03:53<42:49,  1.82it/s]"
     ]
    },
    {
     "name": "stdout",
     "output_type": "stream",
     "text": [
      "['10730979', '10468130', '10403018', '10130090', '10008943', '9932535', '9813306', '9670190', '9713932', '9671555', '9520627', '8809481', '8589399', '8274164', '8085323', '7945594', '7835139', '7516468', '7410065', '7212409']\n"
     ]
    },
    {
     "name": "stderr",
     "output_type": "stream",
     "text": [
      "  7%|▋         | 379/5059 [03:54<42:58,  1.81it/s]"
     ]
    },
    {
     "name": "stdout",
     "output_type": "stream",
     "text": [
      "['5959879']\n"
     ]
    },
    {
     "name": "stderr",
     "output_type": "stream",
     "text": [
      "  8%|▊         | 380/5059 [03:54<42:58,  1.81it/s]"
     ]
    },
    {
     "name": "stdout",
     "output_type": "stream",
     "text": [
      "['8088371', '7424500', '6591167']\n"
     ]
    },
    {
     "name": "stderr",
     "output_type": "stream",
     "text": [
      "  8%|▊         | 381/5059 [03:55<42:59,  1.81it/s]"
     ]
    },
    {
     "name": "stdout",
     "output_type": "stream",
     "text": [
      "['10713423', '10623288', '10589513', '10394781', '10635763', '10519071', '10492072', '10473926', '10378662', '10225200', '10206262', '10128078', '9952684', '10166908', '10164321', '10105420', '10060535', '10042688', '10008628', '10003122']\n"
     ]
    },
    {
     "name": "stderr",
     "output_type": "stream",
     "text": [
      "  8%|▊         | 382/5059 [03:55<42:59,  1.81it/s]"
     ]
    },
    {
     "name": "stdout",
     "output_type": "stream",
     "text": [
      "['10566078', '9530920', '7836641']\n"
     ]
    },
    {
     "name": "stderr",
     "output_type": "stream",
     "text": [
      "  8%|▊         | 383/5059 [03:56<43:05,  1.81it/s]"
     ]
    },
    {
     "name": "stdout",
     "output_type": "stream",
     "text": [
      "['6962017']\n"
     ]
    },
    {
     "name": "stderr",
     "output_type": "stream",
     "text": [
      "  8%|▊         | 384/5059 [03:56<43:02,  1.81it/s]"
     ]
    },
    {
     "name": "stdout",
     "output_type": "stream",
     "text": [
      "[]\n"
     ]
    },
    {
     "name": "stderr",
     "output_type": "stream",
     "text": [
      "  8%|▊         | 385/5059 [03:57<42:59,  1.81it/s]"
     ]
    },
    {
     "name": "stdout",
     "output_type": "stream",
     "text": [
      "['6886411']\n"
     ]
    },
    {
     "name": "stderr",
     "output_type": "stream",
     "text": [
      "  8%|▊         | 386/5059 [03:58<42:44,  1.82it/s]"
     ]
    },
    {
     "name": "stdout",
     "output_type": "stream",
     "text": [
      "['10756137', '10469101', '10373570', '10358749', '10209169', '10616247', '10423811', '10281411', '10200790', '9898995', '10040389', '9953544', '9873713', '9637192', '9537011', '9482746', '9092496', '9056222', '8602096', '8531593']\n"
     ]
    },
    {
     "name": "stderr",
     "output_type": "stream",
     "text": [
      "  8%|▊         | 387/5059 [03:58<42:40,  1.82it/s]"
     ]
    },
    {
     "name": "stdout",
     "output_type": "stream",
     "text": [
      "[]\n"
     ]
    },
    {
     "name": "stderr",
     "output_type": "stream",
     "text": [
      "  8%|▊         | 388/5059 [03:59<42:37,  1.83it/s]"
     ]
    },
    {
     "name": "stdout",
     "output_type": "stream",
     "text": [
      "[]\n"
     ]
    },
    {
     "name": "stderr",
     "output_type": "stream",
     "text": [
      "  8%|▊         | 389/5059 [03:59<42:45,  1.82it/s]"
     ]
    },
    {
     "name": "stdout",
     "output_type": "stream",
     "text": [
      "['10371344', '9881051', '9281042', '9185059', '9357001', '8616450', '8860868', '9595590', '6711861', '6074045']\n"
     ]
    },
    {
     "name": "stderr",
     "output_type": "stream",
     "text": [
      "  8%|▊         | 390/5059 [04:00<42:44,  1.82it/s]"
     ]
    },
    {
     "name": "stdout",
     "output_type": "stream",
     "text": [
      "['6406574']\n"
     ]
    },
    {
     "name": "stderr",
     "output_type": "stream",
     "text": [
      "  8%|▊         | 391/5059 [04:00<42:39,  1.82it/s]"
     ]
    },
    {
     "name": "stdout",
     "output_type": "stream",
     "text": [
      "['10629272', '6999853']\n"
     ]
    },
    {
     "name": "stderr",
     "output_type": "stream",
     "text": [
      "  8%|▊         | 392/5059 [04:01<42:45,  1.82it/s]"
     ]
    },
    {
     "name": "stdout",
     "output_type": "stream",
     "text": [
      "['9277052', '9013281', '6404614', '6556402']\n"
     ]
    },
    {
     "name": "stderr",
     "output_type": "stream",
     "text": [
      "  8%|▊         | 393/5059 [04:01<43:07,  1.80it/s]"
     ]
    },
    {
     "name": "stdout",
     "output_type": "stream",
     "text": [
      "['10200790', '9898995', '9953544', '9873713', '9755505', '9359319', '9187727', '9092496', '8318865', '6805654', '6777479', '7967887']\n"
     ]
    },
    {
     "name": "stderr",
     "output_type": "stream",
     "text": [
      "  8%|▊         | 394/5059 [04:02<43:08,  1.80it/s]"
     ]
    },
    {
     "name": "stdout",
     "output_type": "stream",
     "text": [
      "['10000909', '6322269']\n"
     ]
    },
    {
     "name": "stderr",
     "output_type": "stream",
     "text": [
      "  8%|▊         | 395/5059 [04:03<42:55,  1.81it/s]"
     ]
    },
    {
     "name": "stdout",
     "output_type": "stream",
     "text": [
      "['10729354', '10733707', '10692360', '10655329', '10523280', '10428559', '10339524', '10337759', '10315560', '10638933', '10596204', '10523762', '10507338', '10470448', '10178909', '10107399', '10094810', '9898287', '10024756', '10011155']\n"
     ]
    },
    {
     "name": "stderr",
     "output_type": "stream",
     "text": [
      "  8%|▊         | 396/5059 [04:03<43:17,  1.79it/s]"
     ]
    },
    {
     "name": "stdout",
     "output_type": "stream",
     "text": [
      "['9669451', '9478571', '8194728', '7905311', '6737291', '6040039', '5967809']\n"
     ]
    },
    {
     "name": "stderr",
     "output_type": "stream",
     "text": [
      "  8%|▊         | 397/5059 [04:04<47:32,  1.63it/s]"
     ]
    },
    {
     "name": "stdout",
     "output_type": "stream",
     "text": [
      "['8724965', '8303486', '8159740']\n"
     ]
    },
    {
     "name": "stderr",
     "output_type": "stream",
     "text": [
      "  8%|▊         | 398/5059 [04:05<55:33,  1.40it/s]"
     ]
    },
    {
     "name": "stdout",
     "output_type": "stream",
     "text": [
      "['7399125']\n"
     ]
    },
    {
     "name": "stderr",
     "output_type": "stream",
     "text": [
      "  8%|▊         | 399/5059 [04:05<53:19,  1.46it/s]"
     ]
    },
    {
     "name": "stdout",
     "output_type": "stream",
     "text": [
      "['9305450']\n"
     ]
    },
    {
     "name": "stderr",
     "output_type": "stream",
     "text": [
      "  8%|▊         | 400/5059 [04:06<50:16,  1.54it/s]"
     ]
    },
    {
     "name": "stdout",
     "output_type": "stream",
     "text": [
      "['9648797', '8921220', '8738459', '7718297']\n"
     ]
    },
    {
     "name": "stderr",
     "output_type": "stream",
     "text": [
      "  8%|▊         | 401/5059 [04:07<48:17,  1.61it/s]"
     ]
    },
    {
     "name": "stdout",
     "output_type": "stream",
     "text": [
      "['7438493']\n"
     ]
    },
    {
     "name": "stderr",
     "output_type": "stream",
     "text": [
      "  8%|▊         | 402/5059 [04:08<1:04:42,  1.20it/s]"
     ]
    },
    {
     "name": "stdout",
     "output_type": "stream",
     "text": [
      "['6482996']\n"
     ]
    },
    {
     "name": "stderr",
     "output_type": "stream",
     "text": [
      "  8%|▊         | 403/5059 [04:08<58:47,  1.32it/s]  "
     ]
    },
    {
     "name": "stdout",
     "output_type": "stream",
     "text": [
      "[]\n"
     ]
    },
    {
     "name": "stderr",
     "output_type": "stream",
     "text": [
      "  8%|▊         | 404/5059 [04:09<59:49,  1.30it/s]"
     ]
    },
    {
     "name": "stdout",
     "output_type": "stream",
     "text": [
      "[]\n"
     ]
    },
    {
     "name": "stderr",
     "output_type": "stream",
     "text": [
      "  8%|▊         | 405/5059 [04:10<54:35,  1.42it/s]"
     ]
    },
    {
     "name": "stdout",
     "output_type": "stream",
     "text": [
      "['10626280', '9225740', '8876909', '8506063', '6483651']\n"
     ]
    },
    {
     "name": "stderr",
     "output_type": "stream",
     "text": [
      "  8%|▊         | 406/5059 [04:10<51:05,  1.52it/s]"
     ]
    },
    {
     "name": "stdout",
     "output_type": "stream",
     "text": [
      "['10369273', '6813882']\n"
     ]
    },
    {
     "name": "stderr",
     "output_type": "stream",
     "text": [
      "  8%|▊         | 407/5059 [04:12<1:06:24,  1.17it/s]"
     ]
    },
    {
     "name": "stdout",
     "output_type": "stream",
     "text": [
      "[]\n"
     ]
    },
    {
     "name": "stderr",
     "output_type": "stream",
     "text": [
      "  8%|▊         | 408/5059 [04:13<1:22:17,  1.06s/it]"
     ]
    },
    {
     "name": "stdout",
     "output_type": "stream",
     "text": [
      "['6819732']\n"
     ]
    },
    {
     "name": "stderr",
     "output_type": "stream",
     "text": [
      "  8%|▊         | 409/5059 [04:14<1:10:28,  1.10it/s]"
     ]
    },
    {
     "name": "stdout",
     "output_type": "stream",
     "text": [
      "['9107551', '8698431', '6829352']\n"
     ]
    },
    {
     "name": "stderr",
     "output_type": "stream",
     "text": [
      "  8%|▊         | 410/5059 [04:15<1:27:06,  1.12s/it]"
     ]
    },
    {
     "name": "stdout",
     "output_type": "stream",
     "text": [
      "[]\n"
     ]
    },
    {
     "name": "stderr",
     "output_type": "stream",
     "text": [
      "  8%|▊         | 411/5059 [04:16<1:14:12,  1.04it/s]"
     ]
    },
    {
     "name": "stdout",
     "output_type": "stream",
     "text": [
      "['6813882']\n"
     ]
    },
    {
     "name": "stderr",
     "output_type": "stream",
     "text": [
      "  8%|▊         | 412/5059 [04:16<1:04:41,  1.20it/s]"
     ]
    },
    {
     "name": "stdout",
     "output_type": "stream",
     "text": [
      "['7331483']\n"
     ]
    },
    {
     "name": "stderr",
     "output_type": "stream",
     "text": [
      "  8%|▊         | 413/5059 [04:17<57:55,  1.34it/s]  "
     ]
    },
    {
     "name": "stdout",
     "output_type": "stream",
     "text": [
      "['6824316']\n"
     ]
    },
    {
     "name": "stderr",
     "output_type": "stream",
     "text": [
      "  8%|▊         | 414/5059 [04:18<53:02,  1.46it/s]"
     ]
    },
    {
     "name": "stdout",
     "output_type": "stream",
     "text": [
      "['10347743', '10333365', '9936160', '9931764', '10175251', '10148556', '10022188', '9891726', '9724533', '9669451', '9555215', '9235089', '9220827', '9110726', '8809481', '8922093', '8866214', '8806981', '8416454', '7426912']\n"
     ]
    },
    {
     "name": "stderr",
     "output_type": "stream",
     "text": [
      "  8%|▊         | 415/5059 [04:18<49:33,  1.56it/s]"
     ]
    },
    {
     "name": "stdout",
     "output_type": "stream",
     "text": [
      "['10134115']\n"
     ]
    },
    {
     "name": "stderr",
     "output_type": "stream",
     "text": [
      "  8%|▊         | 416/5059 [04:19<47:17,  1.64it/s]"
     ]
    },
    {
     "name": "stdout",
     "output_type": "stream",
     "text": [
      "['10063964', '9297641', '6525203']\n"
     ]
    },
    {
     "name": "stderr",
     "output_type": "stream",
     "text": [
      "  8%|▊         | 417/5059 [04:19<45:43,  1.69it/s]"
     ]
    },
    {
     "name": "stdout",
     "output_type": "stream",
     "text": [
      "[]\n"
     ]
    },
    {
     "name": "stderr",
     "output_type": "stream",
     "text": [
      "  8%|▊         | 418/5059 [04:20<45:27,  1.70it/s]"
     ]
    },
    {
     "name": "stdout",
     "output_type": "stream",
     "text": [
      "['8813004', '7872017', '6513682']\n"
     ]
    },
    {
     "name": "stderr",
     "output_type": "stream",
     "text": [
      "  8%|▊         | 419/5059 [04:20<44:37,  1.73it/s]"
     ]
    },
    {
     "name": "stdout",
     "output_type": "stream",
     "text": [
      "['6564028']\n"
     ]
    },
    {
     "name": "stderr",
     "output_type": "stream",
     "text": [
      "  8%|▊         | 420/5059 [04:21<44:09,  1.75it/s]"
     ]
    },
    {
     "name": "stdout",
     "output_type": "stream",
     "text": [
      "[]\n"
     ]
    },
    {
     "name": "stderr",
     "output_type": "stream",
     "text": [
      "  8%|▊         | 421/5059 [04:21<43:44,  1.77it/s]"
     ]
    },
    {
     "name": "stdout",
     "output_type": "stream",
     "text": [
      "[]\n"
     ]
    },
    {
     "name": "stderr",
     "output_type": "stream",
     "text": [
      "  8%|▊         | 422/5059 [04:22<43:06,  1.79it/s]"
     ]
    },
    {
     "name": "stdout",
     "output_type": "stream",
     "text": [
      "['6581587']\n"
     ]
    },
    {
     "name": "stderr",
     "output_type": "stream",
     "text": [
      "  8%|▊         | 423/5059 [04:23<42:51,  1.80it/s]"
     ]
    },
    {
     "name": "stdout",
     "output_type": "stream",
     "text": [
      "['10165005', '8024089', '8082801']\n"
     ]
    },
    {
     "name": "stderr",
     "output_type": "stream",
     "text": [
      "  8%|▊         | 424/5059 [04:23<51:52,  1.49it/s]"
     ]
    },
    {
     "name": "stdout",
     "output_type": "stream",
     "text": [
      "['10757339', '9439955']\n"
     ]
    },
    {
     "name": "stderr",
     "output_type": "stream",
     "text": [
      "  8%|▊         | 425/5059 [04:24<49:01,  1.58it/s]"
     ]
    },
    {
     "name": "stdout",
     "output_type": "stream",
     "text": [
      "['10370087', '8881442', '7694438']\n"
     ]
    },
    {
     "name": "stderr",
     "output_type": "stream",
     "text": [
      "  8%|▊         | 426/5059 [04:25<48:22,  1.60it/s]"
     ]
    },
    {
     "name": "stdout",
     "output_type": "stream",
     "text": [
      "[]\n"
     ]
    },
    {
     "name": "stderr",
     "output_type": "stream",
     "text": [
      "  8%|▊         | 427/5059 [04:25<46:35,  1.66it/s]"
     ]
    },
    {
     "name": "stdout",
     "output_type": "stream",
     "text": [
      "['9932352', '8915924', '6485096']\n"
     ]
    },
    {
     "name": "stderr",
     "output_type": "stream",
     "text": [
      "  8%|▊         | 428/5059 [04:26<45:11,  1.71it/s]"
     ]
    },
    {
     "name": "stdout",
     "output_type": "stream",
     "text": [
      "['10728194', '10724126', '10706626', '10665370', '10486336', '10410946', '10326954', '10687339', '10257690', '10256337', '10586828', '10499313', '10471173', '10454295', '10394019', '10370469', '10363120', '10326296', '10289249', '10249591']\n"
     ]
    },
    {
     "name": "stderr",
     "output_type": "stream",
     "text": [
      "  8%|▊         | 429/5059 [04:26<44:13,  1.74it/s]"
     ]
    },
    {
     "name": "stdout",
     "output_type": "stream",
     "text": [
      "['7098442']\n"
     ]
    },
    {
     "name": "stderr",
     "output_type": "stream",
     "text": [
      "  8%|▊         | 430/5059 [04:27<43:28,  1.77it/s]"
     ]
    },
    {
     "name": "stdout",
     "output_type": "stream",
     "text": [
      "['6491485']\n"
     ]
    },
    {
     "name": "stderr",
     "output_type": "stream",
     "text": [
      "  9%|▊         | 431/5059 [04:27<44:22,  1.74it/s]"
     ]
    },
    {
     "name": "stdout",
     "output_type": "stream",
     "text": [
      "['6814758']\n"
     ]
    },
    {
     "name": "stderr",
     "output_type": "stream",
     "text": [
      "  9%|▊         | 432/5059 [04:28<50:56,  1.51it/s]"
     ]
    },
    {
     "name": "stdout",
     "output_type": "stream",
     "text": [
      "[]\n"
     ]
    },
    {
     "name": "stderr",
     "output_type": "stream",
     "text": [
      "  9%|▊         | 433/5059 [04:29<48:29,  1.59it/s]"
     ]
    },
    {
     "name": "stdout",
     "output_type": "stream",
     "text": [
      "['10184429', '8495282', '8004372']\n"
     ]
    },
    {
     "name": "stderr",
     "output_type": "stream",
     "text": [
      "  9%|▊         | 434/5059 [04:29<47:42,  1.62it/s]"
     ]
    },
    {
     "name": "stdout",
     "output_type": "stream",
     "text": [
      "['9446241']\n"
     ]
    },
    {
     "name": "stderr",
     "output_type": "stream",
     "text": [
      "  9%|▊         | 435/5059 [04:30<46:24,  1.66it/s]"
     ]
    },
    {
     "name": "stdout",
     "output_type": "stream",
     "text": [
      "['10293300', '7111211']\n"
     ]
    },
    {
     "name": "stderr",
     "output_type": "stream",
     "text": [
      "  9%|▊         | 436/5059 [04:31<45:26,  1.70it/s]"
     ]
    },
    {
     "name": "stdout",
     "output_type": "stream",
     "text": [
      "['8594146', '8350904', '7913929', '7196916']\n"
     ]
    },
    {
     "name": "stderr",
     "output_type": "stream",
     "text": [
      "  9%|▊         | 437/5059 [04:31<44:14,  1.74it/s]"
     ]
    },
    {
     "name": "stdout",
     "output_type": "stream",
     "text": [
      "['6805858']\n"
     ]
    },
    {
     "name": "stderr",
     "output_type": "stream",
     "text": [
      "  9%|▊         | 438/5059 [04:32<45:02,  1.71it/s]"
     ]
    },
    {
     "name": "stdout",
     "output_type": "stream",
     "text": [
      "['10671439', '8353497', '6820749']\n"
     ]
    },
    {
     "name": "stderr",
     "output_type": "stream",
     "text": [
      "  9%|▊         | 439/5059 [04:32<44:08,  1.74it/s]"
     ]
    },
    {
     "name": "stdout",
     "output_type": "stream",
     "text": [
      "['10470908', '10540647', '10276835', '8561102', '8676695', '7721649', '7068779']\n"
     ]
    },
    {
     "name": "stderr",
     "output_type": "stream",
     "text": [
      "  9%|▊         | 440/5059 [04:33<45:52,  1.68it/s]"
     ]
    },
    {
     "name": "stdout",
     "output_type": "stream",
     "text": [
      "['8724965', '7083894']\n"
     ]
    },
    {
     "name": "stderr",
     "output_type": "stream",
     "text": [
      "  9%|▊         | 441/5059 [04:33<45:01,  1.71it/s]"
     ]
    },
    {
     "name": "stdout",
     "output_type": "stream",
     "text": [
      "[]\n"
     ]
    },
    {
     "name": "stderr",
     "output_type": "stream",
     "text": [
      "  9%|▊         | 442/5059 [04:34<46:03,  1.67it/s]"
     ]
    },
    {
     "name": "stdout",
     "output_type": "stream",
     "text": [
      "['10327469']\n"
     ]
    },
    {
     "name": "stderr",
     "output_type": "stream",
     "text": [
      "  9%|▉         | 443/5059 [04:35<44:37,  1.72it/s]"
     ]
    },
    {
     "name": "stdout",
     "output_type": "stream",
     "text": [
      "['6627230']\n"
     ]
    },
    {
     "name": "stderr",
     "output_type": "stream",
     "text": [
      "  9%|▉         | 444/5059 [04:35<44:13,  1.74it/s]"
     ]
    },
    {
     "name": "stdout",
     "output_type": "stream",
     "text": [
      "['10545362', '8964148', '8405838', '8343000', '7747463', '7494869']\n"
     ]
    },
    {
     "name": "stderr",
     "output_type": "stream",
     "text": [
      "  9%|▉         | 445/5059 [04:36<43:34,  1.76it/s]"
     ]
    },
    {
     "name": "stdout",
     "output_type": "stream",
     "text": [
      "['6986093', '6616007']\n"
     ]
    },
    {
     "name": "stderr",
     "output_type": "stream",
     "text": [
      "  9%|▉         | 446/5059 [04:36<42:57,  1.79it/s]"
     ]
    },
    {
     "name": "stdout",
     "output_type": "stream",
     "text": [
      "['10748394', '10726832', '10723333', '10370160', '10577555', '10547479', '10454470', '10452151', '10442477', '10344965', '10324043', '10287567', '10122312', '10077481', '10080180', '9773443', '9735896', '9441843', '9420866', '9299758']\n"
     ]
    },
    {
     "name": "stderr",
     "output_type": "stream",
     "text": [
      "  9%|▉         | 447/5059 [04:37<45:54,  1.67it/s]"
     ]
    },
    {
     "name": "stdout",
     "output_type": "stream",
     "text": [
      "['6522948']\n"
     ]
    },
    {
     "name": "stderr",
     "output_type": "stream",
     "text": [
      "  9%|▉         | 448/5059 [04:38<45:13,  1.70it/s]"
     ]
    },
    {
     "name": "stdout",
     "output_type": "stream",
     "text": [
      "[]\n"
     ]
    },
    {
     "name": "stderr",
     "output_type": "stream",
     "text": [
      "  9%|▉         | 449/5059 [04:38<45:14,  1.70it/s]"
     ]
    },
    {
     "name": "stdout",
     "output_type": "stream",
     "text": [
      "[]\n"
     ]
    },
    {
     "name": "stderr",
     "output_type": "stream",
     "text": [
      "  9%|▉         | 450/5059 [04:39<44:08,  1.74it/s]"
     ]
    },
    {
     "name": "stdout",
     "output_type": "stream",
     "text": [
      "[]\n"
     ]
    },
    {
     "name": "stderr",
     "output_type": "stream",
     "text": [
      "  9%|▉         | 451/5059 [04:39<43:18,  1.77it/s]"
     ]
    },
    {
     "name": "stdout",
     "output_type": "stream",
     "text": [
      "['8530207', '7719282', '6629138']\n"
     ]
    },
    {
     "name": "stderr",
     "output_type": "stream",
     "text": [
      "  9%|▉         | 452/5059 [04:40<42:58,  1.79it/s]"
     ]
    },
    {
     "name": "stdout",
     "output_type": "stream",
     "text": [
      "['10748394', '10624284', '10577555', '10547479', '10442477', '10324043', '10287567', '9840167', '9839868', '9491696', '9373312', '9299758', '8421541', '8188567', '7883627', '8922672', '6795399']\n"
     ]
    },
    {
     "name": "stderr",
     "output_type": "stream",
     "text": [
      "  9%|▉         | 453/5059 [04:40<42:53,  1.79it/s]"
     ]
    },
    {
     "name": "stdout",
     "output_type": "stream",
     "text": [
      "[]\n"
     ]
    },
    {
     "name": "stderr",
     "output_type": "stream",
     "text": [
      "  9%|▉         | 454/5059 [04:41<42:37,  1.80it/s]"
     ]
    },
    {
     "name": "stdout",
     "output_type": "stream",
     "text": [
      "['8462360']\n"
     ]
    },
    {
     "name": "stderr",
     "output_type": "stream",
     "text": [
      "  9%|▉         | 455/5059 [04:41<42:45,  1.79it/s]"
     ]
    },
    {
     "name": "stdout",
     "output_type": "stream",
     "text": [
      "[]\n"
     ]
    },
    {
     "name": "stderr",
     "output_type": "stream",
     "text": [
      "  9%|▉         | 456/5059 [04:42<42:31,  1.80it/s]"
     ]
    },
    {
     "name": "stdout",
     "output_type": "stream",
     "text": [
      "['9585390', '9099568', '8517592', '6891261']\n"
     ]
    },
    {
     "name": "stderr",
     "output_type": "stream",
     "text": [
      "  9%|▉         | 457/5059 [04:43<46:07,  1.66it/s]"
     ]
    },
    {
     "name": "stdout",
     "output_type": "stream",
     "text": [
      "['9065407']\n"
     ]
    },
    {
     "name": "stderr",
     "output_type": "stream",
     "text": [
      "  9%|▉         | 458/5059 [04:43<46:09,  1.66it/s]"
     ]
    },
    {
     "name": "stdout",
     "output_type": "stream",
     "text": [
      "['9619378', '7305990']\n"
     ]
    },
    {
     "name": "stderr",
     "output_type": "stream",
     "text": [
      "  9%|▉         | 459/5059 [04:44<45:06,  1.70it/s]"
     ]
    },
    {
     "name": "stdout",
     "output_type": "stream",
     "text": [
      "[]\n"
     ]
    },
    {
     "name": "stderr",
     "output_type": "stream",
     "text": [
      "  9%|▉         | 460/5059 [04:44<44:26,  1.72it/s]"
     ]
    },
    {
     "name": "stdout",
     "output_type": "stream",
     "text": [
      "['10572120', '10192941']\n"
     ]
    },
    {
     "name": "stderr",
     "output_type": "stream",
     "text": [
      "  9%|▉         | 461/5059 [04:45<44:07,  1.74it/s]"
     ]
    },
    {
     "name": "stdout",
     "output_type": "stream",
     "text": [
      "['7375017']\n"
     ]
    },
    {
     "name": "stderr",
     "output_type": "stream",
     "text": [
      "  9%|▉         | 462/5059 [04:46<43:31,  1.76it/s]"
     ]
    },
    {
     "name": "stdout",
     "output_type": "stream",
     "text": [
      "[]\n"
     ]
    },
    {
     "name": "stderr",
     "output_type": "stream",
     "text": [
      "  9%|▉         | 463/5059 [04:46<43:41,  1.75it/s]"
     ]
    },
    {
     "name": "stdout",
     "output_type": "stream",
     "text": [
      "['10699068', '10646224', '10463514', '9254016', '9198911', '8602403', '9595590', '8555559', '6635080']\n"
     ]
    },
    {
     "name": "stderr",
     "output_type": "stream",
     "text": [
      "  9%|▉         | 464/5059 [04:47<42:58,  1.78it/s]"
     ]
    },
    {
     "name": "stdout",
     "output_type": "stream",
     "text": [
      "['10771441', '8889099']\n"
     ]
    },
    {
     "name": "stderr",
     "output_type": "stream",
     "text": [
      "  9%|▉         | 465/5059 [04:47<42:40,  1.79it/s]"
     ]
    },
    {
     "name": "stdout",
     "output_type": "stream",
     "text": [
      "['6955268']\n"
     ]
    },
    {
     "name": "stderr",
     "output_type": "stream",
     "text": [
      "  9%|▉         | 466/5059 [04:48<42:20,  1.81it/s]"
     ]
    },
    {
     "name": "stdout",
     "output_type": "stream",
     "text": [
      "['8779519']\n"
     ]
    },
    {
     "name": "stderr",
     "output_type": "stream",
     "text": [
      "  9%|▉         | 467/5059 [04:48<45:41,  1.67it/s]"
     ]
    },
    {
     "name": "stdout",
     "output_type": "stream",
     "text": [
      "['10696630', '10539388', '10521498', '10681776', '10210430', '10501228', '10367927', '10367263', '9950737', '10028160', '9942349', '9830518', '9576421', '9318016', '9253409', '9260275', '9219018', '9207420', '9144049', '9122702']\n"
     ]
    },
    {
     "name": "stderr",
     "output_type": "stream",
     "text": [
      "  9%|▉         | 468/5059 [04:49<50:41,  1.51it/s]"
     ]
    },
    {
     "name": "stdout",
     "output_type": "stream",
     "text": [
      "['10754072', '10250242', '10341861', '10274304', '10195737', '9944717', '9683900', '9220854', '9029592', '8844606', '8724965', '8605999', '8471820', '8291880', '7468618', '7737162']\n"
     ]
    },
    {
     "name": "stderr",
     "output_type": "stream",
     "text": [
      "  9%|▉         | 469/5059 [04:50<50:29,  1.51it/s]"
     ]
    },
    {
     "name": "stdout",
     "output_type": "stream",
     "text": [
      "['6981061']\n"
     ]
    },
    {
     "name": "stderr",
     "output_type": "stream",
     "text": [
      "  9%|▉         | 470/5059 [04:50<47:41,  1.60it/s]"
     ]
    },
    {
     "name": "stdout",
     "output_type": "stream",
     "text": [
      "[]\n"
     ]
    },
    {
     "name": "stderr",
     "output_type": "stream",
     "text": [
      "  9%|▉         | 471/5059 [04:51<46:12,  1.66it/s]"
     ]
    },
    {
     "name": "stdout",
     "output_type": "stream",
     "text": [
      "['10680024', '7694566']\n"
     ]
    },
    {
     "name": "stderr",
     "output_type": "stream",
     "text": [
      "  9%|▉         | 472/5059 [04:52<45:00,  1.70it/s]"
     ]
    },
    {
     "name": "stdout",
     "output_type": "stream",
     "text": [
      "[]\n"
     ]
    },
    {
     "name": "stderr",
     "output_type": "stream",
     "text": [
      "  9%|▉         | 473/5059 [04:52<44:39,  1.71it/s]"
     ]
    },
    {
     "name": "stdout",
     "output_type": "stream",
     "text": [
      "['7261253']\n"
     ]
    },
    {
     "name": "stderr",
     "output_type": "stream",
     "text": [
      "  9%|▉         | 474/5059 [04:53<44:06,  1.73it/s]"
     ]
    },
    {
     "name": "stdout",
     "output_type": "stream",
     "text": [
      "[]\n"
     ]
    },
    {
     "name": "stderr",
     "output_type": "stream",
     "text": [
      "  9%|▉         | 475/5059 [04:53<43:48,  1.74it/s]"
     ]
    },
    {
     "name": "stdout",
     "output_type": "stream",
     "text": [
      "[]\n"
     ]
    },
    {
     "name": "stderr",
     "output_type": "stream",
     "text": [
      "  9%|▉         | 476/5059 [04:54<44:42,  1.71it/s]"
     ]
    },
    {
     "name": "stdout",
     "output_type": "stream",
     "text": [
      "['8011137']\n"
     ]
    },
    {
     "name": "stderr",
     "output_type": "stream",
     "text": [
      "  9%|▉         | 477/5059 [04:54<44:19,  1.72it/s]"
     ]
    },
    {
     "name": "stdout",
     "output_type": "stream",
     "text": [
      "['10078293', '6911202']\n"
     ]
    },
    {
     "name": "stderr",
     "output_type": "stream",
     "text": [
      "  9%|▉         | 478/5059 [04:55<43:33,  1.75it/s]"
     ]
    },
    {
     "name": "stdout",
     "output_type": "stream",
     "text": [
      "['6558193']\n"
     ]
    },
    {
     "name": "stderr",
     "output_type": "stream",
     "text": [
      "  9%|▉         | 479/5059 [04:56<43:25,  1.76it/s]"
     ]
    },
    {
     "name": "stdout",
     "output_type": "stream",
     "text": [
      "['6899016']\n"
     ]
    },
    {
     "name": "stderr",
     "output_type": "stream",
     "text": [
      "  9%|▉         | 480/5059 [04:56<42:59,  1.77it/s]"
     ]
    },
    {
     "name": "stdout",
     "output_type": "stream",
     "text": [
      "['10771441', '7190750']\n"
     ]
    },
    {
     "name": "stderr",
     "output_type": "stream",
     "text": [
      " 10%|▉         | 481/5059 [04:57<42:34,  1.79it/s]"
     ]
    },
    {
     "name": "stdout",
     "output_type": "stream",
     "text": [
      "[]\n"
     ]
    },
    {
     "name": "stderr",
     "output_type": "stream",
     "text": [
      " 10%|▉         | 482/5059 [04:57<42:36,  1.79it/s]"
     ]
    },
    {
     "name": "stdout",
     "output_type": "stream",
     "text": [
      "['7188669']\n"
     ]
    },
    {
     "name": "stderr",
     "output_type": "stream",
     "text": [
      " 10%|▉         | 483/5059 [04:58<43:23,  1.76it/s]"
     ]
    },
    {
     "name": "stdout",
     "output_type": "stream",
     "text": [
      "['7881031']\n"
     ]
    },
    {
     "name": "stderr",
     "output_type": "stream",
     "text": [
      " 10%|▉         | 484/5059 [04:58<44:23,  1.72it/s]"
     ]
    },
    {
     "name": "stdout",
     "output_type": "stream",
     "text": [
      "['10148556']\n"
     ]
    },
    {
     "name": "stderr",
     "output_type": "stream",
     "text": [
      " 10%|▉         | 485/5059 [04:59<52:34,  1.45it/s]"
     ]
    },
    {
     "name": "stdout",
     "output_type": "stream",
     "text": [
      "['7936652', '7906903']\n"
     ]
    },
    {
     "name": "stderr",
     "output_type": "stream",
     "text": [
      " 10%|▉         | 486/5059 [05:00<50:08,  1.52it/s]"
     ]
    },
    {
     "name": "stdout",
     "output_type": "stream",
     "text": [
      "['8301769']\n"
     ]
    },
    {
     "name": "stderr",
     "output_type": "stream",
     "text": [
      " 10%|▉         | 487/5059 [05:00<48:00,  1.59it/s]"
     ]
    },
    {
     "name": "stdout",
     "output_type": "stream",
     "text": [
      "['10730595', '10411550', '10447247', '10382532', '10318357', '9768627', '9708820', '9180703', '9006815', '8828480', '8684104', '8656778', '8645971', '8358296', '7366678']\n"
     ]
    },
    {
     "name": "stderr",
     "output_type": "stream",
     "text": [
      " 10%|▉         | 488/5059 [05:01<46:28,  1.64it/s]"
     ]
    },
    {
     "name": "stdout",
     "output_type": "stream",
     "text": [
      "['7212686']\n"
     ]
    },
    {
     "name": "stderr",
     "output_type": "stream",
     "text": [
      " 10%|▉         | 489/5059 [05:02<45:21,  1.68it/s]"
     ]
    },
    {
     "name": "stdout",
     "output_type": "stream",
     "text": [
      "['10614865', '9768919', '8191979', '6796419']\n"
     ]
    },
    {
     "name": "stderr",
     "output_type": "stream",
     "text": [
      " 10%|▉         | 490/5059 [05:02<44:16,  1.72it/s]"
     ]
    },
    {
     "name": "stdout",
     "output_type": "stream",
     "text": [
      "[]\n"
     ]
    },
    {
     "name": "stderr",
     "output_type": "stream",
     "text": [
      " 10%|▉         | 491/5059 [05:03<44:06,  1.73it/s]"
     ]
    },
    {
     "name": "stdout",
     "output_type": "stream",
     "text": [
      "['10665956', '10440380', '10679869', '10630881', '10076005', '9914042', '9451948', '9458631', '9071439', '8564042', '8560975', '8433177', '8191494', '8192185', '7689554', '7674514', '7324200', '7218664', '7262680']\n"
     ]
    },
    {
     "name": "stderr",
     "output_type": "stream",
     "text": [
      " 10%|▉         | 492/5059 [05:03<43:52,  1.73it/s]"
     ]
    },
    {
     "name": "stdout",
     "output_type": "stream",
     "text": [
      "[]\n"
     ]
    },
    {
     "name": "stderr",
     "output_type": "stream",
     "text": [
      " 10%|▉         | 493/5059 [05:04<43:29,  1.75it/s]"
     ]
    },
    {
     "name": "stdout",
     "output_type": "stream",
     "text": [
      "['6584700']\n"
     ]
    },
    {
     "name": "stderr",
     "output_type": "stream",
     "text": [
      " 10%|▉         | 494/5059 [05:04<42:41,  1.78it/s]"
     ]
    },
    {
     "name": "stdout",
     "output_type": "stream",
     "text": [
      "['9686036', '7682620', '7178746']\n"
     ]
    },
    {
     "name": "stderr",
     "output_type": "stream",
     "text": [
      " 10%|▉         | 495/5059 [05:05<42:31,  1.79it/s]"
     ]
    },
    {
     "name": "stdout",
     "output_type": "stream",
     "text": [
      "[]\n"
     ]
    },
    {
     "name": "stderr",
     "output_type": "stream",
     "text": [
      " 10%|▉         | 496/5059 [05:07<1:24:22,  1.11s/it]"
     ]
    },
    {
     "name": "stdout",
     "output_type": "stream",
     "text": [
      "[]\n"
     ]
    },
    {
     "name": "stderr",
     "output_type": "stream",
     "text": [
      " 10%|▉         | 497/5059 [05:08<1:11:52,  1.06it/s]"
     ]
    },
    {
     "name": "stdout",
     "output_type": "stream",
     "text": [
      "['6834661']\n"
     ]
    },
    {
     "name": "stderr",
     "output_type": "stream",
     "text": [
      " 10%|▉         | 498/5059 [05:08<1:03:09,  1.20it/s]"
     ]
    },
    {
     "name": "stdout",
     "output_type": "stream",
     "text": [
      "[]\n"
     ]
    },
    {
     "name": "stderr",
     "output_type": "stream",
     "text": [
      " 10%|▉         | 499/5059 [05:09<1:03:23,  1.20it/s]"
     ]
    },
    {
     "name": "stdout",
     "output_type": "stream",
     "text": [
      "['7971134']\n"
     ]
    },
    {
     "name": "stderr",
     "output_type": "stream",
     "text": [
      " 10%|▉         | 500/5059 [05:10<57:19,  1.33it/s]  "
     ]
    },
    {
     "name": "stdout",
     "output_type": "stream",
     "text": [
      "['8108288']\n"
     ]
    },
    {
     "name": "stderr",
     "output_type": "stream",
     "text": [
      " 10%|▉         | 501/5059 [05:10<52:31,  1.45it/s]"
     ]
    },
    {
     "name": "stdout",
     "output_type": "stream",
     "text": [
      "['10762175', '10620591', '10123968', '9825444', '9757161', '9691973', '8498858']\n"
     ]
    },
    {
     "name": "stderr",
     "output_type": "stream",
     "text": [
      " 10%|▉         | 502/5059 [05:11<49:26,  1.54it/s]"
     ]
    },
    {
     "name": "stdout",
     "output_type": "stream",
     "text": [
      "['6542850']\n"
     ]
    },
    {
     "name": "stderr",
     "output_type": "stream",
     "text": [
      " 10%|▉         | 503/5059 [05:12<47:11,  1.61it/s]"
     ]
    },
    {
     "name": "stdout",
     "output_type": "stream",
     "text": [
      "[]\n"
     ]
    },
    {
     "name": "stderr",
     "output_type": "stream",
     "text": [
      " 10%|▉         | 504/5059 [05:12<45:24,  1.67it/s]"
     ]
    },
    {
     "name": "stdout",
     "output_type": "stream",
     "text": [
      "[]\n"
     ]
    },
    {
     "name": "stderr",
     "output_type": "stream",
     "text": [
      " 10%|▉         | 505/5059 [05:13<44:50,  1.69it/s]"
     ]
    },
    {
     "name": "stdout",
     "output_type": "stream",
     "text": [
      "['8690488', '6531451']\n"
     ]
    },
    {
     "name": "stderr",
     "output_type": "stream",
     "text": [
      " 10%|█         | 506/5059 [05:13<44:02,  1.72it/s]"
     ]
    },
    {
     "name": "stdout",
     "output_type": "stream",
     "text": [
      "['9348805', '8324511', '6995475']\n"
     ]
    },
    {
     "name": "stderr",
     "output_type": "stream",
     "text": [
      " 10%|█         | 507/5059 [05:14<43:16,  1.75it/s]"
     ]
    },
    {
     "name": "stdout",
     "output_type": "stream",
     "text": [
      "[]\n"
     ]
    },
    {
     "name": "stderr",
     "output_type": "stream",
     "text": [
      " 10%|█         | 508/5059 [05:14<42:59,  1.76it/s]"
     ]
    },
    {
     "name": "stdout",
     "output_type": "stream",
     "text": [
      "['9524193', '6518812']\n"
     ]
    },
    {
     "name": "stderr",
     "output_type": "stream",
     "text": [
      " 10%|█         | 509/5059 [05:15<42:24,  1.79it/s]"
     ]
    },
    {
     "name": "stdout",
     "output_type": "stream",
     "text": [
      "['8446207', '6944306']\n"
     ]
    },
    {
     "name": "stderr",
     "output_type": "stream",
     "text": [
      " 10%|█         | 510/5059 [05:15<43:17,  1.75it/s]"
     ]
    },
    {
     "name": "stdout",
     "output_type": "stream",
     "text": [
      "[]\n"
     ]
    },
    {
     "name": "stderr",
     "output_type": "stream",
     "text": [
      " 10%|█         | 511/5059 [05:16<44:46,  1.69it/s]"
     ]
    },
    {
     "name": "stdout",
     "output_type": "stream",
     "text": [
      "['10540565']\n"
     ]
    },
    {
     "name": "stderr",
     "output_type": "stream",
     "text": [
      " 10%|█         | 512/5059 [05:17<44:50,  1.69it/s]"
     ]
    },
    {
     "name": "stdout",
     "output_type": "stream",
     "text": [
      "['10518434', '9663480', '8350201', '8109144', '8061399', '7250164']\n"
     ]
    },
    {
     "name": "stderr",
     "output_type": "stream",
     "text": [
      " 10%|█         | 513/5059 [05:17<43:49,  1.73it/s]"
     ]
    },
    {
     "name": "stdout",
     "output_type": "stream",
     "text": [
      "[]\n"
     ]
    },
    {
     "name": "stderr",
     "output_type": "stream",
     "text": [
      " 10%|█         | 514/5059 [05:18<43:17,  1.75it/s]"
     ]
    },
    {
     "name": "stdout",
     "output_type": "stream",
     "text": [
      "[]\n"
     ]
    },
    {
     "name": "stderr",
     "output_type": "stream",
     "text": [
      " 10%|█         | 515/5059 [05:18<42:52,  1.77it/s]"
     ]
    },
    {
     "name": "stdout",
     "output_type": "stream",
     "text": [
      "[]\n"
     ]
    },
    {
     "name": "stderr",
     "output_type": "stream",
     "text": [
      " 10%|█         | 516/5059 [05:19<43:45,  1.73it/s]"
     ]
    },
    {
     "name": "stdout",
     "output_type": "stream",
     "text": [
      "['10239240', '10566078', '10036582', '9138542', '8733735', '8571878', '8502110', '8473850', '8464760', '8211495', '8176901', '8422911', '7068819']\n"
     ]
    },
    {
     "name": "stderr",
     "output_type": "stream",
     "text": [
      " 10%|█         | 517/5059 [05:20<44:21,  1.71it/s]"
     ]
    },
    {
     "name": "stdout",
     "output_type": "stream",
     "text": [
      "['10577296', '7167108']\n"
     ]
    },
    {
     "name": "stderr",
     "output_type": "stream",
     "text": [
      " 10%|█         | 518/5059 [05:20<43:27,  1.74it/s]"
     ]
    },
    {
     "name": "stdout",
     "output_type": "stream",
     "text": [
      "['10197900', '10098096', '9882194', '9287188', '9054015', '8805920', '8713031', '8365948', '7672105', '7456219', '7386329']\n"
     ]
    },
    {
     "name": "stderr",
     "output_type": "stream",
     "text": [
      " 10%|█         | 519/5059 [05:21<43:51,  1.73it/s]"
     ]
    },
    {
     "name": "stdout",
     "output_type": "stream",
     "text": [
      "['9038195', '7814851']\n"
     ]
    },
    {
     "name": "stderr",
     "output_type": "stream",
     "text": [
      " 10%|█         | 520/5059 [05:21<43:10,  1.75it/s]"
     ]
    },
    {
     "name": "stdout",
     "output_type": "stream",
     "text": [
      "['6905564']\n"
     ]
    },
    {
     "name": "stderr",
     "output_type": "stream",
     "text": [
      " 10%|█         | 521/5059 [05:22<42:37,  1.77it/s]"
     ]
    },
    {
     "name": "stdout",
     "output_type": "stream",
     "text": [
      "[]\n"
     ]
    },
    {
     "name": "stderr",
     "output_type": "stream",
     "text": [
      " 10%|█         | 522/5059 [05:22<42:29,  1.78it/s]"
     ]
    },
    {
     "name": "stdout",
     "output_type": "stream",
     "text": [
      "['9413912']\n"
     ]
    },
    {
     "name": "stderr",
     "output_type": "stream",
     "text": [
      " 10%|█         | 523/5059 [05:23<42:36,  1.77it/s]"
     ]
    },
    {
     "name": "stdout",
     "output_type": "stream",
     "text": [
      "['9099825', '6808026']\n"
     ]
    },
    {
     "name": "stderr",
     "output_type": "stream",
     "text": [
      " 10%|█         | 524/5059 [05:23<42:48,  1.77it/s]"
     ]
    },
    {
     "name": "stdout",
     "output_type": "stream",
     "text": [
      "['8724965']\n"
     ]
    },
    {
     "name": "stderr",
     "output_type": "stream",
     "text": [
      " 10%|█         | 525/5059 [05:24<45:44,  1.65it/s]"
     ]
    },
    {
     "name": "stdout",
     "output_type": "stream",
     "text": [
      "['10399473', '8786726', '7723659']\n"
     ]
    },
    {
     "name": "stderr",
     "output_type": "stream",
     "text": [
      " 10%|█         | 526/5059 [05:25<44:37,  1.69it/s]"
     ]
    },
    {
     "name": "stdout",
     "output_type": "stream",
     "text": [
      "['10364383', '6838157']\n"
     ]
    },
    {
     "name": "stderr",
     "output_type": "stream",
     "text": [
      " 10%|█         | 527/5059 [05:25<44:06,  1.71it/s]"
     ]
    },
    {
     "name": "stdout",
     "output_type": "stream",
     "text": [
      "['9486302', '9203517', '8320323', '7691282', '7720121', '6985867']\n"
     ]
    },
    {
     "name": "stderr",
     "output_type": "stream",
     "text": [
      " 10%|█         | 528/5059 [05:26<44:12,  1.71it/s]"
     ]
    },
    {
     "name": "stdout",
     "output_type": "stream",
     "text": [
      "['7305230', '7150479']\n"
     ]
    },
    {
     "name": "stderr",
     "output_type": "stream",
     "text": [
      " 10%|█         | 529/5059 [05:26<43:23,  1.74it/s]"
     ]
    },
    {
     "name": "stdout",
     "output_type": "stream",
     "text": [
      "['10682159', '10663158', '9663454', '7432578']\n"
     ]
    },
    {
     "name": "stderr",
     "output_type": "stream",
     "text": [
      " 10%|█         | 530/5059 [05:27<45:40,  1.65it/s]"
     ]
    },
    {
     "name": "stdout",
     "output_type": "stream",
     "text": [
      "['7096529']\n"
     ]
    },
    {
     "name": "stderr",
     "output_type": "stream",
     "text": [
      " 10%|█         | 531/5059 [05:28<44:15,  1.71it/s]"
     ]
    },
    {
     "name": "stdout",
     "output_type": "stream",
     "text": [
      "['6675552']\n"
     ]
    },
    {
     "name": "stderr",
     "output_type": "stream",
     "text": [
      " 11%|█         | 532/5059 [05:28<43:36,  1.73it/s]"
     ]
    },
    {
     "name": "stdout",
     "output_type": "stream",
     "text": [
      "['8311130', '6873413']\n"
     ]
    },
    {
     "name": "stderr",
     "output_type": "stream",
     "text": [
      " 11%|█         | 533/5059 [05:29<43:05,  1.75it/s]"
     ]
    },
    {
     "name": "stdout",
     "output_type": "stream",
     "text": [
      "[]\n"
     ]
    },
    {
     "name": "stderr",
     "output_type": "stream",
     "text": [
      " 11%|█         | 534/5059 [05:29<42:39,  1.77it/s]"
     ]
    },
    {
     "name": "stdout",
     "output_type": "stream",
     "text": [
      "['7685983']\n"
     ]
    },
    {
     "name": "stderr",
     "output_type": "stream",
     "text": [
      " 11%|█         | 535/5059 [05:30<42:18,  1.78it/s]"
     ]
    },
    {
     "name": "stdout",
     "output_type": "stream",
     "text": [
      "[]\n"
     ]
    },
    {
     "name": "stderr",
     "output_type": "stream",
     "text": [
      " 11%|█         | 536/5059 [05:30<41:56,  1.80it/s]"
     ]
    },
    {
     "name": "stdout",
     "output_type": "stream",
     "text": [
      "['9388029', '8551472', '7123776']\n"
     ]
    },
    {
     "name": "stderr",
     "output_type": "stream",
     "text": [
      " 11%|█         | 537/5059 [05:31<41:57,  1.80it/s]"
     ]
    },
    {
     "name": "stdout",
     "output_type": "stream",
     "text": [
      "['10762175', '10705790', '10463514', '10602784', '10577904', '10472599', '10435259', '10338499', '10120906', '9945835', '9245671', '8956718', '8561951', '8452105', '8338742', '7679990', '7778907', '7228968']\n"
     ]
    },
    {
     "name": "stderr",
     "output_type": "stream",
     "text": [
      " 11%|█         | 538/5059 [05:32<45:11,  1.67it/s]"
     ]
    },
    {
     "name": "stdout",
     "output_type": "stream",
     "text": [
      "['10762913', '9588752', '9281042', '8778669', '6748072']\n"
     ]
    },
    {
     "name": "stderr",
     "output_type": "stream",
     "text": [
      " 11%|█         | 539/5059 [05:32<44:19,  1.70it/s]"
     ]
    },
    {
     "name": "stdout",
     "output_type": "stream",
     "text": [
      "['10344858', '10034959', '9714559', '9527735', '9498925', '9399638', '9338511', '9046892', '8954956', '8932925', '8908921', '8826576', '7660702']\n"
     ]
    },
    {
     "name": "stderr",
     "output_type": "stream",
     "text": [
      " 11%|█         | 540/5059 [05:33<44:06,  1.71it/s]"
     ]
    },
    {
     "name": "stdout",
     "output_type": "stream",
     "text": [
      "['7363079']\n"
     ]
    },
    {
     "name": "stderr",
     "output_type": "stream",
     "text": [
      " 11%|█         | 541/5059 [05:33<44:37,  1.69it/s]"
     ]
    },
    {
     "name": "stdout",
     "output_type": "stream",
     "text": [
      "['7769122']\n"
     ]
    },
    {
     "name": "stderr",
     "output_type": "stream",
     "text": [
      " 11%|█         | 542/5059 [05:34<48:22,  1.56it/s]"
     ]
    },
    {
     "name": "stdout",
     "output_type": "stream",
     "text": [
      "[]\n"
     ]
    },
    {
     "name": "stderr",
     "output_type": "stream",
     "text": [
      " 11%|█         | 543/5059 [05:35<51:54,  1.45it/s]"
     ]
    },
    {
     "name": "stdout",
     "output_type": "stream",
     "text": [
      "['8752360']\n"
     ]
    },
    {
     "name": "stderr",
     "output_type": "stream",
     "text": [
      " 11%|█         | 544/5059 [05:36<49:26,  1.52it/s]"
     ]
    },
    {
     "name": "stdout",
     "output_type": "stream",
     "text": [
      "[]\n"
     ]
    },
    {
     "name": "stderr",
     "output_type": "stream",
     "text": [
      " 11%|█         | 545/5059 [05:36<47:16,  1.59it/s]"
     ]
    },
    {
     "name": "stdout",
     "output_type": "stream",
     "text": [
      "['10748394', '10721331', '10740656', '10471635', '10451996', '10418166', '10682708', '10324043', '10287567', '9954334', '10092981', '9840167', '9806118', '9189802', '9151700', '9151685', '9134074', '9068978', '8986080', '8917922']\n"
     ]
    },
    {
     "name": "stderr",
     "output_type": "stream",
     "text": [
      " 11%|█         | 546/5059 [05:37<54:08,  1.39it/s]"
     ]
    },
    {
     "name": "stdout",
     "output_type": "stream",
     "text": [
      "['7543048']\n"
     ]
    },
    {
     "name": "stderr",
     "output_type": "stream",
     "text": [
      " 11%|█         | 547/5059 [05:38<50:08,  1.50it/s]"
     ]
    },
    {
     "name": "stdout",
     "output_type": "stream",
     "text": [
      "['9404081', '7156119', '7105105']\n"
     ]
    },
    {
     "name": "stderr",
     "output_type": "stream",
     "text": [
      " 11%|█         | 548/5059 [05:38<47:48,  1.57it/s]"
     ]
    },
    {
     "name": "stdout",
     "output_type": "stream",
     "text": [
      "['6694739']\n"
     ]
    },
    {
     "name": "stderr",
     "output_type": "stream",
     "text": [
      " 11%|█         | 549/5059 [05:39<46:21,  1.62it/s]"
     ]
    },
    {
     "name": "stdout",
     "output_type": "stream",
     "text": [
      "[]\n"
     ]
    },
    {
     "name": "stderr",
     "output_type": "stream",
     "text": [
      " 11%|█         | 550/5059 [05:39<45:03,  1.67it/s]"
     ]
    },
    {
     "name": "stdout",
     "output_type": "stream",
     "text": [
      "['3776701']\n"
     ]
    },
    {
     "name": "stderr",
     "output_type": "stream",
     "text": [
      " 11%|█         | 551/5059 [05:41<1:06:48,  1.12it/s]"
     ]
    },
    {
     "name": "stdout",
     "output_type": "stream",
     "text": [
      "['10022865']\n"
     ]
    },
    {
     "name": "stderr",
     "output_type": "stream",
     "text": [
      " 11%|█         | 552/5059 [05:41<59:41,  1.26it/s]  "
     ]
    },
    {
     "name": "stdout",
     "output_type": "stream",
     "text": [
      "['10471635']\n"
     ]
    },
    {
     "name": "stderr",
     "output_type": "stream",
     "text": [
      " 11%|█         | 553/5059 [05:42<54:17,  1.38it/s]"
     ]
    },
    {
     "name": "stdout",
     "output_type": "stream",
     "text": [
      "['9297827', '8463074']\n"
     ]
    },
    {
     "name": "stderr",
     "output_type": "stream",
     "text": [
      " 11%|█         | 554/5059 [05:43<50:39,  1.48it/s]"
     ]
    },
    {
     "name": "stdout",
     "output_type": "stream",
     "text": [
      "[]\n"
     ]
    },
    {
     "name": "stderr",
     "output_type": "stream",
     "text": [
      " 11%|█         | 555/5059 [05:43<47:37,  1.58it/s]"
     ]
    },
    {
     "name": "stdout",
     "output_type": "stream",
     "text": [
      "[]\n"
     ]
    },
    {
     "name": "stderr",
     "output_type": "stream",
     "text": [
      " 11%|█         | 556/5059 [05:44<45:45,  1.64it/s]"
     ]
    },
    {
     "name": "stdout",
     "output_type": "stream",
     "text": [
      "['10377639', '7899990', '7507321']\n"
     ]
    },
    {
     "name": "stderr",
     "output_type": "stream",
     "text": [
      " 11%|█         | 557/5059 [05:44<44:36,  1.68it/s]"
     ]
    },
    {
     "name": "stdout",
     "output_type": "stream",
     "text": [
      "['6685085']\n"
     ]
    },
    {
     "name": "stderr",
     "output_type": "stream",
     "text": [
      " 11%|█         | 558/5059 [05:45<43:42,  1.72it/s]"
     ]
    },
    {
     "name": "stdout",
     "output_type": "stream",
     "text": [
      "['7039443']\n"
     ]
    },
    {
     "name": "stderr",
     "output_type": "stream",
     "text": [
      " 11%|█         | 559/5059 [05:45<42:40,  1.76it/s]"
     ]
    },
    {
     "name": "stdout",
     "output_type": "stream",
     "text": [
      "['7066374']\n"
     ]
    },
    {
     "name": "stderr",
     "output_type": "stream",
     "text": [
      " 11%|█         | 560/5059 [05:46<43:20,  1.73it/s]"
     ]
    },
    {
     "name": "stdout",
     "output_type": "stream",
     "text": [
      "['6817560']\n"
     ]
    },
    {
     "name": "stderr",
     "output_type": "stream",
     "text": [
      " 11%|█         | 561/5059 [05:46<42:36,  1.76it/s]"
     ]
    },
    {
     "name": "stdout",
     "output_type": "stream",
     "text": [
      "['7610944']\n"
     ]
    },
    {
     "name": "stderr",
     "output_type": "stream",
     "text": [
      " 11%|█         | 562/5059 [05:47<42:19,  1.77it/s]"
     ]
    },
    {
     "name": "stdout",
     "output_type": "stream",
     "text": [
      "['10629272', '7077052']\n"
     ]
    },
    {
     "name": "stderr",
     "output_type": "stream",
     "text": [
      " 11%|█         | 563/5059 [05:48<42:12,  1.78it/s]"
     ]
    },
    {
     "name": "stdout",
     "output_type": "stream",
     "text": [
      "['7231420', '7056727']\n"
     ]
    },
    {
     "name": "stderr",
     "output_type": "stream",
     "text": [
      " 11%|█         | 564/5059 [05:48<45:08,  1.66it/s]"
     ]
    },
    {
     "name": "stdout",
     "output_type": "stream",
     "text": [
      "['4135469']\n"
     ]
    },
    {
     "name": "stderr",
     "output_type": "stream",
     "text": [
      " 11%|█         | 565/5059 [05:49<44:32,  1.68it/s]"
     ]
    },
    {
     "name": "stdout",
     "output_type": "stream",
     "text": [
      "['9998323', '7081156']\n"
     ]
    },
    {
     "name": "stderr",
     "output_type": "stream",
     "text": [
      " 11%|█         | 566/5059 [05:50<46:47,  1.60it/s]"
     ]
    },
    {
     "name": "stdout",
     "output_type": "stream",
     "text": [
      "['10773122']\n"
     ]
    },
    {
     "name": "stderr",
     "output_type": "stream",
     "text": [
      " 11%|█         | 567/5059 [05:50<45:09,  1.66it/s]"
     ]
    },
    {
     "name": "stdout",
     "output_type": "stream",
     "text": [
      "[]\n"
     ]
    },
    {
     "name": "stderr",
     "output_type": "stream",
     "text": [
      " 11%|█         | 568/5059 [05:51<43:43,  1.71it/s]"
     ]
    },
    {
     "name": "stdout",
     "output_type": "stream",
     "text": [
      "['8326743']\n"
     ]
    },
    {
     "name": "stderr",
     "output_type": "stream",
     "text": [
      " 11%|█         | 569/5059 [05:51<43:05,  1.74it/s]"
     ]
    },
    {
     "name": "stdout",
     "output_type": "stream",
     "text": [
      "['9032952', '8536759']\n"
     ]
    },
    {
     "name": "stderr",
     "output_type": "stream",
     "text": [
      " 11%|█▏        | 570/5059 [05:52<48:20,  1.55it/s]"
     ]
    },
    {
     "name": "stdout",
     "output_type": "stream",
     "text": [
      "['10387711', '10176692', '8479278', '8197236', '8021715', '7847660']\n"
     ]
    },
    {
     "name": "stderr",
     "output_type": "stream",
     "text": [
      " 11%|█▏        | 571/5059 [05:53<47:15,  1.58it/s]"
     ]
    },
    {
     "name": "stdout",
     "output_type": "stream",
     "text": [
      "['6873783']\n"
     ]
    },
    {
     "name": "stderr",
     "output_type": "stream",
     "text": [
      " 11%|█▏        | 572/5059 [05:53<46:02,  1.62it/s]"
     ]
    },
    {
     "name": "stdout",
     "output_type": "stream",
     "text": [
      "[]\n"
     ]
    },
    {
     "name": "stderr",
     "output_type": "stream",
     "text": [
      " 11%|█▏        | 573/5059 [05:54<46:28,  1.61it/s]"
     ]
    },
    {
     "name": "stdout",
     "output_type": "stream",
     "text": [
      "[]\n"
     ]
    },
    {
     "name": "stderr",
     "output_type": "stream",
     "text": [
      " 11%|█▏        | 574/5059 [05:54<44:39,  1.67it/s]"
     ]
    },
    {
     "name": "stdout",
     "output_type": "stream",
     "text": [
      "[]\n"
     ]
    },
    {
     "name": "stderr",
     "output_type": "stream",
     "text": [
      " 11%|█▏        | 575/5059 [05:55<43:46,  1.71it/s]"
     ]
    },
    {
     "name": "stdout",
     "output_type": "stream",
     "text": [
      "[]\n"
     ]
    },
    {
     "name": "stderr",
     "output_type": "stream",
     "text": [
      " 11%|█▏        | 576/5059 [05:55<43:44,  1.71it/s]"
     ]
    },
    {
     "name": "stdout",
     "output_type": "stream",
     "text": [
      "['8073275']\n"
     ]
    },
    {
     "name": "stderr",
     "output_type": "stream",
     "text": [
      " 11%|█▏        | 577/5059 [05:56<44:03,  1.70it/s]"
     ]
    },
    {
     "name": "stdout",
     "output_type": "stream",
     "text": [
      "['7589231']\n"
     ]
    },
    {
     "name": "stderr",
     "output_type": "stream",
     "text": [
      " 11%|█▏        | 578/5059 [05:57<43:11,  1.73it/s]"
     ]
    },
    {
     "name": "stdout",
     "output_type": "stream",
     "text": [
      "['10209737', '9685902', '9008839', '8672246', '8291880', '6997394']\n"
     ]
    },
    {
     "name": "stderr",
     "output_type": "stream",
     "text": [
      " 11%|█▏        | 579/5059 [05:57<42:30,  1.76it/s]"
     ]
    },
    {
     "name": "stdout",
     "output_type": "stream",
     "text": [
      "['7233069', '6737999']\n"
     ]
    },
    {
     "name": "stderr",
     "output_type": "stream",
     "text": [
      " 11%|█▏        | 580/5059 [05:58<42:35,  1.75it/s]"
     ]
    },
    {
     "name": "stdout",
     "output_type": "stream",
     "text": [
      "[]\n"
     ]
    },
    {
     "name": "stderr",
     "output_type": "stream",
     "text": [
      " 11%|█▏        | 581/5059 [05:58<41:58,  1.78it/s]"
     ]
    },
    {
     "name": "stdout",
     "output_type": "stream",
     "text": [
      "['10710794', '6877322']\n"
     ]
    },
    {
     "name": "stderr",
     "output_type": "stream",
     "text": [
      " 12%|█▏        | 582/5059 [05:59<41:38,  1.79it/s]"
     ]
    },
    {
     "name": "stdout",
     "output_type": "stream",
     "text": [
      "['8254455']\n"
     ]
    },
    {
     "name": "stderr",
     "output_type": "stream",
     "text": [
      " 12%|█▏        | 583/5059 [05:59<41:27,  1.80it/s]"
     ]
    },
    {
     "name": "stdout",
     "output_type": "stream",
     "text": [
      "['9998323', '7168850']\n"
     ]
    },
    {
     "name": "stderr",
     "output_type": "stream",
     "text": [
      " 12%|█▏        | 584/5059 [06:00<41:17,  1.81it/s]"
     ]
    },
    {
     "name": "stdout",
     "output_type": "stream",
     "text": [
      "['10735169', '10698149', '10669360', '10522668', '10441793', '10425712', '10660625', '10634611', '10252969', '10236154', '10613753', '10602784', '10560924', '10541579', '10543725', '10535701', '10435259', '10401466', '10397376', '10338499']\n"
     ]
    },
    {
     "name": "stderr",
     "output_type": "stream",
     "text": [
      " 12%|█▏        | 585/5059 [06:00<41:06,  1.81it/s]"
     ]
    },
    {
     "name": "stdout",
     "output_type": "stream",
     "text": [
      "['7200748']\n"
     ]
    },
    {
     "name": "stderr",
     "output_type": "stream",
     "text": [
      " 12%|█▏        | 586/5059 [06:01<41:07,  1.81it/s]"
     ]
    },
    {
     "name": "stdout",
     "output_type": "stream",
     "text": [
      "['10257690', '8993895']\n"
     ]
    },
    {
     "name": "stderr",
     "output_type": "stream",
     "text": [
      " 12%|█▏        | 587/5059 [06:02<41:53,  1.78it/s]"
     ]
    },
    {
     "name": "stdout",
     "output_type": "stream",
     "text": [
      "['8455131']\n"
     ]
    },
    {
     "name": "stderr",
     "output_type": "stream",
     "text": [
      " 12%|█▏        | 588/5059 [06:02<41:34,  1.79it/s]"
     ]
    },
    {
     "name": "stdout",
     "output_type": "stream",
     "text": [
      "['6961666']\n"
     ]
    },
    {
     "name": "stderr",
     "output_type": "stream",
     "text": [
      " 12%|█▏        | 589/5059 [06:03<41:20,  1.80it/s]"
     ]
    },
    {
     "name": "stdout",
     "output_type": "stream",
     "text": [
      "[]\n"
     ]
    },
    {
     "name": "stderr",
     "output_type": "stream",
     "text": [
      " 12%|█▏        | 590/5059 [06:03<41:31,  1.79it/s]"
     ]
    },
    {
     "name": "stdout",
     "output_type": "stream",
     "text": [
      "[]\n"
     ]
    },
    {
     "name": "stderr",
     "output_type": "stream",
     "text": [
      " 12%|█▏        | 591/5059 [06:04<41:22,  1.80it/s]"
     ]
    },
    {
     "name": "stdout",
     "output_type": "stream",
     "text": [
      "[]\n"
     ]
    },
    {
     "name": "stderr",
     "output_type": "stream",
     "text": [
      " 12%|█▏        | 592/5059 [06:04<41:30,  1.79it/s]"
     ]
    },
    {
     "name": "stdout",
     "output_type": "stream",
     "text": [
      "['9837439', '9244832', '6777917']\n"
     ]
    },
    {
     "name": "stderr",
     "output_type": "stream",
     "text": [
      " 12%|█▏        | 593/5059 [06:05<41:10,  1.81it/s]"
     ]
    },
    {
     "name": "stdout",
     "output_type": "stream",
     "text": [
      "[]\n"
     ]
    },
    {
     "name": "stderr",
     "output_type": "stream",
     "text": [
      " 12%|█▏        | 594/5059 [06:05<40:44,  1.83it/s]"
     ]
    },
    {
     "name": "stdout",
     "output_type": "stream",
     "text": [
      "[]\n"
     ]
    },
    {
     "name": "stderr",
     "output_type": "stream",
     "text": [
      " 12%|█▏        | 595/5059 [06:06<40:58,  1.82it/s]"
     ]
    },
    {
     "name": "stdout",
     "output_type": "stream",
     "text": [
      "['8869223']\n"
     ]
    },
    {
     "name": "stderr",
     "output_type": "stream",
     "text": [
      " 12%|█▏        | 596/5059 [06:07<40:58,  1.82it/s]"
     ]
    },
    {
     "name": "stdout",
     "output_type": "stream",
     "text": [
      "[]\n"
     ]
    },
    {
     "name": "stderr",
     "output_type": "stream",
     "text": [
      " 12%|█▏        | 597/5059 [06:07<41:57,  1.77it/s]"
     ]
    },
    {
     "name": "stdout",
     "output_type": "stream",
     "text": [
      "['10675924', '10342059', '9655921', '9497457', '8382540', '7828236', '7685913', '7399646', '3573008', '3074206', '2782469']\n"
     ]
    },
    {
     "name": "stderr",
     "output_type": "stream",
     "text": [
      " 12%|█▏        | 598/5059 [06:08<41:33,  1.79it/s]"
     ]
    },
    {
     "name": "stdout",
     "output_type": "stream",
     "text": [
      "['7787973']\n"
     ]
    },
    {
     "name": "stderr",
     "output_type": "stream",
     "text": [
      " 12%|█▏        | 599/5059 [06:08<41:46,  1.78it/s]"
     ]
    },
    {
     "name": "stdout",
     "output_type": "stream",
     "text": [
      "['10624856', '8775355', '6788707']\n"
     ]
    },
    {
     "name": "stderr",
     "output_type": "stream",
     "text": [
      " 12%|█▏        | 600/5059 [06:10<58:52,  1.26it/s]"
     ]
    },
    {
     "name": "stdout",
     "output_type": "stream",
     "text": [
      "['10690618', '10541779', '10483287', '10148661', '9980615', '9271623', '8985356', '8853811', '8760256', '8806579', '7973204', '7480186']\n"
     ]
    },
    {
     "name": "stderr",
     "output_type": "stream",
     "text": [
      " 12%|█▏        | 601/5059 [06:10<53:23,  1.39it/s]"
     ]
    },
    {
     "name": "stdout",
     "output_type": "stream",
     "text": [
      "[]\n"
     ]
    },
    {
     "name": "stderr",
     "output_type": "stream",
     "text": [
      " 12%|█▏        | 602/5059 [06:11<1:05:34,  1.13it/s]"
     ]
    },
    {
     "name": "stdout",
     "output_type": "stream",
     "text": [
      "['7877789']\n"
     ]
    },
    {
     "name": "stderr",
     "output_type": "stream",
     "text": [
      " 12%|█▏        | 603/5059 [06:13<1:15:51,  1.02s/it]"
     ]
    },
    {
     "name": "stdout",
     "output_type": "stream",
     "text": [
      "['9416881']\n"
     ]
    },
    {
     "name": "stderr",
     "output_type": "stream",
     "text": [
      " 12%|█▏        | 604/5059 [06:15<1:39:37,  1.34s/it]"
     ]
    },
    {
     "name": "stdout",
     "output_type": "stream",
     "text": [
      "['10706626', '10705663', '10716817', '10680637', '10618177', '10607753', '10588662', '10474030', '10326954', '10663673', '10257690', '10238473', '10230711', '10620240', '10586828', '10562635', '10518624', '10370469', '10249591', '10247994']\n"
     ]
    },
    {
     "name": "stderr",
     "output_type": "stream",
     "text": [
      " 12%|█▏        | 605/5059 [06:15<1:22:47,  1.12s/it]"
     ]
    },
    {
     "name": "stdout",
     "output_type": "stream",
     "text": [
      "[]\n"
     ]
    },
    {
     "name": "stderr",
     "output_type": "stream",
     "text": [
      " 12%|█▏        | 606/5059 [06:18<1:44:41,  1.41s/it]"
     ]
    },
    {
     "name": "stdout",
     "output_type": "stream",
     "text": [
      "['8197986', '7765507', '7399686']\n"
     ]
    },
    {
     "name": "stderr",
     "output_type": "stream",
     "text": [
      " 12%|█▏        | 607/5059 [06:19<1:42:11,  1.38s/it]"
     ]
    },
    {
     "name": "stdout",
     "output_type": "stream",
     "text": [
      "['10419227', '10507272', '10326489', '10184422', '10090505', '9472135', '9033320', '8965469', '8454269', '7779629', '7704703', '7658345']\n"
     ]
    },
    {
     "name": "stderr",
     "output_type": "stream",
     "text": [
      " 12%|█▏        | 608/5059 [06:19<1:24:44,  1.14s/it]"
     ]
    },
    {
     "name": "stdout",
     "output_type": "stream",
     "text": [
      "['7351764']\n"
     ]
    },
    {
     "name": "stderr",
     "output_type": "stream",
     "text": [
      " 12%|█▏        | 609/5059 [06:21<1:34:00,  1.27s/it]"
     ]
    },
    {
     "name": "stdout",
     "output_type": "stream",
     "text": [
      "['10695979', '10229735', '10053136', '9630743', '8733267', '8591037']\n"
     ]
    },
    {
     "name": "stderr",
     "output_type": "stream",
     "text": [
      " 12%|█▏        | 610/5059 [06:24<2:02:58,  1.66s/it]"
     ]
    },
    {
     "name": "stdout",
     "output_type": "stream",
     "text": [
      "['9530920']\n"
     ]
    },
    {
     "name": "stderr",
     "output_type": "stream",
     "text": [
      " 12%|█▏        | 611/5059 [06:25<1:56:39,  1.57s/it]"
     ]
    },
    {
     "name": "stdout",
     "output_type": "stream",
     "text": [
      "['10733940', '10517965', '10505586', '10148642', '9252675', '8751589', '8721009', '8364186', '6898969']\n"
     ]
    },
    {
     "name": "stderr",
     "output_type": "stream",
     "text": [
      " 12%|█▏        | 612/5059 [06:26<1:42:10,  1.38s/it]"
     ]
    },
    {
     "name": "stdout",
     "output_type": "stream",
     "text": [
      "['10003639']\n"
     ]
    },
    {
     "name": "stderr",
     "output_type": "stream",
     "text": [
      " 12%|█▏        | 613/5059 [06:26<1:23:38,  1.13s/it]"
     ]
    },
    {
     "name": "stdout",
     "output_type": "stream",
     "text": [
      "['10196562', '8844792', '8649667', '6736989']\n"
     ]
    },
    {
     "name": "stderr",
     "output_type": "stream",
     "text": [
      " 12%|█▏        | 614/5059 [06:27<1:10:36,  1.05it/s]"
     ]
    },
    {
     "name": "stdout",
     "output_type": "stream",
     "text": [
      "[]\n"
     ]
    },
    {
     "name": "stderr",
     "output_type": "stream",
     "text": [
      " 12%|█▏        | 615/5059 [06:28<1:02:15,  1.19it/s]"
     ]
    },
    {
     "name": "stdout",
     "output_type": "stream",
     "text": [
      "['10606805', '10348756']\n"
     ]
    },
    {
     "name": "stderr",
     "output_type": "stream",
     "text": [
      " 12%|█▏        | 616/5059 [06:28<55:36,  1.33it/s]  "
     ]
    },
    {
     "name": "stdout",
     "output_type": "stream",
     "text": [
      "['7823437']\n"
     ]
    },
    {
     "name": "stderr",
     "output_type": "stream",
     "text": [
      " 12%|█▏        | 617/5059 [06:29<59:43,  1.24it/s]"
     ]
    },
    {
     "name": "stdout",
     "output_type": "stream",
     "text": [
      "[]\n"
     ]
    },
    {
     "name": "stderr",
     "output_type": "stream",
     "text": [
      " 12%|█▏        | 618/5059 [06:30<59:13,  1.25it/s]"
     ]
    },
    {
     "name": "stdout",
     "output_type": "stream",
     "text": [
      "['10701943', '10658966', '10616674', '10320426', '10207953', '10505920', '10008491', '9769452', '9663158', '9622505', '9238166', '9264902', '9204993', '9079088', '8806806', '8797326', '7880353', '7963423', '7520318', '7312972']\n"
     ]
    },
    {
     "name": "stderr",
     "output_type": "stream",
     "text": [
      " 12%|█▏        | 619/5059 [06:31<1:05:35,  1.13it/s]"
     ]
    },
    {
     "name": "stdout",
     "output_type": "stream",
     "text": [
      "['10593476', '10684677', '10615496', '10135937', '10121556', '10040717', '9912946', '9549267', '9329527', '9015863', '8426639', '7981169', '7530526', '6909911', '6822430', '4219025', '3882430', '4136472', '2993290', '4199327']\n"
     ]
    },
    {
     "name": "stderr",
     "output_type": "stream",
     "text": [
      " 12%|█▏        | 620/5059 [06:32<59:22,  1.25it/s]  "
     ]
    },
    {
     "name": "stdout",
     "output_type": "stream",
     "text": [
      "['6778199']\n"
     ]
    },
    {
     "name": "stderr",
     "output_type": "stream",
     "text": [
      " 12%|█▏        | 621/5059 [06:32<53:34,  1.38it/s]"
     ]
    },
    {
     "name": "stdout",
     "output_type": "stream",
     "text": [
      "['6925199']\n"
     ]
    },
    {
     "name": "stderr",
     "output_type": "stream",
     "text": [
      " 12%|█▏        | 622/5059 [06:33<50:16,  1.47it/s]"
     ]
    },
    {
     "name": "stdout",
     "output_type": "stream",
     "text": [
      "['10629169', '10542025', '10403592', '10252129', '10000532', '9990329', '9847120', '9856814', '9817049', '9794594', '9743194', '9583502', '9582246', '9359862', '9243227', '9189366', '9072533', '9106577', '9102654', '8613923']\n"
     ]
    },
    {
     "name": "stderr",
     "output_type": "stream",
     "text": [
      " 12%|█▏        | 623/5059 [06:33<47:20,  1.56it/s]"
     ]
    },
    {
     "name": "stdout",
     "output_type": "stream",
     "text": [
      "[]\n"
     ]
    },
    {
     "name": "stderr",
     "output_type": "stream",
     "text": [
      " 12%|█▏        | 624/5059 [06:34<45:12,  1.63it/s]"
     ]
    },
    {
     "name": "stdout",
     "output_type": "stream",
     "text": [
      "['6474637', '1885609']\n"
     ]
    },
    {
     "name": "stderr",
     "output_type": "stream",
     "text": [
      " 12%|█▏        | 625/5059 [06:34<43:46,  1.69it/s]"
     ]
    },
    {
     "name": "stdout",
     "output_type": "stream",
     "text": [
      "['10772462', '6849944']\n"
     ]
    },
    {
     "name": "stderr",
     "output_type": "stream",
     "text": [
      " 12%|█▏        | 626/5059 [06:35<43:30,  1.70it/s]"
     ]
    },
    {
     "name": "stdout",
     "output_type": "stream",
     "text": [
      "['10763327', '10466839', '10461428', '10248568', '10356900', '10314886', '10019564', '9917593', '10086187', '10079957', '10066047', '9811654', '9798722', '9441489', '9197650', '9011158', '8901051', '8896954', '8843017', '8826370']\n"
     ]
    },
    {
     "name": "stderr",
     "output_type": "stream",
     "text": [
      " 12%|█▏        | 627/5059 [06:35<42:43,  1.73it/s]"
     ]
    },
    {
     "name": "stdout",
     "output_type": "stream",
     "text": [
      "['10127511', '9519979', '8353244']\n"
     ]
    },
    {
     "name": "stderr",
     "output_type": "stream",
     "text": [
      " 12%|█▏        | 628/5059 [06:36<42:15,  1.75it/s]"
     ]
    },
    {
     "name": "stdout",
     "output_type": "stream",
     "text": [
      "['7355036']\n"
     ]
    },
    {
     "name": "stderr",
     "output_type": "stream",
     "text": [
      " 12%|█▏        | 629/5059 [06:37<42:53,  1.72it/s]"
     ]
    },
    {
     "name": "stdout",
     "output_type": "stream",
     "text": [
      "['9848821', '6948325']\n"
     ]
    },
    {
     "name": "stderr",
     "output_type": "stream",
     "text": [
      " 12%|█▏        | 630/5059 [06:37<42:24,  1.74it/s]"
     ]
    },
    {
     "name": "stdout",
     "output_type": "stream",
     "text": [
      "['10122342', '9274611', '8834113', '8738869', '8544130', '8494806', '7901959', '7399646', '7295062', '6682514', '6426514', '4404593', '3943740', '3644490', '3521958', '3100679', '2620272', '1852103']\n"
     ]
    },
    {
     "name": "stderr",
     "output_type": "stream",
     "text": [
      " 12%|█▏        | 631/5059 [06:38<42:01,  1.76it/s]"
     ]
    },
    {
     "name": "stdout",
     "output_type": "stream",
     "text": [
      "['8756251']\n"
     ]
    },
    {
     "name": "stderr",
     "output_type": "stream",
     "text": [
      " 12%|█▏        | 632/5059 [06:38<41:28,  1.78it/s]"
     ]
    },
    {
     "name": "stdout",
     "output_type": "stream",
     "text": [
      "['10764267', '7359566']\n"
     ]
    },
    {
     "name": "stderr",
     "output_type": "stream",
     "text": [
      " 13%|█▎        | 633/5059 [06:39<41:06,  1.79it/s]"
     ]
    },
    {
     "name": "stdout",
     "output_type": "stream",
     "text": [
      "['10630427', '10578719', '9575826', '9104995', '9096389', '8405838', '8223391', '2856841']\n"
     ]
    },
    {
     "name": "stderr",
     "output_type": "stream",
     "text": [
      " 13%|█▎        | 634/5059 [06:39<40:45,  1.81it/s]"
     ]
    },
    {
     "name": "stdout",
     "output_type": "stream",
     "text": [
      "['10502548', '10213871', '9992519', '10111636', '9817797', '9818499', '9077476', '8664385', '8555350', '8806985', '8379014', '8167675', '8070584', '8039192', '8018347', '7953069', '7974519', '7166065', '7106953', '6856658']\n"
     ]
    },
    {
     "name": "stderr",
     "output_type": "stream",
     "text": [
      " 13%|█▎        | 635/5059 [06:40<41:07,  1.79it/s]"
     ]
    },
    {
     "name": "stdout",
     "output_type": "stream",
     "text": [
      "['10724275', '10654470', '10512569', '10252072', '10079878', '10039038', '10007832', '9954650', '9758983', '9859759', '9650672', '9578791', '9539251', '9553755', '9262157', '9294418', '9134950', '8856617', '8836065', '8728391']\n"
     ]
    },
    {
     "name": "stderr",
     "output_type": "stream",
     "text": [
      " 13%|█▎        | 636/5059 [06:40<40:39,  1.81it/s]"
     ]
    },
    {
     "name": "stdout",
     "output_type": "stream",
     "text": [
      "['6787083']\n"
     ]
    },
    {
     "name": "stderr",
     "output_type": "stream",
     "text": [
      " 13%|█▎        | 637/5059 [06:41<40:28,  1.82it/s]"
     ]
    },
    {
     "name": "stdout",
     "output_type": "stream",
     "text": [
      "['9981965']\n"
     ]
    },
    {
     "name": "stderr",
     "output_type": "stream",
     "text": [
      " 13%|█▎        | 638/5059 [06:42<40:14,  1.83it/s]"
     ]
    },
    {
     "name": "stdout",
     "output_type": "stream",
     "text": [
      "['10570087', '10586817', '10326321', '9891974', '8074053']\n"
     ]
    },
    {
     "name": "stderr",
     "output_type": "stream",
     "text": [
      " 13%|█▎        | 639/5059 [06:42<41:02,  1.79it/s]"
     ]
    },
    {
     "name": "stdout",
     "output_type": "stream",
     "text": [
      "['7985878']\n"
     ]
    },
    {
     "name": "stderr",
     "output_type": "stream",
     "text": [
      " 13%|█▎        | 640/5059 [06:43<41:56,  1.76it/s]"
     ]
    },
    {
     "name": "stdout",
     "output_type": "stream",
     "text": [
      "['9308231', '7164665']\n"
     ]
    },
    {
     "name": "stderr",
     "output_type": "stream",
     "text": [
      " 13%|█▎        | 641/5059 [06:43<42:00,  1.75it/s]"
     ]
    },
    {
     "name": "stdout",
     "output_type": "stream",
     "text": [
      "['9744750', '9649321', '9170782', '8488363', '8616616', '8133874']\n"
     ]
    },
    {
     "name": "stderr",
     "output_type": "stream",
     "text": [
      " 13%|█▎        | 642/5059 [06:44<41:24,  1.78it/s]"
     ]
    },
    {
     "name": "stdout",
     "output_type": "stream",
     "text": [
      "['10770157', '9136144', '8910747', '8395715', '7564986']\n"
     ]
    },
    {
     "name": "stderr",
     "output_type": "stream",
     "text": [
      " 13%|█▎        | 643/5059 [06:44<42:09,  1.75it/s]"
     ]
    },
    {
     "name": "stdout",
     "output_type": "stream",
     "text": [
      "['8643189']\n"
     ]
    },
    {
     "name": "stderr",
     "output_type": "stream",
     "text": [
      " 13%|█▎        | 644/5059 [06:45<42:13,  1.74it/s]"
     ]
    },
    {
     "name": "stdout",
     "output_type": "stream",
     "text": [
      "['10185339', '7418847']\n"
     ]
    },
    {
     "name": "stderr",
     "output_type": "stream",
     "text": [
      " 13%|█▎        | 645/5059 [06:46<41:40,  1.77it/s]"
     ]
    },
    {
     "name": "stdout",
     "output_type": "stream",
     "text": [
      "['7413599', '7281098', '6895980']\n"
     ]
    },
    {
     "name": "stderr",
     "output_type": "stream",
     "text": [
      " 13%|█▎        | 646/5059 [06:46<41:15,  1.78it/s]"
     ]
    },
    {
     "name": "stdout",
     "output_type": "stream",
     "text": [
      "[]\n"
     ]
    },
    {
     "name": "stderr",
     "output_type": "stream",
     "text": [
      " 13%|█▎        | 647/5059 [06:47<40:47,  1.80it/s]"
     ]
    },
    {
     "name": "stdout",
     "output_type": "stream",
     "text": [
      "[]\n"
     ]
    },
    {
     "name": "stderr",
     "output_type": "stream",
     "text": [
      " 13%|█▎        | 648/5059 [06:47<40:22,  1.82it/s]"
     ]
    },
    {
     "name": "stdout",
     "output_type": "stream",
     "text": [
      "['10500015', '9906884', '9655921', '9705324', '8382540', '7828236', '6969900', '5783509', '5664400', '5458482', '5241709', '4468608', '4184161', '3213685']\n"
     ]
    },
    {
     "name": "stderr",
     "output_type": "stream",
     "text": [
      " 13%|█▎        | 649/5059 [06:48<40:30,  1.81it/s]"
     ]
    },
    {
     "name": "stdout",
     "output_type": "stream",
     "text": [
      "['10713618', '10460732', '10296674', '10197848', '10127511', '9663162', '9760473', '9563794', '9484244', '9512506', '9448930', '9285492', '9519979', '9313263', '9243593', '9132940', '9128248', '9136328', '8686664', '8695024']\n"
     ]
    },
    {
     "name": "stderr",
     "output_type": "stream",
     "text": [
      " 13%|█▎        | 650/5059 [06:48<40:15,  1.82it/s]"
     ]
    },
    {
     "name": "stdout",
     "output_type": "stream",
     "text": [
      "['7987152', '6775463']\n"
     ]
    },
    {
     "name": "stderr",
     "output_type": "stream",
     "text": [
      " 13%|█▎        | 651/5059 [06:49<40:29,  1.81it/s]"
     ]
    },
    {
     "name": "stdout",
     "output_type": "stream",
     "text": [
      "['8855073', '8651423', '8439595']\n"
     ]
    },
    {
     "name": "stderr",
     "output_type": "stream",
     "text": [
      " 13%|█▎        | 652/5059 [06:49<41:08,  1.79it/s]"
     ]
    },
    {
     "name": "stdout",
     "output_type": "stream",
     "text": [
      "['10772258', '10695504', '10615490', '10615100', '10501147', '10478479', '10475477', '10424043', '10414037', '10664659', '10652145', '10644964', '10288199', '10280624', '10262520', '10454997', '10424021', '10411464', '10401466', '10375852']\n"
     ]
    },
    {
     "name": "stderr",
     "output_type": "stream",
     "text": [
      " 13%|█▎        | 653/5059 [06:50<40:55,  1.79it/s]"
     ]
    },
    {
     "name": "stdout",
     "output_type": "stream",
     "text": [
      "['7938896', '7470605', '6914426']\n"
     ]
    },
    {
     "name": "stderr",
     "output_type": "stream",
     "text": [
      " 13%|█▎        | 654/5059 [06:50<40:47,  1.80it/s]"
     ]
    },
    {
     "name": "stdout",
     "output_type": "stream",
     "text": [
      "['7294779']\n"
     ]
    },
    {
     "name": "stderr",
     "output_type": "stream",
     "text": [
      " 13%|█▎        | 655/5059 [06:51<40:47,  1.80it/s]"
     ]
    },
    {
     "name": "stdout",
     "output_type": "stream",
     "text": [
      "[]\n"
     ]
    },
    {
     "name": "stderr",
     "output_type": "stream",
     "text": [
      " 13%|█▎        | 656/5059 [06:52<40:38,  1.81it/s]"
     ]
    },
    {
     "name": "stdout",
     "output_type": "stream",
     "text": [
      "['10747414', '10693783', '10675954', '10646046', '10442477', '9946009', '10190106', '9493146', '8016137', '7737429', '7596416', '7686997', '7399646', '6348648', '5617499', '3159071']\n"
     ]
    },
    {
     "name": "stderr",
     "output_type": "stream",
     "text": [
      " 13%|█▎        | 657/5059 [06:52<40:32,  1.81it/s]"
     ]
    },
    {
     "name": "stdout",
     "output_type": "stream",
     "text": [
      "['9384576', '7929360', '5314727']\n"
     ]
    },
    {
     "name": "stderr",
     "output_type": "stream",
     "text": [
      " 13%|█▎        | 658/5059 [06:53<40:13,  1.82it/s]"
     ]
    },
    {
     "name": "stdout",
     "output_type": "stream",
     "text": [
      "['10767340', '10695778', '10761719', '10507583', '10478412', '10623427', '10363437', '10360925', '10356717', '10253470', '10243830', '10243115', '10220775', '9941622', '9917296', '9832797', '9663999', '9664729', '9792752', '9727889']\n"
     ]
    },
    {
     "name": "stderr",
     "output_type": "stream",
     "text": [
      " 13%|█▎        | 659/5059 [06:53<40:13,  1.82it/s]"
     ]
    },
    {
     "name": "stdout",
     "output_type": "stream",
     "text": [
      "['8353793', '6367506', '5081600']\n"
     ]
    },
    {
     "name": "stderr",
     "output_type": "stream",
     "text": [
      " 13%|█▎        | 660/5059 [06:54<41:03,  1.79it/s]"
     ]
    },
    {
     "name": "stdout",
     "output_type": "stream",
     "text": [
      "['10438415', '8191979', '7902938', '7430270', '5427619', '6075029', '5241709', '4914126', '4618947', '4468608', '4317235', '3912409', '3443069', '2620272', '1964868']\n"
     ]
    },
    {
     "name": "stderr",
     "output_type": "stream",
     "text": [
      " 13%|█▎        | 661/5059 [06:54<41:42,  1.76it/s]"
     ]
    },
    {
     "name": "stdout",
     "output_type": "stream",
     "text": [
      "['10251034', '10127511', '10077472', '9519979', '8763270', '8487294', '8268805', '8068767', '7857610', '7399646', '6819106', '6472943', '6382731', '6328607', '5982759', '5924487', '5688138', '5647040', '5520720', '5351668']\n"
     ]
    },
    {
     "name": "stderr",
     "output_type": "stream",
     "text": [
      " 13%|█▎        | 662/5059 [06:55<41:09,  1.78it/s]"
     ]
    },
    {
     "name": "stdout",
     "output_type": "stream",
     "text": [
      "['10745176', '10730149', '10603050', '10688979', '10224697', '10140797', '9917296', '9813306', '9475509', '9189346', '9042626', '8859527', '9303321', '8593188', '8571054', '8440637', '8213219', '8141928', '8079702', '8495491']\n"
     ]
    },
    {
     "name": "stderr",
     "output_type": "stream",
     "text": [
      " 13%|█▎        | 663/5059 [06:55<40:44,  1.80it/s]"
     ]
    },
    {
     "name": "stdout",
     "output_type": "stream",
     "text": [
      "['9748670', '7399646', '2329848']\n"
     ]
    },
    {
     "name": "stderr",
     "output_type": "stream",
     "text": [
      " 13%|█▎        | 664/5059 [06:56<41:08,  1.78it/s]"
     ]
    },
    {
     "name": "stdout",
     "output_type": "stream",
     "text": [
      "['10164790', '4378860', '3908947', '3012732', '2997066']\n"
     ]
    },
    {
     "name": "stderr",
     "output_type": "stream",
     "text": [
      " 13%|█▎        | 665/5059 [06:57<41:04,  1.78it/s]"
     ]
    },
    {
     "name": "stdout",
     "output_type": "stream",
     "text": [
      "['9977056', '9849323', '9769000', '9073551', '8148487', '7352056']\n"
     ]
    },
    {
     "name": "stderr",
     "output_type": "stream",
     "text": [
      " 13%|█▎        | 666/5059 [06:57<41:00,  1.79it/s]"
     ]
    },
    {
     "name": "stdout",
     "output_type": "stream",
     "text": [
      "['10660188']\n"
     ]
    },
    {
     "name": "stderr",
     "output_type": "stream",
     "text": [
      " 13%|█▎        | 667/5059 [06:58<40:44,  1.80it/s]"
     ]
    },
    {
     "name": "stdout",
     "output_type": "stream",
     "text": [
      "['10668573', '8779519']\n"
     ]
    },
    {
     "name": "stderr",
     "output_type": "stream",
     "text": [
      " 13%|█▎        | 668/5059 [06:58<41:26,  1.77it/s]"
     ]
    },
    {
     "name": "stdout",
     "output_type": "stream",
     "text": [
      "['10066577', '9065417', '8491073']\n"
     ]
    },
    {
     "name": "stderr",
     "output_type": "stream",
     "text": [
      " 13%|█▎        | 669/5059 [06:59<41:09,  1.78it/s]"
     ]
    },
    {
     "name": "stdout",
     "output_type": "stream",
     "text": [
      "['7422126']\n"
     ]
    },
    {
     "name": "stderr",
     "output_type": "stream",
     "text": [
      " 13%|█▎        | 670/5059 [06:59<40:55,  1.79it/s]"
     ]
    },
    {
     "name": "stdout",
     "output_type": "stream",
     "text": [
      "['6842954']\n"
     ]
    },
    {
     "name": "stderr",
     "output_type": "stream",
     "text": [
      " 13%|█▎        | 671/5059 [07:00<40:39,  1.80it/s]"
     ]
    },
    {
     "name": "stdout",
     "output_type": "stream",
     "text": [
      "['10695615', '10563159', '10186126', '10086758', '10170305', '9713468', '9641494', '9509178', '9130708', '8847715', '8565058', '8311130', '7573595', '7454314']\n"
     ]
    },
    {
     "name": "stderr",
     "output_type": "stream",
     "text": [
      " 13%|█▎        | 672/5059 [07:01<40:56,  1.79it/s]"
     ]
    },
    {
     "name": "stdout",
     "output_type": "stream",
     "text": [
      "['7822914']\n"
     ]
    },
    {
     "name": "stderr",
     "output_type": "stream",
     "text": [
      " 13%|█▎        | 673/5059 [07:01<40:44,  1.79it/s]"
     ]
    },
    {
     "name": "stdout",
     "output_type": "stream",
     "text": [
      "[]\n"
     ]
    },
    {
     "name": "stderr",
     "output_type": "stream",
     "text": [
      " 13%|█▎        | 674/5059 [07:02<40:48,  1.79it/s]"
     ]
    },
    {
     "name": "stdout",
     "output_type": "stream",
     "text": [
      "['10040389', '9794347', '9110726', '8274390']\n"
     ]
    },
    {
     "name": "stderr",
     "output_type": "stream",
     "text": [
      " 13%|█▎        | 675/5059 [07:02<40:44,  1.79it/s]"
     ]
    },
    {
     "name": "stdout",
     "output_type": "stream",
     "text": [
      "['7856249']\n"
     ]
    },
    {
     "name": "stderr",
     "output_type": "stream",
     "text": [
      " 13%|█▎        | 676/5059 [07:03<40:37,  1.80it/s]"
     ]
    },
    {
     "name": "stdout",
     "output_type": "stream",
     "text": [
      "['8177778']\n"
     ]
    },
    {
     "name": "stderr",
     "output_type": "stream",
     "text": [
      " 13%|█▎        | 677/5059 [07:03<40:55,  1.78it/s]"
     ]
    },
    {
     "name": "stdout",
     "output_type": "stream",
     "text": [
      "['8797995', '7333861']\n"
     ]
    },
    {
     "name": "stderr",
     "output_type": "stream",
     "text": [
      " 13%|█▎        | 678/5059 [07:04<41:01,  1.78it/s]"
     ]
    },
    {
     "name": "stdout",
     "output_type": "stream",
     "text": [
      "['8903580']\n"
     ]
    },
    {
     "name": "stderr",
     "output_type": "stream",
     "text": [
      " 13%|█▎        | 679/5059 [07:04<40:49,  1.79it/s]"
     ]
    },
    {
     "name": "stdout",
     "output_type": "stream",
     "text": [
      "['9703992', '9032865', '7599955']\n"
     ]
    },
    {
     "name": "stderr",
     "output_type": "stream",
     "text": [
      " 13%|█▎        | 680/5059 [07:05<41:06,  1.78it/s]"
     ]
    },
    {
     "name": "stdout",
     "output_type": "stream",
     "text": [
      "['10520634', '9972684', '9675474', '9798842', '9110726', '8987079', '8570059', '8015858']\n"
     ]
    },
    {
     "name": "stderr",
     "output_type": "stream",
     "text": [
      " 13%|█▎        | 681/5059 [07:06<42:43,  1.71it/s]"
     ]
    },
    {
     "name": "stdout",
     "output_type": "stream",
     "text": [
      "['9825511', '8501715', '8349953']\n"
     ]
    },
    {
     "name": "stderr",
     "output_type": "stream",
     "text": [
      " 13%|█▎        | 682/5059 [07:06<43:18,  1.68it/s]"
     ]
    },
    {
     "name": "stdout",
     "output_type": "stream",
     "text": [
      "[]\n"
     ]
    },
    {
     "name": "stderr",
     "output_type": "stream",
     "text": [
      " 14%|█▎        | 683/5059 [07:07<42:25,  1.72it/s]"
     ]
    },
    {
     "name": "stdout",
     "output_type": "stream",
     "text": [
      "['10750288', '8009229']\n"
     ]
    },
    {
     "name": "stderr",
     "output_type": "stream",
     "text": [
      " 14%|█▎        | 684/5059 [07:08<57:43,  1.26it/s]"
     ]
    },
    {
     "name": "stdout",
     "output_type": "stream",
     "text": [
      "['10212991', '9196326', '8545090']\n"
     ]
    },
    {
     "name": "stderr",
     "output_type": "stream",
     "text": [
      " 14%|█▎        | 685/5059 [07:09<52:33,  1.39it/s]"
     ]
    },
    {
     "name": "stdout",
     "output_type": "stream",
     "text": [
      "[]\n"
     ]
    },
    {
     "name": "stderr",
     "output_type": "stream",
     "text": [
      " 14%|█▎        | 686/5059 [07:09<48:40,  1.50it/s]"
     ]
    },
    {
     "name": "stdout",
     "output_type": "stream",
     "text": [
      "['10317128', '7363942']\n"
     ]
    },
    {
     "name": "stderr",
     "output_type": "stream",
     "text": [
      " 14%|█▎        | 687/5059 [07:10<45:46,  1.59it/s]"
     ]
    },
    {
     "name": "stdout",
     "output_type": "stream",
     "text": [
      "['8217968']\n"
     ]
    },
    {
     "name": "stderr",
     "output_type": "stream",
     "text": [
      " 14%|█▎        | 688/5059 [07:10<43:57,  1.66it/s]"
     ]
    },
    {
     "name": "stdout",
     "output_type": "stream",
     "text": [
      "['10601513', '10338377', '10094548', '9168076', '9045715', '8885409', '8973830', '5431993', '4792587', '4625608']\n"
     ]
    },
    {
     "name": "stderr",
     "output_type": "stream",
     "text": [
      " 14%|█▎        | 689/5059 [07:11<42:32,  1.71it/s]"
     ]
    },
    {
     "name": "stdout",
     "output_type": "stream",
     "text": [
      "['10739435', '10720206', '10701022', '10695808', '10771449', '10731241', '10730836', '10722142', '10670634', '10628740', '10626706', '10623006', '10620278', '10618477', '10607652', '10600175', '10584351', '10579530', '10578750', '10564426']\n"
     ]
    },
    {
     "name": "stderr",
     "output_type": "stream",
     "text": [
      " 14%|█▎        | 690/5059 [07:11<42:11,  1.73it/s]"
     ]
    },
    {
     "name": "stdout",
     "output_type": "stream",
     "text": [
      "['10545272', '10631049', '10439720', '10182662', '10093756', '9020771', '8635862', '8517996', '8265167', '8260594', '9446896', '7538683', '7396450', '7047190', '6927340', '6895529', '6781567', '6825976', '6539486', '6357337']\n"
     ]
    },
    {
     "name": "stderr",
     "output_type": "stream",
     "text": [
      " 14%|█▎        | 691/5059 [07:12<42:02,  1.73it/s]"
     ]
    },
    {
     "name": "stdout",
     "output_type": "stream",
     "text": [
      "['9586642']\n"
     ]
    },
    {
     "name": "stderr",
     "output_type": "stream",
     "text": [
      " 14%|█▎        | 692/5059 [07:13<42:54,  1.70it/s]"
     ]
    },
    {
     "name": "stdout",
     "output_type": "stream",
     "text": [
      "['7987336']\n"
     ]
    },
    {
     "name": "stderr",
     "output_type": "stream",
     "text": [
      " 14%|█▎        | 693/5059 [07:13<42:43,  1.70it/s]"
     ]
    },
    {
     "name": "stdout",
     "output_type": "stream",
     "text": [
      "['10731758']\n"
     ]
    },
    {
     "name": "stderr",
     "output_type": "stream",
     "text": [
      " 14%|█▎        | 694/5059 [07:14<41:56,  1.73it/s]"
     ]
    },
    {
     "name": "stdout",
     "output_type": "stream",
     "text": [
      "[]\n"
     ]
    },
    {
     "name": "stderr",
     "output_type": "stream",
     "text": [
      " 14%|█▎        | 695/5059 [07:14<41:16,  1.76it/s]"
     ]
    },
    {
     "name": "stdout",
     "output_type": "stream",
     "text": [
      "['7987336']\n"
     ]
    },
    {
     "name": "stderr",
     "output_type": "stream",
     "text": [
      " 14%|█▍        | 696/5059 [07:15<40:51,  1.78it/s]"
     ]
    },
    {
     "name": "stdout",
     "output_type": "stream",
     "text": [
      "['8024334', '7253193']\n"
     ]
    },
    {
     "name": "stderr",
     "output_type": "stream",
     "text": [
      " 14%|█▍        | 697/5059 [07:15<40:35,  1.79it/s]"
     ]
    },
    {
     "name": "stdout",
     "output_type": "stream",
     "text": [
      "['9065075']\n"
     ]
    },
    {
     "name": "stderr",
     "output_type": "stream",
     "text": [
      " 14%|█▍        | 698/5059 [07:16<40:30,  1.79it/s]"
     ]
    },
    {
     "name": "stdout",
     "output_type": "stream",
     "text": [
      "[]\n"
     ]
    },
    {
     "name": "stderr",
     "output_type": "stream",
     "text": [
      " 14%|█▍        | 699/5059 [07:16<40:03,  1.81it/s]"
     ]
    },
    {
     "name": "stdout",
     "output_type": "stream",
     "text": [
      "[]\n"
     ]
    },
    {
     "name": "stderr",
     "output_type": "stream",
     "text": [
      " 14%|█▍        | 700/5059 [07:17<40:19,  1.80it/s]"
     ]
    },
    {
     "name": "stdout",
     "output_type": "stream",
     "text": [
      "['9833827']\n"
     ]
    },
    {
     "name": "stderr",
     "output_type": "stream",
     "text": [
      " 14%|█▍        | 701/5059 [07:18<40:12,  1.81it/s]"
     ]
    },
    {
     "name": "stdout",
     "output_type": "stream",
     "text": [
      "['10689497', '10541579', '10511508', '10401466', '10249727', '10055394', '9657924', '8795238']\n"
     ]
    },
    {
     "name": "stderr",
     "output_type": "stream",
     "text": [
      " 14%|█▍        | 702/5059 [07:18<40:12,  1.81it/s]"
     ]
    },
    {
     "name": "stdout",
     "output_type": "stream",
     "text": [
      "['8551071']\n"
     ]
    },
    {
     "name": "stderr",
     "output_type": "stream",
     "text": [
      " 14%|█▍        | 703/5059 [07:19<40:11,  1.81it/s]"
     ]
    },
    {
     "name": "stdout",
     "output_type": "stream",
     "text": [
      "['7382050']\n"
     ]
    },
    {
     "name": "stderr",
     "output_type": "stream",
     "text": [
      " 14%|█▍        | 704/5059 [07:19<40:28,  1.79it/s]"
     ]
    },
    {
     "name": "stdout",
     "output_type": "stream",
     "text": [
      "['10691083', '10619283', '10266279', '9780700', '9526649', '9448583', '9196128', '9069112', '8970958', '8927764', '8858045', '8776439', '8677837', '8806434', '7877113', '7856817']\n"
     ]
    },
    {
     "name": "stderr",
     "output_type": "stream",
     "text": [
      " 14%|█▍        | 705/5059 [07:20<40:37,  1.79it/s]"
     ]
    },
    {
     "name": "stdout",
     "output_type": "stream",
     "text": [
      "[]\n"
     ]
    },
    {
     "name": "stderr",
     "output_type": "stream",
     "text": [
      " 14%|█▍        | 706/5059 [07:20<40:42,  1.78it/s]"
     ]
    },
    {
     "name": "stdout",
     "output_type": "stream",
     "text": [
      "['8410072']\n"
     ]
    },
    {
     "name": "stderr",
     "output_type": "stream",
     "text": [
      " 14%|█▍        | 707/5059 [07:21<41:03,  1.77it/s]"
     ]
    },
    {
     "name": "stdout",
     "output_type": "stream",
     "text": [
      "['9895392', '8921741', '8847027', '7451504']\n"
     ]
    },
    {
     "name": "stderr",
     "output_type": "stream",
     "text": [
      " 14%|█▍        | 708/5059 [07:21<40:27,  1.79it/s]"
     ]
    },
    {
     "name": "stdout",
     "output_type": "stream",
     "text": [
      "[]\n"
     ]
    },
    {
     "name": "stderr",
     "output_type": "stream",
     "text": [
      " 14%|█▍        | 709/5059 [07:22<40:21,  1.80it/s]"
     ]
    },
    {
     "name": "stdout",
     "output_type": "stream",
     "text": [
      "['10473135', '10443046', '10238450', '10002862', '10034123', '10020541', '9727409', '9511202', '8848454', '8017997']\n"
     ]
    },
    {
     "name": "stderr",
     "output_type": "stream",
     "text": [
      " 14%|█▍        | 710/5059 [07:23<40:09,  1.80it/s]"
     ]
    },
    {
     "name": "stdout",
     "output_type": "stream",
     "text": [
      "['10710473', '10762948', '10687889', '10657900', '10516353', '10202285', '10052884', '10040851', '9936160', '10187255', '10122452', '9871437', '10002703', '9757071', '9702651', '9675966', '9604493', '9549039', '9487595', '9388772']\n"
     ]
    },
    {
     "name": "stderr",
     "output_type": "stream",
     "text": [
      " 14%|█▍        | 711/5059 [07:23<40:13,  1.80it/s]"
     ]
    },
    {
     "name": "stdout",
     "output_type": "stream",
     "text": [
      "['10166720', '10191356', '9848821', '9350144', '9151746', '8463074', '8355180', '8282443', '8088080', '8139422', '7962432', '7913991', '7302206', '7862719', '7723043', '7799271']\n"
     ]
    },
    {
     "name": "stderr",
     "output_type": "stream",
     "text": [
      " 14%|█▍        | 712/5059 [07:24<41:39,  1.74it/s]"
     ]
    },
    {
     "name": "stdout",
     "output_type": "stream",
     "text": [
      "['7894673']\n"
     ]
    },
    {
     "name": "stderr",
     "output_type": "stream",
     "text": [
      " 14%|█▍        | 713/5059 [07:24<41:06,  1.76it/s]"
     ]
    },
    {
     "name": "stdout",
     "output_type": "stream",
     "text": [
      "[]\n"
     ]
    },
    {
     "name": "stderr",
     "output_type": "stream",
     "text": [
      " 14%|█▍        | 714/5059 [07:25<40:56,  1.77it/s]"
     ]
    },
    {
     "name": "stdout",
     "output_type": "stream",
     "text": [
      "['9214347']\n"
     ]
    },
    {
     "name": "stderr",
     "output_type": "stream",
     "text": [
      " 14%|█▍        | 715/5059 [07:25<40:52,  1.77it/s]"
     ]
    },
    {
     "name": "stdout",
     "output_type": "stream",
     "text": [
      "['10122307']\n"
     ]
    },
    {
     "name": "stderr",
     "output_type": "stream",
     "text": [
      " 14%|█▍        | 716/5059 [07:26<40:34,  1.78it/s]"
     ]
    },
    {
     "name": "stdout",
     "output_type": "stream",
     "text": [
      "['7669663']\n"
     ]
    },
    {
     "name": "stderr",
     "output_type": "stream",
     "text": [
      " 14%|█▍        | 717/5059 [07:27<41:02,  1.76it/s]"
     ]
    },
    {
     "name": "stdout",
     "output_type": "stream",
     "text": [
      "['10564713', '10497583', '10473404', '10619438', '9445490', '9373312', '9403935', '9174585', '8553817']\n"
     ]
    },
    {
     "name": "stderr",
     "output_type": "stream",
     "text": [
      " 14%|█▍        | 718/5059 [07:27<43:33,  1.66it/s]"
     ]
    },
    {
     "name": "stdout",
     "output_type": "stream",
     "text": [
      "[]\n"
     ]
    },
    {
     "name": "stderr",
     "output_type": "stream",
     "text": [
      " 14%|█▍        | 719/5059 [07:28<45:27,  1.59it/s]"
     ]
    },
    {
     "name": "stdout",
     "output_type": "stream",
     "text": [
      "[]\n"
     ]
    },
    {
     "name": "stderr",
     "output_type": "stream",
     "text": [
      " 14%|█▍        | 720/5059 [07:28<43:31,  1.66it/s]"
     ]
    },
    {
     "name": "stdout",
     "output_type": "stream",
     "text": [
      "['8806720', '8004521']\n"
     ]
    },
    {
     "name": "stderr",
     "output_type": "stream",
     "text": [
      " 14%|█▍        | 721/5059 [07:30<54:06,  1.34it/s]"
     ]
    },
    {
     "name": "stdout",
     "output_type": "stream",
     "text": [
      "['7463559']\n"
     ]
    },
    {
     "name": "stderr",
     "output_type": "stream",
     "text": [
      " 14%|█▍        | 722/5059 [07:30<50:49,  1.42it/s]"
     ]
    },
    {
     "name": "stdout",
     "output_type": "stream",
     "text": [
      "['10120620', '10108902', '9135381']\n"
     ]
    },
    {
     "name": "stderr",
     "output_type": "stream",
     "text": [
      " 14%|█▍        | 723/5059 [07:31<47:53,  1.51it/s]"
     ]
    },
    {
     "name": "stdout",
     "output_type": "stream",
     "text": [
      "['10237016', '10203164', '10090698', '10008498', '9851797', '9615471', '9579424', '9527585', '9133665', '8898796', '7852457']\n"
     ]
    },
    {
     "name": "stderr",
     "output_type": "stream",
     "text": [
      " 14%|█▍        | 724/5059 [07:31<46:00,  1.57it/s]"
     ]
    },
    {
     "name": "stdout",
     "output_type": "stream",
     "text": [
      "['10713961', '10761719', '10643587', '10607277', '10566095', '10497871', '10477903', '10457312', '10687892', '10670301', '10638842', '10240663', '10565789', '10547973', '10501593', '10416901', '10378662', '10233108', '10232363', '10026208']\n"
     ]
    },
    {
     "name": "stderr",
     "output_type": "stream",
     "text": [
      " 14%|█▍        | 725/5059 [07:32<50:19,  1.44it/s]"
     ]
    },
    {
     "name": "stdout",
     "output_type": "stream",
     "text": [
      "['7934845']\n"
     ]
    },
    {
     "name": "stderr",
     "output_type": "stream",
     "text": [
      " 14%|█▍        | 726/5059 [07:33<59:59,  1.20it/s]"
     ]
    },
    {
     "name": "stdout",
     "output_type": "stream",
     "text": [
      "['10699200', '10366449', '9917435', '8074517']\n"
     ]
    },
    {
     "name": "stderr",
     "output_type": "stream",
     "text": [
      " 14%|█▍        | 727/5059 [07:34<53:47,  1.34it/s]"
     ]
    },
    {
     "name": "stdout",
     "output_type": "stream",
     "text": [
      "['10088114', '8026558']\n"
     ]
    },
    {
     "name": "stderr",
     "output_type": "stream",
     "text": [
      " 14%|█▍        | 728/5059 [07:34<50:13,  1.44it/s]"
     ]
    },
    {
     "name": "stdout",
     "output_type": "stream",
     "text": [
      "['10641680', '10517464', '10474872', '9484959', '9209702', '7303170']\n"
     ]
    },
    {
     "name": "stderr",
     "output_type": "stream",
     "text": [
      " 14%|█▍        | 729/5059 [07:35<47:28,  1.52it/s]"
     ]
    },
    {
     "name": "stdout",
     "output_type": "stream",
     "text": [
      "['7329456']\n"
     ]
    },
    {
     "name": "stderr",
     "output_type": "stream",
     "text": [
      " 14%|█▍        | 730/5059 [07:36<44:56,  1.61it/s]"
     ]
    },
    {
     "name": "stdout",
     "output_type": "stream",
     "text": [
      "[]\n"
     ]
    },
    {
     "name": "stderr",
     "output_type": "stream",
     "text": [
      " 14%|█▍        | 731/5059 [07:36<43:04,  1.67it/s]"
     ]
    },
    {
     "name": "stdout",
     "output_type": "stream",
     "text": [
      "['7900441']\n"
     ]
    },
    {
     "name": "stderr",
     "output_type": "stream",
     "text": [
      " 14%|█▍        | 732/5059 [07:37<42:03,  1.71it/s]"
     ]
    },
    {
     "name": "stdout",
     "output_type": "stream",
     "text": [
      "[]\n"
     ]
    },
    {
     "name": "stderr",
     "output_type": "stream",
     "text": [
      " 14%|█▍        | 733/5059 [07:37<41:02,  1.76it/s]"
     ]
    },
    {
     "name": "stdout",
     "output_type": "stream",
     "text": [
      "['8106871']\n"
     ]
    },
    {
     "name": "stderr",
     "output_type": "stream",
     "text": [
      " 15%|█▍        | 734/5059 [07:38<41:38,  1.73it/s]"
     ]
    },
    {
     "name": "stdout",
     "output_type": "stream",
     "text": [
      "['8529992', '7597596']\n"
     ]
    },
    {
     "name": "stderr",
     "output_type": "stream",
     "text": [
      " 15%|█▍        | 735/5059 [07:38<41:55,  1.72it/s]"
     ]
    },
    {
     "name": "stdout",
     "output_type": "stream",
     "text": [
      "['9795030', '8960978']\n"
     ]
    },
    {
     "name": "stderr",
     "output_type": "stream",
     "text": [
      " 15%|█▍        | 736/5059 [07:39<41:14,  1.75it/s]"
     ]
    },
    {
     "name": "stdout",
     "output_type": "stream",
     "text": [
      "[]\n"
     ]
    },
    {
     "name": "stderr",
     "output_type": "stream",
     "text": [
      " 15%|█▍        | 737/5059 [07:39<40:59,  1.76it/s]"
     ]
    },
    {
     "name": "stdout",
     "output_type": "stream",
     "text": [
      "['10338542', '10133523', '9479007', '9126925', '8960819', '7550582', '8046336']\n"
     ]
    },
    {
     "name": "stderr",
     "output_type": "stream",
     "text": [
      " 15%|█▍        | 738/5059 [07:40<43:22,  1.66it/s]"
     ]
    },
    {
     "name": "stdout",
     "output_type": "stream",
     "text": [
      "['9897724', '9516614', '7781605']\n"
     ]
    },
    {
     "name": "stderr",
     "output_type": "stream",
     "text": [
      " 15%|█▍        | 739/5059 [07:41<42:17,  1.70it/s]"
     ]
    },
    {
     "name": "stdout",
     "output_type": "stream",
     "text": [
      "[]\n"
     ]
    },
    {
     "name": "stderr",
     "output_type": "stream",
     "text": [
      " 15%|█▍        | 740/5059 [07:41<41:13,  1.75it/s]"
     ]
    },
    {
     "name": "stdout",
     "output_type": "stream",
     "text": [
      "['10733940', '10504677', '10342807', '10325664', '10213342', '9984184', '9909238', '10086260', '9983144', '9536257', '9408927', '9406402', '8700271', '8641240', '9095489', '8526053', '9514594', '8461934', '8385427', '8141608']\n"
     ]
    },
    {
     "name": "stderr",
     "output_type": "stream",
     "text": [
      " 15%|█▍        | 741/5059 [07:42<40:54,  1.76it/s]"
     ]
    },
    {
     "name": "stdout",
     "output_type": "stream",
     "text": [
      "[]\n"
     ]
    },
    {
     "name": "stderr",
     "output_type": "stream",
     "text": [
      " 15%|█▍        | 742/5059 [07:42<41:06,  1.75it/s]"
     ]
    },
    {
     "name": "stdout",
     "output_type": "stream",
     "text": [
      "['9701218', '9445039']\n"
     ]
    },
    {
     "name": "stderr",
     "output_type": "stream",
     "text": [
      " 15%|█▍        | 743/5059 [07:43<40:42,  1.77it/s]"
     ]
    },
    {
     "name": "stdout",
     "output_type": "stream",
     "text": [
      "['10699200', '10739311', '10709274', '10546413', '10419634', '10628246', '10264333', '10206360', '10393044', '10378662', '10350588', '10286240', '10242253', '10208410', '10193850', '10184096', '10141791', '10107240', '10101072', '10059777']\n"
     ]
    },
    {
     "name": "stderr",
     "output_type": "stream",
     "text": [
      " 15%|█▍        | 744/5059 [07:43<40:07,  1.79it/s]"
     ]
    },
    {
     "name": "stdout",
     "output_type": "stream",
     "text": [
      "['9071401', '8008804']\n"
     ]
    },
    {
     "name": "stderr",
     "output_type": "stream",
     "text": [
      " 15%|█▍        | 745/5059 [07:44<40:31,  1.77it/s]"
     ]
    },
    {
     "name": "stdout",
     "output_type": "stream",
     "text": [
      "['7346252']\n"
     ]
    },
    {
     "name": "stderr",
     "output_type": "stream",
     "text": [
      " 15%|█▍        | 746/5059 [07:45<40:17,  1.78it/s]"
     ]
    },
    {
     "name": "stdout",
     "output_type": "stream",
     "text": [
      "['7726136']\n"
     ]
    },
    {
     "name": "stderr",
     "output_type": "stream",
     "text": [
      " 15%|█▍        | 747/5059 [07:45<39:56,  1.80it/s]"
     ]
    },
    {
     "name": "stdout",
     "output_type": "stream",
     "text": [
      "['8373331']\n"
     ]
    },
    {
     "name": "stderr",
     "output_type": "stream",
     "text": [
      " 15%|█▍        | 748/5059 [07:46<39:43,  1.81it/s]"
     ]
    },
    {
     "name": "stdout",
     "output_type": "stream",
     "text": [
      "['10579441', '10507177', '10250081', '10538367', '10290959', '10020702', '9965976', '9940370', '9584705', '9436599', '9329997', '9500228', '9285492', '8787223', '8684402', '8534001', '8490707', '8448827', '8806825', '8079766']\n"
     ]
    },
    {
     "name": "stderr",
     "output_type": "stream",
     "text": [
      " 15%|█▍        | 749/5059 [07:46<39:31,  1.82it/s]"
     ]
    },
    {
     "name": "stdout",
     "output_type": "stream",
     "text": [
      "[]\n"
     ]
    },
    {
     "name": "stderr",
     "output_type": "stream",
     "text": [
      " 15%|█▍        | 750/5059 [07:47<39:22,  1.82it/s]"
     ]
    },
    {
     "name": "stdout",
     "output_type": "stream",
     "text": [
      "[]\n"
     ]
    },
    {
     "name": "stderr",
     "output_type": "stream",
     "text": [
      " 15%|█▍        | 751/5059 [07:47<39:14,  1.83it/s]"
     ]
    },
    {
     "name": "stdout",
     "output_type": "stream",
     "text": [
      "['10710473', '10613788', '10438415', '10075172', '9844909', '9825556', '9775208', '9670818', '9608907', '9528635', '9498787', '9347150', '9350144', '9283956', '9162937', '9164514', '8909161', '8777084', '8727884', '8599136']\n"
     ]
    },
    {
     "name": "stderr",
     "output_type": "stream",
     "text": [
      " 15%|█▍        | 752/5059 [07:48<39:09,  1.83it/s]"
     ]
    },
    {
     "name": "stdout",
     "output_type": "stream",
     "text": [
      "['8078538']\n"
     ]
    },
    {
     "name": "stderr",
     "output_type": "stream",
     "text": [
      " 15%|█▍        | 753/5059 [07:48<39:33,  1.81it/s]"
     ]
    },
    {
     "name": "stdout",
     "output_type": "stream",
     "text": [
      "['9521824', '7596825']\n"
     ]
    },
    {
     "name": "stderr",
     "output_type": "stream",
     "text": [
      " 15%|█▍        | 754/5059 [07:49<39:18,  1.83it/s]"
     ]
    },
    {
     "name": "stdout",
     "output_type": "stream",
     "text": [
      "['7997884']\n"
     ]
    },
    {
     "name": "stderr",
     "output_type": "stream",
     "text": [
      " 15%|█▍        | 755/5059 [07:50<39:54,  1.80it/s]"
     ]
    },
    {
     "name": "stdout",
     "output_type": "stream",
     "text": [
      "['10734432', '10662159', '10564696', '10659545', '10645642', '10282190', '10248582', '10461559', '10113630', '10073649', '10037895', '10154557', '10138117', '10130926', '10067584', '9727047', '9756479', '9738981', '9669594', '9559585']\n"
     ]
    },
    {
     "name": "stderr",
     "output_type": "stream",
     "text": [
      " 15%|█▍        | 756/5059 [07:50<39:41,  1.81it/s]"
     ]
    },
    {
     "name": "stdout",
     "output_type": "stream",
     "text": [
      "['10687529', '10433446', '9813473', '9520876', '9316353', '9319344', '8695351', '7545162', '6637137', '6298393', '5354678', '4747223', '4599691', '4319408', '4233185']\n"
     ]
    },
    {
     "name": "stderr",
     "output_type": "stream",
     "text": [
      " 15%|█▍        | 757/5059 [07:51<39:42,  1.81it/s]"
     ]
    },
    {
     "name": "stdout",
     "output_type": "stream",
     "text": [
      "['10115804', '9679358', '7982807', '6072229', '6392650']\n"
     ]
    },
    {
     "name": "stderr",
     "output_type": "stream",
     "text": [
      " 15%|█▍        | 758/5059 [07:51<39:19,  1.82it/s]"
     ]
    },
    {
     "name": "stdout",
     "output_type": "stream",
     "text": [
      "['10057382']\n"
     ]
    },
    {
     "name": "stderr",
     "output_type": "stream",
     "text": [
      " 15%|█▌        | 759/5059 [07:52<39:05,  1.83it/s]"
     ]
    },
    {
     "name": "stdout",
     "output_type": "stream",
     "text": [
      "['9229915', '8593877']\n"
     ]
    },
    {
     "name": "stderr",
     "output_type": "stream",
     "text": [
      " 15%|█▌        | 760/5059 [07:52<39:09,  1.83it/s]"
     ]
    },
    {
     "name": "stdout",
     "output_type": "stream",
     "text": [
      "['10689793', '7408664']\n"
     ]
    },
    {
     "name": "stderr",
     "output_type": "stream",
     "text": [
      " 15%|█▌        | 761/5059 [07:53<39:13,  1.83it/s]"
     ]
    },
    {
     "name": "stdout",
     "output_type": "stream",
     "text": [
      "['10730466', '10546062', '10539366', '10683629', '10683597', '10302781', '10620915', '10320659', '10276827', '10272185', '10258416', '10178299', '10077044', '10040777', '10030080', '9931222', '9909990', '10115206', '10047096', '10042693']\n"
     ]
    },
    {
     "name": "stderr",
     "output_type": "stream",
     "text": [
      " 15%|█▌        | 762/5059 [07:53<39:14,  1.83it/s]"
     ]
    },
    {
     "name": "stdout",
     "output_type": "stream",
     "text": [
      "['10753071', '10742233', '10683629', '10302781', '10208938', '10584983', '10439720', '10182662', '9649596', '9526728', '9134939', '8649439', '7905560', '7538683', '8798865', '7437940', '7481621', '7335104', '8799091', '6976355']\n"
     ]
    },
    {
     "name": "stderr",
     "output_type": "stream",
     "text": [
      " 15%|█▌        | 763/5059 [07:54<39:20,  1.82it/s]"
     ]
    },
    {
     "name": "stdout",
     "output_type": "stream",
     "text": [
      "['10571419', '7894116']\n"
     ]
    },
    {
     "name": "stderr",
     "output_type": "stream",
     "text": [
      " 15%|█▌        | 764/5059 [07:54<39:07,  1.83it/s]"
     ]
    },
    {
     "name": "stdout",
     "output_type": "stream",
     "text": [
      "['10445149', '10294343', '9941152', '9673246', '9315639', '7397246']\n"
     ]
    },
    {
     "name": "stderr",
     "output_type": "stream",
     "text": [
      " 15%|█▌        | 765/5059 [07:55<38:52,  1.84it/s]"
     ]
    },
    {
     "name": "stdout",
     "output_type": "stream",
     "text": [
      "['9462833']\n"
     ]
    },
    {
     "name": "stderr",
     "output_type": "stream",
     "text": [
      " 15%|█▌        | 766/5059 [07:56<38:57,  1.84it/s]"
     ]
    },
    {
     "name": "stdout",
     "output_type": "stream",
     "text": [
      "['7728755']\n"
     ]
    },
    {
     "name": "stderr",
     "output_type": "stream",
     "text": [
      " 15%|█▌        | 767/5059 [07:56<39:04,  1.83it/s]"
     ]
    },
    {
     "name": "stdout",
     "output_type": "stream",
     "text": [
      "['10029057', '9730762', '8595698', '8166107']\n"
     ]
    },
    {
     "name": "stderr",
     "output_type": "stream",
     "text": [
      " 15%|█▌        | 768/5059 [07:57<39:04,  1.83it/s]"
     ]
    },
    {
     "name": "stdout",
     "output_type": "stream",
     "text": [
      "['10485936', '8448775']\n"
     ]
    },
    {
     "name": "stderr",
     "output_type": "stream",
     "text": [
      " 15%|█▌        | 769/5059 [07:57<38:58,  1.83it/s]"
     ]
    },
    {
     "name": "stdout",
     "output_type": "stream",
     "text": [
      "[]\n"
     ]
    },
    {
     "name": "stderr",
     "output_type": "stream",
     "text": [
      " 15%|█▌        | 770/5059 [07:58<38:48,  1.84it/s]"
     ]
    },
    {
     "name": "stdout",
     "output_type": "stream",
     "text": [
      "[]\n"
     ]
    },
    {
     "name": "stderr",
     "output_type": "stream",
     "text": [
      " 15%|█▌        | 771/5059 [07:58<38:53,  1.84it/s]"
     ]
    },
    {
     "name": "stdout",
     "output_type": "stream",
     "text": [
      "['10429262', '10317838', '10220272', '10125982', '10071114', '9827165', '9655972', '9021200', '8281237', '7904926', '7757089', '7927998', '7257163', '7049421', '7272220', '6717574', '6134087', '5919294', '5096815', '5096974']\n"
     ]
    },
    {
     "name": "stderr",
     "output_type": "stream",
     "text": [
      " 15%|█▌        | 772/5059 [07:59<39:13,  1.82it/s]"
     ]
    },
    {
     "name": "stdout",
     "output_type": "stream",
     "text": [
      "['10380950', '10266279', '9872045', '9271696', '9196128', '9186764', '8927764', '8940768', '8281349', '8190407', '8158415', '7970302', '7667735', '7664616']\n"
     ]
    },
    {
     "name": "stderr",
     "output_type": "stream",
     "text": [
      " 15%|█▌        | 773/5059 [07:59<39:22,  1.81it/s]"
     ]
    },
    {
     "name": "stdout",
     "output_type": "stream",
     "text": [
      "['10122307', '9110726', '8458283', '8609402']\n"
     ]
    },
    {
     "name": "stderr",
     "output_type": "stream",
     "text": [
      " 15%|█▌        | 774/5059 [08:00<39:40,  1.80it/s]"
     ]
    },
    {
     "name": "stdout",
     "output_type": "stream",
     "text": [
      "[]\n"
     ]
    },
    {
     "name": "stderr",
     "output_type": "stream",
     "text": [
      " 15%|█▌        | 775/5059 [08:00<39:22,  1.81it/s]"
     ]
    },
    {
     "name": "stdout",
     "output_type": "stream",
     "text": [
      "['9879177', '9585156', '9504288', '7426401']\n"
     ]
    },
    {
     "name": "stderr",
     "output_type": "stream",
     "text": [
      " 15%|█▌        | 776/5059 [08:01<39:05,  1.83it/s]"
     ]
    },
    {
     "name": "stdout",
     "output_type": "stream",
     "text": [
      "[]\n"
     ]
    },
    {
     "name": "stderr",
     "output_type": "stream",
     "text": [
      " 15%|█▌        | 777/5059 [08:02<39:09,  1.82it/s]"
     ]
    },
    {
     "name": "stdout",
     "output_type": "stream",
     "text": [
      "['10177989', '8721009']\n"
     ]
    },
    {
     "name": "stderr",
     "output_type": "stream",
     "text": [
      " 15%|█▌        | 778/5059 [08:02<39:19,  1.81it/s]"
     ]
    },
    {
     "name": "stdout",
     "output_type": "stream",
     "text": [
      "['8758541']\n"
     ]
    },
    {
     "name": "stderr",
     "output_type": "stream",
     "text": [
      " 15%|█▌        | 779/5059 [08:03<39:32,  1.80it/s]"
     ]
    },
    {
     "name": "stdout",
     "output_type": "stream",
     "text": [
      "['7701247']\n"
     ]
    },
    {
     "name": "stderr",
     "output_type": "stream",
     "text": [
      " 15%|█▌        | 780/5059 [08:03<41:30,  1.72it/s]"
     ]
    },
    {
     "name": "stdout",
     "output_type": "stream",
     "text": [
      "['10410242', '9908963', '9300312', '7803517']\n"
     ]
    },
    {
     "name": "stderr",
     "output_type": "stream",
     "text": [
      " 15%|█▌        | 781/5059 [08:04<40:47,  1.75it/s]"
     ]
    },
    {
     "name": "stdout",
     "output_type": "stream",
     "text": [
      "['9039082', '5974295']\n"
     ]
    },
    {
     "name": "stderr",
     "output_type": "stream",
     "text": [
      " 15%|█▌        | 782/5059 [08:04<40:10,  1.77it/s]"
     ]
    },
    {
     "name": "stdout",
     "output_type": "stream",
     "text": [
      "['9833827', '8305791', '7035007', '6209416']\n"
     ]
    },
    {
     "name": "stderr",
     "output_type": "stream",
     "text": [
      " 15%|█▌        | 783/5059 [08:05<39:58,  1.78it/s]"
     ]
    },
    {
     "name": "stdout",
     "output_type": "stream",
     "text": [
      "['6069762']\n"
     ]
    },
    {
     "name": "stderr",
     "output_type": "stream",
     "text": [
      " 15%|█▌        | 784/5059 [08:06<39:43,  1.79it/s]"
     ]
    },
    {
     "name": "stdout",
     "output_type": "stream",
     "text": [
      "['6255958']\n"
     ]
    },
    {
     "name": "stderr",
     "output_type": "stream",
     "text": [
      " 16%|█▌        | 785/5059 [08:06<40:16,  1.77it/s]"
     ]
    },
    {
     "name": "stdout",
     "output_type": "stream",
     "text": [
      "[]\n"
     ]
    },
    {
     "name": "stderr",
     "output_type": "stream",
     "text": [
      " 16%|█▌        | 786/5059 [08:07<40:11,  1.77it/s]"
     ]
    },
    {
     "name": "stdout",
     "output_type": "stream",
     "text": [
      "['8395156', '7734124', '7422941']\n"
     ]
    },
    {
     "name": "stderr",
     "output_type": "stream",
     "text": [
      " 16%|█▌        | 787/5059 [08:07<39:41,  1.79it/s]"
     ]
    },
    {
     "name": "stdout",
     "output_type": "stream",
     "text": [
      "[]\n"
     ]
    },
    {
     "name": "stderr",
     "output_type": "stream",
     "text": [
      " 16%|█▌        | 788/5059 [08:08<39:32,  1.80it/s]"
     ]
    },
    {
     "name": "stdout",
     "output_type": "stream",
     "text": [
      "['7380199']\n"
     ]
    },
    {
     "name": "stderr",
     "output_type": "stream",
     "text": [
      " 16%|█▌        | 789/5059 [08:08<40:24,  1.76it/s]"
     ]
    },
    {
     "name": "stdout",
     "output_type": "stream",
     "text": [
      "['7380199']\n"
     ]
    },
    {
     "name": "stderr",
     "output_type": "stream",
     "text": [
      " 16%|█▌        | 790/5059 [08:09<40:34,  1.75it/s]"
     ]
    },
    {
     "name": "stdout",
     "output_type": "stream",
     "text": [
      "['9827308', '9537011', '8753837', '7802793', '6467003', '6355981']\n"
     ]
    },
    {
     "name": "stderr",
     "output_type": "stream",
     "text": [
      " 16%|█▌        | 791/5059 [08:10<40:33,  1.75it/s]"
     ]
    },
    {
     "name": "stdout",
     "output_type": "stream",
     "text": [
      "['6911278', '6057315']\n"
     ]
    },
    {
     "name": "stderr",
     "output_type": "stream",
     "text": [
      " 16%|█▌        | 792/5059 [08:10<40:01,  1.78it/s]"
     ]
    },
    {
     "name": "stdout",
     "output_type": "stream",
     "text": [
      "[]\n"
     ]
    },
    {
     "name": "stderr",
     "output_type": "stream",
     "text": [
      " 16%|█▌        | 793/5059 [08:11<40:01,  1.78it/s]"
     ]
    },
    {
     "name": "stdout",
     "output_type": "stream",
     "text": [
      "['9797950', '8331204']\n"
     ]
    },
    {
     "name": "stderr",
     "output_type": "stream",
     "text": [
      " 16%|█▌        | 794/5059 [08:11<39:38,  1.79it/s]"
     ]
    },
    {
     "name": "stdout",
     "output_type": "stream",
     "text": [
      "[]\n"
     ]
    },
    {
     "name": "stderr",
     "output_type": "stream",
     "text": [
      " 16%|█▌        | 795/5059 [08:12<39:29,  1.80it/s]"
     ]
    },
    {
     "name": "stdout",
     "output_type": "stream",
     "text": [
      "['9468882', '8210373', '7810847', '7469443', '6250808']\n"
     ]
    },
    {
     "name": "stderr",
     "output_type": "stream",
     "text": [
      " 16%|█▌        | 796/5059 [08:12<39:18,  1.81it/s]"
     ]
    },
    {
     "name": "stdout",
     "output_type": "stream",
     "text": [
      "['10770899', '10517861', '10207797', '9439868', '9258136', '9045021', '8264658', '7819816', '7666708', '6197751']\n"
     ]
    },
    {
     "name": "stderr",
     "output_type": "stream",
     "text": [
      " 16%|█▌        | 797/5059 [08:13<39:03,  1.82it/s]"
     ]
    },
    {
     "name": "stdout",
     "output_type": "stream",
     "text": [
      "['10770157', '9563388', '9508518', '7899990', '7059180']\n"
     ]
    },
    {
     "name": "stderr",
     "output_type": "stream",
     "text": [
      " 16%|█▌        | 798/5059 [08:13<39:56,  1.78it/s]"
     ]
    },
    {
     "name": "stdout",
     "output_type": "stream",
     "text": [
      "['10292966', '10420078', '10164554', '8796578', '8712873', '8155540', '8072961', '8111329', '7502669', '6598374']\n"
     ]
    },
    {
     "name": "stderr",
     "output_type": "stream",
     "text": [
      " 16%|█▌        | 799/5059 [08:14<39:45,  1.79it/s]"
     ]
    },
    {
     "name": "stdout",
     "output_type": "stream",
     "text": [
      "['6988849']\n"
     ]
    },
    {
     "name": "stderr",
     "output_type": "stream",
     "text": [
      " 16%|█▌        | 800/5059 [08:15<39:43,  1.79it/s]"
     ]
    },
    {
     "name": "stdout",
     "output_type": "stream",
     "text": [
      "['10556489', '9714191', '9585216', '9530920', '8863469', '8922093', '8810074', '8439286', '7694566', '6788726']\n"
     ]
    },
    {
     "name": "stderr",
     "output_type": "stream",
     "text": [
      " 16%|█▌        | 801/5059 [08:15<43:54,  1.62it/s]"
     ]
    },
    {
     "name": "stdout",
     "output_type": "stream",
     "text": [
      "[]\n"
     ]
    },
    {
     "name": "stderr",
     "output_type": "stream",
     "text": [
      "\n"
     ]
    },
    {
     "ename": "KeyboardInterrupt",
     "evalue": "",
     "output_type": "error",
     "traceback": [
      "\u001b[0;31m---------------------------------------------------------------------------\u001b[0m",
      "\u001b[0;31mKeyboardInterrupt\u001b[0m                         Traceback (most recent call last)",
      "Cell \u001b[0;32mIn[42], line 2\u001b[0m\n\u001b[1;32m      1\u001b[0m \u001b[38;5;28;01mfor\u001b[39;00m dataset_id \u001b[38;5;129;01min\u001b[39;00m tqdm(dataset_ids):\n\u001b[0;32m----> 2\u001b[0m     handle \u001b[38;5;241m=\u001b[39m \u001b[43mEntrez\u001b[49m\u001b[38;5;241;43m.\u001b[39;49m\u001b[43mesearch\u001b[49m\u001b[43m(\u001b[49m\u001b[43mdb\u001b[49m\u001b[38;5;241;43m=\u001b[39;49m\u001b[38;5;124;43m\"\u001b[39;49m\u001b[38;5;124;43mpmc\u001b[39;49m\u001b[38;5;124;43m\"\u001b[39;49m\u001b[43m,\u001b[49m\u001b[43m \u001b[49m\u001b[43mterm\u001b[49m\u001b[38;5;241;43m=\u001b[39;49m\u001b[43mdataset_id\u001b[49m\u001b[43m)\u001b[49m\n\u001b[1;32m      3\u001b[0m     \u001b[38;5;28mprint\u001b[39m(Entrez\u001b[38;5;241m.\u001b[39mread(handle)[\u001b[38;5;124m\"\u001b[39m\u001b[38;5;124mIdList\u001b[39m\u001b[38;5;124m\"\u001b[39m])\n",
      "File \u001b[0;32m~/miniconda3/envs/disease_sig/lib/python3.10/site-packages/Bio/Entrez/__init__.py:242\u001b[0m, in \u001b[0;36mesearch\u001b[0;34m(db, term, **keywds)\u001b[0m\n\u001b[1;32m    240\u001b[0m variables \u001b[38;5;241m=\u001b[39m {\u001b[38;5;124m\"\u001b[39m\u001b[38;5;124mdb\u001b[39m\u001b[38;5;124m\"\u001b[39m: db, \u001b[38;5;124m\"\u001b[39m\u001b[38;5;124mterm\u001b[39m\u001b[38;5;124m\"\u001b[39m: term}\n\u001b[1;32m    241\u001b[0m variables\u001b[38;5;241m.\u001b[39mupdate(keywds)\n\u001b[0;32m--> 242\u001b[0m \u001b[38;5;28;01mreturn\u001b[39;00m \u001b[43m_open\u001b[49m\u001b[43m(\u001b[49m\u001b[43mcgi\u001b[49m\u001b[43m,\u001b[49m\u001b[43m \u001b[49m\u001b[43mvariables\u001b[49m\u001b[43m)\u001b[49m\n",
      "File \u001b[0;32m~/miniconda3/envs/disease_sig/lib/python3.10/site-packages/Bio/Entrez/__init__.py:606\u001b[0m, in \u001b[0;36m_open\u001b[0;34m(cgi, params, post, ecitmatch)\u001b[0m\n\u001b[1;32m    604\u001b[0m         handle \u001b[38;5;241m=\u001b[39m urlopen(cgi, data\u001b[38;5;241m=\u001b[39moptions\u001b[38;5;241m.\u001b[39mencode(\u001b[38;5;124m\"\u001b[39m\u001b[38;5;124mutf8\u001b[39m\u001b[38;5;124m\"\u001b[39m))\n\u001b[1;32m    605\u001b[0m     \u001b[38;5;28;01melse\u001b[39;00m:\n\u001b[0;32m--> 606\u001b[0m         handle \u001b[38;5;241m=\u001b[39m \u001b[43murlopen\u001b[49m\u001b[43m(\u001b[49m\u001b[43mcgi\u001b[49m\u001b[43m)\u001b[49m\n\u001b[1;32m    607\u001b[0m \u001b[38;5;28;01mexcept\u001b[39;00m HTTPError \u001b[38;5;28;01mas\u001b[39;00m exception:\n\u001b[1;32m    608\u001b[0m     \u001b[38;5;66;03m# Reraise if the final try fails\u001b[39;00m\n\u001b[1;32m    609\u001b[0m     \u001b[38;5;28;01mif\u001b[39;00m i \u001b[38;5;241m>\u001b[39m\u001b[38;5;241m=\u001b[39m max_tries \u001b[38;5;241m-\u001b[39m \u001b[38;5;241m1\u001b[39m:\n",
      "File \u001b[0;32m~/miniconda3/envs/disease_sig/lib/python3.10/urllib/request.py:216\u001b[0m, in \u001b[0;36murlopen\u001b[0;34m(url, data, timeout, cafile, capath, cadefault, context)\u001b[0m\n\u001b[1;32m    214\u001b[0m \u001b[38;5;28;01melse\u001b[39;00m:\n\u001b[1;32m    215\u001b[0m     opener \u001b[38;5;241m=\u001b[39m _opener\n\u001b[0;32m--> 216\u001b[0m \u001b[38;5;28;01mreturn\u001b[39;00m \u001b[43mopener\u001b[49m\u001b[38;5;241;43m.\u001b[39;49m\u001b[43mopen\u001b[49m\u001b[43m(\u001b[49m\u001b[43murl\u001b[49m\u001b[43m,\u001b[49m\u001b[43m \u001b[49m\u001b[43mdata\u001b[49m\u001b[43m,\u001b[49m\u001b[43m \u001b[49m\u001b[43mtimeout\u001b[49m\u001b[43m)\u001b[49m\n",
      "File \u001b[0;32m~/miniconda3/envs/disease_sig/lib/python3.10/urllib/request.py:519\u001b[0m, in \u001b[0;36mOpenerDirector.open\u001b[0;34m(self, fullurl, data, timeout)\u001b[0m\n\u001b[1;32m    516\u001b[0m     req \u001b[38;5;241m=\u001b[39m meth(req)\n\u001b[1;32m    518\u001b[0m sys\u001b[38;5;241m.\u001b[39maudit(\u001b[38;5;124m'\u001b[39m\u001b[38;5;124murllib.Request\u001b[39m\u001b[38;5;124m'\u001b[39m, req\u001b[38;5;241m.\u001b[39mfull_url, req\u001b[38;5;241m.\u001b[39mdata, req\u001b[38;5;241m.\u001b[39mheaders, req\u001b[38;5;241m.\u001b[39mget_method())\n\u001b[0;32m--> 519\u001b[0m response \u001b[38;5;241m=\u001b[39m \u001b[38;5;28;43mself\u001b[39;49m\u001b[38;5;241;43m.\u001b[39;49m\u001b[43m_open\u001b[49m\u001b[43m(\u001b[49m\u001b[43mreq\u001b[49m\u001b[43m,\u001b[49m\u001b[43m \u001b[49m\u001b[43mdata\u001b[49m\u001b[43m)\u001b[49m\n\u001b[1;32m    521\u001b[0m \u001b[38;5;66;03m# post-process response\u001b[39;00m\n\u001b[1;32m    522\u001b[0m meth_name \u001b[38;5;241m=\u001b[39m protocol\u001b[38;5;241m+\u001b[39m\u001b[38;5;124m\"\u001b[39m\u001b[38;5;124m_response\u001b[39m\u001b[38;5;124m\"\u001b[39m\n",
      "File \u001b[0;32m~/miniconda3/envs/disease_sig/lib/python3.10/urllib/request.py:536\u001b[0m, in \u001b[0;36mOpenerDirector._open\u001b[0;34m(self, req, data)\u001b[0m\n\u001b[1;32m    533\u001b[0m     \u001b[38;5;28;01mreturn\u001b[39;00m result\n\u001b[1;32m    535\u001b[0m protocol \u001b[38;5;241m=\u001b[39m req\u001b[38;5;241m.\u001b[39mtype\n\u001b[0;32m--> 536\u001b[0m result \u001b[38;5;241m=\u001b[39m \u001b[38;5;28;43mself\u001b[39;49m\u001b[38;5;241;43m.\u001b[39;49m\u001b[43m_call_chain\u001b[49m\u001b[43m(\u001b[49m\u001b[38;5;28;43mself\u001b[39;49m\u001b[38;5;241;43m.\u001b[39;49m\u001b[43mhandle_open\u001b[49m\u001b[43m,\u001b[49m\u001b[43m \u001b[49m\u001b[43mprotocol\u001b[49m\u001b[43m,\u001b[49m\u001b[43m \u001b[49m\u001b[43mprotocol\u001b[49m\u001b[43m \u001b[49m\u001b[38;5;241;43m+\u001b[39;49m\n\u001b[1;32m    537\u001b[0m \u001b[43m                          \u001b[49m\u001b[38;5;124;43m'\u001b[39;49m\u001b[38;5;124;43m_open\u001b[39;49m\u001b[38;5;124;43m'\u001b[39;49m\u001b[43m,\u001b[49m\u001b[43m \u001b[49m\u001b[43mreq\u001b[49m\u001b[43m)\u001b[49m\n\u001b[1;32m    538\u001b[0m \u001b[38;5;28;01mif\u001b[39;00m result:\n\u001b[1;32m    539\u001b[0m     \u001b[38;5;28;01mreturn\u001b[39;00m result\n",
      "File \u001b[0;32m~/miniconda3/envs/disease_sig/lib/python3.10/urllib/request.py:496\u001b[0m, in \u001b[0;36mOpenerDirector._call_chain\u001b[0;34m(self, chain, kind, meth_name, *args)\u001b[0m\n\u001b[1;32m    494\u001b[0m \u001b[38;5;28;01mfor\u001b[39;00m handler \u001b[38;5;129;01min\u001b[39;00m handlers:\n\u001b[1;32m    495\u001b[0m     func \u001b[38;5;241m=\u001b[39m \u001b[38;5;28mgetattr\u001b[39m(handler, meth_name)\n\u001b[0;32m--> 496\u001b[0m     result \u001b[38;5;241m=\u001b[39m \u001b[43mfunc\u001b[49m\u001b[43m(\u001b[49m\u001b[38;5;241;43m*\u001b[39;49m\u001b[43margs\u001b[49m\u001b[43m)\u001b[49m\n\u001b[1;32m    497\u001b[0m     \u001b[38;5;28;01mif\u001b[39;00m result \u001b[38;5;129;01mis\u001b[39;00m \u001b[38;5;129;01mnot\u001b[39;00m \u001b[38;5;28;01mNone\u001b[39;00m:\n\u001b[1;32m    498\u001b[0m         \u001b[38;5;28;01mreturn\u001b[39;00m result\n",
      "File \u001b[0;32m~/miniconda3/envs/disease_sig/lib/python3.10/urllib/request.py:1391\u001b[0m, in \u001b[0;36mHTTPSHandler.https_open\u001b[0;34m(self, req)\u001b[0m\n\u001b[1;32m   1390\u001b[0m \u001b[38;5;28;01mdef\u001b[39;00m \u001b[38;5;21mhttps_open\u001b[39m(\u001b[38;5;28mself\u001b[39m, req):\n\u001b[0;32m-> 1391\u001b[0m     \u001b[38;5;28;01mreturn\u001b[39;00m \u001b[38;5;28;43mself\u001b[39;49m\u001b[38;5;241;43m.\u001b[39;49m\u001b[43mdo_open\u001b[49m\u001b[43m(\u001b[49m\u001b[43mhttp\u001b[49m\u001b[38;5;241;43m.\u001b[39;49m\u001b[43mclient\u001b[49m\u001b[38;5;241;43m.\u001b[39;49m\u001b[43mHTTPSConnection\u001b[49m\u001b[43m,\u001b[49m\u001b[43m \u001b[49m\u001b[43mreq\u001b[49m\u001b[43m,\u001b[49m\n\u001b[1;32m   1392\u001b[0m \u001b[43m        \u001b[49m\u001b[43mcontext\u001b[49m\u001b[38;5;241;43m=\u001b[39;49m\u001b[38;5;28;43mself\u001b[39;49m\u001b[38;5;241;43m.\u001b[39;49m\u001b[43m_context\u001b[49m\u001b[43m,\u001b[49m\u001b[43m \u001b[49m\u001b[43mcheck_hostname\u001b[49m\u001b[38;5;241;43m=\u001b[39;49m\u001b[38;5;28;43mself\u001b[39;49m\u001b[38;5;241;43m.\u001b[39;49m\u001b[43m_check_hostname\u001b[49m\u001b[43m)\u001b[49m\n",
      "File \u001b[0;32m~/miniconda3/envs/disease_sig/lib/python3.10/urllib/request.py:1348\u001b[0m, in \u001b[0;36mAbstractHTTPHandler.do_open\u001b[0;34m(self, http_class, req, **http_conn_args)\u001b[0m\n\u001b[1;32m   1346\u001b[0m \u001b[38;5;28;01mtry\u001b[39;00m:\n\u001b[1;32m   1347\u001b[0m     \u001b[38;5;28;01mtry\u001b[39;00m:\n\u001b[0;32m-> 1348\u001b[0m         \u001b[43mh\u001b[49m\u001b[38;5;241;43m.\u001b[39;49m\u001b[43mrequest\u001b[49m\u001b[43m(\u001b[49m\u001b[43mreq\u001b[49m\u001b[38;5;241;43m.\u001b[39;49m\u001b[43mget_method\u001b[49m\u001b[43m(\u001b[49m\u001b[43m)\u001b[49m\u001b[43m,\u001b[49m\u001b[43m \u001b[49m\u001b[43mreq\u001b[49m\u001b[38;5;241;43m.\u001b[39;49m\u001b[43mselector\u001b[49m\u001b[43m,\u001b[49m\u001b[43m \u001b[49m\u001b[43mreq\u001b[49m\u001b[38;5;241;43m.\u001b[39;49m\u001b[43mdata\u001b[49m\u001b[43m,\u001b[49m\u001b[43m \u001b[49m\u001b[43mheaders\u001b[49m\u001b[43m,\u001b[49m\n\u001b[1;32m   1349\u001b[0m \u001b[43m                  \u001b[49m\u001b[43mencode_chunked\u001b[49m\u001b[38;5;241;43m=\u001b[39;49m\u001b[43mreq\u001b[49m\u001b[38;5;241;43m.\u001b[39;49m\u001b[43mhas_header\u001b[49m\u001b[43m(\u001b[49m\u001b[38;5;124;43m'\u001b[39;49m\u001b[38;5;124;43mTransfer-encoding\u001b[39;49m\u001b[38;5;124;43m'\u001b[39;49m\u001b[43m)\u001b[49m\u001b[43m)\u001b[49m\n\u001b[1;32m   1350\u001b[0m     \u001b[38;5;28;01mexcept\u001b[39;00m \u001b[38;5;167;01mOSError\u001b[39;00m \u001b[38;5;28;01mas\u001b[39;00m err: \u001b[38;5;66;03m# timeout error\u001b[39;00m\n\u001b[1;32m   1351\u001b[0m         \u001b[38;5;28;01mraise\u001b[39;00m URLError(err)\n",
      "File \u001b[0;32m~/miniconda3/envs/disease_sig/lib/python3.10/http/client.py:1283\u001b[0m, in \u001b[0;36mHTTPConnection.request\u001b[0;34m(self, method, url, body, headers, encode_chunked)\u001b[0m\n\u001b[1;32m   1280\u001b[0m \u001b[38;5;28;01mdef\u001b[39;00m \u001b[38;5;21mrequest\u001b[39m(\u001b[38;5;28mself\u001b[39m, method, url, body\u001b[38;5;241m=\u001b[39m\u001b[38;5;28;01mNone\u001b[39;00m, headers\u001b[38;5;241m=\u001b[39m{}, \u001b[38;5;241m*\u001b[39m,\n\u001b[1;32m   1281\u001b[0m             encode_chunked\u001b[38;5;241m=\u001b[39m\u001b[38;5;28;01mFalse\u001b[39;00m):\n\u001b[1;32m   1282\u001b[0m \u001b[38;5;250m    \u001b[39m\u001b[38;5;124;03m\"\"\"Send a complete request to the server.\"\"\"\u001b[39;00m\n\u001b[0;32m-> 1283\u001b[0m     \u001b[38;5;28;43mself\u001b[39;49m\u001b[38;5;241;43m.\u001b[39;49m\u001b[43m_send_request\u001b[49m\u001b[43m(\u001b[49m\u001b[43mmethod\u001b[49m\u001b[43m,\u001b[49m\u001b[43m \u001b[49m\u001b[43murl\u001b[49m\u001b[43m,\u001b[49m\u001b[43m \u001b[49m\u001b[43mbody\u001b[49m\u001b[43m,\u001b[49m\u001b[43m \u001b[49m\u001b[43mheaders\u001b[49m\u001b[43m,\u001b[49m\u001b[43m \u001b[49m\u001b[43mencode_chunked\u001b[49m\u001b[43m)\u001b[49m\n",
      "File \u001b[0;32m~/miniconda3/envs/disease_sig/lib/python3.10/http/client.py:1329\u001b[0m, in \u001b[0;36mHTTPConnection._send_request\u001b[0;34m(self, method, url, body, headers, encode_chunked)\u001b[0m\n\u001b[1;32m   1325\u001b[0m \u001b[38;5;28;01mif\u001b[39;00m \u001b[38;5;28misinstance\u001b[39m(body, \u001b[38;5;28mstr\u001b[39m):\n\u001b[1;32m   1326\u001b[0m     \u001b[38;5;66;03m# RFC 2616 Section 3.7.1 says that text default has a\u001b[39;00m\n\u001b[1;32m   1327\u001b[0m     \u001b[38;5;66;03m# default charset of iso-8859-1.\u001b[39;00m\n\u001b[1;32m   1328\u001b[0m     body \u001b[38;5;241m=\u001b[39m _encode(body, \u001b[38;5;124m'\u001b[39m\u001b[38;5;124mbody\u001b[39m\u001b[38;5;124m'\u001b[39m)\n\u001b[0;32m-> 1329\u001b[0m \u001b[38;5;28;43mself\u001b[39;49m\u001b[38;5;241;43m.\u001b[39;49m\u001b[43mendheaders\u001b[49m\u001b[43m(\u001b[49m\u001b[43mbody\u001b[49m\u001b[43m,\u001b[49m\u001b[43m \u001b[49m\u001b[43mencode_chunked\u001b[49m\u001b[38;5;241;43m=\u001b[39;49m\u001b[43mencode_chunked\u001b[49m\u001b[43m)\u001b[49m\n",
      "File \u001b[0;32m~/miniconda3/envs/disease_sig/lib/python3.10/http/client.py:1278\u001b[0m, in \u001b[0;36mHTTPConnection.endheaders\u001b[0;34m(self, message_body, encode_chunked)\u001b[0m\n\u001b[1;32m   1276\u001b[0m \u001b[38;5;28;01melse\u001b[39;00m:\n\u001b[1;32m   1277\u001b[0m     \u001b[38;5;28;01mraise\u001b[39;00m CannotSendHeader()\n\u001b[0;32m-> 1278\u001b[0m \u001b[38;5;28;43mself\u001b[39;49m\u001b[38;5;241;43m.\u001b[39;49m\u001b[43m_send_output\u001b[49m\u001b[43m(\u001b[49m\u001b[43mmessage_body\u001b[49m\u001b[43m,\u001b[49m\u001b[43m \u001b[49m\u001b[43mencode_chunked\u001b[49m\u001b[38;5;241;43m=\u001b[39;49m\u001b[43mencode_chunked\u001b[49m\u001b[43m)\u001b[49m\n",
      "File \u001b[0;32m~/miniconda3/envs/disease_sig/lib/python3.10/http/client.py:1038\u001b[0m, in \u001b[0;36mHTTPConnection._send_output\u001b[0;34m(self, message_body, encode_chunked)\u001b[0m\n\u001b[1;32m   1036\u001b[0m msg \u001b[38;5;241m=\u001b[39m \u001b[38;5;124mb\u001b[39m\u001b[38;5;124m\"\u001b[39m\u001b[38;5;130;01m\\r\u001b[39;00m\u001b[38;5;130;01m\\n\u001b[39;00m\u001b[38;5;124m\"\u001b[39m\u001b[38;5;241m.\u001b[39mjoin(\u001b[38;5;28mself\u001b[39m\u001b[38;5;241m.\u001b[39m_buffer)\n\u001b[1;32m   1037\u001b[0m \u001b[38;5;28;01mdel\u001b[39;00m \u001b[38;5;28mself\u001b[39m\u001b[38;5;241m.\u001b[39m_buffer[:]\n\u001b[0;32m-> 1038\u001b[0m \u001b[38;5;28;43mself\u001b[39;49m\u001b[38;5;241;43m.\u001b[39;49m\u001b[43msend\u001b[49m\u001b[43m(\u001b[49m\u001b[43mmsg\u001b[49m\u001b[43m)\u001b[49m\n\u001b[1;32m   1040\u001b[0m \u001b[38;5;28;01mif\u001b[39;00m message_body \u001b[38;5;129;01mis\u001b[39;00m \u001b[38;5;129;01mnot\u001b[39;00m \u001b[38;5;28;01mNone\u001b[39;00m:\n\u001b[1;32m   1041\u001b[0m \n\u001b[1;32m   1042\u001b[0m     \u001b[38;5;66;03m# create a consistent interface to message_body\u001b[39;00m\n\u001b[1;32m   1043\u001b[0m     \u001b[38;5;28;01mif\u001b[39;00m \u001b[38;5;28mhasattr\u001b[39m(message_body, \u001b[38;5;124m'\u001b[39m\u001b[38;5;124mread\u001b[39m\u001b[38;5;124m'\u001b[39m):\n\u001b[1;32m   1044\u001b[0m         \u001b[38;5;66;03m# Let file-like take precedence over byte-like.  This\u001b[39;00m\n\u001b[1;32m   1045\u001b[0m         \u001b[38;5;66;03m# is needed to allow the current position of mmap'ed\u001b[39;00m\n\u001b[1;32m   1046\u001b[0m         \u001b[38;5;66;03m# files to be taken into account.\u001b[39;00m\n",
      "File \u001b[0;32m~/miniconda3/envs/disease_sig/lib/python3.10/http/client.py:976\u001b[0m, in \u001b[0;36mHTTPConnection.send\u001b[0;34m(self, data)\u001b[0m\n\u001b[1;32m    974\u001b[0m \u001b[38;5;28;01mif\u001b[39;00m \u001b[38;5;28mself\u001b[39m\u001b[38;5;241m.\u001b[39msock \u001b[38;5;129;01mis\u001b[39;00m \u001b[38;5;28;01mNone\u001b[39;00m:\n\u001b[1;32m    975\u001b[0m     \u001b[38;5;28;01mif\u001b[39;00m \u001b[38;5;28mself\u001b[39m\u001b[38;5;241m.\u001b[39mauto_open:\n\u001b[0;32m--> 976\u001b[0m         \u001b[38;5;28;43mself\u001b[39;49m\u001b[38;5;241;43m.\u001b[39;49m\u001b[43mconnect\u001b[49m\u001b[43m(\u001b[49m\u001b[43m)\u001b[49m\n\u001b[1;32m    977\u001b[0m     \u001b[38;5;28;01melse\u001b[39;00m:\n\u001b[1;32m    978\u001b[0m         \u001b[38;5;28;01mraise\u001b[39;00m NotConnected()\n",
      "File \u001b[0;32m~/miniconda3/envs/disease_sig/lib/python3.10/http/client.py:1448\u001b[0m, in \u001b[0;36mHTTPSConnection.connect\u001b[0;34m(self)\u001b[0m\n\u001b[1;32m   1445\u001b[0m \u001b[38;5;28;01mdef\u001b[39;00m \u001b[38;5;21mconnect\u001b[39m(\u001b[38;5;28mself\u001b[39m):\n\u001b[1;32m   1446\u001b[0m     \u001b[38;5;124m\"\u001b[39m\u001b[38;5;124mConnect to a host on a given (SSL) port.\u001b[39m\u001b[38;5;124m\"\u001b[39m\n\u001b[0;32m-> 1448\u001b[0m     \u001b[38;5;28;43msuper\u001b[39;49m\u001b[43m(\u001b[49m\u001b[43m)\u001b[49m\u001b[38;5;241;43m.\u001b[39;49m\u001b[43mconnect\u001b[49m\u001b[43m(\u001b[49m\u001b[43m)\u001b[49m\n\u001b[1;32m   1450\u001b[0m     \u001b[38;5;28;01mif\u001b[39;00m \u001b[38;5;28mself\u001b[39m\u001b[38;5;241m.\u001b[39m_tunnel_host:\n\u001b[1;32m   1451\u001b[0m         server_hostname \u001b[38;5;241m=\u001b[39m \u001b[38;5;28mself\u001b[39m\u001b[38;5;241m.\u001b[39m_tunnel_host\n",
      "File \u001b[0;32m~/miniconda3/envs/disease_sig/lib/python3.10/http/client.py:942\u001b[0m, in \u001b[0;36mHTTPConnection.connect\u001b[0;34m(self)\u001b[0m\n\u001b[1;32m    940\u001b[0m \u001b[38;5;250m\u001b[39m\u001b[38;5;124;03m\"\"\"Connect to the host and port specified in __init__.\"\"\"\u001b[39;00m\n\u001b[1;32m    941\u001b[0m sys\u001b[38;5;241m.\u001b[39maudit(\u001b[38;5;124m\"\u001b[39m\u001b[38;5;124mhttp.client.connect\u001b[39m\u001b[38;5;124m\"\u001b[39m, \u001b[38;5;28mself\u001b[39m, \u001b[38;5;28mself\u001b[39m\u001b[38;5;241m.\u001b[39mhost, \u001b[38;5;28mself\u001b[39m\u001b[38;5;241m.\u001b[39mport)\n\u001b[0;32m--> 942\u001b[0m \u001b[38;5;28mself\u001b[39m\u001b[38;5;241m.\u001b[39msock \u001b[38;5;241m=\u001b[39m \u001b[38;5;28;43mself\u001b[39;49m\u001b[38;5;241;43m.\u001b[39;49m\u001b[43m_create_connection\u001b[49m\u001b[43m(\u001b[49m\n\u001b[1;32m    943\u001b[0m \u001b[43m    \u001b[49m\u001b[43m(\u001b[49m\u001b[38;5;28;43mself\u001b[39;49m\u001b[38;5;241;43m.\u001b[39;49m\u001b[43mhost\u001b[49m\u001b[43m,\u001b[49m\u001b[38;5;28;43mself\u001b[39;49m\u001b[38;5;241;43m.\u001b[39;49m\u001b[43mport\u001b[49m\u001b[43m)\u001b[49m\u001b[43m,\u001b[49m\u001b[43m \u001b[49m\u001b[38;5;28;43mself\u001b[39;49m\u001b[38;5;241;43m.\u001b[39;49m\u001b[43mtimeout\u001b[49m\u001b[43m,\u001b[49m\u001b[43m \u001b[49m\u001b[38;5;28;43mself\u001b[39;49m\u001b[38;5;241;43m.\u001b[39;49m\u001b[43msource_address\u001b[49m\u001b[43m)\u001b[49m\n\u001b[1;32m    944\u001b[0m \u001b[38;5;66;03m# Might fail in OSs that don't implement TCP_NODELAY\u001b[39;00m\n\u001b[1;32m    945\u001b[0m \u001b[38;5;28;01mtry\u001b[39;00m:\n",
      "File \u001b[0;32m~/miniconda3/envs/disease_sig/lib/python3.10/socket.py:833\u001b[0m, in \u001b[0;36mcreate_connection\u001b[0;34m(address, timeout, source_address)\u001b[0m\n\u001b[1;32m    831\u001b[0m \u001b[38;5;28;01mif\u001b[39;00m source_address:\n\u001b[1;32m    832\u001b[0m     sock\u001b[38;5;241m.\u001b[39mbind(source_address)\n\u001b[0;32m--> 833\u001b[0m \u001b[43msock\u001b[49m\u001b[38;5;241;43m.\u001b[39;49m\u001b[43mconnect\u001b[49m\u001b[43m(\u001b[49m\u001b[43msa\u001b[49m\u001b[43m)\u001b[49m\n\u001b[1;32m    834\u001b[0m \u001b[38;5;66;03m# Break explicitly a reference cycle\u001b[39;00m\n\u001b[1;32m    835\u001b[0m err \u001b[38;5;241m=\u001b[39m \u001b[38;5;28;01mNone\u001b[39;00m\n",
      "\u001b[0;31mKeyboardInterrupt\u001b[0m: "
     ]
    }
   ],
   "source": [
    "for dataset_id in tqdm(dataset_ids):\n",
    "    handle = Entrez.esearch(db=\"pmc\", term=dataset_id)\n",
    "    print(Entrez.read(handle)[\"IdList\"])"
   ]
  },
  {
   "cell_type": "code",
   "execution_count": 53,
   "metadata": {},
   "outputs": [
    {
     "data": {
      "text/plain": [
       "(7194, 12)"
      ]
     },
     "execution_count": 53,
     "metadata": {},
     "output_type": "execute_result"
    }
   ],
   "source": [
    "df_dataset_info[df_dataset_info[\"organism\"] == \"Homo sapiens\"].shape\n",
    "# df_dataset_info.shape"
   ]
  },
  {
   "cell_type": "code",
   "execution_count": 56,
   "metadata": {},
   "outputs": [
    {
     "data": {
      "text/html": [
       "<div>\n",
       "<style scoped>\n",
       "    .dataframe tbody tr th:only-of-type {\n",
       "        vertical-align: middle;\n",
       "    }\n",
       "\n",
       "    .dataframe tbody tr th {\n",
       "        vertical-align: top;\n",
       "    }\n",
       "\n",
       "    .dataframe thead th {\n",
       "        text-align: right;\n",
       "    }\n",
       "</style>\n",
       "<table border=\"1\" class=\"dataframe\">\n",
       "  <thead>\n",
       "    <tr style=\"text-align: right;\">\n",
       "      <th></th>\n",
       "      <th>dsaid</th>\n",
       "      <th>accession</th>\n",
       "      <th>platform</th>\n",
       "      <th>deg_count</th>\n",
       "      <th>disease</th>\n",
       "      <th>diseaseid</th>\n",
       "      <th>tissue</th>\n",
       "      <th>data_source</th>\n",
       "      <th>library_strategy</th>\n",
       "      <th>organism</th>\n",
       "      <th>control_case_sample_count</th>\n",
       "      <th>definition</th>\n",
       "    </tr>\n",
       "  </thead>\n",
       "  <tbody>\n",
       "    <tr>\n",
       "      <th>0</th>\n",
       "      <td>DSA00001</td>\n",
       "      <td>GSE224398</td>\n",
       "      <td>GPL21103</td>\n",
       "      <td>1000</td>\n",
       "      <td>Alzheimer's Disease</td>\n",
       "      <td>C0002395</td>\n",
       "      <td>Hippocampus</td>\n",
       "      <td>GEO</td>\n",
       "      <td>scRNA-Seq</td>\n",
       "      <td>Mus musculus</td>\n",
       "      <td>1|1</td>\n",
       "      <td>DO:An Alzheimer's disease that has_material_ba...</td>\n",
       "    </tr>\n",
       "    <tr>\n",
       "      <th>1</th>\n",
       "      <td>DSA00002</td>\n",
       "      <td>GSE224398</td>\n",
       "      <td>GPL21103</td>\n",
       "      <td>1000</td>\n",
       "      <td>Alzheimer's Disease</td>\n",
       "      <td>C0002395</td>\n",
       "      <td>Hippocampus</td>\n",
       "      <td>GEO</td>\n",
       "      <td>scRNA-Seq</td>\n",
       "      <td>Mus musculus</td>\n",
       "      <td>1|1</td>\n",
       "      <td>DO:An Alzheimer's disease that has_material_ba...</td>\n",
       "    </tr>\n",
       "    <tr>\n",
       "      <th>2</th>\n",
       "      <td>DSA00003</td>\n",
       "      <td>GSE224398</td>\n",
       "      <td>GPL21103</td>\n",
       "      <td>1000</td>\n",
       "      <td>Alzheimer's Disease</td>\n",
       "      <td>C0002395</td>\n",
       "      <td>Hippocampus</td>\n",
       "      <td>GEO</td>\n",
       "      <td>scRNA-Seq</td>\n",
       "      <td>Mus musculus</td>\n",
       "      <td>1|1</td>\n",
       "      <td>DO:An Alzheimer's disease that has_material_ba...</td>\n",
       "    </tr>\n",
       "    <tr>\n",
       "      <th>3</th>\n",
       "      <td>DSA00004</td>\n",
       "      <td>GSE224022</td>\n",
       "      <td>GPL16791</td>\n",
       "      <td>1000</td>\n",
       "      <td>Retinoblastoma</td>\n",
       "      <td>C0035335</td>\n",
       "      <td>Retina</td>\n",
       "      <td>GEO</td>\n",
       "      <td>RNA-Seq</td>\n",
       "      <td>Homo sapiens</td>\n",
       "      <td>4|5</td>\n",
       "      <td>DO:A retinal cell cancer and malignant neoplas...</td>\n",
       "    </tr>\n",
       "    <tr>\n",
       "      <th>4</th>\n",
       "      <td>DSA00005</td>\n",
       "      <td>GSE126342</td>\n",
       "      <td>GPL11154</td>\n",
       "      <td>1000</td>\n",
       "      <td>Congenital Myotonic Dystrophy</td>\n",
       "      <td>C0410226</td>\n",
       "      <td>Skeletal muscle</td>\n",
       "      <td>GEO</td>\n",
       "      <td>RNA-Seq</td>\n",
       "      <td>Homo sapiens</td>\n",
       "      <td>9|11</td>\n",
       "      <td>MONDO:An inherited progressive disorder affect...</td>\n",
       "    </tr>\n",
       "    <tr>\n",
       "      <th>...</th>\n",
       "      <td>...</td>\n",
       "      <td>...</td>\n",
       "      <td>...</td>\n",
       "      <td>...</td>\n",
       "      <td>...</td>\n",
       "      <td>...</td>\n",
       "      <td>...</td>\n",
       "      <td>...</td>\n",
       "      <td>...</td>\n",
       "      <td>...</td>\n",
       "      <td>...</td>\n",
       "      <td>...</td>\n",
       "    </tr>\n",
       "    <tr>\n",
       "      <th>10301</th>\n",
       "      <td>DSA10302</td>\n",
       "      <td>GSE6008</td>\n",
       "      <td>GPL96</td>\n",
       "      <td>1000</td>\n",
       "      <td>Ovarian Tumor</td>\n",
       "      <td>C1140680</td>\n",
       "      <td>Ovary</td>\n",
       "      <td>GEO</td>\n",
       "      <td>Microarray</td>\n",
       "      <td>Homo sapiens</td>\n",
       "      <td>4|41</td>\n",
       "      <td>DO:A female reproductive organ cancer that is ...</td>\n",
       "    </tr>\n",
       "    <tr>\n",
       "      <th>10302</th>\n",
       "      <td>DSA10303</td>\n",
       "      <td>GSE6280</td>\n",
       "      <td>GPL96</td>\n",
       "      <td>758</td>\n",
       "      <td>Kidney Tumor</td>\n",
       "      <td>C0022665</td>\n",
       "      <td>Kidney</td>\n",
       "      <td>GEO</td>\n",
       "      <td>Microarray</td>\n",
       "      <td>Homo sapiens</td>\n",
       "      <td>6|14</td>\n",
       "      <td>DO:A urinary system cancer that is located_in ...</td>\n",
       "    </tr>\n",
       "    <tr>\n",
       "      <th>10303</th>\n",
       "      <td>DSA10304</td>\n",
       "      <td>GSE6280</td>\n",
       "      <td>GPL97</td>\n",
       "      <td>337</td>\n",
       "      <td>Kidney Tumor</td>\n",
       "      <td>C0022665</td>\n",
       "      <td>Kidney</td>\n",
       "      <td>GEO</td>\n",
       "      <td>Microarray</td>\n",
       "      <td>Homo sapiens</td>\n",
       "      <td>6|14</td>\n",
       "      <td>DO:A urinary system cancer that is located_in ...</td>\n",
       "    </tr>\n",
       "    <tr>\n",
       "      <th>10304</th>\n",
       "      <td>DSA10305</td>\n",
       "      <td>GSE6344</td>\n",
       "      <td>GPL96</td>\n",
       "      <td>1000</td>\n",
       "      <td>Clear Cell Ependymoma</td>\n",
       "      <td>C1384403</td>\n",
       "      <td>Kidney</td>\n",
       "      <td>GEO</td>\n",
       "      <td>Microarray</td>\n",
       "      <td>Homo sapiens</td>\n",
       "      <td>5|5</td>\n",
       "      <td>EFO:A WHO grade II, slow growing tumor of chil...</td>\n",
       "    </tr>\n",
       "    <tr>\n",
       "      <th>10305</th>\n",
       "      <td>DSA10306</td>\n",
       "      <td>GSE6344</td>\n",
       "      <td>GPL96</td>\n",
       "      <td>1000</td>\n",
       "      <td>Clear Cell Ependymoma</td>\n",
       "      <td>C1384403</td>\n",
       "      <td>Kidney</td>\n",
       "      <td>GEO</td>\n",
       "      <td>Microarray</td>\n",
       "      <td>Homo sapiens</td>\n",
       "      <td>5|5</td>\n",
       "      <td>EFO:A WHO grade II, slow growing tumor of chil...</td>\n",
       "    </tr>\n",
       "  </tbody>\n",
       "</table>\n",
       "<p>10306 rows × 12 columns</p>\n",
       "</div>"
      ],
      "text/plain": [
       "          dsaid  accession  platform  deg_count  \\\n",
       "0      DSA00001  GSE224398  GPL21103       1000   \n",
       "1      DSA00002  GSE224398  GPL21103       1000   \n",
       "2      DSA00003  GSE224398  GPL21103       1000   \n",
       "3      DSA00004  GSE224022  GPL16791       1000   \n",
       "4      DSA00005  GSE126342  GPL11154       1000   \n",
       "...         ...        ...       ...        ...   \n",
       "10301  DSA10302    GSE6008     GPL96       1000   \n",
       "10302  DSA10303    GSE6280     GPL96        758   \n",
       "10303  DSA10304    GSE6280     GPL97        337   \n",
       "10304  DSA10305    GSE6344     GPL96       1000   \n",
       "10305  DSA10306    GSE6344     GPL96       1000   \n",
       "\n",
       "                             disease diseaseid           tissue data_source  \\\n",
       "0                Alzheimer's Disease  C0002395      Hippocampus         GEO   \n",
       "1                Alzheimer's Disease  C0002395      Hippocampus         GEO   \n",
       "2                Alzheimer's Disease  C0002395      Hippocampus         GEO   \n",
       "3                     Retinoblastoma  C0035335           Retina         GEO   \n",
       "4      Congenital Myotonic Dystrophy  C0410226  Skeletal muscle         GEO   \n",
       "...                              ...       ...              ...         ...   \n",
       "10301                  Ovarian Tumor  C1140680            Ovary         GEO   \n",
       "10302                   Kidney Tumor  C0022665           Kidney         GEO   \n",
       "10303                   Kidney Tumor  C0022665           Kidney         GEO   \n",
       "10304          Clear Cell Ependymoma  C1384403           Kidney         GEO   \n",
       "10305          Clear Cell Ependymoma  C1384403           Kidney         GEO   \n",
       "\n",
       "      library_strategy      organism control_case_sample_count  \\\n",
       "0            scRNA-Seq  Mus musculus                       1|1   \n",
       "1            scRNA-Seq  Mus musculus                       1|1   \n",
       "2            scRNA-Seq  Mus musculus                       1|1   \n",
       "3              RNA-Seq  Homo sapiens                       4|5   \n",
       "4              RNA-Seq  Homo sapiens                      9|11   \n",
       "...                ...           ...                       ...   \n",
       "10301       Microarray  Homo sapiens                      4|41   \n",
       "10302       Microarray  Homo sapiens                      6|14   \n",
       "10303       Microarray  Homo sapiens                      6|14   \n",
       "10304       Microarray  Homo sapiens                       5|5   \n",
       "10305       Microarray  Homo sapiens                       5|5   \n",
       "\n",
       "                                              definition  \n",
       "0      DO:An Alzheimer's disease that has_material_ba...  \n",
       "1      DO:An Alzheimer's disease that has_material_ba...  \n",
       "2      DO:An Alzheimer's disease that has_material_ba...  \n",
       "3      DO:A retinal cell cancer and malignant neoplas...  \n",
       "4      MONDO:An inherited progressive disorder affect...  \n",
       "...                                                  ...  \n",
       "10301  DO:A female reproductive organ cancer that is ...  \n",
       "10302  DO:A urinary system cancer that is located_in ...  \n",
       "10303  DO:A urinary system cancer that is located_in ...  \n",
       "10304  EFO:A WHO grade II, slow growing tumor of chil...  \n",
       "10305  EFO:A WHO grade II, slow growing tumor of chil...  \n",
       "\n",
       "[10306 rows x 12 columns]"
      ]
     },
     "execution_count": 56,
     "metadata": {},
     "output_type": "execute_result"
    }
   ],
   "source": [
    "df_dataset_info"
   ]
  },
  {
   "cell_type": "code",
   "execution_count": 66,
   "metadata": {},
   "outputs": [
    {
     "name": "stdout",
     "output_type": "stream",
     "text": [
      "['1853']\n"
     ]
    },
    {
     "data": {
      "text/plain": [
       "'Path to MeSH term in data'"
      ]
     },
     "execution_count": 66,
     "metadata": {},
     "output_type": "execute_result"
    }
   ],
   "source": [
    "from Bio import Entrez\n",
    "\n",
    "\n",
    "def translate_medgen_to_mesh(concept_id):\n",
    "    Entrez.email = \"example@example.com\"  # Replace with your email address\n",
    "    database = \"medgen\"\n",
    "    term = concept_id\n",
    "\n",
    "    # Search for the concept ID in the MedGen database\n",
    "    search_handle = Entrez.esearch(db=database, term=term)\n",
    "    search_results = Entrez.read(search_handle)\n",
    "    search_handle.close()\n",
    "\n",
    "    # Fetch the detailed record for the first UID in the search results\n",
    "    uid = search_results[\"IdList\"][0]\n",
    "    fetch_handle = Entrez.efetch(db=database, id=uid, retmode=\"xml\")\n",
    "    data = Entrez.read(fetch_handle)\n",
    "    fetch_handle.close()\n",
    "\n",
    "    print(data)\n",
    "\n",
    "    # Extract the MeSH term from the data\n",
    "    # The path to the MeSH term in the data structure needs to be determined\n",
    "    mesh_term = \"Path to MeSH term in data\"  # Placeholder, needs actual path\n",
    "\n",
    "    return mesh_term\n",
    "\n",
    "\n",
    "# Example usage\n",
    "concept_id = \"C0002395\"\n",
    "mesh_term = translate_medgen_to_mesh(concept_id)\n",
    "mesh_term"
   ]
  },
  {
   "cell_type": "code",
   "execution_count": 68,
   "metadata": {},
   "outputs": [
    {
     "name": "stdout",
     "output_type": "stream",
     "text": [
      "{'Count': '1', 'RetMax': '1', 'RetStart': '0', 'IdList': ['1853'], 'TranslationSet': [], 'TranslationStack': [{'Term': 'C0002395[All Fields]', 'Field': 'All Fields', 'Count': '1', 'Explode': 'N'}, 'GROUP'], 'QueryTranslation': 'C0002395[All Fields]'}\n"
     ]
    }
   ],
   "source": [
    "search_handle = Entrez.esearch(db=\"medgen\", term=\"C0002395\")\n",
    "search_results = Entrez.read(search_handle)\n",
    "\n",
    "print(search_results)\n",
    "\n",
    "# Fetch the detailed record for the UID\n",
    "fetch_handle = Entrez.efetch(db=database, id=uid, retmode=\"xml\")\n",
    "data = Entrez.read(fetch_handle)\n",
    "fetch_handle.close()"
   ]
  },
  {
   "cell_type": "code",
   "execution_count": 61,
   "metadata": {},
   "outputs": [
    {
     "name": "stdout",
     "output_type": "stream",
     "text": [
      "['1853']\n",
      "MeSH Term: Path to MeSH term in data\n"
     ]
    }
   ],
   "source": [
    "def fetch_mesh_term_from_uid(uid):\n",
    "    fetch_handle = Entrez.efetch(db=\"medgen\", id=uid, retmode=\"xml\")\n",
    "    data = Entrez.read(fetch_handle)\n",
    "    fetch_handle.close()\n",
    "\n",
    "    print(data)\n",
    "    # Extracting the MeSH term requires navigating the data structure\n",
    "    # The exact path will depend on how the data is structured\n",
    "    mesh_term = \"Path to MeSH term in data\"  # Placeholder, needs actual path\n",
    "\n",
    "    return mesh_term\n",
    "\n",
    "\n",
    "# The UID obtained from the previous step\n",
    "medgen_uid = \"1853\"\n",
    "mesh_term = fetch_mesh_term_from_uid(medgen_uid)\n",
    "print(\"MeSH Term:\", mesh_term)"
   ]
  },
  {
   "cell_type": "code",
   "execution_count": 65,
   "metadata": {},
   "outputs": [
    {
     "data": {
      "text/plain": [
       "['2395']"
      ]
     },
     "execution_count": 65,
     "metadata": {},
     "output_type": "execute_result"
    }
   ],
   "source": [
    "Entrez.read(Entrez.efetch(db=\"medgen\", id=\"C0002395\"))"
   ]
  }
 ],
 "metadata": {
  "kernelspec": {
   "display_name": "Python 3 (ipykernel)",
   "language": "python",
   "name": "python3"
  },
  "language_info": {
   "codemirror_mode": {
    "name": "ipython",
    "version": 3
   },
   "file_extension": ".py",
   "mimetype": "text/x-python",
   "name": "python",
   "nbconvert_exporter": "python",
   "pygments_lexer": "ipython3",
   "version": "3.10.13"
  }
 },
 "nbformat": 4,
 "nbformat_minor": 2
}
