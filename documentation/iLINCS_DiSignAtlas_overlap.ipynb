{
 "cells": [
  {
   "cell_type": "markdown",
   "metadata": {},
   "source": [
    "# iLINCS DiSignAtlas Overlap"
   ]
  },
  {
   "cell_type": "markdown",
   "metadata": {},
   "source": [
    "## Overalp of DiSignAtlas with iLINCS"
   ]
  },
  {
   "cell_type": "code",
   "execution_count": 22,
   "metadata": {},
   "outputs": [
    {
     "name": "stderr",
     "output_type": "stream",
     "text": [
      "2024-01-29 12:51:29,824 - INFO - Retrieved a total of 1049/1084 GDS to GSE mappings\n",
      "2024-01-29 12:51:53,871 - INFO - Retrieved a total of 1087 iLINCS datasets\n"
     ]
    },
    {
     "data": {
      "text/plain": [
       "<matplotlib_venn._common.VennDiagram at 0x7f7c0aef23b0>"
      ]
     },
     "execution_count": 22,
     "metadata": {},
     "output_type": "execute_result"
    },
    {
     "data": {
      "image/png": "[encoded data removed]",
      "text/plain": [
       "<Figure size 640x480 with 1 Axes>"
      ]
     },
     "metadata": {},
     "output_type": "display_data"
    }
   ],
   "source": [
    "\"\"\"Overlap of DiSignAtlas w/ iLINCS\n",
    "\n",
    "Structure:\n",
    "    1. Imports, Variables, Functions\n",
    "    2. Load Data\n",
    "    3. Determine Overlap\n",
    "    4. Plot Overlap\n",
    "\"\"\"\n",
    "# 1. Imports, Variables, Functions\n",
    "# imports\n",
    "import sys, os, pickle, logging, pandas as pd, numpy as np, requests\n",
    "from tqdm import tqdm\n",
    "import multiprocessing\n",
    "from tqdm.contrib.concurrent import process_map\n",
    "from matplotlib_venn import venn2\n",
    "import matplotlib.pyplot as plt\n",
    "\n",
    "logging.basicConfig(\n",
    "    level=logging.INFO, format=\"%(asctime)s - %(levelname)s - %(message)s\"\n",
    ")\n",
    "# variables\n",
    "output_path_gds = os.path.join(\"..\", \"results\", \"files\", \"DiSignAtlas\", \"gds_2_gse.pkl\")\n",
    "iLINCS_filter = lambda s: (s[\"libraryid\"] == \"LIB_1\")\n",
    "data_info_path = os.path.join(\n",
    "    \"..\", \"data\", \"DiSignAtlas\", \"Disease_information_Datasets.csv\"\n",
    ")\n",
    "\n",
    "# functions\n",
    "\n",
    "\n",
    "def fetch_dataset_metadata(dataset_id):\n",
    "    \"\"\"Fetch dataset metadata/description for a given dataset.\"\"\"\n",
    "    base_url = \"http://www.ilincs.org/api\"\n",
    "    endpoint = f\"{base_url}/PublicDatasets/{dataset_id}\"\n",
    "    response = requests.get(endpoint)\n",
    "    if response.status_code == 200:\n",
    "        return response.json()  # assuming the response is in JSON format\n",
    "    else:\n",
    "        print(\"Error:\", response.status_code, response.text)\n",
    "        return None\n",
    "\n",
    "\n",
    "def fetch_disease_signatures():\n",
    "    \"\"\"Fetch Disease Signatures\"\"\"\n",
    "\n",
    "    # Construct the filtering JSON based on provided example\n",
    "    # filter_json = {\n",
    "    #     \"where\": {\n",
    "    #         \"factor\": factor,\n",
    "    #         #\"baseline\": baseline\n",
    "    #     }\n",
    "    # }\n",
    "    # filter_str = json.dumps(filter_json)\n",
    "    base_url = \"http://www.ilincs.org/api\"\n",
    "    endpoint = f\"{base_url}/SignatureMeta\"\n",
    "    # response = requests.get(endpoint, params={\"filter\": filter_str})\n",
    "    response = requests.get(endpoint)\n",
    "    if response.status_code == 200:\n",
    "        return response.json()  # assuming the response is in JSON format\n",
    "    else:\n",
    "        print(\"Error:\", response.status_code, response.text)\n",
    "        return []\n",
    "\n",
    "\n",
    "def process_dataset(dataset_id):\n",
    "    # retrieve metadata from iLINCS for specific datasetid\n",
    "    metadata = fetch_dataset_metadata(dataset_id)\n",
    "    gds_id = metadata[\"SourceID\"]\n",
    "    return gds_id\n",
    "\n",
    "\n",
    "# 2. Load Data\n",
    "# load iLINCS GDS -> GSE mapping\n",
    "# this was previously mapped using Entrez API ! ! ! (DiSignAtlas.ipynb)\n",
    "with open(output_path_gds, \"rb\") as f:\n",
    "    iLINCS_gds_2_gse = pickle.load(f)\n",
    "\n",
    "logging.info(\n",
    "    f\"Retrieved a total of {len([k for k, v in iLINCS_gds_2_gse.items() if v.startswith('GSE')])}/{len(iLINCS_gds_2_gse)} GDS to GSE mappings\"\n",
    ")\n",
    "\n",
    "# get iLINCS GSE ids\n",
    "iLINCS_gse_ids = list(\n",
    "    set([v for v in iLINCS_gds_2_gse.values() if v.startswith(\"GSE\")])\n",
    ")\n",
    "\n",
    "# load iLINCS datasets\n",
    "signatures = fetch_disease_signatures()\n",
    "iLINCS_datasets = list(set([s[\"datasetid\"] for s in signatures if iLINCS_filter(s)]))\n",
    "\n",
    "logging.info(f\"Retrieved a total of {len(iLINCS_datasets)} iLINCS datasets\")\n",
    "\n",
    "\n",
    "# load DiSignAtlas datasets\n",
    "df_DS_data_info = pd.read_csv(data_info_path)\n",
    "DS_gse_ids = df_DS_data_info[\"accession\"].tolist()\n",
    "\n",
    "# 3. Determine Overlap\n",
    "# get gse ids for iLINCS datasets\n",
    "common_gse_ids = list(set(iLINCS_gse_ids).intersection(set(DS_gse_ids)))\n",
    "\n",
    "# 4. Plot Overlap\n",
    "# Create the Venn diagram\n",
    "venn2(\n",
    "    [set(iLINCS_gse_ids), set(DS_gse_ids)],\n",
    "    set_labels=(\"iLINCS Datasets\", \"DiSignAtlas Datasets\"),\n",
    ")"
   ]
  },
  {
   "cell_type": "markdown",
   "metadata": {},
   "source": [
    "## Get Signatures for common datasets"
   ]
  },
  {
   "cell_type": "code",
   "execution_count": 36,
   "metadata": {},
   "outputs": [
    {
     "name": "stderr",
     "output_type": "stream",
     "text": [
      "100%|██████████| 188/188 [00:01<00:00, 98.57it/s] \n"
     ]
    }
   ],
   "source": [
    "\"\"\"Structure:\n",
    "    1. Imports, Variables, Functions\n",
    "    2. Map datasets to signatures\n",
    "    3. Process iLINCS signatures\n",
    "    4. Compute correlation between iLINCS and DiSignAtlas\n",
    "\"\"\"\n",
    "\n",
    "# 1. Imports, Variables, Functions\n",
    "# imports\n",
    "\n",
    "# variables\n",
    "path_iLINCS_signature_info = os.path.join(\"..\", \"data\", \"iLINCS\", \"signatures.csv\")\n",
    "path_iLINCS_signatures = os.path.join(\n",
    "    \"..\", \"data\", \"iLINCS\", \"disease_signature_vectors\"\n",
    ")\n",
    "\n",
    "# functions\n",
    "\n",
    "\n",
    "def get_iLINCS_signature_id(dataset_id, df_iLINCS_signature_info):\n",
    "    \"\"\"Load iLINCS Signatures and return all signature IDs for a given dataset ID.\n",
    "    Arguments:\n",
    "        - dataset_id(str): Dataset ID\n",
    "    Returns:\n",
    "        - list: List of signature IDs\n",
    "    \"\"\"\n",
    "\n",
    "    # Filter for signatures where libraryid is 'LIB_1'\n",
    "    df_iLINCS_disease_signatures = df_iLINCS_signature_info[\n",
    "        df_iLINCS_signature_info[\"libraryid\"] == \"LIB_1\"\n",
    "    ]\n",
    "\n",
    "    # Remove 'gds' prefix from dataset IDs and find matching signature IDs\n",
    "    df_iLINCS_disease_signatures.loc[:, \"datasetid\"] = df_iLINCS_disease_signatures[\n",
    "        \"datasetid\"\n",
    "    ].apply(lambda x: x.replace(\"gds\", \"\"))\n",
    "\n",
    "    # Filter the DataFrame for rows with the given dataset ID\n",
    "    filtered_df = df_iLINCS_disease_signatures[\n",
    "        df_iLINCS_disease_signatures[\"datasetid\"] == dataset_id\n",
    "    ]\n",
    "\n",
    "    # Return a list of signature IDs\n",
    "    return (\n",
    "        filtered_df[\"signatureid\"].tolist(),\n",
    "        filtered_df[\"level1\"].tolist(),\n",
    "        filtered_df[\"level2\"].tolist(),\n",
    "    )\n",
    "\n",
    "\n",
    "def filter_ilincs_signature(l1, l2, key_words):\n",
    "    if (l1 is not np.nan) and (any([k in l1.lower() for k in key_words])):\n",
    "        return True\n",
    "    elif (l2 is not np.nan) and (any([k in l2.lower() for k in key_words])):\n",
    "        return True\n",
    "    else:\n",
    "        return False\n",
    "\n",
    "\n",
    "iLINCS_signatures_all = list()\n",
    "iLINCS_l1s_all = list()\n",
    "iLINCS_l2s_all = list()\n",
    "\n",
    "DS_signatures_all = list()\n",
    "DS_diseases_all = list()\n",
    "\n",
    "# df iLINCS signatures\n",
    "df_iLINCS_signature_info = pd.read_csv(path_iLINCS_signature_info, low_memory=False)\n",
    "\n",
    "# iLINCS gse to gds\n",
    "iLINCS_gse_2_gds = {v: k for k, v in iLINCS_gds_2_gse.items()}\n",
    "\n",
    "# 2. Map datasets to signatures\n",
    "# iterate through common gse ids\n",
    "for gse_id in tqdm(common_gse_ids):\n",
    "    # gds id\n",
    "    gds_id = iLINCS_gse_2_gds[gse_id]\n",
    "\n",
    "    # iLINCS signatures\n",
    "    iLINCS_signature_ids, iLINCS_l1s, iLINCS_l2s = get_iLINCS_signature_id(\n",
    "        gds_id, df_iLINCS_signature_info\n",
    "    )\n",
    "    iLINCS_signatures_all.append(iLINCS_signature_ids)\n",
    "    iLINCS_l1s_all.append(iLINCS_l1s)\n",
    "    iLINCS_l2s_all.append(iLINCS_l2s)\n",
    "\n",
    "    # DiSignAtlas signatures\n",
    "    DS_signatures = df_DS_data_info[df_DS_data_info[\"accession\"] == gse_id][\n",
    "        \"dsaid\"\n",
    "    ].to_list()\n",
    "    DS_diseases = df_DS_data_info[df_DS_data_info[\"accession\"] == gse_id][\n",
    "        \"disease\"\n",
    "    ].to_list()\n",
    "    DS_signatures_all.append(DS_signatures)\n",
    "    DS_diseases_all.append(DS_diseases)\n",
    "\n",
    "# 3. Process iLINCS signatures\n",
    "# we are interested in signatures that correspond to control/normal/healthy\n",
    "# differential expresions\n",
    "\n",
    "# How many iLINCS signatures have control/normal/healthy conditions?\n",
    "key_words = [\"control\", \"normal\", \"healthy\"]\n",
    "\n",
    "# filtered iLINCS signatures\n",
    "iLINCS_signatures_all_filtered = list()\n",
    "iLINCS_l1s_all_filtered = list()\n",
    "iLINCS_l2s_all_filtered = list()\n",
    "\n",
    "for sublist_i, sublist_l1, sublist_l2 in zip(\n",
    "    iLINCS_signatures_all, iLINCS_l1s_all, iLINCS_l2s_all\n",
    "):\n",
    "    i_found = list()\n",
    "    l1_found = list()\n",
    "    l2_found = list()\n",
    "    for i, l1, l2 in zip(sublist_i, sublist_l1, sublist_l2):\n",
    "        if filter_ilincs_signature(l1, l2, key_words):\n",
    "            i_found.append(i)\n",
    "            l1_found.append(l1)\n",
    "            l2_found.append(l2)\n",
    "    iLINCS_signatures_all_filtered.append(i_found)\n",
    "    iLINCS_l1s_all_filtered.append(l1_found)\n",
    "    iLINCS_l2s_all_filtered.append(l2_found)\n",
    "\n",
    "# 4. Compute correlation between iLINCS and DiSignAtlas\n",
    "# load large iLINCS dataframe\n",
    "df_iLINCS_signatures = pd.read_csv(path_iLINCS_signatures)\n",
    "\n",
    "# iterate through common gse ids\n",
    "for index, gse_id in tqdm(common_gse_ids):\n",
    "    # get gds id\n",
    "    gds_id = iLINCS_gse_2_gds[gse_id]\n",
    "\n",
    "    # get iLINCS signature ids\n",
    "    iLINCS_signature_ids = iLINCS_signatures_all_filtered[index]\n",
    "    if len(iLINCS_signature_ids) == 0:\n",
    "        continue\n",
    "\n",
    "    # store in each iteration signatures for each dataset\n",
    "    iLINCS_gene_ids = list()\n",
    "    iLINCS_gene_des = list()\n",
    "    iLINCS_gene_pvalue = list()\n",
    "    for iLINCS_signature_id in iLINCS_signature_ids:\n",
    "        # get iLINCS signatures\n",
    "        iLINCS_gene_id = df_iLINCS_signatures[\n",
    "            df_iLINCS_signatures[\"signatureID\"] == iLINCS_signature_id\n",
    "        ][\"ID_geneid\"].to_list()\n",
    "        iLINCS_gene_de = df_iLINCS_signatures[\n",
    "            df_iLINCS_signatures[\"signatureID\"] == iLINCS_signature_id\n",
    "        ][\"Value_LogDiffExp\"].to_list()\n",
    "        iLINCS_gene_pvalue = df_iLINCS_signatures[\n",
    "            df_iLINCS_signatures[\"signatureID\"] == iLINCS_signature_id\n",
    "        ][\"Significance_pvalue\"].to_list()\n",
    "\n",
    "        iLINCS_gene_ids.append(iLINCS_gene_id)\n",
    "        iLINCS_gene_des.append(iLINCS_gene_des)\n",
    "        iLINCS_gene_pvalue.append(iLINCS_gene_pvalue)\n",
    "\n",
    "    # get DiSignAtlas signatures\n",
    "    DS_signatures = DS_signatures_all[index]\n",
    "\n",
    "    # store in each iteration signatures for each dataset\n",
    "    DS_g\n",
    "\n",
    "\n",
    "# get iLINCS pvalues for iLINCS signatures\n",
    "\n",
    "# get iLINCS log2FC"
   ]
  },
  {
   "cell_type": "code",
   "execution_count": 88,
   "metadata": {},
   "outputs": [],
   "source": [
    "df_a = pd.read_csv(\n",
    "    \"/aloy/home/ddalton/projects/disease_signatures/data/iLINCS/disease_signature_vectors.csv\"\n",
    ")"
   ]
  },
  {
   "cell_type": "code",
   "execution_count": 89,
   "metadata": {},
   "outputs": [
    {
     "data": {
      "text/plain": [
       "(144545011, 6)"
      ]
     },
     "execution_count": 89,
     "metadata": {},
     "output_type": "execute_result"
    }
   ],
   "source": [
    "df_a[].shape"
   ]
  },
  {
   "cell_type": "code",
   "execution_count": 91,
   "metadata": {},
   "outputs": [
    {
     "data": {
      "text/plain": [
       "(8478, 6)"
      ]
     },
     "execution_count": 91,
     "metadata": {},
     "output_type": "execute_result"
    }
   ],
   "source": [
    "df_a[df_a[\"signatureID\"] == \"GDS_6172\"].shape"
   ]
  },
  {
   "cell_type": "code",
   "execution_count": 92,
   "metadata": {},
   "outputs": [
    {
     "data": {
      "text/plain": [
       "Index(['signatureID', 'PROBE', 'ID_geneid', 'Name_GeneSymbol',\n",
       "       'Value_LogDiffExp', 'Significance_pvalue'],\n",
       "      dtype='object')"
      ]
     },
     "execution_count": 92,
     "metadata": {},
     "output_type": "execute_result"
    }
   ],
   "source": [
    "df_a.columns"
   ]
  },
  {
   "cell_type": "code",
   "execution_count": null,
   "metadata": {},
   "outputs": [],
   "source": [
    "# get signatures for each common gse_id"
   ]
  }
 ],
 "metadata": {
  "kernelspec": {
   "display_name": "disease_sig",
   "language": "python",
   "name": "python3"
  },
  "language_info": {
   "codemirror_mode": {
    "name": "ipython",
    "version": 3
   },
   "file_extension": ".py",
   "mimetype": "text/x-python",
   "name": "python",
   "nbconvert_exporter": "python",
   "pygments_lexer": "ipython3",
   "version": "3.10.13"
  }
 },
 "nbformat": 4,
 "nbformat_minor": 2
}
