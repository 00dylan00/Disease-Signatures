{
 "cells": [
  {
   "cell_type": "markdown",
   "metadata": {},
   "source": [
    "# DiSignAtlas MESH terms\n",
    "\n",
    "Structure\n",
    "* 1. Get MESH terms from DiSignAtlas\n",
    "* 2. Get MESH terms through DO DiSignAtlas"
   ]
  },
  {
   "cell_type": "markdown",
   "metadata": {},
   "source": [
    "## 1. Get MESH terms from DiSignAtlas website"
   ]
  },
  {
   "cell_type": "code",
   "execution_count": 4,
   "metadata": {},
   "outputs": [
    {
     "name": "stderr",
     "output_type": "stream",
     "text": [
      "2024-03-27 15:35:47,728 - Data Shape: (10306, 12)\n",
      "2024-03-27 15:35:47,729 - Nº of signatures without NIH Concept ID: 472\n",
      "2024-03-27 15:35:47,729 - Nº of unique diseases: 1427\n",
      "2024-03-27 15:35:47,731 - Loading external links from  ../data/DiSignAtlas/external_links.pkl\n",
      "2024-03-27 15:35:47,744 - Nº of dsaids with no external links 1\n"
     ]
    }
   ],
   "source": [
    "\"\"\"Get MESH terms from DiSignAtlas\n",
    "\n",
    "Structure:\n",
    "    1. Imports, Variables, Functions\n",
    "    2. Load Data\n",
    "    3. Get All External Links - Web Scraping\n",
    "    4. Get MeSH tree terms\n",
    "\"\"\"\n",
    "\n",
    "# 1. Imports, Variables, Functions\n",
    "# imports\n",
    "import pandas as pd, numpy as np, sys, os\n",
    "import logging, requests\n",
    "import requests, pickle\n",
    "from bs4 import BeautifulSoup\n",
    "from tqdm.contrib.concurrent import process_map\n",
    "import xml.etree.ElementTree as ET\n",
    "from tqdm import tqdm\n",
    "\n",
    "logging.basicConfig(level=logging.INFO, format=\"%(asctime)s - %(message)s\")\n",
    "# variables\n",
    "data_info_path = os.path.join(\n",
    "    \"..\", \"data\", \"DiSignAtlas\", \"Disease_information_Datasets.csv\"\n",
    ")\n",
    "external_links_output_path = os.path.join(\n",
    "    \"..\", \"data\", \"DiSignAtlas\", \"external_links.pkl\"\n",
    ")\n",
    "mesh_tree_terms_output_path = os.path.join(\n",
    "    \"..\", \"data\", \"DiSignAtlas\", \"mesh_tree_terms.pkl\"\n",
    ")\n",
    "\n",
    "mesh_file_path = os.path.join(\"..\", \"data\", \"MeSH\", \"desc2023.xml\")\n",
    "\n",
    "\n",
    "# functions\n",
    "def search_mesh(term):\n",
    "    url = f\"https://eutils.ncbi.nlm.nih.gov/entrez/eutils/esearch.fcgi?db=mesh&term={term}&retmode=json\"\n",
    "    response = requests.get(url)\n",
    "    data = response.json()\n",
    "    return data\n",
    "\n",
    "\n",
    "def get_external_links(dsaid):\n",
    "    \"\"\"Get External Links from DiSignAtlas\n",
    "    Args:\n",
    "        dsaid (str): DiSignAtlas ID\n",
    "    Returns:\n",
    "        extenal_links (list): List of external links\"\"\"\n",
    "    # imports\n",
    "    import re\n",
    "\n",
    "    # URL of the webpage you want to extract data from\n",
    "    url = f\"http://www.inbirg.com/disignatlas/detail/{dsaid}\"\n",
    "\n",
    "    # Fetch the content of the webpage\n",
    "    response = requests.get(url)\n",
    "    webpage = response.content\n",
    "\n",
    "    # Parse the HTML content\n",
    "    soup = BeautifulSoup(webpage, \"html.parser\")\n",
    "\n",
    "    # Extract all scripts from the html\n",
    "    scripts = soup.find_all(\"script\")\n",
    "\n",
    "    # Extract the script with dbXrefs\n",
    "    dbXrefs_script = None\n",
    "    for script in scripts:\n",
    "        if \"dbXrefs\" in script.text:\n",
    "            dbXrefs_script = script.text\n",
    "            break\n",
    "\n",
    "    # if there is no dbXrefs script, return an empty list\n",
    "    if dbXrefs_script is None:\n",
    "        return []\n",
    "    # Extract from the script dbXrefs\n",
    "    # These are what appear as External Links in the webpage\n",
    "    dbXrefs_match = re.search(r'dbXrefs = \"(.*?)\"', dbXrefs_script)\n",
    "\n",
    "    dbXrefs_str = dbXrefs_match.group(1)\n",
    "    dbXrefs_list = dbXrefs_str.split(\"|\")\n",
    "\n",
    "    return dbXrefs_list\n",
    "\n",
    "\n",
    "def find_mesh_tree_terms(mesh_ids, file_path):\n",
    "    # Load and parse the XML file\n",
    "    tree = ET.parse(file_path)\n",
    "    root = tree.getroot()\n",
    "\n",
    "    # Create a dictionary to store tree terms for each MeSH ID\n",
    "    mesh_tree_terms_dict = {mesh_id: None for mesh_id in mesh_ids}\n",
    "\n",
    "    # Iterate through the XML to find each MeSH ID\n",
    "    for descriptor in root.findall(\".//DescriptorRecord\"):\n",
    "        descriptor_id = descriptor.find(\"./DescriptorUI\")\n",
    "        if descriptor_id is not None and descriptor_id.text in mesh_ids:\n",
    "            # Extract tree terms\n",
    "            tree_numbers = [tn.text for tn in descriptor.findall(\".//TreeNumber\")]\n",
    "            mesh_tree_terms_dict[descriptor_id.text] = tree_numbers\n",
    "\n",
    "    return mesh_tree_terms_dict\n",
    "\n",
    "\n",
    "# 2. Load Data\n",
    "# load MeSH data\n",
    "mesh_file_path\n",
    "\n",
    "\n",
    "# load DiSignAtlas data\n",
    "df_data = pd.read_csv(data_info_path)\n",
    "\n",
    "logging.info(f\"Data Shape: {df_data.shape}\")\n",
    "logging.info(\n",
    "    f\"Nº of signatures without NIH Concept ID: {df_data['diseaseid'].isnull().sum()}\"\n",
    ")\n",
    "logging.info(f\"Nº of unique diseases: {df_data['diseaseid'].nunique()}\")\n",
    "\n",
    "\n",
    "# 3. Get All External Links - Web Scraping\n",
    "if os.path.exists(external_links_output_path):\n",
    "    logging.info(f\"Loading external links from  {external_links_output_path}\")\n",
    "    with open(external_links_output_path, \"rb\") as f:\n",
    "        data = pickle.load(f)\n",
    "        dsaids = data[\"dsaids\"]\n",
    "        external_links = data[\"external_links\"]\n",
    "else:\n",
    "    logging.info(f\"Saving External Links in {external_links_output_path}\")\n",
    "    dsaids = df_data[\"dsaid\"].to_list()\n",
    "    external_links = process_map(\n",
    "        get_external_links, dsaids, chunksize=50, max_workers=48\n",
    "    )\n",
    "\n",
    "    # example of dsaids with no external links\n",
    "    for dsaid, external_link in zip(dsaids, external_links):\n",
    "        if len(external_link) == 0:\n",
    "            logging.info(dsaid)\n",
    "            break\n",
    "\n",
    "    # save external links\n",
    "    path_external_links = os.path.join()\n",
    "    with open(path_external_links, \"wb\") as f:\n",
    "        data_to_save = {\"dsaids\": dsaids, \"external_links\": external_links}\n",
    "\n",
    "        pickle.dump(data_to_save, f)\n",
    "\n",
    "logging.info(\n",
    "    f\"Nº of dsaids with no external links {len([x for x in external_links if len(x) == 0])}\"\n",
    ")"
   ]
  },
  {
   "cell_type": "code",
   "execution_count": 5,
   "metadata": {},
   "outputs": [
    {
     "name": "stderr",
     "output_type": "stream",
     "text": [
      "2024-03-27 15:35:47,772 - 93693\n",
      "10306it [00:07, 1292.25it/s]\n",
      "2024-03-27 15:35:55,752 - Nº of not found 1475/7194\n"
     ]
    }
   ],
   "source": [
    "logging.info(\n",
    "    f\"{len([element for elements in external_links for element in elements if not element.startswith('MeSH')])}\"\n",
    ")\n",
    "\n",
    "not_found = list()\n",
    "for dsaid, external_link in tqdm(zip(dsaids, external_links)):\n",
    "    if dsaid in df_data[df_data[\"organism\"] == \"Homo sapiens\"][\"dsaid\"].to_list():\n",
    "        switch = False\n",
    "        for element in external_link:\n",
    "            if element.startswith(\"MeSH\"):\n",
    "                switch = True\n",
    "        if not switch:\n",
    "            not_found.append(dsaid)\n",
    "\n",
    "\n",
    "logging.info(\n",
    "    f\"Nº of not found {len(not_found)}/{len(df_data[df_data['organism']=='Homo sapiens']['dsaid'].to_list())}\"\n",
    ")"
   ]
  },
  {
   "cell_type": "code",
   "execution_count": 6,
   "metadata": {},
   "outputs": [
    {
     "name": "stderr",
     "output_type": "stream",
     "text": [
      "2024-03-27 15:35:55,765 - Nº of signatures w/ MeSH terms 8155 / 10306\n",
      "2024-03-27 15:35:55,766 - Nº of signatures w/ >1 MeSH terms 1\n"
     ]
    }
   ],
   "source": [
    "# 4. Get MeSH tree terms\n",
    "# Filter out MeSH terms from External Links\n",
    "mesh_ids = list()\n",
    "for external_link in external_links:\n",
    "    found_terms = list()\n",
    "    for element in external_link:\n",
    "        if element.startswith(\"MeSH\"):\n",
    "            found_terms.append(element.split(\"MeSH:\")[1])\n",
    "    mesh_ids.append(found_terms)\n",
    "\n",
    "logging.info(\n",
    "    f\"Nº of signatures w/ MeSH terms {len([a for a in mesh_ids if len(a)>0])} / {len(external_links)}\"\n",
    ")\n",
    "\n",
    "logging.info(\n",
    "    f\"Nº of signatures w/ >1 MeSH terms {len([a for a in mesh_ids if len(a)>1])}\"\n",
    ")\n",
    "\n",
    "\n",
    "# get unique mesh ids\n",
    "unique_mesh_ids = list({e for elements in mesh_ids for e in elements})\n",
    "\n",
    "# Get MeSH tree symbols for each ID\n",
    "d_mesh_tree_terms = find_mesh_tree_terms(unique_mesh_ids, mesh_file_path)"
   ]
  },
  {
   "cell_type": "code",
   "execution_count": 7,
   "metadata": {},
   "outputs": [
    {
     "name": "stderr",
     "output_type": "stream",
     "text": [
      "100%|██████████| 10306/10306 [00:00<00:00, 1399731.14it/s]\n",
      "2024-03-27 15:36:10,903 - Nº of singnatures w/ MeSH tree terms 7790 / 10306\n"
     ]
    }
   ],
   "source": [
    "# mesh tree terms for each dsaid\n",
    "mesh_tree_terms = list()\n",
    "for mesh_ids_sublist in tqdm(mesh_ids):\n",
    "    _terms = list()\n",
    "    for mesh_id in mesh_ids_sublist:\n",
    "        if type(d_mesh_tree_terms.get(mesh_id)) is list:\n",
    "            _terms.extend(d_mesh_tree_terms.get(mesh_id))\n",
    "\n",
    "    mesh_tree_terms.append(_terms)\n",
    "\n",
    "logging.info(\n",
    "    f\"Nº of singnatures w/ MeSH tree terms {len([a for a in mesh_tree_terms if len(a)>0])} / {len(mesh_tree_terms)}\"\n",
    ")"
   ]
  },
  {
   "cell_type": "code",
   "execution_count": 8,
   "metadata": {},
   "outputs": [
    {
     "name": "stderr",
     "output_type": "stream",
     "text": [
      "100%|██████████| 10306/10306 [00:07<00:00, 1305.78it/s]\n",
      "2024-03-27 15:36:18,803 - Nº of not found 1755/7194\n",
      "2024-03-27 15:36:18,804 - Nº of found 5439/7194\n"
     ]
    }
   ],
   "source": [
    "not_found = list()\n",
    "found = list()\n",
    "for dsaid, mesh_tree_terms_sublist in tqdm(\n",
    "    zip(dsaids, mesh_tree_terms), total=len(dsaids)\n",
    "):\n",
    "    if dsaid in df_data[df_data[\"organism\"] == \"Homo sapiens\"][\"dsaid\"].to_list():\n",
    "        switch = False\n",
    "        if len(mesh_tree_terms_sublist) < 1:\n",
    "            not_found.append(dsaid)\n",
    "        else:\n",
    "            found.append(dsaid)\n",
    "\n",
    "\n",
    "logging.info(\n",
    "    f\"Nº of not found {len(not_found)}/{len(df_data[df_data['organism']=='Homo sapiens']['dsaid'].to_list())}\"\n",
    ")\n",
    "\n",
    "logging.info(\n",
    "    f\"Nº of found {len(found)}/{len(df_data[df_data['organism']=='Homo sapiens']['dsaid'].to_list())}\"\n",
    ")"
   ]
  },
  {
   "cell_type": "code",
   "execution_count": 9,
   "metadata": {},
   "outputs": [
    {
     "name": "stderr",
     "output_type": "stream",
     "text": [
      "2024-03-27 15:36:18,809 - File exists ../data/DiSignAtlas/mesh_tree_terms.pkl\n"
     ]
    }
   ],
   "source": [
    "if os.path.exists(mesh_tree_terms_output_path):\n",
    "    logging.info(f\"File exists {mesh_tree_terms_output_path}\")\n",
    "    with open(mesh_tree_terms_output_path, \"rb\") as f:\n",
    "        data = pickle.load(f)\n",
    "        mesh_tree_terms = data.get(\"mesh_tree_terms\")\n",
    "        mesh_dsaids = data.get(\"dsaids\")\n",
    "        mesh_ids = data.get(\"mesh_ids\")\n",
    "        dsaids_2_mesh_tree_terms = {k: v for k, v in zip(mesh_dsaids, mesh_tree_terms)}\n",
    "        dsaids_2_mesh_ids = {k: v for k, v in zip(mesh_dsaids, mesh_ids)}\n",
    "else:\n",
    "    logging.info(f\"Saving data to {mesh_tree_terms_output_path}\")\n",
    "    data = {\"dsaids\": dsaids, \"mesh_tree_terms\": mesh_tree_terms, \"mesh_ids\": mesh_ids}\n",
    "    with open(mesh_tree_terms_output_path, \"wb\") as f:\n",
    "        pickle.dump(data, f)"
   ]
  },
  {
   "cell_type": "markdown",
   "metadata": {},
   "source": [
    "## 2. Get MESH terms through DO DiSignAtlas"
   ]
  },
  {
   "cell_type": "markdown",
   "metadata": {},
   "source": [
    "## Tests"
   ]
  },
  {
   "cell_type": "code",
   "execution_count": null,
   "metadata": {},
   "outputs": [],
   "source": [
    "# def get_medgen_id(disease_id):\n",
    "#     \"\"\"Get Medgen ID\n",
    "#     Args:\n",
    "#         disease_id (str): Disease ID\n",
    "#     Returns:\n",
    "#         medgen_id (str): MedGen ID\n",
    "#     \"\"\"\n",
    "\n",
    "#     url = f\"http://eutils.ncbi.nlm.nih.gov/entrez/eutils/esearch.fcgi?\"\n",
    "#     params = {\"db\": \"medgen\", \"term\": disease_id, \"retmode\": \"json\"}\n",
    "#     response = requests.get(url, params=params)\n",
    "#     data = response.json()\n",
    "#     medgen_ids = data[\"esearchresult\"][\"idlist\"]\n",
    "#     assert (\n",
    "#         len(medgen_ids) == 1\n",
    "#     ), f\"For {disease_id} more than one MedGen ID found: {medgen_ids}\"\n",
    "#     return medgen_ids[0]\n",
    "\n",
    "\n",
    "# def get_mesh_terms_from_medgen_id(medgen_id):\n",
    "#     \"\"\"Get Medgen ID\n",
    "#     Args:\n",
    "#         medgen_id (str): Disease ID\n",
    "#     Returns:\n",
    "#         mesh_terms (list): List of MESH terms\n",
    "#     \"\"\"\n",
    "\n",
    "#     url = f\"http://eutils.ncbi.nlm.nih.gov/entrez/eutils/esummary.fcgi?\"\n",
    "#     params = {\"db\": \"medgen\", \"id\": medgen_id, \"retmode\": \"json\"}\n",
    "#     response = requests.get(url, params=params)\n",
    "#     data = response.json()\n",
    "#     return data\n",
    "#     medgen_ids = data[\"esearchresult\"][\"idlist\"]\n",
    "#     assert (\n",
    "#         len(medgen_ids) == 1\n",
    "#     ), f\"For {disease_id} more than one MedGen ID found: {medgen_ids}\"\n",
    "#     return medgen_ids[0]\n",
    "\n",
    "\n",
    "# id = get_medgen_id(\"C0002395\")\n",
    "# print(id)\n",
    "# d = get_mesh_terms_from_medgen_id(id)\n",
    "\n",
    "# from xml.etree import ElementTree as ET\n",
    "# import html\n",
    "\n",
    "# # The conceptmeta XML-like string, slightly truncated for brevity in explanation\n",
    "# encoded_conceptmeta = d[\"result\"][\"1853\"][\"conceptmeta\"]\n",
    "\n",
    "# # Decode HTML entities and ASCII encodings to convert them back to XML tags and characters\n",
    "# decoded_conceptmeta = html.unescape(encoded_conceptmeta[:5493])\n",
    "\n",
    "# # Now, you can parse the XML\n",
    "# root = ET.fromstring(decoded_conceptmeta)\n",
    "\n",
    "# # Extract MeSH terms using the previously mentioned method\n",
    "# mesh_terms = [name.text for name in root.findall(\".//Name[@SAB='MSH']\")]\n",
    "\n",
    "# for term in mesh_terms:\n",
    "#     print(term)"
   ]
  }
 ],
 "metadata": {
  "kernelspec": {
   "display_name": "disease_sig",
   "language": "python",
   "name": "python3"
  },
  "language_info": {
   "codemirror_mode": {
    "name": "ipython",
    "version": 3
   },
   "file_extension": ".py",
   "mimetype": "text/x-python",
   "name": "python",
   "nbconvert_exporter": "python",
   "pygments_lexer": "ipython3",
   "version": "3.10.13"
  }
 },
 "nbformat": 4,
 "nbformat_minor": 2
}
